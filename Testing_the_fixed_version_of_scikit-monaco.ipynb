{
  "nbformat": 4,
  "nbformat_minor": 0,
  "metadata": {
    "colab": {
      "provenance": []
    },
    "kernelspec": {
      "name": "python3",
      "display_name": "Python 3"
    },
    "language_info": {
      "name": "python"
    }
  },
  "cells": [
    {
      "cell_type": "markdown",
      "source": [
        "# Testing the fixed version of scikit-monaco\n",
        "\n",
        "## Testing the old version (it should fail)\n",
        "As a student of mine pointed it, my old scikit-monaco module is broken: its installation fails.\n",
        "See this ticket issue I opened on the 8th of April 2025: <https://github.com/scikit-monaco/scikit-monaco/issues/16>"
      ],
      "metadata": {
        "id": "1AJYuhyaLb-X"
      }
    },
    {
      "cell_type": "code",
      "source": [
        "!pip uninstall --yes scikit-monaco\n",
        "!pip install scikit-monaco"
      ],
      "metadata": {
        "colab": {
          "base_uri": "https://localhost:8080/"
        },
        "id": "oi3N6aaNMHJ9",
        "outputId": "13c59b4a-22c5-40bc-9863-1b740c59b1f5"
      },
      "execution_count": 2,
      "outputs": [
        {
          "output_type": "stream",
          "name": "stdout",
          "text": [
            "Found existing installation: scikit-monaco 0.3.1\n",
            "Uninstalling scikit-monaco-0.3.1:\n",
            "  Successfully uninstalled scikit-monaco-0.3.1\n",
            "Collecting scikit-monaco\n",
            "  Using cached scikit-monaco-0.2.1.tar.gz (597 kB)\n",
            "  \u001b[1;31merror\u001b[0m: \u001b[1msubprocess-exited-with-error\u001b[0m\n",
            "  \n",
            "  \u001b[31m×\u001b[0m \u001b[32mpython setup.py egg_info\u001b[0m did not run successfully.\n",
            "  \u001b[31m│\u001b[0m exit code: \u001b[1;36m1\u001b[0m\n",
            "  \u001b[31m╰─>\u001b[0m See above for output.\n",
            "  \n",
            "  \u001b[1;35mnote\u001b[0m: This error originates from a subprocess, and is likely not a problem with pip.\n",
            "  Preparing metadata (setup.py) ... \u001b[?25l\u001b[?25herror\n",
            "\u001b[1;31merror\u001b[0m: \u001b[1mmetadata-generation-failed\u001b[0m\n",
            "\n",
            "\u001b[31m×\u001b[0m Encountered error while generating package metadata.\n",
            "\u001b[31m╰─>\u001b[0m See above for output.\n",
            "\n",
            "\u001b[1;35mnote\u001b[0m: This is an issue with the package mentioned above, not pip.\n",
            "\u001b[1;36mhint\u001b[0m: See above for details.\n"
          ]
        }
      ]
    },
    {
      "cell_type": "markdown",
      "source": [
        "It fails, as expected."
      ],
      "metadata": {
        "id": "IzDmxUUOM4dO"
      }
    },
    {
      "cell_type": "markdown",
      "source": [
        "## Importing the latest development version of scikit-monaco"
      ],
      "metadata": {
        "id": "TkmCSqRYLXYW"
      }
    },
    {
      "cell_type": "code",
      "source": [
        "!git clone https://github.com/Naereen/scikit-monaco\n",
        "!cd scikit-monaco && git status\n",
        "!cd scikit-monaco && git restore skmonaco/_*.c\n",
        "!cd scikit-monaco && git pull && git log | head\n",
        "!ls -larth scikit-monaco/\n",
        "!cd scikit-monaco/ && pip install --upgrade ."
      ],
      "metadata": {
        "colab": {
          "base_uri": "https://localhost:8080/"
        },
        "id": "EthJ_cxlRIgx",
        "outputId": "15a3b05e-fa94-4ab7-e915-c5c1f3cae411"
      },
      "execution_count": 23,
      "outputs": [
        {
          "output_type": "stream",
          "name": "stdout",
          "text": [
            "fatal: destination path 'scikit-monaco' already exists and is not an empty directory.\n",
            "On branch master\n",
            "Your branch is behind 'origin/master' by 1 commit, and can be fast-forwarded.\n",
            "  (use \"git pull\" to update your local branch)\n",
            "\n",
            "Changes not staged for commit:\n",
            "  (use \"git add <file>...\" to update what will be committed)\n",
            "  (use \"git restore <file>...\" to discard changes in working directory)\n",
            "\t\u001b[31mmodified:   skmonaco/_core.c\u001b[m\n",
            "\t\u001b[31mmodified:   skmonaco/_mc.c\u001b[m\n",
            "\n",
            "no changes added to commit (use \"git add\" and/or \"git commit -a\")\n",
            "Updating cb08196..1de7c4c\n",
            "Fast-forward\n",
            " skmonaco/_core.c    | 576 \u001b[32m+++++++++++++++++++++\u001b[m\u001b[31m---------------------\u001b[m\n",
            " skmonaco/_mc.c      | 990 \u001b[32m++++++++++++++++++++++++++++++++++++\u001b[m\u001b[31m------------------------------------\u001b[m\n",
            " skmonaco/_mc.pyx    |   9 \u001b[32m+\u001b[m\u001b[31m-\u001b[m\n",
            " skmonaco/_miser.c   | 946 \u001b[32m++++++++++++++++++++++++++++++++++\u001b[m\u001b[31m----------------------------------\u001b[m\n",
            " skmonaco/_miser.pyx |   9 \u001b[32m+\u001b[m\u001b[31m-\u001b[m\n",
            " 5 files changed, 1266 insertions(+), 1264 deletions(-)\n",
            "fatal: unrecognized argument: --head\n",
            "total 88K\n",
            "drwxr-xr-x 1 root root 4.0K Apr  8 16:38 ..\n",
            "-rw-r--r-- 1 root root  405 Apr  8 16:38 MANIFEST.in\n",
            "-rw-r--r-- 1 root root 1.6K Apr  8 16:38 LICENSE.txt\n",
            "drwxr-xr-x 3 root root 4.0K Apr  8 16:38 doc\n",
            "-rw-r--r-- 1 root root 3.4K Apr  8 16:38 CONTRIBUTING.rst\n",
            "-rw-r--r-- 1 root root  13K Apr  8 16:38 runtests.py\n",
            "-rw-r--r-- 1 root root  116 Apr  8 16:38 requirements.txt\n",
            "-rw-r--r-- 1 root root 1.3K Apr  8 16:38 tox.ini\n",
            "drwxr-xr-x 2 root root 4.0K Apr  8 16:38 testing-post-installation\n",
            "drwxr-xr-x 2 root root 4.0K Apr  8 16:39 scikit_monaco.egg-info\n",
            "drwxr-xr-x 5 root root 4.0K Apr  8 16:40 build\n",
            "-rw-r--r-- 1 root root 6.9K Apr  8 18:08 setup.py\n",
            "-rw-r--r-- 1 root root 1.9K Apr  8 18:08 pyproject.toml\n",
            "-rw-r--r-- 1 root root  119 Apr  8 18:08 .gitignore\n",
            "drwxr-xr-x 8 root root 4.0K Apr  8 18:08 .\n",
            "-rw-r--r-- 1 root root 1.9K Apr  8 18:11 README.rst\n",
            "drwxr-xr-x 4 root root 4.0K Apr  8 18:18 skmonaco\n",
            "drwxr-xr-x 8 root root 4.0K Apr  8 18:18 .git\n",
            "Processing /content/scikit-monaco\n",
            "  Installing build dependencies ... \u001b[?25l\u001b[?25hdone\n",
            "  Getting requirements to build wheel ... \u001b[?25l\u001b[?25hdone\n",
            "  Preparing metadata (pyproject.toml) ... \u001b[?25l\u001b[?25hdone\n",
            "Requirement already satisfied: setuptools in /usr/local/lib/python3.11/dist-packages (from scikit-monaco==0.3.1) (75.2.0)\n",
            "Requirement already satisfied: wheel in /usr/local/lib/python3.11/dist-packages (from scikit-monaco==0.3.1) (0.45.1)\n",
            "Requirement already satisfied: numpy in /usr/local/lib/python3.11/dist-packages (from scikit-monaco==0.3.1) (2.0.2)\n",
            "Requirement already satisfied: cython in /usr/local/lib/python3.11/dist-packages (from scikit-monaco==0.3.1) (3.0.12)\n",
            "Building wheels for collected packages: scikit-monaco\n",
            "  Building wheel for scikit-monaco (pyproject.toml) ... \u001b[?25l\u001b[?25hdone\n",
            "  Created wheel for scikit-monaco: filename=scikit_monaco-0.3.1-cp311-cp311-linux_x86_64.whl size=1868180 sha256=ea08fab08c64c5c74faa5dbe98685a627f9f9097879689fcc05ba5c11505b262\n",
            "  Stored in directory: /root/.cache/pip/wheels/0a/02/46/0e724405ab49a44609ded46b2135d32dc9c29ec8cf42124793\n",
            "Successfully built scikit-monaco\n",
            "Installing collected packages: scikit-monaco\n",
            "Successfully installed scikit-monaco-0.3.1\n"
          ]
        }
      ]
    },
    {
      "cell_type": "markdown",
      "source": [
        "If the command above fails, try this one:"
      ],
      "metadata": {
        "id": "7oPJRoTcoA_I"
      }
    },
    {
      "cell_type": "code",
      "source": [
        "!pip uninstall --yes scikit-monaco\n",
        "# Right now, test it with my fork\n",
        "!pip install --upgrade git+https://github.com/Naereen/scikit-monaco\n",
        "\n",
        "# Test it after with the \"real\" live version living on\n",
        "# !pip install git+https://github.com/scikit-monaco/scikit-monaco"
      ],
      "metadata": {
        "colab": {
          "base_uri": "https://localhost:8080/"
        },
        "id": "p_pmrobjLfVN",
        "outputId": "aaa46cde-64be-42d3-c43d-8e4dd960a6ea"
      },
      "execution_count": 3,
      "outputs": [
        {
          "output_type": "stream",
          "name": "stdout",
          "text": [
            "\u001b[33mWARNING: Skipping scikit-monaco as it is not installed.\u001b[0m\u001b[33m\n",
            "\u001b[0mCollecting git+https://github.com/Naereen/scikit-monaco\n",
            "  Cloning https://github.com/Naereen/scikit-monaco to /tmp/pip-req-build-l5zb25lr\n",
            "  Running command git clone --filter=blob:none --quiet https://github.com/Naereen/scikit-monaco /tmp/pip-req-build-l5zb25lr\n",
            "  Resolved https://github.com/Naereen/scikit-monaco to commit 1de7c4cd9c75fd8da61b14837c8737cb63694720\n",
            "  Installing build dependencies ... \u001b[?25l\u001b[?25hdone\n",
            "  Getting requirements to build wheel ... \u001b[?25l\u001b[?25hdone\n",
            "  Preparing metadata (pyproject.toml) ... \u001b[?25l\u001b[?25hdone\n",
            "Requirement already satisfied: setuptools in /usr/local/lib/python3.11/dist-packages (from scikit-monaco==0.3.1) (75.2.0)\n",
            "Requirement already satisfied: wheel in /usr/local/lib/python3.11/dist-packages (from scikit-monaco==0.3.1) (0.45.1)\n",
            "Requirement already satisfied: numpy in /usr/local/lib/python3.11/dist-packages (from scikit-monaco==0.3.1) (2.0.2)\n",
            "Requirement already satisfied: cython in /usr/local/lib/python3.11/dist-packages (from scikit-monaco==0.3.1) (3.0.12)\n",
            "Building wheels for collected packages: scikit-monaco\n",
            "  Building wheel for scikit-monaco (pyproject.toml) ... \u001b[?25l\u001b[?25hdone\n",
            "  Created wheel for scikit-monaco: filename=scikit_monaco-0.3.1-cp311-cp311-linux_x86_64.whl size=1102064 sha256=42efc21318624a42c469e4a256c6629bc7e89ab8b1ed38659288dbe9d984faa3\n",
            "  Stored in directory: /tmp/pip-ephem-wheel-cache-dx4_h3or/wheels/b1/be/50/94afec7095f7faa1795205939c8fcb9dfb55f5446f9668ea73\n",
            "Successfully built scikit-monaco\n",
            "Installing collected packages: scikit-monaco\n",
            "Successfully installed scikit-monaco-0.3.1\n"
          ]
        }
      ]
    },
    {
      "cell_type": "markdown",
      "source": [
        "The installation seems to have worked fine!"
      ],
      "metadata": {
        "id": "pmJ1aHTLO7FT"
      }
    },
    {
      "cell_type": "markdown",
      "source": [
        "## A small example to check the correct installation\n",
        "This example shows how to use the mcquad function to perform Monte Carlo integration in Python.\n",
        "It integrates the function $(x,y,z)\\mapsto \\sqrt(x^2 + y^2 + z^2)$ over the unit cube $[0,1]^3$ using 1 million points.\n",
        "\n",
        "- The function [`skmonaco.mcquad`](https://scikit-monaco.readthedocs.io/en/latest/api.html#skmonaco.mcquad) is imported from the skmonaco module (scikit-monaco).\n",
        "- The function mcquad takes a function to integrate, the number of points to use for the integration, and the lower and upper bounds of the integration region as arguments.\n",
        "- It returns the result of the integration and an estimate of the error.\n",
        "- The function to integrate is defined as a lambda function that takes a list of points as input and returns the value of the function at those points.\n",
        "- The lower and upper bounds of the integration region are defined as lists of the lower and upper bounds for each dimension.\n",
        "- The result of the integration is printed to the console, along with the estimated error."
      ],
      "metadata": {
        "id": "vTJrPvPjLfAY"
      }
    },
    {
      "cell_type": "code",
      "execution_count": 4,
      "metadata": {
        "colab": {
          "base_uri": "https://localhost:8080/"
        },
        "id": "9NDcxDQLLGXA",
        "outputId": "da617e95-928d-44bd-e69d-67e776afac9f"
      },
      "outputs": [
        {
          "output_type": "stream",
          "name": "stdout",
          "text": [
            "Importing scikit-monaco (skmonaco)...\n",
            "Computing an example of a 3D integral (hyper volume)...\n",
            "0.9601862865812575 +/- 0.00027782979828638865\n"
          ]
        }
      ],
      "source": [
        "from math import sqrt\n",
        "\n",
        "print(\"Importing scikit-monaco (skmonaco)...\")\n",
        "from skmonaco import mcquad\n",
        "\n",
        "print(\"Computing an example of a 3D integral (hyper volume)...\")\n",
        "result, error = mcquad(\n",
        "    lambda xs: sqrt(xs[0]**2 + xs[1]**2 + xs[2]**2),\n",
        "    npoints=1e6, xl=[0.,0.,0.], xu=[1.,1.,1.]\n",
        ")\n",
        "print(\"{} +/- {}\".format(result, error))"
      ]
    },
    {
      "cell_type": "markdown",
      "source": [
        "It should print something like\n",
        "\n",
        "    0.9605388507388001 +/- 0.00027802686984752155"
      ],
      "metadata": {
        "id": "jcA1-HZrP9Gp"
      }
    },
    {
      "cell_type": "code",
      "source": [],
      "metadata": {
        "id": "b4dhOphBO13s"
      },
      "execution_count": null,
      "outputs": []
    }
  ]
}