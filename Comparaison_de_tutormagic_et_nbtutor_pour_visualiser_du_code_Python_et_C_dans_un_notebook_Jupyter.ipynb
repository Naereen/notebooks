{
 "cells": [
  {
   "cell_type": "markdown",
   "metadata": {
    "slideshow": {
     "slide_type": "slide"
    }
   },
   "source": [
    "# Comparaison de tutormagic et nbtutor pour visualiser du code Python et C dans un notebook Jupyter\n",
    "\n",
    "Je viens de découvrir ces deux projets très chousettes : [tutormagic](https://github.com/kikocorreoso/tutormagic/) et [nbtutor](https://github.com/lgpage/nbtutor), tous les deux lias bres, gratuits, en Python, et proposant d'intégrer des visualisations intéractives, venant ou inspirées du merveilleux [PythonTutor.com](http://pythontutor.com/)."
   ]
  },
  {
   "cell_type": "markdown",
   "metadata": {
    "slideshow": {
     "slide_type": "slide"
    }
   },
   "source": [
    "### But : je souhaite savoir laquelle des deux extensions est la meilleure, et pour quels usages\n",
    "\n",
    "- Peut-on utiliser l'un des deux en mode offline (sans une *iframe* vers PythonTutor) ? Je pense que non pour tutormagic, je pense que oui pour nbtutor.\n",
    "\n",
    "- Est-ce que ça marche bien pour tous les types de Python de base : booléens/entiers/flottants, chaînes, objets, nombres complexes, tableau/`list`, dictionnaire/ensemble ? Probablement ! Réponse : oui !\n",
    "\n",
    "- Et avec des tableaux numpy ? Probablement !. Réponse : oui pour `tutormagic` avec ma nouvelle version qui ajoute le mode \"py3anaconda\" (à voir si [cette PR](https://github.com/kikocorreoso/tutormagic/pull/11) est acceptée !)"
   ]
  },
  {
   "cell_type": "markdown",
   "metadata": {
    "slideshow": {
     "slide_type": "subslide"
    }
   },
   "source": [
    "- Et avec matplotlib ? Probablement pas. Réponse : avec `tutormagic` peut-être, tant qu'on ne génère pas de figure... avec `nbtutor` apparemment oui.\n",
    "- Et avec *truc ésotérique* ? Probablement pas.. Réponse : probablement non ! Mais `tutormagic` en mode \"py3anaconda\" [supporte plein de modules scientifiques](https://docs.anaconda.com/anaconda/packages/old-pkg-lists/5.2.0/py2.7_linux-32/) puisque Anaconda 5.2 supporte plein de trucs : scipy, sympa, scikit-learn, et j'en passe !"
   ]
  },
  {
   "cell_type": "markdown",
   "metadata": {
    "slideshow": {
     "slide_type": "slide"
    }
   },
   "source": [
    "### Attention ? Projets pas récents !\n",
    "\n",
    "Jupyter a beaucoup changé ces dernières anneés, entre 2018 et 2021..\n",
    "\n",
    "Mais ave jupyter classique, normalement ça va les \"vieilles\" extensions fonctionnent encore.\n",
    "Jupyter Lab, c'est une autre histoire !\n",
    "\n",
    "- [tutormagic](https://github.com/kikocorreoso/tutormagic/) n'a pas été mis à jour depuis 2017, probablement plus très fiable ! Et pas de documentation Sphinx sur ReadTheDocs, ça sent le projet assez expérimental. Mais c'est distribué proprement sur `pip`, et s'installe en une commande !\n",
    "- [nbtutor](https://github.com/lgpage/nbtutor) n'a pas été mis à jour depuis 2016, probablement plus très fiable ?"
   ]
  },
  {
   "cell_type": "markdown",
   "metadata": {
    "slideshow": {
     "slide_type": "slide"
    }
   },
   "source": [
    "### A propos de ce document\n",
    "\n",
    "- C'est un [notebook Jupyter](https://jupyter.org/), écrit en [Python 3](https://www.python.org/) (mais j'expérimente avec le [Kernel C](https://github.com/brendan-rius/jupyter-c-kernel) plus bas) ;\n",
    "- Auteur : [Lilian Besson](https://github.com/Naereen/notebooks) ;\n",
    "- Date : 21/02/2021 ;\n",
    "- License : [MIT](https://lbesson.mit-license.org/)."
   ]
  },
  {
   "cell_type": "markdown",
   "metadata": {
    "slideshow": {
     "slide_type": "slide"
    }
   },
   "source": [
    "## Dépendances\n",
    "\n",
    "Dans mon installation de Python 3, j'ai installé les deux paquets `tutormagic` et `nbtutor`\n",
    "\n",
    "Où installer ?\n",
    "- dans l'installation globale avec `sudo pip install` ;\n",
    "- ou dans une installation locale dans un virtualenv ou pyenv ou autre, avec `pip install` (ou avec `conda install` mais pas testé)."
   ]
  },
  {
   "cell_type": "code",
   "execution_count": 1,
   "metadata": {
    "ExecuteTime": {
     "end_time": "2021-02-21T00:30:12.725034Z",
     "start_time": "2021-02-21T00:30:12.664624Z"
    },
    "slideshow": {
     "slide_type": "subslide"
    }
   },
   "outputs": [
    {
     "name": "stdout",
     "output_type": "stream",
     "text": [
      "Démonstration (pas exécutée)\n"
     ]
    }
   ],
   "source": [
    "%%bash\n",
    "echo \"Démonstration (pas exécutée)\"\n",
    "exit 0  # enlevez ça pour refaire ça chez vous\n",
    "\n",
    "# tapez ça dans votre terminal\n",
    "pip install tutormagic nbtutor\n",
    "# si ça marche pas, rajoutez sudo\n",
    "sudo pip install tutormagic nbtutor\n",
    "\n",
    "# il faut manuellement installer et activer nbtutor\n",
    "jupyter nbextension install --overwrite --py nbtutor\n",
    "jupyter nbextension enable --py nbtutor"
   ]
  },
  {
   "cell_type": "markdown",
   "metadata": {
    "slideshow": {
     "slide_type": "subslide"
    }
   },
   "source": [
    "Et donc ce notebook peut déclarer ses dépendances :"
   ]
  },
  {
   "cell_type": "code",
   "execution_count": 5,
   "metadata": {
    "ExecuteTime": {
     "end_time": "2021-02-21T01:55:19.036061Z",
     "start_time": "2021-02-21T01:55:18.864081Z"
    }
   },
   "outputs": [],
   "source": [
    "%load_ext watermark"
   ]
  },
  {
   "cell_type": "code",
   "execution_count": 6,
   "metadata": {
    "ExecuteTime": {
     "end_time": "2021-02-21T01:55:19.652188Z",
     "start_time": "2021-02-21T01:55:19.592706Z"
    }
   },
   "outputs": [
    {
     "name": "stdout",
     "output_type": "stream",
     "text": [
      "Lilian Besson (Naereen) \n",
      "\n",
      "tutormagic 0.3.0\n",
      "nbtutor 1.0.4\n",
      "numpy 1.19.2\n",
      "matplotlib 3.3.2\n"
     ]
    }
   ],
   "source": [
    "watermark -a \"Lilian Besson (Naereen)\" -p tutormagic,nbtutor,numpy,matplotlib"
   ]
  },
  {
   "cell_type": "markdown",
   "metadata": {
    "ExecuteTime": {
     "end_time": "2021-02-20T21:46:42.863870Z",
     "start_time": "2021-02-20T21:46:42.856247Z"
    },
    "slideshow": {
     "slide_type": "slide"
    }
   },
   "source": [
    "## Première comparaison"
   ]
  },
  {
   "cell_type": "code",
   "execution_count": 4,
   "metadata": {
    "ExecuteTime": {
     "end_time": "2021-02-21T00:30:14.771680Z",
     "start_time": "2021-02-21T00:30:14.767023Z"
    },
    "slideshow": {
     "slide_type": "-"
    }
   },
   "outputs": [
    {
     "name": "stdout",
     "output_type": "stream",
     "text": [
      "Démo de jupyter notebook\n",
      "Somme des 10 premiers cubes = 2025\n"
     ]
    }
   ],
   "source": [
    "test = \"Démo de jupyter notebook\"\n",
    "print(test)\n",
    "\n",
    "somme = 0\n",
    "MAX_I = 10\n",
    "for i in range(1, MAX_I):\n",
    "    somme += i**3\n",
    "print(f\"Somme des {MAX_I} premiers cubes = {somme}\")"
   ]
  },
  {
   "cell_type": "markdown",
   "metadata": {
    "slideshow": {
     "slide_type": "subslide"
    }
   },
   "source": [
    "### Un petit programme à tester avec les deux interfaces\n",
    "\n",
    "Je vais emprunter le petit problème arithmético-algorithmique suivant, posé à mes élèves au début de février 2021 :\n",
    "\n",
    "> Mini challenge algorithmique pour les passionnés en manque de petits exercices de code : (optionnel) Vous avez dû observer que ce mois de février est spécial parce que le 1er février est un lundi, et qu'il a exactement 4 lundis, 4 mardis, 4 mercredis, 4 jeudis, 4 vendredis, 4 samedis et 4 dimanches.\n",
    ">\n",
    "> Question : Comptez le nombre de mois de février répondant à ce critère (je n'ai pas trouvé de nom précis), depuis l'année de création de l'ENS Rennes (1994, enfin pour Cachan antenne Bretagne) jusqu'à 2077 (1994 et 2077 inclus).\n",
    "\n",
    "\n",
    "Pour plus d'informations, cf [ce notebook](https://perso.crans.org/besson/notebooks/F%c3%a9vrier%202021%20un%20mini%20challenge%20arithm%c3%a9tico-algorithmique.html#R%C3%A9ponse-en-Python-(par-Lilian-Besson)) (aussi sur GitHub et nbviewer)."
   ]
  },
  {
   "cell_type": "markdown",
   "metadata": {
    "slideshow": {
     "slide_type": "subslide"
    }
   },
   "source": [
    "Avec le module calendar on pourrait faire comme en Bash : imprimer les calendriers, et rechercher des chaînes particulières... mais ce n'est pas très propre. Essayons avec ce même module mais en écrivant une solution fonctionnelle !"
   ]
  },
  {
   "cell_type": "code",
   "execution_count": 7,
   "metadata": {
    "ExecuteTime": {
     "end_time": "2021-02-21T01:55:27.487957Z",
     "start_time": "2021-02-21T01:55:27.479126Z"
    }
   },
   "outputs": [
    {
     "data": {
      "text/plain": [
       "(False, True, False)"
      ]
     },
     "execution_count": 7,
     "metadata": {},
     "output_type": "execute_result"
    }
   ],
   "source": [
    "import calendar\n",
    "\n",
    "def filter_annee(annee):\n",
    "    return (\n",
    "        set(calendar.Calendar(annee).itermonthdays2(annee, 2))\n",
    "        & {(1,0), (28, 6), (29, 0)}\n",
    "    ) == {(1, 0), (28, 6)}\n",
    "\n",
    "filter_annee(2020), filter_annee(2021), filter_annee(2022)"
   ]
  },
  {
   "cell_type": "markdown",
   "metadata": {
    "slideshow": {
     "slide_type": "subslide"
    }
   },
   "source": [
    "C'est un bon exemple car il utilise des listes, des ensembles etc.\n",
    "Peut-être restreindre le nombre d'année considérées, pour simplifier ?\n",
    "\n",
    "Et donc on a juste à compter les années, de 1994 à 2077 inclus, qui ne sont pas des années bissextiles et qui satisfont le filtre :"
   ]
  },
  {
   "cell_type": "code",
   "execution_count": 8,
   "metadata": {
    "ExecuteTime": {
     "end_time": "2021-02-21T01:55:28.788844Z",
     "start_time": "2021-02-21T01:55:28.776770Z"
    }
   },
   "outputs": [
    {
     "name": "stdout",
     "output_type": "stream",
     "text": [
      "CPU times: user 1.16 ms, sys: 696 µs, total: 1.85 ms\n",
      "Wall time: 1.87 ms\n"
     ]
    },
    {
     "data": {
      "text/plain": [
       "9"
      ]
     },
     "execution_count": 8,
     "metadata": {},
     "output_type": "execute_result"
    }
   ],
   "source": [
    "%%time\n",
    "len(list(filter(filter_annee, ( annee\n",
    "        for annee in range(1994, 2077 + 1)\n",
    "        # if not calendar.isleap(annee) # en fait c'est inutile\n",
    "    )\n",
    ")))"
   ]
  },
  {
   "cell_type": "markdown",
   "metadata": {
    "slideshow": {
     "slide_type": "slide"
    }
   },
   "source": [
    "### Avec `tutormagic`\n",
    "\n",
    "Je suis le tutoriel présent [sur la documentation](https://github.com/kikocorreoso/tutormagic/)."
   ]
  },
  {
   "cell_type": "code",
   "execution_count": 9,
   "metadata": {
    "ExecuteTime": {
     "end_time": "2021-02-21T01:55:30.297096Z",
     "start_time": "2021-02-21T01:55:30.291178Z"
    }
   },
   "outputs": [
    {
     "name": "stdout",
     "output_type": "stream",
     "text": [
      "The tutormagic extension is already loaded. To reload it, use:\n",
      "  %reload_ext tutormagic\n"
     ]
    }
   ],
   "source": [
    "%load_ext tutormagic"
   ]
  },
  {
   "cell_type": "code",
   "execution_count": 10,
   "metadata": {
    "ExecuteTime": {
     "end_time": "2021-02-21T01:55:31.940422Z",
     "start_time": "2021-02-21T01:55:31.933230Z"
    },
    "code_folding": [
     0
    ],
    "scrolled": false,
    "slideshow": {
     "slide_type": "subslide"
    }
   },
   "outputs": [
    {
     "data": {
      "text/html": [
       "\n",
       "        <iframe\n",
       "            width=\"100%\"\n",
       "            height=\"500\"\n",
       "            src=\"http://pythontutor.com/iframe-embed.html#code=%0AURL%20%3D%20%22http%3A//PythonTutor.com%22%0Atest%20%3D%20%22D%C3%A9mo%20de%20tutormagic%22%0Aexplication%20%3D%20f%22avec%20un%20iframe%20vers%20%7BURL%7D%22%0Aprint%28test%2C%20explication%29%0A%0Asomme%20%3D%200%0AMAX_I%20%3D%2010%0Afor%20i%20in%20range%281%2C%20MAX_I%29%3A%0A%20%20%20%20somme%20%2B%3D%20i%2A%2A3%0Aprint%28f%22Somme%20des%20%7BMAX_I%7D%20premiers%20cubes%20%3D%20%7Bsomme%7D%22%29%0A&origin=opt-frontend.js&cumulative=false&heapPrimitives=false&textReferences=false&curInstr=0&&verticalStack=false&py=3&rawInputLstJSON=%5B%5D&codeDivWidth=50%25&codeDivHeight=100%25\"\n",
       "            frameborder=\"0\"\n",
       "            allowfullscreen\n",
       "        ></iframe>\n",
       "        "
      ],
      "text/plain": [
       "<IPython.lib.display.IFrame at 0x7f337c199400>"
      ]
     },
     "metadata": {},
     "output_type": "display_data"
    }
   ],
   "source": [
    "%%tutor --lang python3 --height 500\n",
    "\n",
    "URL = \"http://PythonTutor.com\"\n",
    "test = \"Démo de tutormagic\"\n",
    "explication = f\"avec un iframe vers {URL}\"\n",
    "print(test, explication)\n",
    "\n",
    "somme = 0\n",
    "MAX_I = 10\n",
    "for i in range(1, MAX_I):\n",
    "    somme += i**3\n",
    "print(f\"Somme des {MAX_I} premiers cubes = {somme}\")"
   ]
  },
  {
   "cell_type": "markdown",
   "metadata": {},
   "source": [
    "Ca marche bien pour ce petit exemple !"
   ]
  },
  {
   "cell_type": "markdown",
   "metadata": {
    "slideshow": {
     "slide_type": "subslide"
    }
   },
   "source": [
    "Essayons plus solide :"
   ]
  },
  {
   "cell_type": "code",
   "execution_count": 11,
   "metadata": {
    "ExecuteTime": {
     "end_time": "2021-02-21T01:55:40.321780Z",
     "start_time": "2021-02-21T01:55:40.308506Z"
    },
    "code_folding": [
     0
    ],
    "slideshow": {
     "slide_type": "-"
    }
   },
   "outputs": [
    {
     "data": {
      "text/html": [
       "\n",
       "        <iframe\n",
       "            width=\"100%\"\n",
       "            height=\"500\"\n",
       "            src=\"http://pythontutor.com/iframe-embed.html#code=%0Aimport%20calendar%0A%0Adef%20filter_annee%28annee%29%3A%0A%20%20%20%20return%20%28%0A%20%20%20%20%20%20%20%20set%28calendar.Calendar%28annee%29.itermonthdays2%28annee%2C%202%29%29%0A%20%20%20%20%20%20%20%20%26%20%7B%281%2C0%29%2C%20%2828%2C%206%29%2C%20%2829%2C%200%29%7D%0A%20%20%20%20%29%20%3D%3D%20%7B%281%2C%200%29%2C%20%2828%2C%206%29%7D%0A%0Anb_bonnes_annees%20%3D%20len%28list%28filter%28filter_annee%2C%20%28%20annee%0A%20%20%20%20%20%20%20%20for%20annee%20in%20range%281994%2C%202077%20%2B%201%29%0A%20%20%20%20%20%20%20%20%23%20if%20not%20calendar.isleap%28annee%29%20%23%20en%20fait%20c%27est%20inutile%0A%20%20%20%20%29%0A%29%29%29%0A&origin=opt-frontend.js&cumulative=false&heapPrimitives=false&textReferences=false&curInstr=11&&verticalStack=false&py=3&rawInputLstJSON=%5B%5D&codeDivWidth=50%25&codeDivHeight=100%25\"\n",
       "            frameborder=\"0\"\n",
       "            allowfullscreen\n",
       "        ></iframe>\n",
       "        "
      ],
      "text/plain": [
       "<IPython.lib.display.IFrame at 0x7f337c199240>"
      ]
     },
     "metadata": {},
     "output_type": "display_data"
    }
   ],
   "source": [
    "%%tutor --lang python3 --run --height 500 --curInstr 11\n",
    "\n",
    "import calendar\n",
    "\n",
    "def filter_annee(annee):\n",
    "    return (\n",
    "        set(calendar.Calendar(annee).itermonthdays2(annee, 2))\n",
    "        & {(1,0), (28, 6), (29, 0)}\n",
    "    ) == {(1, 0), (28, 6)}\n",
    "\n",
    "nb_bonnes_annees = len(list(filter(filter_annee, ( annee\n",
    "        for annee in range(1994, 2077 + 1)\n",
    "        # if not calendar.isleap(annee) # en fait c'est inutile\n",
    "    )\n",
    ")))"
   ]
  },
  {
   "cell_type": "markdown",
   "metadata": {
    "slideshow": {
     "slide_type": "subslide"
    }
   },
   "source": [
    "Whooo! Ca a pris 763 étapes, on était pas loin de la limite des 1000 étapes sur PythonTutor.com, mais ça marche !\n",
    "\n",
    "Ca marche **vraiment bien** !\n",
    "\n",
    "En repliant le code (avec une extension, [Codefolding](https://jupyter-contrib-nbextensions.readthedocs.io/en/latest/nbextensions/codefolding/readme.html)), on peut montrer juste le début (la \"magic\" `%%tutor`) et l'iframe !"
   ]
  },
  {
   "cell_type": "markdown",
   "metadata": {},
   "source": [
    "Bonus : ça fonctionne si on ferme le notebook et qu'on le rouvre, sans même avoir à réexécuter la cellule !\n",
    "Très pratique pour préparer son cours !"
   ]
  },
  {
   "cell_type": "markdown",
   "metadata": {
    "slideshow": {
     "slide_type": "slide"
    }
   },
   "source": [
    "### Avec `nbtutor`\n",
    "\n",
    "Je suis aussi la documentation sur [la page GitHub de nbtutor](https://github.com/lgpage/nbtutor)."
   ]
  },
  {
   "cell_type": "code",
   "execution_count": 1,
   "metadata": {
    "ExecuteTime": {
     "end_time": "2021-02-21T00:41:38.690381Z",
     "start_time": "2021-02-21T00:41:38.672805Z"
    }
   },
   "outputs": [],
   "source": [
    "%reload_ext nbtutor"
   ]
  },
  {
   "cell_type": "markdown",
   "metadata": {},
   "source": [
    "Ca semble bien chargé, essayons !"
   ]
  },
  {
   "cell_type": "code",
   "execution_count": 12,
   "metadata": {
    "ExecuteTime": {
     "end_time": "2021-02-21T01:56:17.140568Z",
     "start_time": "2021-02-21T01:56:16.991874Z"
    },
    "scrolled": false,
    "slideshow": {
     "slide_type": "subslide"
    }
   },
   "outputs": [
    {
     "name": "nbtutor",
     "output_type": "stream",
     "text": [
      "Démo de nbtutor, normalement sans iframe vers PythonTutor.com\n",
      "Somme des 10 premiers cubes = 2025\n"
     ]
    }
   ],
   "source": [
    "%%nbtutor --reset --force --debug\n",
    "\n",
    "explication = \"Démo de nbtutor, normalement sans iframe vers PythonTutor.com\"\n",
    "print(explication)\n",
    "\n",
    "somme = 0\n",
    "MAX_I = 10\n",
    "for i in range(1, MAX_I):\n",
    "    somme += i**3\n",
    "print(f\"Somme des {MAX_I} premiers cubes = {somme}\")"
   ]
  },
  {
   "cell_type": "markdown",
   "metadata": {},
   "source": [
    "~~Ca marche pas :(~~ Apparemment ça marche pas bien si tutormagic a aussi été exécuté...\n",
    "\n",
    "Je vois sur la documentation du projet que l'installation de l'extension ajoute une \"barre d'outil de cellule\", ~~mais je ne l'ai pas~~... je l'ai désormais, en rechargeant le notebook !\n",
    "\n",
    "Elle prend la place de la barre d'outil pour les [slides RISE](https://rise.readthedocs.io/en/stable/), mais ce n'est pas grave, on peut passer de l'un à l'autre.\n",
    "\n",
    "Je rencontre le même problème que [ce ticket](https://github.com/lgpage/nbtutor/issues/29)."
   ]
  },
  {
   "cell_type": "markdown",
   "metadata": {
    "slideshow": {
     "slide_type": "subslide"
    }
   },
   "source": [
    "Essayons de comprendre ce problème de nbtutor !!"
   ]
  },
  {
   "cell_type": "code",
   "execution_count": 14,
   "metadata": {
    "ExecuteTime": {
     "end_time": "2021-02-21T00:32:35.453766Z",
     "start_time": "2021-02-21T00:32:34.058390Z"
    }
   },
   "outputs": [
    {
     "name": "stdout",
     "output_type": "stream",
     "text": [
      "Name: nbtutor\r\n",
      "Version: 1.0.4\r\n",
      "Summary: Visualize Python code execution in Jupyter Notebook cells\r\n",
      "Home-page: https://github.com/lgpage/nbtutor\r\n",
      "Author: Logan Page\r\n",
      "Author-email: page.lg@gmail.com\r\n",
      "License: BSD 3-Clause\r\n",
      "Location: /usr/local/lib/python3.6/dist-packages\r\n",
      "Requires: notebook\r\n",
      "Required-by: \r\n"
     ]
    }
   ],
   "source": [
    "!pip show nbtutor"
   ]
  },
  {
   "cell_type": "code",
   "execution_count": 15,
   "metadata": {
    "ExecuteTime": {
     "end_time": "2021-02-21T00:32:37.264645Z",
     "start_time": "2021-02-21T00:32:36.948283Z"
    }
   },
   "outputs": [
    {
     "name": "stdout",
     "output_type": "stream",
     "text": [
      "      nbtutor/js/nbtutor.min \u001b[32m enabled \u001b[0m\r\n",
      "      - Validating: \u001b[32mOK\u001b[0m\r\n",
      "    tree section\r\n"
     ]
    }
   ],
   "source": [
    "!jupyter-nbextension list 2>&1 | grep -A 2 nbtutor"
   ]
  },
  {
   "cell_type": "markdown",
   "metadata": {},
   "source": [
    "Bon, le package semble installé, et ajouté comme une extension Jupyter, qui le reconnaît et la valide...\n",
    "\n",
    "Chargez l'extension avec `%load_ext nbtutor` a fonctionné... juste la magic `%%nbtutor` ne marche pas."
   ]
  },
  {
   "cell_type": "code",
   "execution_count": 16,
   "metadata": {
    "ExecuteTime": {
     "end_time": "2021-02-21T00:32:38.213689Z",
     "start_time": "2021-02-21T00:32:38.204082Z"
    }
   },
   "outputs": [],
   "source": [
    "%%nbtutor?"
   ]
  },
  {
   "cell_type": "markdown",
   "metadata": {
    "ExecuteTime": {
     "end_time": "2021-02-20T22:48:57.412441Z",
     "start_time": "2021-02-20T22:48:57.396135Z"
    }
   },
   "source": [
    "Sa documentation se charge bien !\n",
    "\n",
    "```\n",
    "Docstring:\n",
    "::\n",
    "\n",
    "  %nbtutor [-r] [-f] [-i] [-d N] [--digits D] [--max_size S] [--step_all]\n",
    "               [--expand_arrays] [--nolies] [--debug]\n",
    "```"
   ]
  },
  {
   "cell_type": "markdown",
   "metadata": {},
   "source": [
    "Mais rien ne se passe ! Même en mode `--debug`..."
   ]
  },
  {
   "cell_type": "code",
   "execution_count": 3,
   "metadata": {
    "ExecuteTime": {
     "end_time": "2021-02-21T00:42:28.381542Z",
     "start_time": "2021-02-21T00:42:28.310305Z"
    }
   },
   "outputs": [
    {
     "name": "nbtutor",
     "output_type": "stream",
     "text": []
    }
   ],
   "source": [
    "%%nbtutor --reset --force --debug\n",
    "\n",
    "x = sum([i**3 for i in range(1, 10)])\n",
    "print(x)"
   ]
  },
  {
   "cell_type": "markdown",
   "metadata": {},
   "source": [
    "Aucun message d'erreur, rien dans la console qui a lancé Jupyter...\n",
    "\n",
    "Je pense que l'extension est cassée avec les nouvelles variantes de Python ou de Jupyter, qui comme je le suspectais a beaucoup changé depuis 2016 (dernier commit de ce projet)...\n",
    "\n",
    "J'ai demandé au développeur [s'il maintenait encore son projet](https://github.com/lgpage/nbtutor/issues/41)."
   ]
  },
  {
   "cell_type": "markdown",
   "metadata": {
    "slideshow": {
     "slide_type": "subslide"
    }
   },
   "source": [
    "Et pour l'exemple plus gros :"
   ]
  },
  {
   "cell_type": "code",
   "execution_count": 13,
   "metadata": {
    "ExecuteTime": {
     "end_time": "2021-02-21T01:56:56.794841Z",
     "start_time": "2021-02-21T01:56:55.691223Z"
    },
    "code_folding": [],
    "slideshow": {
     "slide_type": "-"
    }
   },
   "outputs": [
    {
     "name": "nbtutor",
     "output_type": "stream",
     "text": []
    }
   ],
   "source": [
    "%%nbtutor --reset --force\n",
    "\n",
    "import calendar\n",
    "\n",
    "def filter_annee(annee):\n",
    "    return (\n",
    "        set(calendar.Calendar(annee).itermonthdays2(annee, 2))\n",
    "        & {(1,0), (28, 6), (29, 0)}\n",
    "    ) == {(1, 0), (28, 6)}\n",
    "\n",
    "nb_bonnes_annees = len(list(filter(filter_annee, ( annee\n",
    "        for annee in range(1994, 2077 + 1)\n",
    "        # if not calendar.isleap(annee) # en fait c'est inutile\n",
    "    )\n",
    ")))"
   ]
  },
  {
   "cell_type": "markdown",
   "metadata": {},
   "source": [
    "Ca marche ! Wooo!"
   ]
  },
  {
   "cell_type": "markdown",
   "metadata": {
    "slideshow": {
     "slide_type": "slide"
    }
   },
   "source": [
    "---\n",
    "## Avec numpy et matplotlib ?"
   ]
  },
  {
   "cell_type": "code",
   "execution_count": 14,
   "metadata": {
    "ExecuteTime": {
     "end_time": "2021-02-21T01:57:09.947877Z",
     "start_time": "2021-02-21T01:57:09.784589Z"
    }
   },
   "outputs": [],
   "source": [
    "import numpy as np\n",
    "import matplotlib.pyplot as plt\n",
    "%matplotlib inline"
   ]
  },
  {
   "cell_type": "code",
   "execution_count": 16,
   "metadata": {
    "ExecuteTime": {
     "end_time": "2021-02-21T01:57:18.017437Z",
     "start_time": "2021-02-21T01:57:17.663614Z"
    },
    "code_folding": [
     10
    ],
    "slideshow": {
     "slide_type": "subslide"
    }
   },
   "outputs": [
    {
     "data": {
      "image/png": "[encoded data removed]",
      "text/plain": [
       "<Figure size 1008x576 with 1 Axes>"
      ]
     },
     "metadata": {},
     "output_type": "display_data"
    }
   ],
   "source": [
    "X = np.linspace(-10, 10)\n",
    "\n",
    "def f1(x): return np.cos(x**2)\n",
    "def f2(x): return np.sin(x**2)\n",
    "def f3(x): return f1(x)+f2(x) \n",
    "Y1 = f1(X)\n",
    "Y2 = f2(X)\n",
    "Y3 = f3(X)\n",
    "\n",
    "# avec la police \"Humour Sans\", téléchargée depuis https://aur.archlinux.org/packages/ttf-humor-sans/\n",
    "with plt.xkcd():\n",
    "    plt.figure(figsize=(14,8))\n",
    "    plt.plot(X, Y1, \"+-r\", label=\"$f_1(x)$\", ms=10, lw=3)\n",
    "    plt.plot(X, Y2, \"o-b\", label=\"$f_2(x)$\", ms=10, lw=3)\n",
    "    plt.plot(X, Y3, \"d-y\", label=\"$f_3(x)$\", ms=10, lw=3)\n",
    "    plt.legend()\n",
    "    plt.xlabel(\"Axe $x$\")\n",
    "    plt.ylabel(\"Axe $y$\")\n",
    "    plt.title(\"Trois fonctions de la variable réelle\")\n",
    "    plt.show()"
   ]
  },
  {
   "cell_type": "markdown",
   "metadata": {
    "slideshow": {
     "slide_type": "slide"
    }
   },
   "source": [
    "### Avec `tutormagic` ?"
   ]
  },
  {
   "cell_type": "code",
   "execution_count": 51,
   "metadata": {
    "ExecuteTime": {
     "end_time": "2021-02-20T23:54:53.726568Z",
     "start_time": "2021-02-20T23:54:53.720254Z"
    },
    "code_folding": [
     15
    ]
   },
   "outputs": [
    {
     "data": {
      "text/html": [
       "\n",
       "        <iframe\n",
       "            width=\"100%\"\n",
       "            height=\"100\"\n",
       "            src=\"http://pythontutor.com/iframe-embed.html#code=%0Aimport%20numpy%20as%20np%0Aimport%20matplotlib.pyplot%20as%20plt%0A%25matplotlib%20inline%0A%0AX%20%3D%20np.linspace%28-10%2C%2010%29%0A%0Adef%20f1%28x%29%3A%20return%20np.cos%28x%2A%2A2%29%0Adef%20f2%28x%29%3A%20return%20np.sin%28x%2A%2A2%29%0Adef%20f3%28x%29%3A%20return%20f1%28x%29%2Bf2%28x%29%20%0AY1%20%3D%20f1%28X%29%0AY2%20%3D%20f2%28X%29%0AY3%20%3D%20f3%28X%29%0A%0Awith%20plt.xkcd%28%29%3A%0A%20%20%20%20plt.figure%28figsize%3D%2814%2C8%29%29%0A%20%20%20%20plt.plot%28X%2C%20Y1%2C%20%22%2B-r%22%2C%20label%3D%22%24f_1%28x%29%24%22%2C%20ms%3D10%2C%20lw%3D3%29%0A%20%20%20%20plt.plot%28X%2C%20Y2%2C%20%22o-b%22%2C%20label%3D%22%24f_2%28x%29%24%22%2C%20ms%3D10%2C%20lw%3D3%29%0A%20%20%20%20plt.plot%28X%2C%20Y3%2C%20%22d-y%22%2C%20label%3D%22%24f_3%28x%29%24%22%2C%20ms%3D10%2C%20lw%3D3%29%0A%20%20%20%20plt.legend%28%29%0A%20%20%20%20plt.xlabel%28%22Axe%20%24x%24%22%29%0A%20%20%20%20plt.ylabel%28%22Axe%20%24y%24%22%29%0A%20%20%20%20plt.title%28%22Trois%20fonctions%20de%20la%20variable%20r%C3%A9elle%22%29%0A%20%20%20%20plt.show%28%29%0A&origin=opt-frontend.js&cumulative=false&heapPrimitives=false&textReferences=false&curInstr=0&&verticalStack=false&py=3&rawInputLstJSON=%5B%5D&codeDivWidth=50%25&codeDivHeight=100%25\"\n",
       "            frameborder=\"0\"\n",
       "            allowfullscreen\n",
       "        ></iframe>\n",
       "        "
      ],
      "text/plain": [
       "<IPython.lib.display.IFrame at 0x7f66c50fc4a8>"
      ]
     },
     "metadata": {},
     "output_type": "display_data"
    }
   ],
   "source": [
    "%%tutor --lang python3 --height 100\n",
    "\n",
    "import numpy as np\n",
    "import matplotlib.pyplot as plt\n",
    "%matplotlib inline\n",
    "\n",
    "X = np.linspace(-10, 10)\n",
    "\n",
    "def f1(x): return np.cos(x**2)\n",
    "def f2(x): return np.sin(x**2)\n",
    "def f3(x): return f1(x)+f2(x) \n",
    "Y1 = f1(X)\n",
    "Y2 = f2(X)\n",
    "Y3 = f3(X)\n",
    "\n",
    "with plt.xkcd():\n",
    "    plt.figure(figsize=(14,8))\n",
    "    plt.plot(X, Y1, \"+-r\", label=\"$f_1(x)$\", ms=10, lw=3)\n",
    "    plt.plot(X, Y2, \"o-b\", label=\"$f_2(x)$\", ms=10, lw=3)\n",
    "    plt.plot(X, Y3, \"d-y\", label=\"$f_3(x)$\", ms=10, lw=3)\n",
    "    plt.legend()\n",
    "    plt.xlabel(\"Axe $x$\")\n",
    "    plt.ylabel(\"Axe $y$\")\n",
    "    plt.title(\"Trois fonctions de la variable réelle\")\n",
    "    plt.show()"
   ]
  },
  {
   "cell_type": "markdown",
   "metadata": {},
   "source": [
    "Ici, le problème vient de la \"cell magic\" `%matplotlib` en ligne 4 !"
   ]
  },
  {
   "cell_type": "markdown",
   "metadata": {
    "slideshow": {
     "slide_type": "subslide"
    }
   },
   "source": [
    "Et si on essaie sans cette cell magic ?"
   ]
  },
  {
   "cell_type": "code",
   "execution_count": 52,
   "metadata": {
    "ExecuteTime": {
     "end_time": "2021-02-20T23:55:03.549895Z",
     "start_time": "2021-02-20T23:55:03.543801Z"
    },
    "code_folding": [
     15
    ],
    "slideshow": {
     "slide_type": "-"
    }
   },
   "outputs": [
    {
     "data": {
      "text/html": [
       "\n",
       "        <iframe\n",
       "            width=\"100%\"\n",
       "            height=\"500\"\n",
       "            src=\"http://pythontutor.com/iframe-embed.html#code=%0Aimport%20numpy%20as%20np%0Aimport%20matplotlib.pyplot%20as%20plt%0A%0AX%20%3D%20np.linspace%28-10%2C%2010%29%0A%0Adef%20f1%28x%29%3A%20return%20np.cos%28x%2A%2A2%29%0Adef%20f2%28x%29%3A%20return%20np.sin%28x%2A%2A2%29%0Adef%20f3%28x%29%3A%20return%20f1%28x%29%2Bf2%28x%29%20%0AY1%20%3D%20f1%28X%29%0AY2%20%3D%20f2%28X%29%0AY3%20%3D%20f3%28X%29%0A%0Aprint%28Y1%29%0Aprint%28Y2%29%0Aprint%28Y3%29%0A&origin=opt-frontend.js&cumulative=false&heapPrimitives=false&textReferences=false&curInstr=0&&verticalStack=false&py=3&rawInputLstJSON=%5B%5D&codeDivWidth=50%25&codeDivHeight=100%25\"\n",
       "            frameborder=\"0\"\n",
       "            allowfullscreen\n",
       "        ></iframe>\n",
       "        "
      ],
      "text/plain": [
       "<IPython.lib.display.IFrame at 0x7f66c53af828>"
      ]
     },
     "metadata": {},
     "output_type": "display_data"
    }
   ],
   "source": [
    "%%tutor --lang python3 --height 500\n",
    "\n",
    "import numpy as np\n",
    "import matplotlib.pyplot as plt\n",
    "\n",
    "X = np.linspace(-10, 10)\n",
    "\n",
    "def f1(x): return np.cos(x**2)\n",
    "def f2(x): return np.sin(x**2)\n",
    "def f3(x): return f1(x)+f2(x) \n",
    "Y1 = f1(X)\n",
    "Y2 = f2(X)\n",
    "Y3 = f3(X)\n",
    "\n",
    "print(Y1)\n",
    "print(Y2)\n",
    "print(Y3)"
   ]
  },
  {
   "cell_type": "markdown",
   "metadata": {},
   "source": [
    "Evidemment, ça ne marche pas ! Numpy et matplotlib ne sont PAS supportés dans PythonTutor.com...\n",
    "\n",
    "Seul les modules suivants sont disponibles avec le mode \"Python3\" basique :\n",
    "\n",
    "    Only these modules can be imported:\n",
    "    __future__, abc, array, bisect, calendar, cmath,\n",
    "    collections, copy, datetime, decimal, doctest, fractions,\n",
    "    functools, hashlib, heapq, io, itertools, json,\n",
    "    locale, math, operator, pickle, pprint, random,\n",
    "    re, string, time, types, typing, unittest\n",
    "\n",
    "> Ca allait être un avantage de nbtutor... au moins la partie numpy."
   ]
  },
  {
   "cell_type": "markdown",
   "metadata": {
    "slideshow": {
     "slide_type": "subslide"
    }
   },
   "source": [
    "Bon, et bien on peut essayer \"Python 3.6 with Anaconda (experimental)\".\n",
    "\n",
    "Depuis le site web, j'arrive à utiliser Python 3.6 + Anaconda 5.2 EXPERIMENTAL! pour le code suivant."
   ]
  },
  {
   "cell_type": "code",
   "execution_count": 18,
   "metadata": {
    "ExecuteTime": {
     "end_time": "2021-02-21T01:57:58.518874Z",
     "start_time": "2021-02-21T01:57:58.487264Z"
    },
    "code_folding": [
     0
    ],
    "slideshow": {
     "slide_type": "-"
    }
   },
   "outputs": [
    {
     "ename": "ValueError",
     "evalue": "py33anaconda not supported. Only the following options are allowed: 'python2', 'python3', 'java', 'javascript', 'typescript', 'ruby', 'c', 'c++', 'py3anaconda'",
     "output_type": "error",
     "traceback": [
      "\u001b[0;31m---------------------------------------------------------------------------\u001b[0m",
      "\u001b[0;31mValueError\u001b[0m                                Traceback (most recent call last)",
      "\u001b[0;32m<ipython-input-18-f2046576b7cf>\u001b[0m in \u001b[0;36m<module>\u001b[0;34m\u001b[0m\n\u001b[0;32m----> 1\u001b[0;31m \u001b[0mget_ipython\u001b[0m\u001b[0;34m(\u001b[0m\u001b[0;34m)\u001b[0m\u001b[0;34m.\u001b[0m\u001b[0mrun_cell_magic\u001b[0m\u001b[0;34m(\u001b[0m\u001b[0;34m'tutor'\u001b[0m\u001b[0;34m,\u001b[0m \u001b[0;34m'--lang py33anaconda --height 500'\u001b[0m\u001b[0;34m,\u001b[0m \u001b[0;34m'\\nimport numpy as np\\n\\nX = np.linspace(-10, 10)\\n\\ndef f1(x): return np.cos(x**2)\\ndef f2(x): return np.sin(x**2)\\ndef f3(x): return f1(x)+f2(x) \\nY1 = f1(X)\\nY2 = f2(X)\\nY3 = f3(X)\\n\\nprint(Y1)\\nprint(Y2)\\nprint(Y3)\\n'\u001b[0m\u001b[0;34m)\u001b[0m\u001b[0;34m\u001b[0m\u001b[0;34m\u001b[0m\u001b[0m\n\u001b[0m",
      "\u001b[0;32m/usr/local/lib/python3.6/dist-packages/IPython/core/interactiveshell.py\u001b[0m in \u001b[0;36mrun_cell_magic\u001b[0;34m(self, magic_name, line, cell)\u001b[0m\n\u001b[1;32m   2369\u001b[0m             \u001b[0;32mwith\u001b[0m \u001b[0mself\u001b[0m\u001b[0;34m.\u001b[0m\u001b[0mbuiltin_trap\u001b[0m\u001b[0;34m:\u001b[0m\u001b[0;34m\u001b[0m\u001b[0;34m\u001b[0m\u001b[0m\n\u001b[1;32m   2370\u001b[0m                 \u001b[0margs\u001b[0m \u001b[0;34m=\u001b[0m \u001b[0;34m(\u001b[0m\u001b[0mmagic_arg_s\u001b[0m\u001b[0;34m,\u001b[0m \u001b[0mcell\u001b[0m\u001b[0;34m)\u001b[0m\u001b[0;34m\u001b[0m\u001b[0;34m\u001b[0m\u001b[0m\n\u001b[0;32m-> 2371\u001b[0;31m                 \u001b[0mresult\u001b[0m \u001b[0;34m=\u001b[0m \u001b[0mfn\u001b[0m\u001b[0;34m(\u001b[0m\u001b[0;34m*\u001b[0m\u001b[0margs\u001b[0m\u001b[0;34m,\u001b[0m \u001b[0;34m**\u001b[0m\u001b[0mkwargs\u001b[0m\u001b[0;34m)\u001b[0m\u001b[0;34m\u001b[0m\u001b[0;34m\u001b[0m\u001b[0m\n\u001b[0m\u001b[1;32m   2372\u001b[0m             \u001b[0;32mreturn\u001b[0m \u001b[0mresult\u001b[0m\u001b[0;34m\u001b[0m\u001b[0;34m\u001b[0m\u001b[0m\n\u001b[1;32m   2373\u001b[0m \u001b[0;34m\u001b[0m\u001b[0m\n",
      "\u001b[0;32m<decorator-gen-126>\u001b[0m in \u001b[0;36mtutor\u001b[0;34m(self, line, cell, local_ns)\u001b[0m\n",
      "\u001b[0;32m/usr/local/lib/python3.6/dist-packages/IPython/core/magic.py\u001b[0m in \u001b[0;36m<lambda>\u001b[0;34m(f, *a, **k)\u001b[0m\n\u001b[1;32m    185\u001b[0m     \u001b[0;31m# but it's overkill for just that one bit of state.\u001b[0m\u001b[0;34m\u001b[0m\u001b[0;34m\u001b[0m\u001b[0;34m\u001b[0m\u001b[0m\n\u001b[1;32m    186\u001b[0m     \u001b[0;32mdef\u001b[0m \u001b[0mmagic_deco\u001b[0m\u001b[0;34m(\u001b[0m\u001b[0marg\u001b[0m\u001b[0;34m)\u001b[0m\u001b[0;34m:\u001b[0m\u001b[0;34m\u001b[0m\u001b[0;34m\u001b[0m\u001b[0m\n\u001b[0;32m--> 187\u001b[0;31m         \u001b[0mcall\u001b[0m \u001b[0;34m=\u001b[0m \u001b[0;32mlambda\u001b[0m \u001b[0mf\u001b[0m\u001b[0;34m,\u001b[0m \u001b[0;34m*\u001b[0m\u001b[0ma\u001b[0m\u001b[0;34m,\u001b[0m \u001b[0;34m**\u001b[0m\u001b[0mk\u001b[0m\u001b[0;34m:\u001b[0m \u001b[0mf\u001b[0m\u001b[0;34m(\u001b[0m\u001b[0;34m*\u001b[0m\u001b[0ma\u001b[0m\u001b[0;34m,\u001b[0m \u001b[0;34m**\u001b[0m\u001b[0mk\u001b[0m\u001b[0;34m)\u001b[0m\u001b[0;34m\u001b[0m\u001b[0;34m\u001b[0m\u001b[0m\n\u001b[0m\u001b[1;32m    188\u001b[0m \u001b[0;34m\u001b[0m\u001b[0m\n\u001b[1;32m    189\u001b[0m         \u001b[0;32mif\u001b[0m \u001b[0mcallable\u001b[0m\u001b[0;34m(\u001b[0m\u001b[0marg\u001b[0m\u001b[0;34m)\u001b[0m\u001b[0;34m:\u001b[0m\u001b[0;34m\u001b[0m\u001b[0;34m\u001b[0m\u001b[0m\n",
      "\u001b[0;32m/usr/local/lib/python3.6/dist-packages/tutormagic.py\u001b[0m in \u001b[0;36mtutor\u001b[0;34m(self, line, cell, local_ns)\u001b[0m\n\u001b[1;32m    150\u001b[0m                     \u001b[0;34m\"{} not supported. Only the following options are allowed: \"\u001b[0m\u001b[0;34m\u001b[0m\u001b[0;34m\u001b[0m\u001b[0m\n\u001b[1;32m    151\u001b[0m                     \u001b[0;34m\"'python2', 'python3', 'java', 'javascript', \"\u001b[0m\u001b[0;34m\u001b[0m\u001b[0;34m\u001b[0m\u001b[0m\n\u001b[0;32m--> 152\u001b[0;31m                     \"'typescript', 'ruby', 'c', 'c++', 'py3anaconda'\".format(args.lang[0]))\n\u001b[0m\u001b[1;32m    153\u001b[0m         \u001b[0;32melse\u001b[0m\u001b[0;34m:\u001b[0m\u001b[0;34m\u001b[0m\u001b[0;34m\u001b[0m\u001b[0m\n\u001b[1;32m    154\u001b[0m             \u001b[0mlang\u001b[0m \u001b[0;34m=\u001b[0m \u001b[0;34m\"python3\"\u001b[0m\u001b[0;34m\u001b[0m\u001b[0;34m\u001b[0m\u001b[0m\n",
      "\u001b[0;31mValueError\u001b[0m: py33anaconda not supported. Only the following options are allowed: 'python2', 'python3', 'java', 'javascript', 'typescript', 'ruby', 'c', 'c++', 'py3anaconda'"
     ]
    }
   ],
   "source": [
    "%%tutor --lang py3anaconda --height 500\n",
    "\n",
    "import numpy as np\n",
    "\n",
    "X = np.linspace(-10, 10)\n",
    "\n",
    "def f1(x): return np.cos(x**2)\n",
    "def f2(x): return np.sin(x**2)\n",
    "def f3(x): return f1(x)+f2(x) \n",
    "Y1 = f1(X)\n",
    "Y2 = f2(X)\n",
    "Y3 = f3(X)\n",
    "\n",
    "print(Y1)\n",
    "print(Y2)\n",
    "print(Y3)"
   ]
  },
  {
   "cell_type": "markdown",
   "metadata": {},
   "source": [
    "Ah zut, pour l'instant la magic cell `%%tutor` ne connaît pas d'autres modes pour Python 3.\n",
    "En effet elle date de 2017, mais le nouveau mode de PythonTutor est plus récent !\n",
    "\n",
    "J'ai ouvert [ce ticket](https://github.com/kikocorreoso/tutormagic/issues/10) pour suggérer le support de ce nouveau mode ! Et [cette PR](https://github.com/kikocorreoso/tutormagic/pull/11)"
   ]
  },
  {
   "cell_type": "code",
   "execution_count": 19,
   "metadata": {
    "ExecuteTime": {
     "end_time": "2021-02-21T01:58:06.844866Z",
     "start_time": "2021-02-21T01:58:06.839160Z"
    },
    "code_folding": [
     0
    ],
    "slideshow": {
     "slide_type": "subslide"
    }
   },
   "outputs": [
    {
     "data": {
      "text/html": [
       "\n",
       "        <iframe\n",
       "            width=\"100%\"\n",
       "            height=\"500\"\n",
       "            src=\"http://pythontutor.com/iframe-embed.html#code=%23%20https%3A//docs.scipy.org/doc/scipy/reference/tutorial/integrate.html%0A%0Ax%20%3D%204%0Aprint%28%22Hello%20world%21%22%20%2A%20x%29%0A%0Aimport%20numpy%20as%20np%0A%0AI%20%3D%20np.sqrt%282/np.pi%29%2A%2818.0/27%2Anp.sqrt%282%29%2Anp.cos%284.5%29%20-%204.0/27%2Anp.sqrt%282%29%2Anp.sin%284.5%29%29%0A%0Aprint%28I%29%0A%0Aimport%20scipy.integrate%20as%20integrate%0Aimport%20scipy.special%20as%20special%0Aresult%20%3D%20integrate.quad%28lambda%20x%3A%20special.jv%282.5%2Cx%29%2C%200%2C%204.5%29%0Aprint%28result%29%0A%0AI%20%2B%3D%20np.sqrt%282%2Anp.pi%29%20%2A%20special.fresnel%283/np.sqrt%28np.pi%29%29%5B0%5D%0Aprint%28I%29%0A%0Aprint%28abs%28result%5B0%5D-I%29%29%0A&origin=opt-frontend.js&cumulative=false&heapPrimitives=false&textReferences=false&curInstr=0&&verticalStack=false&py=py3anaconda&rawInputLstJSON=%5B%5D&codeDivWidth=50%25&codeDivHeight=100%25\"\n",
       "            frameborder=\"0\"\n",
       "            allowfullscreen\n",
       "        ></iframe>\n",
       "        "
      ],
      "text/plain": [
       "<IPython.lib.display.IFrame at 0x7f337c661748>"
      ]
     },
     "metadata": {},
     "output_type": "display_data"
    }
   ],
   "source": [
    "%%tutor --lang py3anaconda --height 500\n",
    "# https://docs.scipy.org/doc/scipy/reference/tutorial/integrate.html\n",
    "\n",
    "x = 4\n",
    "print(\"Hello world!\" * x)\n",
    "\n",
    "import numpy as np\n",
    "\n",
    "I = np.sqrt(2/np.pi)*(18.0/27*np.sqrt(2)*np.cos(4.5) - 4.0/27*np.sqrt(2)*np.sin(4.5))\n",
    "\n",
    "print(I)\n",
    "\n",
    "import scipy.integrate as integrate\n",
    "import scipy.special as special\n",
    "result = integrate.quad(lambda x: special.jv(2.5,x), 0, 4.5)\n",
    "print(result)\n",
    "\n",
    "I += np.sqrt(2*np.pi) * special.fresnel(3/np.sqrt(np.pi))[0]\n",
    "print(I)\n",
    "\n",
    "print(abs(result[0]-I))\n"
   ]
  },
  {
   "cell_type": "markdown",
   "metadata": {},
   "source": [
    "POUF ça marche, merci à ma [petite modification (trois lignes changées)](https://github.com/kikocorreoso/tutormagic/pull/11).\n",
    "\n",
    "> C'est quand même beau les logiciels open-source..."
   ]
  },
  {
   "cell_type": "markdown",
   "metadata": {
    "slideshow": {
     "slide_type": "slide"
    }
   },
   "source": [
    "### Une remarque en passant : avoir PythonTutor offline? semble possible !\n",
    "\n",
    "Au fait, [PythonTutor n'est plus libre](https://github.com/pgbovine/OnlinePythonTutor/), mais [un fork récent existe](https://github.com/seamile/PyTutor) : c'est peut-être un vol de propriété intellectuelle, mais bon, ça peut dépanner !\n",
    "\n",
    "TODO: l'installer chez moi, et faire en sorte que tutormagic fonctionne en local aussi ! Regardez [ce ticket](https://github.com/kikocorreoso/tutormagic/issues/8) assez récent, mais pas avancé (mais très détaillé), et [celui là sur un clone de PythonTutor](https://github.com/seamile/PyTutor/issues/4).\n",
    "\n",
    "=> J'ai réussi à avoir PyTutor (v5-unity) mais juste pour Python3... pas C ou Java... et je sais pas comment faire !"
   ]
  },
  {
   "cell_type": "markdown",
   "metadata": {
    "slideshow": {
     "slide_type": "slide"
    }
   },
   "source": [
    "### Avec `nbtutor` ?"
   ]
  },
  {
   "cell_type": "code",
   "execution_count": 16,
   "metadata": {
    "ExecuteTime": {
     "end_time": "2021-02-21T00:50:29.274865Z",
     "start_time": "2021-02-21T00:49:43.023427Z"
    },
    "code_folding": [
     0,
     14
    ],
    "scrolled": true,
    "slideshow": {
     "slide_type": "subslide"
    }
   },
   "outputs": [
    {
     "ename": "BdbQuit",
     "evalue": "",
     "output_type": "error",
     "traceback": [
      "\u001b[0;31m---------------------------------------------------------------------------\u001b[0m",
      "\u001b[0;31mKeyboardInterrupt\u001b[0m                         Traceback (most recent call last)",
      "\u001b[0;32m/usr/local/lib/python3.6/dist-packages/nbtutor/ipython/debugger.py\u001b[0m in \u001b[0;36mrun_cell\u001b[0;34m(self, cell)\u001b[0m\n\u001b[1;32m     47\u001b[0m             \u001b[0;32mwith\u001b[0m \u001b[0mredirect_stdout\u001b[0m\u001b[0;34m(\u001b[0m\u001b[0mself\u001b[0m\u001b[0;34m.\u001b[0m\u001b[0mstdout\u001b[0m\u001b[0;34m)\u001b[0m\u001b[0;34m:\u001b[0m\u001b[0;34m\u001b[0m\u001b[0;34m\u001b[0m\u001b[0m\n\u001b[0;32m---> 48\u001b[0;31m                 \u001b[0mself\u001b[0m\u001b[0;34m.\u001b[0m\u001b[0mrun\u001b[0m\u001b[0;34m(\u001b[0m\u001b[0mcell\u001b[0m\u001b[0;34m,\u001b[0m \u001b[0mglobals\u001b[0m\u001b[0;34m,\u001b[0m \u001b[0mlocals\u001b[0m\u001b[0;34m)\u001b[0m\u001b[0;34m\u001b[0m\u001b[0;34m\u001b[0m\u001b[0m\n\u001b[0m\u001b[1;32m     49\u001b[0m         \u001b[0;32mexcept\u001b[0m\u001b[0;34m:\u001b[0m\u001b[0;34m\u001b[0m\u001b[0;34m\u001b[0m\u001b[0m\n",
      "\u001b[0;32m/usr/lib/python3.6/bdb.py\u001b[0m in \u001b[0;36mrun\u001b[0;34m(self, cmd, globals, locals)\u001b[0m\n\u001b[1;32m    433\u001b[0m         \u001b[0;32mtry\u001b[0m\u001b[0;34m:\u001b[0m\u001b[0;34m\u001b[0m\u001b[0;34m\u001b[0m\u001b[0m\n\u001b[0;32m--> 434\u001b[0;31m             \u001b[0mexec\u001b[0m\u001b[0;34m(\u001b[0m\u001b[0mcmd\u001b[0m\u001b[0;34m,\u001b[0m \u001b[0mglobals\u001b[0m\u001b[0;34m,\u001b[0m \u001b[0mlocals\u001b[0m\u001b[0;34m)\u001b[0m\u001b[0;34m\u001b[0m\u001b[0;34m\u001b[0m\u001b[0m\n\u001b[0m\u001b[1;32m    435\u001b[0m         \u001b[0;32mexcept\u001b[0m \u001b[0mBdbQuit\u001b[0m\u001b[0;34m:\u001b[0m\u001b[0;34m\u001b[0m\u001b[0;34m\u001b[0m\u001b[0m\n",
      "\u001b[0;32m<string>\u001b[0m in \u001b[0;36m<module>\u001b[0;34m\u001b[0m\n",
      "\u001b[0;32m/usr/local/lib/python3.6/dist-packages/matplotlib/pyplot.py\u001b[0m in \u001b[0;36mshow\u001b[0;34m(*args, **kwargs)\u001b[0m\n\u001b[1;32m    352\u001b[0m     \u001b[0m_warn_if_gui_out_of_main_thread\u001b[0m\u001b[0;34m(\u001b[0m\u001b[0;34m)\u001b[0m\u001b[0;34m\u001b[0m\u001b[0;34m\u001b[0m\u001b[0m\n\u001b[0;32m--> 353\u001b[0;31m     \u001b[0;32mreturn\u001b[0m \u001b[0m_backend_mod\u001b[0m\u001b[0;34m.\u001b[0m\u001b[0mshow\u001b[0m\u001b[0;34m(\u001b[0m\u001b[0;34m*\u001b[0m\u001b[0margs\u001b[0m\u001b[0;34m,\u001b[0m \u001b[0;34m**\u001b[0m\u001b[0mkwargs\u001b[0m\u001b[0;34m)\u001b[0m\u001b[0;34m\u001b[0m\u001b[0;34m\u001b[0m\u001b[0m\n\u001b[0m\u001b[1;32m    354\u001b[0m \u001b[0;34m\u001b[0m\u001b[0m\n",
      "\u001b[0;32m/usr/local/lib/python3.6/dist-packages/ipykernel/pylab/backend_inline.py\u001b[0m in \u001b[0;36mshow\u001b[0;34m(close, block)\u001b[0m\n\u001b[1;32m     42\u001b[0m                 \u001b[0mfigure_manager\u001b[0m\u001b[0;34m.\u001b[0m\u001b[0mcanvas\u001b[0m\u001b[0;34m.\u001b[0m\u001b[0mfigure\u001b[0m\u001b[0;34m,\u001b[0m\u001b[0;34m\u001b[0m\u001b[0;34m\u001b[0m\u001b[0m\n\u001b[0;32m---> 43\u001b[0;31m                 \u001b[0mmetadata\u001b[0m\u001b[0;34m=\u001b[0m\u001b[0m_fetch_figure_metadata\u001b[0m\u001b[0;34m(\u001b[0m\u001b[0mfigure_manager\u001b[0m\u001b[0;34m.\u001b[0m\u001b[0mcanvas\u001b[0m\u001b[0;34m.\u001b[0m\u001b[0mfigure\u001b[0m\u001b[0;34m)\u001b[0m\u001b[0;34m\u001b[0m\u001b[0;34m\u001b[0m\u001b[0m\n\u001b[0m\u001b[1;32m     44\u001b[0m             )\n",
      "\u001b[0;32m/usr/local/lib/python3.6/dist-packages/IPython/core/display.py\u001b[0m in \u001b[0;36mdisplay\u001b[0;34m(include, exclude, metadata, transient, display_id, *objs, **kwargs)\u001b[0m\n\u001b[1;32m    312\u001b[0m         \u001b[0;32melse\u001b[0m\u001b[0;34m:\u001b[0m\u001b[0;34m\u001b[0m\u001b[0;34m\u001b[0m\u001b[0m\n\u001b[0;32m--> 313\u001b[0;31m             \u001b[0mformat_dict\u001b[0m\u001b[0;34m,\u001b[0m \u001b[0mmd_dict\u001b[0m \u001b[0;34m=\u001b[0m \u001b[0mformat\u001b[0m\u001b[0;34m(\u001b[0m\u001b[0mobj\u001b[0m\u001b[0;34m,\u001b[0m \u001b[0minclude\u001b[0m\u001b[0;34m=\u001b[0m\u001b[0minclude\u001b[0m\u001b[0;34m,\u001b[0m \u001b[0mexclude\u001b[0m\u001b[0;34m=\u001b[0m\u001b[0mexclude\u001b[0m\u001b[0;34m)\u001b[0m\u001b[0;34m\u001b[0m\u001b[0;34m\u001b[0m\u001b[0m\n\u001b[0m\u001b[1;32m    314\u001b[0m             \u001b[0;32mif\u001b[0m \u001b[0;32mnot\u001b[0m \u001b[0mformat_dict\u001b[0m\u001b[0;34m:\u001b[0m\u001b[0;34m\u001b[0m\u001b[0;34m\u001b[0m\u001b[0m\n",
      "\u001b[0;32m/usr/local/lib/python3.6/dist-packages/IPython/core/formatters.py\u001b[0m in \u001b[0;36mformat\u001b[0;34m(self, obj, include, exclude)\u001b[0m\n\u001b[1;32m    179\u001b[0m             \u001b[0;32mtry\u001b[0m\u001b[0;34m:\u001b[0m\u001b[0;34m\u001b[0m\u001b[0;34m\u001b[0m\u001b[0m\n\u001b[0;32m--> 180\u001b[0;31m                 \u001b[0mdata\u001b[0m \u001b[0;34m=\u001b[0m \u001b[0mformatter\u001b[0m\u001b[0;34m(\u001b[0m\u001b[0mobj\u001b[0m\u001b[0;34m)\u001b[0m\u001b[0;34m\u001b[0m\u001b[0;34m\u001b[0m\u001b[0m\n\u001b[0m\u001b[1;32m    181\u001b[0m             \u001b[0;32mexcept\u001b[0m\u001b[0;34m:\u001b[0m\u001b[0;34m\u001b[0m\u001b[0;34m\u001b[0m\u001b[0m\n",
      "\u001b[0;32m<decorator-gen-9>\u001b[0m in \u001b[0;36m__call__\u001b[0;34m(self, obj)\u001b[0m\n",
      "\u001b[0;32m/usr/local/lib/python3.6/dist-packages/IPython/core/formatters.py\u001b[0m in \u001b[0;36mcatch_format_error\u001b[0;34m(method, self, *args, **kwargs)\u001b[0m\n\u001b[1;32m    223\u001b[0m     \u001b[0;32mtry\u001b[0m\u001b[0;34m:\u001b[0m\u001b[0;34m\u001b[0m\u001b[0;34m\u001b[0m\u001b[0m\n\u001b[0;32m--> 224\u001b[0;31m         \u001b[0mr\u001b[0m \u001b[0;34m=\u001b[0m \u001b[0mmethod\u001b[0m\u001b[0;34m(\u001b[0m\u001b[0mself\u001b[0m\u001b[0;34m,\u001b[0m \u001b[0;34m*\u001b[0m\u001b[0margs\u001b[0m\u001b[0;34m,\u001b[0m \u001b[0;34m**\u001b[0m\u001b[0mkwargs\u001b[0m\u001b[0;34m)\u001b[0m\u001b[0;34m\u001b[0m\u001b[0;34m\u001b[0m\u001b[0m\n\u001b[0m\u001b[1;32m    225\u001b[0m     \u001b[0;32mexcept\u001b[0m \u001b[0mNotImplementedError\u001b[0m\u001b[0;34m:\u001b[0m\u001b[0;34m\u001b[0m\u001b[0;34m\u001b[0m\u001b[0m\n",
      "\u001b[0;32m/usr/local/lib/python3.6/dist-packages/IPython/core/formatters.py\u001b[0m in \u001b[0;36m__call__\u001b[0;34m(self, obj)\u001b[0m\n\u001b[1;32m    340\u001b[0m             \u001b[0;32melse\u001b[0m\u001b[0;34m:\u001b[0m\u001b[0;34m\u001b[0m\u001b[0;34m\u001b[0m\u001b[0m\n\u001b[0;32m--> 341\u001b[0;31m                 \u001b[0;32mreturn\u001b[0m \u001b[0mprinter\u001b[0m\u001b[0;34m(\u001b[0m\u001b[0mobj\u001b[0m\u001b[0;34m)\u001b[0m\u001b[0;34m\u001b[0m\u001b[0;34m\u001b[0m\u001b[0m\n\u001b[0m\u001b[1;32m    342\u001b[0m             \u001b[0;31m# Finally look for special method names\u001b[0m\u001b[0;34m\u001b[0m\u001b[0;34m\u001b[0m\u001b[0;34m\u001b[0m\u001b[0m\n",
      "\u001b[0;32m/usr/local/lib/python3.6/dist-packages/IPython/core/pylabtools.py\u001b[0m in \u001b[0;36m<lambda>\u001b[0;34m(fig)\u001b[0m\n\u001b[1;32m    247\u001b[0m     \u001b[0;32mif\u001b[0m \u001b[0;34m'png'\u001b[0m \u001b[0;32min\u001b[0m \u001b[0mformats\u001b[0m\u001b[0;34m:\u001b[0m\u001b[0;34m\u001b[0m\u001b[0;34m\u001b[0m\u001b[0m\n\u001b[0;32m--> 248\u001b[0;31m         \u001b[0mpng_formatter\u001b[0m\u001b[0;34m.\u001b[0m\u001b[0mfor_type\u001b[0m\u001b[0;34m(\u001b[0m\u001b[0mFigure\u001b[0m\u001b[0;34m,\u001b[0m \u001b[0;32mlambda\u001b[0m \u001b[0mfig\u001b[0m\u001b[0;34m:\u001b[0m \u001b[0mprint_figure\u001b[0m\u001b[0;34m(\u001b[0m\u001b[0mfig\u001b[0m\u001b[0;34m,\u001b[0m \u001b[0;34m'png'\u001b[0m\u001b[0;34m,\u001b[0m \u001b[0;34m**\u001b[0m\u001b[0mkwargs\u001b[0m\u001b[0;34m)\u001b[0m\u001b[0;34m)\u001b[0m\u001b[0;34m\u001b[0m\u001b[0;34m\u001b[0m\u001b[0m\n\u001b[0m\u001b[1;32m    249\u001b[0m     \u001b[0;32mif\u001b[0m \u001b[0;34m'retina'\u001b[0m \u001b[0;32min\u001b[0m \u001b[0mformats\u001b[0m \u001b[0;32mor\u001b[0m \u001b[0;34m'png2x'\u001b[0m \u001b[0;32min\u001b[0m \u001b[0mformats\u001b[0m\u001b[0;34m:\u001b[0m\u001b[0;34m\u001b[0m\u001b[0;34m\u001b[0m\u001b[0m\n",
      "\u001b[0;32m/usr/local/lib/python3.6/dist-packages/IPython/core/pylabtools.py\u001b[0m in \u001b[0;36mprint_figure\u001b[0;34m(fig, fmt, bbox_inches, **kwargs)\u001b[0m\n\u001b[1;32m    131\u001b[0m \u001b[0;34m\u001b[0m\u001b[0m\n\u001b[0;32m--> 132\u001b[0;31m     \u001b[0mfig\u001b[0m\u001b[0;34m.\u001b[0m\u001b[0mcanvas\u001b[0m\u001b[0;34m.\u001b[0m\u001b[0mprint_figure\u001b[0m\u001b[0;34m(\u001b[0m\u001b[0mbytes_io\u001b[0m\u001b[0;34m,\u001b[0m \u001b[0;34m**\u001b[0m\u001b[0mkw\u001b[0m\u001b[0;34m)\u001b[0m\u001b[0;34m\u001b[0m\u001b[0;34m\u001b[0m\u001b[0m\n\u001b[0m\u001b[1;32m    133\u001b[0m     \u001b[0mdata\u001b[0m \u001b[0;34m=\u001b[0m \u001b[0mbytes_io\u001b[0m\u001b[0;34m.\u001b[0m\u001b[0mgetvalue\u001b[0m\u001b[0;34m(\u001b[0m\u001b[0;34m)\u001b[0m\u001b[0;34m\u001b[0m\u001b[0;34m\u001b[0m\u001b[0m\n",
      "\u001b[0;32m/usr/local/lib/python3.6/dist-packages/matplotlib/backend_bases.py\u001b[0m in \u001b[0;36mprint_figure\u001b[0;34m(self, filename, dpi, facecolor, edgecolor, orientation, format, bbox_inches, pad_inches, bbox_extra_artists, backend, **kwargs)\u001b[0m\n\u001b[1;32m   2192\u001b[0m                     \u001b[0;32mwith\u001b[0m \u001b[0mctx\u001b[0m\u001b[0;34m:\u001b[0m\u001b[0;34m\u001b[0m\u001b[0;34m\u001b[0m\u001b[0m\n\u001b[0;32m-> 2193\u001b[0;31m                         \u001b[0mself\u001b[0m\u001b[0;34m.\u001b[0m\u001b[0mfigure\u001b[0m\u001b[0;34m.\u001b[0m\u001b[0mdraw\u001b[0m\u001b[0;34m(\u001b[0m\u001b[0mrenderer\u001b[0m\u001b[0;34m)\u001b[0m\u001b[0;34m\u001b[0m\u001b[0;34m\u001b[0m\u001b[0m\n\u001b[0m\u001b[1;32m   2194\u001b[0m \u001b[0;34m\u001b[0m\u001b[0m\n",
      "\u001b[0;32m/usr/local/lib/python3.6/dist-packages/matplotlib/artist.py\u001b[0m in \u001b[0;36mdraw_wrapper\u001b[0;34m(artist, renderer, *args, **kwargs)\u001b[0m\n\u001b[1;32m     40\u001b[0m \u001b[0;34m\u001b[0m\u001b[0m\n\u001b[0;32m---> 41\u001b[0;31m             \u001b[0;32mreturn\u001b[0m \u001b[0mdraw\u001b[0m\u001b[0;34m(\u001b[0m\u001b[0martist\u001b[0m\u001b[0;34m,\u001b[0m \u001b[0mrenderer\u001b[0m\u001b[0;34m,\u001b[0m \u001b[0;34m*\u001b[0m\u001b[0margs\u001b[0m\u001b[0;34m,\u001b[0m \u001b[0;34m**\u001b[0m\u001b[0mkwargs\u001b[0m\u001b[0;34m)\u001b[0m\u001b[0;34m\u001b[0m\u001b[0;34m\u001b[0m\u001b[0m\n\u001b[0m\u001b[1;32m     42\u001b[0m         \u001b[0;32mfinally\u001b[0m\u001b[0;34m:\u001b[0m\u001b[0;34m\u001b[0m\u001b[0;34m\u001b[0m\u001b[0m\n",
      "\u001b[0;32m/usr/local/lib/python3.6/dist-packages/matplotlib/figure.py\u001b[0m in \u001b[0;36mdraw\u001b[0;34m(self, renderer)\u001b[0m\n\u001b[1;32m   1863\u001b[0m             mimage._draw_list_compositing_images(\n\u001b[0;32m-> 1864\u001b[0;31m                 renderer, self, artists, self.suppressComposite)\n\u001b[0m\u001b[1;32m   1865\u001b[0m \u001b[0;34m\u001b[0m\u001b[0m\n",
      "\u001b[0;32m/usr/local/lib/python3.6/dist-packages/matplotlib/image.py\u001b[0m in \u001b[0;36m_draw_list_compositing_images\u001b[0;34m(renderer, parent, artists, suppress_composite)\u001b[0m\n\u001b[1;32m    130\u001b[0m         \u001b[0;32mfor\u001b[0m \u001b[0ma\u001b[0m \u001b[0;32min\u001b[0m \u001b[0martists\u001b[0m\u001b[0;34m:\u001b[0m\u001b[0;34m\u001b[0m\u001b[0;34m\u001b[0m\u001b[0m\n\u001b[0;32m--> 131\u001b[0;31m             \u001b[0ma\u001b[0m\u001b[0;34m.\u001b[0m\u001b[0mdraw\u001b[0m\u001b[0;34m(\u001b[0m\u001b[0mrenderer\u001b[0m\u001b[0;34m)\u001b[0m\u001b[0;34m\u001b[0m\u001b[0;34m\u001b[0m\u001b[0m\n\u001b[0m\u001b[1;32m    132\u001b[0m     \u001b[0;32melse\u001b[0m\u001b[0;34m:\u001b[0m\u001b[0;34m\u001b[0m\u001b[0;34m\u001b[0m\u001b[0m\n",
      "\u001b[0;32m/usr/local/lib/python3.6/dist-packages/matplotlib/artist.py\u001b[0m in \u001b[0;36mdraw_wrapper\u001b[0;34m(artist, renderer, *args, **kwargs)\u001b[0m\n\u001b[1;32m     40\u001b[0m \u001b[0;34m\u001b[0m\u001b[0m\n\u001b[0;32m---> 41\u001b[0;31m             \u001b[0;32mreturn\u001b[0m \u001b[0mdraw\u001b[0m\u001b[0;34m(\u001b[0m\u001b[0martist\u001b[0m\u001b[0;34m,\u001b[0m \u001b[0mrenderer\u001b[0m\u001b[0;34m,\u001b[0m \u001b[0;34m*\u001b[0m\u001b[0margs\u001b[0m\u001b[0;34m,\u001b[0m \u001b[0;34m**\u001b[0m\u001b[0mkwargs\u001b[0m\u001b[0;34m)\u001b[0m\u001b[0;34m\u001b[0m\u001b[0;34m\u001b[0m\u001b[0m\n\u001b[0m\u001b[1;32m     42\u001b[0m         \u001b[0;32mfinally\u001b[0m\u001b[0;34m:\u001b[0m\u001b[0;34m\u001b[0m\u001b[0;34m\u001b[0m\u001b[0m\n",
      "\u001b[0;32m/usr/local/lib/python3.6/dist-packages/matplotlib/cbook/deprecation.py\u001b[0m in \u001b[0;36mwrapper\u001b[0;34m(*inner_args, **inner_kwargs)\u001b[0m\n\u001b[1;32m    410\u001b[0m                 **kwargs)\n\u001b[0;32m--> 411\u001b[0;31m         \u001b[0;32mreturn\u001b[0m \u001b[0mfunc\u001b[0m\u001b[0;34m(\u001b[0m\u001b[0;34m*\u001b[0m\u001b[0minner_args\u001b[0m\u001b[0;34m,\u001b[0m \u001b[0;34m**\u001b[0m\u001b[0minner_kwargs\u001b[0m\u001b[0;34m)\u001b[0m\u001b[0;34m\u001b[0m\u001b[0;34m\u001b[0m\u001b[0m\n\u001b[0m\u001b[1;32m    412\u001b[0m \u001b[0;34m\u001b[0m\u001b[0m\n",
      "\u001b[0;32m/usr/local/lib/python3.6/dist-packages/matplotlib/axes/_base.py\u001b[0m in \u001b[0;36mdraw\u001b[0;34m(self, renderer, inframe)\u001b[0m\n\u001b[1;32m   2746\u001b[0m \u001b[0;34m\u001b[0m\u001b[0m\n\u001b[0;32m-> 2747\u001b[0;31m         \u001b[0mmimage\u001b[0m\u001b[0;34m.\u001b[0m\u001b[0m_draw_list_compositing_images\u001b[0m\u001b[0;34m(\u001b[0m\u001b[0mrenderer\u001b[0m\u001b[0;34m,\u001b[0m \u001b[0mself\u001b[0m\u001b[0;34m,\u001b[0m \u001b[0martists\u001b[0m\u001b[0;34m)\u001b[0m\u001b[0;34m\u001b[0m\u001b[0;34m\u001b[0m\u001b[0m\n\u001b[0m\u001b[1;32m   2748\u001b[0m \u001b[0;34m\u001b[0m\u001b[0m\n",
      "\u001b[0;32m/usr/local/lib/python3.6/dist-packages/matplotlib/image.py\u001b[0m in \u001b[0;36m_draw_list_compositing_images\u001b[0;34m(renderer, parent, artists, suppress_composite)\u001b[0m\n\u001b[1;32m    130\u001b[0m         \u001b[0;32mfor\u001b[0m \u001b[0ma\u001b[0m \u001b[0;32min\u001b[0m \u001b[0martists\u001b[0m\u001b[0;34m:\u001b[0m\u001b[0;34m\u001b[0m\u001b[0;34m\u001b[0m\u001b[0m\n\u001b[0;32m--> 131\u001b[0;31m             \u001b[0ma\u001b[0m\u001b[0;34m.\u001b[0m\u001b[0mdraw\u001b[0m\u001b[0;34m(\u001b[0m\u001b[0mrenderer\u001b[0m\u001b[0;34m)\u001b[0m\u001b[0;34m\u001b[0m\u001b[0;34m\u001b[0m\u001b[0m\n\u001b[0m\u001b[1;32m    132\u001b[0m     \u001b[0;32melse\u001b[0m\u001b[0;34m:\u001b[0m\u001b[0;34m\u001b[0m\u001b[0;34m\u001b[0m\u001b[0m\n",
      "\u001b[0;32m/usr/local/lib/python3.6/dist-packages/matplotlib/artist.py\u001b[0m in \u001b[0;36mdraw_wrapper\u001b[0;34m(artist, renderer, *args, **kwargs)\u001b[0m\n\u001b[1;32m     40\u001b[0m \u001b[0;34m\u001b[0m\u001b[0m\n\u001b[0;32m---> 41\u001b[0;31m             \u001b[0;32mreturn\u001b[0m \u001b[0mdraw\u001b[0m\u001b[0;34m(\u001b[0m\u001b[0martist\u001b[0m\u001b[0;34m,\u001b[0m \u001b[0mrenderer\u001b[0m\u001b[0;34m,\u001b[0m \u001b[0;34m*\u001b[0m\u001b[0margs\u001b[0m\u001b[0;34m,\u001b[0m \u001b[0;34m**\u001b[0m\u001b[0mkwargs\u001b[0m\u001b[0;34m)\u001b[0m\u001b[0;34m\u001b[0m\u001b[0;34m\u001b[0m\u001b[0m\n\u001b[0m\u001b[1;32m     42\u001b[0m         \u001b[0;32mfinally\u001b[0m\u001b[0;34m:\u001b[0m\u001b[0;34m\u001b[0m\u001b[0;34m\u001b[0m\u001b[0m\n",
      "\u001b[0;32m/usr/local/lib/python3.6/dist-packages/matplotlib/axis.py\u001b[0m in \u001b[0;36mdraw\u001b[0;34m(self, renderer, *args, **kwargs)\u001b[0m\n\u001b[1;32m   1163\u001b[0m \u001b[0;34m\u001b[0m\u001b[0m\n\u001b[0;32m-> 1164\u001b[0;31m         \u001b[0mticks_to_draw\u001b[0m \u001b[0;34m=\u001b[0m \u001b[0mself\u001b[0m\u001b[0;34m.\u001b[0m\u001b[0m_update_ticks\u001b[0m\u001b[0;34m(\u001b[0m\u001b[0;34m)\u001b[0m\u001b[0;34m\u001b[0m\u001b[0;34m\u001b[0m\u001b[0m\n\u001b[0m\u001b[1;32m   1165\u001b[0m         ticklabelBoxes, ticklabelBoxes2 = self._get_tick_bboxes(ticks_to_draw,\n",
      "\u001b[0;32m/usr/local/lib/python3.6/dist-packages/matplotlib/axis.py\u001b[0m in \u001b[0;36m_update_ticks\u001b[0;34m(self)\u001b[0m\n\u001b[1;32m   1022\u001b[0m         \u001b[0mmajor_labels\u001b[0m \u001b[0;34m=\u001b[0m \u001b[0mself\u001b[0m\u001b[0;34m.\u001b[0m\u001b[0mmajor\u001b[0m\u001b[0;34m.\u001b[0m\u001b[0mformatter\u001b[0m\u001b[0;34m.\u001b[0m\u001b[0mformat_ticks\u001b[0m\u001b[0;34m(\u001b[0m\u001b[0mmajor_locs\u001b[0m\u001b[0;34m)\u001b[0m\u001b[0;34m\u001b[0m\u001b[0;34m\u001b[0m\u001b[0m\n\u001b[0;32m-> 1023\u001b[0;31m         \u001b[0mmajor_ticks\u001b[0m \u001b[0;34m=\u001b[0m \u001b[0mself\u001b[0m\u001b[0;34m.\u001b[0m\u001b[0mget_major_ticks\u001b[0m\u001b[0;34m(\u001b[0m\u001b[0mlen\u001b[0m\u001b[0;34m(\u001b[0m\u001b[0mmajor_locs\u001b[0m\u001b[0;34m)\u001b[0m\u001b[0;34m)\u001b[0m\u001b[0;34m\u001b[0m\u001b[0;34m\u001b[0m\u001b[0m\n\u001b[0m\u001b[1;32m   1024\u001b[0m         \u001b[0mself\u001b[0m\u001b[0;34m.\u001b[0m\u001b[0mmajor\u001b[0m\u001b[0;34m.\u001b[0m\u001b[0mformatter\u001b[0m\u001b[0;34m.\u001b[0m\u001b[0mset_locs\u001b[0m\u001b[0;34m(\u001b[0m\u001b[0mmajor_locs\u001b[0m\u001b[0;34m)\u001b[0m\u001b[0;34m\u001b[0m\u001b[0;34m\u001b[0m\u001b[0m\n",
      "\u001b[0;32m/usr/local/lib/python3.6/dist-packages/matplotlib/axis.py\u001b[0m in \u001b[0;36mget_major_ticks\u001b[0;34m(self, numticks)\u001b[0m\n\u001b[1;32m   1381\u001b[0m             \u001b[0;31m# Update the new tick label properties from the old.\u001b[0m\u001b[0;34m\u001b[0m\u001b[0;34m\u001b[0m\u001b[0;34m\u001b[0m\u001b[0m\n\u001b[0;32m-> 1382\u001b[0;31m             \u001b[0mtick\u001b[0m \u001b[0;34m=\u001b[0m \u001b[0mself\u001b[0m\u001b[0;34m.\u001b[0m\u001b[0m_get_tick\u001b[0m\u001b[0;34m(\u001b[0m\u001b[0mmajor\u001b[0m\u001b[0;34m=\u001b[0m\u001b[0;32mTrue\u001b[0m\u001b[0;34m)\u001b[0m\u001b[0;34m\u001b[0m\u001b[0;34m\u001b[0m\u001b[0m\n\u001b[0m\u001b[1;32m   1383\u001b[0m             \u001b[0mself\u001b[0m\u001b[0;34m.\u001b[0m\u001b[0mmajorTicks\u001b[0m\u001b[0;34m.\u001b[0m\u001b[0mappend\u001b[0m\u001b[0;34m(\u001b[0m\u001b[0mtick\u001b[0m\u001b[0;34m)\u001b[0m\u001b[0;34m\u001b[0m\u001b[0;34m\u001b[0m\u001b[0m\n",
      "\u001b[0;32m/usr/local/lib/python3.6/dist-packages/matplotlib/axis.py\u001b[0m in \u001b[0;36m_get_tick\u001b[0;34m(self, major)\u001b[0m\n\u001b[1;32m   2012\u001b[0m             \u001b[0mtick_kw\u001b[0m \u001b[0;34m=\u001b[0m \u001b[0mself\u001b[0m\u001b[0;34m.\u001b[0m\u001b[0m_minor_tick_kw\u001b[0m\u001b[0;34m\u001b[0m\u001b[0;34m\u001b[0m\u001b[0m\n\u001b[0;32m-> 2013\u001b[0;31m         \u001b[0;32mreturn\u001b[0m \u001b[0mXTick\u001b[0m\u001b[0;34m(\u001b[0m\u001b[0mself\u001b[0m\u001b[0;34m.\u001b[0m\u001b[0maxes\u001b[0m\u001b[0;34m,\u001b[0m \u001b[0;36m0\u001b[0m\u001b[0;34m,\u001b[0m \u001b[0mmajor\u001b[0m\u001b[0;34m=\u001b[0m\u001b[0mmajor\u001b[0m\u001b[0;34m,\u001b[0m \u001b[0;34m**\u001b[0m\u001b[0mtick_kw\u001b[0m\u001b[0;34m)\u001b[0m\u001b[0;34m\u001b[0m\u001b[0;34m\u001b[0m\u001b[0m\n\u001b[0m\u001b[1;32m   2014\u001b[0m \u001b[0;34m\u001b[0m\u001b[0m\n",
      "\u001b[0;32m/usr/local/lib/python3.6/dist-packages/matplotlib/axis.py\u001b[0m in \u001b[0;36m__init__\u001b[0;34m(self, *args, **kwargs)\u001b[0m\n\u001b[1;32m    430\u001b[0m             \u001b[0mxdata\u001b[0m\u001b[0;34m=\u001b[0m\u001b[0;34m[\u001b[0m\u001b[0;36m0\u001b[0m\u001b[0;34m,\u001b[0m \u001b[0;36m0\u001b[0m\u001b[0;34m]\u001b[0m\u001b[0;34m,\u001b[0m \u001b[0mydata\u001b[0m\u001b[0;34m=\u001b[0m\u001b[0;34m[\u001b[0m\u001b[0;36m0\u001b[0m\u001b[0;34m,\u001b[0m \u001b[0;36m1\u001b[0m\u001b[0;34m]\u001b[0m\u001b[0;34m,\u001b[0m\u001b[0;34m\u001b[0m\u001b[0;34m\u001b[0m\u001b[0m\n\u001b[0;32m--> 431\u001b[0;31m             \u001b[0mtransform\u001b[0m\u001b[0;34m=\u001b[0m\u001b[0mself\u001b[0m\u001b[0;34m.\u001b[0m\u001b[0maxes\u001b[0m\u001b[0;34m.\u001b[0m\u001b[0mget_xaxis_transform\u001b[0m\u001b[0;34m(\u001b[0m\u001b[0mwhich\u001b[0m\u001b[0;34m=\u001b[0m\u001b[0;34m\"grid\"\u001b[0m\u001b[0;34m)\u001b[0m\u001b[0;34m,\u001b[0m\u001b[0;34m\u001b[0m\u001b[0;34m\u001b[0m\u001b[0m\n\u001b[0m\u001b[1;32m    432\u001b[0m         )\n",
      "\u001b[0;32m/usr/local/lib/python3.6/dist-packages/matplotlib/artist.py\u001b[0m in \u001b[0;36mset\u001b[0;34m(self, **kwargs)\u001b[0m\n\u001b[1;32m   1087\u001b[0m         \u001b[0;34m\"\"\"A property batch setter.  Pass *kwargs* to set properties.\"\"\"\u001b[0m\u001b[0;34m\u001b[0m\u001b[0;34m\u001b[0m\u001b[0m\n\u001b[0;32m-> 1088\u001b[0;31m         \u001b[0mkwargs\u001b[0m \u001b[0;34m=\u001b[0m \u001b[0mcbook\u001b[0m\u001b[0;34m.\u001b[0m\u001b[0mnormalize_kwargs\u001b[0m\u001b[0;34m(\u001b[0m\u001b[0mkwargs\u001b[0m\u001b[0;34m,\u001b[0m \u001b[0mself\u001b[0m\u001b[0;34m)\u001b[0m\u001b[0;34m\u001b[0m\u001b[0;34m\u001b[0m\u001b[0m\n\u001b[0m\u001b[1;32m   1089\u001b[0m         \u001b[0mmove_color_to_start\u001b[0m \u001b[0;34m=\u001b[0m \u001b[0;32mFalse\u001b[0m\u001b[0;34m\u001b[0m\u001b[0;34m\u001b[0m\u001b[0m\n",
      "\u001b[0;32m/usr/local/lib/python3.6/dist-packages/matplotlib/cbook/deprecation.py\u001b[0m in \u001b[0;36mwrapper\u001b[0;34m(*inner_args, **inner_kwargs)\u001b[0m\n\u001b[1;32m    410\u001b[0m                 **kwargs)\n\u001b[0;32m--> 411\u001b[0;31m         \u001b[0;32mreturn\u001b[0m \u001b[0mfunc\u001b[0m\u001b[0;34m(\u001b[0m\u001b[0;34m*\u001b[0m\u001b[0minner_args\u001b[0m\u001b[0;34m,\u001b[0m \u001b[0;34m**\u001b[0m\u001b[0minner_kwargs\u001b[0m\u001b[0;34m)\u001b[0m\u001b[0;34m\u001b[0m\u001b[0;34m\u001b[0m\u001b[0m\n\u001b[0m\u001b[1;32m    412\u001b[0m \u001b[0;34m\u001b[0m\u001b[0m\n",
      "\u001b[0;32m/usr/local/lib/python3.6/dist-packages/matplotlib/cbook/deprecation.py\u001b[0m in \u001b[0;36mwrapper\u001b[0;34m(*inner_args, **inner_kwargs)\u001b[0m\n\u001b[1;32m    385\u001b[0m     \u001b[0;32mdef\u001b[0m \u001b[0mwrapper\u001b[0m\u001b[0;34m(\u001b[0m\u001b[0;34m*\u001b[0m\u001b[0minner_args\u001b[0m\u001b[0;34m,\u001b[0m \u001b[0;34m**\u001b[0m\u001b[0minner_kwargs\u001b[0m\u001b[0;34m)\u001b[0m\u001b[0;34m:\u001b[0m\u001b[0;34m\u001b[0m\u001b[0;34m\u001b[0m\u001b[0m\n\u001b[0;32m--> 386\u001b[0;31m         \u001b[0marguments\u001b[0m \u001b[0;34m=\u001b[0m \u001b[0msignature\u001b[0m\u001b[0;34m.\u001b[0m\u001b[0mbind\u001b[0m\u001b[0;34m(\u001b[0m\u001b[0;34m*\u001b[0m\u001b[0minner_args\u001b[0m\u001b[0;34m,\u001b[0m \u001b[0;34m**\u001b[0m\u001b[0minner_kwargs\u001b[0m\u001b[0;34m)\u001b[0m\u001b[0;34m.\u001b[0m\u001b[0marguments\u001b[0m\u001b[0;34m\u001b[0m\u001b[0;34m\u001b[0m\u001b[0m\n\u001b[0m\u001b[1;32m    387\u001b[0m         \u001b[0;32mif\u001b[0m \u001b[0mis_varargs\u001b[0m \u001b[0;32mand\u001b[0m \u001b[0marguments\u001b[0m\u001b[0;34m.\u001b[0m\u001b[0mget\u001b[0m\u001b[0;34m(\u001b[0m\u001b[0mname\u001b[0m\u001b[0;34m)\u001b[0m\u001b[0;34m:\u001b[0m\u001b[0;34m\u001b[0m\u001b[0;34m\u001b[0m\u001b[0m\n",
      "\u001b[0;32m/usr/lib/python3.6/inspect.py\u001b[0m in \u001b[0;36mbind\u001b[0;34m(*args, **kwargs)\u001b[0m\n\u001b[1;32m   2996\u001b[0m         \"\"\"\n\u001b[0;32m-> 2997\u001b[0;31m         \u001b[0;32mreturn\u001b[0m \u001b[0margs\u001b[0m\u001b[0;34m[\u001b[0m\u001b[0;36m0\u001b[0m\u001b[0;34m]\u001b[0m\u001b[0;34m.\u001b[0m\u001b[0m_bind\u001b[0m\u001b[0;34m(\u001b[0m\u001b[0margs\u001b[0m\u001b[0;34m[\u001b[0m\u001b[0;36m1\u001b[0m\u001b[0;34m:\u001b[0m\u001b[0;34m]\u001b[0m\u001b[0;34m,\u001b[0m \u001b[0mkwargs\u001b[0m\u001b[0;34m)\u001b[0m\u001b[0;34m\u001b[0m\u001b[0;34m\u001b[0m\u001b[0m\n\u001b[0m\u001b[1;32m   2998\u001b[0m \u001b[0;34m\u001b[0m\u001b[0m\n",
      "\u001b[0;32m/usr/lib/python3.6/inspect.py\u001b[0m in \u001b[0;36m_bind\u001b[0;34m(self, args, kwargs, partial)\u001b[0m\n\u001b[1;32m   2934\u001b[0m \u001b[0;34m\u001b[0m\u001b[0m\n\u001b[0;32m-> 2935\u001b[0;31m                     \u001b[0;32mif\u001b[0m \u001b[0mparam\u001b[0m\u001b[0;34m.\u001b[0m\u001b[0mname\u001b[0m \u001b[0;32min\u001b[0m \u001b[0mkwargs\u001b[0m\u001b[0;34m:\u001b[0m\u001b[0;34m\u001b[0m\u001b[0;34m\u001b[0m\u001b[0m\n\u001b[0m\u001b[1;32m   2936\u001b[0m                         raise TypeError(\n",
      "\u001b[0;32m/usr/lib/python3.6/inspect.py\u001b[0m in \u001b[0;36m_bind\u001b[0;34m(self, args, kwargs, partial)\u001b[0m\n\u001b[1;32m   2934\u001b[0m \u001b[0;34m\u001b[0m\u001b[0m\n\u001b[0;32m-> 2935\u001b[0;31m                     \u001b[0;32mif\u001b[0m \u001b[0mparam\u001b[0m\u001b[0;34m.\u001b[0m\u001b[0mname\u001b[0m \u001b[0;32min\u001b[0m \u001b[0mkwargs\u001b[0m\u001b[0;34m:\u001b[0m\u001b[0;34m\u001b[0m\u001b[0;34m\u001b[0m\u001b[0m\n\u001b[0m\u001b[1;32m   2936\u001b[0m                         raise TypeError(\n",
      "\u001b[0;32m/usr/lib/python3.6/bdb.py\u001b[0m in \u001b[0;36mtrace_dispatch\u001b[0;34m(self, frame, event, arg)\u001b[0m\n\u001b[1;32m     50\u001b[0m         \u001b[0;32mif\u001b[0m \u001b[0mevent\u001b[0m \u001b[0;34m==\u001b[0m \u001b[0;34m'line'\u001b[0m\u001b[0;34m:\u001b[0m\u001b[0;34m\u001b[0m\u001b[0;34m\u001b[0m\u001b[0m\n\u001b[0;32m---> 51\u001b[0;31m             \u001b[0;32mreturn\u001b[0m \u001b[0mself\u001b[0m\u001b[0;34m.\u001b[0m\u001b[0mdispatch_line\u001b[0m\u001b[0;34m(\u001b[0m\u001b[0mframe\u001b[0m\u001b[0;34m)\u001b[0m\u001b[0;34m\u001b[0m\u001b[0;34m\u001b[0m\u001b[0m\n\u001b[0m\u001b[1;32m     52\u001b[0m         \u001b[0;32mif\u001b[0m \u001b[0mevent\u001b[0m \u001b[0;34m==\u001b[0m \u001b[0;34m'call'\u001b[0m\u001b[0;34m:\u001b[0m\u001b[0;34m\u001b[0m\u001b[0;34m\u001b[0m\u001b[0m\n",
      "\u001b[0;32m/usr/lib/python3.6/bdb.py\u001b[0m in \u001b[0;36mdispatch_line\u001b[0;34m(self, frame)\u001b[0m\n\u001b[1;32m     68\u001b[0m         \u001b[0;32mif\u001b[0m \u001b[0mself\u001b[0m\u001b[0;34m.\u001b[0m\u001b[0mstop_here\u001b[0m\u001b[0;34m(\u001b[0m\u001b[0mframe\u001b[0m\u001b[0;34m)\u001b[0m \u001b[0;32mor\u001b[0m \u001b[0mself\u001b[0m\u001b[0;34m.\u001b[0m\u001b[0mbreak_here\u001b[0m\u001b[0;34m(\u001b[0m\u001b[0mframe\u001b[0m\u001b[0;34m)\u001b[0m\u001b[0;34m:\u001b[0m\u001b[0;34m\u001b[0m\u001b[0;34m\u001b[0m\u001b[0m\n\u001b[0;32m---> 69\u001b[0;31m             \u001b[0mself\u001b[0m\u001b[0;34m.\u001b[0m\u001b[0muser_line\u001b[0m\u001b[0;34m(\u001b[0m\u001b[0mframe\u001b[0m\u001b[0;34m)\u001b[0m\u001b[0;34m\u001b[0m\u001b[0;34m\u001b[0m\u001b[0m\n\u001b[0m\u001b[1;32m     70\u001b[0m             \u001b[0;32mif\u001b[0m \u001b[0mself\u001b[0m\u001b[0;34m.\u001b[0m\u001b[0mquitting\u001b[0m\u001b[0;34m:\u001b[0m \u001b[0;32mraise\u001b[0m \u001b[0mBdbQuit\u001b[0m\u001b[0;34m\u001b[0m\u001b[0;34m\u001b[0m\u001b[0m\n",
      "\u001b[0;32m/usr/local/lib/python3.6/dist-packages/nbtutor/ipython/debugger.py\u001b[0m in \u001b[0;36muser_line\u001b[0;34m(self, frame)\u001b[0m\n\u001b[1;32m     62\u001b[0m         \u001b[0;34m\"\"\"This function is called when we stop or break at this line.\"\"\"\u001b[0m\u001b[0;34m\u001b[0m\u001b[0;34m\u001b[0m\u001b[0m\n\u001b[0;32m---> 63\u001b[0;31m         \u001b[0mself\u001b[0m\u001b[0;34m.\u001b[0m\u001b[0mget_stack_data\u001b[0m\u001b[0;34m(\u001b[0m\u001b[0mframe\u001b[0m\u001b[0;34m,\u001b[0m \u001b[0;32mNone\u001b[0m\u001b[0;34m,\u001b[0m \u001b[0;34m'step_line'\u001b[0m\u001b[0;34m)\u001b[0m\u001b[0;34m\u001b[0m\u001b[0;34m\u001b[0m\u001b[0m\n\u001b[0m\u001b[1;32m     64\u001b[0m \u001b[0;34m\u001b[0m\u001b[0m\n",
      "\u001b[0;32m/usr/local/lib/python3.6/dist-packages/nbtutor/ipython/debugger.py\u001b[0m in \u001b[0;36mget_stack_data\u001b[0;34m(self, frame, traceback, event_type)\u001b[0m\n\u001b[1;32m    122\u001b[0m             \u001b[0mstack_data\u001b[0m\u001b[0;34m.\u001b[0m\u001b[0madd\u001b[0m\u001b[0;34m(\u001b[0m\u001b[0mframe\u001b[0m\u001b[0;34m,\u001b[0m \u001b[0mlineno\u001b[0m\u001b[0;34m,\u001b[0m \u001b[0mevent_type\u001b[0m\u001b[0;34m,\u001b[0m \u001b[0muser_locals\u001b[0m\u001b[0;34m)\u001b[0m\u001b[0;34m\u001b[0m\u001b[0;34m\u001b[0m\u001b[0m\n\u001b[0;32m--> 123\u001b[0;31m             \u001b[0mheap_data\u001b[0m\u001b[0;34m.\u001b[0m\u001b[0madd\u001b[0m\u001b[0;34m(\u001b[0m\u001b[0muser_locals\u001b[0m\u001b[0;34m)\u001b[0m\u001b[0;34m\u001b[0m\u001b[0;34m\u001b[0m\u001b[0m\n\u001b[0m\u001b[1;32m    124\u001b[0m \u001b[0;34m\u001b[0m\u001b[0m\n",
      "\u001b[0;32m/usr/local/lib/python3.6/dist-packages/nbtutor/ipython/history.py\u001b[0m in \u001b[0;36madd\u001b[0;34m(self, filtered_locals)\u001b[0m\n\u001b[1;32m    298\u001b[0m         \u001b[0;32mfor\u001b[0m \u001b[0mobj\u001b[0m \u001b[0;32min\u001b[0m \u001b[0mfiltered_locals\u001b[0m\u001b[0;34m.\u001b[0m\u001b[0mvalues\u001b[0m\u001b[0;34m(\u001b[0m\u001b[0;34m)\u001b[0m\u001b[0;34m:\u001b[0m\u001b[0;34m\u001b[0m\u001b[0;34m\u001b[0m\u001b[0m\n\u001b[0;32m--> 299\u001b[0;31m             \u001b[0mself\u001b[0m\u001b[0;34m.\u001b[0m\u001b[0m_add\u001b[0m\u001b[0;34m(\u001b[0m\u001b[0mobj\u001b[0m\u001b[0;34m)\u001b[0m\u001b[0;34m\u001b[0m\u001b[0;34m\u001b[0m\u001b[0m\n\u001b[0m\u001b[1;32m    300\u001b[0m \u001b[0;34m\u001b[0m\u001b[0m\n",
      "\u001b[0;32m/usr/local/lib/python3.6/dist-packages/nbtutor/ipython/history.py\u001b[0m in \u001b[0;36m_add\u001b[0;34m(self, obj, **kwargs)\u001b[0m\n\u001b[1;32m    289\u001b[0m         \u001b[0;32melif\u001b[0m \u001b[0mtype_info\u001b[0m\u001b[0;34m[\u001b[0m\u001b[0;36m0\u001b[0m\u001b[0;34m]\u001b[0m \u001b[0;34m==\u001b[0m \u001b[0;34m'array'\u001b[0m\u001b[0;34m:\u001b[0m\u001b[0;34m\u001b[0m\u001b[0;34m\u001b[0m\u001b[0m\n\u001b[0;32m--> 290\u001b[0;31m             \u001b[0mself\u001b[0m\u001b[0;34m.\u001b[0m\u001b[0m_add_array_object\u001b[0m\u001b[0;34m(\u001b[0m\u001b[0mobj\u001b[0m\u001b[0;34m,\u001b[0m \u001b[0mtype_info\u001b[0m\u001b[0;34m,\u001b[0m \u001b[0;34m**\u001b[0m\u001b[0mkwargs\u001b[0m\u001b[0;34m)\u001b[0m\u001b[0;34m\u001b[0m\u001b[0;34m\u001b[0m\u001b[0m\n\u001b[0m\u001b[1;32m    291\u001b[0m         \u001b[0;32melif\u001b[0m \u001b[0mtype_info\u001b[0m\u001b[0;34m[\u001b[0m\u001b[0;36m0\u001b[0m\u001b[0;34m]\u001b[0m \u001b[0;34m==\u001b[0m \u001b[0;34m'class'\u001b[0m \u001b[0;32mor\u001b[0m \u001b[0mtype_info\u001b[0m\u001b[0;34m[\u001b[0m\u001b[0;36m0\u001b[0m\u001b[0;34m]\u001b[0m\u001b[0;34m.\u001b[0m\u001b[0mendswith\u001b[0m\u001b[0;34m(\u001b[0m\u001b[0;34m'instance'\u001b[0m\u001b[0;34m)\u001b[0m\u001b[0;34m:\u001b[0m\u001b[0;34m\u001b[0m\u001b[0;34m\u001b[0m\u001b[0m\n",
      "\u001b[0;32m/usr/local/lib/python3.6/dist-packages/nbtutor/ipython/history.py\u001b[0m in \u001b[0;36m_add_array_object\u001b[0;34m(self, obj, type_info, **kwargs)\u001b[0m\n\u001b[1;32m    149\u001b[0m         \u001b[0;32mif\u001b[0m \u001b[0;32mnot\u001b[0m \u001b[0mself\u001b[0m\u001b[0;34m.\u001b[0m\u001b[0moptions\u001b[0m\u001b[0;34m.\u001b[0m\u001b[0mexpand_arrays\u001b[0m \u001b[0;32mand\u001b[0m \u001b[0mobj\u001b[0m\u001b[0;34m.\u001b[0m\u001b[0mndim\u001b[0m \u001b[0;34m==\u001b[0m \u001b[0;36m1\u001b[0m\u001b[0;34m:\u001b[0m\u001b[0;34m\u001b[0m\u001b[0;34m\u001b[0m\u001b[0m\n\u001b[0;32m--> 150\u001b[0;31m             \u001b[0mself\u001b[0m\u001b[0;34m.\u001b[0m\u001b[0m_add_array_data_object\u001b[0m\u001b[0;34m(\u001b[0m\u001b[0mobj\u001b[0m\u001b[0;34m,\u001b[0m \u001b[0mtype_info\u001b[0m\u001b[0;34m,\u001b[0m \u001b[0;34m**\u001b[0m\u001b[0mkwargs\u001b[0m\u001b[0;34m)\u001b[0m\u001b[0;34m\u001b[0m\u001b[0;34m\u001b[0m\u001b[0m\n\u001b[0m\u001b[1;32m    151\u001b[0m             \u001b[0mself\u001b[0m\u001b[0;34m.\u001b[0m\u001b[0mdata\u001b[0m\u001b[0;34m[\u001b[0m\u001b[0;34m-\u001b[0m\u001b[0;36m1\u001b[0m\u001b[0;34m]\u001b[0m\u001b[0;34m[\u001b[0m\u001b[0;34m'type'\u001b[0m\u001b[0;34m]\u001b[0m \u001b[0;34m=\u001b[0m \u001b[0;34m'{} ({})'\u001b[0m\u001b[0;34m.\u001b[0m\u001b[0mformat\u001b[0m\u001b[0;34m(\u001b[0m\u001b[0mtype_name\u001b[0m\u001b[0;34m,\u001b[0m \u001b[0mobj\u001b[0m\u001b[0;34m.\u001b[0m\u001b[0mdtype\u001b[0m\u001b[0;34m)\u001b[0m\u001b[0;34m\u001b[0m\u001b[0;34m\u001b[0m\u001b[0m\n",
      "\u001b[0;32m/usr/local/lib/python3.6/dist-packages/nbtutor/ipython/history.py\u001b[0m in \u001b[0;36m_add_array_data_object\u001b[0;34m(self, obj, type_info, **kwargs)\u001b[0m\n\u001b[1;32m    120\u001b[0m                 \u001b[0;32mbreak\u001b[0m\u001b[0;34m\u001b[0m\u001b[0;34m\u001b[0m\u001b[0m\n\u001b[0;32m--> 121\u001b[0;31m             \u001b[0mdata_values\u001b[0m\u001b[0;34m.\u001b[0m\u001b[0mappend\u001b[0m\u001b[0;34m(\u001b[0m\u001b[0mformat\u001b[0m\u001b[0;34m(\u001b[0m\u001b[0mval\u001b[0m\u001b[0;34m,\u001b[0m \u001b[0mself\u001b[0m\u001b[0;34m.\u001b[0m\u001b[0moptions\u001b[0m\u001b[0;34m)\u001b[0m\u001b[0;34m)\u001b[0m\u001b[0;34m\u001b[0m\u001b[0;34m\u001b[0m\u001b[0m\n\u001b[0m\u001b[1;32m    122\u001b[0m \u001b[0;34m\u001b[0m\u001b[0m\n",
      "\u001b[0;32m/usr/local/lib/python3.6/dist-packages/nbtutor/ipython/utils.py\u001b[0m in \u001b[0;36mformat\u001b[0;34m(obj, options)\u001b[0m\n\u001b[1;32m    118\u001b[0m         \u001b[0;32mif\u001b[0m \u001b[0misinstance\u001b[0m\u001b[0;34m(\u001b[0m\u001b[0mobj\u001b[0m\u001b[0;34m,\u001b[0m \u001b[0m_types\u001b[0m\u001b[0;34m)\u001b[0m\u001b[0;34m:\u001b[0m\u001b[0;34m\u001b[0m\u001b[0;34m\u001b[0m\u001b[0m\n\u001b[0;32m--> 119\u001b[0;31m             \u001b[0;32mreturn\u001b[0m \u001b[0mfmtr\u001b[0m\u001b[0;34m(\u001b[0m\u001b[0mobj\u001b[0m\u001b[0;34m)\u001b[0m\u001b[0;34m\u001b[0m\u001b[0;34m\u001b[0m\u001b[0m\n\u001b[0m\u001b[1;32m    120\u001b[0m     \u001b[0;32mtry\u001b[0m\u001b[0;34m:\u001b[0m\u001b[0;34m\u001b[0m\u001b[0;34m\u001b[0m\u001b[0m\n",
      "\u001b[0;32m/usr/local/lib/python3.6/dist-packages/nbtutor/ipython/utils.py\u001b[0m in \u001b[0;36m<lambda>\u001b[0;34m(x)\u001b[0m\n\u001b[1;32m    114\u001b[0m     formatters = {\n\u001b[0;32m--> 115\u001b[0;31m         \u001b[0mfloat_types\u001b[0m\u001b[0;34m:\u001b[0m \u001b[0;32mlambda\u001b[0m \u001b[0mx\u001b[0m\u001b[0;34m:\u001b[0m \u001b[0;34m'{:.{}g}'\u001b[0m\u001b[0;34m.\u001b[0m\u001b[0mformat\u001b[0m\u001b[0;34m(\u001b[0m\u001b[0mx\u001b[0m\u001b[0;34m,\u001b[0m \u001b[0moptions\u001b[0m\u001b[0;34m.\u001b[0m\u001b[0mdigits\u001b[0m\u001b[0;34m)\u001b[0m\u001b[0;34m,\u001b[0m\u001b[0;34m\u001b[0m\u001b[0;34m\u001b[0m\u001b[0m\n\u001b[0m\u001b[1;32m    116\u001b[0m     }\n",
      "\u001b[0;31mKeyboardInterrupt\u001b[0m: ",
      "\nDuring handling of the above exception, another exception occurred:\n",
      "\u001b[0;31mBdbQuit\u001b[0m                                   Traceback (most recent call last)",
      "\u001b[0;32m<ipython-input-16-72b13d736f51>\u001b[0m in \u001b[0;36m<module>\u001b[0;34m\u001b[0m\n\u001b[0;32m----> 1\u001b[0;31m \u001b[0mget_ipython\u001b[0m\u001b[0;34m(\u001b[0m\u001b[0;34m)\u001b[0m\u001b[0;34m.\u001b[0m\u001b[0mrun_cell_magic\u001b[0m\u001b[0;34m(\u001b[0m\u001b[0;34m'nbtutor'\u001b[0m\u001b[0;34m,\u001b[0m \u001b[0;34m'--reset --force --debug'\u001b[0m\u001b[0;34m,\u001b[0m \u001b[0;34m'\\nimport numpy as np\\nimport matplotlib.pyplot as plt\\n\\nX = np.linspace(-10, 10, 40)\\n\\ndef f1(x): return np.cos(x**2)\\ndef f2(x): return np.sin(x**2)\\ndef f3(x): return f1(x)+f2(x) \\nY1 = f1(X)\\nY2 = f2(X)\\nY3 = f3(X)\\n\\nwith plt.xkcd():\\n    plt.figure(figsize=(14,8))\\n    plt.plot(X, Y1, \"+-r\", label=\"$f_1(x)$\", ms=10, lw=3)\\n    #plt.plot(X, Y2, \"o-b\", label=\"$f_2(x)$\", ms=10, lw=3)\\n    #plt.plot(X, Y3, \"d-y\", label=\"$f_3(x)$\", ms=10, lw=3)\\n    plt.legend()\\n    #plt.xlabel(\"Axe $x$\")\\n    #plt.ylabel(\"Axe $y$\")\\n    plt.title(\"Trois fonctions de la variable réelle\")\\n    plt.show()\\n'\u001b[0m\u001b[0;34m)\u001b[0m\u001b[0;34m\u001b[0m\u001b[0;34m\u001b[0m\u001b[0m\n\u001b[0m",
      "\u001b[0;32m/usr/local/lib/python3.6/dist-packages/IPython/core/interactiveshell.py\u001b[0m in \u001b[0;36mrun_cell_magic\u001b[0;34m(self, magic_name, line, cell)\u001b[0m\n\u001b[1;32m   2369\u001b[0m             \u001b[0;32mwith\u001b[0m \u001b[0mself\u001b[0m\u001b[0;34m.\u001b[0m\u001b[0mbuiltin_trap\u001b[0m\u001b[0;34m:\u001b[0m\u001b[0;34m\u001b[0m\u001b[0;34m\u001b[0m\u001b[0m\n\u001b[1;32m   2370\u001b[0m                 \u001b[0margs\u001b[0m \u001b[0;34m=\u001b[0m \u001b[0;34m(\u001b[0m\u001b[0mmagic_arg_s\u001b[0m\u001b[0;34m,\u001b[0m \u001b[0mcell\u001b[0m\u001b[0;34m)\u001b[0m\u001b[0;34m\u001b[0m\u001b[0;34m\u001b[0m\u001b[0m\n\u001b[0;32m-> 2371\u001b[0;31m                 \u001b[0mresult\u001b[0m \u001b[0;34m=\u001b[0m \u001b[0mfn\u001b[0m\u001b[0;34m(\u001b[0m\u001b[0;34m*\u001b[0m\u001b[0margs\u001b[0m\u001b[0;34m,\u001b[0m \u001b[0;34m**\u001b[0m\u001b[0mkwargs\u001b[0m\u001b[0;34m)\u001b[0m\u001b[0;34m\u001b[0m\u001b[0;34m\u001b[0m\u001b[0m\n\u001b[0m\u001b[1;32m   2372\u001b[0m             \u001b[0;32mreturn\u001b[0m \u001b[0mresult\u001b[0m\u001b[0;34m\u001b[0m\u001b[0;34m\u001b[0m\u001b[0m\n\u001b[1;32m   2373\u001b[0m \u001b[0;34m\u001b[0m\u001b[0m\n",
      "\u001b[0;32m<decorator-gen-126>\u001b[0m in \u001b[0;36mnbtutor\u001b[0;34m(self, line, cell)\u001b[0m\n",
      "\u001b[0;32m/usr/local/lib/python3.6/dist-packages/IPython/core/magic.py\u001b[0m in \u001b[0;36m<lambda>\u001b[0;34m(f, *a, **k)\u001b[0m\n\u001b[1;32m    185\u001b[0m     \u001b[0;31m# but it's overkill for just that one bit of state.\u001b[0m\u001b[0;34m\u001b[0m\u001b[0;34m\u001b[0m\u001b[0;34m\u001b[0m\u001b[0m\n\u001b[1;32m    186\u001b[0m     \u001b[0;32mdef\u001b[0m \u001b[0mmagic_deco\u001b[0m\u001b[0;34m(\u001b[0m\u001b[0marg\u001b[0m\u001b[0;34m)\u001b[0m\u001b[0;34m:\u001b[0m\u001b[0;34m\u001b[0m\u001b[0;34m\u001b[0m\u001b[0m\n\u001b[0;32m--> 187\u001b[0;31m         \u001b[0mcall\u001b[0m \u001b[0;34m=\u001b[0m \u001b[0;32mlambda\u001b[0m \u001b[0mf\u001b[0m\u001b[0;34m,\u001b[0m \u001b[0;34m*\u001b[0m\u001b[0ma\u001b[0m\u001b[0;34m,\u001b[0m \u001b[0;34m**\u001b[0m\u001b[0mk\u001b[0m\u001b[0;34m:\u001b[0m \u001b[0mf\u001b[0m\u001b[0;34m(\u001b[0m\u001b[0;34m*\u001b[0m\u001b[0ma\u001b[0m\u001b[0;34m,\u001b[0m \u001b[0;34m**\u001b[0m\u001b[0mk\u001b[0m\u001b[0;34m)\u001b[0m\u001b[0;34m\u001b[0m\u001b[0;34m\u001b[0m\u001b[0m\n\u001b[0m\u001b[1;32m    188\u001b[0m \u001b[0;34m\u001b[0m\u001b[0m\n\u001b[1;32m    189\u001b[0m         \u001b[0;32mif\u001b[0m \u001b[0mcallable\u001b[0m\u001b[0;34m(\u001b[0m\u001b[0marg\u001b[0m\u001b[0;34m)\u001b[0m\u001b[0;34m:\u001b[0m\u001b[0;34m\u001b[0m\u001b[0;34m\u001b[0m\u001b[0m\n",
      "\u001b[0;32m/usr/local/lib/python3.6/dist-packages/nbtutor/ipython/magic.py\u001b[0m in \u001b[0;36mnbtutor\u001b[0;34m(self, line, cell)\u001b[0m\n\u001b[1;32m     68\u001b[0m \u001b[0;34m\u001b[0m\u001b[0m\n\u001b[1;32m     69\u001b[0m         \u001b[0mbdb\u001b[0m \u001b[0;34m=\u001b[0m \u001b[0mBdb\u001b[0m\u001b[0;34m(\u001b[0m\u001b[0mself\u001b[0m\u001b[0;34m.\u001b[0m\u001b[0mshell\u001b[0m\u001b[0;34m,\u001b[0m \u001b[0mopts\u001b[0m\u001b[0;34m)\u001b[0m\u001b[0;34m\u001b[0m\u001b[0;34m\u001b[0m\u001b[0m\n\u001b[0;32m---> 70\u001b[0;31m         \u001b[0mbdb\u001b[0m\u001b[0;34m.\u001b[0m\u001b[0mrun_cell\u001b[0m\u001b[0;34m(\u001b[0m\u001b[0mcell\u001b[0m\u001b[0;34m)\u001b[0m\u001b[0;34m\u001b[0m\u001b[0;34m\u001b[0m\u001b[0m\n\u001b[0m\u001b[1;32m     71\u001b[0m \u001b[0;34m\u001b[0m\u001b[0m\n\u001b[1;32m     72\u001b[0m         \u001b[0mself\u001b[0m\u001b[0;34m.\u001b[0m\u001b[0mshell\u001b[0m\u001b[0;34m.\u001b[0m\u001b[0mrun_cell\u001b[0m\u001b[0;34m(\u001b[0m\u001b[0mcell\u001b[0m\u001b[0;34m)\u001b[0m\u001b[0;34m\u001b[0m\u001b[0;34m\u001b[0m\u001b[0m\n",
      "\u001b[0;32m/usr/local/lib/python3.6/dist-packages/nbtutor/ipython/debugger.py\u001b[0m in \u001b[0;36mrun_cell\u001b[0;34m(self, cell)\u001b[0m\n\u001b[1;32m     50\u001b[0m             \u001b[0mself\u001b[0m\u001b[0;34m.\u001b[0m\u001b[0mcode_error\u001b[0m \u001b[0;34m=\u001b[0m \u001b[0;32mTrue\u001b[0m\u001b[0;34m\u001b[0m\u001b[0;34m\u001b[0m\u001b[0m\n\u001b[1;32m     51\u001b[0m             \u001b[0;32mif\u001b[0m \u001b[0mself\u001b[0m\u001b[0;34m.\u001b[0m\u001b[0moptions\u001b[0m\u001b[0;34m.\u001b[0m\u001b[0mdebug\u001b[0m\u001b[0;34m:\u001b[0m\u001b[0;34m\u001b[0m\u001b[0;34m\u001b[0m\u001b[0m\n\u001b[0;32m---> 52\u001b[0;31m                 \u001b[0;32mraise\u001b[0m \u001b[0mBdbQuit\u001b[0m\u001b[0;34m\u001b[0m\u001b[0;34m\u001b[0m\u001b[0m\n\u001b[0m\u001b[1;32m     53\u001b[0m         \u001b[0;32mfinally\u001b[0m\u001b[0;34m:\u001b[0m\u001b[0;34m\u001b[0m\u001b[0;34m\u001b[0m\u001b[0m\n\u001b[1;32m     54\u001b[0m             \u001b[0mself\u001b[0m\u001b[0;34m.\u001b[0m\u001b[0mfinalize\u001b[0m\u001b[0;34m(\u001b[0m\u001b[0;34m)\u001b[0m\u001b[0;34m\u001b[0m\u001b[0;34m\u001b[0m\u001b[0m\n",
      "\u001b[0;31mBdbQuit\u001b[0m: "
     ]
    }
   ],
   "source": [
    "%%nbtutor --reset --force --debug\n",
    "\n",
    "import numpy as np\n",
    "import matplotlib.pyplot as plt\n",
    "\n",
    "X = np.linspace(-10, 10, 40)\n",
    "\n",
    "def f1(x): return np.cos(x**2)\n",
    "def f2(x): return np.sin(x**2)\n",
    "def f3(x): return f1(x)+f2(x) \n",
    "Y1 = f1(X)\n",
    "Y2 = f2(X)\n",
    "Y3 = f3(X)\n",
    "\n",
    "with plt.xkcd():\n",
    "    plt.figure(figsize=(14,8))\n",
    "    plt.plot(X, Y1, \"+-r\", label=\"$f_1(x)$\", ms=10, lw=3)\n",
    "    #plt.plot(X, Y2, \"o-b\", label=\"$f_2(x)$\", ms=10, lw=3)\n",
    "    #plt.plot(X, Y3, \"d-y\", label=\"$f_3(x)$\", ms=10, lw=3)\n",
    "    plt.legend()\n",
    "    #plt.xlabel(\"Axe $x$\")\n",
    "    #plt.ylabel(\"Axe $y$\")\n",
    "    plt.title(\"Trois fonctions de la variable réelle\")\n",
    "    plt.show()"
   ]
  },
  {
   "cell_type": "markdown",
   "metadata": {
    "slideshow": {
     "slide_type": "subslide"
    }
   },
   "source": [
    "Je suspectais que ça n'allait pas marcher avec nbtutor ~~puisque ça ne marchait pas avant !!~~ puisque nbtutor a les mêmes limitations que tutormagic !\n",
    "\n",
    "Mais ça marche pour du numpy pur !\n",
    "\n",
    "Et ça marche aussi pour des petits codes utilisant Matplotlib, mais très vite mon CPU prend 100%, ça rame, je ne vais pas chercher davantage."
   ]
  },
  {
   "cell_type": "code",
   "execution_count": 25,
   "metadata": {
    "ExecuteTime": {
     "end_time": "2021-02-21T02:04:03.749968Z",
     "start_time": "2021-02-21T02:04:03.479353Z"
    },
    "code_folding": [],
    "slideshow": {
     "slide_type": "subslide"
    }
   },
   "outputs": [
    {
     "name": "nbtutor",
     "output_type": "stream",
     "text": []
    }
   ],
   "source": [
    "%%nbtutor --reset --force\n",
    "\n",
    "import numpy as np\n",
    "\n",
    "X = np.linspace(-10, 10, 400)\n",
    "\n",
    "def f1(x): return np.cos(x**2)\n",
    "def f2(x): return np.sin(x**2)\n",
    "def f3(x): return f1(x)+f2(x) \n",
    "Y1 = f1(X)\n",
    "Y2 = f2(X)\n",
    "Y3 = f3(X)\n",
    "Y = [Y1, Y2, Y3]\n",
    "\n",
    "for i, y in enumerate(Y):\n",
    "    for f in [np.min, np.max, np.mean]:\n",
    "        name_f = str(f.__name__)\n",
    "        print(f\"{name_f} of Y{i+1}, result = {f(y)}\")"
   ]
  },
  {
   "cell_type": "markdown",
   "metadata": {},
   "source": [
    "Cet exemple fonctionne !"
   ]
  },
  {
   "cell_type": "markdown",
   "metadata": {
    "slideshow": {
     "slide_type": "slide"
    }
   },
   "source": [
    "---\n",
    "## Et pour exécuter du code C ??\n",
    "\n",
    "Je vais écrire un programme C qui fait un petit truc intéressant, et essayer les choses suivantes :\n",
    "\n",
    "- l'exécuter depuis ce notebook, avec le kernel [jupyter-c-kernel](https://github.com/brendan-rius/jupyter-c-kernel) ;\n",
    "- essayer `tutormagic` ! Je pense que ça devrait fonctionner, car c'est une *iframe* vers [PythonTutor.com, qui supporte le C](http://pythontutor.com/c.html) (version C11 ou C17) avec gcc ;\n",
    "- essayer `nbtutor` ! Si ça marche, c'est que ça utilise le serveur PythonTutor sans le montrer, sinon ça ne devrait pas marcher."
   ]
  },
  {
   "cell_type": "markdown",
   "metadata": {
    "slideshow": {
     "slide_type": "subslide"
    }
   },
   "source": [
    "### Exemple de programme C"
   ]
  },
  {
   "cell_type": "code",
   "execution_count": 4,
   "metadata": {
    "ExecuteTime": {
     "end_time": "2021-02-21T00:57:20.130957Z",
     "start_time": "2021-02-21T00:57:20.082009Z"
    },
    "code_folding": [
     9,
     15
    ],
    "scrolled": true
   },
   "outputs": [
    {
     "name": "stdout",
     "output_type": "stream",
     "text": [
      "\n",
      "- Pour i = 1 :\n",
      "\ti^1 = 1\n",
      "\ti^2 = 1\n",
      "\ti^3 = 1\n",
      "\ti^4 = 1\n",
      "\ti^5 = 1\n",
      "- Pour i = 2 :\n",
      "\ti^1 = 2\n",
      "\ti^2 = 4\n",
      "\ti^3 = 8\n",
      "\ti^4 = 16\n",
      "\ti^5 = 32\n",
      "- Pour i = 3 :\n",
      "\ti^1 = 3\n",
      "\ti^2 = 9\n",
      "\ti^3 = 27\n",
      "\ti^4 = 81\n",
      "\ti^5 = 243\n",
      "- Pour i = 4 :\n",
      "\ti^1 = 4\n",
      "\ti^2 = 16\n",
      "\ti^3 = 64\n",
      "\ti^4 = 256\n",
      "\ti^5 = 1024\n",
      "- Pour i = 5 :\n",
      "\ti^1 = 5\n",
      "\ti^2 = 25\n",
      "\ti^3 = 125\n",
      "\ti^4 = 625\n",
      "\ti^5 = 3125\n",
      "- Pour i = 6 :\n",
      "\ti^1 = 6\n",
      "\ti^2 = 36\n",
      "\ti^3 = 216\n",
      "\ti^4 = 1296\n",
      "\ti^5 = 7776\n",
      "- Pour i = 7 :\n",
      "\ti^1 = 7\n",
      "\ti^2 = 49\n",
      "\ti^3 = 343\n",
      "\ti^4 = 2401\n",
      "\ti^5 = 16807\n",
      "- Pour i = 8 :\n",
      "\ti^1 = 8\n",
      "\ti^2 = 64\n",
      "\ti^3 = 512\n",
      "\ti^4 = 4096\n",
      "\ti^5 = 32768\n",
      "- Pour i = 9 :\n",
      "\ti^1 = 9\n",
      "\ti^2 = 81\n",
      "\ti^3 = 729\n",
      "\ti^4 = 6561\n",
      "\ti^5 = 59049\n",
      "- Pour i = 10 :\n",
      "\ti^1 = 10\n",
      "\ti^2 = 100\n",
      "\ti^3 = 1000\n",
      "\ti^4 = 10000\n",
      "\ti^5 = 100000"
     ]
    }
   ],
   "source": [
    "/* Cette cellule est écrite en langage C, il ne faut pas l'exécuter avec le kernel Python */\n",
    "/* Installez le kernel https://github.com/brendan-rius/jupyter-c-kernel */\n",
    "\n",
    "#include <stdio.h>\n",
    "#define MIN_I 1\n",
    "#define MAX_I 10\n",
    "#define MIN_POWER 1\n",
    "#define MAX_POWER 5\n",
    "\n",
    "unsigned long power(int n, unsigned long acc, unsigned long x) {\n",
    "    if (n == 0) { return acc; }\n",
    "    if (n % 2 == 0) { return power(n/2, acc, x*x); }\n",
    "    else { return power((n-1)/2, acc * x, x*x); }\n",
    "}\n",
    "\n",
    "int main(void) {\n",
    "    for (int i = MIN_I; i <= MAX_I; i++) {\n",
    "        printf(\"\\n- Pour i = %i :\", i);\n",
    "        for (int n = MIN_POWER; n <= MAX_POWER; ++n) {\n",
    "            printf(\"\\n\\ti^%i = %li\", n, power(n, 1, i));\n",
    "        }\n",
    "    }\n",
    "}"
   ]
  },
  {
   "cell_type": "markdown",
   "metadata": {
    "slideshow": {
     "slide_type": "slide"
    }
   },
   "source": [
    "### Avec `tutormagic`\n",
    "\n",
    "Alors évidemment, la \"cell magic\" `%%tutor` ne marche pas depuis le kernel C, mais en repassant au kernel Python 3, on peut faire :"
   ]
  },
  {
   "cell_type": "code",
   "execution_count": 21,
   "metadata": {
    "ExecuteTime": {
     "end_time": "2021-02-21T02:00:38.008130Z",
     "start_time": "2021-02-21T02:00:37.993248Z"
    }
   },
   "outputs": [],
   "source": [
    "%reload_ext tutormagic"
   ]
  },
  {
   "cell_type": "code",
   "execution_count": 22,
   "metadata": {
    "ExecuteTime": {
     "end_time": "2021-02-21T02:00:38.669571Z",
     "start_time": "2021-02-21T02:00:38.662596Z"
    },
    "code_folding": [
     0
    ],
    "scrolled": false
   },
   "outputs": [
    {
     "data": {
      "text/html": [
       "\n",
       "        <iframe\n",
       "            width=\"100%\"\n",
       "            height=\"600\"\n",
       "            src=\"http://pythontutor.com/iframe-embed.html#code=%0A/%2A%20Cette%20cellule%20est%20%C3%A9crite%20en%20langage%20C%2C%20il%20ne%20faut%20pas%20l%27ex%C3%A9cuter%20avec%20le%20kernel%20Python%20%2A/%0A/%2A%20Installez%20le%20kernel%20https%3A//github.com/brendan-rius/jupyter-c-kernel%20%2A/%0A%0A%23include%20%3Cstdio.h%3E%0A%23define%20MIN_I%201%0A%23define%20MAX_I%2010%0A%23define%20MIN_POWER%201%0A%23define%20MAX_POWER%205%0A%0Aunsigned%20long%20power%28int%20n%2C%20unsigned%20long%20acc%2C%20unsigned%20long%20x%29%20%7B%0A%20%20%20%20if%20%28n%20%3D%3D%200%29%20%7B%20return%20acc%3B%20%7D%0A%20%20%20%20if%20%28n%20%25%202%20%3D%3D%200%29%20%7B%20return%20power%28n/2%2C%20acc%2C%20x%2Ax%29%3B%20%7D%0A%20%20%20%20else%20%7B%20return%20power%28%28n-1%29/2%2C%20acc%20%2A%20x%2C%20x%2Ax%29%3B%20%7D%0A%7D%0A%0Aint%20main%28void%29%20%7B%0A%20%20%20%20for%20%28int%20i%20%3D%20MIN_I%3B%20i%20%3C%3D%20MAX_I%3B%20i%2B%2B%29%20%7B%0A%20%20%20%20%20%20%20%20printf%28%22%5Cn-%20Pour%20i%20%3D%20%25i%20%3A%22%2C%20i%29%3B%0A%20%20%20%20%20%20%20%20for%20%28int%20n%20%3D%20MIN_POWER%3B%20n%20%3C%3D%20MAX_POWER%3B%20%2B%2Bn%29%20%7B%0A%20%20%20%20%20%20%20%20%20%20%20%20printf%28%22%5Cn%5Cti%5E%25i%20%3D%20%25li%22%2C%20n%2C%20power%28n%2C%201%2C%20i%29%29%3B%0A%20%20%20%20%20%20%20%20%7D%0A%20%20%20%20%7D%0A%7D%0A&origin=opt-frontend.js&cumulative=false&heapPrimitives=false&textReferences=false&curInstr=0&&verticalStack=false&py=c&rawInputLstJSON=%5B%5D&codeDivWidth=50%25&codeDivHeight=100%25\"\n",
       "            frameborder=\"0\"\n",
       "            allowfullscreen\n",
       "        ></iframe>\n",
       "        "
      ],
      "text/plain": [
       "<IPython.lib.display.IFrame at 0x7f337bb9c208>"
      ]
     },
     "metadata": {},
     "output_type": "display_data"
    }
   ],
   "source": [
    "%%tutor --lang c --height 600\n",
    "\n",
    "/* Cette cellule est écrite en langage C, il ne faut pas l'exécuter avec le kernel Python */\n",
    "/* Installez le kernel https://github.com/brendan-rius/jupyter-c-kernel */\n",
    "\n",
    "#include <stdio.h>\n",
    "#define MIN_I 1\n",
    "#define MAX_I 10\n",
    "#define MIN_POWER 1\n",
    "#define MAX_POWER 5\n",
    "\n",
    "unsigned long power(int n, unsigned long acc, unsigned long x) {\n",
    "    if (n == 0) { return acc; }\n",
    "    if (n % 2 == 0) { return power(n/2, acc, x*x); }\n",
    "    else { return power((n-1)/2, acc * x, x*x); }\n",
    "}\n",
    "\n",
    "int main(void) {\n",
    "    for (int i = MIN_I; i <= MAX_I; i++) {\n",
    "        printf(\"\\n- Pour i = %i :\", i);\n",
    "        for (int n = MIN_POWER; n <= MAX_POWER; ++n) {\n",
    "            printf(\"\\n\\ti^%i = %li\", n, power(n, 1, i));\n",
    "        }\n",
    "    }\n",
    "}"
   ]
  },
  {
   "cell_type": "markdown",
   "metadata": {},
   "source": [
    "**Conclusion ?**\n",
    "\n",
    "tutormagic marche TROP bien pour du C !\n",
    "\n",
    "> Il faudrait ajouter le OCaml... Cf [discussion initiée ici](https://github.com/seamile/PyTutor/issues/6) !"
   ]
  },
  {
   "cell_type": "markdown",
   "metadata": {
    "slideshow": {
     "slide_type": "slide"
    }
   },
   "source": [
    "### Avec `nbtutor`\n",
    "\n",
    "Il n'y a pas pour l'instant la possibilité d'utiliser nbtutor pour d'autres langages, [mais ce ticket en parle](https://github.com/lgpage/nbtutor/issues/31)."
   ]
  },
  {
   "cell_type": "markdown",
   "metadata": {
    "slideshow": {
     "slide_type": "slide"
    }
   },
   "source": [
    "---\n",
    "## Conclusion\n",
    "\n",
    "Bilan de ces expériences..."
   ]
  },
  {
   "cell_type": "markdown",
   "metadata": {
    "slideshow": {
     "slide_type": "subslide"
    }
   },
   "source": [
    "### Bilan de `tutormagic`\n",
    "- c'est trop cool ;\n",
    "- avec tutormagic, tout marche sans soucis,\n",
    "- ? et c'est des iframe donc l'export en HTML ~~se passe bien~~ [non ça ne marche pas](https://perso.crans.org/besson/notebooks/Comparaison_de_tutormagic_et_nbtutor_pour_visualiser_du_code_Python_et_C_dans_un_notebook_Jupyter.html), comme prévu... c'est des iframe dynamiquement généré à coup de `IPython.display(...)`, donc pas moyen de les garder... et même en \"Save notebook widget state\" ça ne fonctionne pas, je m'en doutais ;\n",
    "- ça supporte tous les langages supportés par <http://PythonTutor.com>, donc Python2, Python3, Java, JavaScript, TypeScript, Ruby, C, C++, et Python3 avec Anaconda pour des modules scientifiques (mais pas de figures Matplotlib, évidement) !\n",
    "- trivial d'ajouter un autre langage, s'il est ajouté dans PythonTutor,\n",
    "- [TODO: ajouter OCaml ?](https://github.com/seamile/PyTutor/issues/6)\n",
    "- devrait pouvoir utiliser une version locale de PythonTutor, cf [ma discussion lancée ici](https://github.com/seamile/PyTutor/issues/4)"
   ]
  },
  {
   "cell_type": "markdown",
   "metadata": {
    "slideshow": {
     "slide_type": "subslide"
    }
   },
   "source": [
    "### Bilan de `nbtutor`\n",
    "\n",
    "- c'est aussi très cool !\n",
    "- ça supporte que Python, mais discussion lancée pour ajouter les autres langages... j'ai des doutes que ce soit aussi facile qu'avec `tutormagic` !\n",
    "- avantage de pouvoir voir la mémoire et le temps sépare, mais est-ce un avantage ?\n",
    "- pas de iframe donc pas possible d'utiliser les \"points de débug\" (breakpoint) de PythonTutor qui sont très pratiques !\n",
    "- pas facile d'utiliser une version locale de PythonTutor...\n",
    "- et l'interface demande d'utiliser une \"barre d'outil de cellule\" spécifique, ça me saoule, j'utilise celle de [Jupyter live slides RISE](https://rise.readthedocs.io/en/stable/) par défaut, parce que présenter des notebooks dans des slides, c'est TROP COOL !"
   ]
  },
  {
   "cell_type": "markdown",
   "metadata": {
    "slideshow": {
     "slide_type": "slide"
    }
   },
   "source": [
    "### Autres questions\n",
    "\n",
    "- Est-ce que ça marche bien depuis un [slide live RISE](https://rise.readthedocs.io/) ? ~~Je pense que oui !~~ Oui !\n",
    "  + avec `tutormagic`, ça marche sans aucun problème ! Pour Python et C !\n",
    "  + avec `nbtutor`, ça marche mais les contrôles ne s'affichent pas... [j'ai ouvert ce ticket](https://github.com/lgpage/nbtutor/issues/42), à voir si le développeur du projet répondra à mes questions !\n",
    "  + maaaaais j'ai trouvé [une solution](https://github.com/lgpage/nbtutor/issues/42) [cet userstyle](https://perso.crans.org/besson/publis/firefox/stylus-show-Jupyter-celltoolbar-when-RISE-live-show-mode-is-enabled.user.css).\n",
    "\n",
    "- Qu'est-ce que ça donnerait une fois le notebook transformé en page web HTML statique ?\n",
    "  + tutormagic avec son iframe devrait marcher, mais pas si la page est vue hors-ligne ;\n",
    "  + nbtutor ne devrait pas marcher !\n",
    "  \n",
    "- Et si je transforme en PDF, ça donne quoi ?\n",
    "  + évidemment l'interactivité sera perdue ;\n",
    "  + mais ce serait 😍 d'avoir une image PNG représentant l'interface... probablement pas le cas, mais on peut bidouiller si besoin (avec une capture d'écran faite à la main ?)"
   ]
  },
  {
   "cell_type": "markdown",
   "metadata": {
    "slideshow": {
     "slide_type": "slide"
    }
   },
   "source": [
    "**Plus de notebooks ?**\n",
    "Merci d'avoir lu ! Allez voir [d'autres notebooks intéressants](https://github.com/Naereen/notebooks) dans ma collection qui grandit depuis 2016.\n",
    "Plein de notebooks en Python niveau L2/L3 mais aussi en OCaml et Python niveau agrégation, et bien plus ! En Java, Rust, Julia, Bash, GNUPlot et GNU Octave et des démonstrations d'extensions peu connues mais super intéressantes !"
   ]
  }
 ],
 "metadata": {
  "celltoolbar": "Visualize",
  "kernelspec": {
   "display_name": "Python 3",
   "language": "python",
   "name": "python3"
  },
  "language_info": {
   "codemirror_mode": {
    "name": "ipython",
    "version": 3
   },
   "file_extension": ".py",
   "mimetype": "text/x-python",
   "name": "python",
   "nbconvert_exporter": "python",
   "pygments_lexer": "ipython3",
   "version": "3.6.9"
  },
  "toc": {
   "base_numbering": 1,
   "nav_menu": {},
   "number_sections": true,
   "sideBar": true,
   "skip_h1_title": false,
   "title_cell": "Table of Contents",
   "title_sidebar": "Contents",
   "toc_cell": false,
   "toc_position": {
    "height": "calc(100% - 180px)",
    "left": "10px",
    "top": "150px",
    "width": "244.45px"
   },
   "toc_section_display": true,
   "toc_window_display": false
  },
  "varInspector": {
   "cols": {
    "lenName": 16,
    "lenType": 16,
    "lenVar": 40
   },
   "kernels_config": {
    "python": {
     "delete_cmd_postfix": "",
     "delete_cmd_prefix": "del ",
     "library": "var_list.py",
     "varRefreshCmd": "print(var_dic_list())"
    },
    "r": {
     "delete_cmd_postfix": ") ",
     "delete_cmd_prefix": "rm(",
     "library": "var_list.r",
     "varRefreshCmd": "cat(var_dic_list()) "
    }
   },
   "types_to_exclude": [
    "module",
    "function",
    "builtin_function_or_method",
    "instance",
    "_Feature"
   ],
   "window_display": false
  },
  "widgets": {
   "application/vnd.jupyter.widget-state+json": {
    "state": {},
    "version_major": 2,
    "version_minor": 0
   }
  }
 },
 "nbformat": 4,
 "nbformat_minor": 4
}
