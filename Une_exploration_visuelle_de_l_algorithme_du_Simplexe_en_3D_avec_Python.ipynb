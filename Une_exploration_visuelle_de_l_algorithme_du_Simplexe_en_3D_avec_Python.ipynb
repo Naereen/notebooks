{
 "cells": [
  {
   "cell_type": "markdown",
   "metadata": {},
   "source": [
    "# Une exploration visuelle de l'algorithme du Simplexe en 3D avec Python\n",
    "\n",
    "Dans ce notebook (utilisant Python 3), je souhaite montrer des animations de l'[algorithme du Simplexe](https://fr.wikipedia.org/wiki/Algorithme_du_simplexe), un peu comme dans la [vidéo suivante](https://www.youtube.com/watch?v=W_U8ozVsh8s) :\n",
    "\n",
    "<iframe width=\"500\" height=\"250\" src=\"https://www.youtube.com/embed/W_U8ozVsh8s\" frameborder=\"0\" allow=\"accelerometer; autoplay; clipboard-write; encrypted-media; gyroscope; picture-in-picture\" allowfullscreen></iframe>\n",
    "\n",
    "J'aimerai bien écrire un petit morceau de code Python qui fait les étapes suivantes :\n",
    "\n",
    "- on lui donne le programme linéaire à résoudre (éventuellement sous forme acceptée par [lp_solve](http://web.mit.edu/lpsolve/doc/)) ;\n",
    "- il résoud le problème avec [`scipy.optimize.linprog(method=\"simplex\")`](https://docs.scipy.org/doc/scipy/reference/optimize.linprog-simplex.html), et s'arrête s'il n'y a pas de solution trouvée par le simplexe ;\n",
    "- puis utilise le `callback` de cette fonction pour afficher des équations en LaTeX représentant l'évolution du système et des variables de la base et hors base ;\n",
    "- j'aimerai bien avoir une animation étape par étape, avec un simple \"slider\" avec [le widget `interact`](https://ipywidgets.readthedocs.io/en/stable/examples/Using%20Interact.html) ;\n",
    "- bonus : afficher un graphique 3D, avec TikZ ?\n",
    "\n",
    "Ce document ne sera pas :\n",
    "\n",
    "- une implémentation maison de l'algorithme du simplexe : c'est trop long et je n'ai pas le temps en ce moment ;\n",
    "- des explications sur l'algorithme du simplexe : pour cela regardez les notes de cours de [ALGO2](http://people.irisa.fr/Francois.Schwarzentruber/algo2/), et la page Wikipédia sur l'[algorithme du Simplexe](https://fr.wikipedia.org/wiki/Algorithme_du_simplexe) ;\n",
    "- probablement capable de se faire exporter proprement en HTML statique ;\n",
    "- et pas non plus capable de se faire exporter proprement en PDF."
   ]
  },
  {
   "cell_type": "markdown",
   "metadata": {},
   "source": [
    "## A propros\n",
    "- Auteur : [Lilian Besson](https://perso.crans.org/besson/)\n",
    "- License : [MIT](https://lbesson.mit-license.org/)\n",
    "- Date : 09/02/2021\n",
    "- Cours : [ALGO2](http://people.irisa.fr/Francois.Schwarzentruber/algo2/) @ [ENS Rennes](http://www.dit.ens-rennes.fr/)"
   ]
  },
  {
   "cell_type": "markdown",
   "metadata": {},
   "source": [
    "## Vidéo d'explication\n",
    "\n",
    "Regardez [cette vidéo](https://www.youtube.com/watch?v=W_U8ozVsh8s)."
   ]
  },
  {
   "cell_type": "code",
   "execution_count": 2,
   "metadata": {
    "ExecuteTime": {
     "end_time": "2021-02-09T21:29:34.652757Z",
     "start_time": "2021-02-09T21:29:34.577657Z"
    },
    "scrolled": false
   },
   "outputs": [
    {
     "data": {
      "image/jpeg": "[encoded data removed]",
      "text/html": [
       "\n",
       "        <iframe\n",
       "            width=\"944\"\n",
       "            height=\"531\"\n",
       "            src=\"https://www.youtube.com/embed/W_U8ozVsh8s\"\n",
       "            frameborder=\"0\"\n",
       "            allowfullscreen\n",
       "        ></iframe>\n",
       "        "
      ],
      "text/plain": [
       "<IPython.lib.display.YouTubeVideo at 0x7f7e80286080>"
      ]
     },
     "execution_count": 2,
     "metadata": {},
     "output_type": "execute_result"
    }
   ],
   "source": [
    "from IPython.display import YouTubeVideo\n",
    "# https://www.youtube.com/watch?v=W_U8ozVsh8s\n",
    "YouTubeVideo(\"W_U8ozVsh8s\", width=944, height=531)"
   ]
  },
  {
   "cell_type": "markdown",
   "metadata": {},
   "source": [
    "---\n",
    "## Dépendances"
   ]
  },
  {
   "cell_type": "markdown",
   "metadata": {},
   "source": [
    "On a sûrement besoin de Numpy et Matplotlib :"
   ]
  },
  {
   "cell_type": "code",
   "execution_count": 3,
   "metadata": {
    "ExecuteTime": {
     "end_time": "2021-02-09T21:29:41.188341Z",
     "start_time": "2021-02-09T21:29:40.876145Z"
    }
   },
   "outputs": [],
   "source": [
    "import numpy as np\n",
    "import matplotlib.pyplot as plt"
   ]
  },
  {
   "cell_type": "markdown",
   "metadata": {},
   "source": [
    "On a besoin de la fonction [`scipy.optimize.linprog(method=\"simplex\")`](https://docs.scipy.org/doc/scipy/reference/optimize.linprog-simplex.html) du module [`scipy.optimize`](https://docs.scipy.org/doc/scipy/reference/optimize.html) :"
   ]
  },
  {
   "cell_type": "code",
   "execution_count": 4,
   "metadata": {
    "ExecuteTime": {
     "end_time": "2021-02-09T21:29:42.060383Z",
     "start_time": "2021-02-09T21:29:41.871061Z"
    }
   },
   "outputs": [],
   "source": [
    "from scipy.optimize import linprog"
   ]
  },
  {
   "cell_type": "markdown",
   "metadata": {},
   "source": [
    "On a aussi besoin de la fonction `IPython.display.Latex` pour facilement afficher du code LaTeX généré depuis nos cellules Python :"
   ]
  },
  {
   "cell_type": "code",
   "execution_count": 5,
   "metadata": {
    "ExecuteTime": {
     "end_time": "2021-02-09T21:29:42.878157Z",
     "start_time": "2021-02-09T21:29:42.874659Z"
    }
   },
   "outputs": [],
   "source": [
    "from IPython.display import Latex, display"
   ]
  },
  {
   "cell_type": "markdown",
   "metadata": {},
   "source": [
    "Par exemple :"
   ]
  },
  {
   "cell_type": "code",
   "execution_count": 6,
   "metadata": {
    "ExecuteTime": {
     "end_time": "2021-02-09T21:29:43.804399Z",
     "start_time": "2021-02-09T21:29:43.794814Z"
    }
   },
   "outputs": [
    {
     "data": {
      "text/latex": [
       "$$\\cos(x)^1 = 0$$"
      ],
      "text/plain": [
       "<IPython.core.display.Latex object>"
      ]
     },
     "metadata": {},
     "output_type": "display_data"
    },
    {
     "data": {
      "text/latex": [
       "$$\\cos(x)^2 = 0$$"
      ],
      "text/plain": [
       "<IPython.core.display.Latex object>"
      ]
     },
     "metadata": {},
     "output_type": "display_data"
    },
    {
     "data": {
      "text/latex": [
       "$$\\cos(x)^3 = 0$$"
      ],
      "text/plain": [
       "<IPython.core.display.Latex object>"
      ]
     },
     "metadata": {},
     "output_type": "display_data"
    },
    {
     "data": {
      "text/latex": [
       "$$\\cos(x)^4 = 0$$"
      ],
      "text/plain": [
       "<IPython.core.display.Latex object>"
      ]
     },
     "metadata": {},
     "output_type": "display_data"
    }
   ],
   "source": [
    "def display_cos_power(power=1):\n",
    "    return display(Latex(fr\"$$\\cos(x)^{power} = 0$$\"))\n",
    "\n",
    "for power in range(1, 5):\n",
    "    display_cos_power(power)"
   ]
  },
  {
   "cell_type": "markdown",
   "metadata": {},
   "source": [
    "On va avoir besoin des widgets IPywidgets, plus tard :"
   ]
  },
  {
   "cell_type": "code",
   "execution_count": 7,
   "metadata": {
    "ExecuteTime": {
     "end_time": "2021-02-09T21:29:46.078351Z",
     "start_time": "2021-02-09T21:29:46.021554Z"
    }
   },
   "outputs": [],
   "source": [
    "from ipywidgets import interact, interactive, fixed, interact_manual\n",
    "import ipywidgets as widgets"
   ]
  },
  {
   "cell_type": "code",
   "execution_count": 8,
   "metadata": {
    "ExecuteTime": {
     "end_time": "2021-02-09T21:30:11.244706Z",
     "start_time": "2021-02-09T21:30:11.197577Z"
    }
   },
   "outputs": [
    {
     "data": {
      "application/vnd.jupyter.widget-view+json": {
       "model_id": "d0a7b99b5149417cbb82b6ab977ab651",
       "version_major": 2,
       "version_minor": 0
      },
      "text/plain": [
       "interactive(children=(IntSlider(value=1, description='power', max=10, min=1), Output()), _dom_classes=('widget…"
      ]
     },
     "metadata": {},
     "output_type": "display_data"
    }
   ],
   "source": [
    "interactive(display_cos_power,\n",
    "   power=(1, 10, 1)\n",
    ")"
   ]
  },
  {
   "cell_type": "markdown",
   "metadata": {},
   "source": [
    "Et enfin, de l'extension [itikz](https://github.com/jbn/itikz)"
   ]
  },
  {
   "cell_type": "code",
   "execution_count": 9,
   "metadata": {
    "ExecuteTime": {
     "end_time": "2021-02-09T21:30:21.391520Z",
     "start_time": "2021-02-09T21:30:21.301266Z"
    }
   },
   "outputs": [],
   "source": [
    "%load_ext itikz"
   ]
  },
  {
   "cell_type": "markdown",
   "metadata": {},
   "source": [
    "## Première expérience"
   ]
  },
  {
   "cell_type": "markdown",
   "metadata": {},
   "source": [
    "Déjà, je vais écrire le problème étudié comme un dictionnaire, que l'on pourra passer à [`scipy.optimize.linprog(method=\"simplex\")`](https://docs.scipy.org/doc/scipy/reference/optimize.linprog-simplex.html) :"
   ]
  },
  {
   "cell_type": "code",
   "execution_count": 10,
   "metadata": {
    "ExecuteTime": {
     "end_time": "2021-02-09T21:30:22.758769Z",
     "start_time": "2021-02-09T21:30:22.755402Z"
    }
   },
   "outputs": [],
   "source": [
    "# Objective Function: 50x_1 + 80x_2\n",
    "# Constraint 1: 5x_1 + 2x_2 <= 20\n",
    "# Constraint 2: -10x_1 + -12x_2 <= -90\n",
    "\n",
    "\n",
    "problem1 = {\n",
    "    # Cost function: 50x_1 + 80x_2\n",
    "    \"cost\": [50, 80],\n",
    "    # Coefficients for inequalities\n",
    "    \"A_ub\": [[5, 2], [-10, -12]],\n",
    "    # Constraints for inequalities: 20 and -90\n",
    "    \"b_ub\": [20, -90],\n",
    "    # Bounds on x, 0 <= x_i <= +oo by default\n",
    "    \"bounds\": (0, None),\n",
    "}"
   ]
  },
  {
   "cell_type": "code",
   "execution_count": 11,
   "metadata": {
    "ExecuteTime": {
     "end_time": "2021-02-09T21:30:23.189914Z",
     "start_time": "2021-02-09T21:30:23.180929Z"
    }
   },
   "outputs": [],
   "source": [
    "# Objective Function: maximize x_1 + 6*x_2 + 13*x_3\n",
    "# => so cost will be opposite\n",
    "# Constraint 1: x1 <= 200\n",
    "# Constraint 2: x2 <= 300\n",
    "# Constraint 3: x1+x2+x3 <= 400\n",
    "# Constraint 2: x2+3x3 <= 600\n",
    "\n",
    "problem2 = {\n",
    "    # Cost function: minimize -1*x_1 + -6*x_2 + -13*x_3\n",
    "    \"cost\": [-1, -6, -13],\n",
    "    # Coefficients for inequalities\n",
    "    \"A_ub\": [\n",
    "        [1, 0, 0],\n",
    "        [0, 1, 0],\n",
    "        [1, 1, 1],\n",
    "        [0, 1, 3],\n",
    "    ],\n",
    "    # Constraints for inequalities:\n",
    "    \"b_ub\": [200, 300, 400, 600],\n",
    "    # Bounds on x, 0 <= x_i <= +oo by default\n",
    "    \"bounds\": (0, None),\n",
    "}"
   ]
  },
  {
   "cell_type": "markdown",
   "metadata": {},
   "source": [
    "Puis une petite fonction qui s'occupe de prendre ce dictionnaire et le donner à [`scipy.optimize.linprog(method=\"simplex\")`](https://docs.scipy.org/doc/scipy/reference/optimize.linprog-simplex.html) :"
   ]
  },
  {
   "cell_type": "code",
   "execution_count": 12,
   "metadata": {
    "ExecuteTime": {
     "end_time": "2021-02-09T21:30:23.943304Z",
     "start_time": "2021-02-09T21:30:23.940064Z"
    }
   },
   "outputs": [],
   "source": [
    "def linprog_wrapper(problem, **kwargs):\n",
    "    result = linprog(\n",
    "        problem[\"cost\"],\n",
    "        A_ub=problem[\"A_ub\"],\n",
    "        b_ub=problem[\"b_ub\"],\n",
    "        bounds=problem[\"bounds\"],\n",
    "        method=\"simplex\",\n",
    "        **kwargs\n",
    "    )\n",
    "    return result"
   ]
  },
  {
   "cell_type": "markdown",
   "metadata": {},
   "source": [
    "On va déjà vérifier que l'on peut résoudre ces deux exemples de problème de programmation linéaire :"
   ]
  },
  {
   "cell_type": "code",
   "execution_count": 13,
   "metadata": {
    "ExecuteTime": {
     "end_time": "2021-02-09T21:30:24.689787Z",
     "start_time": "2021-02-09T21:30:24.683481Z"
    }
   },
   "outputs": [
    {
     "data": {
      "text/plain": [
       "     con: array([], dtype=float64)\n",
       "     fun: 575.0\n",
       " message: 'Optimization terminated successfully.'\n",
       "     nit: 2\n",
       "   slack: array([0., 0.])\n",
       "  status: 0\n",
       " success: True\n",
       "       x: array([1.5 , 6.25])"
      ]
     },
     "execution_count": 13,
     "metadata": {},
     "output_type": "execute_result"
    }
   ],
   "source": [
    "linprog_wrapper(problem1)"
   ]
  },
  {
   "cell_type": "code",
   "execution_count": 14,
   "metadata": {
    "ExecuteTime": {
     "end_time": "2021-02-09T21:30:25.268075Z",
     "start_time": "2021-02-09T21:30:25.258717Z"
    }
   },
   "outputs": [
    {
     "data": {
      "text/plain": [
       "     con: array([], dtype=float64)\n",
       "     fun: -3100.0\n",
       " message: 'Optimization terminated successfully.'\n",
       "     nit: 5\n",
       "   slack: array([2.00000000e+02, 5.68434189e-14, 0.00000000e+00, 0.00000000e+00])\n",
       "  status: 0\n",
       " success: True\n",
       "       x: array([  0., 300., 100.])"
      ]
     },
     "execution_count": 14,
     "metadata": {},
     "output_type": "execute_result"
    }
   ],
   "source": [
    "linprog_wrapper(problem2)"
   ]
  },
  {
   "cell_type": "markdown",
   "metadata": {},
   "source": [
    "C'est bien la solution $x^* = [0, 300, 100]$, avec un objectif valant $+3100$, qui était trouvée dans la vidéo !"
   ]
  },
  {
   "cell_type": "markdown",
   "metadata": {},
   "source": [
    "Et si on ajoute un `callback` ?"
   ]
  },
  {
   "cell_type": "code",
   "execution_count": 15,
   "metadata": {
    "ExecuteTime": {
     "end_time": "2021-02-09T21:30:29.831159Z",
     "start_time": "2021-02-09T21:30:29.822496Z"
    }
   },
   "outputs": [],
   "source": [
    "def round(np_array):\n",
    "    res = np.array(np.round(np_array), dtype=int)\n",
    "    if res.size > 1:\n",
    "        return list(res)\n",
    "    else:\n",
    "        return res"
   ]
  },
  {
   "cell_type": "code",
   "execution_count": 16,
   "metadata": {
    "ExecuteTime": {
     "end_time": "2021-02-09T21:30:30.252253Z",
     "start_time": "2021-02-09T21:30:30.244314Z"
    }
   },
   "outputs": [],
   "source": [
    "def dummy_callback(r):\n",
    "    print(f\"\\n- Itération #{r['nit']}, phase {r['phase']} :\")\n",
    "    fun = round(r['fun'])\n",
    "    print(f\"    Valeur objectif    = {fun}\")\n",
    "    slack = round(r['slack'])\n",
    "    print(f\"    Variables d'écart  = {slack}\")\n",
    "    x = round(r['x'])\n",
    "    print(f\"    Variables objectif = {x}\")\n",
    "    # print(r)\n"
   ]
  },
  {
   "cell_type": "code",
   "execution_count": 17,
   "metadata": {
    "ExecuteTime": {
     "end_time": "2021-02-09T21:30:31.423494Z",
     "start_time": "2021-02-09T21:30:31.375181Z"
    }
   },
   "outputs": [
    {
     "name": "stdout",
     "output_type": "stream",
     "text": [
      "\n",
      "- Itération #0, phase 1 :\n",
      "    Valeur objectif    = 0\n",
      "    Variables d'écart  = [200, 300, 400, 600]\n",
      "    Variables objectif = [0, 0, 0]\n",
      "\n",
      "- Itération #1, phase 1 :\n",
      "    Valeur objectif    = -2600\n",
      "    Variables d'écart  = [200, 300, 200, 0]\n",
      "    Variables objectif = [0, 0, 200]\n",
      "\n",
      "- Itération #2, phase 1 :\n",
      "    Valeur objectif    = -2800\n",
      "    Variables d'écart  = [0, 300, 0, 0]\n",
      "    Variables objectif = [200, 0, 200]\n",
      "\n",
      "- Itération #3, phase 1 :\n",
      "    Valeur objectif    = -2800\n",
      "    Variables d'écart  = [0, 300, 0, 0]\n",
      "    Variables objectif = [200, 0, 200]\n",
      "\n",
      "- Itération #4, phase 1 :\n",
      "    Valeur objectif    = -3100\n",
      "    Variables d'écart  = [200, 0, 0, 0]\n",
      "    Variables objectif = [0, 300, 100]\n",
      "\n",
      "- Itération #5, phase 1 :\n",
      "    Valeur objectif    = -3100\n",
      "    Variables d'écart  = [200, 0, 0, 0]\n",
      "    Variables objectif = [0, 300, 100]\n",
      "\n",
      "- Itération #5, phase 2 :\n",
      "    Valeur objectif    = -3100\n",
      "    Variables d'écart  = [200, 0, 0, 0]\n",
      "    Variables objectif = [0, 300, 100]\n"
     ]
    },
    {
     "data": {
      "text/plain": [
       "     con: array([], dtype=float64)\n",
       "     fun: -3100.0\n",
       " message: 'Optimization terminated successfully.'\n",
       "     nit: 5\n",
       "   slack: array([2.00000000e+02, 5.68434189e-14, 0.00000000e+00, 0.00000000e+00])\n",
       "  status: 0\n",
       " success: True\n",
       "       x: array([  0., 300., 100.])"
      ]
     },
     "execution_count": 17,
     "metadata": {},
     "output_type": "execute_result"
    }
   ],
   "source": [
    "linprog_wrapper(problem2, callback=dummy_callback)"
   ]
  },
  {
   "cell_type": "markdown",
   "metadata": {},
   "source": [
    "## Afficher un système d'équation en LaTeX"
   ]
  },
  {
   "cell_type": "code",
   "execution_count": 27,
   "metadata": {
    "ExecuteTime": {
     "end_time": "2021-02-09T21:34:19.007367Z",
     "start_time": "2021-02-09T21:34:18.993897Z"
    }
   },
   "outputs": [],
   "source": [
    "step_by_step_results = []\n",
    "step_by_step_nitphase = []\n",
    "\n",
    "def print_and_store_callback(r):\n",
    "    global step_by_step_results, step_by_step_nitphase\n",
    "\n",
    "    nit, phase = r['nit'], r['phase']\n",
    "    print(f\"\\n- Itération #{nit}, phase {phase} :\")\n",
    "    fun = round(r['fun'])\n",
    "    print(f\"    Valeur objectif    = {fun}\")\n",
    "    slack = round(r['slack'])\n",
    "    print(f\"    Variables d'écart  = {slack}\")\n",
    "    x = round(r['x'])\n",
    "    print(f\"    Variables objectif = {x}\")\n",
    "\n",
    "    if (nit, phase) not in step_by_step_nitphase:\n",
    "        step_by_step_results.append(r)\n",
    "        step_by_step_nitphase.append((nit, phase))"
   ]
  },
  {
   "cell_type": "code",
   "execution_count": 28,
   "metadata": {
    "ExecuteTime": {
     "end_time": "2021-02-09T21:34:19.445285Z",
     "start_time": "2021-02-09T21:34:19.421773Z"
    }
   },
   "outputs": [
    {
     "name": "stdout",
     "output_type": "stream",
     "text": [
      "\n",
      "- Itération #0, phase 1 :\n",
      "    Valeur objectif    = 0\n",
      "    Variables d'écart  = [200, 300, 400, 600]\n",
      "    Variables objectif = [0, 0, 0]\n",
      "\n",
      "- Itération #1, phase 1 :\n",
      "    Valeur objectif    = -2600\n",
      "    Variables d'écart  = [200, 300, 200, 0]\n",
      "    Variables objectif = [0, 0, 200]\n",
      "\n",
      "- Itération #2, phase 1 :\n",
      "    Valeur objectif    = -2800\n",
      "    Variables d'écart  = [0, 300, 0, 0]\n",
      "    Variables objectif = [200, 0, 200]\n",
      "\n",
      "- Itération #3, phase 1 :\n",
      "    Valeur objectif    = -2800\n",
      "    Variables d'écart  = [0, 300, 0, 0]\n",
      "    Variables objectif = [200, 0, 200]\n",
      "\n",
      "- Itération #4, phase 1 :\n",
      "    Valeur objectif    = -3100\n",
      "    Variables d'écart  = [200, 0, 0, 0]\n",
      "    Variables objectif = [0, 300, 100]\n",
      "\n",
      "- Itération #5, phase 1 :\n",
      "    Valeur objectif    = -3100\n",
      "    Variables d'écart  = [200, 0, 0, 0]\n",
      "    Variables objectif = [0, 300, 100]\n",
      "\n",
      "- Itération #5, phase 2 :\n",
      "    Valeur objectif    = -3100\n",
      "    Variables d'écart  = [200, 0, 0, 0]\n",
      "    Variables objectif = [0, 300, 100]\n",
      "     con: array([], dtype=float64)\n",
      "     fun: -3100.0\n",
      " message: 'Optimization terminated successfully.'\n",
      "     nit: 5\n",
      "   slack: array([2.00000000e+02, 5.68434189e-14, 0.00000000e+00, 0.00000000e+00])\n",
      "  status: 0\n",
      " success: True\n",
      "       x: array([  0., 300., 100.])\n"
     ]
    }
   ],
   "source": [
    "step_by_step_results = []\n",
    "\n",
    "result_final = linprog_wrapper(problem2, callback=print_and_store_callback)\n",
    "print(result_final)\n",
    "\n",
    "step_by_step_results.append(result_final)"
   ]
  },
  {
   "cell_type": "markdown",
   "metadata": {},
   "source": [
    "On a donc récupéré un certain nombre d'objets résultat intermédiaire d'optimisation :"
   ]
  },
  {
   "cell_type": "code",
   "execution_count": 29,
   "metadata": {
    "ExecuteTime": {
     "end_time": "2021-02-09T21:34:21.731851Z",
     "start_time": "2021-02-09T21:34:21.720388Z"
    }
   },
   "outputs": [
    {
     "data": {
      "text/plain": [
       "8"
      ]
     },
     "execution_count": 29,
     "metadata": {},
     "output_type": "execute_result"
    }
   ],
   "source": [
    "len(step_by_step_results)"
   ]
  },
  {
   "cell_type": "markdown",
   "metadata": {},
   "source": [
    "En fait, je me rends compte que les informations données par ces `results` successifs ne sont pas suffisantes pour afficher des équations comme dans la vidéo."
   ]
  },
  {
   "cell_type": "markdown",
   "metadata": {},
   "source": [
    "## Implémentation maison du Simplexe en dimension 3"
   ]
  },
  {
   "cell_type": "code",
   "execution_count": null,
   "metadata": {},
   "outputs": [],
   "source": []
  },
  {
   "cell_type": "code",
   "execution_count": null,
   "metadata": {},
   "outputs": [],
   "source": []
  },
  {
   "cell_type": "code",
   "execution_count": null,
   "metadata": {},
   "outputs": [],
   "source": []
  },
  {
   "cell_type": "code",
   "execution_count": null,
   "metadata": {},
   "outputs": [],
   "source": []
  },
  {
   "cell_type": "markdown",
   "metadata": {},
   "source": [
    "## Exemples"
   ]
  },
  {
   "cell_type": "code",
   "execution_count": null,
   "metadata": {},
   "outputs": [],
   "source": []
  },
  {
   "cell_type": "code",
   "execution_count": null,
   "metadata": {},
   "outputs": [],
   "source": []
  },
  {
   "cell_type": "markdown",
   "metadata": {},
   "source": [
    "## Suite des expérimentations"
   ]
  },
  {
   "cell_type": "markdown",
   "metadata": {},
   "source": [
    "On va écrire une fonction qui produit du code LaTeX représentant ce système d'optimisation, au cours des réécritures qu'il subit :"
   ]
  },
  {
   "cell_type": "code",
   "execution_count": null,
   "metadata": {},
   "outputs": [],
   "source": [
    "def equation_latex_from_step(result):\n",
    "    return r\"\"\"\n",
    "    \\text{Maximiser}\"\"\" + cout + r\"\"\"\\\\\n",
    "    \\begin{cases}\n",
    "    \n",
    "    \\end{cases}\n",
    "    \"\"\""
   ]
  },
  {
   "cell_type": "markdown",
   "metadata": {},
   "source": [
    "TODO: terminer ça !"
   ]
  },
  {
   "cell_type": "markdown",
   "metadata": {},
   "source": [
    "## Ajouter de l'interactivité"
   ]
  },
  {
   "cell_type": "code",
   "execution_count": null,
   "metadata": {},
   "outputs": [],
   "source": [
    "def interactive_latex_exploration(problem):\n",
    "    problem_solved = make_show_latex(problem1)\n",
    "    if problem_solved.status != 0:\n",
    "        print(\"Error: problem was not solve correctly, stopping this...\")\n",
    "    interactive_function = make_show_latex(problem1)\n",
    "    max_step = problem_solved.nitint\n",
    "\n",
    "    return interact(, step=(0, max_step))"
   ]
  },
  {
   "cell_type": "markdown",
   "metadata": {},
   "source": [
    "Allez on essaie :"
   ]
  },
  {
   "cell_type": "code",
   "execution_count": 23,
   "metadata": {
    "ExecuteTime": {
     "end_time": "2021-02-09T19:56:52.325853Z",
     "start_time": "2021-02-09T19:56:52.283697Z"
    }
   },
   "outputs": [
    {
     "ename": "NameError",
     "evalue": "name 'interactive_latex_exploration' is not defined",
     "output_type": "error",
     "traceback": [
      "\u001b[0;31m---------------------------------------------------------------------------\u001b[0m",
      "\u001b[0;31mNameError\u001b[0m                                 Traceback (most recent call last)",
      "\u001b[0;32m<ipython-input-23-5f5078a66933>\u001b[0m in \u001b[0;36m<module>\u001b[0;34m\u001b[0m\n\u001b[0;32m----> 1\u001b[0;31m \u001b[0minteractive_latex_exploration\u001b[0m\u001b[0;34m(\u001b[0m\u001b[0mproblem\u001b[0m\u001b[0;34m)\u001b[0m\u001b[0;34m\u001b[0m\u001b[0;34m\u001b[0m\u001b[0m\n\u001b[0m",
      "\u001b[0;31mNameError\u001b[0m: name 'interactive_latex_exploration' is not defined"
     ]
    }
   ],
   "source": [
    "interactive_latex_exploration(problem)"
   ]
  },
  {
   "cell_type": "code",
   "execution_count": null,
   "metadata": {},
   "outputs": [],
   "source": []
  },
  {
   "cell_type": "markdown",
   "metadata": {},
   "source": [
    "## Ajouter des figures TikZ\n",
    "\n",
    "Avec [itikz](https://github.com/jbn/itikz)"
   ]
  },
  {
   "cell_type": "code",
   "execution_count": 135,
   "metadata": {
    "ExecuteTime": {
     "end_time": "2021-02-09T20:50:16.160768Z",
     "start_time": "2021-02-09T20:50:16.149504Z"
    }
   },
   "outputs": [
    {
     "name": "stdout",
     "output_type": "stream",
     "text": [
      "The itikz extension is already loaded. To reload it, use:\n",
      "  %reload_ext itikz\n"
     ]
    }
   ],
   "source": [
    "%load_ext itikz"
   ]
  },
  {
   "cell_type": "markdown",
   "metadata": {},
   "source": [
    "Par exemple on peut afficher un premier exemple, avant de chercher à les faire bouger :"
   ]
  },
  {
   "cell_type": "code",
   "execution_count": 138,
   "metadata": {
    "ExecuteTime": {
     "end_time": "2021-02-09T20:51:04.363006Z",
     "start_time": "2021-02-09T20:51:04.008258Z"
    }
   },
   "outputs": [
    {
     "data": {
      "image/svg+xml": [
       "<svg height=\"183.144pt\" version=\"1.1\" viewBox=\"0 0 158.613 183.144\" width=\"158.613pt\" xmlns=\"http://www.w3.org/2000/svg\" xmlns:xlink=\"http://www.w3.org/1999/xlink\">\n",
       "<defs>\n",
       "<g>\n",
       "<symbol id=\"glyph0-0\" overflow=\"visible\">\n",
       "<path d=\"\" style=\"stroke:none;\"/>\n",
       "</symbol>\n",
       "<symbol id=\"glyph0-1\" overflow=\"visible\">\n",
       "<path d=\"M 3.3125 -0.75 C 3.359375 -0.359375 3.625 0.0625 4.09375 0.0625 C 4.3125 0.0625 4.921875 -0.078125 4.921875 -0.890625 L 4.921875 -1.453125 L 4.671875 -1.453125 L 4.671875 -0.890625 C 4.671875 -0.3125 4.421875 -0.25 4.3125 -0.25 C 3.984375 -0.25 3.9375 -0.703125 3.9375 -0.75 L 3.9375 -2.734375 C 3.9375 -3.15625 3.9375 -3.546875 3.578125 -3.921875 C 3.1875 -4.3125 2.6875 -4.46875 2.21875 -4.46875 C 1.390625 -4.46875 0.703125 -4 0.703125 -3.34375 C 0.703125 -3.046875 0.90625 -2.875 1.171875 -2.875 C 1.453125 -2.875 1.625 -3.078125 1.625 -3.328125 C 1.625 -3.453125 1.578125 -3.78125 1.109375 -3.78125 C 1.390625 -4.140625 1.875 -4.25 2.1875 -4.25 C 2.6875 -4.25 3.25 -3.859375 3.25 -2.96875 L 3.25 -2.609375 C 2.734375 -2.578125 2.046875 -2.546875 1.421875 -2.25 C 0.671875 -1.90625 0.421875 -1.390625 0.421875 -0.953125 C 0.421875 -0.140625 1.390625 0.109375 2.015625 0.109375 C 2.671875 0.109375 3.125 -0.296875 3.3125 -0.75 Z M 3.25 -2.390625 L 3.25 -1.390625 C 3.25 -0.453125 2.53125 -0.109375 2.078125 -0.109375 C 1.59375 -0.109375 1.1875 -0.453125 1.1875 -0.953125 C 1.1875 -1.5 1.609375 -2.328125 3.25 -2.390625 Z M 3.25 -2.390625 \" style=\"stroke:none;\"/>\n",
       "</symbol>\n",
       "<symbol id=\"glyph0-2\" overflow=\"visible\">\n",
       "<path d=\"M 1.71875 -3.765625 L 1.71875 -6.921875 L 0.28125 -6.8125 L 0.28125 -6.5 C 0.984375 -6.5 1.0625 -6.4375 1.0625 -5.9375 L 1.0625 0 L 1.3125 0 C 1.3125 -0.015625 1.390625 -0.15625 1.671875 -0.625 C 1.8125 -0.390625 2.234375 0.109375 2.96875 0.109375 C 4.15625 0.109375 5.1875 -0.875 5.1875 -2.15625 C 5.1875 -3.421875 4.21875 -4.40625 3.078125 -4.40625 C 2.296875 -4.40625 1.875 -3.9375 1.71875 -3.765625 Z M 1.75 -1.140625 L 1.75 -3.1875 C 1.75 -3.375 1.75 -3.390625 1.859375 -3.546875 C 2.25 -4.109375 2.796875 -4.1875 3.03125 -4.1875 C 3.484375 -4.1875 3.84375 -3.921875 4.078125 -3.546875 C 4.34375 -3.140625 4.359375 -2.578125 4.359375 -2.15625 C 4.359375 -1.796875 4.34375 -1.203125 4.0625 -0.75 C 3.84375 -0.4375 3.46875 -0.109375 2.9375 -0.109375 C 2.484375 -0.109375 2.125 -0.34375 1.890625 -0.71875 C 1.75 -0.921875 1.75 -0.953125 1.75 -1.140625 Z M 1.75 -1.140625 \" style=\"stroke:none;\"/>\n",
       "</symbol>\n",
       "<symbol id=\"glyph0-3\" overflow=\"visible\">\n",
       "<path d=\"M 1.171875 -2.171875 C 1.171875 -3.796875 1.984375 -4.21875 2.515625 -4.21875 C 2.609375 -4.21875 3.234375 -4.203125 3.578125 -3.84375 C 3.171875 -3.8125 3.109375 -3.515625 3.109375 -3.390625 C 3.109375 -3.125 3.296875 -2.9375 3.5625 -2.9375 C 3.828125 -2.9375 4.03125 -3.09375 4.03125 -3.40625 C 4.03125 -4.078125 3.265625 -4.46875 2.5 -4.46875 C 1.25 -4.46875 0.34375 -3.390625 0.34375 -2.15625 C 0.34375 -0.875 1.328125 0.109375 2.484375 0.109375 C 3.8125 0.109375 4.140625 -1.09375 4.140625 -1.1875 C 4.140625 -1.28125 4.03125 -1.28125 4 -1.28125 C 3.921875 -1.28125 3.890625 -1.25 3.875 -1.1875 C 3.59375 -0.265625 2.9375 -0.140625 2.578125 -0.140625 C 2.046875 -0.140625 1.171875 -0.5625 1.171875 -2.171875 Z M 1.171875 -2.171875 \" style=\"stroke:none;\"/>\n",
       "</symbol>\n",
       "</g>\n",
       "</defs>\n",
       "<g id=\"surface1\">\n",
       "<path d=\"M 0.00078125 0.00190625 L 101.535938 0.00190625 \" style=\"fill:none;stroke-width:0.3985;stroke-linecap:butt;stroke-linejoin:miter;stroke:rgb(0%,0%,0%);stroke-opacity:0.7;stroke-miterlimit:10;\" transform=\"matrix(1,0,0,-1,44.8,132.748)\"/>\n",
       "<path d=\"M -1.197441 1.595656 C -1.095879 0.998 0.0017775 0.0995625 0.298653 0.00190625 C 0.0017775 -0.0996563 -1.095879 -0.998094 -1.197441 -1.59575 \" style=\"fill:none;stroke-width:0.31879;stroke-linecap:round;stroke-linejoin:round;stroke:rgb(0%,0%,0%);stroke-opacity:0.7;stroke-miterlimit:10;\" transform=\"matrix(1,0,0,-1,146.33416,132.748)\"/>\n",
       "<g style=\"fill:rgb(0%,0%,0%);fill-opacity:0.7;\">\n",
       "  <use x=\"150.311\" xlink:href=\"#glyph0-1\" y=\"134.893\"/>\n",
       "</g>\n",
       "<path d=\"M 0.00078125 0.00190625 L 0.00078125 118.533156 \" style=\"fill:none;stroke-width:0.3985;stroke-linecap:butt;stroke-linejoin:miter;stroke:rgb(0%,0%,0%);stroke-opacity:0.7;stroke-miterlimit:10;\" transform=\"matrix(1,0,0,-1,44.8,132.748)\"/>\n",
       "<path d=\"M -1.195056 1.592969 C -1.0974 0.995312 0.00025625 0.100781 0.297131 -0.00078125 C 0.00025625 -0.0984375 -1.0974 -0.996875 -1.195056 -1.594531 \" style=\"fill:none;stroke-width:0.31879;stroke-linecap:round;stroke-linejoin:round;stroke:rgb(0%,0%,0%);stroke-opacity:0.7;stroke-miterlimit:10;\" transform=\"matrix(0,-1,-1,0,44.8,14.2151)\"/>\n",
       "<g style=\"fill:rgb(0%,0%,0%);fill-opacity:0.7;\">\n",
       "  <use x=\"42.033\" xlink:href=\"#glyph0-2\" y=\"10.239\"/>\n",
       "</g>\n",
       "<path d=\"M 0.00078125 0.00190625 L -38.940625 -38.943406 \" style=\"fill:none;stroke-width:0.3985;stroke-linecap:butt;stroke-linejoin:miter;stroke:rgb(0%,0%,0%);stroke-opacity:0.7;stroke-miterlimit:10;\" transform=\"matrix(1,0,0,-1,44.8,132.748)\"/>\n",
       "<path d=\"M -1.196638 1.595614 C -1.09442 0.99625 -0.000610797 0.10138 0.300458 -0.000806065 C -0.000603766 -0.097489 -1.097112 -0.995199 -1.193763 -1.59457 \" style=\"fill:none;stroke-width:0.31879;stroke-linecap:round;stroke-linejoin:round;stroke:rgb(0%,0%,0%);stroke-opacity:0.7;stroke-miterlimit:10;\" transform=\"matrix(-0.70715,0.7071,0.7071,0.70715,5.85757,171.69046)\"/>\n",
       "<g style=\"fill:rgb(0%,0%,0%);fill-opacity:0.7;\">\n",
       "  <use x=\"3.32\" xlink:href=\"#glyph0-3\" y=\"179.823\"/>\n",
       "</g>\n",
       "<path d=\"M 0.00078125 0.00190625 L 67.957813 0.00190625 L 41.79375 -26.162156 L -26.163281 -26.162156 Z M 0.00078125 0.00190625 \" style=\"fill-rule:nonzero;fill:rgb(79.998779%,79.998779%,100%);fill-opacity:0.7;stroke-width:0.3985;stroke-linecap:butt;stroke-linejoin:miter;stroke:rgb(0%,0%,0%);stroke-opacity:0.7;stroke-miterlimit:10;\" transform=\"matrix(1,0,0,-1,44.8,132.748)\"/>\n",
       "<path d=\"M 67.957813 0.00190625 L 67.957813 67.958937 L 41.79375 -26.162156 Z M 67.957813 0.00190625 \" style=\"fill-rule:nonzero;fill:rgb(79.998779%,79.998779%,100%);fill-opacity:0.7;stroke-width:0.3985;stroke-linecap:butt;stroke-linejoin:miter;stroke:rgb(0%,0%,0%);stroke-opacity:0.7;stroke-miterlimit:10;\" transform=\"matrix(1,0,0,-1,44.8,132.748)\"/>\n",
       "<path d=\"M 0.00078125 101.9355 L -13.08125 88.853469 L -26.163281 -26.162156 L 0.00078125 0.00190625 Z M 0.00078125 101.9355 \" style=\"fill-rule:nonzero;fill:rgb(79.998779%,79.998779%,100%);fill-opacity:0.7;stroke-width:0.3985;stroke-linecap:butt;stroke-linejoin:miter;stroke:rgb(0%,0%,0%);stroke-opacity:0.7;stroke-miterlimit:10;\" transform=\"matrix(1,0,0,-1,44.8,132.748)\"/>\n",
       "<path d=\"M -13.08125 88.853469 L 33.977344 101.9355 L 67.957813 67.958937 L 41.79375 -26.162156 Z M -13.08125 88.853469 \" style=\"fill-rule:nonzero;fill:rgb(79.998779%,79.998779%,100%);fill-opacity:0.7;stroke-width:0.3985;stroke-linecap:butt;stroke-linejoin:miter;stroke:rgb(0%,0%,0%);stroke-opacity:0.7;stroke-miterlimit:10;\" transform=\"matrix(1,0,0,-1,44.8,132.748)\"/>\n",
       "<path d=\"M -13.08125 88.853469 L -26.163281 -26.162156 L 41.79375 -26.162156 Z M -13.08125 88.853469 \" style=\"fill-rule:nonzero;fill:rgb(79.998779%,79.998779%,100%);fill-opacity:0.7;stroke-width:0.3985;stroke-linecap:butt;stroke-linejoin:miter;stroke:rgb(0%,0%,0%);stroke-opacity:0.7;stroke-miterlimit:10;\" transform=\"matrix(1,0,0,-1,44.8,132.748)\"/>\n",
       "<path d=\"M -13.08125 88.853469 L 33.977344 101.9355 L 0.00078125 101.9355 Z M -13.08125 88.853469 \" style=\"fill-rule:nonzero;fill:rgb(79.998779%,79.998779%,100%);fill-opacity:0.7;stroke-width:0.3985;stroke-linecap:butt;stroke-linejoin:miter;stroke:rgb(0%,0%,0%);stroke-opacity:0.7;stroke-miterlimit:10;\" transform=\"matrix(1,0,0,-1,44.8,132.748)\"/>\n",
       "<path d=\"M 48.007812 132.746094 C 48.007812 130.976562 46.570312 129.539062 44.800781 129.539062 C 43.027344 129.539062 41.59375 130.976562 41.59375 132.746094 C 41.59375 134.519531 43.027344 135.957031 44.800781 135.957031 C 46.570312 135.957031 48.007812 134.519531 48.007812 132.746094 Z M 48.007812 132.746094 \" style=\" stroke:none;fill-rule:nonzero;fill:rgb(100%,0%,0%);fill-opacity:0.7;\"/>\n",
       "</g>\n",
       "</svg>"
      ],
      "text/plain": [
       "<IPython.core.display.SVG object>"
      ]
     },
     "execution_count": 138,
     "metadata": {},
     "output_type": "execute_result"
    }
   ],
   "source": [
    "%%itikz --temp-dir --file-prefix simplex-example-\n",
    "\\documentclass[tikz]{standalone}\n",
    "\\usepackage{amsfonts}\n",
    "\\begin{document}\n",
    "% from http://people.irisa.fr/Francois.Schwarzentruber/algo2/ notes\n",
    "\\usetikzlibrary{arrows,patterns,topaths,shadows,shapes,positioning}\n",
    "\\begin{tikzpicture}[scale=0.012, opacity=0.7]\n",
    "\\tikzstyle{point} = [fill=red, circle, inner sep=0.8mm];\n",
    "\\draw[->] (0, 0, 0) -- (300, 0, 0) node[right] {a};\n",
    "\\draw[->] (0, 0, 0) -- (0, 350, 0) node[above] {b};\n",
    "\\draw[->] (0, 0, 0) -- (0, 0, 300) node[below] {c};\n",
    "\n",
    "\\coordinate (O) at (0,0,0);\n",
    "\\coordinate (D) at (200,0,0);\n",
    "\\coordinate (E) at (200, 0, 200);\n",
    "\\coordinate (F) at (0, 0, 200);\n",
    "\\coordinate (G) at (0, 300,0);\n",
    "\\coordinate (C) at (200,200,0);\n",
    "\\coordinate (A) at (100,300, 0);\n",
    "\\coordinate (B) at (0,300, 100);\n",
    "\\draw[fill=blue!20] (O) -- (D) -- (E) -- (F) -- (O) -- cycle;\n",
    "\\draw[fill=blue!20] (D) -- (C) -- (E) -- cycle;\n",
    "\\draw[fill=blue!20] (G) -- (B) -- (F) -- (O) -- cycle;\n",
    "\\draw[fill=blue!20] (B) -- (A) -- (C) --(E) -- cycle;\n",
    "\\draw[fill=blue!20] (B) -- (F) -- (E) -- cycle;\n",
    "\\draw[fill=blue!20] (B) -- (A) -- (G) -- cycle;\n",
    "\\node[point] at (0,0,0) {};  % TODO make this argument of function\n",
    "\\end{tikzpicture}\n",
    "\\end{document}"
   ]
  },
  {
   "cell_type": "markdown",
   "metadata": {},
   "source": [
    "Maintenant on peut chercher à contrôler la position du point objectif actuel :\n",
    "a,b,c sera $x_1, x_2, x_3$."
   ]
  },
  {
   "cell_type": "code",
   "execution_count": 173,
   "metadata": {
    "ExecuteTime": {
     "end_time": "2021-02-09T21:02:08.418824Z",
     "start_time": "2021-02-09T21:02:08.406677Z"
    }
   },
   "outputs": [],
   "source": [
    "simplex_example_str = \"\"\n",
    "\n",
    "def default_cost(a, b, c):\n",
    "    \"\"\"1*{a} + 6*{b} + 13*{c}\"\"\"\n",
    "    return 1*a + 6*b + 13*c\n",
    "\n",
    "def show_tikz_figure_with_point(a=0, b=0, c=0, cost=default_cost):\n",
    "    # TODO generate nice LaTeX equations\n",
    "    if cost:\n",
    "        current_cost = cost(a, b, c)\n",
    "        cost_doc = cost.__doc__.format(a=a, b=b, c=c)\n",
    "        print(f\"Coût = {cost_doc} = {current_cost}\")\n",
    "    equation_latex = f\"\"\"\\\n",
    "Cout $f(a,b,c) = {cost_doc} = {current_cost}$.\\\n",
    "\"\"\"\n",
    "    display(Latex(equation_latex))\n",
    "    # now tikz\n",
    "    global simplex_example_str\n",
    "    simplex_example_str = r\"\"\"\n",
    "\\documentclass[tikz]{standalone}\n",
    "\\begin{document}\n",
    "% from http://people.irisa.fr/Francois.Schwarzentruber/algo2/ notes\n",
    "\\usetikzlibrary{arrows,patterns,topaths,shadows,shapes,positioning}\n",
    "\\begin{tikzpicture}[scale=0.016, opacity=0.7]\n",
    "\\tikzstyle{point} = [fill=red, circle, inner sep=0.8mm];\n",
    "\\draw[->] (0, 0, 0) -- (300, 0, 0) node[right] {a};\n",
    "\\draw[->] (0, 0, 0) -- (0, 350, 0) node[above] {b};\n",
    "\\draw[->] (0, 0, 0) -- (0, 0, 300) node[below] {c};\n",
    "\n",
    "\\coordinate (O) at (0,0,0);\n",
    "\\coordinate (D) at (200,0,0);\n",
    "\\coordinate (E) at (200, 0, 200);\n",
    "\\coordinate (F) at (0, 0, 200);\n",
    "\\coordinate (G) at (0, 300,0);\n",
    "\\coordinate (C) at (200,200,0);\n",
    "\\coordinate (A) at (100,300, 0);\n",
    "\\coordinate (B) at (0,300, 100);\n",
    "\\draw[fill=blue!20] (O) -- (D) -- (E) -- (F) -- (O) -- cycle;\n",
    "\\draw[fill=blue!20] (D) -- (C) -- (E) -- cycle;\n",
    "\\draw[fill=blue!20] (G) -- (B) -- (F) -- (O) -- cycle;\n",
    "\\draw[fill=blue!20] (B) -- (A) -- (C) --(E) -- cycle;\n",
    "\\draw[fill=blue!20] (B) -- (F) -- (E) -- cycle;\n",
    "\\draw[fill=blue!20] (B) -- (A) -- (G) -- cycle;\n",
    "\\node[point] at (\"\"\" +  f\"{a}, {b}, {c}\" + \"\"\") {};\n",
    "\\end{tikzpicture}\n",
    "\\end{document}\n",
    "\"\"\"\n",
    "    #print(simplex_example_str)\n",
    "    # TODO: run this from this function?\n",
    "    #%itikz --temp-dir --file-prefix simplex-example- simplex_example_str\n",
    "    return get_ipython().run_line_magic(\n",
    "        \"itikz\", \"--temp-dir --file-prefix simplex-example- simplex_example_str\"\n",
    "    )"
   ]
  },
  {
   "cell_type": "code",
   "execution_count": 175,
   "metadata": {
    "ExecuteTime": {
     "end_time": "2021-02-09T21:02:24.001402Z",
     "start_time": "2021-02-09T21:02:23.986926Z"
    }
   },
   "outputs": [
    {
     "name": "stdout",
     "output_type": "stream",
     "text": [
      "Coût = 1*0 + 6*0 + 13*0 = 0\n"
     ]
    },
    {
     "data": {
      "text/latex": [
       "Cout $f(a,b,c) = 1*0 + 6*0 + 13*0 = 0$."
      ],
      "text/plain": [
       "<IPython.core.display.Latex object>"
      ]
     },
     "metadata": {},
     "output_type": "display_data"
    },
    {
     "data": {
      "image/svg+xml": [
       "<svg height=\"236.097pt\" version=\"1.1\" viewBox=\"0 0 205.879 236.097\" width=\"205.879pt\" xmlns=\"http://www.w3.org/2000/svg\" xmlns:xlink=\"http://www.w3.org/1999/xlink\">\n",
       "<defs>\n",
       "<g>\n",
       "<symbol id=\"glyph0-0\" overflow=\"visible\">\n",
       "<path d=\"\" style=\"stroke:none;\"/>\n",
       "</symbol>\n",
       "<symbol id=\"glyph0-1\" overflow=\"visible\">\n",
       "<path d=\"M 3.3125 -0.75 C 3.359375 -0.359375 3.625 0.0625 4.09375 0.0625 C 4.3125 0.0625 4.921875 -0.078125 4.921875 -0.890625 L 4.921875 -1.453125 L 4.671875 -1.453125 L 4.671875 -0.890625 C 4.671875 -0.3125 4.421875 -0.25 4.3125 -0.25 C 3.984375 -0.25 3.9375 -0.703125 3.9375 -0.75 L 3.9375 -2.734375 C 3.9375 -3.15625 3.9375 -3.546875 3.578125 -3.921875 C 3.1875 -4.3125 2.6875 -4.46875 2.21875 -4.46875 C 1.390625 -4.46875 0.703125 -4 0.703125 -3.34375 C 0.703125 -3.046875 0.90625 -2.875 1.171875 -2.875 C 1.453125 -2.875 1.625 -3.078125 1.625 -3.328125 C 1.625 -3.453125 1.578125 -3.78125 1.109375 -3.78125 C 1.390625 -4.140625 1.875 -4.25 2.1875 -4.25 C 2.6875 -4.25 3.25 -3.859375 3.25 -2.96875 L 3.25 -2.609375 C 2.734375 -2.578125 2.046875 -2.546875 1.421875 -2.25 C 0.671875 -1.90625 0.421875 -1.390625 0.421875 -0.953125 C 0.421875 -0.140625 1.390625 0.109375 2.015625 0.109375 C 2.671875 0.109375 3.125 -0.296875 3.3125 -0.75 Z M 3.25 -2.390625 L 3.25 -1.390625 C 3.25 -0.453125 2.53125 -0.109375 2.078125 -0.109375 C 1.59375 -0.109375 1.1875 -0.453125 1.1875 -0.953125 C 1.1875 -1.5 1.609375 -2.328125 3.25 -2.390625 Z M 3.25 -2.390625 \" style=\"stroke:none;\"/>\n",
       "</symbol>\n",
       "<symbol id=\"glyph0-2\" overflow=\"visible\">\n",
       "<path d=\"M 1.71875 -3.765625 L 1.71875 -6.921875 L 0.28125 -6.8125 L 0.28125 -6.5 C 0.984375 -6.5 1.0625 -6.4375 1.0625 -5.9375 L 1.0625 0 L 1.3125 0 C 1.3125 -0.015625 1.390625 -0.15625 1.671875 -0.625 C 1.8125 -0.390625 2.234375 0.109375 2.96875 0.109375 C 4.15625 0.109375 5.1875 -0.875 5.1875 -2.15625 C 5.1875 -3.421875 4.21875 -4.40625 3.078125 -4.40625 C 2.296875 -4.40625 1.875 -3.9375 1.71875 -3.765625 Z M 1.75 -1.140625 L 1.75 -3.1875 C 1.75 -3.375 1.75 -3.390625 1.859375 -3.546875 C 2.25 -4.109375 2.796875 -4.1875 3.03125 -4.1875 C 3.484375 -4.1875 3.84375 -3.921875 4.078125 -3.546875 C 4.34375 -3.140625 4.359375 -2.578125 4.359375 -2.15625 C 4.359375 -1.796875 4.34375 -1.203125 4.0625 -0.75 C 3.84375 -0.4375 3.46875 -0.109375 2.9375 -0.109375 C 2.484375 -0.109375 2.125 -0.34375 1.890625 -0.71875 C 1.75 -0.921875 1.75 -0.953125 1.75 -1.140625 Z M 1.75 -1.140625 \" style=\"stroke:none;\"/>\n",
       "</symbol>\n",
       "<symbol id=\"glyph0-3\" overflow=\"visible\">\n",
       "<path d=\"M 1.171875 -2.171875 C 1.171875 -3.796875 1.984375 -4.21875 2.515625 -4.21875 C 2.609375 -4.21875 3.234375 -4.203125 3.578125 -3.84375 C 3.171875 -3.8125 3.109375 -3.515625 3.109375 -3.390625 C 3.109375 -3.125 3.296875 -2.9375 3.5625 -2.9375 C 3.828125 -2.9375 4.03125 -3.09375 4.03125 -3.40625 C 4.03125 -4.078125 3.265625 -4.46875 2.5 -4.46875 C 1.25 -4.46875 0.34375 -3.390625 0.34375 -2.15625 C 0.34375 -0.875 1.328125 0.109375 2.484375 0.109375 C 3.8125 0.109375 4.140625 -1.09375 4.140625 -1.1875 C 4.140625 -1.28125 4.03125 -1.28125 4 -1.28125 C 3.921875 -1.28125 3.890625 -1.25 3.875 -1.1875 C 3.59375 -0.265625 2.9375 -0.140625 2.578125 -0.140625 C 2.046875 -0.140625 1.171875 -0.5625 1.171875 -2.171875 Z M 1.171875 -2.171875 \" style=\"stroke:none;\"/>\n",
       "</symbol>\n",
       "</g>\n",
       "</defs>\n",
       "<g id=\"surface1\">\n",
       "<path d=\"M -0.0015 0.0005 L 135.662563 0.0005 \" style=\"fill:none;stroke-width:0.3985;stroke-linecap:butt;stroke-linejoin:miter;stroke:rgb(0%,0%,0%);stroke-opacity:0.7;stroke-miterlimit:10;\" transform=\"matrix(1,0,0,-1,57.939,172.563)\"/>\n",
       "<path d=\"M -1.19415 1.59425 C -1.096494 0.996594 0.0011625 0.0981563 0.298037 0.0005 C 0.0011625 -0.101062 -1.096494 -0.995594 -1.19415 -1.59325 \" style=\"fill:none;stroke-width:0.31879;stroke-linecap:round;stroke-linejoin:round;stroke:rgb(0%,0%,0%);stroke-opacity:0.7;stroke-miterlimit:10;\" transform=\"matrix(1,0,0,-1,193.6004,172.563)\"/>\n",
       "<g style=\"fill:rgb(0%,0%,0%);fill-opacity:0.7;\">\n",
       "  <use x=\"197.577\" xlink:href=\"#glyph0-1\" y=\"174.707\"/>\n",
       "</g>\n",
       "<path d=\"M -0.0015 0.0005 L -0.0015 158.348156 \" style=\"fill:none;stroke-width:0.3985;stroke-linecap:butt;stroke-linejoin:miter;stroke:rgb(0%,0%,0%);stroke-opacity:0.7;stroke-miterlimit:10;\" transform=\"matrix(1,0,0,-1,57.939,172.563)\"/>\n",
       "<path d=\"M -1.195176 1.59525 C -1.09752 0.997594 0.00013625 0.0991563 0.297011 0.0015 C 0.00013625 -0.100062 -1.09752 -0.994594 -1.195176 -1.59225 \" style=\"fill:none;stroke-width:0.31879;stroke-linecap:round;stroke-linejoin:round;stroke:rgb(0%,0%,0%);stroke-opacity:0.7;stroke-miterlimit:10;\" transform=\"matrix(0,-1,-1,0,57.939,14.21498)\"/>\n",
       "<g style=\"fill:rgb(0%,0%,0%);fill-opacity:0.7;\">\n",
       "  <use x=\"55.172\" xlink:href=\"#glyph0-2\" y=\"10.239\"/>\n",
       "</g>\n",
       "<path d=\"M -0.0015 0.0005 L -52.079625 -52.081531 \" style=\"fill:none;stroke-width:0.3985;stroke-linecap:butt;stroke-linejoin:miter;stroke:rgb(0%,0%,0%);stroke-opacity:0.7;stroke-miterlimit:10;\" transform=\"matrix(1,0,0,-1,57.939,172.563)\"/>\n",
       "<path d=\"M -1.196985 1.595015 C -1.094771 0.995646 -0.000960078 0.100762 0.30011 -0.00142691 C -0.000954453 -0.0981084 -1.097477 -0.995817 -1.194132 -1.595192 \" style=\"fill:none;stroke-width:0.31879;stroke-linecap:round;stroke-linejoin:round;stroke:rgb(0%,0%,0%);stroke-opacity:0.7;stroke-miterlimit:10;\" transform=\"matrix(-0.70714,0.7071,0.7071,0.70714,5.85776,224.64427)\"/>\n",
       "<g style=\"fill:rgb(0%,0%,0%);fill-opacity:0.7;\">\n",
       "  <use x=\"3.321\" xlink:href=\"#glyph0-3\" y=\"232.776\"/>\n",
       "</g>\n",
       "<path d=\"M -0.0015 0.0005 L 90.783656 0.0005 L 55.830531 -34.952625 L -34.950719 -34.952625 Z M -0.0015 0.0005 \" style=\"fill-rule:nonzero;fill:rgb(79.998779%,79.998779%,100%);fill-opacity:0.7;stroke-width:0.3985;stroke-linecap:butt;stroke-linejoin:miter;stroke:rgb(0%,0%,0%);stroke-opacity:0.7;stroke-miterlimit:10;\" transform=\"matrix(1,0,0,-1,57.939,172.563)\"/>\n",
       "<path d=\"M 90.783656 0.0005 L 90.783656 90.78175 L 55.830531 -34.952625 Z M 90.783656 0.0005 \" style=\"fill-rule:nonzero;fill:rgb(79.998779%,79.998779%,100%);fill-opacity:0.7;stroke-width:0.3985;stroke-linecap:butt;stroke-linejoin:miter;stroke:rgb(0%,0%,0%);stroke-opacity:0.7;stroke-miterlimit:10;\" transform=\"matrix(1,0,0,-1,57.939,172.563)\"/>\n",
       "<path d=\"M -0.0015 136.176281 L -17.474156 118.699719 L -34.950719 -34.952625 L -0.0015 0.0005 Z M -0.0015 136.176281 \" style=\"fill-rule:nonzero;fill:rgb(79.998779%,79.998779%,100%);fill-opacity:0.7;stroke-width:0.3985;stroke-linecap:butt;stroke-linejoin:miter;stroke:rgb(0%,0%,0%);stroke-opacity:0.7;stroke-miterlimit:10;\" transform=\"matrix(1,0,0,-1,57.939,172.563)\"/>\n",
       "<path d=\"M -17.474156 118.699719 L 45.393031 136.176281 L 90.783656 90.78175 L 55.830531 -34.952625 Z M -17.474156 118.699719 \" style=\"fill-rule:nonzero;fill:rgb(79.998779%,79.998779%,100%);fill-opacity:0.7;stroke-width:0.3985;stroke-linecap:butt;stroke-linejoin:miter;stroke:rgb(0%,0%,0%);stroke-opacity:0.7;stroke-miterlimit:10;\" transform=\"matrix(1,0,0,-1,57.939,172.563)\"/>\n",
       "<path d=\"M -17.474156 118.699719 L -34.950719 -34.952625 L 55.830531 -34.952625 Z M -17.474156 118.699719 \" style=\"fill-rule:nonzero;fill:rgb(79.998779%,79.998779%,100%);fill-opacity:0.7;stroke-width:0.3985;stroke-linecap:butt;stroke-linejoin:miter;stroke:rgb(0%,0%,0%);stroke-opacity:0.7;stroke-miterlimit:10;\" transform=\"matrix(1,0,0,-1,57.939,172.563)\"/>\n",
       "<path d=\"M -17.474156 118.699719 L 45.393031 136.176281 L -0.0015 136.176281 Z M -17.474156 118.699719 \" style=\"fill-rule:nonzero;fill:rgb(79.998779%,79.998779%,100%);fill-opacity:0.7;stroke-width:0.3985;stroke-linecap:butt;stroke-linejoin:miter;stroke:rgb(0%,0%,0%);stroke-opacity:0.7;stroke-miterlimit:10;\" transform=\"matrix(1,0,0,-1,57.939,172.563)\"/>\n",
       "<path d=\"M 61.144531 172.5625 C 61.144531 170.792969 59.710938 169.355469 57.9375 169.355469 C 56.167969 169.355469 54.730469 170.792969 54.730469 172.5625 C 54.730469 174.335938 56.167969 175.769531 57.9375 175.769531 C 59.710938 175.769531 61.144531 174.335938 61.144531 172.5625 Z M 61.144531 172.5625 \" style=\" stroke:none;fill-rule:nonzero;fill:rgb(100%,0%,0%);fill-opacity:0.7;\"/>\n",
       "</g>\n",
       "</svg>"
      ],
      "text/plain": [
       "<IPython.core.display.SVG object>"
      ]
     },
     "execution_count": 175,
     "metadata": {},
     "output_type": "execute_result"
    }
   ],
   "source": [
    "show_tikz_figure_with_point(0, 0, 0)"
   ]
  },
  {
   "cell_type": "markdown",
   "metadata": {},
   "source": [
    "Et en rendant cela interactif, on peut jouer avec ça.\n",
    "\n",
    "<span style=\"color:red;\">ATTENTION : même si les widgets sont présents dans une version statique de cette page (au format HTML ou sur [nbviewer.jupyter.org](https://nbviewer.jupyter.org/), la figure ne peut pas être modifée. Si vous souhaitez expérimenter de votre côté, il faut exécuter le notebook localement depuis votre propre Jupyter, ou avec MyBinder en cliquant sur un des boutons suivants :</span>\n",
    "\n",
    "[![Binder](https://mybinder.org/badge_logo.svg)](https://mybinder.org/v2/gh/Naereen/notebooks/master?filepath=Une_exploration_visuelle_de_l_algorithme_du_Simplexe_en_3D_avec_Python.ipynb)\n",
    "[![MyBinder v2](https://mybinder.org/badge_logo.svg)](https://mybinder.org/v2/gh/Naereen/notebooks/master)"
   ]
  },
  {
   "cell_type": "code",
   "execution_count": 177,
   "metadata": {
    "ExecuteTime": {
     "end_time": "2021-02-09T21:09:10.872688Z",
     "start_time": "2021-02-09T21:09:10.786630Z"
    }
   },
   "outputs": [
    {
     "data": {
      "application/vnd.jupyter.widget-view+json": {
       "model_id": "2d681b937da845fcaac5b2fb87de91d7",
       "version_major": 2,
       "version_minor": 0
      },
      "text/plain": [
       "interactive(children=(IntSlider(value=0, description='a', max=300, min=-100, step=10), IntSlider(value=0, desc…"
      ]
     },
     "metadata": {},
     "output_type": "display_data"
    },
    {
     "data": {
      "text/plain": [
       "<function __main__.show_tikz_figure_with_point(a=0, b=0, c=0, cost=<function default_cost at 0x7efd69c9dbf8>)>"
      ]
     },
     "execution_count": 177,
     "metadata": {},
     "output_type": "execute_result"
    }
   ],
   "source": [
    "interact(\n",
    "    show_tikz_figure_with_point,\n",
    "    a = (-100, 300, 10),\n",
    "    b = (-100, 300, 10),\n",
    "    c = (-100, 300, 10),\n",
    "    cost = fixed(default_cost)\n",
    ")"
   ]
  },
  {
   "cell_type": "code",
   "execution_count": 151,
   "metadata": {
    "ExecuteTime": {
     "end_time": "2021-02-09T20:56:12.559221Z",
     "start_time": "2021-02-09T20:56:12.532999Z"
    }
   },
   "outputs": [
    {
     "name": "stdout",
     "output_type": "stream",
     "text": [
      "\n",
      "- Itération #0, phase 1 :\n",
      "    Valeur objectif    = 0\n",
      "    Variables d'écart  = [200, 300, 400, 600]\n",
      "    Variables objectif = [0, 0, 0]\n",
      "\n",
      "- Itération #1, phase 1 :\n",
      "    Valeur objectif    = -2600\n",
      "    Variables d'écart  = [200, 300, 200, 0]\n",
      "    Variables objectif = [0, 0, 200]\n",
      "\n",
      "- Itération #2, phase 1 :\n",
      "    Valeur objectif    = -2800\n",
      "    Variables d'écart  = [0, 300, 0, 0]\n",
      "    Variables objectif = [200, 0, 200]\n",
      "\n",
      "- Itération #3, phase 1 :\n",
      "    Valeur objectif    = -2800\n",
      "    Variables d'écart  = [0, 300, 0, 0]\n",
      "    Variables objectif = [200, 0, 200]\n",
      "\n",
      "- Itération #4, phase 1 :\n",
      "    Valeur objectif    = -3100\n",
      "    Variables d'écart  = [200, 0, 0, 0]\n",
      "    Variables objectif = [0, 300, 100]\n",
      "\n",
      "- Itération #5, phase 1 :\n",
      "    Valeur objectif    = -3100\n",
      "    Variables d'écart  = [200, 0, 0, 0]\n",
      "    Variables objectif = [0, 300, 100]\n",
      "\n",
      "- Itération #5, phase 2 :\n",
      "    Valeur objectif    = -3100\n",
      "    Variables d'écart  = [200, 0, 0, 0]\n",
      "    Variables objectif = [0, 300, 100]\n"
     ]
    },
    {
     "data": {
      "text/plain": [
       "     con: array([], dtype=float64)\n",
       "     fun: -3100.0\n",
       " message: 'Optimization terminated successfully.'\n",
       "     nit: 5\n",
       "   slack: array([2.00000000e+02, 5.68434189e-14, 0.00000000e+00, 0.00000000e+00])\n",
       "  status: 0\n",
       " success: True\n",
       "       x: array([  0., 300., 100.])"
      ]
     },
     "execution_count": 151,
     "metadata": {},
     "output_type": "execute_result"
    }
   ],
   "source": [
    "linprog_wrapper(problem2, callback=dummy_callback)"
   ]
  },
  {
   "cell_type": "markdown",
   "metadata": {},
   "source": [
    "## Conclusion\n",
    "\n",
    "C'était amusant.\n",
    "\n",
    "> Voir [d'autres notebooks](https://github.com/Naereen/notebooks/)."
   ]
  }
 ],
 "metadata": {
  "kernelspec": {
   "display_name": "Python 3",
   "language": "python",
   "name": "python3"
  },
  "language_info": {
   "codemirror_mode": {
    "name": "ipython",
    "version": 3
   },
   "file_extension": ".py",
   "mimetype": "text/x-python",
   "name": "python",
   "nbconvert_exporter": "python",
   "pygments_lexer": "ipython3",
   "version": "3.6.9"
  },
  "toc": {
   "base_numbering": 1,
   "nav_menu": {},
   "number_sections": true,
   "sideBar": true,
   "skip_h1_title": false,
   "title_cell": "Table of Contents",
   "title_sidebar": "Contents",
   "toc_cell": false,
   "toc_position": {
    "height": "65.7833px",
    "left": "544.35px",
    "top": "193.7px",
    "width": "212px"
   },
   "toc_section_display": true,
   "toc_window_display": true
  },
  "varInspector": {
   "cols": {
    "lenName": 16,
    "lenType": 16,
    "lenVar": 40
   },
   "kernels_config": {
    "python": {
     "delete_cmd_postfix": "",
     "delete_cmd_prefix": "del ",
     "library": "var_list.py",
     "varRefreshCmd": "print(var_dic_list())"
    },
    "r": {
     "delete_cmd_postfix": ") ",
     "delete_cmd_prefix": "rm(",
     "library": "var_list.r",
     "varRefreshCmd": "cat(var_dic_list()) "
    }
   },
   "types_to_exclude": [
    "module",
    "function",
    "builtin_function_or_method",
    "instance",
    "_Feature"
   ],
   "window_display": false
  },
  "widgets": {
   "application/vnd.jupyter.widget-state+json": {
    "state": {
     "0013df4fa6bf40328e5c7f1122568189": {
      "model_module": "@jupyter-widgets/controls",
      "model_module_version": "1.5.0",
      "model_name": "IntSliderModel",
      "state": {
       "description": "b",
       "layout": "IPY_MODEL_1303a08fc65640fc861e2d786208036d",
       "max": 300,
       "min": -100,
       "step": 10,
       "style": "IPY_MODEL_8ff9440daffd481e96aef4681432006a"
      }
     },
     "0728e221f4e44717b2f4f8d3ce08df14": {
      "model_module": "@jupyter-widgets/base",
      "model_module_version": "1.2.0",
      "model_name": "LayoutModel",
      "state": {}
     },
     "07687316f22045d788fc04ae1dcab927": {
      "model_module": "@jupyter-widgets/controls",
      "model_module_version": "1.5.0",
      "model_name": "IntSliderModel",
      "state": {
       "description": "a",
       "layout": "IPY_MODEL_2e540d56f9044300a25b1b826038479a",
       "max": 300,
       "min": -100,
       "step": 10,
       "style": "IPY_MODEL_b6e26016f1944db5bea35f17f047adfe",
       "value": 200
      }
     },
     "07ed157521b34a55b146cfd9724c4ce1": {
      "model_module": "@jupyter-widgets/output",
      "model_module_version": "1.0.0",
      "model_name": "OutputModel",
      "state": {
       "layout": "IPY_MODEL_de19a02ca0354ea785fe24a17a8147d1",
       "outputs": [
        {
         "name": "stdout",
         "output_type": "stream",
         "text": "Coût = 1*0 + 6*0 + 13*200 = 2600\n"
        },
        {
         "data": {
          "image/svg+xml": "<svg height=\"183.144pt\" version=\"1.1\" viewBox=\"0 0 158.613 183.144\" width=\"158.613pt\" xmlns=\"http://www.w3.org/2000/svg\" xmlns:xlink=\"http://www.w3.org/1999/xlink\">\n<defs>\n<g>\n<symbol id=\"glyph0-0\" overflow=\"visible\">\n<path d=\"\" style=\"stroke:none;\"/>\n</symbol>\n<symbol id=\"glyph0-1\" overflow=\"visible\">\n<path d=\"M 3.3125 -0.75 C 3.359375 -0.359375 3.625 0.0625 4.09375 0.0625 C 4.3125 0.0625 4.921875 -0.078125 4.921875 -0.890625 L 4.921875 -1.453125 L 4.671875 -1.453125 L 4.671875 -0.890625 C 4.671875 -0.3125 4.421875 -0.25 4.3125 -0.25 C 3.984375 -0.25 3.9375 -0.703125 3.9375 -0.75 L 3.9375 -2.734375 C 3.9375 -3.15625 3.9375 -3.546875 3.578125 -3.921875 C 3.1875 -4.3125 2.6875 -4.46875 2.21875 -4.46875 C 1.390625 -4.46875 0.703125 -4 0.703125 -3.34375 C 0.703125 -3.046875 0.90625 -2.875 1.171875 -2.875 C 1.453125 -2.875 1.625 -3.078125 1.625 -3.328125 C 1.625 -3.453125 1.578125 -3.78125 1.109375 -3.78125 C 1.390625 -4.140625 1.875 -4.25 2.1875 -4.25 C 2.6875 -4.25 3.25 -3.859375 3.25 -2.96875 L 3.25 -2.609375 C 2.734375 -2.578125 2.046875 -2.546875 1.421875 -2.25 C 0.671875 -1.90625 0.421875 -1.390625 0.421875 -0.953125 C 0.421875 -0.140625 1.390625 0.109375 2.015625 0.109375 C 2.671875 0.109375 3.125 -0.296875 3.3125 -0.75 Z M 3.25 -2.390625 L 3.25 -1.390625 C 3.25 -0.453125 2.53125 -0.109375 2.078125 -0.109375 C 1.59375 -0.109375 1.1875 -0.453125 1.1875 -0.953125 C 1.1875 -1.5 1.609375 -2.328125 3.25 -2.390625 Z M 3.25 -2.390625 \" style=\"stroke:none;\"/>\n</symbol>\n<symbol id=\"glyph0-2\" overflow=\"visible\">\n<path d=\"M 1.71875 -3.765625 L 1.71875 -6.921875 L 0.28125 -6.8125 L 0.28125 -6.5 C 0.984375 -6.5 1.0625 -6.4375 1.0625 -5.9375 L 1.0625 0 L 1.3125 0 C 1.3125 -0.015625 1.390625 -0.15625 1.671875 -0.625 C 1.8125 -0.390625 2.234375 0.109375 2.96875 0.109375 C 4.15625 0.109375 5.1875 -0.875 5.1875 -2.15625 C 5.1875 -3.421875 4.21875 -4.40625 3.078125 -4.40625 C 2.296875 -4.40625 1.875 -3.9375 1.71875 -3.765625 Z M 1.75 -1.140625 L 1.75 -3.1875 C 1.75 -3.375 1.75 -3.390625 1.859375 -3.546875 C 2.25 -4.109375 2.796875 -4.1875 3.03125 -4.1875 C 3.484375 -4.1875 3.84375 -3.921875 4.078125 -3.546875 C 4.34375 -3.140625 4.359375 -2.578125 4.359375 -2.15625 C 4.359375 -1.796875 4.34375 -1.203125 4.0625 -0.75 C 3.84375 -0.4375 3.46875 -0.109375 2.9375 -0.109375 C 2.484375 -0.109375 2.125 -0.34375 1.890625 -0.71875 C 1.75 -0.921875 1.75 -0.953125 1.75 -1.140625 Z M 1.75 -1.140625 \" style=\"stroke:none;\"/>\n</symbol>\n<symbol id=\"glyph0-3\" overflow=\"visible\">\n<path d=\"M 1.171875 -2.171875 C 1.171875 -3.796875 1.984375 -4.21875 2.515625 -4.21875 C 2.609375 -4.21875 3.234375 -4.203125 3.578125 -3.84375 C 3.171875 -3.8125 3.109375 -3.515625 3.109375 -3.390625 C 3.109375 -3.125 3.296875 -2.9375 3.5625 -2.9375 C 3.828125 -2.9375 4.03125 -3.09375 4.03125 -3.40625 C 4.03125 -4.078125 3.265625 -4.46875 2.5 -4.46875 C 1.25 -4.46875 0.34375 -3.390625 0.34375 -2.15625 C 0.34375 -0.875 1.328125 0.109375 2.484375 0.109375 C 3.8125 0.109375 4.140625 -1.09375 4.140625 -1.1875 C 4.140625 -1.28125 4.03125 -1.28125 4 -1.28125 C 3.921875 -1.28125 3.890625 -1.25 3.875 -1.1875 C 3.59375 -0.265625 2.9375 -0.140625 2.578125 -0.140625 C 2.046875 -0.140625 1.171875 -0.5625 1.171875 -2.171875 Z M 1.171875 -2.171875 \" style=\"stroke:none;\"/>\n</symbol>\n</g>\n</defs>\n<g id=\"surface1\">\n<path d=\"M 0.00078125 0.00190625 L 101.535938 0.00190625 \" style=\"fill:none;stroke-width:0.3985;stroke-linecap:butt;stroke-linejoin:miter;stroke:rgb(0%,0%,0%);stroke-opacity:0.7;stroke-miterlimit:10;\" transform=\"matrix(1,0,0,-1,44.8,132.748)\"/>\n<path d=\"M -1.197441 1.595656 C -1.095879 0.998 0.0017775 0.0995625 0.298653 0.00190625 C 0.0017775 -0.0996563 -1.095879 -0.998094 -1.197441 -1.59575 \" style=\"fill:none;stroke-width:0.31879;stroke-linecap:round;stroke-linejoin:round;stroke:rgb(0%,0%,0%);stroke-opacity:0.7;stroke-miterlimit:10;\" transform=\"matrix(1,0,0,-1,146.33416,132.748)\"/>\n<g style=\"fill:rgb(0%,0%,0%);fill-opacity:0.7;\">\n  <use x=\"150.311\" xlink:href=\"#glyph0-1\" y=\"134.893\"/>\n</g>\n<path d=\"M 0.00078125 0.00190625 L 0.00078125 118.533156 \" style=\"fill:none;stroke-width:0.3985;stroke-linecap:butt;stroke-linejoin:miter;stroke:rgb(0%,0%,0%);stroke-opacity:0.7;stroke-miterlimit:10;\" transform=\"matrix(1,0,0,-1,44.8,132.748)\"/>\n<path d=\"M -1.195056 1.592969 C -1.0974 0.995312 0.00025625 0.100781 0.297131 -0.00078125 C 0.00025625 -0.0984375 -1.0974 -0.996875 -1.195056 -1.594531 \" style=\"fill:none;stroke-width:0.31879;stroke-linecap:round;stroke-linejoin:round;stroke:rgb(0%,0%,0%);stroke-opacity:0.7;stroke-miterlimit:10;\" transform=\"matrix(0,-1,-1,0,44.8,14.2151)\"/>\n<g style=\"fill:rgb(0%,0%,0%);fill-opacity:0.7;\">\n  <use x=\"42.033\" xlink:href=\"#glyph0-2\" y=\"10.239\"/>\n</g>\n<path d=\"M 0.00078125 0.00190625 L -38.940625 -38.943406 \" style=\"fill:none;stroke-width:0.3985;stroke-linecap:butt;stroke-linejoin:miter;stroke:rgb(0%,0%,0%);stroke-opacity:0.7;stroke-miterlimit:10;\" transform=\"matrix(1,0,0,-1,44.8,132.748)\"/>\n<path d=\"M -1.196638 1.595614 C -1.09442 0.99625 -0.000610797 0.10138 0.300458 -0.000806065 C -0.000603766 -0.097489 -1.097112 -0.995199 -1.193763 -1.59457 \" style=\"fill:none;stroke-width:0.31879;stroke-linecap:round;stroke-linejoin:round;stroke:rgb(0%,0%,0%);stroke-opacity:0.7;stroke-miterlimit:10;\" transform=\"matrix(-0.70715,0.7071,0.7071,0.70715,5.85757,171.69046)\"/>\n<g style=\"fill:rgb(0%,0%,0%);fill-opacity:0.7;\">\n  <use x=\"3.32\" xlink:href=\"#glyph0-3\" y=\"179.823\"/>\n</g>\n<path d=\"M 0.00078125 0.00190625 L 67.957813 0.00190625 L 41.79375 -26.162156 L -26.163281 -26.162156 Z M 0.00078125 0.00190625 \" style=\"fill-rule:nonzero;fill:rgb(79.998779%,79.998779%,100%);fill-opacity:0.7;stroke-width:0.3985;stroke-linecap:butt;stroke-linejoin:miter;stroke:rgb(0%,0%,0%);stroke-opacity:0.7;stroke-miterlimit:10;\" transform=\"matrix(1,0,0,-1,44.8,132.748)\"/>\n<path d=\"M 67.957813 0.00190625 L 67.957813 67.958937 L 41.79375 -26.162156 Z M 67.957813 0.00190625 \" style=\"fill-rule:nonzero;fill:rgb(79.998779%,79.998779%,100%);fill-opacity:0.7;stroke-width:0.3985;stroke-linecap:butt;stroke-linejoin:miter;stroke:rgb(0%,0%,0%);stroke-opacity:0.7;stroke-miterlimit:10;\" transform=\"matrix(1,0,0,-1,44.8,132.748)\"/>\n<path d=\"M 0.00078125 101.9355 L -13.08125 88.853469 L -26.163281 -26.162156 L 0.00078125 0.00190625 Z M 0.00078125 101.9355 \" style=\"fill-rule:nonzero;fill:rgb(79.998779%,79.998779%,100%);fill-opacity:0.7;stroke-width:0.3985;stroke-linecap:butt;stroke-linejoin:miter;stroke:rgb(0%,0%,0%);stroke-opacity:0.7;stroke-miterlimit:10;\" transform=\"matrix(1,0,0,-1,44.8,132.748)\"/>\n<path d=\"M -13.08125 88.853469 L 33.977344 101.9355 L 67.957813 67.958937 L 41.79375 -26.162156 Z M -13.08125 88.853469 \" style=\"fill-rule:nonzero;fill:rgb(79.998779%,79.998779%,100%);fill-opacity:0.7;stroke-width:0.3985;stroke-linecap:butt;stroke-linejoin:miter;stroke:rgb(0%,0%,0%);stroke-opacity:0.7;stroke-miterlimit:10;\" transform=\"matrix(1,0,0,-1,44.8,132.748)\"/>\n<path d=\"M -13.08125 88.853469 L -26.163281 -26.162156 L 41.79375 -26.162156 Z M -13.08125 88.853469 \" style=\"fill-rule:nonzero;fill:rgb(79.998779%,79.998779%,100%);fill-opacity:0.7;stroke-width:0.3985;stroke-linecap:butt;stroke-linejoin:miter;stroke:rgb(0%,0%,0%);stroke-opacity:0.7;stroke-miterlimit:10;\" transform=\"matrix(1,0,0,-1,44.8,132.748)\"/>\n<path d=\"M -13.08125 88.853469 L 33.977344 101.9355 L 0.00078125 101.9355 Z M -13.08125 88.853469 \" style=\"fill-rule:nonzero;fill:rgb(79.998779%,79.998779%,100%);fill-opacity:0.7;stroke-width:0.3985;stroke-linecap:butt;stroke-linejoin:miter;stroke:rgb(0%,0%,0%);stroke-opacity:0.7;stroke-miterlimit:10;\" transform=\"matrix(1,0,0,-1,44.8,132.748)\"/>\n<path d=\"M 21.828125 158.925781 C 21.828125 157.15625 20.394531 155.71875 18.621094 155.71875 C 16.851562 155.71875 15.414062 157.15625 15.414062 158.925781 C 15.414062 160.695312 16.851562 162.132812 18.621094 162.132812 C 20.394531 162.132812 21.828125 160.695312 21.828125 158.925781 Z M 21.828125 158.925781 \" style=\" stroke:none;fill-rule:nonzero;fill:rgb(100%,0%,0%);fill-opacity:0.7;\"/>\n</g>\n</svg>",
          "text/plain": "<IPython.core.display.SVG object>"
         },
         "metadata": {},
         "output_type": "display_data"
        }
       ]
      }
     },
     "08fe912f6d284dd8aef2a10bb57cc788": {
      "model_module": "@jupyter-widgets/controls",
      "model_module_version": "1.5.0",
      "model_name": "VBoxModel",
      "state": {
       "_dom_classes": [
        "widget-interact"
       ],
       "children": [
        "IPY_MODEL_c9d24498844b47eb90895a44b14d9766",
        "IPY_MODEL_6e8ba0fe94dd4bef9b4f196bc1fe8d32",
        "IPY_MODEL_88dda621b3604f569c1164f165b0e52e",
        "IPY_MODEL_2d2e0ccc138b41fc94e494d5698aa5ef"
       ],
       "layout": "IPY_MODEL_92b3417dd99e464ebe3bec9b9df3bc30"
      }
     },
     "0dbc208ff42545508c86482b03667c11": {
      "model_module": "@jupyter-widgets/controls",
      "model_module_version": "1.5.0",
      "model_name": "SliderStyleModel",
      "state": {
       "description_width": ""
      }
     },
     "101e990cd49547b3813da5276f501aa0": {
      "model_module": "@jupyter-widgets/controls",
      "model_module_version": "1.5.0",
      "model_name": "SliderStyleModel",
      "state": {
       "description_width": ""
      }
     },
     "11fa196405a0486094a3699374a58379": {
      "model_module": "@jupyter-widgets/base",
      "model_module_version": "1.2.0",
      "model_name": "LayoutModel",
      "state": {}
     },
     "1303a08fc65640fc861e2d786208036d": {
      "model_module": "@jupyter-widgets/base",
      "model_module_version": "1.2.0",
      "model_name": "LayoutModel",
      "state": {}
     },
     "13441c8ca7414e18a6dec3ac6e319184": {
      "model_module": "@jupyter-widgets/controls",
      "model_module_version": "1.5.0",
      "model_name": "SliderStyleModel",
      "state": {
       "description_width": ""
      }
     },
     "14c62a4e46eb47f48024bacf5079d706": {
      "model_module": "@jupyter-widgets/base",
      "model_module_version": "1.2.0",
      "model_name": "LayoutModel",
      "state": {}
     },
     "1750411dd580415dbf7de8d04d431e01": {
      "model_module": "@jupyter-widgets/output",
      "model_module_version": "1.0.0",
      "model_name": "OutputModel",
      "state": {
       "layout": "IPY_MODEL_850b64933a6f40a6a68e000f7e826d55",
       "outputs": [
        {
         "name": "stdout",
         "output_type": "stream",
         "text": "Coût = 1*200 + 6*160 + 13*110 = 2590\n"
        },
        {
         "data": {
          "text/latex": "Cout $f(a,b,c) = 1*200 + 6*160 + 13*110 = 2590$.",
          "text/plain": "<IPython.core.display.Latex object>"
         },
         "metadata": {},
         "output_type": "display_data"
        },
        {
         "data": {
          "image/svg+xml": "<svg height=\"236.097pt\" version=\"1.1\" viewBox=\"0 0 205.879 236.097\" width=\"205.879pt\" xmlns=\"http://www.w3.org/2000/svg\" xmlns:xlink=\"http://www.w3.org/1999/xlink\">\n<defs>\n<g>\n<symbol id=\"glyph0-0\" overflow=\"visible\">\n<path d=\"\" style=\"stroke:none;\"/>\n</symbol>\n<symbol id=\"glyph0-1\" overflow=\"visible\">\n<path d=\"M 3.3125 -0.75 C 3.359375 -0.359375 3.625 0.0625 4.09375 0.0625 C 4.3125 0.0625 4.921875 -0.078125 4.921875 -0.890625 L 4.921875 -1.453125 L 4.671875 -1.453125 L 4.671875 -0.890625 C 4.671875 -0.3125 4.421875 -0.25 4.3125 -0.25 C 3.984375 -0.25 3.9375 -0.703125 3.9375 -0.75 L 3.9375 -2.734375 C 3.9375 -3.15625 3.9375 -3.546875 3.578125 -3.921875 C 3.1875 -4.3125 2.6875 -4.46875 2.21875 -4.46875 C 1.390625 -4.46875 0.703125 -4 0.703125 -3.34375 C 0.703125 -3.046875 0.90625 -2.875 1.171875 -2.875 C 1.453125 -2.875 1.625 -3.078125 1.625 -3.328125 C 1.625 -3.453125 1.578125 -3.78125 1.109375 -3.78125 C 1.390625 -4.140625 1.875 -4.25 2.1875 -4.25 C 2.6875 -4.25 3.25 -3.859375 3.25 -2.96875 L 3.25 -2.609375 C 2.734375 -2.578125 2.046875 -2.546875 1.421875 -2.25 C 0.671875 -1.90625 0.421875 -1.390625 0.421875 -0.953125 C 0.421875 -0.140625 1.390625 0.109375 2.015625 0.109375 C 2.671875 0.109375 3.125 -0.296875 3.3125 -0.75 Z M 3.25 -2.390625 L 3.25 -1.390625 C 3.25 -0.453125 2.53125 -0.109375 2.078125 -0.109375 C 1.59375 -0.109375 1.1875 -0.453125 1.1875 -0.953125 C 1.1875 -1.5 1.609375 -2.328125 3.25 -2.390625 Z M 3.25 -2.390625 \" style=\"stroke:none;\"/>\n</symbol>\n<symbol id=\"glyph0-2\" overflow=\"visible\">\n<path d=\"M 1.71875 -3.765625 L 1.71875 -6.921875 L 0.28125 -6.8125 L 0.28125 -6.5 C 0.984375 -6.5 1.0625 -6.4375 1.0625 -5.9375 L 1.0625 0 L 1.3125 0 C 1.3125 -0.015625 1.390625 -0.15625 1.671875 -0.625 C 1.8125 -0.390625 2.234375 0.109375 2.96875 0.109375 C 4.15625 0.109375 5.1875 -0.875 5.1875 -2.15625 C 5.1875 -3.421875 4.21875 -4.40625 3.078125 -4.40625 C 2.296875 -4.40625 1.875 -3.9375 1.71875 -3.765625 Z M 1.75 -1.140625 L 1.75 -3.1875 C 1.75 -3.375 1.75 -3.390625 1.859375 -3.546875 C 2.25 -4.109375 2.796875 -4.1875 3.03125 -4.1875 C 3.484375 -4.1875 3.84375 -3.921875 4.078125 -3.546875 C 4.34375 -3.140625 4.359375 -2.578125 4.359375 -2.15625 C 4.359375 -1.796875 4.34375 -1.203125 4.0625 -0.75 C 3.84375 -0.4375 3.46875 -0.109375 2.9375 -0.109375 C 2.484375 -0.109375 2.125 -0.34375 1.890625 -0.71875 C 1.75 -0.921875 1.75 -0.953125 1.75 -1.140625 Z M 1.75 -1.140625 \" style=\"stroke:none;\"/>\n</symbol>\n<symbol id=\"glyph0-3\" overflow=\"visible\">\n<path d=\"M 1.171875 -2.171875 C 1.171875 -3.796875 1.984375 -4.21875 2.515625 -4.21875 C 2.609375 -4.21875 3.234375 -4.203125 3.578125 -3.84375 C 3.171875 -3.8125 3.109375 -3.515625 3.109375 -3.390625 C 3.109375 -3.125 3.296875 -2.9375 3.5625 -2.9375 C 3.828125 -2.9375 4.03125 -3.09375 4.03125 -3.40625 C 4.03125 -4.078125 3.265625 -4.46875 2.5 -4.46875 C 1.25 -4.46875 0.34375 -3.390625 0.34375 -2.15625 C 0.34375 -0.875 1.328125 0.109375 2.484375 0.109375 C 3.8125 0.109375 4.140625 -1.09375 4.140625 -1.1875 C 4.140625 -1.28125 4.03125 -1.28125 4 -1.28125 C 3.921875 -1.28125 3.890625 -1.25 3.875 -1.1875 C 3.59375 -0.265625 2.9375 -0.140625 2.578125 -0.140625 C 2.046875 -0.140625 1.171875 -0.5625 1.171875 -2.171875 Z M 1.171875 -2.171875 \" style=\"stroke:none;\"/>\n</symbol>\n</g>\n</defs>\n<g id=\"surface1\">\n<path d=\"M -0.0015 0.0005 L 135.662563 0.0005 \" style=\"fill:none;stroke-width:0.3985;stroke-linecap:butt;stroke-linejoin:miter;stroke:rgb(0%,0%,0%);stroke-opacity:0.7;stroke-miterlimit:10;\" transform=\"matrix(1,0,0,-1,57.939,172.563)\"/>\n<path d=\"M -1.19415 1.59425 C -1.096494 0.996594 0.0011625 0.0981563 0.298037 0.0005 C 0.0011625 -0.101062 -1.096494 -0.995594 -1.19415 -1.59325 \" style=\"fill:none;stroke-width:0.31879;stroke-linecap:round;stroke-linejoin:round;stroke:rgb(0%,0%,0%);stroke-opacity:0.7;stroke-miterlimit:10;\" transform=\"matrix(1,0,0,-1,193.6004,172.563)\"/>\n<g style=\"fill:rgb(0%,0%,0%);fill-opacity:0.7;\">\n  <use x=\"197.577\" xlink:href=\"#glyph0-1\" y=\"174.707\"/>\n</g>\n<path d=\"M -0.0015 0.0005 L -0.0015 158.348156 \" style=\"fill:none;stroke-width:0.3985;stroke-linecap:butt;stroke-linejoin:miter;stroke:rgb(0%,0%,0%);stroke-opacity:0.7;stroke-miterlimit:10;\" transform=\"matrix(1,0,0,-1,57.939,172.563)\"/>\n<path d=\"M -1.195176 1.59525 C -1.09752 0.997594 0.00013625 0.0991563 0.297011 0.0015 C 0.00013625 -0.100062 -1.09752 -0.994594 -1.195176 -1.59225 \" style=\"fill:none;stroke-width:0.31879;stroke-linecap:round;stroke-linejoin:round;stroke:rgb(0%,0%,0%);stroke-opacity:0.7;stroke-miterlimit:10;\" transform=\"matrix(0,-1,-1,0,57.939,14.21498)\"/>\n<g style=\"fill:rgb(0%,0%,0%);fill-opacity:0.7;\">\n  <use x=\"55.172\" xlink:href=\"#glyph0-2\" y=\"10.239\"/>\n</g>\n<path d=\"M -0.0015 0.0005 L -52.079625 -52.081531 \" style=\"fill:none;stroke-width:0.3985;stroke-linecap:butt;stroke-linejoin:miter;stroke:rgb(0%,0%,0%);stroke-opacity:0.7;stroke-miterlimit:10;\" transform=\"matrix(1,0,0,-1,57.939,172.563)\"/>\n<path d=\"M -1.196985 1.595015 C -1.094771 0.995646 -0.000960078 0.100762 0.30011 -0.00142691 C -0.000954453 -0.0981084 -1.097477 -0.995817 -1.194132 -1.595192 \" style=\"fill:none;stroke-width:0.31879;stroke-linecap:round;stroke-linejoin:round;stroke:rgb(0%,0%,0%);stroke-opacity:0.7;stroke-miterlimit:10;\" transform=\"matrix(-0.70714,0.7071,0.7071,0.70714,5.85776,224.64427)\"/>\n<g style=\"fill:rgb(0%,0%,0%);fill-opacity:0.7;\">\n  <use x=\"3.321\" xlink:href=\"#glyph0-3\" y=\"232.776\"/>\n</g>\n<path d=\"M -0.0015 0.0005 L 90.783656 0.0005 L 55.830531 -34.952625 L -34.950719 -34.952625 Z M -0.0015 0.0005 \" style=\"fill-rule:nonzero;fill:rgb(79.998779%,79.998779%,100%);fill-opacity:0.7;stroke-width:0.3985;stroke-linecap:butt;stroke-linejoin:miter;stroke:rgb(0%,0%,0%);stroke-opacity:0.7;stroke-miterlimit:10;\" transform=\"matrix(1,0,0,-1,57.939,172.563)\"/>\n<path d=\"M 90.783656 0.0005 L 90.783656 90.78175 L 55.830531 -34.952625 Z M 90.783656 0.0005 \" style=\"fill-rule:nonzero;fill:rgb(79.998779%,79.998779%,100%);fill-opacity:0.7;stroke-width:0.3985;stroke-linecap:butt;stroke-linejoin:miter;stroke:rgb(0%,0%,0%);stroke-opacity:0.7;stroke-miterlimit:10;\" transform=\"matrix(1,0,0,-1,57.939,172.563)\"/>\n<path d=\"M -0.0015 136.176281 L -17.474156 118.699719 L -34.950719 -34.952625 L -0.0015 0.0005 Z M -0.0015 136.176281 \" style=\"fill-rule:nonzero;fill:rgb(79.998779%,79.998779%,100%);fill-opacity:0.7;stroke-width:0.3985;stroke-linecap:butt;stroke-linejoin:miter;stroke:rgb(0%,0%,0%);stroke-opacity:0.7;stroke-miterlimit:10;\" transform=\"matrix(1,0,0,-1,57.939,172.563)\"/>\n<path d=\"M -17.474156 118.699719 L 45.393031 136.176281 L 90.783656 90.78175 L 55.830531 -34.952625 Z M -17.474156 118.699719 \" style=\"fill-rule:nonzero;fill:rgb(79.998779%,79.998779%,100%);fill-opacity:0.7;stroke-width:0.3985;stroke-linecap:butt;stroke-linejoin:miter;stroke:rgb(0%,0%,0%);stroke-opacity:0.7;stroke-miterlimit:10;\" transform=\"matrix(1,0,0,-1,57.939,172.563)\"/>\n<path d=\"M -17.474156 118.699719 L -34.950719 -34.952625 L 55.830531 -34.952625 Z M -17.474156 118.699719 \" style=\"fill-rule:nonzero;fill:rgb(79.998779%,79.998779%,100%);fill-opacity:0.7;stroke-width:0.3985;stroke-linecap:butt;stroke-linejoin:miter;stroke:rgb(0%,0%,0%);stroke-opacity:0.7;stroke-miterlimit:10;\" transform=\"matrix(1,0,0,-1,57.939,172.563)\"/>\n<path d=\"M -17.474156 118.699719 L 45.393031 136.176281 L -0.0015 136.176281 Z M -17.474156 118.699719 \" style=\"fill-rule:nonzero;fill:rgb(79.998779%,79.998779%,100%);fill-opacity:0.7;stroke-width:0.3985;stroke-linecap:butt;stroke-linejoin:miter;stroke:rgb(0%,0%,0%);stroke-opacity:0.7;stroke-miterlimit:10;\" transform=\"matrix(1,0,0,-1,57.939,172.563)\"/>\n<path d=\"M 132.675781 119.179688 C 132.675781 117.410156 131.242188 115.972656 129.46875 115.972656 C 127.699219 115.972656 126.261719 117.410156 126.261719 119.179688 C 126.261719 120.953125 127.699219 122.386719 129.46875 122.386719 C 131.242188 122.386719 132.675781 120.953125 132.675781 119.179688 Z M 132.675781 119.179688 \" style=\" stroke:none;fill-rule:nonzero;fill:rgb(100%,0%,0%);fill-opacity:0.7;\"/>\n</g>\n</svg>",
          "text/plain": "<IPython.core.display.SVG object>"
         },
         "metadata": {},
         "output_type": "display_data"
        }
       ]
      }
     },
     "185b306982d24fa58d968fca6abd5809": {
      "model_module": "@jupyter-widgets/output",
      "model_module_version": "1.0.0",
      "model_name": "OutputModel",
      "state": {
       "layout": "IPY_MODEL_ccaa6aa48f34466998e53e00bf842323",
       "outputs": [
        {
         "data": {
          "image/svg+xml": "<svg height=\"183.144pt\" version=\"1.1\" viewBox=\"0 0 158.613 183.144\" width=\"158.613pt\" xmlns=\"http://www.w3.org/2000/svg\" xmlns:xlink=\"http://www.w3.org/1999/xlink\">\n<defs>\n<g>\n<symbol id=\"glyph0-0\" overflow=\"visible\">\n<path d=\"\" style=\"stroke:none;\"/>\n</symbol>\n<symbol id=\"glyph0-1\" overflow=\"visible\">\n<path d=\"M 3.3125 -0.75 C 3.359375 -0.359375 3.625 0.0625 4.09375 0.0625 C 4.3125 0.0625 4.921875 -0.078125 4.921875 -0.890625 L 4.921875 -1.453125 L 4.671875 -1.453125 L 4.671875 -0.890625 C 4.671875 -0.3125 4.421875 -0.25 4.3125 -0.25 C 3.984375 -0.25 3.9375 -0.703125 3.9375 -0.75 L 3.9375 -2.734375 C 3.9375 -3.15625 3.9375 -3.546875 3.578125 -3.921875 C 3.1875 -4.3125 2.6875 -4.46875 2.21875 -4.46875 C 1.390625 -4.46875 0.703125 -4 0.703125 -3.34375 C 0.703125 -3.046875 0.90625 -2.875 1.171875 -2.875 C 1.453125 -2.875 1.625 -3.078125 1.625 -3.328125 C 1.625 -3.453125 1.578125 -3.78125 1.109375 -3.78125 C 1.390625 -4.140625 1.875 -4.25 2.1875 -4.25 C 2.6875 -4.25 3.25 -3.859375 3.25 -2.96875 L 3.25 -2.609375 C 2.734375 -2.578125 2.046875 -2.546875 1.421875 -2.25 C 0.671875 -1.90625 0.421875 -1.390625 0.421875 -0.953125 C 0.421875 -0.140625 1.390625 0.109375 2.015625 0.109375 C 2.671875 0.109375 3.125 -0.296875 3.3125 -0.75 Z M 3.25 -2.390625 L 3.25 -1.390625 C 3.25 -0.453125 2.53125 -0.109375 2.078125 -0.109375 C 1.59375 -0.109375 1.1875 -0.453125 1.1875 -0.953125 C 1.1875 -1.5 1.609375 -2.328125 3.25 -2.390625 Z M 3.25 -2.390625 \" style=\"stroke:none;\"/>\n</symbol>\n<symbol id=\"glyph0-2\" overflow=\"visible\">\n<path d=\"M 1.71875 -3.765625 L 1.71875 -6.921875 L 0.28125 -6.8125 L 0.28125 -6.5 C 0.984375 -6.5 1.0625 -6.4375 1.0625 -5.9375 L 1.0625 0 L 1.3125 0 C 1.3125 -0.015625 1.390625 -0.15625 1.671875 -0.625 C 1.8125 -0.390625 2.234375 0.109375 2.96875 0.109375 C 4.15625 0.109375 5.1875 -0.875 5.1875 -2.15625 C 5.1875 -3.421875 4.21875 -4.40625 3.078125 -4.40625 C 2.296875 -4.40625 1.875 -3.9375 1.71875 -3.765625 Z M 1.75 -1.140625 L 1.75 -3.1875 C 1.75 -3.375 1.75 -3.390625 1.859375 -3.546875 C 2.25 -4.109375 2.796875 -4.1875 3.03125 -4.1875 C 3.484375 -4.1875 3.84375 -3.921875 4.078125 -3.546875 C 4.34375 -3.140625 4.359375 -2.578125 4.359375 -2.15625 C 4.359375 -1.796875 4.34375 -1.203125 4.0625 -0.75 C 3.84375 -0.4375 3.46875 -0.109375 2.9375 -0.109375 C 2.484375 -0.109375 2.125 -0.34375 1.890625 -0.71875 C 1.75 -0.921875 1.75 -0.953125 1.75 -1.140625 Z M 1.75 -1.140625 \" style=\"stroke:none;\"/>\n</symbol>\n<symbol id=\"glyph0-3\" overflow=\"visible\">\n<path d=\"M 1.171875 -2.171875 C 1.171875 -3.796875 1.984375 -4.21875 2.515625 -4.21875 C 2.609375 -4.21875 3.234375 -4.203125 3.578125 -3.84375 C 3.171875 -3.8125 3.109375 -3.515625 3.109375 -3.390625 C 3.109375 -3.125 3.296875 -2.9375 3.5625 -2.9375 C 3.828125 -2.9375 4.03125 -3.09375 4.03125 -3.40625 C 4.03125 -4.078125 3.265625 -4.46875 2.5 -4.46875 C 1.25 -4.46875 0.34375 -3.390625 0.34375 -2.15625 C 0.34375 -0.875 1.328125 0.109375 2.484375 0.109375 C 3.8125 0.109375 4.140625 -1.09375 4.140625 -1.1875 C 4.140625 -1.28125 4.03125 -1.28125 4 -1.28125 C 3.921875 -1.28125 3.890625 -1.25 3.875 -1.1875 C 3.59375 -0.265625 2.9375 -0.140625 2.578125 -0.140625 C 2.046875 -0.140625 1.171875 -0.5625 1.171875 -2.171875 Z M 1.171875 -2.171875 \" style=\"stroke:none;\"/>\n</symbol>\n</g>\n</defs>\n<g id=\"surface1\">\n<path d=\"M 0.00078125 0.00190625 L 101.535938 0.00190625 \" style=\"fill:none;stroke-width:0.3985;stroke-linecap:butt;stroke-linejoin:miter;stroke:rgb(0%,0%,0%);stroke-opacity:0.7;stroke-miterlimit:10;\" transform=\"matrix(1,0,0,-1,44.8,132.748)\"/>\n<path d=\"M -1.197441 1.595656 C -1.095879 0.998 0.0017775 0.0995625 0.298653 0.00190625 C 0.0017775 -0.0996563 -1.095879 -0.998094 -1.197441 -1.59575 \" style=\"fill:none;stroke-width:0.31879;stroke-linecap:round;stroke-linejoin:round;stroke:rgb(0%,0%,0%);stroke-opacity:0.7;stroke-miterlimit:10;\" transform=\"matrix(1,0,0,-1,146.33416,132.748)\"/>\n<g style=\"fill:rgb(0%,0%,0%);fill-opacity:0.7;\">\n  <use x=\"150.311\" xlink:href=\"#glyph0-1\" y=\"134.893\"/>\n</g>\n<path d=\"M 0.00078125 0.00190625 L 0.00078125 118.533156 \" style=\"fill:none;stroke-width:0.3985;stroke-linecap:butt;stroke-linejoin:miter;stroke:rgb(0%,0%,0%);stroke-opacity:0.7;stroke-miterlimit:10;\" transform=\"matrix(1,0,0,-1,44.8,132.748)\"/>\n<path d=\"M -1.195056 1.592969 C -1.0974 0.995312 0.00025625 0.100781 0.297131 -0.00078125 C 0.00025625 -0.0984375 -1.0974 -0.996875 -1.195056 -1.594531 \" style=\"fill:none;stroke-width:0.31879;stroke-linecap:round;stroke-linejoin:round;stroke:rgb(0%,0%,0%);stroke-opacity:0.7;stroke-miterlimit:10;\" transform=\"matrix(0,-1,-1,0,44.8,14.2151)\"/>\n<g style=\"fill:rgb(0%,0%,0%);fill-opacity:0.7;\">\n  <use x=\"42.033\" xlink:href=\"#glyph0-2\" y=\"10.239\"/>\n</g>\n<path d=\"M 0.00078125 0.00190625 L -38.940625 -38.943406 \" style=\"fill:none;stroke-width:0.3985;stroke-linecap:butt;stroke-linejoin:miter;stroke:rgb(0%,0%,0%);stroke-opacity:0.7;stroke-miterlimit:10;\" transform=\"matrix(1,0,0,-1,44.8,132.748)\"/>\n<path d=\"M -1.196638 1.595614 C -1.09442 0.99625 -0.000610797 0.10138 0.300458 -0.000806065 C -0.000603766 -0.097489 -1.097112 -0.995199 -1.193763 -1.59457 \" style=\"fill:none;stroke-width:0.31879;stroke-linecap:round;stroke-linejoin:round;stroke:rgb(0%,0%,0%);stroke-opacity:0.7;stroke-miterlimit:10;\" transform=\"matrix(-0.70715,0.7071,0.7071,0.70715,5.85757,171.69046)\"/>\n<g style=\"fill:rgb(0%,0%,0%);fill-opacity:0.7;\">\n  <use x=\"3.32\" xlink:href=\"#glyph0-3\" y=\"179.823\"/>\n</g>\n<path d=\"M 0.00078125 0.00190625 L 67.957813 0.00190625 L 41.79375 -26.162156 L -26.163281 -26.162156 Z M 0.00078125 0.00190625 \" style=\"fill-rule:nonzero;fill:rgb(79.998779%,79.998779%,100%);fill-opacity:0.7;stroke-width:0.3985;stroke-linecap:butt;stroke-linejoin:miter;stroke:rgb(0%,0%,0%);stroke-opacity:0.7;stroke-miterlimit:10;\" transform=\"matrix(1,0,0,-1,44.8,132.748)\"/>\n<path d=\"M 67.957813 0.00190625 L 67.957813 67.958937 L 41.79375 -26.162156 Z M 67.957813 0.00190625 \" style=\"fill-rule:nonzero;fill:rgb(79.998779%,79.998779%,100%);fill-opacity:0.7;stroke-width:0.3985;stroke-linecap:butt;stroke-linejoin:miter;stroke:rgb(0%,0%,0%);stroke-opacity:0.7;stroke-miterlimit:10;\" transform=\"matrix(1,0,0,-1,44.8,132.748)\"/>\n<path d=\"M 0.00078125 101.9355 L -13.08125 88.853469 L -26.163281 -26.162156 L 0.00078125 0.00190625 Z M 0.00078125 101.9355 \" style=\"fill-rule:nonzero;fill:rgb(79.998779%,79.998779%,100%);fill-opacity:0.7;stroke-width:0.3985;stroke-linecap:butt;stroke-linejoin:miter;stroke:rgb(0%,0%,0%);stroke-opacity:0.7;stroke-miterlimit:10;\" transform=\"matrix(1,0,0,-1,44.8,132.748)\"/>\n<path d=\"M -13.08125 88.853469 L 33.977344 101.9355 L 67.957813 67.958937 L 41.79375 -26.162156 Z M -13.08125 88.853469 \" style=\"fill-rule:nonzero;fill:rgb(79.998779%,79.998779%,100%);fill-opacity:0.7;stroke-width:0.3985;stroke-linecap:butt;stroke-linejoin:miter;stroke:rgb(0%,0%,0%);stroke-opacity:0.7;stroke-miterlimit:10;\" transform=\"matrix(1,0,0,-1,44.8,132.748)\"/>\n<path d=\"M -13.08125 88.853469 L -26.163281 -26.162156 L 41.79375 -26.162156 Z M -13.08125 88.853469 \" style=\"fill-rule:nonzero;fill:rgb(79.998779%,79.998779%,100%);fill-opacity:0.7;stroke-width:0.3985;stroke-linecap:butt;stroke-linejoin:miter;stroke:rgb(0%,0%,0%);stroke-opacity:0.7;stroke-miterlimit:10;\" transform=\"matrix(1,0,0,-1,44.8,132.748)\"/>\n<path d=\"M -13.08125 88.853469 L 33.977344 101.9355 L 0.00078125 101.9355 Z M -13.08125 88.853469 \" style=\"fill-rule:nonzero;fill:rgb(79.998779%,79.998779%,100%);fill-opacity:0.7;stroke-width:0.3985;stroke-linecap:butt;stroke-linejoin:miter;stroke:rgb(0%,0%,0%);stroke-opacity:0.7;stroke-miterlimit:10;\" transform=\"matrix(1,0,0,-1,44.8,132.748)\"/>\n<path d=\"M 150 132.746094 C 150 130.976562 148.5625 129.539062 146.792969 129.539062 C 145.019531 129.539062 143.585938 130.976562 143.585938 132.746094 C 143.585938 134.519531 145.019531 135.957031 146.792969 135.957031 C 148.5625 135.957031 150 134.519531 150 132.746094 Z M 150 132.746094 \" style=\" stroke:none;fill-rule:nonzero;fill:rgb(100%,0%,0%);fill-opacity:0.7;\"/>\n</g>\n</svg>",
          "text/plain": "<IPython.core.display.SVG object>"
         },
         "metadata": {},
         "output_type": "display_data"
        }
       ]
      }
     },
     "18f5c92358b3467f9f02db26cb7e92c7": {
      "model_module": "@jupyter-widgets/controls",
      "model_module_version": "1.5.0",
      "model_name": "SliderStyleModel",
      "state": {
       "description_width": ""
      }
     },
     "1a33de3320f04f148a51aa0ebe6a3fe4": {
      "model_module": "@jupyter-widgets/base",
      "model_module_version": "1.2.0",
      "model_name": "LayoutModel",
      "state": {}
     },
     "1efae46f99964624a5016a469c236b09": {
      "model_module": "@jupyter-widgets/controls",
      "model_module_version": "1.5.0",
      "model_name": "IntSliderModel",
      "state": {
       "description": "a",
       "layout": "IPY_MODEL_6a72b8e739644c0da471761b2e7d607a",
       "max": 300,
       "min": -100,
       "step": 10,
       "style": "IPY_MODEL_73a5b030ed2740abb2ae37a159037f23"
      }
     },
     "2010a12203a6442aadff6a1395d7d5ca": {
      "model_module": "@jupyter-widgets/controls",
      "model_module_version": "1.5.0",
      "model_name": "SliderStyleModel",
      "state": {
       "description_width": ""
      }
     },
     "227659d081ed4d15b315913c055ee8ef": {
      "model_module": "@jupyter-widgets/base",
      "model_module_version": "1.2.0",
      "model_name": "LayoutModel",
      "state": {}
     },
     "22aece595a8d43d88ffdc12a28b4e284": {
      "model_module": "@jupyter-widgets/controls",
      "model_module_version": "1.5.0",
      "model_name": "IntSliderModel",
      "state": {
       "description": "c",
       "layout": "IPY_MODEL_47d80db208744d3fabbe03559f06f49f",
       "max": 300,
       "min": -100,
       "step": 10,
       "style": "IPY_MODEL_fb197948e178435da9e8b6f2e137f4d9"
      }
     },
     "246745891e9a4dbcb5aec50633dbc818": {
      "model_module": "@jupyter-widgets/base",
      "model_module_version": "1.2.0",
      "model_name": "LayoutModel",
      "state": {}
     },
     "255cddbef201431897f6bec599596c5c": {
      "model_module": "@jupyter-widgets/controls",
      "model_module_version": "1.5.0",
      "model_name": "SliderStyleModel",
      "state": {
       "description_width": ""
      }
     },
     "287cee1551d64a52aaa2e12f6d201280": {
      "model_module": "@jupyter-widgets/base",
      "model_module_version": "1.2.0",
      "model_name": "LayoutModel",
      "state": {}
     },
     "2934a6cfce214065a9d0828bd3ebb9fa": {
      "model_module": "@jupyter-widgets/controls",
      "model_module_version": "1.5.0",
      "model_name": "VBoxModel",
      "state": {
       "_dom_classes": [
        "widget-interact"
       ],
       "children": [
        "IPY_MODEL_7af14dc2de8e435ca1a3f935b1c9840c",
        "IPY_MODEL_afb9960e6f4b4bcf8c17a3f6724674c5",
        "IPY_MODEL_6d3545f866c3418dbc6fb2c05319cf19",
        "IPY_MODEL_185b306982d24fa58d968fca6abd5809"
       ],
       "layout": "IPY_MODEL_1a33de3320f04f148a51aa0ebe6a3fe4"
      }
     },
     "297518126b324814876d5c8ba9bed05d": {
      "model_module": "@jupyter-widgets/base",
      "model_module_version": "1.2.0",
      "model_name": "LayoutModel",
      "state": {}
     },
     "2bb0d920eb0c48fda1668bfda389143f": {
      "model_module": "@jupyter-widgets/controls",
      "model_module_version": "1.5.0",
      "model_name": "SliderStyleModel",
      "state": {
       "description_width": ""
      }
     },
     "2c339a695d0f445aaa50cd55301c2fe8": {
      "model_module": "@jupyter-widgets/controls",
      "model_module_version": "1.5.0",
      "model_name": "SliderStyleModel",
      "state": {
       "description_width": ""
      }
     },
     "2d2e0ccc138b41fc94e494d5698aa5ef": {
      "model_module": "@jupyter-widgets/output",
      "model_module_version": "1.0.0",
      "model_name": "OutputModel",
      "state": {
       "layout": "IPY_MODEL_b005c649cf334004a33568a43c524f83",
       "outputs": [
        {
         "data": {
          "image/svg+xml": "<svg height=\"183.144pt\" version=\"1.1\" viewBox=\"0 0 158.613 183.144\" width=\"158.613pt\" xmlns=\"http://www.w3.org/2000/svg\" xmlns:xlink=\"http://www.w3.org/1999/xlink\">\n<defs>\n<g>\n<symbol id=\"glyph0-0\" overflow=\"visible\">\n<path d=\"\" style=\"stroke:none;\"/>\n</symbol>\n<symbol id=\"glyph0-1\" overflow=\"visible\">\n<path d=\"M 3.3125 -0.75 C 3.359375 -0.359375 3.625 0.0625 4.09375 0.0625 C 4.3125 0.0625 4.921875 -0.078125 4.921875 -0.890625 L 4.921875 -1.453125 L 4.671875 -1.453125 L 4.671875 -0.890625 C 4.671875 -0.3125 4.421875 -0.25 4.3125 -0.25 C 3.984375 -0.25 3.9375 -0.703125 3.9375 -0.75 L 3.9375 -2.734375 C 3.9375 -3.15625 3.9375 -3.546875 3.578125 -3.921875 C 3.1875 -4.3125 2.6875 -4.46875 2.21875 -4.46875 C 1.390625 -4.46875 0.703125 -4 0.703125 -3.34375 C 0.703125 -3.046875 0.90625 -2.875 1.171875 -2.875 C 1.453125 -2.875 1.625 -3.078125 1.625 -3.328125 C 1.625 -3.453125 1.578125 -3.78125 1.109375 -3.78125 C 1.390625 -4.140625 1.875 -4.25 2.1875 -4.25 C 2.6875 -4.25 3.25 -3.859375 3.25 -2.96875 L 3.25 -2.609375 C 2.734375 -2.578125 2.046875 -2.546875 1.421875 -2.25 C 0.671875 -1.90625 0.421875 -1.390625 0.421875 -0.953125 C 0.421875 -0.140625 1.390625 0.109375 2.015625 0.109375 C 2.671875 0.109375 3.125 -0.296875 3.3125 -0.75 Z M 3.25 -2.390625 L 3.25 -1.390625 C 3.25 -0.453125 2.53125 -0.109375 2.078125 -0.109375 C 1.59375 -0.109375 1.1875 -0.453125 1.1875 -0.953125 C 1.1875 -1.5 1.609375 -2.328125 3.25 -2.390625 Z M 3.25 -2.390625 \" style=\"stroke:none;\"/>\n</symbol>\n<symbol id=\"glyph0-2\" overflow=\"visible\">\n<path d=\"M 1.71875 -3.765625 L 1.71875 -6.921875 L 0.28125 -6.8125 L 0.28125 -6.5 C 0.984375 -6.5 1.0625 -6.4375 1.0625 -5.9375 L 1.0625 0 L 1.3125 0 C 1.3125 -0.015625 1.390625 -0.15625 1.671875 -0.625 C 1.8125 -0.390625 2.234375 0.109375 2.96875 0.109375 C 4.15625 0.109375 5.1875 -0.875 5.1875 -2.15625 C 5.1875 -3.421875 4.21875 -4.40625 3.078125 -4.40625 C 2.296875 -4.40625 1.875 -3.9375 1.71875 -3.765625 Z M 1.75 -1.140625 L 1.75 -3.1875 C 1.75 -3.375 1.75 -3.390625 1.859375 -3.546875 C 2.25 -4.109375 2.796875 -4.1875 3.03125 -4.1875 C 3.484375 -4.1875 3.84375 -3.921875 4.078125 -3.546875 C 4.34375 -3.140625 4.359375 -2.578125 4.359375 -2.15625 C 4.359375 -1.796875 4.34375 -1.203125 4.0625 -0.75 C 3.84375 -0.4375 3.46875 -0.109375 2.9375 -0.109375 C 2.484375 -0.109375 2.125 -0.34375 1.890625 -0.71875 C 1.75 -0.921875 1.75 -0.953125 1.75 -1.140625 Z M 1.75 -1.140625 \" style=\"stroke:none;\"/>\n</symbol>\n<symbol id=\"glyph0-3\" overflow=\"visible\">\n<path d=\"M 1.171875 -2.171875 C 1.171875 -3.796875 1.984375 -4.21875 2.515625 -4.21875 C 2.609375 -4.21875 3.234375 -4.203125 3.578125 -3.84375 C 3.171875 -3.8125 3.109375 -3.515625 3.109375 -3.390625 C 3.109375 -3.125 3.296875 -2.9375 3.5625 -2.9375 C 3.828125 -2.9375 4.03125 -3.09375 4.03125 -3.40625 C 4.03125 -4.078125 3.265625 -4.46875 2.5 -4.46875 C 1.25 -4.46875 0.34375 -3.390625 0.34375 -2.15625 C 0.34375 -0.875 1.328125 0.109375 2.484375 0.109375 C 3.8125 0.109375 4.140625 -1.09375 4.140625 -1.1875 C 4.140625 -1.28125 4.03125 -1.28125 4 -1.28125 C 3.921875 -1.28125 3.890625 -1.25 3.875 -1.1875 C 3.59375 -0.265625 2.9375 -0.140625 2.578125 -0.140625 C 2.046875 -0.140625 1.171875 -0.5625 1.171875 -2.171875 Z M 1.171875 -2.171875 \" style=\"stroke:none;\"/>\n</symbol>\n</g>\n</defs>\n<g id=\"surface1\">\n<path d=\"M 0.00078125 0.00190625 L 101.535938 0.00190625 \" style=\"fill:none;stroke-width:0.3985;stroke-linecap:butt;stroke-linejoin:miter;stroke:rgb(0%,0%,0%);stroke-opacity:0.7;stroke-miterlimit:10;\" transform=\"matrix(1,0,0,-1,44.8,132.748)\"/>\n<path d=\"M -1.197441 1.595656 C -1.095879 0.998 0.0017775 0.0995625 0.298653 0.00190625 C 0.0017775 -0.0996563 -1.095879 -0.998094 -1.197441 -1.59575 \" style=\"fill:none;stroke-width:0.31879;stroke-linecap:round;stroke-linejoin:round;stroke:rgb(0%,0%,0%);stroke-opacity:0.7;stroke-miterlimit:10;\" transform=\"matrix(1,0,0,-1,146.33416,132.748)\"/>\n<g style=\"fill:rgb(0%,0%,0%);fill-opacity:0.7;\">\n  <use x=\"150.311\" xlink:href=\"#glyph0-1\" y=\"134.893\"/>\n</g>\n<path d=\"M 0.00078125 0.00190625 L 0.00078125 118.533156 \" style=\"fill:none;stroke-width:0.3985;stroke-linecap:butt;stroke-linejoin:miter;stroke:rgb(0%,0%,0%);stroke-opacity:0.7;stroke-miterlimit:10;\" transform=\"matrix(1,0,0,-1,44.8,132.748)\"/>\n<path d=\"M -1.195056 1.592969 C -1.0974 0.995312 0.00025625 0.100781 0.297131 -0.00078125 C 0.00025625 -0.0984375 -1.0974 -0.996875 -1.195056 -1.594531 \" style=\"fill:none;stroke-width:0.31879;stroke-linecap:round;stroke-linejoin:round;stroke:rgb(0%,0%,0%);stroke-opacity:0.7;stroke-miterlimit:10;\" transform=\"matrix(0,-1,-1,0,44.8,14.2151)\"/>\n<g style=\"fill:rgb(0%,0%,0%);fill-opacity:0.7;\">\n  <use x=\"42.033\" xlink:href=\"#glyph0-2\" y=\"10.239\"/>\n</g>\n<path d=\"M 0.00078125 0.00190625 L -38.940625 -38.943406 \" style=\"fill:none;stroke-width:0.3985;stroke-linecap:butt;stroke-linejoin:miter;stroke:rgb(0%,0%,0%);stroke-opacity:0.7;stroke-miterlimit:10;\" transform=\"matrix(1,0,0,-1,44.8,132.748)\"/>\n<path d=\"M -1.196638 1.595614 C -1.09442 0.99625 -0.000610797 0.10138 0.300458 -0.000806065 C -0.000603766 -0.097489 -1.097112 -0.995199 -1.193763 -1.59457 \" style=\"fill:none;stroke-width:0.31879;stroke-linecap:round;stroke-linejoin:round;stroke:rgb(0%,0%,0%);stroke-opacity:0.7;stroke-miterlimit:10;\" transform=\"matrix(-0.70715,0.7071,0.7071,0.70715,5.85757,171.69046)\"/>\n<g style=\"fill:rgb(0%,0%,0%);fill-opacity:0.7;\">\n  <use x=\"3.32\" xlink:href=\"#glyph0-3\" y=\"179.823\"/>\n</g>\n<path d=\"M 0.00078125 0.00190625 L 67.957813 0.00190625 L 41.79375 -26.162156 L -26.163281 -26.162156 Z M 0.00078125 0.00190625 \" style=\"fill-rule:nonzero;fill:rgb(79.998779%,79.998779%,100%);fill-opacity:0.7;stroke-width:0.3985;stroke-linecap:butt;stroke-linejoin:miter;stroke:rgb(0%,0%,0%);stroke-opacity:0.7;stroke-miterlimit:10;\" transform=\"matrix(1,0,0,-1,44.8,132.748)\"/>\n<path d=\"M 67.957813 0.00190625 L 67.957813 67.958937 L 41.79375 -26.162156 Z M 67.957813 0.00190625 \" style=\"fill-rule:nonzero;fill:rgb(79.998779%,79.998779%,100%);fill-opacity:0.7;stroke-width:0.3985;stroke-linecap:butt;stroke-linejoin:miter;stroke:rgb(0%,0%,0%);stroke-opacity:0.7;stroke-miterlimit:10;\" transform=\"matrix(1,0,0,-1,44.8,132.748)\"/>\n<path d=\"M 0.00078125 101.9355 L -13.08125 88.853469 L -26.163281 -26.162156 L 0.00078125 0.00190625 Z M 0.00078125 101.9355 \" style=\"fill-rule:nonzero;fill:rgb(79.998779%,79.998779%,100%);fill-opacity:0.7;stroke-width:0.3985;stroke-linecap:butt;stroke-linejoin:miter;stroke:rgb(0%,0%,0%);stroke-opacity:0.7;stroke-miterlimit:10;\" transform=\"matrix(1,0,0,-1,44.8,132.748)\"/>\n<path d=\"M -13.08125 88.853469 L 33.977344 101.9355 L 67.957813 67.958937 L 41.79375 -26.162156 Z M -13.08125 88.853469 \" style=\"fill-rule:nonzero;fill:rgb(79.998779%,79.998779%,100%);fill-opacity:0.7;stroke-width:0.3985;stroke-linecap:butt;stroke-linejoin:miter;stroke:rgb(0%,0%,0%);stroke-opacity:0.7;stroke-miterlimit:10;\" transform=\"matrix(1,0,0,-1,44.8,132.748)\"/>\n<path d=\"M -13.08125 88.853469 L -26.163281 -26.162156 L 41.79375 -26.162156 Z M -13.08125 88.853469 \" style=\"fill-rule:nonzero;fill:rgb(79.998779%,79.998779%,100%);fill-opacity:0.7;stroke-width:0.3985;stroke-linecap:butt;stroke-linejoin:miter;stroke:rgb(0%,0%,0%);stroke-opacity:0.7;stroke-miterlimit:10;\" transform=\"matrix(1,0,0,-1,44.8,132.748)\"/>\n<path d=\"M -13.08125 88.853469 L 33.977344 101.9355 L 0.00078125 101.9355 Z M -13.08125 88.853469 \" style=\"fill-rule:nonzero;fill:rgb(79.998779%,79.998779%,100%);fill-opacity:0.7;stroke-width:0.3985;stroke-linecap:butt;stroke-linejoin:miter;stroke:rgb(0%,0%,0%);stroke-opacity:0.7;stroke-miterlimit:10;\" transform=\"matrix(1,0,0,-1,44.8,132.748)\"/>\n<path d=\"M 31.007812 132.746094 C 31.007812 130.976562 29.574219 129.539062 27.800781 129.539062 C 26.03125 129.539062 24.59375 130.976562 24.59375 132.746094 C 24.59375 134.519531 26.03125 135.957031 27.800781 135.957031 C 29.574219 135.957031 31.007812 134.519531 31.007812 132.746094 Z M 31.007812 132.746094 \" style=\" stroke:none;fill-rule:nonzero;fill:rgb(100%,0%,0%);fill-opacity:0.7;\"/>\n</g>\n</svg>",
          "text/plain": "<IPython.core.display.SVG object>"
         },
         "metadata": {},
         "output_type": "display_data"
        }
       ]
      }
     },
     "2d681b937da845fcaac5b2fb87de91d7": {
      "model_module": "@jupyter-widgets/controls",
      "model_module_version": "1.5.0",
      "model_name": "VBoxModel",
      "state": {
       "_dom_classes": [
        "widget-interact"
       ],
       "children": [
        "IPY_MODEL_704627424e814110b54a59a6f2a3163c",
        "IPY_MODEL_c8a35410828149568bfbbc02454008b5",
        "IPY_MODEL_45b51b4cceb9481ca47e0acc8cdd71da",
        "IPY_MODEL_1750411dd580415dbf7de8d04d431e01"
       ],
       "layout": "IPY_MODEL_39922298906748699063a3ffd28f184f"
      }
     },
     "2e540d56f9044300a25b1b826038479a": {
      "model_module": "@jupyter-widgets/base",
      "model_module_version": "1.2.0",
      "model_name": "LayoutModel",
      "state": {}
     },
     "2f613336c27c47878af98378cac1b4a2": {
      "model_module": "@jupyter-widgets/controls",
      "model_module_version": "1.5.0",
      "model_name": "SliderStyleModel",
      "state": {
       "description_width": ""
      }
     },
     "32ff674bbf5d45b8b314e3a5bf321cff": {
      "model_module": "@jupyter-widgets/base",
      "model_module_version": "1.2.0",
      "model_name": "LayoutModel",
      "state": {}
     },
     "38dfd1ee95a945b399a388623c7d99bf": {
      "model_module": "@jupyter-widgets/controls",
      "model_module_version": "1.5.0",
      "model_name": "IntSliderModel",
      "state": {
       "description": "z",
       "layout": "IPY_MODEL_0728e221f4e44717b2f4f8d3ce08df14",
       "max": 300,
       "step": 50,
       "style": "IPY_MODEL_13441c8ca7414e18a6dec3ac6e319184"
      }
     },
     "39922298906748699063a3ffd28f184f": {
      "model_module": "@jupyter-widgets/base",
      "model_module_version": "1.2.0",
      "model_name": "LayoutModel",
      "state": {}
     },
     "39a8dc5510b342f798a58bffc7dee746": {
      "model_module": "@jupyter-widgets/controls",
      "model_module_version": "1.5.0",
      "model_name": "SliderStyleModel",
      "state": {
       "description_width": ""
      }
     },
     "41acaf6fb8da4fdea98d6f9029051e6a": {
      "model_module": "@jupyter-widgets/base",
      "model_module_version": "1.2.0",
      "model_name": "LayoutModel",
      "state": {}
     },
     "45b51b4cceb9481ca47e0acc8cdd71da": {
      "model_module": "@jupyter-widgets/controls",
      "model_module_version": "1.5.0",
      "model_name": "IntSliderModel",
      "state": {
       "description": "c",
       "layout": "IPY_MODEL_b893a4e6ca6747aca5ec9fb84f2b916d",
       "max": 300,
       "min": -100,
       "step": 10,
       "style": "IPY_MODEL_255cddbef201431897f6bec599596c5c",
       "value": 110
      }
     },
     "4691b678c1fa46b18106fa14aff0f86b": {
      "model_module": "@jupyter-widgets/base",
      "model_module_version": "1.2.0",
      "model_name": "LayoutModel",
      "state": {}
     },
     "47d80db208744d3fabbe03559f06f49f": {
      "model_module": "@jupyter-widgets/base",
      "model_module_version": "1.2.0",
      "model_name": "LayoutModel",
      "state": {}
     },
     "48109e46a3424e2da9e6e9d1f5b4f23c": {
      "model_module": "@jupyter-widgets/controls",
      "model_module_version": "1.5.0",
      "model_name": "SliderStyleModel",
      "state": {
       "description_width": ""
      }
     },
     "4dab81c846c840efae7b60519a24786a": {
      "model_module": "@jupyter-widgets/base",
      "model_module_version": "1.2.0",
      "model_name": "LayoutModel",
      "state": {}
     },
     "4e32de3affb646ecb582a9d702cbc4dc": {
      "model_module": "@jupyter-widgets/controls",
      "model_module_version": "1.5.0",
      "model_name": "SliderStyleModel",
      "state": {
       "description_width": ""
      }
     },
     "500292032e2e4a8895071940a1c0a5aa": {
      "model_module": "@jupyter-widgets/base",
      "model_module_version": "1.2.0",
      "model_name": "LayoutModel",
      "state": {}
     },
     "531f7e63338941d28d2b2bf515845b61": {
      "model_module": "@jupyter-widgets/controls",
      "model_module_version": "1.5.0",
      "model_name": "IntSliderModel",
      "state": {
       "description": "b",
       "layout": "IPY_MODEL_686b7a3cf0d741f69fc054f68ba1ef52",
       "max": 300,
       "min": -100,
       "step": 10,
       "style": "IPY_MODEL_2bb0d920eb0c48fda1668bfda389143f"
      }
     },
     "5a8758b6f09247ee8c5c3c29ee900fee": {
      "model_module": "@jupyter-widgets/controls",
      "model_module_version": "1.5.0",
      "model_name": "IntSliderModel",
      "state": {
       "description": "c",
       "layout": "IPY_MODEL_4691b678c1fa46b18106fa14aff0f86b",
       "max": 300,
       "min": -100,
       "step": 10,
       "style": "IPY_MODEL_18f5c92358b3467f9f02db26cb7e92c7",
       "value": 200
      }
     },
     "5d7f849470ef40d9a39c5c78b962c4d3": {
      "model_module": "@jupyter-widgets/base",
      "model_module_version": "1.2.0",
      "model_name": "LayoutModel",
      "state": {}
     },
     "5da730a76c1548dfbdcab70f7aba8e29": {
      "model_module": "@jupyter-widgets/controls",
      "model_module_version": "1.5.0",
      "model_name": "IntSliderModel",
      "state": {
       "description": "x",
       "layout": "IPY_MODEL_287cee1551d64a52aaa2e12f6d201280",
       "max": 200,
       "step": 50,
       "style": "IPY_MODEL_2f613336c27c47878af98378cac1b4a2",
       "value": 200
      }
     },
     "5f60e1e4d73743399c230f6f4d8afc75": {
      "model_module": "@jupyter-widgets/base",
      "model_module_version": "1.2.0",
      "model_name": "LayoutModel",
      "state": {}
     },
     "61972fbb6aee4c6a9b0949421cba5003": {
      "model_module": "@jupyter-widgets/base",
      "model_module_version": "1.2.0",
      "model_name": "LayoutModel",
      "state": {}
     },
     "644b9c2778de4b1091e5d87d3a1555f6": {
      "model_module": "@jupyter-widgets/controls",
      "model_module_version": "1.5.0",
      "model_name": "SliderStyleModel",
      "state": {
       "description_width": ""
      }
     },
     "64d16847060e490bab43f6296a275987": {
      "model_module": "@jupyter-widgets/controls",
      "model_module_version": "1.5.0",
      "model_name": "IntSliderModel",
      "state": {
       "description": "x",
       "layout": "IPY_MODEL_11fa196405a0486094a3699374a58379",
       "max": 300,
       "step": 50,
       "style": "IPY_MODEL_4e32de3affb646ecb582a9d702cbc4dc",
       "value": 100
      }
     },
     "67132e890a524f82b218178268f1773e": {
      "model_module": "@jupyter-widgets/controls",
      "model_module_version": "1.5.0",
      "model_name": "IntSliderModel",
      "state": {
       "description": "b",
       "layout": "IPY_MODEL_4dab81c846c840efae7b60519a24786a",
       "max": 300,
       "min": -100,
       "step": 10,
       "style": "IPY_MODEL_d8dad505f1ef4124987198ab73e45125"
      }
     },
     "686b7a3cf0d741f69fc054f68ba1ef52": {
      "model_module": "@jupyter-widgets/base",
      "model_module_version": "1.2.0",
      "model_name": "LayoutModel",
      "state": {}
     },
     "6a72b8e739644c0da471761b2e7d607a": {
      "model_module": "@jupyter-widgets/base",
      "model_module_version": "1.2.0",
      "model_name": "LayoutModel",
      "state": {}
     },
     "6b49f415ff2d4b049fbbbda0920bcb94": {
      "model_module": "@jupyter-widgets/base",
      "model_module_version": "1.2.0",
      "model_name": "LayoutModel",
      "state": {}
     },
     "6d3545f866c3418dbc6fb2c05319cf19": {
      "model_module": "@jupyter-widgets/controls",
      "model_module_version": "1.5.0",
      "model_name": "IntSliderModel",
      "state": {
       "description": "c",
       "layout": "IPY_MODEL_d53bc888234b4f7e8eb56ef8971b49b2",
       "max": 300,
       "step": 50,
       "style": "IPY_MODEL_c4ad8d775a1b469691f76990b9a4cfbd"
      }
     },
     "6e8ba0fe94dd4bef9b4f196bc1fe8d32": {
      "model_module": "@jupyter-widgets/controls",
      "model_module_version": "1.5.0",
      "model_name": "IntSliderModel",
      "state": {
       "description": "b",
       "layout": "IPY_MODEL_297518126b324814876d5c8ba9bed05d",
       "max": 300,
       "min": -100,
       "step": 10,
       "style": "IPY_MODEL_2010a12203a6442aadff6a1395d7d5ca"
      }
     },
     "6ee8d68a153544328dbd5000b221bfc4": {
      "model_module": "@jupyter-widgets/output",
      "model_module_version": "1.0.0",
      "model_name": "OutputModel",
      "state": {
       "layout": "IPY_MODEL_e314ab6920714200b69e151575e935bd",
       "outputs": [
        {
         "data": {
          "image/svg+xml": "<svg height=\"183.504pt\" version=\"1.1\" viewBox=\"0 0 166.663 183.504\" width=\"166.663pt\" xmlns=\"http://www.w3.org/2000/svg\" xmlns:xlink=\"http://www.w3.org/1999/xlink\">\n<defs>\n<g>\n<symbol id=\"glyph0-0\" overflow=\"visible\">\n<path d=\"\" style=\"stroke:none;\"/>\n</symbol>\n<symbol id=\"glyph0-1\" overflow=\"visible\">\n<path d=\"M 3.328125 -3.015625 C 3.390625 -3.265625 3.625 -4.1875 4.3125 -4.1875 C 4.359375 -4.1875 4.609375 -4.1875 4.8125 -4.0625 C 4.53125 -4 4.34375 -3.765625 4.34375 -3.515625 C 4.34375 -3.359375 4.453125 -3.171875 4.71875 -3.171875 C 4.9375 -3.171875 5.25 -3.34375 5.25 -3.75 C 5.25 -4.265625 4.671875 -4.40625 4.328125 -4.40625 C 3.75 -4.40625 3.40625 -3.875 3.28125 -3.65625 C 3.03125 -4.3125 2.5 -4.40625 2.203125 -4.40625 C 1.171875 -4.40625 0.59375 -3.125 0.59375 -2.875 C 0.59375 -2.765625 0.703125 -2.765625 0.71875 -2.765625 C 0.796875 -2.765625 0.828125 -2.796875 0.84375 -2.875 C 1.1875 -3.9375 1.84375 -4.1875 2.1875 -4.1875 C 2.375 -4.1875 2.71875 -4.09375 2.71875 -3.515625 C 2.71875 -3.203125 2.546875 -2.546875 2.1875 -1.140625 C 2.03125 -0.53125 1.671875 -0.109375 1.234375 -0.109375 C 1.171875 -0.109375 0.953125 -0.109375 0.734375 -0.234375 C 0.984375 -0.296875 1.203125 -0.5 1.203125 -0.78125 C 1.203125 -1.046875 0.984375 -1.125 0.84375 -1.125 C 0.53125 -1.125 0.296875 -0.875 0.296875 -0.546875 C 0.296875 -0.09375 0.78125 0.109375 1.21875 0.109375 C 1.890625 0.109375 2.25 -0.59375 2.265625 -0.640625 C 2.390625 -0.28125 2.75 0.109375 3.34375 0.109375 C 4.375 0.109375 4.9375 -1.171875 4.9375 -1.421875 C 4.9375 -1.53125 4.859375 -1.53125 4.828125 -1.53125 C 4.734375 -1.53125 4.71875 -1.484375 4.6875 -1.421875 C 4.359375 -0.34375 3.6875 -0.109375 3.375 -0.109375 C 2.984375 -0.109375 2.828125 -0.421875 2.828125 -0.765625 C 2.828125 -0.984375 2.875 -1.203125 2.984375 -1.640625 Z M 3.328125 -3.015625 \" style=\"stroke:none;\"/>\n</symbol>\n<symbol id=\"glyph1-0\" overflow=\"visible\">\n<path d=\"\" style=\"stroke:none;\"/>\n</symbol>\n<symbol id=\"glyph1-1\" overflow=\"visible\">\n<path d=\"M 2.328125 -4.4375 C 2.328125 -4.625 2.328125 -4.625 2.125 -4.625 C 1.671875 -4.1875 1.046875 -4.1875 0.765625 -4.1875 L 0.765625 -3.9375 C 0.921875 -3.9375 1.390625 -3.9375 1.765625 -4.125 L 1.765625 -0.578125 C 1.765625 -0.34375 1.765625 -0.25 1.078125 -0.25 L 0.8125 -0.25 L 0.8125 0 C 0.9375 0 1.796875 -0.03125 2.046875 -0.03125 C 2.265625 -0.03125 3.140625 0 3.296875 0 L 3.296875 -0.25 L 3.03125 -0.25 C 2.328125 -0.25 2.328125 -0.34375 2.328125 -0.578125 Z M 2.328125 -4.4375 \" style=\"stroke:none;\"/>\n</symbol>\n<symbol id=\"glyph1-2\" overflow=\"visible\">\n<path d=\"M 3.515625 -1.265625 L 3.28125 -1.265625 C 3.265625 -1.109375 3.1875 -0.703125 3.09375 -0.640625 C 3.046875 -0.59375 2.515625 -0.59375 2.40625 -0.59375 L 1.125 -0.59375 C 1.859375 -1.234375 2.109375 -1.4375 2.515625 -1.765625 C 3.03125 -2.171875 3.515625 -2.609375 3.515625 -3.265625 C 3.515625 -4.109375 2.78125 -4.625 1.890625 -4.625 C 1.03125 -4.625 0.4375 -4.015625 0.4375 -3.375 C 0.4375 -3.03125 0.734375 -2.984375 0.8125 -2.984375 C 0.96875 -2.984375 1.171875 -3.109375 1.171875 -3.359375 C 1.171875 -3.484375 1.125 -3.734375 0.765625 -3.734375 C 0.984375 -4.21875 1.453125 -4.375 1.78125 -4.375 C 2.484375 -4.375 2.84375 -3.828125 2.84375 -3.265625 C 2.84375 -2.65625 2.40625 -2.1875 2.1875 -1.9375 L 0.515625 -0.265625 C 0.4375 -0.203125 0.4375 -0.1875 0.4375 0 L 3.3125 0 Z M 3.515625 -1.265625 \" style=\"stroke:none;\"/>\n</symbol>\n<symbol id=\"glyph1-3\" overflow=\"visible\">\n<path d=\"M 1.90625 -2.328125 C 2.453125 -2.328125 2.84375 -1.953125 2.84375 -1.203125 C 2.84375 -0.34375 2.328125 -0.078125 1.9375 -0.078125 C 1.65625 -0.078125 1.03125 -0.15625 0.75 -0.578125 C 1.078125 -0.578125 1.15625 -0.8125 1.15625 -0.96875 C 1.15625 -1.1875 0.984375 -1.34375 0.765625 -1.34375 C 0.578125 -1.34375 0.375 -1.21875 0.375 -0.9375 C 0.375 -0.28125 1.09375 0.140625 1.9375 0.140625 C 2.90625 0.140625 3.578125 -0.515625 3.578125 -1.203125 C 3.578125 -1.75 3.140625 -2.296875 2.375 -2.453125 C 3.09375 -2.71875 3.359375 -3.234375 3.359375 -3.671875 C 3.359375 -4.21875 2.734375 -4.625 1.953125 -4.625 C 1.1875 -4.625 0.59375 -4.25 0.59375 -3.6875 C 0.59375 -3.453125 0.75 -3.328125 0.953125 -3.328125 C 1.171875 -3.328125 1.3125 -3.484375 1.3125 -3.671875 C 1.3125 -3.875 1.171875 -4.03125 0.953125 -4.046875 C 1.203125 -4.34375 1.671875 -4.421875 1.9375 -4.421875 C 2.25 -4.421875 2.6875 -4.265625 2.6875 -3.671875 C 2.6875 -3.375 2.59375 -3.046875 2.40625 -2.84375 C 2.1875 -2.578125 1.984375 -2.5625 1.640625 -2.53125 C 1.46875 -2.515625 1.453125 -2.515625 1.421875 -2.515625 C 1.40625 -2.515625 1.34375 -2.5 1.34375 -2.421875 C 1.34375 -2.328125 1.40625 -2.328125 1.53125 -2.328125 Z M 1.90625 -2.328125 \" style=\"stroke:none;\"/>\n</symbol>\n</g>\n</defs>\n<g id=\"surface1\">\n<path d=\"M -0.00003125 0.00071875 L 101.535125 0.00071875 \" style=\"fill:none;stroke-width:0.3985;stroke-linecap:butt;stroke-linejoin:miter;stroke:rgb(0%,0%,0%);stroke-opacity:0.7;stroke-miterlimit:10;\" transform=\"matrix(1,0,0,-1,47.668,131.614)\"/>\n<path d=\"M -1.194348 1.594469 C -1.096691 0.996812 0.000965 0.098375 0.29784 0.00071875 C 0.000965 -0.100844 -1.096691 -0.995375 -1.194348 -1.593031 \" style=\"fill:none;stroke-width:0.31879;stroke-linecap:round;stroke-linejoin:round;stroke:rgb(0%,0%,0%);stroke-opacity:0.7;stroke-miterlimit:10;\" transform=\"matrix(1,0,0,-1,149.20216,131.614)\"/>\n<g style=\"fill:rgb(0%,0%,0%);fill-opacity:0.7;\">\n  <use x=\"153.179\" xlink:href=\"#glyph0-1\" y=\"133.011\"/>\n</g>\n<g style=\"fill:rgb(0%,0%,0%);fill-opacity:0.7;\">\n  <use x=\"158.873\" xlink:href=\"#glyph1-1\" y=\"134.506\"/>\n</g>\n<path d=\"M -0.00003125 0.00071875 L -0.00003125 118.531969 \" style=\"fill:none;stroke-width:0.3985;stroke-linecap:butt;stroke-linejoin:miter;stroke:rgb(0%,0%,0%);stroke-opacity:0.7;stroke-miterlimit:10;\" transform=\"matrix(1,0,0,-1,47.668,131.614)\"/>\n<path d=\"M -1.196244 1.593781 C -1.094681 0.996125 -0.00093125 0.0976875 0.29985 0.00003125 C -0.00093125 -0.101531 -1.094681 -0.996062 -1.196244 -1.593719 \" style=\"fill:none;stroke-width:0.31879;stroke-linecap:round;stroke-linejoin:round;stroke:rgb(0%,0%,0%);stroke-opacity:0.7;stroke-miterlimit:10;\" transform=\"matrix(0,-1,-1,0,47.668,13.0811)\"/>\n<g style=\"fill:rgb(0%,0%,0%);fill-opacity:0.7;\">\n  <use x=\"42.587\" xlink:href=\"#glyph0-1\" y=\"7.61\"/>\n</g>\n<g style=\"fill:rgb(0%,0%,0%);fill-opacity:0.7;\">\n  <use x=\"48.28\" xlink:href=\"#glyph1-2\" y=\"9.104\"/>\n</g>\n<path d=\"M -0.00003125 0.00071875 L -38.941438 -38.940688 \" style=\"fill:none;stroke-width:0.3985;stroke-linecap:butt;stroke-linejoin:miter;stroke:rgb(0%,0%,0%);stroke-opacity:0.7;stroke-miterlimit:10;\" transform=\"matrix(1,0,0,-1,47.668,131.614)\"/>\n<path d=\"M -1.195223 1.59588 C -1.095768 0.993753 -0.0019586 0.0988827 0.29911 0.00222111 C -0.00195156 -0.0999859 -1.095698 -0.994934 -1.197873 -1.594305 \" style=\"fill:none;stroke-width:0.31879;stroke-linecap:round;stroke-linejoin:round;stroke:rgb(0%,0%,0%);stroke-opacity:0.7;stroke-miterlimit:10;\" transform=\"matrix(-0.70715,0.7071,0.7071,0.70715,8.72557,170.55646)\"/>\n<g style=\"fill:rgb(0%,0%,0%);fill-opacity:0.7;\">\n  <use x=\"3.321\" xlink:href=\"#glyph0-1\" y=\"178.689\"/>\n</g>\n<g style=\"fill:rgb(0%,0%,0%);fill-opacity:0.7;\">\n  <use x=\"9.014\" xlink:href=\"#glyph1-3\" y=\"180.183\"/>\n</g>\n<path d=\"M -0.00003125 0.00071875 L 67.957 0.00071875 L 41.792937 -26.163344 L -26.164094 -26.163344 Z M -0.00003125 0.00071875 \" style=\"fill-rule:nonzero;fill:rgb(79.998779%,79.998779%,100%);fill-opacity:0.7;stroke-width:0.3985;stroke-linecap:butt;stroke-linejoin:miter;stroke:rgb(0%,0%,0%);stroke-opacity:0.7;stroke-miterlimit:10;\" transform=\"matrix(1,0,0,-1,47.668,131.614)\"/>\n<path d=\"M 67.957 0.00071875 L 67.957 67.95775 L 41.792937 -26.163344 Z M 67.957 0.00071875 \" style=\"fill-rule:nonzero;fill:rgb(79.998779%,79.998779%,100%);fill-opacity:0.7;stroke-width:0.3985;stroke-linecap:butt;stroke-linejoin:miter;stroke:rgb(0%,0%,0%);stroke-opacity:0.7;stroke-miterlimit:10;\" transform=\"matrix(1,0,0,-1,47.668,131.614)\"/>\n<path d=\"M -0.00003125 101.938219 L -13.082063 88.856187 L -26.164094 -26.163344 L -0.00003125 0.00071875 Z M -0.00003125 101.938219 \" style=\"fill-rule:nonzero;fill:rgb(79.998779%,79.998779%,100%);fill-opacity:0.7;stroke-width:0.3985;stroke-linecap:butt;stroke-linejoin:miter;stroke:rgb(0%,0%,0%);stroke-opacity:0.7;stroke-miterlimit:10;\" transform=\"matrix(1,0,0,-1,47.668,131.614)\"/>\n<path d=\"M -13.082063 88.856187 L 33.980437 101.938219 L 67.957 67.95775 L 41.792937 -26.163344 Z M -13.082063 88.856187 \" style=\"fill-rule:nonzero;fill:rgb(79.998779%,79.998779%,100%);fill-opacity:0.7;stroke-width:0.3985;stroke-linecap:butt;stroke-linejoin:miter;stroke:rgb(0%,0%,0%);stroke-opacity:0.7;stroke-miterlimit:10;\" transform=\"matrix(1,0,0,-1,47.668,131.614)\"/>\n<path d=\"M -13.082063 88.856187 L -26.164094 -26.163344 L 41.792937 -26.163344 Z M -13.082063 88.856187 \" style=\"fill-rule:nonzero;fill:rgb(79.998779%,79.998779%,100%);fill-opacity:0.7;stroke-width:0.3985;stroke-linecap:butt;stroke-linejoin:miter;stroke:rgb(0%,0%,0%);stroke-opacity:0.7;stroke-miterlimit:10;\" transform=\"matrix(1,0,0,-1,47.668,131.614)\"/>\n<path d=\"M -13.082063 88.856187 L 33.980437 101.938219 L -0.00003125 101.938219 Z M -13.082063 88.856187 \" style=\"fill-rule:nonzero;fill:rgb(79.998779%,79.998779%,100%);fill-opacity:0.7;stroke-width:0.3985;stroke-linecap:butt;stroke-linejoin:miter;stroke:rgb(0%,0%,0%);stroke-opacity:0.7;stroke-miterlimit:10;\" transform=\"matrix(1,0,0,-1,47.668,131.614)\"/>\n<path d=\"M 118.871094 131.613281 C 118.871094 129.84375 117.433594 128.40625 115.664062 128.40625 C 113.890625 128.40625 112.457031 129.84375 112.457031 131.613281 C 112.457031 133.386719 113.890625 134.820312 115.664062 134.820312 C 117.433594 134.820312 118.871094 133.386719 118.871094 131.613281 Z M 118.871094 131.613281 \" style=\" stroke:none;fill-rule:nonzero;fill:rgb(100%,0%,0%);fill-opacity:0.7;\"/>\n</g>\n</svg>",
          "text/plain": "<IPython.core.display.SVG object>"
         },
         "metadata": {},
         "output_type": "display_data"
        }
       ]
      }
     },
     "704627424e814110b54a59a6f2a3163c": {
      "model_module": "@jupyter-widgets/controls",
      "model_module_version": "1.5.0",
      "model_name": "IntSliderModel",
      "state": {
       "description": "a",
       "layout": "IPY_MODEL_d94dd714b5594690992b58bbb0aa9199",
       "max": 300,
       "min": -100,
       "step": 10,
       "style": "IPY_MODEL_9ac9298a1782439a8888a21462480cf6",
       "value": 200
      }
     },
     "7328211680b544fb97f47b643a677038": {
      "model_module": "@jupyter-widgets/base",
      "model_module_version": "1.2.0",
      "model_name": "LayoutModel",
      "state": {}
     },
     "73a5b030ed2740abb2ae37a159037f23": {
      "model_module": "@jupyter-widgets/controls",
      "model_module_version": "1.5.0",
      "model_name": "SliderStyleModel",
      "state": {
       "description_width": ""
      }
     },
     "7780a7c71f434ecca780926d47f6a230": {
      "model_module": "@jupyter-widgets/controls",
      "model_module_version": "1.5.0",
      "model_name": "IntSliderModel",
      "state": {
       "description": "y",
       "layout": "IPY_MODEL_7df05740c858422da60301aafe659822",
       "max": 300,
       "step": 50,
       "style": "IPY_MODEL_644b9c2778de4b1091e5d87d3a1555f6",
       "value": 150
      }
     },
     "7af14dc2de8e435ca1a3f935b1c9840c": {
      "model_module": "@jupyter-widgets/controls",
      "model_module_version": "1.5.0",
      "model_name": "IntSliderModel",
      "state": {
       "description": "a",
       "layout": "IPY_MODEL_61972fbb6aee4c6a9b0949421cba5003",
       "max": 300,
       "step": 50,
       "style": "IPY_MODEL_48109e46a3424e2da9e6e9d1f5b4f23c",
       "value": 300
      }
     },
     "7b303ac30fc948f9bd18f6442dbd8c51": {
      "model_module": "@jupyter-widgets/controls",
      "model_module_version": "1.5.0",
      "model_name": "IntSliderModel",
      "state": {
       "description": "x",
       "layout": "IPY_MODEL_500292032e2e4a8895071940a1c0a5aa",
       "max": 300,
       "step": 50,
       "style": "IPY_MODEL_a2ec5a39228d45aa9b3f042ed68e24fa"
      }
     },
     "7d2905d70b19470887bfa2e1f7923dbb": {
      "model_module": "@jupyter-widgets/output",
      "model_module_version": "1.0.0",
      "model_name": "OutputModel",
      "state": {
       "layout": "IPY_MODEL_f4f01045d9584c778fdfc62f23b8e12b",
       "outputs": [
        {
         "name": "stdout",
         "output_type": "stream",
         "text": "Coût = 1*200 + 6*0 + 13*0 = 200\n"
        },
        {
         "data": {
          "text/latex": "Cout $f(a,b,c) = 1*200 + 6*0 + 13*0 = 200$.",
          "text/plain": "<IPython.core.display.Latex object>"
         },
         "metadata": {},
         "output_type": "display_data"
        },
        {
         "data": {
          "image/svg+xml": "<svg height=\"236.097pt\" version=\"1.1\" viewBox=\"0 0 205.879 236.097\" width=\"205.879pt\" xmlns=\"http://www.w3.org/2000/svg\" xmlns:xlink=\"http://www.w3.org/1999/xlink\">\n<defs>\n<g>\n<symbol id=\"glyph0-0\" overflow=\"visible\">\n<path d=\"\" style=\"stroke:none;\"/>\n</symbol>\n<symbol id=\"glyph0-1\" overflow=\"visible\">\n<path d=\"M 3.3125 -0.75 C 3.359375 -0.359375 3.625 0.0625 4.09375 0.0625 C 4.3125 0.0625 4.921875 -0.078125 4.921875 -0.890625 L 4.921875 -1.453125 L 4.671875 -1.453125 L 4.671875 -0.890625 C 4.671875 -0.3125 4.421875 -0.25 4.3125 -0.25 C 3.984375 -0.25 3.9375 -0.703125 3.9375 -0.75 L 3.9375 -2.734375 C 3.9375 -3.15625 3.9375 -3.546875 3.578125 -3.921875 C 3.1875 -4.3125 2.6875 -4.46875 2.21875 -4.46875 C 1.390625 -4.46875 0.703125 -4 0.703125 -3.34375 C 0.703125 -3.046875 0.90625 -2.875 1.171875 -2.875 C 1.453125 -2.875 1.625 -3.078125 1.625 -3.328125 C 1.625 -3.453125 1.578125 -3.78125 1.109375 -3.78125 C 1.390625 -4.140625 1.875 -4.25 2.1875 -4.25 C 2.6875 -4.25 3.25 -3.859375 3.25 -2.96875 L 3.25 -2.609375 C 2.734375 -2.578125 2.046875 -2.546875 1.421875 -2.25 C 0.671875 -1.90625 0.421875 -1.390625 0.421875 -0.953125 C 0.421875 -0.140625 1.390625 0.109375 2.015625 0.109375 C 2.671875 0.109375 3.125 -0.296875 3.3125 -0.75 Z M 3.25 -2.390625 L 3.25 -1.390625 C 3.25 -0.453125 2.53125 -0.109375 2.078125 -0.109375 C 1.59375 -0.109375 1.1875 -0.453125 1.1875 -0.953125 C 1.1875 -1.5 1.609375 -2.328125 3.25 -2.390625 Z M 3.25 -2.390625 \" style=\"stroke:none;\"/>\n</symbol>\n<symbol id=\"glyph0-2\" overflow=\"visible\">\n<path d=\"M 1.71875 -3.765625 L 1.71875 -6.921875 L 0.28125 -6.8125 L 0.28125 -6.5 C 0.984375 -6.5 1.0625 -6.4375 1.0625 -5.9375 L 1.0625 0 L 1.3125 0 C 1.3125 -0.015625 1.390625 -0.15625 1.671875 -0.625 C 1.8125 -0.390625 2.234375 0.109375 2.96875 0.109375 C 4.15625 0.109375 5.1875 -0.875 5.1875 -2.15625 C 5.1875 -3.421875 4.21875 -4.40625 3.078125 -4.40625 C 2.296875 -4.40625 1.875 -3.9375 1.71875 -3.765625 Z M 1.75 -1.140625 L 1.75 -3.1875 C 1.75 -3.375 1.75 -3.390625 1.859375 -3.546875 C 2.25 -4.109375 2.796875 -4.1875 3.03125 -4.1875 C 3.484375 -4.1875 3.84375 -3.921875 4.078125 -3.546875 C 4.34375 -3.140625 4.359375 -2.578125 4.359375 -2.15625 C 4.359375 -1.796875 4.34375 -1.203125 4.0625 -0.75 C 3.84375 -0.4375 3.46875 -0.109375 2.9375 -0.109375 C 2.484375 -0.109375 2.125 -0.34375 1.890625 -0.71875 C 1.75 -0.921875 1.75 -0.953125 1.75 -1.140625 Z M 1.75 -1.140625 \" style=\"stroke:none;\"/>\n</symbol>\n<symbol id=\"glyph0-3\" overflow=\"visible\">\n<path d=\"M 1.171875 -2.171875 C 1.171875 -3.796875 1.984375 -4.21875 2.515625 -4.21875 C 2.609375 -4.21875 3.234375 -4.203125 3.578125 -3.84375 C 3.171875 -3.8125 3.109375 -3.515625 3.109375 -3.390625 C 3.109375 -3.125 3.296875 -2.9375 3.5625 -2.9375 C 3.828125 -2.9375 4.03125 -3.09375 4.03125 -3.40625 C 4.03125 -4.078125 3.265625 -4.46875 2.5 -4.46875 C 1.25 -4.46875 0.34375 -3.390625 0.34375 -2.15625 C 0.34375 -0.875 1.328125 0.109375 2.484375 0.109375 C 3.8125 0.109375 4.140625 -1.09375 4.140625 -1.1875 C 4.140625 -1.28125 4.03125 -1.28125 4 -1.28125 C 3.921875 -1.28125 3.890625 -1.25 3.875 -1.1875 C 3.59375 -0.265625 2.9375 -0.140625 2.578125 -0.140625 C 2.046875 -0.140625 1.171875 -0.5625 1.171875 -2.171875 Z M 1.171875 -2.171875 \" style=\"stroke:none;\"/>\n</symbol>\n</g>\n</defs>\n<g id=\"surface1\">\n<path d=\"M -0.0015 0.0005 L 135.662563 0.0005 \" style=\"fill:none;stroke-width:0.3985;stroke-linecap:butt;stroke-linejoin:miter;stroke:rgb(0%,0%,0%);stroke-opacity:0.7;stroke-miterlimit:10;\" transform=\"matrix(1,0,0,-1,57.939,172.563)\"/>\n<path d=\"M -1.19415 1.59425 C -1.096494 0.996594 0.0011625 0.0981563 0.298037 0.0005 C 0.0011625 -0.101062 -1.096494 -0.995594 -1.19415 -1.59325 \" style=\"fill:none;stroke-width:0.31879;stroke-linecap:round;stroke-linejoin:round;stroke:rgb(0%,0%,0%);stroke-opacity:0.7;stroke-miterlimit:10;\" transform=\"matrix(1,0,0,-1,193.6004,172.563)\"/>\n<g style=\"fill:rgb(0%,0%,0%);fill-opacity:0.7;\">\n  <use x=\"197.577\" xlink:href=\"#glyph0-1\" y=\"174.707\"/>\n</g>\n<path d=\"M -0.0015 0.0005 L -0.0015 158.348156 \" style=\"fill:none;stroke-width:0.3985;stroke-linecap:butt;stroke-linejoin:miter;stroke:rgb(0%,0%,0%);stroke-opacity:0.7;stroke-miterlimit:10;\" transform=\"matrix(1,0,0,-1,57.939,172.563)\"/>\n<path d=\"M -1.195176 1.59525 C -1.09752 0.997594 0.00013625 0.0991563 0.297011 0.0015 C 0.00013625 -0.100062 -1.09752 -0.994594 -1.195176 -1.59225 \" style=\"fill:none;stroke-width:0.31879;stroke-linecap:round;stroke-linejoin:round;stroke:rgb(0%,0%,0%);stroke-opacity:0.7;stroke-miterlimit:10;\" transform=\"matrix(0,-1,-1,0,57.939,14.21498)\"/>\n<g style=\"fill:rgb(0%,0%,0%);fill-opacity:0.7;\">\n  <use x=\"55.172\" xlink:href=\"#glyph0-2\" y=\"10.239\"/>\n</g>\n<path d=\"M -0.0015 0.0005 L -52.079625 -52.081531 \" style=\"fill:none;stroke-width:0.3985;stroke-linecap:butt;stroke-linejoin:miter;stroke:rgb(0%,0%,0%);stroke-opacity:0.7;stroke-miterlimit:10;\" transform=\"matrix(1,0,0,-1,57.939,172.563)\"/>\n<path d=\"M -1.196985 1.595015 C -1.094771 0.995646 -0.000960078 0.100762 0.30011 -0.00142691 C -0.000954453 -0.0981084 -1.097477 -0.995817 -1.194132 -1.595192 \" style=\"fill:none;stroke-width:0.31879;stroke-linecap:round;stroke-linejoin:round;stroke:rgb(0%,0%,0%);stroke-opacity:0.7;stroke-miterlimit:10;\" transform=\"matrix(-0.70714,0.7071,0.7071,0.70714,5.85776,224.64427)\"/>\n<g style=\"fill:rgb(0%,0%,0%);fill-opacity:0.7;\">\n  <use x=\"3.321\" xlink:href=\"#glyph0-3\" y=\"232.776\"/>\n</g>\n<path d=\"M -0.0015 0.0005 L 90.783656 0.0005 L 55.830531 -34.952625 L -34.950719 -34.952625 Z M -0.0015 0.0005 \" style=\"fill-rule:nonzero;fill:rgb(79.998779%,79.998779%,100%);fill-opacity:0.7;stroke-width:0.3985;stroke-linecap:butt;stroke-linejoin:miter;stroke:rgb(0%,0%,0%);stroke-opacity:0.7;stroke-miterlimit:10;\" transform=\"matrix(1,0,0,-1,57.939,172.563)\"/>\n<path d=\"M 90.783656 0.0005 L 90.783656 90.78175 L 55.830531 -34.952625 Z M 90.783656 0.0005 \" style=\"fill-rule:nonzero;fill:rgb(79.998779%,79.998779%,100%);fill-opacity:0.7;stroke-width:0.3985;stroke-linecap:butt;stroke-linejoin:miter;stroke:rgb(0%,0%,0%);stroke-opacity:0.7;stroke-miterlimit:10;\" transform=\"matrix(1,0,0,-1,57.939,172.563)\"/>\n<path d=\"M -0.0015 136.176281 L -17.474156 118.699719 L -34.950719 -34.952625 L -0.0015 0.0005 Z M -0.0015 136.176281 \" style=\"fill-rule:nonzero;fill:rgb(79.998779%,79.998779%,100%);fill-opacity:0.7;stroke-width:0.3985;stroke-linecap:butt;stroke-linejoin:miter;stroke:rgb(0%,0%,0%);stroke-opacity:0.7;stroke-miterlimit:10;\" transform=\"matrix(1,0,0,-1,57.939,172.563)\"/>\n<path d=\"M -17.474156 118.699719 L 45.393031 136.176281 L 90.783656 90.78175 L 55.830531 -34.952625 Z M -17.474156 118.699719 \" style=\"fill-rule:nonzero;fill:rgb(79.998779%,79.998779%,100%);fill-opacity:0.7;stroke-width:0.3985;stroke-linecap:butt;stroke-linejoin:miter;stroke:rgb(0%,0%,0%);stroke-opacity:0.7;stroke-miterlimit:10;\" transform=\"matrix(1,0,0,-1,57.939,172.563)\"/>\n<path d=\"M -17.474156 118.699719 L -34.950719 -34.952625 L 55.830531 -34.952625 Z M -17.474156 118.699719 \" style=\"fill-rule:nonzero;fill:rgb(79.998779%,79.998779%,100%);fill-opacity:0.7;stroke-width:0.3985;stroke-linecap:butt;stroke-linejoin:miter;stroke:rgb(0%,0%,0%);stroke-opacity:0.7;stroke-miterlimit:10;\" transform=\"matrix(1,0,0,-1,57.939,172.563)\"/>\n<path d=\"M -17.474156 118.699719 L 45.393031 136.176281 L -0.0015 136.176281 Z M -17.474156 118.699719 \" style=\"fill-rule:nonzero;fill:rgb(79.998779%,79.998779%,100%);fill-opacity:0.7;stroke-width:0.3985;stroke-linecap:butt;stroke-linejoin:miter;stroke:rgb(0%,0%,0%);stroke-opacity:0.7;stroke-miterlimit:10;\" transform=\"matrix(1,0,0,-1,57.939,172.563)\"/>\n<path d=\"M 151.894531 172.5625 C 151.894531 170.792969 150.457031 169.355469 148.683594 169.355469 C 146.914062 169.355469 145.476562 170.792969 145.476562 172.5625 C 145.476562 174.335938 146.914062 175.769531 148.683594 175.769531 C 150.457031 175.769531 151.894531 174.335938 151.894531 172.5625 Z M 151.894531 172.5625 \" style=\" stroke:none;fill-rule:nonzero;fill:rgb(100%,0%,0%);fill-opacity:0.7;\"/>\n</g>\n</svg>",
          "text/plain": "<IPython.core.display.SVG object>"
         },
         "metadata": {},
         "output_type": "display_data"
        }
       ]
      }
     },
     "7dccb64990d14b6caec0f9894a786143": {
      "model_module": "@jupyter-widgets/controls",
      "model_module_version": "1.5.0",
      "model_name": "VBoxModel",
      "state": {
       "_dom_classes": [
        "widget-interact"
       ],
       "layout": "IPY_MODEL_934f56c88f634584ab12bec236f10aea"
      }
     },
     "7df05740c858422da60301aafe659822": {
      "model_module": "@jupyter-widgets/base",
      "model_module_version": "1.2.0",
      "model_name": "LayoutModel",
      "state": {}
     },
     "850b64933a6f40a6a68e000f7e826d55": {
      "model_module": "@jupyter-widgets/base",
      "model_module_version": "1.2.0",
      "model_name": "LayoutModel",
      "state": {}
     },
     "88dda621b3604f569c1164f165b0e52e": {
      "model_module": "@jupyter-widgets/controls",
      "model_module_version": "1.5.0",
      "model_name": "IntSliderModel",
      "state": {
       "description": "c",
       "layout": "IPY_MODEL_32ff674bbf5d45b8b314e3a5bf321cff",
       "max": 300,
       "min": -100,
       "step": 10,
       "style": "IPY_MODEL_39a8dc5510b342f798a58bffc7dee746"
      }
     },
     "8ee6519ee169459ca16c6addd30ceeb1": {
      "model_module": "@jupyter-widgets/controls",
      "model_module_version": "1.5.0",
      "model_name": "IntSliderModel",
      "state": {
       "description": "c",
       "layout": "IPY_MODEL_227659d081ed4d15b315913c055ee8ef",
       "max": 300,
       "min": -100,
       "step": 10,
       "style": "IPY_MODEL_0dbc208ff42545508c86482b03667c11"
      }
     },
     "8ff9440daffd481e96aef4681432006a": {
      "model_module": "@jupyter-widgets/controls",
      "model_module_version": "1.5.0",
      "model_name": "SliderStyleModel",
      "state": {
       "description_width": ""
      }
     },
     "92b3417dd99e464ebe3bec9b9df3bc30": {
      "model_module": "@jupyter-widgets/base",
      "model_module_version": "1.2.0",
      "model_name": "LayoutModel",
      "state": {}
     },
     "934f56c88f634584ab12bec236f10aea": {
      "model_module": "@jupyter-widgets/base",
      "model_module_version": "1.2.0",
      "model_name": "LayoutModel",
      "state": {}
     },
     "9904c60daa624f5f8b4d5336dddf2ccf": {
      "model_module": "@jupyter-widgets/controls",
      "model_module_version": "1.5.0",
      "model_name": "VBoxModel",
      "state": {
       "_dom_classes": [
        "widget-interact"
       ],
       "children": [
        "IPY_MODEL_5da730a76c1548dfbdcab70f7aba8e29",
        "IPY_MODEL_6ee8d68a153544328dbd5000b221bfc4"
       ],
       "layout": "IPY_MODEL_246745891e9a4dbcb5aec50633dbc818"
      }
     },
     "99e27b1d093d47b9a95d6263bcee73ce": {
      "model_module": "@jupyter-widgets/base",
      "model_module_version": "1.2.0",
      "model_name": "LayoutModel",
      "state": {}
     },
     "9ac9298a1782439a8888a21462480cf6": {
      "model_module": "@jupyter-widgets/controls",
      "model_module_version": "1.5.0",
      "model_name": "SliderStyleModel",
      "state": {
       "description_width": ""
      }
     },
     "9bcbd875c57a4e4abb266f3a814fcc0b": {
      "model_module": "@jupyter-widgets/controls",
      "model_module_version": "1.5.0",
      "model_name": "VBoxModel",
      "state": {
       "_dom_classes": [
        "widget-interact"
       ],
       "children": [
        "IPY_MODEL_64d16847060e490bab43f6296a275987",
        "IPY_MODEL_7780a7c71f434ecca780926d47f6a230",
        "IPY_MODEL_38dfd1ee95a945b399a388623c7d99bf",
        "IPY_MODEL_f5d3f7486960453da80677f1c883f5f8"
       ],
       "layout": "IPY_MODEL_5d7f849470ef40d9a39c5c78b962c4d3"
      }
     },
     "a2ec5a39228d45aa9b3f042ed68e24fa": {
      "model_module": "@jupyter-widgets/controls",
      "model_module_version": "1.5.0",
      "model_name": "SliderStyleModel",
      "state": {
       "description_width": ""
      }
     },
     "a62c44ec669642d6b23d18189a5c14e1": {
      "model_module": "@jupyter-widgets/controls",
      "model_module_version": "1.5.0",
      "model_name": "SliderStyleModel",
      "state": {
       "description_width": ""
      }
     },
     "aa1ba02c6f8f483587c70ce4807bcc87": {
      "model_module": "@jupyter-widgets/controls",
      "model_module_version": "1.5.0",
      "model_name": "VBoxModel",
      "state": {
       "_dom_classes": [
        "widget-interact"
       ],
       "children": [
        "IPY_MODEL_1efae46f99964624a5016a469c236b09",
        "IPY_MODEL_0013df4fa6bf40328e5c7f1122568189",
        "IPY_MODEL_5a8758b6f09247ee8c5c3c29ee900fee",
        "IPY_MODEL_07ed157521b34a55b146cfd9724c4ce1"
       ],
       "layout": "IPY_MODEL_5f60e1e4d73743399c230f6f4d8afc75"
      }
     },
     "aec567f969e440d1b86166c2a296d13c": {
      "model_module": "@jupyter-widgets/controls",
      "model_module_version": "1.5.0",
      "model_name": "VBoxModel",
      "state": {
       "_dom_classes": [
        "widget-interact"
       ],
       "children": [
        "IPY_MODEL_07687316f22045d788fc04ae1dcab927",
        "IPY_MODEL_67132e890a524f82b218178268f1773e",
        "IPY_MODEL_22aece595a8d43d88ffdc12a28b4e284",
        "IPY_MODEL_7d2905d70b19470887bfa2e1f7923dbb"
       ],
       "layout": "IPY_MODEL_bb343487b22f4d0a93460c93bdd6826b"
      }
     },
     "afb9960e6f4b4bcf8c17a3f6724674c5": {
      "model_module": "@jupyter-widgets/controls",
      "model_module_version": "1.5.0",
      "model_name": "IntSliderModel",
      "state": {
       "description": "b",
       "layout": "IPY_MODEL_b759afe9096645a192ef9fdca3d48a12",
       "max": 300,
       "step": 50,
       "style": "IPY_MODEL_2c339a695d0f445aaa50cd55301c2fe8"
      }
     },
     "b005c649cf334004a33568a43c524f83": {
      "model_module": "@jupyter-widgets/base",
      "model_module_version": "1.2.0",
      "model_name": "LayoutModel",
      "state": {}
     },
     "b6e26016f1944db5bea35f17f047adfe": {
      "model_module": "@jupyter-widgets/controls",
      "model_module_version": "1.5.0",
      "model_name": "SliderStyleModel",
      "state": {
       "description_width": ""
      }
     },
     "b759afe9096645a192ef9fdca3d48a12": {
      "model_module": "@jupyter-widgets/base",
      "model_module_version": "1.2.0",
      "model_name": "LayoutModel",
      "state": {}
     },
     "b893a4e6ca6747aca5ec9fb84f2b916d": {
      "model_module": "@jupyter-widgets/base",
      "model_module_version": "1.2.0",
      "model_name": "LayoutModel",
      "state": {}
     },
     "bb343487b22f4d0a93460c93bdd6826b": {
      "model_module": "@jupyter-widgets/base",
      "model_module_version": "1.2.0",
      "model_name": "LayoutModel",
      "state": {}
     },
     "bd940a794d694fcc8662123bb2afca69": {
      "model_module": "@jupyter-widgets/output",
      "model_module_version": "1.0.0",
      "model_name": "OutputModel",
      "state": {
       "layout": "IPY_MODEL_7328211680b544fb97f47b643a677038",
       "outputs": [
        {
         "data": {
          "image/svg+xml": "<svg height=\"183.504pt\" version=\"1.1\" viewBox=\"0 0 166.663 183.504\" width=\"166.663pt\" xmlns=\"http://www.w3.org/2000/svg\" xmlns:xlink=\"http://www.w3.org/1999/xlink\">\n<defs>\n<g>\n<symbol id=\"glyph0-0\" overflow=\"visible\">\n<path d=\"\" style=\"stroke:none;\"/>\n</symbol>\n<symbol id=\"glyph0-1\" overflow=\"visible\">\n<path d=\"M 3.328125 -3.015625 C 3.390625 -3.265625 3.625 -4.1875 4.3125 -4.1875 C 4.359375 -4.1875 4.609375 -4.1875 4.8125 -4.0625 C 4.53125 -4 4.34375 -3.765625 4.34375 -3.515625 C 4.34375 -3.359375 4.453125 -3.171875 4.71875 -3.171875 C 4.9375 -3.171875 5.25 -3.34375 5.25 -3.75 C 5.25 -4.265625 4.671875 -4.40625 4.328125 -4.40625 C 3.75 -4.40625 3.40625 -3.875 3.28125 -3.65625 C 3.03125 -4.3125 2.5 -4.40625 2.203125 -4.40625 C 1.171875 -4.40625 0.59375 -3.125 0.59375 -2.875 C 0.59375 -2.765625 0.703125 -2.765625 0.71875 -2.765625 C 0.796875 -2.765625 0.828125 -2.796875 0.84375 -2.875 C 1.1875 -3.9375 1.84375 -4.1875 2.1875 -4.1875 C 2.375 -4.1875 2.71875 -4.09375 2.71875 -3.515625 C 2.71875 -3.203125 2.546875 -2.546875 2.1875 -1.140625 C 2.03125 -0.53125 1.671875 -0.109375 1.234375 -0.109375 C 1.171875 -0.109375 0.953125 -0.109375 0.734375 -0.234375 C 0.984375 -0.296875 1.203125 -0.5 1.203125 -0.78125 C 1.203125 -1.046875 0.984375 -1.125 0.84375 -1.125 C 0.53125 -1.125 0.296875 -0.875 0.296875 -0.546875 C 0.296875 -0.09375 0.78125 0.109375 1.21875 0.109375 C 1.890625 0.109375 2.25 -0.59375 2.265625 -0.640625 C 2.390625 -0.28125 2.75 0.109375 3.34375 0.109375 C 4.375 0.109375 4.9375 -1.171875 4.9375 -1.421875 C 4.9375 -1.53125 4.859375 -1.53125 4.828125 -1.53125 C 4.734375 -1.53125 4.71875 -1.484375 4.6875 -1.421875 C 4.359375 -0.34375 3.6875 -0.109375 3.375 -0.109375 C 2.984375 -0.109375 2.828125 -0.421875 2.828125 -0.765625 C 2.828125 -0.984375 2.875 -1.203125 2.984375 -1.640625 Z M 3.328125 -3.015625 \" style=\"stroke:none;\"/>\n</symbol>\n<symbol id=\"glyph1-0\" overflow=\"visible\">\n<path d=\"\" style=\"stroke:none;\"/>\n</symbol>\n<symbol id=\"glyph1-1\" overflow=\"visible\">\n<path d=\"M 2.328125 -4.4375 C 2.328125 -4.625 2.328125 -4.625 2.125 -4.625 C 1.671875 -4.1875 1.046875 -4.1875 0.765625 -4.1875 L 0.765625 -3.9375 C 0.921875 -3.9375 1.390625 -3.9375 1.765625 -4.125 L 1.765625 -0.578125 C 1.765625 -0.34375 1.765625 -0.25 1.078125 -0.25 L 0.8125 -0.25 L 0.8125 0 C 0.9375 0 1.796875 -0.03125 2.046875 -0.03125 C 2.265625 -0.03125 3.140625 0 3.296875 0 L 3.296875 -0.25 L 3.03125 -0.25 C 2.328125 -0.25 2.328125 -0.34375 2.328125 -0.578125 Z M 2.328125 -4.4375 \" style=\"stroke:none;\"/>\n</symbol>\n<symbol id=\"glyph1-2\" overflow=\"visible\">\n<path d=\"M 3.515625 -1.265625 L 3.28125 -1.265625 C 3.265625 -1.109375 3.1875 -0.703125 3.09375 -0.640625 C 3.046875 -0.59375 2.515625 -0.59375 2.40625 -0.59375 L 1.125 -0.59375 C 1.859375 -1.234375 2.109375 -1.4375 2.515625 -1.765625 C 3.03125 -2.171875 3.515625 -2.609375 3.515625 -3.265625 C 3.515625 -4.109375 2.78125 -4.625 1.890625 -4.625 C 1.03125 -4.625 0.4375 -4.015625 0.4375 -3.375 C 0.4375 -3.03125 0.734375 -2.984375 0.8125 -2.984375 C 0.96875 -2.984375 1.171875 -3.109375 1.171875 -3.359375 C 1.171875 -3.484375 1.125 -3.734375 0.765625 -3.734375 C 0.984375 -4.21875 1.453125 -4.375 1.78125 -4.375 C 2.484375 -4.375 2.84375 -3.828125 2.84375 -3.265625 C 2.84375 -2.65625 2.40625 -2.1875 2.1875 -1.9375 L 0.515625 -0.265625 C 0.4375 -0.203125 0.4375 -0.1875 0.4375 0 L 3.3125 0 Z M 3.515625 -1.265625 \" style=\"stroke:none;\"/>\n</symbol>\n<symbol id=\"glyph1-3\" overflow=\"visible\">\n<path d=\"M 1.90625 -2.328125 C 2.453125 -2.328125 2.84375 -1.953125 2.84375 -1.203125 C 2.84375 -0.34375 2.328125 -0.078125 1.9375 -0.078125 C 1.65625 -0.078125 1.03125 -0.15625 0.75 -0.578125 C 1.078125 -0.578125 1.15625 -0.8125 1.15625 -0.96875 C 1.15625 -1.1875 0.984375 -1.34375 0.765625 -1.34375 C 0.578125 -1.34375 0.375 -1.21875 0.375 -0.9375 C 0.375 -0.28125 1.09375 0.140625 1.9375 0.140625 C 2.90625 0.140625 3.578125 -0.515625 3.578125 -1.203125 C 3.578125 -1.75 3.140625 -2.296875 2.375 -2.453125 C 3.09375 -2.71875 3.359375 -3.234375 3.359375 -3.671875 C 3.359375 -4.21875 2.734375 -4.625 1.953125 -4.625 C 1.1875 -4.625 0.59375 -4.25 0.59375 -3.6875 C 0.59375 -3.453125 0.75 -3.328125 0.953125 -3.328125 C 1.171875 -3.328125 1.3125 -3.484375 1.3125 -3.671875 C 1.3125 -3.875 1.171875 -4.03125 0.953125 -4.046875 C 1.203125 -4.34375 1.671875 -4.421875 1.9375 -4.421875 C 2.25 -4.421875 2.6875 -4.265625 2.6875 -3.671875 C 2.6875 -3.375 2.59375 -3.046875 2.40625 -2.84375 C 2.1875 -2.578125 1.984375 -2.5625 1.640625 -2.53125 C 1.46875 -2.515625 1.453125 -2.515625 1.421875 -2.515625 C 1.40625 -2.515625 1.34375 -2.5 1.34375 -2.421875 C 1.34375 -2.328125 1.40625 -2.328125 1.53125 -2.328125 Z M 1.90625 -2.328125 \" style=\"stroke:none;\"/>\n</symbol>\n</g>\n</defs>\n<g id=\"surface1\">\n<path d=\"M -0.00003125 0.00071875 L 101.535125 0.00071875 \" style=\"fill:none;stroke-width:0.3985;stroke-linecap:butt;stroke-linejoin:miter;stroke:rgb(0%,0%,0%);stroke-opacity:0.7;stroke-miterlimit:10;\" transform=\"matrix(1,0,0,-1,47.668,131.614)\"/>\n<path d=\"M -1.194348 1.594469 C -1.096691 0.996812 0.000965 0.098375 0.29784 0.00071875 C 0.000965 -0.100844 -1.096691 -0.995375 -1.194348 -1.593031 \" style=\"fill:none;stroke-width:0.31879;stroke-linecap:round;stroke-linejoin:round;stroke:rgb(0%,0%,0%);stroke-opacity:0.7;stroke-miterlimit:10;\" transform=\"matrix(1,0,0,-1,149.20216,131.614)\"/>\n<g style=\"fill:rgb(0%,0%,0%);fill-opacity:0.7;\">\n  <use x=\"153.179\" xlink:href=\"#glyph0-1\" y=\"133.011\"/>\n</g>\n<g style=\"fill:rgb(0%,0%,0%);fill-opacity:0.7;\">\n  <use x=\"158.873\" xlink:href=\"#glyph1-1\" y=\"134.506\"/>\n</g>\n<path d=\"M -0.00003125 0.00071875 L -0.00003125 118.531969 \" style=\"fill:none;stroke-width:0.3985;stroke-linecap:butt;stroke-linejoin:miter;stroke:rgb(0%,0%,0%);stroke-opacity:0.7;stroke-miterlimit:10;\" transform=\"matrix(1,0,0,-1,47.668,131.614)\"/>\n<path d=\"M -1.196244 1.593781 C -1.094681 0.996125 -0.00093125 0.0976875 0.29985 0.00003125 C -0.00093125 -0.101531 -1.094681 -0.996062 -1.196244 -1.593719 \" style=\"fill:none;stroke-width:0.31879;stroke-linecap:round;stroke-linejoin:round;stroke:rgb(0%,0%,0%);stroke-opacity:0.7;stroke-miterlimit:10;\" transform=\"matrix(0,-1,-1,0,47.668,13.0811)\"/>\n<g style=\"fill:rgb(0%,0%,0%);fill-opacity:0.7;\">\n  <use x=\"42.587\" xlink:href=\"#glyph0-1\" y=\"7.61\"/>\n</g>\n<g style=\"fill:rgb(0%,0%,0%);fill-opacity:0.7;\">\n  <use x=\"48.28\" xlink:href=\"#glyph1-2\" y=\"9.104\"/>\n</g>\n<path d=\"M -0.00003125 0.00071875 L -38.941438 -38.940688 \" style=\"fill:none;stroke-width:0.3985;stroke-linecap:butt;stroke-linejoin:miter;stroke:rgb(0%,0%,0%);stroke-opacity:0.7;stroke-miterlimit:10;\" transform=\"matrix(1,0,0,-1,47.668,131.614)\"/>\n<path d=\"M -1.195223 1.59588 C -1.095768 0.993753 -0.0019586 0.0988827 0.29911 0.00222111 C -0.00195156 -0.0999859 -1.095698 -0.994934 -1.197873 -1.594305 \" style=\"fill:none;stroke-width:0.31879;stroke-linecap:round;stroke-linejoin:round;stroke:rgb(0%,0%,0%);stroke-opacity:0.7;stroke-miterlimit:10;\" transform=\"matrix(-0.70715,0.7071,0.7071,0.70715,8.72557,170.55646)\"/>\n<g style=\"fill:rgb(0%,0%,0%);fill-opacity:0.7;\">\n  <use x=\"3.321\" xlink:href=\"#glyph0-1\" y=\"178.689\"/>\n</g>\n<g style=\"fill:rgb(0%,0%,0%);fill-opacity:0.7;\">\n  <use x=\"9.014\" xlink:href=\"#glyph1-3\" y=\"180.183\"/>\n</g>\n<path d=\"M -0.00003125 0.00071875 L 67.957 0.00071875 L 41.792937 -26.163344 L -26.164094 -26.163344 Z M -0.00003125 0.00071875 \" style=\"fill-rule:nonzero;fill:rgb(79.998779%,79.998779%,100%);fill-opacity:0.7;stroke-width:0.3985;stroke-linecap:butt;stroke-linejoin:miter;stroke:rgb(0%,0%,0%);stroke-opacity:0.7;stroke-miterlimit:10;\" transform=\"matrix(1,0,0,-1,47.668,131.614)\"/>\n<path d=\"M 67.957 0.00071875 L 67.957 67.95775 L 41.792937 -26.163344 Z M 67.957 0.00071875 \" style=\"fill-rule:nonzero;fill:rgb(79.998779%,79.998779%,100%);fill-opacity:0.7;stroke-width:0.3985;stroke-linecap:butt;stroke-linejoin:miter;stroke:rgb(0%,0%,0%);stroke-opacity:0.7;stroke-miterlimit:10;\" transform=\"matrix(1,0,0,-1,47.668,131.614)\"/>\n<path d=\"M -0.00003125 101.938219 L -13.082063 88.856187 L -26.164094 -26.163344 L -0.00003125 0.00071875 Z M -0.00003125 101.938219 \" style=\"fill-rule:nonzero;fill:rgb(79.998779%,79.998779%,100%);fill-opacity:0.7;stroke-width:0.3985;stroke-linecap:butt;stroke-linejoin:miter;stroke:rgb(0%,0%,0%);stroke-opacity:0.7;stroke-miterlimit:10;\" transform=\"matrix(1,0,0,-1,47.668,131.614)\"/>\n<path d=\"M -13.082063 88.856187 L 33.980437 101.938219 L 67.957 67.95775 L 41.792937 -26.163344 Z M -13.082063 88.856187 \" style=\"fill-rule:nonzero;fill:rgb(79.998779%,79.998779%,100%);fill-opacity:0.7;stroke-width:0.3985;stroke-linecap:butt;stroke-linejoin:miter;stroke:rgb(0%,0%,0%);stroke-opacity:0.7;stroke-miterlimit:10;\" transform=\"matrix(1,0,0,-1,47.668,131.614)\"/>\n<path d=\"M -13.082063 88.856187 L -26.164094 -26.163344 L 41.792937 -26.163344 Z M -13.082063 88.856187 \" style=\"fill-rule:nonzero;fill:rgb(79.998779%,79.998779%,100%);fill-opacity:0.7;stroke-width:0.3985;stroke-linecap:butt;stroke-linejoin:miter;stroke:rgb(0%,0%,0%);stroke-opacity:0.7;stroke-miterlimit:10;\" transform=\"matrix(1,0,0,-1,47.668,131.614)\"/>\n<path d=\"M -13.082063 88.856187 L 33.980437 101.938219 L -0.00003125 101.938219 Z M -13.082063 88.856187 \" style=\"fill-rule:nonzero;fill:rgb(79.998779%,79.998779%,100%);fill-opacity:0.7;stroke-width:0.3985;stroke-linecap:butt;stroke-linejoin:miter;stroke:rgb(0%,0%,0%);stroke-opacity:0.7;stroke-miterlimit:10;\" transform=\"matrix(1,0,0,-1,47.668,131.614)\"/>\n<path d=\"M 50.875 131.613281 C 50.875 129.84375 49.4375 128.40625 47.667969 128.40625 C 45.898438 128.40625 44.460938 129.84375 44.460938 131.613281 C 44.460938 133.386719 45.898438 134.820312 47.667969 134.820312 C 49.4375 134.820312 50.875 133.386719 50.875 131.613281 Z M 50.875 131.613281 \" style=\" stroke:none;fill-rule:nonzero;fill:rgb(100%,0%,0%);fill-opacity:0.7;\"/>\n</g>\n</svg>",
          "text/plain": "<IPython.core.display.SVG object>"
         },
         "metadata": {},
         "output_type": "display_data"
        }
       ]
      }
     },
     "c4ad8d775a1b469691f76990b9a4cfbd": {
      "model_module": "@jupyter-widgets/controls",
      "model_module_version": "1.5.0",
      "model_name": "SliderStyleModel",
      "state": {
       "description_width": ""
      }
     },
     "c53b919e52a84508a6bace773e00416c": {
      "model_module": "@jupyter-widgets/base",
      "model_module_version": "1.2.0",
      "model_name": "LayoutModel",
      "state": {}
     },
     "c8a35410828149568bfbbc02454008b5": {
      "model_module": "@jupyter-widgets/controls",
      "model_module_version": "1.5.0",
      "model_name": "IntSliderModel",
      "state": {
       "description": "b",
       "layout": "IPY_MODEL_99e27b1d093d47b9a95d6263bcee73ce",
       "max": 300,
       "min": -100,
       "step": 10,
       "style": "IPY_MODEL_a62c44ec669642d6b23d18189a5c14e1",
       "value": 160
      }
     },
     "c9d24498844b47eb90895a44b14d9766": {
      "model_module": "@jupyter-widgets/controls",
      "model_module_version": "1.5.0",
      "model_name": "IntSliderModel",
      "state": {
       "description": "a",
       "layout": "IPY_MODEL_6b49f415ff2d4b049fbbbda0920bcb94",
       "max": 300,
       "min": -100,
       "step": 10,
       "style": "IPY_MODEL_ef9d5bd7238a40daabb94fa3d45ee792",
       "value": -50
      }
     },
     "ccaa6aa48f34466998e53e00bf842323": {
      "model_module": "@jupyter-widgets/base",
      "model_module_version": "1.2.0",
      "model_name": "LayoutModel",
      "state": {}
     },
     "d53bc888234b4f7e8eb56ef8971b49b2": {
      "model_module": "@jupyter-widgets/base",
      "model_module_version": "1.2.0",
      "model_name": "LayoutModel",
      "state": {}
     },
     "d8dad505f1ef4124987198ab73e45125": {
      "model_module": "@jupyter-widgets/controls",
      "model_module_version": "1.5.0",
      "model_name": "SliderStyleModel",
      "state": {
       "description_width": ""
      }
     },
     "d94dd714b5594690992b58bbb0aa9199": {
      "model_module": "@jupyter-widgets/base",
      "model_module_version": "1.2.0",
      "model_name": "LayoutModel",
      "state": {}
     },
     "de19a02ca0354ea785fe24a17a8147d1": {
      "model_module": "@jupyter-widgets/base",
      "model_module_version": "1.2.0",
      "model_name": "LayoutModel",
      "state": {}
     },
     "e1223394717b4ffb8584895663a3baca": {
      "model_module": "@jupyter-widgets/controls",
      "model_module_version": "1.5.0",
      "model_name": "VBoxModel",
      "state": {
       "_dom_classes": [
        "widget-interact"
       ],
       "children": [
        "IPY_MODEL_7b303ac30fc948f9bd18f6442dbd8c51",
        "IPY_MODEL_bd940a794d694fcc8662123bb2afca69"
       ],
       "layout": "IPY_MODEL_c53b919e52a84508a6bace773e00416c"
      }
     },
     "e314ab6920714200b69e151575e935bd": {
      "model_module": "@jupyter-widgets/base",
      "model_module_version": "1.2.0",
      "model_name": "LayoutModel",
      "state": {}
     },
     "e31f9d600c4c4c6da32be47bd2cf6809": {
      "model_module": "@jupyter-widgets/controls",
      "model_module_version": "1.5.0",
      "model_name": "IntSliderModel",
      "state": {
       "description": "a",
       "layout": "IPY_MODEL_41acaf6fb8da4fdea98d6f9029051e6a",
       "max": 300,
       "min": -100,
       "step": 10,
       "style": "IPY_MODEL_101e990cd49547b3813da5276f501aa0"
      }
     },
     "ef9d5bd7238a40daabb94fa3d45ee792": {
      "model_module": "@jupyter-widgets/controls",
      "model_module_version": "1.5.0",
      "model_name": "SliderStyleModel",
      "state": {
       "description_width": ""
      }
     },
     "f4f01045d9584c778fdfc62f23b8e12b": {
      "model_module": "@jupyter-widgets/base",
      "model_module_version": "1.2.0",
      "model_name": "LayoutModel",
      "state": {}
     },
     "f5d3f7486960453da80677f1c883f5f8": {
      "model_module": "@jupyter-widgets/output",
      "model_module_version": "1.0.0",
      "model_name": "OutputModel",
      "state": {
       "layout": "IPY_MODEL_14c62a4e46eb47f48024bacf5079d706",
       "outputs": [
        {
         "data": {
          "image/svg+xml": "<svg height=\"183.504pt\" version=\"1.1\" viewBox=\"0 0 166.663 183.504\" width=\"166.663pt\" xmlns=\"http://www.w3.org/2000/svg\" xmlns:xlink=\"http://www.w3.org/1999/xlink\">\n<defs>\n<g>\n<symbol id=\"glyph0-0\" overflow=\"visible\">\n<path d=\"\" style=\"stroke:none;\"/>\n</symbol>\n<symbol id=\"glyph0-1\" overflow=\"visible\">\n<path d=\"M 3.328125 -3.015625 C 3.390625 -3.265625 3.625 -4.1875 4.3125 -4.1875 C 4.359375 -4.1875 4.609375 -4.1875 4.8125 -4.0625 C 4.53125 -4 4.34375 -3.765625 4.34375 -3.515625 C 4.34375 -3.359375 4.453125 -3.171875 4.71875 -3.171875 C 4.9375 -3.171875 5.25 -3.34375 5.25 -3.75 C 5.25 -4.265625 4.671875 -4.40625 4.328125 -4.40625 C 3.75 -4.40625 3.40625 -3.875 3.28125 -3.65625 C 3.03125 -4.3125 2.5 -4.40625 2.203125 -4.40625 C 1.171875 -4.40625 0.59375 -3.125 0.59375 -2.875 C 0.59375 -2.765625 0.703125 -2.765625 0.71875 -2.765625 C 0.796875 -2.765625 0.828125 -2.796875 0.84375 -2.875 C 1.1875 -3.9375 1.84375 -4.1875 2.1875 -4.1875 C 2.375 -4.1875 2.71875 -4.09375 2.71875 -3.515625 C 2.71875 -3.203125 2.546875 -2.546875 2.1875 -1.140625 C 2.03125 -0.53125 1.671875 -0.109375 1.234375 -0.109375 C 1.171875 -0.109375 0.953125 -0.109375 0.734375 -0.234375 C 0.984375 -0.296875 1.203125 -0.5 1.203125 -0.78125 C 1.203125 -1.046875 0.984375 -1.125 0.84375 -1.125 C 0.53125 -1.125 0.296875 -0.875 0.296875 -0.546875 C 0.296875 -0.09375 0.78125 0.109375 1.21875 0.109375 C 1.890625 0.109375 2.25 -0.59375 2.265625 -0.640625 C 2.390625 -0.28125 2.75 0.109375 3.34375 0.109375 C 4.375 0.109375 4.9375 -1.171875 4.9375 -1.421875 C 4.9375 -1.53125 4.859375 -1.53125 4.828125 -1.53125 C 4.734375 -1.53125 4.71875 -1.484375 4.6875 -1.421875 C 4.359375 -0.34375 3.6875 -0.109375 3.375 -0.109375 C 2.984375 -0.109375 2.828125 -0.421875 2.828125 -0.765625 C 2.828125 -0.984375 2.875 -1.203125 2.984375 -1.640625 Z M 3.328125 -3.015625 \" style=\"stroke:none;\"/>\n</symbol>\n<symbol id=\"glyph1-0\" overflow=\"visible\">\n<path d=\"\" style=\"stroke:none;\"/>\n</symbol>\n<symbol id=\"glyph1-1\" overflow=\"visible\">\n<path d=\"M 2.328125 -4.4375 C 2.328125 -4.625 2.328125 -4.625 2.125 -4.625 C 1.671875 -4.1875 1.046875 -4.1875 0.765625 -4.1875 L 0.765625 -3.9375 C 0.921875 -3.9375 1.390625 -3.9375 1.765625 -4.125 L 1.765625 -0.578125 C 1.765625 -0.34375 1.765625 -0.25 1.078125 -0.25 L 0.8125 -0.25 L 0.8125 0 C 0.9375 0 1.796875 -0.03125 2.046875 -0.03125 C 2.265625 -0.03125 3.140625 0 3.296875 0 L 3.296875 -0.25 L 3.03125 -0.25 C 2.328125 -0.25 2.328125 -0.34375 2.328125 -0.578125 Z M 2.328125 -4.4375 \" style=\"stroke:none;\"/>\n</symbol>\n<symbol id=\"glyph1-2\" overflow=\"visible\">\n<path d=\"M 3.515625 -1.265625 L 3.28125 -1.265625 C 3.265625 -1.109375 3.1875 -0.703125 3.09375 -0.640625 C 3.046875 -0.59375 2.515625 -0.59375 2.40625 -0.59375 L 1.125 -0.59375 C 1.859375 -1.234375 2.109375 -1.4375 2.515625 -1.765625 C 3.03125 -2.171875 3.515625 -2.609375 3.515625 -3.265625 C 3.515625 -4.109375 2.78125 -4.625 1.890625 -4.625 C 1.03125 -4.625 0.4375 -4.015625 0.4375 -3.375 C 0.4375 -3.03125 0.734375 -2.984375 0.8125 -2.984375 C 0.96875 -2.984375 1.171875 -3.109375 1.171875 -3.359375 C 1.171875 -3.484375 1.125 -3.734375 0.765625 -3.734375 C 0.984375 -4.21875 1.453125 -4.375 1.78125 -4.375 C 2.484375 -4.375 2.84375 -3.828125 2.84375 -3.265625 C 2.84375 -2.65625 2.40625 -2.1875 2.1875 -1.9375 L 0.515625 -0.265625 C 0.4375 -0.203125 0.4375 -0.1875 0.4375 0 L 3.3125 0 Z M 3.515625 -1.265625 \" style=\"stroke:none;\"/>\n</symbol>\n<symbol id=\"glyph1-3\" overflow=\"visible\">\n<path d=\"M 1.90625 -2.328125 C 2.453125 -2.328125 2.84375 -1.953125 2.84375 -1.203125 C 2.84375 -0.34375 2.328125 -0.078125 1.9375 -0.078125 C 1.65625 -0.078125 1.03125 -0.15625 0.75 -0.578125 C 1.078125 -0.578125 1.15625 -0.8125 1.15625 -0.96875 C 1.15625 -1.1875 0.984375 -1.34375 0.765625 -1.34375 C 0.578125 -1.34375 0.375 -1.21875 0.375 -0.9375 C 0.375 -0.28125 1.09375 0.140625 1.9375 0.140625 C 2.90625 0.140625 3.578125 -0.515625 3.578125 -1.203125 C 3.578125 -1.75 3.140625 -2.296875 2.375 -2.453125 C 3.09375 -2.71875 3.359375 -3.234375 3.359375 -3.671875 C 3.359375 -4.21875 2.734375 -4.625 1.953125 -4.625 C 1.1875 -4.625 0.59375 -4.25 0.59375 -3.6875 C 0.59375 -3.453125 0.75 -3.328125 0.953125 -3.328125 C 1.171875 -3.328125 1.3125 -3.484375 1.3125 -3.671875 C 1.3125 -3.875 1.171875 -4.03125 0.953125 -4.046875 C 1.203125 -4.34375 1.671875 -4.421875 1.9375 -4.421875 C 2.25 -4.421875 2.6875 -4.265625 2.6875 -3.671875 C 2.6875 -3.375 2.59375 -3.046875 2.40625 -2.84375 C 2.1875 -2.578125 1.984375 -2.5625 1.640625 -2.53125 C 1.46875 -2.515625 1.453125 -2.515625 1.421875 -2.515625 C 1.40625 -2.515625 1.34375 -2.5 1.34375 -2.421875 C 1.34375 -2.328125 1.40625 -2.328125 1.53125 -2.328125 Z M 1.90625 -2.328125 \" style=\"stroke:none;\"/>\n</symbol>\n</g>\n</defs>\n<g id=\"surface1\">\n<path d=\"M -0.00003125 0.00071875 L 101.535125 0.00071875 \" style=\"fill:none;stroke-width:0.3985;stroke-linecap:butt;stroke-linejoin:miter;stroke:rgb(0%,0%,0%);stroke-opacity:0.7;stroke-miterlimit:10;\" transform=\"matrix(1,0,0,-1,47.668,131.614)\"/>\n<path d=\"M -1.194348 1.594469 C -1.096691 0.996812 0.000965 0.098375 0.29784 0.00071875 C 0.000965 -0.100844 -1.096691 -0.995375 -1.194348 -1.593031 \" style=\"fill:none;stroke-width:0.31879;stroke-linecap:round;stroke-linejoin:round;stroke:rgb(0%,0%,0%);stroke-opacity:0.7;stroke-miterlimit:10;\" transform=\"matrix(1,0,0,-1,149.20216,131.614)\"/>\n<g style=\"fill:rgb(0%,0%,0%);fill-opacity:0.7;\">\n  <use x=\"153.179\" xlink:href=\"#glyph0-1\" y=\"133.011\"/>\n</g>\n<g style=\"fill:rgb(0%,0%,0%);fill-opacity:0.7;\">\n  <use x=\"158.873\" xlink:href=\"#glyph1-1\" y=\"134.506\"/>\n</g>\n<path d=\"M -0.00003125 0.00071875 L -0.00003125 118.531969 \" style=\"fill:none;stroke-width:0.3985;stroke-linecap:butt;stroke-linejoin:miter;stroke:rgb(0%,0%,0%);stroke-opacity:0.7;stroke-miterlimit:10;\" transform=\"matrix(1,0,0,-1,47.668,131.614)\"/>\n<path d=\"M -1.196244 1.593781 C -1.094681 0.996125 -0.00093125 0.0976875 0.29985 0.00003125 C -0.00093125 -0.101531 -1.094681 -0.996062 -1.196244 -1.593719 \" style=\"fill:none;stroke-width:0.31879;stroke-linecap:round;stroke-linejoin:round;stroke:rgb(0%,0%,0%);stroke-opacity:0.7;stroke-miterlimit:10;\" transform=\"matrix(0,-1,-1,0,47.668,13.0811)\"/>\n<g style=\"fill:rgb(0%,0%,0%);fill-opacity:0.7;\">\n  <use x=\"42.587\" xlink:href=\"#glyph0-1\" y=\"7.61\"/>\n</g>\n<g style=\"fill:rgb(0%,0%,0%);fill-opacity:0.7;\">\n  <use x=\"48.28\" xlink:href=\"#glyph1-2\" y=\"9.104\"/>\n</g>\n<path d=\"M -0.00003125 0.00071875 L -38.941438 -38.940688 \" style=\"fill:none;stroke-width:0.3985;stroke-linecap:butt;stroke-linejoin:miter;stroke:rgb(0%,0%,0%);stroke-opacity:0.7;stroke-miterlimit:10;\" transform=\"matrix(1,0,0,-1,47.668,131.614)\"/>\n<path d=\"M -1.195223 1.59588 C -1.095768 0.993753 -0.0019586 0.0988827 0.29911 0.00222111 C -0.00195156 -0.0999859 -1.095698 -0.994934 -1.197873 -1.594305 \" style=\"fill:none;stroke-width:0.31879;stroke-linecap:round;stroke-linejoin:round;stroke:rgb(0%,0%,0%);stroke-opacity:0.7;stroke-miterlimit:10;\" transform=\"matrix(-0.70715,0.7071,0.7071,0.70715,8.72557,170.55646)\"/>\n<g style=\"fill:rgb(0%,0%,0%);fill-opacity:0.7;\">\n  <use x=\"3.321\" xlink:href=\"#glyph0-1\" y=\"178.689\"/>\n</g>\n<g style=\"fill:rgb(0%,0%,0%);fill-opacity:0.7;\">\n  <use x=\"9.014\" xlink:href=\"#glyph1-3\" y=\"180.183\"/>\n</g>\n<path d=\"M -0.00003125 0.00071875 L 67.957 0.00071875 L 41.792937 -26.163344 L -26.164094 -26.163344 Z M -0.00003125 0.00071875 \" style=\"fill-rule:nonzero;fill:rgb(79.998779%,79.998779%,100%);fill-opacity:0.7;stroke-width:0.3985;stroke-linecap:butt;stroke-linejoin:miter;stroke:rgb(0%,0%,0%);stroke-opacity:0.7;stroke-miterlimit:10;\" transform=\"matrix(1,0,0,-1,47.668,131.614)\"/>\n<path d=\"M 67.957 0.00071875 L 67.957 67.95775 L 41.792937 -26.163344 Z M 67.957 0.00071875 \" style=\"fill-rule:nonzero;fill:rgb(79.998779%,79.998779%,100%);fill-opacity:0.7;stroke-width:0.3985;stroke-linecap:butt;stroke-linejoin:miter;stroke:rgb(0%,0%,0%);stroke-opacity:0.7;stroke-miterlimit:10;\" transform=\"matrix(1,0,0,-1,47.668,131.614)\"/>\n<path d=\"M -0.00003125 101.938219 L -13.082063 88.856187 L -26.164094 -26.163344 L -0.00003125 0.00071875 Z M -0.00003125 101.938219 \" style=\"fill-rule:nonzero;fill:rgb(79.998779%,79.998779%,100%);fill-opacity:0.7;stroke-width:0.3985;stroke-linecap:butt;stroke-linejoin:miter;stroke:rgb(0%,0%,0%);stroke-opacity:0.7;stroke-miterlimit:10;\" transform=\"matrix(1,0,0,-1,47.668,131.614)\"/>\n<path d=\"M -13.082063 88.856187 L 33.980437 101.938219 L 67.957 67.95775 L 41.792937 -26.163344 Z M -13.082063 88.856187 \" style=\"fill-rule:nonzero;fill:rgb(79.998779%,79.998779%,100%);fill-opacity:0.7;stroke-width:0.3985;stroke-linecap:butt;stroke-linejoin:miter;stroke:rgb(0%,0%,0%);stroke-opacity:0.7;stroke-miterlimit:10;\" transform=\"matrix(1,0,0,-1,47.668,131.614)\"/>\n<path d=\"M -13.082063 88.856187 L -26.164094 -26.163344 L 41.792937 -26.163344 Z M -13.082063 88.856187 \" style=\"fill-rule:nonzero;fill:rgb(79.998779%,79.998779%,100%);fill-opacity:0.7;stroke-width:0.3985;stroke-linecap:butt;stroke-linejoin:miter;stroke:rgb(0%,0%,0%);stroke-opacity:0.7;stroke-miterlimit:10;\" transform=\"matrix(1,0,0,-1,47.668,131.614)\"/>\n<path d=\"M -13.082063 88.856187 L 33.980437 101.938219 L -0.00003125 101.938219 Z M -13.082063 88.856187 \" style=\"fill-rule:nonzero;fill:rgb(79.998779%,79.998779%,100%);fill-opacity:0.7;stroke-width:0.3985;stroke-linecap:butt;stroke-linejoin:miter;stroke:rgb(0%,0%,0%);stroke-opacity:0.7;stroke-miterlimit:10;\" transform=\"matrix(1,0,0,-1,47.668,131.614)\"/>\n<path d=\"M 84.871094 80.617188 C 84.871094 78.847656 83.4375 77.410156 81.664062 77.410156 C 79.894531 77.410156 78.457031 78.847656 78.457031 80.617188 C 78.457031 82.390625 79.894531 83.824219 81.664062 83.824219 C 83.4375 83.824219 84.871094 82.390625 84.871094 80.617188 Z M 84.871094 80.617188 \" style=\" stroke:none;fill-rule:nonzero;fill:rgb(100%,0%,0%);fill-opacity:0.7;\"/>\n</g>\n</svg>",
          "text/plain": "<IPython.core.display.SVG object>"
         },
         "metadata": {},
         "output_type": "display_data"
        }
       ]
      }
     },
     "fb197948e178435da9e8b6f2e137f4d9": {
      "model_module": "@jupyter-widgets/controls",
      "model_module_version": "1.5.0",
      "model_name": "SliderStyleModel",
      "state": {
       "description_width": ""
      }
     }
    },
    "version_major": 2,
    "version_minor": 0
   }
  }
 },
 "nbformat": 4,
 "nbformat_minor": 4
}
