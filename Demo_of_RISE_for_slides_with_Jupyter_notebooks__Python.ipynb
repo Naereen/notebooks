{
 "cells": [
  {
   "cell_type": "markdown",
   "metadata": {
    "slideshow": {
     "slide_type": "slide"
    },
    "toc": "true"
   },
   "source": [
    "<h1>Table of Contents<span class=\"tocSkip\"></span></h1>\n",
    "<div class=\"toc\"><ul class=\"toc-item\"><li><span><a href=\"#Demo-of-RISE-for-slides-with-Jupyter-notebooks-(Python)\" data-toc-modified-id=\"Demo-of-RISE-for-slides-with-Jupyter-notebooks-(Python)-1\"><span class=\"toc-item-num\">1&nbsp;&nbsp;</span>Demo of RISE for slides with Jupyter notebooks (Python)</a></span><ul class=\"toc-item\"><li><span><a href=\"#Title-2\" data-toc-modified-id=\"Title-2-1.1\"><span class=\"toc-item-num\">1.1&nbsp;&nbsp;</span>Title 2</a></span><ul class=\"toc-item\"><li><span><a href=\"#Title-3\" data-toc-modified-id=\"Title-3-1.1.1\"><span class=\"toc-item-num\">1.1.1&nbsp;&nbsp;</span>Title 3</a></span><ul class=\"toc-item\"><li><span><a href=\"#Title-4\" data-toc-modified-id=\"Title-4-1.1.1.1\"><span class=\"toc-item-num\">1.1.1.1&nbsp;&nbsp;</span>Title 4</a></span></li></ul></li></ul></li><li><span><a href=\"#Text\" data-toc-modified-id=\"Text-1.2\"><span class=\"toc-item-num\">1.2&nbsp;&nbsp;</span>Text</a></span></li><li><span><a href=\"#Maths\" data-toc-modified-id=\"Maths-1.3\"><span class=\"toc-item-num\">1.3&nbsp;&nbsp;</span>Maths</a></span></li><li><span><a href=\"#And-code\" data-toc-modified-id=\"And-code-1.4\"><span class=\"toc-item-num\">1.4&nbsp;&nbsp;</span>And code</a></span></li></ul></li><li><span><a href=\"#More-demo-of-Markdown-code\" data-toc-modified-id=\"More-demo-of-Markdown-code-2\"><span class=\"toc-item-num\">2&nbsp;&nbsp;</span>More demo of Markdown code</a></span><ul class=\"toc-item\"><li><span><a href=\"#Lists\" data-toc-modified-id=\"Lists-2.1\"><span class=\"toc-item-num\">2.1&nbsp;&nbsp;</span>Lists</a></span><ul class=\"toc-item\"><li><ul class=\"toc-item\"><li><span><a href=\"#Images\" data-toc-modified-id=\"Images-2.1.0.1\"><span class=\"toc-item-num\">2.1.0.1&nbsp;&nbsp;</span>Images</a></span></li><li><span><a href=\"#And-Markdown-can-include-raw-HTML\" data-toc-modified-id=\"And-Markdown-can-include-raw-HTML-2.1.0.2\"><span class=\"toc-item-num\">2.1.0.2&nbsp;&nbsp;</span>And Markdown can include raw HTML</a></span></li></ul></li></ul></li></ul></li><li><span><a href=\"#End-of-this-demo\" data-toc-modified-id=\"End-of-this-demo-3\"><span class=\"toc-item-num\">3&nbsp;&nbsp;</span>End of this demo</a></span></li></ul></div>"
   ]
  },
  {
   "cell_type": "markdown",
   "metadata": {
    "slideshow": {
     "slide_type": "slide"
    }
   },
   "source": [
    "# Demo of RISE for slides with Jupyter notebooks (Python)\n",
    "\n",
    "- This document is an example of a slideshow, written in a [Jupyter notebook](https://www.jupyter.org/) with the [RISE extension](https://github.com/damianavila/RISE).\n",
    "\n",
    "> By [Lilian Besson](http://perso.crans.org/besson/), Sept.2017."
   ]
  },
  {
   "cell_type": "markdown",
   "metadata": {
    "slideshow": {
     "slide_type": "slide"
    }
   },
   "source": [
    "---\n",
    "## Title 2\n",
    "### Title 3\n",
    "#### Title 4\n",
    "##### Title 5\n",
    "##### Title 6"
   ]
  },
  {
   "cell_type": "markdown",
   "metadata": {
    "slideshow": {
     "slide_type": "subslide"
    }
   },
   "source": [
    "## Text\n",
    "With text, *emphasis*, **bold**, ~~striked~~, `inline code` and\n",
    "\n",
    "> *Quote.*\n",
    ">\n",
    "> -- By a guy."
   ]
  },
  {
   "cell_type": "markdown",
   "metadata": {
    "slideshow": {
     "slide_type": "subslide"
    }
   },
   "source": [
    "## Maths\n",
    "With inline math $\\sin(x)^2 + \\cos(x)^2 = 1$ and equations:\n",
    "$$\\sin(x)^2 + \\cos(x)^2 = \\left(\\frac{\\mathrm{e}^{ix} - \\mathrm{e}^{-ix}}{2i}\\right)^2 + \\left(\\frac{\\mathrm{e}^{ix} + \\mathrm{e}^{-ix}}{2}\\right)^2 = \\frac{-\\mathrm{e}^{2ix}-\\mathrm{e}^{-2ix}+2 \\; ++\\mathrm{e}^{2ix}+\\mathrm{e}^{-2ix}+2}{4} = 1.$$"
   ]
  },
  {
   "cell_type": "markdown",
   "metadata": {
    "slideshow": {
     "slide_type": "subslide"
    }
   },
   "source": [
    "## And code\n",
    "In Markdown:\n",
    "```python\n",
    "from sys import version\n",
    "print(version)\n",
    "```\n",
    "\n",
    "And in a executable cell (with Python 3 kernel) :"
   ]
  },
  {
   "cell_type": "code",
   "execution_count": 1,
   "metadata": {
    "ExecuteTime": {
     "end_time": "2021-02-21T13:54:16.797381Z",
     "start_time": "2021-02-21T13:54:16.791333Z"
    },
    "slideshow": {
     "slide_type": "-"
    }
   },
   "outputs": [
    {
     "name": "stdout",
     "output_type": "stream",
     "text": [
      "3.6.9 (default, Oct  8 2020, 12:12:24) \n",
      "[GCC 8.4.0]\n"
     ]
    }
   ],
   "source": [
    "from sys import version\n",
    "print(version)"
   ]
  },
  {
   "cell_type": "markdown",
   "metadata": {
    "slideshow": {
     "slide_type": "slide"
    }
   },
   "source": [
    "# More demo of Markdown code"
   ]
  },
  {
   "cell_type": "markdown",
   "metadata": {
    "slideshow": {
     "slide_type": "subslide"
    }
   },
   "source": [
    "## Lists\n",
    "\n",
    "- Unordered\n",
    "- lists\n",
    "- are easy.\n",
    "\n",
    "And\n",
    "\n",
    "1. and ordered also ! Just\n",
    "2. start lines by `1.`, `2.` etc\n",
    "3. or simply `1.`, `1.`, ..."
   ]
  },
  {
   "cell_type": "markdown",
   "metadata": {
    "slideshow": {
     "slide_type": "subslide"
    }
   },
   "source": [
    "#### Images\n",
    "With a HTML `<img/>` tag or the `![alt](url)` Markdown code:\n",
    "<img width=\"100\" src=\"agreg/images/dooku.jpg\"/>\n",
    "\n",
    "![agreg/images/dooku.jpg](agreg/images/dooku.jpg)"
   ]
  },
  {
   "cell_type": "code",
   "execution_count": 8,
   "metadata": {
    "slideshow": {
     "slide_type": "skip"
    }
   },
   "outputs": [
    {
     "data": {
      "text/plain": [
       "'Embed a YouTube video via its embed url into a notebook.'"
      ]
     },
     "execution_count": 8,
     "metadata": {},
     "output_type": "execute_result"
    }
   ],
   "source": [
    "# https://gist.github.com/dm-wyncode/55823165c104717ca49863fc526d1354\n",
    "\"\"\"Embed a YouTube video via its embed url into a notebook.\"\"\"\n",
    "from functools import partial\n",
    "\n",
    "from IPython.display import display, IFrame\n",
    "\n",
    "width, height = (560, 315, )\n",
    "\n",
    "def _iframe_attrs(embed_url):\n",
    "    \"\"\"Get IFrame args.\"\"\"\n",
    "    return (\n",
    "        ('src', 'width', 'height'), \n",
    "        (embed_url, width, height, ),\n",
    "    )\n",
    "\n",
    "def _get_args(embed_url):\n",
    "    \"\"\"Get args for type to create a class.\"\"\"\n",
    "    iframe = dict(zip(*_iframe_attrs(embed_url)))\n",
    "    attrs = {\n",
    "        'display': partial(display, IFrame(**iframe)),\n",
    "    }\n",
    "    return ('YouTubeVideo', (object, ), attrs, )\n",
    "\n",
    "def youtube_video(embed_url):\n",
    "    \"\"\"Embed YouTube video into a notebook.\n",
    "\n",
    "    Place this module into the same directory as the notebook.\n",
    "\n",
    "    >>> from embed import youtube_video\n",
    "    >>> youtube_video(url).display()\n",
    "    \"\"\"\n",
    "    YouTubeVideo = type(*_get_args(embed_url)) # make a class\n",
    "    return YouTubeVideo() # return an object\n"
   ]
  },
  {
   "cell_type": "markdown",
   "metadata": {
    "slideshow": {
     "slide_type": "subslide"
    }
   },
   "source": [
    "#### And Markdown can include raw HTML\n",
    "\n",
    "<center><span style=\"color: green;\">This is a centered span, colored in green.</span></center>\n",
    "\n",
    "Iframes are disabled by default, but by using the IPython internals we can include let say a YouTube video:"
   ]
  },
  {
   "cell_type": "code",
   "execution_count": 9,
   "metadata": {
    "scrolled": true
   },
   "outputs": [
    {
     "data": {
      "text/html": [
       "\n",
       "        <iframe\n",
       "            width=\"560\"\n",
       "            height=\"315\"\n",
       "            src=\"https://www.youtube.com/embed/FNg5_2UUCNU\"\n",
       "            frameborder=\"0\"\n",
       "            allowfullscreen\n",
       "        ></iframe>\n",
       "        "
      ],
      "text/plain": [
       "<IPython.lib.display.IFrame at 0x7fec9e1244a8>"
      ]
     },
     "metadata": {},
     "output_type": "display_data"
    }
   ],
   "source": [
    "youtube_video(\"https://www.youtube.com/embed/FNg5_2UUCNU\").display()"
   ]
  },
  {
   "cell_type": "code",
   "execution_count": 3,
   "metadata": {
    "ExecuteTime": {
     "end_time": "2021-02-21T13:56:11.300952Z",
     "start_time": "2021-02-21T13:56:11.294005Z"
    },
    "slideshow": {
     "slide_type": "slide"
    }
   },
   "outputs": [
    {
     "name": "stdout",
     "output_type": "stream",
     "text": [
      "240780458385579342400393461351617812815637161357071131707208942081962936661153218844512115504763375697200879163458183553026017242301187821441055479544760906104973534996069938628004474568289906582206917095065620305216254432816950650228843795794816095162791355341943390986975847866692139272448065870433527123346286515814575123941041341323886584452213168407427683905346733773730890398535581783579726464034446453496393589067919979673611753823620422962335479358086639875375670825770647896268644196740771259886611570273762180917307714137084771977480688440721015151914970095703226362506437887288273484956889253937152\n"
     ]
    }
   ],
   "source": [
    "print(2**2021)"
   ]
  },
  {
   "cell_type": "markdown",
   "metadata": {
    "slideshow": {
     "slide_type": "slide"
    }
   },
   "source": [
    "# End of this demo\n",
    "\n",
    "- See [here for more notebooks](https://github.com/Naereen/notebooks/)!\n",
    "- This document, like my other notebooks, is distributed [under the MIT License](https://lbesson.mit-license.org/)."
   ]
  }
 ],
 "metadata": {
  "celltoolbar": "Aucun(e)",
  "kernelspec": {
   "display_name": "Python 3",
   "language": "python",
   "name": "python3"
  },
  "language_info": {
   "codemirror_mode": {
    "name": "ipython",
    "version": 3
   },
   "file_extension": ".py",
   "mimetype": "text/x-python",
   "name": "python",
   "nbconvert_exporter": "python",
   "pygments_lexer": "ipython3",
   "version": "3.6.9"
  },
  "toc": {
   "base_numbering": 1,
   "nav_menu": {
    "height": "129px",
    "width": "251px"
   },
   "number_sections": true,
   "sideBar": true,
   "skip_h1_title": false,
   "title_cell": "Table of Contents",
   "title_sidebar": "Contents",
   "toc_cell": true,
   "toc_position": {},
   "toc_section_display": "block",
   "toc_window_display": false
  },
  "varInspector": {
   "cols": {
    "lenName": 16,
    "lenType": 16,
    "lenVar": 40
   },
   "kernels_config": {
    "python": {
     "delete_cmd_postfix": "",
     "delete_cmd_prefix": "del ",
     "library": "var_list.py",
     "varRefreshCmd": "print(var_dic_list())"
    },
    "r": {
     "delete_cmd_postfix": ") ",
     "delete_cmd_prefix": "rm(",
     "library": "var_list.r",
     "varRefreshCmd": "cat(var_dic_list()) "
    }
   },
   "types_to_exclude": [
    "module",
    "function",
    "builtin_function_or_method",
    "instance",
    "_Feature"
   ],
   "window_display": false
  }
 },
 "nbformat": 4,
 "nbformat_minor": 2
}
