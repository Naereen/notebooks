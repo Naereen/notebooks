{
 "cells": [
  {
   "cell_type": "markdown",
   "metadata": {
    "slideshow": {
     "slide_type": "slide"
    }
   },
   "source": [
    "# Demonstration of Pypi package OCaml for polyglot notebook\n",
    "\n",
    "TL;DR: [this Pypi `ocaml` package](https://pypi.org/project/ocaml/) allows to embed a real and complete OCaml runtime (with full standard library) in an IPython console or Jupyter notebook running IPython kernel (Python 3). OCaml functions and tiny programs can then be called directly from the IPython/Jupyter console, and results can be printed, or affected to Python variables! It even supports [Currying](https://en.wikipedia.org/wiki/Currying) multi-argument functions!\n",
    "\n",
    "See also: note, if you really want to use OCaml in a Jupyter notebook, the best solution is [OCaml-jupyter](https://github.com/akabe/ocaml-jupyter/) kernel!\n",
    "(i opened [an issue](https://github.com/akabe/ocaml-jupyter/issues/167) there to present this to the developer, just for his curiosity)"
   ]
  },
  {
   "cell_type": "markdown",
   "metadata": {
    "slideshow": {
     "slide_type": "subslide"
    }
   },
   "source": [
    "- Author: [Lilian Besson (@Naereen)](https://github.com/Naereen/)\n",
    "- Date: 23/02/2021\n",
    "- License: [MIT License](https://lbesson.mit-license.org/)"
   ]
  },
  {
   "cell_type": "markdown",
   "metadata": {
    "slideshow": {
     "slide_type": "subslide"
    }
   },
   "source": [
    "## Introduction\n",
    "\n",
    "> See [this issue](https://github.com/Naereen/notebooks/issues/28) I opened and assigned to myself."
   ]
  },
  {
   "cell_type": "markdown",
   "metadata": {
    "slideshow": {
     "slide_type": "fragment"
    }
   },
   "source": [
    "If you run this:"
   ]
  },
  {
   "cell_type": "code",
   "execution_count": 12,
   "metadata": {
    "ExecuteTime": {
     "end_time": "2021-02-23T02:31:38.720378Z",
     "start_time": "2021-02-23T02:31:38.717772Z"
    },
    "slideshow": {
     "slide_type": "fragment"
    }
   },
   "outputs": [],
   "source": [
    "!pip3 install ocaml"
   ]
  },
  {
   "cell_type": "markdown",
   "metadata": {
    "slideshow": {
     "slide_type": "fragment"
    }
   },
   "source": [
    "Then you can use basic OCaml expressions and standard library... from IPython or Jupyter notebook with IPython kernel, without having to install OCaml yourself on your laptop!\n",
    "It's pre-compiled. I don't know what version thought..."
   ]
  },
  {
   "cell_type": "code",
   "execution_count": 176,
   "metadata": {
    "ExecuteTime": {
     "end_time": "2021-02-23T04:28:17.694520Z",
     "start_time": "2021-02-23T04:28:17.691326Z"
    },
    "slideshow": {
     "slide_type": "subslide"
    }
   },
   "outputs": [],
   "source": [
    "import ocaml"
   ]
  },
  {
   "cell_type": "code",
   "execution_count": 177,
   "metadata": {
    "ExecuteTime": {
     "end_time": "2021-02-23T04:28:18.246375Z",
     "start_time": "2021-02-23T04:28:18.238076Z"
    }
   },
   "outputs": [],
   "source": [
    "answer_to_life = %ocaml 40 + 2"
   ]
  },
  {
   "cell_type": "code",
   "execution_count": 178,
   "metadata": {
    "ExecuteTime": {
     "end_time": "2021-02-23T04:28:18.743192Z",
     "start_time": "2021-02-23T04:28:18.734826Z"
    }
   },
   "outputs": [
    {
     "name": "stdout",
     "output_type": "stream",
     "text": [
      "42\n",
      "<class 'int'>\n"
     ]
    }
   ],
   "source": [
    "print(answer_to_life)\n",
    "print(type(answer_to_life))  # a real integer!"
   ]
  },
  {
   "cell_type": "markdown",
   "metadata": {},
   "source": [
    "It would be a great project to show to students studying Python and C and OCaml : this tiny IPython magic makes the link between Python and OCaml (one way) using OCaml compiled as a dynamic extension to CPython 😍 !"
   ]
  },
  {
   "cell_type": "markdown",
   "metadata": {
    "slideshow": {
     "slide_type": "slide"
    }
   },
   "source": [
    "## Reference and missing documentation of `ocaml` Pypi package\n",
    "\n",
    "This [Jupyter notebook](https://jupyter.org) uses the [ocaml v0.0.11](https://pypi.org/project/ocaml/) package from Pypi.\n",
    "\n",
    "There is no documentation, I asked the [author](https://github.com/LaurentMazare/), who works at [JaneStreet](https://www.janestreet.com/) and he redirected me to [this blog post](https://blog.janestreet.com/using-python-and-ocaml-in-the-same-jupyter-notebook/) by JaneStreet."
   ]
  },
  {
   "cell_type": "markdown",
   "metadata": {
    "slideshow": {
     "slide_type": "subslide"
    }
   },
   "source": [
    "Apparently, being professional developers doesn't mean they restrain themselves from shipping unfinished and undocumented packages to Pypi. Okay... Why? It seems highly unprofessional! I understand being in a hurry, but then just don't publish to Pypi, and let user install it using `pip` but from a Git repository:\n",
    "```bash\n",
    "$ pip install git+https://github.com/<Username>/<Projects>\n",
    "```"
   ]
  },
  {
   "cell_type": "markdown",
   "metadata": {
    "slideshow": {
     "slide_type": "subslide"
    }
   },
   "source": [
    "[Their blog post](https://blog.janestreet.com/using-python-and-ocaml-in-the-same-jupyter-notebook/) states\n",
    "> *Note that this package is not currently very well polished but it should give some ideas of what can be done through this Python-OCaml integration.*\n",
    "\n",
    "But come on, writing a short README or description in the `setup.py` is the least that they should do..."
   ]
  },
  {
   "cell_type": "markdown",
   "metadata": {
    "slideshow": {
     "slide_type": "subslide"
    }
   },
   "source": [
    "Iframe showing the <https://pypi.org/project/ocaml/> page:\n",
    "<iframe src=\"http://pypi.org/project/ocaml/>"
   ]
  },
  {
   "cell_type": "markdown",
   "metadata": {
    "slideshow": {
     "slide_type": "subslide"
    }
   },
   "source": [
    "I don't do that!  See my [Pypi packages](https://pypi.org/user/Naereen/) on <https://pypi.org/user/Naereen/>:\n",
    "\n",
    "> - [lempel-ziv-complexity](https://pypi.org/project/lempel-ziv-complexity) (Last released on Dec 19, 2019): *Fast implementation of the Lempel-Ziv complexity function*.\n",
    "> - [SMPyBandits](https://pypi.org/project/SMPyBandits) (Last released on Oct 25, 2019): *SMPyBandits: Open-Source Python package for Single- and Multi-Players multi-armed Bandits algorithms.*\n",
    "> - [parcoursup](https://pypi.org/project/parcoursup) (Last released on Nov 14, 2018): *ParcourSup.py : un clone en Python 3 de ParcoursSup, écrit à but didactique*.\n",
    "> - [generatewordcloud](https://pypi.org/project/generatewordcloud) (Last released on Oct 16, 2016): *A simple Python (2 or 3) script to generate a PNG word-cloud image from a bunch of text files. Based on word_cloud.*\n",
    "> - [ansicolortags](https://pypi.org/project/ansicolortags) (Last released on Jul 2, 2016): *ansicolortags brings a simple and powerful way to use colours in a terminal application with Python 2 and 3.*"
   ]
  },
  {
   "cell_type": "markdown",
   "metadata": {
    "slideshow": {
     "slide_type": "subslide"
    }
   },
   "source": [
    "Let's show the current version of the package, just for reference:"
   ]
  },
  {
   "cell_type": "code",
   "execution_count": 1,
   "metadata": {
    "ExecuteTime": {
     "end_time": "2021-02-23T02:23:19.621576Z",
     "start_time": "2021-02-23T02:23:19.425289Z"
    }
   },
   "outputs": [],
   "source": [
    "%load_ext watermark"
   ]
  },
  {
   "cell_type": "code",
   "execution_count": 6,
   "metadata": {
    "ExecuteTime": {
     "end_time": "2021-02-23T02:23:48.476499Z",
     "start_time": "2021-02-23T02:23:48.354917Z"
    }
   },
   "outputs": [
    {
     "name": "stdout",
     "output_type": "stream",
     "text": [
      "CPython 3.6.9\n",
      "IPython 7.16.1\n",
      "\n",
      "ocaml 0.0.11\n"
     ]
    }
   ],
   "source": [
    "%watermark -v -p ocaml"
   ]
  },
  {
   "cell_type": "markdown",
   "metadata": {
    "slideshow": {
     "slide_type": "slide"
    }
   },
   "source": [
    "## A first example\n",
    "\n",
    "As for other languages binding, we can have either a full cell, starting with `%%ocaml` :"
   ]
  },
  {
   "cell_type": "code",
   "execution_count": 23,
   "metadata": {
    "ExecuteTime": {
     "end_time": "2021-02-23T02:38:19.254859Z",
     "start_time": "2021-02-23T02:38:19.235065Z"
    }
   },
   "outputs": [
    {
     "name": "stdout",
     "output_type": "stream",
     "text": [
      "Hello world from OCaml running in Jupyter (from IPython)!\n"
     ]
    }
   ],
   "source": [
    "%%ocaml\n",
    "print_endline \"Hello world from OCaml running in Jupyter (from IPython)!\";;"
   ]
  },
  {
   "cell_type": "markdown",
   "metadata": {
    "slideshow": {
     "slide_type": "subslide"
    }
   },
   "source": [
    "Natively, IPython/Jupyter supports [lots of \"magic commands\"](https://ipython.readthedocs.io/en/stable/interactive/magics.html), and especially `%%bash`, `%%perl`, `%%javascript` and `%%ruby` interface to famous scripting languages, and a generic `%%script` one."
   ]
  },
  {
   "cell_type": "code",
   "execution_count": 179,
   "metadata": {
    "ExecuteTime": {
     "end_time": "2021-02-23T04:36:13.019507Z",
     "start_time": "2021-02-23T04:36:12.987422Z"
    }
   },
   "outputs": [
    {
     "name": "stdout",
     "output_type": "stream",
     "text": [
      "Hello world from Bash running in Jupyter (from IPython)\n"
     ]
    }
   ],
   "source": [
    "%%bash\n",
    "echo \"Hello world from Bash running in Jupyter (from IPython)\""
   ]
  },
  {
   "cell_type": "code",
   "execution_count": 180,
   "metadata": {
    "ExecuteTime": {
     "end_time": "2021-02-23T04:36:13.576743Z",
     "start_time": "2021-02-23T04:36:13.528680Z"
    }
   },
   "outputs": [
    {
     "name": "stdout",
     "output_type": "stream",
     "text": [
      "Hello world from Bash running in Jupyter (from IPython)\n"
     ]
    }
   ],
   "source": [
    "%%script bash\n",
    "echo \"Hello world from Bash running in Jupyter (from IPython)\""
   ]
  },
  {
   "cell_type": "markdown",
   "metadata": {
    "slideshow": {
     "slide_type": "subslide"
    }
   },
   "source": [
    "Not that it has been possible, since a long time, to call an OCaml toplevel like this!"
   ]
  },
  {
   "cell_type": "code",
   "execution_count": 35,
   "metadata": {
    "ExecuteTime": {
     "end_time": "2021-02-23T02:47:28.127172Z",
     "start_time": "2021-02-23T02:47:28.066288Z"
    }
   },
   "outputs": [
    {
     "name": "stdout",
     "output_type": "stream",
     "text": [
      "        OCaml version 4.05.0\n",
      "\n",
      "Findlib has been successfully loaded. Additional directives:\n",
      "  #require \"package\";;      to load a package\n",
      "  #list;;                   to list the available packages\n",
      "  #camlp4o;;                to load camlp4 (standard syntax)\n",
      "  #camlp4r;;                to load camlp4 (revised syntax)\n",
      "  #predicates \"p,q,...\";;   to set these predicates\n",
      "  Topfind.reset();;         to force that packages will be reloaded\n",
      "  #thread;;                 to enable threads\n",
      "\n",
      "# Hello world from OCaml running in Jupyter (from IPython)!\n",
      "- : unit = ()\n",
      "# \n"
     ]
    }
   ],
   "source": [
    "%%script ocaml\n",
    "print_endline \"Hello world from OCaml running in Jupyter (from IPython)!\";;"
   ]
  },
  {
   "cell_type": "markdown",
   "metadata": {
    "slideshow": {
     "slide_type": "subslide"
    }
   },
   "source": [
    "But it does nothing else than opening a sub-process, running `ocaml` command, feeding it the content of the cell, and then exiting.\n",
    "\n",
    "- Cons: It's not so pretty, as it prints all this startup messages. I thought we could silent them, like `python -q` (quiet) option... but we can't!\n",
    "- Pros: it shows the value of each line, so it can be used to quickly check something, if needed..."
   ]
  },
  {
   "cell_type": "markdown",
   "metadata": {
    "slideshow": {
     "slide_type": "slide"
    }
   },
   "source": [
    "## More full `%%ocaml` cells"
   ]
  },
  {
   "cell_type": "code",
   "execution_count": 53,
   "metadata": {
    "ExecuteTime": {
     "end_time": "2021-02-23T02:55:00.128028Z",
     "start_time": "2021-02-23T02:54:59.757972Z"
    }
   },
   "outputs": [
    {
     "name": "stdout",
     "output_type": "stream",
     "text": [
      "\n",
      "List of size 300000 had sum = 8999955009050000.\n",
      "List of size 300001 had sum = 9000045009050030.\n",
      "List of size 300002 had sum = 9000135009650061.\n",
      "List of size 300003 had sum = 9000225010850095.\n",
      "List of size 300004 had sum = 9000315012650134.\n",
      "List of size 300005 had sum = 9000405015050180.\n",
      "List of size 300006 had sum = 9000495018050235.\n",
      "List of size 300007 had sum = 9000585021650301.\n",
      "List of size 300008 had sum = 9000675025850380.\n",
      "List of size 300009 had sum = 9000765030650474.\n",
      "List of size 300010 had sum = 9000855036050585."
     ]
    }
   ],
   "source": [
    "%%ocaml\n",
    "let sum : (int list -> int) = List.fold_left (+) 0 in\n",
    "let a_list (n:int) : int list = Array.to_list (Array.init n (fun i -> i*i+30)) in\n",
    "for n = 300000 to 300010 do\n",
    "    Format.printf \"\\nList of size %2.i had sum = %4.i.%!\" n (sum (a_list n));\n",
    "done;;"
   ]
  },
  {
   "cell_type": "markdown",
   "metadata": {
    "slideshow": {
     "slide_type": "subslide"
    }
   },
   "source": [
    "As I was saying, using `%%script ocaml` allows to quickly check things, like for instance the interface of a module!"
   ]
  },
  {
   "cell_type": "code",
   "execution_count": 38,
   "metadata": {
    "ExecuteTime": {
     "end_time": "2021-02-23T02:50:05.928100Z",
     "start_time": "2021-02-23T02:50:05.853498Z"
    },
    "scrolled": true
   },
   "outputs": [
    {
     "name": "stdout",
     "output_type": "stream",
     "text": [
      "        OCaml version 4.05.0\n",
      "\n",
      "Findlib has been successfully loaded. Additional directives:\n",
      "  #require \"package\";;      to load a package\n",
      "  #list;;                   to list the available packages\n",
      "  #camlp4o;;                to load camlp4 (standard syntax)\n",
      "  #camlp4r;;                to load camlp4 (revised syntax)\n",
      "  #predicates \"p,q,...\";;   to set these predicates\n",
      "  Topfind.reset();;         to force that packages will be reloaded\n",
      "  #thread;;                 to enable threads\n",
      "\n",
      "# module Array :\n",
      "  sig\n",
      "    external length : 'a array -> int = \"%array_length\"\n",
      "    external get : 'a array -> int -> 'a = \"%array_safe_get\"\n",
      "    external set : 'a array -> int -> 'a -> unit = \"%array_safe_set\"\n",
      "    external make : int -> 'a -> 'a array = \"caml_make_vect\"\n",
      "    external create : int -> 'a -> 'a array = \"caml_make_vect\"\n",
      "    external create_float : int -> float array = \"caml_make_float_vect\"\n",
      "    val make_float : int -> float array\n",
      "    val init : int -> (int -> 'a) -> 'a array\n",
      "    val make_matrix : int -> int -> 'a -> 'a array array\n",
      "    val create_matrix : int -> int -> 'a -> 'a array array\n",
      "    val append : 'a array -> 'a array -> 'a array\n",
      "    val concat : 'a array list -> 'a array\n",
      "    val sub : 'a array -> int -> int -> 'a array\n",
      "    val copy : 'a array -> 'a array\n",
      "    val fill : 'a array -> int -> int -> 'a -> unit\n",
      "    val blit : 'a array -> int -> 'a array -> int -> int -> unit\n",
      "    val to_list : 'a array -> 'a list\n",
      "    val of_list : 'a list -> 'a array\n",
      "    val iter : ('a -> unit) -> 'a array -> unit\n",
      "    val iteri : (int -> 'a -> unit) -> 'a array -> unit\n",
      "    val map : ('a -> 'b) -> 'a array -> 'b array\n",
      "    val mapi : (int -> 'a -> 'b) -> 'a array -> 'b array\n",
      "    val fold_left : ('a -> 'b -> 'a) -> 'a -> 'b array -> 'a\n",
      "    val fold_right : ('b -> 'a -> 'a) -> 'b array -> 'a -> 'a\n",
      "    val iter2 : ('a -> 'b -> unit) -> 'a array -> 'b array -> unit\n",
      "    val map2 : ('a -> 'b -> 'c) -> 'a array -> 'b array -> 'c array\n",
      "    val for_all : ('a -> bool) -> 'a array -> bool\n",
      "    val exists : ('a -> bool) -> 'a array -> bool\n",
      "    val mem : 'a -> 'a array -> bool\n",
      "    val memq : 'a -> 'a array -> bool\n",
      "    val sort : ('a -> 'a -> int) -> 'a array -> unit\n",
      "    val stable_sort : ('a -> 'a -> int) -> 'a array -> unit\n",
      "    val fast_sort : ('a -> 'a -> int) -> 'a array -> unit\n",
      "    external unsafe_get : 'a array -> int -> 'a = \"%array_unsafe_get\"\n",
      "    external unsafe_set : 'a array -> int -> 'a -> unit = \"%array_unsafe_set\"\n",
      "  end\n",
      "# \n"
     ]
    }
   ],
   "source": [
    "%%script ocaml\n",
    "#show Array;;"
   ]
  },
  {
   "cell_type": "markdown",
   "metadata": {
    "slideshow": {
     "slide_type": "slide"
    }
   },
   "source": [
    "## Using OCaml returned values from Python\n",
    "\n",
    "This package allows to use dynamically defined OCaml functions *from* Python, the same way it can be done for other languages lke Julia or R (see [this blog post](https://blog.jupyter.org/i-python-you-r-we-julia-baf064ca1fb6) if you never saw these possibilities, or [this one](https://matthiasbussonnier.com/posts/23-Cross-Language-Integration.html))."
   ]
  },
  {
   "cell_type": "markdown",
   "metadata": {
    "slideshow": {
     "slide_type": "subslide"
    }
   },
   "source": [
    "For instance:"
   ]
  },
  {
   "cell_type": "code",
   "execution_count": 192,
   "metadata": {
    "ExecuteTime": {
     "end_time": "2021-02-23T04:46:54.379207Z",
     "start_time": "2021-02-23T04:46:54.349908Z"
    },
    "slideshow": {
     "slide_type": "-"
    }
   },
   "outputs": [
    {
     "name": "stdout",
     "output_type": "stream",
     "text": [
      "<class 'bool'> True\n",
      "<class 'str'> OK ?\n",
      "<class 'int'> 2021\n",
      "<class 'float'> 2.99792458\n"
     ]
    }
   ],
   "source": [
    "b = %ocaml true\n",
    "print(type(b), b)\n",
    "\n",
    "s = %ocaml \"OK ?\"\n",
    "print(type(s), s)\n",
    "\n",
    "i = %ocaml 2021\n",
    "print(type(i), i)\n",
    "\n",
    "f = %ocaml 2.99792458\n",
    "print(type(f), f)"
   ]
  },
  {
   "cell_type": "markdown",
   "metadata": {},
   "source": [
    "So booleans, strings, integers and floats get perfectly mapped from OCaml values to Python native values."
   ]
  },
  {
   "cell_type": "code",
   "execution_count": 182,
   "metadata": {
    "ExecuteTime": {
     "end_time": "2021-02-23T04:37:52.784857Z",
     "start_time": "2021-02-23T04:37:52.754395Z"
    },
    "slideshow": {
     "slide_type": "subslide"
    }
   },
   "outputs": [
    {
     "name": "stdout",
     "output_type": "stream",
     "text": [
      "<class 'list'> [(1, 3, 5)]\n",
      "<class 'list'> [2, 4, 6]\n",
      "<class 'tuple'> (23, 2, 2021)\n"
     ]
    }
   ],
   "source": [
    "l = %ocaml [1, 3, 5]\n",
    "print(type(l), l)\n",
    "\n",
    "a = %ocaml [|2; 4; 6|]\n",
    "print(type(a), a)\n",
    "\n",
    "t = %ocaml (23, 02, 2021)\n",
    "print(type(t), t)"
   ]
  },
  {
   "cell_type": "markdown",
   "metadata": {},
   "source": [
    "So `'a list`, `'a array` and `'a * 'b * ..` heterogeneous tuples get perfectly mapped from OCaml values to Python native values!"
   ]
  },
  {
   "cell_type": "markdown",
   "metadata": {
    "slideshow": {
     "slide_type": "subslide"
    }
   },
   "source": [
    "But it's not perfect, as for instance OCaml has a `char` type (similar to the one in C) but Python only has strings, so this'll fail:\n",
    "\n",
    "`ValueError: ocaml error (Failure\"unknown type char\")`"
   ]
  },
  {
   "cell_type": "code",
   "execution_count": 183,
   "metadata": {
    "ExecuteTime": {
     "end_time": "2021-02-23T04:37:57.025514Z",
     "start_time": "2021-02-23T04:37:56.847273Z"
    }
   },
   "outputs": [
    {
     "ename": "ValueError",
     "evalue": "ocaml error (Failure\"unknown type char\")",
     "output_type": "error",
     "traceback": [
      "\u001b[0;31m---------------------------------------------------------------------------\u001b[0m",
      "\u001b[0;31mValueError\u001b[0m                                Traceback (most recent call last)",
      "\u001b[0;32m<ipython-input-183-19c1c29bb9b1>\u001b[0m in \u001b[0;36m<module>\u001b[0;34m\u001b[0m\n\u001b[0;32m----> 1\u001b[0;31m \u001b[0mc\u001b[0m \u001b[0;34m=\u001b[0m \u001b[0mget_ipython\u001b[0m\u001b[0;34m(\u001b[0m\u001b[0;34m)\u001b[0m\u001b[0;34m.\u001b[0m\u001b[0mrun_line_magic\u001b[0m\u001b[0;34m(\u001b[0m\u001b[0;34m'ocaml'\u001b[0m\u001b[0;34m,\u001b[0m \u001b[0;34m\"'C'\"\u001b[0m\u001b[0;34m)\u001b[0m\u001b[0;34m\u001b[0m\u001b[0;34m\u001b[0m\u001b[0m\n\u001b[0m\u001b[1;32m      2\u001b[0m \u001b[0mprint\u001b[0m\u001b[0;34m(\u001b[0m\u001b[0mtype\u001b[0m\u001b[0;34m(\u001b[0m\u001b[0mc\u001b[0m\u001b[0;34m)\u001b[0m\u001b[0;34m,\u001b[0m \u001b[0mc\u001b[0m\u001b[0;34m)\u001b[0m\u001b[0;34m\u001b[0m\u001b[0;34m\u001b[0m\u001b[0m\n",
      "\u001b[0;32m/usr/local/lib/python3.6/dist-packages/IPython/core/interactiveshell.py\u001b[0m in \u001b[0;36mrun_line_magic\u001b[0;34m(self, magic_name, line, _stack_depth)\u001b[0m\n\u001b[1;32m   2324\u001b[0m                 \u001b[0mkwargs\u001b[0m\u001b[0;34m[\u001b[0m\u001b[0;34m'local_ns'\u001b[0m\u001b[0;34m]\u001b[0m \u001b[0;34m=\u001b[0m \u001b[0msys\u001b[0m\u001b[0;34m.\u001b[0m\u001b[0m_getframe\u001b[0m\u001b[0;34m(\u001b[0m\u001b[0mstack_depth\u001b[0m\u001b[0;34m)\u001b[0m\u001b[0;34m.\u001b[0m\u001b[0mf_locals\u001b[0m\u001b[0;34m\u001b[0m\u001b[0;34m\u001b[0m\u001b[0m\n\u001b[1;32m   2325\u001b[0m             \u001b[0;32mwith\u001b[0m \u001b[0mself\u001b[0m\u001b[0;34m.\u001b[0m\u001b[0mbuiltin_trap\u001b[0m\u001b[0;34m:\u001b[0m\u001b[0;34m\u001b[0m\u001b[0;34m\u001b[0m\u001b[0m\n\u001b[0;32m-> 2326\u001b[0;31m                 \u001b[0mresult\u001b[0m \u001b[0;34m=\u001b[0m \u001b[0mfn\u001b[0m\u001b[0;34m(\u001b[0m\u001b[0;34m*\u001b[0m\u001b[0margs\u001b[0m\u001b[0;34m,\u001b[0m \u001b[0;34m**\u001b[0m\u001b[0mkwargs\u001b[0m\u001b[0;34m)\u001b[0m\u001b[0;34m\u001b[0m\u001b[0;34m\u001b[0m\u001b[0m\n\u001b[0m\u001b[1;32m   2327\u001b[0m             \u001b[0;32mreturn\u001b[0m \u001b[0mresult\u001b[0m\u001b[0;34m\u001b[0m\u001b[0;34m\u001b[0m\u001b[0m\n\u001b[1;32m   2328\u001b[0m \u001b[0;34m\u001b[0m\u001b[0m\n",
      "\u001b[0;32m/usr/local/lib/python3.6/dist-packages/ocaml/__init__.py\u001b[0m in \u001b[0;36mocaml\u001b[0;34m(line)\u001b[0m\n\u001b[1;32m     13\u001b[0m     \u001b[0;32mdef\u001b[0m \u001b[0mocaml\u001b[0m\u001b[0;34m(\u001b[0m\u001b[0mline\u001b[0m\u001b[0;34m)\u001b[0m\u001b[0;34m:\u001b[0m\u001b[0;34m\u001b[0m\u001b[0;34m\u001b[0m\u001b[0m\n\u001b[1;32m     14\u001b[0m       \u001b[0;32mwith\u001b[0m \u001b[0msys_pipes\u001b[0m\u001b[0;34m(\u001b[0m\u001b[0;34m)\u001b[0m\u001b[0;34m:\u001b[0m\u001b[0;34m\u001b[0m\u001b[0;34m\u001b[0m\u001b[0m\n\u001b[0;32m---> 15\u001b[0;31m         \u001b[0;32mreturn\u001b[0m \u001b[0mtoploop\u001b[0m\u001b[0;34m.\u001b[0m\u001b[0mget\u001b[0m\u001b[0;34m(\u001b[0m\u001b[0mline\u001b[0m\u001b[0;34m)\u001b[0m\u001b[0;34m\u001b[0m\u001b[0;34m\u001b[0m\u001b[0m\n\u001b[0m\u001b[1;32m     16\u001b[0m \u001b[0;34m\u001b[0m\u001b[0m\n\u001b[1;32m     17\u001b[0m     \u001b[0;32mdel\u001b[0m \u001b[0mocaml\u001b[0m\u001b[0;34m\u001b[0m\u001b[0;34m\u001b[0m\u001b[0m\n",
      "\u001b[0;31mValueError\u001b[0m: ocaml error (Failure\"unknown type char\")"
     ]
    }
   ],
   "source": [
    "c = %ocaml 'C'\n",
    "print(type(c), c)"
   ]
  },
  {
   "cell_type": "markdown",
   "metadata": {
    "slideshow": {
     "slide_type": "subslide"
    }
   },
   "source": [
    "And for functions:"
   ]
  },
  {
   "cell_type": "code",
   "execution_count": 185,
   "metadata": {
    "ExecuteTime": {
     "end_time": "2021-02-23T04:39:23.398954Z",
     "start_time": "2021-02-23T04:39:23.386947Z"
    }
   },
   "outputs": [],
   "source": [
    "sum_ocaml_1 = %ocaml let sum : (int list -> int) = List.fold_left (+) 0 in sum"
   ]
  },
  {
   "cell_type": "code",
   "execution_count": 188,
   "metadata": {
    "ExecuteTime": {
     "end_time": "2021-02-23T04:39:35.981393Z",
     "start_time": "2021-02-23T04:39:35.978005Z"
    }
   },
   "outputs": [
    {
     "name": "stdout",
     "output_type": "stream",
     "text": [
      "<built-in method anonymous_closure of PyCapsule object at 0x7ff259159120> <class 'builtin_function_or_method'>\n"
     ]
    }
   ],
   "source": [
    "print(sum_ocaml_1, type(sum_ocaml_1))"
   ]
  },
  {
   "cell_type": "code",
   "execution_count": 189,
   "metadata": {
    "ExecuteTime": {
     "end_time": "2021-02-23T04:39:37.172737Z",
     "start_time": "2021-02-23T04:39:37.166763Z"
    }
   },
   "outputs": [
    {
     "data": {
      "text/plain": [
       "15"
      ]
     },
     "execution_count": 189,
     "metadata": {},
     "output_type": "execute_result"
    }
   ],
   "source": [
    "sum_ocaml_1 ([1, 2, 3, 4, 5])  # 15"
   ]
  },
  {
   "cell_type": "markdown",
   "metadata": {
    "slideshow": {
     "slide_type": "subslide"
    }
   },
   "source": [
    "Or simply"
   ]
  },
  {
   "cell_type": "code",
   "execution_count": 62,
   "metadata": {
    "ExecuteTime": {
     "end_time": "2021-02-23T02:57:09.743709Z",
     "start_time": "2021-02-23T02:57:09.731485Z"
    }
   },
   "outputs": [],
   "source": [
    "sum_ocaml_2 = %ocaml List.fold_left (+) 0"
   ]
  },
  {
   "cell_type": "code",
   "execution_count": 63,
   "metadata": {
    "ExecuteTime": {
     "end_time": "2021-02-23T02:57:10.159585Z",
     "start_time": "2021-02-23T02:57:10.154765Z"
    }
   },
   "outputs": [
    {
     "data": {
      "text/plain": [
       "15"
      ]
     },
     "execution_count": 63,
     "metadata": {},
     "output_type": "execute_result"
    }
   ],
   "source": [
    "sum_ocaml_2 ([1, 2, 3, 4, 5])  # 15"
   ]
  },
  {
   "cell_type": "markdown",
   "metadata": {
    "slideshow": {
     "slide_type": "subslide"
    }
   },
   "source": [
    "What about user defined types?"
   ]
  },
  {
   "cell_type": "code",
   "execution_count": 190,
   "metadata": {
    "ExecuteTime": {
     "end_time": "2021-02-23T04:39:59.862267Z",
     "start_time": "2021-02-23T04:39:59.846290Z"
    }
   },
   "outputs": [
    {
     "name": "stdout",
     "output_type": "stream",
     "text": [
      "TODO"
     ]
    }
   ],
   "source": [
    "%%ocaml\n",
    "type state = TODO | DONE | Unknown of string;;\n",
    "\n",
    "let print_state (s:state) =\n",
    "    match s with\n",
    "    | TODO -> Format.printf \"TODO%!\"\n",
    "    | DONE -> Format.printf \"DONE%!\"\n",
    "    | Unknown status -> Format.printf \"%s%!\" status\n",
    ";;\n",
    "\n",
    "print_state TODO;;"
   ]
  },
  {
   "cell_type": "markdown",
   "metadata": {
    "slideshow": {
     "slide_type": "subslide"
    }
   },
   "source": [
    "It fails:\n",
    "```\n",
    "SyntaxError: ocaml evaluation error on lines 1:11 to 1:15\n",
    "Error: \n",
    ">  1: let out = (type TODO | DONE);;\n",
    "Syntax error: operator expected.\n",
    "```"
   ]
  },
  {
   "cell_type": "code",
   "execution_count": 191,
   "metadata": {
    "ExecuteTime": {
     "end_time": "2021-02-23T04:40:28.067391Z",
     "start_time": "2021-02-23T04:40:28.057600Z"
    },
    "slideshow": {
     "slide_type": "fragment"
    }
   },
   "outputs": [
    {
     "ename": "SyntaxError",
     "evalue": "ocaml evaluation error on lines 1:11 to 1:15\nError: \n>  1: let out = (type TODO | DONE);;\nSyntax error: operator expected.\n (<string>)",
     "output_type": "error",
     "traceback": [
      "Traceback \u001b[0;36m(most recent call last)\u001b[0m:\n",
      "  File \u001b[1;32m\"/usr/local/lib/python3.6/dist-packages/IPython/core/interactiveshell.py\"\u001b[0m, line \u001b[1;32m3343\u001b[0m, in \u001b[1;35mrun_code\u001b[0m\n    exec(code_obj, self.user_global_ns, self.user_ns)\n",
      "  File \u001b[1;32m\"<ipython-input-191-92828381558a>\"\u001b[0m, line \u001b[1;32m1\u001b[0m, in \u001b[1;35m<module>\u001b[0m\n    t = get_ipython().run_line_magic('ocaml', 'type TODO\\xa0| DONE')\n",
      "  File \u001b[1;32m\"/usr/local/lib/python3.6/dist-packages/IPython/core/interactiveshell.py\"\u001b[0m, line \u001b[1;32m2326\u001b[0m, in \u001b[1;35mrun_line_magic\u001b[0m\n    result = fn(*args, **kwargs)\n",
      "\u001b[0;36m  File \u001b[0;32m\"/usr/local/lib/python3.6/dist-packages/ocaml/__init__.py\"\u001b[0;36m, line \u001b[0;32m15\u001b[0;36m, in \u001b[0;35mocaml\u001b[0;36m\u001b[0m\n\u001b[0;31m    return toploop.get(line)\u001b[0m\n",
      "\u001b[0;36m  File \u001b[0;32m\"<string>\"\u001b[0;36m, line \u001b[0;32munknown\u001b[0m\n\u001b[0;31mSyntaxError\u001b[0m\u001b[0;31m:\u001b[0m ocaml evaluation error on lines 1:11 to 1:15\nError: \n>  1: let out = (type TODO | DONE);;\nSyntax error: operator expected.\n\n"
     ]
    }
   ],
   "source": [
    "t = %ocaml type TODO | DONE"
   ]
  },
  {
   "cell_type": "markdown",
   "metadata": {},
   "source": [
    "Indeed the `%ocam` magic only works for *expression*, with no `;;`."
   ]
  },
  {
   "cell_type": "markdown",
   "metadata": {
    "slideshow": {
     "slide_type": "slide"
    }
   },
   "source": [
    "## More datatypes conversions to Python?\n",
    "\n",
    "We can still explore:\n",
    "- references, `let x = ref 1`\n",
    "- polymorphic functions like `let smaller (x: 'a) (y: 'a) : true = x < y` \n",
    "- `'a option` type\n",
    "- functions with labels\n",
    "- records\n",
    "- polymorphic variants ?\n",
    "\n",
    "Fore reference, see <https://github.com/janestreet/ppx_python#conversions>"
   ]
  },
  {
   "cell_type": "markdown",
   "metadata": {
    "slideshow": {
     "slide_type": "subslide"
    }
   },
   "source": [
    "### References - fail"
   ]
  },
  {
   "cell_type": "code",
   "execution_count": 198,
   "metadata": {
    "ExecuteTime": {
     "end_time": "2021-02-23T04:49:54.622648Z",
     "start_time": "2021-02-23T04:49:54.609397Z"
    }
   },
   "outputs": [
    {
     "ename": "ValueError",
     "evalue": "ocaml error (Failure\"unknown type ref\")",
     "output_type": "error",
     "traceback": [
      "\u001b[0;31m---------------------------------------------------------------------------\u001b[0m",
      "\u001b[0;31mValueError\u001b[0m                                Traceback (most recent call last)",
      "\u001b[0;32m<ipython-input-198-8acf58a91aa8>\u001b[0m in \u001b[0;36m<module>\u001b[0;34m\u001b[0m\n\u001b[0;32m----> 1\u001b[0;31m \u001b[0mxref\u001b[0m \u001b[0;34m=\u001b[0m \u001b[0mget_ipython\u001b[0m\u001b[0;34m(\u001b[0m\u001b[0;34m)\u001b[0m\u001b[0;34m.\u001b[0m\u001b[0mrun_line_magic\u001b[0m\u001b[0;34m(\u001b[0m\u001b[0;34m'ocaml'\u001b[0m\u001b[0;34m,\u001b[0m \u001b[0;34m'ref 1'\u001b[0m\u001b[0;34m)\u001b[0m\u001b[0;34m\u001b[0m\u001b[0;34m\u001b[0m\u001b[0m\n\u001b[0m",
      "\u001b[0;32m/usr/local/lib/python3.6/dist-packages/IPython/core/interactiveshell.py\u001b[0m in \u001b[0;36mrun_line_magic\u001b[0;34m(self, magic_name, line, _stack_depth)\u001b[0m\n\u001b[1;32m   2324\u001b[0m                 \u001b[0mkwargs\u001b[0m\u001b[0;34m[\u001b[0m\u001b[0;34m'local_ns'\u001b[0m\u001b[0;34m]\u001b[0m \u001b[0;34m=\u001b[0m \u001b[0msys\u001b[0m\u001b[0;34m.\u001b[0m\u001b[0m_getframe\u001b[0m\u001b[0;34m(\u001b[0m\u001b[0mstack_depth\u001b[0m\u001b[0;34m)\u001b[0m\u001b[0;34m.\u001b[0m\u001b[0mf_locals\u001b[0m\u001b[0;34m\u001b[0m\u001b[0;34m\u001b[0m\u001b[0m\n\u001b[1;32m   2325\u001b[0m             \u001b[0;32mwith\u001b[0m \u001b[0mself\u001b[0m\u001b[0;34m.\u001b[0m\u001b[0mbuiltin_trap\u001b[0m\u001b[0;34m:\u001b[0m\u001b[0;34m\u001b[0m\u001b[0;34m\u001b[0m\u001b[0m\n\u001b[0;32m-> 2326\u001b[0;31m                 \u001b[0mresult\u001b[0m \u001b[0;34m=\u001b[0m \u001b[0mfn\u001b[0m\u001b[0;34m(\u001b[0m\u001b[0;34m*\u001b[0m\u001b[0margs\u001b[0m\u001b[0;34m,\u001b[0m \u001b[0;34m**\u001b[0m\u001b[0mkwargs\u001b[0m\u001b[0;34m)\u001b[0m\u001b[0;34m\u001b[0m\u001b[0;34m\u001b[0m\u001b[0m\n\u001b[0m\u001b[1;32m   2327\u001b[0m             \u001b[0;32mreturn\u001b[0m \u001b[0mresult\u001b[0m\u001b[0;34m\u001b[0m\u001b[0;34m\u001b[0m\u001b[0m\n\u001b[1;32m   2328\u001b[0m \u001b[0;34m\u001b[0m\u001b[0m\n",
      "\u001b[0;32m/usr/local/lib/python3.6/dist-packages/ocaml/__init__.py\u001b[0m in \u001b[0;36mocaml\u001b[0;34m(line)\u001b[0m\n\u001b[1;32m     13\u001b[0m     \u001b[0;32mdef\u001b[0m \u001b[0mocaml\u001b[0m\u001b[0;34m(\u001b[0m\u001b[0mline\u001b[0m\u001b[0;34m)\u001b[0m\u001b[0;34m:\u001b[0m\u001b[0;34m\u001b[0m\u001b[0;34m\u001b[0m\u001b[0m\n\u001b[1;32m     14\u001b[0m       \u001b[0;32mwith\u001b[0m \u001b[0msys_pipes\u001b[0m\u001b[0;34m(\u001b[0m\u001b[0;34m)\u001b[0m\u001b[0;34m:\u001b[0m\u001b[0;34m\u001b[0m\u001b[0;34m\u001b[0m\u001b[0m\n\u001b[0;32m---> 15\u001b[0;31m         \u001b[0;32mreturn\u001b[0m \u001b[0mtoploop\u001b[0m\u001b[0;34m.\u001b[0m\u001b[0mget\u001b[0m\u001b[0;34m(\u001b[0m\u001b[0mline\u001b[0m\u001b[0;34m)\u001b[0m\u001b[0;34m\u001b[0m\u001b[0;34m\u001b[0m\u001b[0m\n\u001b[0m\u001b[1;32m     16\u001b[0m \u001b[0;34m\u001b[0m\u001b[0m\n\u001b[1;32m     17\u001b[0m     \u001b[0;32mdel\u001b[0m \u001b[0mocaml\u001b[0m\u001b[0;34m\u001b[0m\u001b[0;34m\u001b[0m\u001b[0m\n",
      "\u001b[0;31mValueError\u001b[0m: ocaml error (Failure\"unknown type ref\")"
     ]
    }
   ],
   "source": [
    "xref = %ocaml ref 1"
   ]
  },
  {
   "cell_type": "markdown",
   "metadata": {
    "slideshow": {
     "slide_type": "subslide"
    }
   },
   "source": [
    "### Polymorphic function - works!"
   ]
  },
  {
   "cell_type": "code",
   "execution_count": 222,
   "metadata": {
    "ExecuteTime": {
     "end_time": "2021-02-23T05:06:27.720251Z",
     "start_time": "2021-02-23T05:06:27.710053Z"
    },
    "slideshow": {
     "slide_type": "-"
    }
   },
   "outputs": [
    {
     "name": "stdout",
     "output_type": "stream",
     "text": [
      "<built-in method anonymous_closure of PyCapsule object at 0x7ff259179f30> <class 'builtin_function_or_method'>\n"
     ]
    }
   ],
   "source": [
    "cons = %ocaml fun hd tl -> hd :: tl\n",
    "print(cons, type(cons))"
   ]
  },
  {
   "cell_type": "code",
   "execution_count": 217,
   "metadata": {
    "ExecuteTime": {
     "end_time": "2021-02-23T05:05:23.774460Z",
     "start_time": "2021-02-23T05:05:23.768470Z"
    }
   },
   "outputs": [
    {
     "data": {
      "text/plain": [
       "[10, 20, 30]"
      ]
     },
     "execution_count": 217,
     "metadata": {},
     "output_type": "execute_result"
    }
   ],
   "source": [
    "cons(10)([20, 30])"
   ]
  },
  {
   "cell_type": "code",
   "execution_count": 221,
   "metadata": {
    "ExecuteTime": {
     "end_time": "2021-02-23T05:05:43.237011Z",
     "start_time": "2021-02-23T05:05:43.231596Z"
    },
    "slideshow": {
     "slide_type": "subslide"
    }
   },
   "outputs": [
    {
     "data": {
      "text/plain": [
       "[1.0, 2.0, 30]"
      ]
     },
     "execution_count": 221,
     "metadata": {},
     "output_type": "execute_result"
    }
   ],
   "source": [
    "cons(1.0)([2.0, 30])"
   ]
  },
  {
   "cell_type": "markdown",
   "metadata": {},
   "source": [
    "Woooo, somehow OCaml accepted a polymorphic list at some point?"
   ]
  },
  {
   "cell_type": "code",
   "execution_count": 208,
   "metadata": {
    "ExecuteTime": {
     "end_time": "2021-02-23T05:03:23.859310Z",
     "start_time": "2021-02-23T05:03:23.846990Z"
    },
    "slideshow": {
     "slide_type": "subslide"
    }
   },
   "outputs": [],
   "source": [
    "head, tail = %ocaml List.hd, List.tl"
   ]
  },
  {
   "cell_type": "code",
   "execution_count": 211,
   "metadata": {
    "ExecuteTime": {
     "end_time": "2021-02-23T05:04:01.858568Z",
     "start_time": "2021-02-23T05:04:01.853220Z"
    }
   },
   "outputs": [
    {
     "data": {
      "text/plain": [
       "(1, [2, 3, [1, 2, 3, [...]]])"
      ]
     },
     "execution_count": 211,
     "metadata": {},
     "output_type": "execute_result"
    }
   ],
   "source": [
    "a_list = [1, 2, 3]\n",
    "a_list.append(a_list)\n",
    "head(a_list), tail(a_list)"
   ]
  },
  {
   "cell_type": "markdown",
   "metadata": {},
   "source": [
    "Another example:"
   ]
  },
  {
   "cell_type": "code",
   "execution_count": 201,
   "metadata": {
    "ExecuteTime": {
     "end_time": "2021-02-23T04:51:03.365262Z",
     "start_time": "2021-02-23T04:51:03.350071Z"
    },
    "slideshow": {
     "slide_type": "subslide"
    }
   },
   "outputs": [
    {
     "name": "stdout",
     "output_type": "stream",
     "text": [
      "<built-in method anonymous_closure of PyCapsule object at 0x7ff25cf80a20>\n",
      "Help on built-in function anonymous_closure:\n",
      "\n",
      "anonymous_closure(...) method of builtins.PyCapsule instance\n",
      "    int -> int -> bool\n",
      "\n"
     ]
    }
   ],
   "source": [
    "smaller = %ocaml fun (x: int) (y: int) -> x < y\n",
    "print(smaller)\n",
    "help(smaller)"
   ]
  },
  {
   "cell_type": "code",
   "execution_count": 202,
   "metadata": {
    "ExecuteTime": {
     "end_time": "2021-02-23T04:51:11.290615Z",
     "start_time": "2021-02-23T04:51:11.279198Z"
    }
   },
   "outputs": [
    {
     "name": "stdout",
     "output_type": "stream",
     "text": [
      "<built-in method anonymous_closure of PyCapsule object at 0x7ff259179ea0>\n",
      "Help on built-in function anonymous_closure:\n",
      "\n",
      "anonymous_closure(...) method of builtins.PyCapsule instance\n",
      "    pyobject -> pyobject -> bool\n",
      "\n"
     ]
    }
   ],
   "source": [
    "smaller_poly = %ocaml fun (x: 'a) (y: 'a) -> x < y\n",
    "print(smaller_poly)\n",
    "help(smaller_poly)"
   ]
  },
  {
   "cell_type": "markdown",
   "metadata": {
    "slideshow": {
     "slide_type": "slide"
    }
   },
   "source": [
    "### Option type"
   ]
  },
  {
   "cell_type": "code",
   "execution_count": 204,
   "metadata": {
    "ExecuteTime": {
     "end_time": "2021-02-23T04:51:55.932941Z",
     "start_time": "2021-02-23T04:51:55.925247Z"
    }
   },
   "outputs": [
    {
     "name": "stdout",
     "output_type": "stream",
     "text": [
      "None <class 'NoneType'>\n"
     ]
    }
   ],
   "source": [
    "none = %ocaml None\n",
    "print(none, type(none))"
   ]
  },
  {
   "cell_type": "code",
   "execution_count": 205,
   "metadata": {
    "ExecuteTime": {
     "end_time": "2021-02-23T04:52:18.715203Z",
     "start_time": "2021-02-23T04:52:18.702963Z"
    }
   },
   "outputs": [
    {
     "name": "stdout",
     "output_type": "stream",
     "text": [
      "42 <class 'int'>\n"
     ]
    }
   ],
   "source": [
    "some_int = %ocaml Some 42\n",
    "print(some_int, type(some_int))"
   ]
  },
  {
   "cell_type": "code",
   "execution_count": 206,
   "metadata": {
    "ExecuteTime": {
     "end_time": "2021-02-23T04:52:42.025824Z",
     "start_time": "2021-02-23T04:52:42.015356Z"
    },
    "slideshow": {
     "slide_type": "subslide"
    }
   },
   "outputs": [
    {
     "name": "stdout",
     "output_type": "stream",
     "text": [
      "None <class 'NoneType'>\n"
     ]
    }
   ],
   "source": [
    "# instinguishable from None, so that's weird!\n",
    "some_None = %ocaml Some None\n",
    "print(some_None, type(some_None))"
   ]
  },
  {
   "cell_type": "markdown",
   "metadata": {},
   "source": [
    "Note that this limitation was explained:\n",
    "\n",
    "> *Note that this makes the two OCaml values `[Some None]` and `[None]` indistinguishable on the Python side as both are represented using `None`.*"
   ]
  },
  {
   "cell_type": "markdown",
   "metadata": {
    "slideshow": {
     "slide_type": "subslide"
    }
   },
   "source": [
    "### Functions with labels - labels get erased"
   ]
  },
  {
   "cell_type": "code",
   "execution_count": 227,
   "metadata": {
    "ExecuteTime": {
     "end_time": "2021-02-23T05:07:43.917288Z",
     "start_time": "2021-02-23T05:07:43.906356Z"
    }
   },
   "outputs": [
    {
     "name": "stdout",
     "output_type": "stream",
     "text": [
      "<built-in method anonymous_closure of PyCapsule object at 0x7ff259179f00> <class 'builtin_function_or_method'>\n",
      "Help on built-in function anonymous_closure:\n",
      "\n",
      "anonymous_closure(...) method of builtins.PyCapsule instance\n",
      "    pyobject -> pyobject -> pyobject -> pyobject -> (pyobject) list -> pyobject\n",
      "\n"
     ]
    }
   ],
   "source": [
    "# val fold_left : f:('a -> 'b -> 'a) -> init:'a -> 'b list -> 'a\n",
    "fold_left = %ocaml ListLabels.fold_left\n",
    "\n",
    "print(fold_left, type(fold_left))\n",
    "help(fold_left:)"
   ]
  },
  {
   "cell_type": "code",
   "execution_count": 230,
   "metadata": {
    "ExecuteTime": {
     "end_time": "2021-02-23T05:08:26.606211Z",
     "start_time": "2021-02-23T05:08:26.600049Z"
    }
   },
   "outputs": [
    {
     "data": {
      "text/plain": [
       "15"
      ]
     },
     "execution_count": 230,
     "metadata": {},
     "output_type": "execute_result"
    }
   ],
   "source": [
    "fold_left(lambda x: lambda y: x + y)(0)([1, 2, 3, 4, 5])"
   ]
  },
  {
   "cell_type": "markdown",
   "metadata": {},
   "source": [
    "### Record - fail"
   ]
  },
  {
   "cell_type": "code",
   "execution_count": 194,
   "metadata": {
    "ExecuteTime": {
     "end_time": "2021-02-23T04:48:19.452387Z",
     "start_time": "2021-02-23T04:48:19.438480Z"
    },
    "slideshow": {
     "slide_type": "subslide"
    }
   },
   "outputs": [],
   "source": [
    "%%ocaml\n",
    "type ratio = {num: int; denom: int};;\n",
    "let add_ratio r1 r2 =\n",
    "   {num = r1.num * r2.denom + r2.num * r1.denom;\n",
    "    denom = r1.denom * r2.denom};;\n",
    "add_ratio {num=1; denom=3} {num=2; denom=5};;"
   ]
  },
  {
   "cell_type": "code",
   "execution_count": 197,
   "metadata": {
    "ExecuteTime": {
     "end_time": "2021-02-23T04:49:06.412414Z",
     "start_time": "2021-02-23T04:49:06.396396Z"
    },
    "slideshow": {
     "slide_type": "-"
    }
   },
   "outputs": [
    {
     "ename": "ValueError",
     "evalue": "ocaml error (Failure\"unknown type ratio\")",
     "output_type": "error",
     "traceback": [
      "\u001b[0;31m---------------------------------------------------------------------------\u001b[0m",
      "\u001b[0;31mValueError\u001b[0m                                Traceback (most recent call last)",
      "\u001b[0;32m<ipython-input-197-077c7ab12521>\u001b[0m in \u001b[0;36m<module>\u001b[0;34m\u001b[0m\n\u001b[0;32m----> 1\u001b[0;31m \u001b[0mget_ipython\u001b[0m\u001b[0;34m(\u001b[0m\u001b[0;34m)\u001b[0m\u001b[0;34m.\u001b[0m\u001b[0mrun_line_magic\u001b[0m\u001b[0;34m(\u001b[0m\u001b[0;34m'ocaml'\u001b[0m\u001b[0;34m,\u001b[0m \u001b[0;34m'{num=1; denom=3}'\u001b[0m\u001b[0;34m)\u001b[0m\u001b[0;34m\u001b[0m\u001b[0;34m\u001b[0m\u001b[0m\n\u001b[0m",
      "\u001b[0;32m/usr/local/lib/python3.6/dist-packages/IPython/core/interactiveshell.py\u001b[0m in \u001b[0;36mrun_line_magic\u001b[0;34m(self, magic_name, line, _stack_depth)\u001b[0m\n\u001b[1;32m   2324\u001b[0m                 \u001b[0mkwargs\u001b[0m\u001b[0;34m[\u001b[0m\u001b[0;34m'local_ns'\u001b[0m\u001b[0;34m]\u001b[0m \u001b[0;34m=\u001b[0m \u001b[0msys\u001b[0m\u001b[0;34m.\u001b[0m\u001b[0m_getframe\u001b[0m\u001b[0;34m(\u001b[0m\u001b[0mstack_depth\u001b[0m\u001b[0;34m)\u001b[0m\u001b[0;34m.\u001b[0m\u001b[0mf_locals\u001b[0m\u001b[0;34m\u001b[0m\u001b[0;34m\u001b[0m\u001b[0m\n\u001b[1;32m   2325\u001b[0m             \u001b[0;32mwith\u001b[0m \u001b[0mself\u001b[0m\u001b[0;34m.\u001b[0m\u001b[0mbuiltin_trap\u001b[0m\u001b[0;34m:\u001b[0m\u001b[0;34m\u001b[0m\u001b[0;34m\u001b[0m\u001b[0m\n\u001b[0;32m-> 2326\u001b[0;31m                 \u001b[0mresult\u001b[0m \u001b[0;34m=\u001b[0m \u001b[0mfn\u001b[0m\u001b[0;34m(\u001b[0m\u001b[0;34m*\u001b[0m\u001b[0margs\u001b[0m\u001b[0;34m,\u001b[0m \u001b[0;34m**\u001b[0m\u001b[0mkwargs\u001b[0m\u001b[0;34m)\u001b[0m\u001b[0;34m\u001b[0m\u001b[0;34m\u001b[0m\u001b[0m\n\u001b[0m\u001b[1;32m   2327\u001b[0m             \u001b[0;32mreturn\u001b[0m \u001b[0mresult\u001b[0m\u001b[0;34m\u001b[0m\u001b[0;34m\u001b[0m\u001b[0m\n\u001b[1;32m   2328\u001b[0m \u001b[0;34m\u001b[0m\u001b[0m\n",
      "\u001b[0;32m/usr/local/lib/python3.6/dist-packages/ocaml/__init__.py\u001b[0m in \u001b[0;36mocaml\u001b[0;34m(line)\u001b[0m\n\u001b[1;32m     13\u001b[0m     \u001b[0;32mdef\u001b[0m \u001b[0mocaml\u001b[0m\u001b[0;34m(\u001b[0m\u001b[0mline\u001b[0m\u001b[0;34m)\u001b[0m\u001b[0;34m:\u001b[0m\u001b[0;34m\u001b[0m\u001b[0;34m\u001b[0m\u001b[0m\n\u001b[1;32m     14\u001b[0m       \u001b[0;32mwith\u001b[0m \u001b[0msys_pipes\u001b[0m\u001b[0;34m(\u001b[0m\u001b[0;34m)\u001b[0m\u001b[0;34m:\u001b[0m\u001b[0;34m\u001b[0m\u001b[0;34m\u001b[0m\u001b[0m\n\u001b[0;32m---> 15\u001b[0;31m         \u001b[0;32mreturn\u001b[0m \u001b[0mtoploop\u001b[0m\u001b[0;34m.\u001b[0m\u001b[0mget\u001b[0m\u001b[0;34m(\u001b[0m\u001b[0mline\u001b[0m\u001b[0;34m)\u001b[0m\u001b[0;34m\u001b[0m\u001b[0;34m\u001b[0m\u001b[0m\n\u001b[0m\u001b[1;32m     16\u001b[0m \u001b[0;34m\u001b[0m\u001b[0m\n\u001b[1;32m     17\u001b[0m     \u001b[0;32mdel\u001b[0m \u001b[0mocaml\u001b[0m\u001b[0;34m\u001b[0m\u001b[0;34m\u001b[0m\u001b[0m\n",
      "\u001b[0;31mValueError\u001b[0m: ocaml error (Failure\"unknown type ratio\")"
     ]
    }
   ],
   "source": [
    "%ocaml {num=1; denom=3}"
   ]
  },
  {
   "cell_type": "markdown",
   "metadata": {},
   "source": [
    "Of course it fails!\n",
    "\n",
    "But it could be translated to Python dictionaries."
   ]
  },
  {
   "cell_type": "markdown",
   "metadata": {
    "slideshow": {
     "slide_type": "subslide"
    }
   },
   "source": [
    "### Exceptions - fail"
   ]
  },
  {
   "cell_type": "code",
   "execution_count": 207,
   "metadata": {
    "ExecuteTime": {
     "end_time": "2021-02-23T05:02:32.025112Z",
     "start_time": "2021-02-23T05:02:32.018161Z"
    }
   },
   "outputs": [
    {
     "ename": "SyntaxError",
     "evalue": "ocaml evaluation error on lines 1:11 to 1:20\nError: \n>  1: let out = (exception Empty_list);;\nSyntax error: operator expected.\n (<string>)",
     "output_type": "error",
     "traceback": [
      "Traceback \u001b[0;36m(most recent call last)\u001b[0m:\n",
      "  File \u001b[1;32m\"/usr/local/lib/python3.6/dist-packages/IPython/core/interactiveshell.py\"\u001b[0m, line \u001b[1;32m3343\u001b[0m, in \u001b[1;35mrun_code\u001b[0m\n    exec(code_obj, self.user_global_ns, self.user_ns)\n",
      "  File \u001b[1;32m\"<ipython-input-207-709df63f312a>\"\u001b[0m, line \u001b[1;32m1\u001b[0m, in \u001b[1;35m<module>\u001b[0m\n    exc = get_ipython().run_line_magic('ocaml', 'exception Empty_list')\n",
      "  File \u001b[1;32m\"/usr/local/lib/python3.6/dist-packages/IPython/core/interactiveshell.py\"\u001b[0m, line \u001b[1;32m2326\u001b[0m, in \u001b[1;35mrun_line_magic\u001b[0m\n    result = fn(*args, **kwargs)\n",
      "\u001b[0;36m  File \u001b[0;32m\"/usr/local/lib/python3.6/dist-packages/ocaml/__init__.py\"\u001b[0;36m, line \u001b[0;32m15\u001b[0;36m, in \u001b[0;35mocaml\u001b[0;36m\u001b[0m\n\u001b[0;31m    return toploop.get(line)\u001b[0m\n",
      "\u001b[0;36m  File \u001b[0;32m\"<string>\"\u001b[0;36m, line \u001b[0;32munknown\u001b[0m\n\u001b[0;31mSyntaxError\u001b[0m\u001b[0;31m:\u001b[0m ocaml evaluation error on lines 1:11 to 1:20\nError: \n>  1: let out = (exception Empty_list);;\nSyntax error: operator expected.\n\n"
     ]
    }
   ],
   "source": [
    "exc = %ocaml exception Empty_list"
   ]
  },
  {
   "cell_type": "markdown",
   "metadata": {
    "ExecuteTime": {
     "end_time": "2021-02-23T04:48:19.452387Z",
     "start_time": "2021-02-23T04:48:19.438480Z"
    },
    "slideshow": {
     "slide_type": "subslide"
    }
   },
   "source": [
    "### Polymorphic variants - fail\n",
    "See [documentation](http://caml.inria.fr/pub/docs/manual-ocaml/expr.html#sss:expr-polyvars)"
   ]
  },
  {
   "cell_type": "code",
   "execution_count": 232,
   "metadata": {
    "ExecuteTime": {
     "end_time": "2021-02-23T05:11:54.929252Z",
     "start_time": "2021-02-23T05:11:54.914267Z"
    }
   },
   "outputs": [
    {
     "name": "stdout",
     "output_type": "stream",
     "text": [
      "0"
     ]
    }
   ],
   "source": [
    "%%ocaml\n",
    "Format.printf \"%i%!\" (let value `float = 0 in value `float);;"
   ]
  },
  {
   "cell_type": "code",
   "execution_count": 236,
   "metadata": {
    "ExecuteTime": {
     "end_time": "2021-02-23T05:12:33.392009Z",
     "start_time": "2021-02-23T05:12:33.381232Z"
    }
   },
   "outputs": [
    {
     "name": "stdout",
     "output_type": "stream",
     "text": [
      "0 <class 'int'>\n"
     ]
    }
   ],
   "source": [
    "zero = %ocaml let value `float = 0 in value `float\n",
    "\n",
    "print(zero, type(zero))"
   ]
  },
  {
   "cell_type": "code",
   "execution_count": 237,
   "metadata": {
    "ExecuteTime": {
     "end_time": "2021-02-23T05:12:34.418936Z",
     "start_time": "2021-02-23T05:12:34.410681Z"
    }
   },
   "outputs": [
    {
     "ename": "SyntaxError",
     "evalue": "unsupported type Tvariant (<string>)",
     "output_type": "error",
     "traceback": [
      "Traceback \u001b[0;36m(most recent call last)\u001b[0m:\n",
      "  File \u001b[1;32m\"/usr/local/lib/python3.6/dist-packages/IPython/core/interactiveshell.py\"\u001b[0m, line \u001b[1;32m3343\u001b[0m, in \u001b[1;35mrun_code\u001b[0m\n    exec(code_obj, self.user_global_ns, self.user_ns)\n",
      "  File \u001b[1;32m\"<ipython-input-237-35ef86792a45>\"\u001b[0m, line \u001b[1;32m1\u001b[0m, in \u001b[1;35m<module>\u001b[0m\n    variant = get_ipython().run_line_magic('ocaml', '`float')\n",
      "  File \u001b[1;32m\"/usr/local/lib/python3.6/dist-packages/IPython/core/interactiveshell.py\"\u001b[0m, line \u001b[1;32m2326\u001b[0m, in \u001b[1;35mrun_line_magic\u001b[0m\n    result = fn(*args, **kwargs)\n",
      "\u001b[0;36m  File \u001b[0;32m\"/usr/local/lib/python3.6/dist-packages/ocaml/__init__.py\"\u001b[0;36m, line \u001b[0;32m15\u001b[0;36m, in \u001b[0;35mocaml\u001b[0;36m\u001b[0m\n\u001b[0;31m    return toploop.get(line)\u001b[0m\n",
      "\u001b[0;36m  File \u001b[0;32m\"<string>\"\u001b[0;36m, line \u001b[0;32munknown\u001b[0m\n\u001b[0;31mSyntaxError\u001b[0m\u001b[0;31m:\u001b[0m unsupported type Tvariant\n"
     ]
    }
   ],
   "source": [
    "variant = %ocaml `float\n",
    "\n",
    "print(variant, type(variant))"
   ]
  },
  {
   "cell_type": "markdown",
   "metadata": {
    "slideshow": {
     "slide_type": "subslide"
    }
   },
   "source": [
    "### Optional arguments - fail\n",
    "\n",
    "It would be difficult to implement them correctly along side the (awesome) partial application closure feature..."
   ]
  },
  {
   "cell_type": "code",
   "execution_count": 240,
   "metadata": {
    "ExecuteTime": {
     "end_time": "2021-02-23T05:14:56.021859Z",
     "start_time": "2021-02-23T05:14:56.004570Z"
    }
   },
   "outputs": [
    {
     "name": "stdout",
     "output_type": "stream",
     "text": [
      "\n",
      "42\n",
      "42"
     ]
    }
   ],
   "source": [
    "%%ocaml\n",
    "let bump ?(step = 1) x = x + step;;\n",
    "Format.printf \"\\n%i%!\" (bump 41);;\n",
    "Format.printf \"\\n%i%!\" (bump ~step:12 30);;"
   ]
  },
  {
   "cell_type": "code",
   "execution_count": 241,
   "metadata": {
    "ExecuteTime": {
     "end_time": "2021-02-23T05:15:02.690852Z",
     "start_time": "2021-02-23T05:15:02.676136Z"
    }
   },
   "outputs": [
    {
     "ename": "SyntaxError",
     "evalue": "optional arguments are not supported (<string>)",
     "output_type": "error",
     "traceback": [
      "Traceback \u001b[0;36m(most recent call last)\u001b[0m:\n",
      "  File \u001b[1;32m\"/usr/local/lib/python3.6/dist-packages/IPython/core/interactiveshell.py\"\u001b[0m, line \u001b[1;32m3343\u001b[0m, in \u001b[1;35mrun_code\u001b[0m\n    exec(code_obj, self.user_global_ns, self.user_ns)\n",
      "  File \u001b[1;32m\"<ipython-input-241-9255dc0fa695>\"\u001b[0m, line \u001b[1;32m1\u001b[0m, in \u001b[1;35m<module>\u001b[0m\n    bump = get_ipython().run_line_magic('ocaml', 'let bump ?(step = 1) x = x + step in bump')\n",
      "  File \u001b[1;32m\"/usr/local/lib/python3.6/dist-packages/IPython/core/interactiveshell.py\"\u001b[0m, line \u001b[1;32m2326\u001b[0m, in \u001b[1;35mrun_line_magic\u001b[0m\n    result = fn(*args, **kwargs)\n",
      "\u001b[0;36m  File \u001b[0;32m\"/usr/local/lib/python3.6/dist-packages/ocaml/__init__.py\"\u001b[0;36m, line \u001b[0;32m15\u001b[0;36m, in \u001b[0;35mocaml\u001b[0;36m\u001b[0m\n\u001b[0;31m    return toploop.get(line)\u001b[0m\n",
      "\u001b[0;36m  File \u001b[0;32m\"<string>\"\u001b[0;36m, line \u001b[0;32munknown\u001b[0m\n\u001b[0;31mSyntaxError\u001b[0m\u001b[0;31m:\u001b[0m optional arguments are not supported\n"
     ]
    }
   ],
   "source": [
    "bump = %ocaml let bump ?(step = 1) x = x + step in bump"
   ]
  },
  {
   "cell_type": "markdown",
   "metadata": {
    "slideshow": {
     "slide_type": "subslide"
    }
   },
   "source": [
    "### Recursive list?"
   ]
  },
  {
   "cell_type": "code",
   "execution_count": 7,
   "metadata": {
    "ExecuteTime": {
     "end_time": "2021-02-23T05:25:31.190793Z",
     "start_time": "2021-02-23T05:25:31.130527Z"
    }
   },
   "outputs": [
    {
     "name": "stdout",
     "output_type": "stream",
     "text": [
      "0 -> 1 -> 0 -> 1 ..."
     ]
    }
   ],
   "source": [
    "%%ocaml\n",
    "let rec list1 = 0 :: list2\n",
    "and list2 = 1 :: list1\n",
    "in\n",
    "Format.printf \"%i -> %i -> %i -> %i ...%!\" (List.hd list1) (List.hd list2) (List.hd (List.tl list2)) (List.hd (List.tl list1));;"
   ]
  },
  {
   "cell_type": "code",
   "execution_count": 6,
   "metadata": {
    "ExecuteTime": {
     "end_time": "2021-02-23T05:25:24.355622Z",
     "start_time": "2021-02-23T05:25:24.351202Z"
    }
   },
   "outputs": [],
   "source": [
    "# don't run\n",
    "if False:\n",
    "    list1, list2 = %ocaml let rec list1 = 0 :: list2 and list2 = 1 :: list1 in (list1, list2)"
   ]
  },
  {
   "cell_type": "markdown",
   "metadata": {},
   "source": [
    "It fails, but takes 100% CPU and freezes. But in Python we can do it:"
   ]
  },
  {
   "cell_type": "code",
   "execution_count": 5,
   "metadata": {
    "ExecuteTime": {
     "end_time": "2021-02-23T05:25:06.845740Z",
     "start_time": "2021-02-23T05:25:06.841831Z"
    }
   },
   "outputs": [
    {
     "name": "stdout",
     "output_type": "stream",
     "text": [
      "[0, [1, [...]]]\n",
      "[1, [0, [...]]]\n"
     ]
    }
   ],
   "source": [
    "list1 = [0]\n",
    "list2 = [1]\n",
    "list1.append(list2)\n",
    "list2.append(list1)\n",
    "print(list1)\n",
    "print(list2)"
   ]
  },
  {
   "cell_type": "markdown",
   "metadata": {
    "slideshow": {
     "slide_type": "subslide"
    }
   },
   "source": [
    "### From standard library"
   ]
  },
  {
   "cell_type": "markdown",
   "metadata": {
    "slideshow": {
     "slide_type": "subslide"
    }
   },
   "source": [
    "What about Sets, mapped to `set`?\n",
    "What about HashTbl, mapped to `dict`?\n",
    "And Stack, Queue, etc?\n",
    "\n",
    "TODO: left as an exercise for the reader."
   ]
  },
  {
   "cell_type": "markdown",
   "metadata": {
    "slideshow": {
     "slide_type": "subslide"
    }
   },
   "source": [
    "### Map - fail"
   ]
  },
  {
   "cell_type": "code",
   "execution_count": 9,
   "metadata": {
    "ExecuteTime": {
     "end_time": "2021-02-23T05:29:45.020981Z",
     "start_time": "2021-02-23T05:29:44.996332Z"
    }
   },
   "outputs": [],
   "source": [
    "%%ocaml\n",
    "\n",
    "module IntPairs = struct\n",
    "    type t = int * int\n",
    "    let compare (x0,y0) (x1,y1) =\n",
    "        match Stdlib.compare x0 x1 with\n",
    "        0 -> Stdlib.compare y0 y1\n",
    "        | c -> c\n",
    "end\n",
    "\n",
    "module PairsMap = Map.Make(IntPairs)\n",
    "\n",
    "let m = PairsMap.(empty |> add (0,1) \"hello\" |> add (1,0) \"world\")\n",
    "\n",
    "(* not an expression, not usable in %ocaml magic *)"
   ]
  },
  {
   "cell_type": "markdown",
   "metadata": {
    "slideshow": {
     "slide_type": "subslide"
    }
   },
   "source": [
    "### Stack (or any module using a custom type) - fail"
   ]
  },
  {
   "cell_type": "code",
   "execution_count": 10,
   "metadata": {
    "ExecuteTime": {
     "end_time": "2021-02-23T05:30:11.976057Z",
     "start_time": "2021-02-23T05:30:11.956014Z"
    },
    "slideshow": {
     "slide_type": "-"
    }
   },
   "outputs": [
    {
     "ename": "ValueError",
     "evalue": "ocaml error (Failure\"unknown type t\")",
     "output_type": "error",
     "traceback": [
      "\u001b[0;31m---------------------------------------------------------------------------\u001b[0m",
      "\u001b[0;31mValueError\u001b[0m                                Traceback (most recent call last)",
      "\u001b[0;32m<ipython-input-10-bbd04f52cfc6>\u001b[0m in \u001b[0;36m<module>\u001b[0;34m\u001b[0m\n\u001b[0;32m----> 1\u001b[0;31m \u001b[0mstack\u001b[0m \u001b[0;34m=\u001b[0m \u001b[0mget_ipython\u001b[0m\u001b[0;34m(\u001b[0m\u001b[0;34m)\u001b[0m\u001b[0;34m.\u001b[0m\u001b[0mrun_line_magic\u001b[0m\u001b[0;34m(\u001b[0m\u001b[0;34m'ocaml'\u001b[0m\u001b[0;34m,\u001b[0m \u001b[0;34m'Stack.create()'\u001b[0m\u001b[0;34m)\u001b[0m\u001b[0;34m\u001b[0m\u001b[0;34m\u001b[0m\u001b[0m\n\u001b[0m",
      "\u001b[0;32m/usr/local/lib/python3.6/dist-packages/IPython/core/interactiveshell.py\u001b[0m in \u001b[0;36mrun_line_magic\u001b[0;34m(self, magic_name, line, _stack_depth)\u001b[0m\n\u001b[1;32m   2324\u001b[0m                 \u001b[0mkwargs\u001b[0m\u001b[0;34m[\u001b[0m\u001b[0;34m'local_ns'\u001b[0m\u001b[0;34m]\u001b[0m \u001b[0;34m=\u001b[0m \u001b[0msys\u001b[0m\u001b[0;34m.\u001b[0m\u001b[0m_getframe\u001b[0m\u001b[0;34m(\u001b[0m\u001b[0mstack_depth\u001b[0m\u001b[0;34m)\u001b[0m\u001b[0;34m.\u001b[0m\u001b[0mf_locals\u001b[0m\u001b[0;34m\u001b[0m\u001b[0;34m\u001b[0m\u001b[0m\n\u001b[1;32m   2325\u001b[0m             \u001b[0;32mwith\u001b[0m \u001b[0mself\u001b[0m\u001b[0;34m.\u001b[0m\u001b[0mbuiltin_trap\u001b[0m\u001b[0;34m:\u001b[0m\u001b[0;34m\u001b[0m\u001b[0;34m\u001b[0m\u001b[0m\n\u001b[0;32m-> 2326\u001b[0;31m                 \u001b[0mresult\u001b[0m \u001b[0;34m=\u001b[0m \u001b[0mfn\u001b[0m\u001b[0;34m(\u001b[0m\u001b[0;34m*\u001b[0m\u001b[0margs\u001b[0m\u001b[0;34m,\u001b[0m \u001b[0;34m**\u001b[0m\u001b[0mkwargs\u001b[0m\u001b[0;34m)\u001b[0m\u001b[0;34m\u001b[0m\u001b[0;34m\u001b[0m\u001b[0m\n\u001b[0m\u001b[1;32m   2327\u001b[0m             \u001b[0;32mreturn\u001b[0m \u001b[0mresult\u001b[0m\u001b[0;34m\u001b[0m\u001b[0;34m\u001b[0m\u001b[0m\n\u001b[1;32m   2328\u001b[0m \u001b[0;34m\u001b[0m\u001b[0m\n",
      "\u001b[0;32m/usr/local/lib/python3.6/dist-packages/ocaml/__init__.py\u001b[0m in \u001b[0;36mocaml\u001b[0;34m(line)\u001b[0m\n\u001b[1;32m     13\u001b[0m     \u001b[0;32mdef\u001b[0m \u001b[0mocaml\u001b[0m\u001b[0;34m(\u001b[0m\u001b[0mline\u001b[0m\u001b[0;34m)\u001b[0m\u001b[0;34m:\u001b[0m\u001b[0;34m\u001b[0m\u001b[0;34m\u001b[0m\u001b[0m\n\u001b[1;32m     14\u001b[0m       \u001b[0;32mwith\u001b[0m \u001b[0msys_pipes\u001b[0m\u001b[0;34m(\u001b[0m\u001b[0;34m)\u001b[0m\u001b[0;34m:\u001b[0m\u001b[0;34m\u001b[0m\u001b[0;34m\u001b[0m\u001b[0m\n\u001b[0;32m---> 15\u001b[0;31m         \u001b[0;32mreturn\u001b[0m \u001b[0mtoploop\u001b[0m\u001b[0;34m.\u001b[0m\u001b[0mget\u001b[0m\u001b[0;34m(\u001b[0m\u001b[0mline\u001b[0m\u001b[0;34m)\u001b[0m\u001b[0;34m\u001b[0m\u001b[0;34m\u001b[0m\u001b[0m\n\u001b[0m\u001b[1;32m     16\u001b[0m \u001b[0;34m\u001b[0m\u001b[0m\n\u001b[1;32m     17\u001b[0m     \u001b[0;32mdel\u001b[0m \u001b[0mocaml\u001b[0m\u001b[0;34m\u001b[0m\u001b[0;34m\u001b[0m\u001b[0m\n",
      "\u001b[0;31mValueError\u001b[0m: ocaml error (Failure\"unknown type t\")"
     ]
    }
   ],
   "source": [
    "stack = %ocaml Stack.create()"
   ]
  },
  {
   "cell_type": "markdown",
   "metadata": {
    "slideshow": {
     "slide_type": "slide"
    }
   },
   "source": [
    "## 😮 Curryed functions!\n",
    "\n",
    "Imagine you define this function in math:\n",
    "$p : (x,y,z) \\mapsto x * y * z$, on $\\mathbb{N}^3 \\to \\mathbb{N}$.\n",
    "Then the Curryed form states that it is equivalent to\n",
    "$p' : x \\mapsto y \\mapsto z \\mapsto x * y * z$, informally defined on $\\mathbb{N} \\to \\mathbb{N} \\to \\mathbb{N} \\to \\mathbb{N}$.\n",
    "\n",
    "So for instance if $x=1$ and $y=2$, $p'(x)(y)$ is $z \\mapsto 1 * 2 * z$, which is also $z \\mapsto p(1, 2, z)$.\n",
    "\n",
    "In Python function, that would be this function:"
   ]
  },
  {
   "cell_type": "code",
   "execution_count": 75,
   "metadata": {
    "ExecuteTime": {
     "end_time": "2021-02-23T03:05:18.820039Z",
     "start_time": "2021-02-23T03:05:18.813277Z"
    }
   },
   "outputs": [],
   "source": [
    "def product3values(x, y, z):\n",
    "    return x * y * z"
   ]
  },
  {
   "cell_type": "markdown",
   "metadata": {
    "slideshow": {
     "slide_type": "subslide"
    }
   },
   "source": [
    "But you can't directly use it for partial application:"
   ]
  },
  {
   "cell_type": "code",
   "execution_count": 80,
   "metadata": {
    "ExecuteTime": {
     "end_time": "2021-02-23T03:08:47.843357Z",
     "start_time": "2021-02-23T03:08:47.828199Z"
    }
   },
   "outputs": [
    {
     "ename": "TypeError",
     "evalue": "product3values() missing 1 required positional argument: 'z'",
     "output_type": "error",
     "traceback": [
      "\u001b[0;31m---------------------------------------------------------------------------\u001b[0m",
      "\u001b[0;31mTypeError\u001b[0m                                 Traceback (most recent call last)",
      "\u001b[0;32m<ipython-input-80-3ba473df199e>\u001b[0m in \u001b[0;36m<module>\u001b[0;34m\u001b[0m\n\u001b[1;32m      1\u001b[0m \u001b[0mx\u001b[0m \u001b[0;34m=\u001b[0m \u001b[0;36m1\u001b[0m\u001b[0;34m\u001b[0m\u001b[0;34m\u001b[0m\u001b[0m\n\u001b[1;32m      2\u001b[0m \u001b[0my\u001b[0m \u001b[0;34m=\u001b[0m \u001b[0;36m2\u001b[0m\u001b[0;34m\u001b[0m\u001b[0;34m\u001b[0m\u001b[0m\n\u001b[0;32m----> 3\u001b[0;31m \u001b[0mpartial_product\u001b[0m \u001b[0;34m=\u001b[0m \u001b[0mproduct3values\u001b[0m\u001b[0;34m(\u001b[0m\u001b[0mx\u001b[0m\u001b[0;34m,\u001b[0m \u001b[0my\u001b[0m\u001b[0;34m)\u001b[0m\u001b[0;34m\u001b[0m\u001b[0;34m\u001b[0m\u001b[0m\n\u001b[0m\u001b[1;32m      4\u001b[0m \u001b[0mz\u001b[0m \u001b[0;34m=\u001b[0m \u001b[0;36m10\u001b[0m\u001b[0;34m\u001b[0m\u001b[0;34m\u001b[0m\u001b[0m\n\u001b[1;32m      5\u001b[0m \u001b[0mprint\u001b[0m\u001b[0;34m(\u001b[0m\u001b[0;34mf\"With x = {x}, y = {y}, and {partial_product} applied to z = {z}, we got {partial_product(z)}\"\u001b[0m\u001b[0;34m)\u001b[0m\u001b[0;34m\u001b[0m\u001b[0;34m\u001b[0m\u001b[0m\n",
      "\u001b[0;31mTypeError\u001b[0m: product3values() missing 1 required positional argument: 'z'"
     ]
    }
   ],
   "source": [
    "x = 1\n",
    "y = 2\n",
    "partial_product = product3values(x, y)\n",
    "z = 10\n",
    "print(f\"With x = {x}, y = {y}, and {partial_product} applied to z = {z}, we got {partial_product(z)}\")"
   ]
  },
  {
   "cell_type": "markdown",
   "metadata": {
    "slideshow": {
     "slide_type": "subslide"
    }
   },
   "source": [
    "With the Python standard library, it's possible to use [`functools.partial`](https://docs.python.org/3/library/functools.html#functools.partial) to obtain partially evaluated functions, which can be viewed as a limited support of Curryed function."
   ]
  },
  {
   "cell_type": "code",
   "execution_count": 82,
   "metadata": {
    "ExecuteTime": {
     "end_time": "2021-02-23T03:08:57.230492Z",
     "start_time": "2021-02-23T03:08:57.222604Z"
    }
   },
   "outputs": [
    {
     "name": "stdout",
     "output_type": "stream",
     "text": [
      "With x = 1, y = 2, and functools.partial(<function product3values at 0x7ff25cda0c80>, 1, 2) applied to z = 10, we got 20\n"
     ]
    }
   ],
   "source": [
    "import functools\n",
    "\n",
    "partial_product = functools.partial(product3values, 1, 2)\n",
    "\n",
    "z = 10\n",
    "print(f\"With x = {x}, y = {y}, and {partial_product} applied to z = {z}, we got {partial_product(z)}\")"
   ]
  },
  {
   "cell_type": "markdown",
   "metadata": {
    "slideshow": {
     "slide_type": "subslide"
    }
   },
   "source": [
    "But in OCaml, the conventions is to directly write functions in Curry form, rather than tuple form:"
   ]
  },
  {
   "cell_type": "code",
   "execution_count": 86,
   "metadata": {
    "ExecuteTime": {
     "end_time": "2021-02-23T03:11:47.257806Z",
     "start_time": "2021-02-23T03:11:47.234612Z"
    }
   },
   "outputs": [
    {
     "name": "stdout",
     "output_type": "stream",
     "text": [
      "With x = 1, y = 2, and partial_product applied to z = 10, we got 20."
     ]
    }
   ],
   "source": [
    "%%ocaml\n",
    "(* this is advised *)\n",
    "let product_curry (x:int) (y:int) (z:int) : int = x * y * z in\n",
    "let x = 1 and y = 2 in\n",
    "let partial_product = product_curry x y in\n",
    "let z = 10 in\n",
    "Format.printf \"With x = %i, y = %i, and partial_product applied to z = %i, we got %i.\" x y z (partial_product z);;"
   ]
  },
  {
   "cell_type": "markdown",
   "metadata": {
    "slideshow": {
     "slide_type": "subslide"
    }
   },
   "source": [
    "Indeed, in most situations, the tuple form is just not \"OCaml\"esque, and tedious to use, and does not allow partial application!"
   ]
  },
  {
   "cell_type": "code",
   "execution_count": 89,
   "metadata": {
    "ExecuteTime": {
     "end_time": "2021-02-23T03:12:48.546640Z",
     "start_time": "2021-02-23T03:12:48.529446Z"
    }
   },
   "outputs": [
    {
     "ename": "SyntaxError",
     "evalue": "ocaml evaluation error on lines 7:165 to 7:178\nError: \n   2: let product_curry (xyz : (int * int * int)) : int =\n   3:     let x, y, z = xyz in\n   4:     x * y * z\n   5: in\n   6: let x = 1 and y = 2 in\n>  7: let partial_product = product_curry x y in\n   8: let z = 10 in\n   9: Format.printf \"With x = %i, y = %i, and partial_product applied to z = %i, we got %i.\" x y z (partial_product z);;\nThis function has type int * int * int -> int\nIt is applied to too many arguments; maybe you forgot a `;'.\n (<string>)",
     "output_type": "error",
     "traceback": [
      "Traceback \u001b[0;36m(most recent call last)\u001b[0m:\n",
      "  File \u001b[1;32m\"/usr/local/lib/python3.6/dist-packages/IPython/core/interactiveshell.py\"\u001b[0m, line \u001b[1;32m3343\u001b[0m, in \u001b[1;35mrun_code\u001b[0m\n    exec(code_obj, self.user_global_ns, self.user_ns)\n",
      "  File \u001b[1;32m\"<ipython-input-89-a59ab8443eec>\"\u001b[0m, line \u001b[1;32m1\u001b[0m, in \u001b[1;35m<module>\u001b[0m\n    get_ipython().run_cell_magic('ocaml', '', '(* this is NOT adivsed *)\\nlet product_curry (xyz : (int * int * int)) : int =\\n    let x, y, z = xyz in\\n    x * y * z\\nin\\nlet x = 1 and y = 2 in\\nlet partial_product = product_curry x y in\\nlet z = 10 in\\nFormat.printf \"With x = %i, y = %i, and partial_product applied to z = %i, we got %i.\" x y z (partial_product z);;\\n')\n",
      "  File \u001b[1;32m\"/usr/local/lib/python3.6/dist-packages/IPython/core/interactiveshell.py\"\u001b[0m, line \u001b[1;32m2371\u001b[0m, in \u001b[1;35mrun_cell_magic\u001b[0m\n    result = fn(*args, **kwargs)\n",
      "\u001b[0;36m  File \u001b[0;32m\"/usr/local/lib/python3.6/dist-packages/ocaml/__init__.py\"\u001b[0;36m, line \u001b[0;32m30\u001b[0;36m, in \u001b[0;35mocaml\u001b[0;36m\u001b[0m\n\u001b[0;31m    return toploop.eval(cell)\u001b[0m\n",
      "\u001b[0;36m  File \u001b[0;32m\"<string>\"\u001b[0;36m, line \u001b[0;32munknown\u001b[0m\n\u001b[0;31mSyntaxError\u001b[0m\u001b[0;31m:\u001b[0m ocaml evaluation error on lines 7:165 to 7:178\nError: \n   2: let product_curry (xyz : (int * int * int)) : int =\n   3:     let x, y, z = xyz in\n   4:     x * y * z\n   5: in\n   6: let x = 1 and y = 2 in\n>  7: let partial_product = product_curry x y in\n   8: let z = 10 in\n   9: Format.printf \"With x = %i, y = %i, and partial_product applied to z = %i, we got %i.\" x y z (partial_product z);;\nThis function has type int * int * int -> int\nIt is applied to too many arguments; maybe you forgot a `;'.\n\n"
     ]
    }
   ],
   "source": [
    "%%ocaml\n",
    "(* this is NOT adivsed *)\n",
    "let product_curry (xyz : (int * int * int)) : int =\n",
    "    let x, y, z = xyz in\n",
    "    x * y * z\n",
    "in\n",
    "let x = 1 and y = 2 in\n",
    "let partial_product = product_curry x y in\n",
    "let z = 10 in\n",
    "Format.printf \"With x = %i, y = %i, and partial_product applied to z = %i, we got %i.\" x y z (partial_product z);;"
   ]
  },
  {
   "cell_type": "markdown",
   "metadata": {
    "slideshow": {
     "slide_type": "subslide"
    }
   },
   "source": [
    "Well that was some long explanation, but now comes the magic!\n",
    "If you use `%ocaml` to get in Python the values returned from OCaml, then functions are Curryed function!"
   ]
  },
  {
   "cell_type": "code",
   "execution_count": 90,
   "metadata": {
    "ExecuteTime": {
     "end_time": "2021-02-23T03:15:05.109399Z",
     "start_time": "2021-02-23T03:15:05.091744Z"
    }
   },
   "outputs": [],
   "source": [
    "product_curry = %ocaml let product_curry (x:int) (y:int) (z:int) : int = x * y * z in product_curry"
   ]
  },
  {
   "cell_type": "markdown",
   "metadata": {},
   "source": [
    "The only information we have on this function is the OCaml signature, in its docstring:"
   ]
  },
  {
   "cell_type": "code",
   "execution_count": 92,
   "metadata": {
    "ExecuteTime": {
     "end_time": "2021-02-23T03:15:14.737648Z",
     "start_time": "2021-02-23T03:15:14.728294Z"
    }
   },
   "outputs": [
    {
     "name": "stdout",
     "output_type": "stream",
     "text": [
      "Help on built-in function anonymous_closure:\n",
      "\n",
      "anonymous_closure(...) method of builtins.PyCapsule instance\n",
      "    int -> int -> int -> int\n",
      "\n"
     ]
    }
   ],
   "source": [
    "help(product_curry)"
   ]
  },
  {
   "cell_type": "markdown",
   "metadata": {
    "slideshow": {
     "slide_type": "subslide"
    }
   },
   "source": [
    "So we *can't* use it as a classical 3-arguments Python function:"
   ]
  },
  {
   "cell_type": "code",
   "execution_count": 93,
   "metadata": {
    "ExecuteTime": {
     "end_time": "2021-02-23T03:15:40.922855Z",
     "start_time": "2021-02-23T03:15:40.910950Z"
    }
   },
   "outputs": [
    {
     "ename": "SyntaxError",
     "evalue": "(Failure \"expected int, got Tuple\") (<string>)",
     "output_type": "error",
     "traceback": [
      "Traceback \u001b[0;36m(most recent call last)\u001b[0m:\n",
      "  File \u001b[1;32m\"/usr/local/lib/python3.6/dist-packages/IPython/core/interactiveshell.py\"\u001b[0m, line \u001b[1;32m3343\u001b[0m, in \u001b[1;35mrun_code\u001b[0m\n    exec(code_obj, self.user_global_ns, self.user_ns)\n",
      "\u001b[0;36m  File \u001b[0;32m\"<ipython-input-93-30a4c1f01ec3>\"\u001b[0;36m, line \u001b[0;32m1\u001b[0;36m, in \u001b[0;35m<module>\u001b[0;36m\u001b[0m\n\u001b[0;31m    product_curry(1, 2, 10)\u001b[0m\n",
      "\u001b[0;36m  File \u001b[0;32m\"<string>\"\u001b[0;36m, line \u001b[0;32munknown\u001b[0m\n\u001b[0;31mSyntaxError\u001b[0m\u001b[0;31m:\u001b[0m (Failure \"expected int, got Tuple\")\n"
     ]
    }
   ],
   "source": [
    "product_curry(1, 2, 10)"
   ]
  },
  {
   "cell_type": "markdown",
   "metadata": {
    "slideshow": {
     "slide_type": "subslide"
    }
   },
   "source": [
    "But we CAN use it as a Curryed function!"
   ]
  },
  {
   "cell_type": "code",
   "execution_count": 94,
   "metadata": {
    "ExecuteTime": {
     "end_time": "2021-02-23T03:16:16.707552Z",
     "start_time": "2021-02-23T03:16:16.695731Z"
    }
   },
   "outputs": [
    {
     "data": {
      "text/plain": [
       "20"
      ]
     },
     "execution_count": 94,
     "metadata": {},
     "output_type": "execute_result"
    }
   ],
   "source": [
    "product_curry(1)(2)(10)"
   ]
  },
  {
   "cell_type": "markdown",
   "metadata": {
    "slideshow": {
     "slide_type": "subslide"
    }
   },
   "source": [
    "Which is awesome because now we can do partial evaluation as in OCaml!"
   ]
  },
  {
   "cell_type": "code",
   "execution_count": 95,
   "metadata": {
    "ExecuteTime": {
     "end_time": "2021-02-23T03:17:30.462258Z",
     "start_time": "2021-02-23T03:17:30.458707Z"
    }
   },
   "outputs": [
    {
     "data": {
      "text/plain": [
       "20"
      ]
     },
     "execution_count": 95,
     "metadata": {},
     "output_type": "execute_result"
    }
   ],
   "source": [
    "partial_product_1 = product_curry(1)\n",
    "partial_product_1(2)(10)"
   ]
  },
  {
   "cell_type": "code",
   "execution_count": 99,
   "metadata": {
    "ExecuteTime": {
     "end_time": "2021-02-23T03:18:12.373647Z",
     "start_time": "2021-02-23T03:18:12.367586Z"
    }
   },
   "outputs": [
    {
     "data": {
      "text/plain": [
       "(20, 20)"
      ]
     },
     "execution_count": 99,
     "metadata": {},
     "output_type": "execute_result"
    }
   ],
   "source": [
    "partial_product_2 = product_curry(1)(2)\n",
    "partial_product_2_too = partial_product_1(2)\n",
    "partial_product_2(10), partial_product_2_too(10)"
   ]
  },
  {
   "cell_type": "markdown",
   "metadata": {
    "slideshow": {
     "slide_type": "subslide"
    }
   },
   "source": [
    "What's very cool is that these functions docstrings keep showing the signature of the underlying OCaml function, even if they were obtained from pure Python cells!"
   ]
  },
  {
   "cell_type": "code",
   "execution_count": 101,
   "metadata": {
    "ExecuteTime": {
     "end_time": "2021-02-23T03:19:13.969278Z",
     "start_time": "2021-02-23T03:19:13.962534Z"
    }
   },
   "outputs": [
    {
     "name": "stdout",
     "output_type": "stream",
     "text": [
      "Help on built-in function anonymous_closure:\n",
      "\n",
      "anonymous_closure(...) method of builtins.PyCapsule instance\n",
      "    int -> int -> int\n",
      "\n",
      "Help on built-in function anonymous_closure:\n",
      "\n",
      "anonymous_closure(...) method of builtins.PyCapsule instance\n",
      "    int -> int\n",
      "\n",
      "Help on built-in function anonymous_closure:\n",
      "\n",
      "anonymous_closure(...) method of builtins.PyCapsule instance\n",
      "    int -> int\n",
      "\n"
     ]
    }
   ],
   "source": [
    "help(partial_product_1)\n",
    "help(partial_product_2)\n",
    "help(partial_product_2_too)"
   ]
  },
  {
   "cell_type": "markdown",
   "metadata": {},
   "source": [
    "That's it for this feature, it's cool and interesting."
   ]
  },
  {
   "cell_type": "markdown",
   "metadata": {
    "slideshow": {
     "slide_type": "slide"
    }
   },
   "source": [
    "## Some questions"
   ]
  },
  {
   "cell_type": "markdown",
   "metadata": {
    "slideshow": {
     "slide_type": "subslide"
    }
   },
   "source": [
    "### Can we share variables between two consecutive full cells?"
   ]
  },
  {
   "cell_type": "markdown",
   "metadata": {},
   "source": [
    "In the `%ocaml` mode, nothing can be shared from the OCaml side, as it's just an expression, let's check:"
   ]
  },
  {
   "cell_type": "code",
   "execution_count": 65,
   "metadata": {
    "ExecuteTime": {
     "end_time": "2021-02-23T02:57:54.562848Z",
     "start_time": "2021-02-23T02:57:54.548909Z"
    },
    "slideshow": {
     "slide_type": "subslide"
    }
   },
   "outputs": [
    {
     "data": {
      "text/plain": [
       "1"
      ]
     },
     "execution_count": 65,
     "metadata": {},
     "output_type": "execute_result"
    }
   ],
   "source": [
    "%ocaml let x = 1 in x"
   ]
  },
  {
   "cell_type": "code",
   "execution_count": 67,
   "metadata": {
    "ExecuteTime": {
     "end_time": "2021-02-23T02:58:00.063165Z",
     "start_time": "2021-02-23T02:58:00.048441Z"
    }
   },
   "outputs": [
    {
     "ename": "SyntaxError",
     "evalue": "ocaml evaluation error on lines 1:11 to 1:12\nError: \n>  1: let out = (x);;\nUnbound value x\n (<string>)",
     "output_type": "error",
     "traceback": [
      "Traceback \u001b[0;36m(most recent call last)\u001b[0m:\n",
      "  File \u001b[1;32m\"/usr/local/lib/python3.6/dist-packages/IPython/core/interactiveshell.py\"\u001b[0m, line \u001b[1;32m3343\u001b[0m, in \u001b[1;35mrun_code\u001b[0m\n    exec(code_obj, self.user_global_ns, self.user_ns)\n",
      "  File \u001b[1;32m\"<ipython-input-67-269a4d148dbe>\"\u001b[0m, line \u001b[1;32m1\u001b[0m, in \u001b[1;35m<module>\u001b[0m\n    get_ipython().run_line_magic('ocaml', 'x')\n",
      "  File \u001b[1;32m\"/usr/local/lib/python3.6/dist-packages/IPython/core/interactiveshell.py\"\u001b[0m, line \u001b[1;32m2326\u001b[0m, in \u001b[1;35mrun_line_magic\u001b[0m\n    result = fn(*args, **kwargs)\n",
      "\u001b[0;36m  File \u001b[0;32m\"/usr/local/lib/python3.6/dist-packages/ocaml/__init__.py\"\u001b[0;36m, line \u001b[0;32m15\u001b[0;36m, in \u001b[0;35mocaml\u001b[0;36m\u001b[0m\n\u001b[0;31m    return toploop.get(line)\u001b[0m\n",
      "\u001b[0;36m  File \u001b[0;32m\"<string>\"\u001b[0;36m, line \u001b[0;32munknown\u001b[0m\n\u001b[0;31mSyntaxError\u001b[0m\u001b[0;31m:\u001b[0m ocaml evaluation error on lines 1:11 to 1:12\nError: \n>  1: let out = (x);;\nUnbound value x\n\n"
     ]
    }
   ],
   "source": [
    "%ocaml x"
   ]
  },
  {
   "cell_type": "markdown",
   "metadata": {
    "slideshow": {
     "slide_type": "subslide"
    }
   },
   "source": [
    "But what about full cell mode, `%%ocaml`?"
   ]
  },
  {
   "cell_type": "code",
   "execution_count": 70,
   "metadata": {
    "ExecuteTime": {
     "end_time": "2021-02-23T03:01:35.534980Z",
     "start_time": "2021-02-23T03:01:35.514162Z"
    },
    "slideshow": {
     "slide_type": "-"
    }
   },
   "outputs": [
    {
     "name": "stdout",
     "output_type": "stream",
     "text": [
      "\n",
      "... « The answer to life, the universe, and everything is 42 »"
     ]
    }
   ],
   "source": [
    "%%ocaml\n",
    "(* See https://en.wikipedia.org/wiki/42_(number) *)\n",
    "let answer_to_life = 42 in\n",
    "Format.printf \"\\n... « The answer to life, the universe, and everything is %i »%!\" answer_to_life;;"
   ]
  },
  {
   "cell_type": "code",
   "execution_count": 71,
   "metadata": {
    "ExecuteTime": {
     "end_time": "2021-02-23T03:01:43.128606Z",
     "start_time": "2021-02-23T03:01:43.118219Z"
    }
   },
   "outputs": [
    {
     "ename": "SyntaxError",
     "evalue": "ocaml evaluation error on lines 1:85 to 1:99\nError: \n>  1: Format.printf \"\\n... « The answer to life, the universe, and everything is %i »%!\" answer_to_life;;\nUnbound value answer_to_life\n (<string>)",
     "output_type": "error",
     "traceback": [
      "Traceback \u001b[0;36m(most recent call last)\u001b[0m:\n",
      "  File \u001b[1;32m\"/usr/local/lib/python3.6/dist-packages/IPython/core/interactiveshell.py\"\u001b[0m, line \u001b[1;32m3343\u001b[0m, in \u001b[1;35mrun_code\u001b[0m\n    exec(code_obj, self.user_global_ns, self.user_ns)\n",
      "  File \u001b[1;32m\"<ipython-input-71-0d2d3c7f5c67>\"\u001b[0m, line \u001b[1;32m1\u001b[0m, in \u001b[1;35m<module>\u001b[0m\n    get_ipython().run_cell_magic('ocaml', '', 'Format.printf \"\\\\n... « The answer to life, the universe, and everything is %i »%!\" answer_to_life;;\\n')\n",
      "  File \u001b[1;32m\"/usr/local/lib/python3.6/dist-packages/IPython/core/interactiveshell.py\"\u001b[0m, line \u001b[1;32m2371\u001b[0m, in \u001b[1;35mrun_cell_magic\u001b[0m\n    result = fn(*args, **kwargs)\n",
      "\u001b[0;36m  File \u001b[0;32m\"/usr/local/lib/python3.6/dist-packages/ocaml/__init__.py\"\u001b[0;36m, line \u001b[0;32m30\u001b[0;36m, in \u001b[0;35mocaml\u001b[0;36m\u001b[0m\n\u001b[0;31m    return toploop.eval(cell)\u001b[0m\n",
      "\u001b[0;36m  File \u001b[0;32m\"<string>\"\u001b[0;36m, line \u001b[0;32munknown\u001b[0m\n\u001b[0;31mSyntaxError\u001b[0m\u001b[0;31m:\u001b[0m ocaml evaluation error on lines 1:85 to 1:99\nError: \n>  1: Format.printf \"\\n... « The answer to life, the universe, and everything is %i »%!\" answer_to_life;;\nUnbound value answer_to_life\n\n"
     ]
    }
   ],
   "source": [
    "%%ocaml\n",
    "Format.printf \"\\n... « The answer to life, the universe, and everything is %i »%!\" answer_to_life;;"
   ]
  },
  {
   "cell_type": "markdown",
   "metadata": {},
   "source": [
    "==> Answer: no, we cannot share any memory between two consecutive cells.\n",
    "Well, too bad, but it's not so important."
   ]
  },
  {
   "cell_type": "markdown",
   "metadata": {
    "slideshow": {
     "slide_type": "slide"
    }
   },
   "source": [
    "### Is there any documentation of the magic or commands?\n",
    "\n",
    "No."
   ]
  },
  {
   "cell_type": "code",
   "execution_count": 74,
   "metadata": {
    "ExecuteTime": {
     "end_time": "2021-02-23T03:02:14.011940Z",
     "start_time": "2021-02-23T03:02:14.001224Z"
    }
   },
   "outputs": [],
   "source": [
    "?%ocaml"
   ]
  },
  {
   "cell_type": "markdown",
   "metadata": {},
   "source": [
    "    Docstring: <no docstring>\n",
    "    File:      /usr/local/lib/python3.6/dist-packages/ocaml/__init__.py"
   ]
  },
  {
   "cell_type": "markdown",
   "metadata": {
    "slideshow": {
     "slide_type": "subslide"
    }
   },
   "source": [
    "### More remarks"
   ]
  },
  {
   "cell_type": "markdown",
   "metadata": {
    "slideshow": {
     "slide_type": "-"
    }
   },
   "source": [
    "Note that there blog post says that using the `opttoploop` could be used to compile the OCaml to a faster version (native code), but do not document about this.\n",
    "> Note that with the toploop module, the OCaml code is evaluated by compiling to bytecode which is not optimal, switching to the opttoploop module that generates native code should make it even faster."
   ]
  },
  {
   "cell_type": "code",
   "execution_count": 164,
   "metadata": {
    "ExecuteTime": {
     "end_time": "2021-02-23T04:19:44.076307Z",
     "start_time": "2021-02-23T04:19:44.071278Z"
    },
    "slideshow": {
     "slide_type": "fragment"
    }
   },
   "outputs": [
    {
     "data": {
      "text/plain": [
       "False"
      ]
     },
     "execution_count": 164,
     "metadata": {},
     "output_type": "execute_result"
    }
   ],
   "source": [
    "\"opttoploop\" in dir(ocaml)"
   ]
  },
  {
   "cell_type": "markdown",
   "metadata": {
    "slideshow": {
     "slide_type": "subslide"
    }
   },
   "source": [
    "Also note that the `ocaml` module is shipped with an example of a tiny module which was written in OCaml and compiled, being made available to Python directly:"
   ]
  },
  {
   "cell_type": "code",
   "execution_count": 167,
   "metadata": {
    "ExecuteTime": {
     "end_time": "2021-02-23T04:21:08.068033Z",
     "start_time": "2021-02-23T04:21:08.061946Z"
    },
    "slideshow": {
     "slide_type": "fragment"
    }
   },
   "outputs": [
    {
     "data": {
      "text/plain": [
       "<function PyCapsule.anonymous_closure>"
      ]
     },
     "execution_count": 167,
     "metadata": {},
     "output_type": "execute_result"
    }
   ],
   "source": [
    "# it doesn't have a docstring, don't try help(<...>) or <...>?\n",
    "ocaml.ocaml.example_module.approx_pi"
   ]
  },
  {
   "cell_type": "code",
   "execution_count": 168,
   "metadata": {
    "ExecuteTime": {
     "end_time": "2021-02-23T04:21:08.795717Z",
     "start_time": "2021-02-23T04:21:08.512545Z"
    },
    "slideshow": {
     "slide_type": "fragment"
    }
   },
   "outputs": [
    {
     "data": {
      "text/plain": [
       "3.1415916986605086"
      ]
     },
     "execution_count": 168,
     "metadata": {},
     "output_type": "execute_result"
    }
   ],
   "source": [
    "ocaml.ocaml.example_module.approx_pi(1000000)"
   ]
  },
  {
   "cell_type": "markdown",
   "metadata": {
    "slideshow": {
     "slide_type": "slide"
    }
   },
   "source": [
    "## Final note: a tiny benchmark\n",
    "\n",
    "Let's compare the speed of naive Python and naive OCaml sum of a list/array of floats, for various input size."
   ]
  },
  {
   "cell_type": "code",
   "execution_count": 169,
   "metadata": {
    "ExecuteTime": {
     "end_time": "2021-02-23T04:23:14.601650Z",
     "start_time": "2021-02-23T04:23:14.596499Z"
    }
   },
   "outputs": [],
   "source": [
    "import ocaml\n",
    "import numpy as np"
   ]
  },
  {
   "cell_type": "code",
   "execution_count": 170,
   "metadata": {
    "ExecuteTime": {
     "end_time": "2021-02-23T04:23:15.186072Z",
     "start_time": "2021-02-23T04:23:15.176595Z"
    }
   },
   "outputs": [],
   "source": [
    "python_sum = sum\n",
    "ocaml_sum = %ocaml List.fold_left (+.) 0.\n",
    "numpy_sum = np.sum"
   ]
  },
  {
   "cell_type": "code",
   "execution_count": 171,
   "metadata": {
    "ExecuteTime": {
     "end_time": "2021-02-23T04:23:15.678415Z",
     "start_time": "2021-02-23T04:23:15.672664Z"
    },
    "slideshow": {
     "slide_type": "subslide"
    }
   },
   "outputs": [
    {
     "name": "stdout",
     "output_type": "stream",
     "text": [
      "15.0\n",
      "15.0\n",
      "15.0\n"
     ]
    }
   ],
   "source": [
    "print(python_sum( [1.0, 2.0, 3.0, 4.0, 5.0] ))\n",
    "print(ocaml_sum(  [1.0, 2.0, 3.0, 4.0, 5.0] ))\n",
    "print(numpy_sum(  [1.0, 2.0, 3.0, 4.0, 5.0] ))"
   ]
  },
  {
   "cell_type": "markdown",
   "metadata": {
    "slideshow": {
     "slide_type": "subslide"
    }
   },
   "source": [
    "Now for a \"large\" array, let's use IPython `%timeit` magic for very quick benchmarking.\n",
    "\n",
    "> Science is about making hypotheses, designing experiments to check them, and conclude.\n",
    "> My hypothesis here is that the OCaml version will be between 10 to 50 slower than the Python one (and Numpy version is 50-200 faster than Python)."
   ]
  },
  {
   "cell_type": "code",
   "execution_count": 120,
   "metadata": {
    "ExecuteTime": {
     "end_time": "2021-02-23T03:36:55.712295Z",
     "start_time": "2021-02-23T03:36:15.618508Z"
    }
   },
   "outputs": [
    {
     "name": "stdout",
     "output_type": "stream",
     "text": [
      "Comparing time of python_sum and ocaml_sun :\n",
      "\n",
      "- For size = 10000000:\n",
      "\tFor python sum: 677 ms ± 12.9 ms per loop (mean ± std. dev. of 7 runs, 1 loop each)\n",
      "\tFor OCaml sum: 2.92 s ± 441 ms per loop (mean ± std. dev. of 7 runs, 1 loop each)\n",
      "\tFor numpy.sum: 632 ms ± 4.41 ms per loop (mean ± std. dev. of 7 runs, 1 loop each)\n"
     ]
    }
   ],
   "source": [
    "sizes = [100, 1000, 10000, 100000, 1000000, 10000000]\n",
    "print(f\"Comparing time of python_sum and ocaml_sun :\")\n",
    "for size in sizes:\n",
    "    print(f\"\\n- For size = {size}:\")\n",
    "    X = list(np.random.randn(size))\n",
    "    \n",
    "    print(\"\\tFor python sum: \", end='')\n",
    "    %timeit python_sum(X)\n",
    "    \n",
    "    assert np.isclose(python_sum(X), ocaml_sum(X))\n",
    "    print(\"\\tFor OCaml sum: \", end='')\n",
    "    %timeit ocaml_sum(X)\n",
    "\n",
    "    assert np.isclose(python_sum(X), numpy_sum(X))\n",
    "    print(\"\\tFor numpy.sum: \", end='')\n",
    "    %timeit numpy_sum(X)"
   ]
  },
  {
   "cell_type": "markdown",
   "metadata": {
    "slideshow": {
     "slide_type": "subslide"
    }
   },
   "source": [
    "Well that's better than what I expected!\n",
    "It seems that the overhead is *constant* and not increasing when the size of the input is increasing!\n",
    "\n",
    "It means that if the Python code runs in time $T_1(n)$ for inputs of size $n$, then then OCaml binding code runs in less than $T_2(n) \\leq \\alpha T_1(n) + \\beta$, with two constants $\\alpha, \\beta$."
   ]
  },
  {
   "cell_type": "code",
   "execution_count": 175,
   "metadata": {
    "ExecuteTime": {
     "end_time": "2021-02-23T04:24:28.370702Z",
     "start_time": "2021-02-23T04:24:27.287307Z"
    }
   },
   "outputs": [
    {
     "data": {
      "image/png": "[encoded data removed]",
      "text/plain": [
       "<Figure size 4200x3000 with 1 Axes>"
      ]
     },
     "metadata": {
      "needs_background": "light"
     },
     "output_type": "display_data"
    }
   ],
   "source": [
    "import matplotlib.pyplot as plt\n",
    "\n",
    "µs = 1\n",
    "ms = 1000*µs\n",
    "s  = 1000*ms\n",
    "\n",
    "X = sizes\n",
    "# TODO: get this automatically?\n",
    "    \n",
    "Y_python = [ 7.27*µs, 72.1*µs, 786*µs, 7.55*ms, 68.2*ms, 677*ms ]\n",
    "Y_ocaml  = [ 16*µs, 157*µs, 1.8*ms, 24.2*ms, 286*ms, 2.92*s ]\n",
    "Y_numpy  = [ 12*µs, 67.7*µs, 615*µs, 6.25*ms, 62.6*ms, 632*ms ]\n",
    "\n",
    "fig = plt.figure(figsize=(14, 10), dpi=300)\n",
    "\n",
    "plt.loglog(X, Y_python, color=\"blue\", marker=\"o\", label=\"naive Python\", lw=4, ms=15)\n",
    "plt.loglog(X, Y_ocaml,  color=\"green\", marker=\"d\", label=\"using OCaml\", lw=4, ms=15)\n",
    "plt.loglog(X, Y_numpy,  color=\"orange\", marker=\"s\", label=\"using Numpy\", lw=4, ms=15)\n",
    "\n",
    "plt.ylabel(\"Time in micro-seconds\")\n",
    "plt.xlabel(\"Size of input list\")\n",
    "plt.legend()\n",
    "plt.title(\"Tiny benchmark comparing OCaml binding to Python\")\n",
    "plt.show()"
   ]
  },
  {
   "cell_type": "markdown",
   "metadata": {
    "slideshow": {
     "slide_type": "subslide"
    }
   },
   "source": [
    "Just to check the experimental values of $\\alpha$ and $\\beta$ in my claim above, let's use [`numpy.polyfit`](https://numpy.org/doc/stable/reference/generated/numpy.polyfit.html) function:"
   ]
  },
  {
   "cell_type": "code",
   "execution_count": 133,
   "metadata": {
    "ExecuteTime": {
     "end_time": "2021-02-23T03:55:04.714162Z",
     "start_time": "2021-02-23T03:55:04.701212Z"
    }
   },
   "outputs": [
    {
     "data": {
      "text/plain": [
       "array([    4.31769413, -3617.94315775])"
      ]
     },
     "execution_count": 133,
     "metadata": {},
     "output_type": "execute_result"
    }
   ],
   "source": [
    "np.polyfit(Y_python, Y_ocaml, deg=1)"
   ]
  },
  {
   "cell_type": "markdown",
   "metadata": {},
   "source": [
    "So the OCaml bidding code runs about 4.5 times slower than the Python one!\n",
    "\n",
    "It means that if you're doing a data analysis or some things in Python, and suddenly you think of an easy way to write an elegant and fast OCaml version, it's definitely viable to write it in OCaml, use `ocaml_function = %ocaml ...` and then use to solve your task!\n",
    "The overhead for using OCaml interpreted functions should not be too large."
   ]
  },
  {
   "cell_type": "markdown",
   "metadata": {
    "slideshow": {
     "slide_type": "slide"
    }
   },
   "source": [
    "## Conclusion: demonstration of Pypi package OCaml for polyglot notebook\n",
    "\n",
    "This (long) notebook dived in the details of [this Pypi `ocaml` package](https://pypi.org/project/ocaml/) allows to embed a real and complete OCaml runtime (with full standard library) in an IPython console or Jupyter notebook running IPython kernel (Python 3). OCaml functions and tiny programs can then be called directly from the IPython/Jupyter console, and results can be printed, or affected to Python variables! It even supports [Currying](https://en.wikipedia.org/wiki/Currying) multi-argument functions!\n",
    "\n",
    "It's too bad that the package lack documentation, and is not open source, I would have liked to improve it a little bit!"
   ]
  },
  {
   "cell_type": "markdown",
   "metadata": {
    "slideshow": {
     "slide_type": "slide"
    }
   },
   "source": [
    "See also: note, if you really want to use OCaml in a Jupyter notebook, the best solution is [OCaml-jupyter](https://github.com/akabe/ocaml-jupyter/) kernel!\n",
    "(i opened [an issue](https://github.com/akabe/ocaml-jupyter/issues/167) there to present this to the developer, just for his curiosity)\n",
    "\n",
    "That's it for today!\n",
    "See [other notebooks](https://github.com/Naereen/notebooks/)"
   ]
  }
 ],
 "metadata": {
  "celltoolbar": "Diaporama",
  "kernelspec": {
   "display_name": "Python 3",
   "language": "python",
   "name": "python3"
  },
  "language_info": {
   "codemirror_mode": {
    "name": "ipython",
    "version": 3
   },
   "file_extension": ".py",
   "mimetype": "text/x-python",
   "name": "python",
   "nbconvert_exporter": "python",
   "pygments_lexer": "ipython3",
   "version": "3.6.9"
  },
  "toc": {
   "base_numbering": 1,
   "nav_menu": {},
   "number_sections": true,
   "sideBar": true,
   "skip_h1_title": false,
   "title_cell": "Table of Contents",
   "title_sidebar": "Contents",
   "toc_cell": false,
   "toc_position": {
    "height": "calc(100% - 180px)",
    "left": "10px",
    "top": "150px",
    "width": "197.5px"
   },
   "toc_section_display": true,
   "toc_window_display": false
  },
  "varInspector": {
   "cols": {
    "lenName": 16,
    "lenType": 16,
    "lenVar": 40
   },
   "kernels_config": {
    "python": {
     "delete_cmd_postfix": "",
     "delete_cmd_prefix": "del ",
     "library": "var_list.py",
     "varRefreshCmd": "print(var_dic_list())"
    },
    "r": {
     "delete_cmd_postfix": ") ",
     "delete_cmd_prefix": "rm(",
     "library": "var_list.r",
     "varRefreshCmd": "cat(var_dic_list()) "
    }
   },
   "types_to_exclude": [
    "module",
    "function",
    "builtin_function_or_method",
    "instance",
    "_Feature"
   ],
   "window_display": false
  }
 },
 "nbformat": 4,
 "nbformat_minor": 4
}
