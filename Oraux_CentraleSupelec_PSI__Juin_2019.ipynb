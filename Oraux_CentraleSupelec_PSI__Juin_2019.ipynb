{
 "cells": [
  {
   "cell_type": "markdown",
   "metadata": {
    "toc": "true"
   },
   "source": [
    "# Table of Contents\n",
    " <p><div class=\"lev1 toc-item\"><a href=\"#Oraux-CentraleSupélec-PSI---Juin-2019\" data-toc-modified-id=\"Oraux-CentraleSupélec-PSI---Juin-2019-1\"><span class=\"toc-item-num\">1&nbsp;&nbsp;</span>Oraux CentraleSupélec PSI - Juin 2019</a></div><div class=\"lev2 toc-item\"><a href=\"#Remarques-préliminaires\" data-toc-modified-id=\"Remarques-préliminaires-11\"><span class=\"toc-item-num\">1.1&nbsp;&nbsp;</span>Remarques préliminaires</a></div><div class=\"lev3 toc-item\"><a href=\"#Importez-les-modules-:\" data-toc-modified-id=\"Importez-les-modules-:-111\"><span class=\"toc-item-num\">1.1.1&nbsp;&nbsp;</span>Importez les modules :</a></div><div class=\"lev2 toc-item\"><a href=\"#Planche-160\" data-toc-modified-id=\"Planche-160-12\"><span class=\"toc-item-num\">1.2&nbsp;&nbsp;</span>Planche 160</a></div><div class=\"lev2 toc-item\"><a href=\"#Planche-162\" data-toc-modified-id=\"Planche-162-13\"><span class=\"toc-item-num\">1.3&nbsp;&nbsp;</span>Planche 162</a></div><div class=\"lev2 toc-item\"><a href=\"#Planche-166\" data-toc-modified-id=\"Planche-166-14\"><span class=\"toc-item-num\">1.4&nbsp;&nbsp;</span>Planche 166</a></div><div class=\"lev2 toc-item\"><a href=\"#Planche-168\" data-toc-modified-id=\"Planche-168-15\"><span class=\"toc-item-num\">1.5&nbsp;&nbsp;</span>Planche 168</a></div><div class=\"lev2 toc-item\"><a href=\"#Planche-170\" data-toc-modified-id=\"Planche-170-16\"><span class=\"toc-item-num\">1.6&nbsp;&nbsp;</span>Planche 170</a></div><div class=\"lev2 toc-item\"><a href=\"#Planche-172\" data-toc-modified-id=\"Planche-172-17\"><span class=\"toc-item-num\">1.7&nbsp;&nbsp;</span>Planche 172</a></div><div class=\"lev2 toc-item\"><a href=\"#Planche-177\" data-toc-modified-id=\"Planche-177-18\"><span class=\"toc-item-num\">1.8&nbsp;&nbsp;</span>Planche 177</a></div><div class=\"lev1 toc-item\"><a href=\"#À-voir-aussi\" data-toc-modified-id=\"À-voir-aussi-2\"><span class=\"toc-item-num\">2&nbsp;&nbsp;</span>À voir aussi</a></div><div class=\"lev2 toc-item\"><a href=\"#Les-oraux---(exercices-de-maths-avec-Python)\" data-toc-modified-id=\"Les-oraux---(exercices-de-maths-avec-Python)-21\"><span class=\"toc-item-num\">2.1&nbsp;&nbsp;</span><a href=\"http://perso.crans.org/besson/infoMP/oraux/solutions/\" target=\"_blank\">Les oraux</a>   <em>(exercices de maths avec Python)</em></a></div><div class=\"lev2 toc-item\"><a href=\"#Fiches-de-révisions-pour-les-oraux\" data-toc-modified-id=\"Fiches-de-révisions-pour-les-oraux-22\"><span class=\"toc-item-num\">2.2&nbsp;&nbsp;</span>Fiches de révisions <em>pour les oraux</em></a></div><div class=\"lev2 toc-item\"><a href=\"#D'autres-notebooks-?\" data-toc-modified-id=\"D'autres-notebooks-?-23\"><span class=\"toc-item-num\">2.3&nbsp;&nbsp;</span>D'autres notebooks ?</a></div>"
   ]
  },
  {
   "cell_type": "markdown",
   "metadata": {},
   "source": [
    "# Oraux CentraleSupélec PSI - Juin 2019\n",
    "\n",
    "- Ce [notebook Jupyter](https://www.jupyter.org) est une proposition de correction, en [Python 3](https://www.python.org/), d'exercices d'annales de l'épreuve \"maths-info\" du [concours CentraleSupélec](http://www.concours-centrale-supelec.fr/), filière PSI.\n",
    "- Les exercices viennent de l'[Officiel de la Taupe](http://odlt.fr/), [2017](http://www.odlt.fr/Oraux_2017.pdf) (planches 162 à 177, pages 10 et 11).\n",
    "- Ce document a été écrit par [Lilian Besson](http://perso.crans.org/besson/), et est disponible en ligne [sur mon site](https://perso.crans.org/besson/publis/notebooks/Oraux_CentraleSupelec_PSI__Juin_2019.html)."
   ]
  },
  {
   "cell_type": "markdown",
   "metadata": {},
   "source": [
    "## Remarques préliminaires\n",
    "- Les exercices sans Python ne sont pas traités.\n",
    "- Les exercices avec Python utilisent Python 3, [numpy](http://numpy.org), [matplotlib](http://matplotlib.org), [scipy](http://scipy.org) et [sympy](http://sympy.org), et essaient d'être résolus le plus simplement et le plus rapidement possible. L'efficacité (algorithmique, en terme de mémoire et de temps de calcul), n'est *pas* une priorité. La concision et simplicité de la solution proposée est prioritaire."
   ]
  },
  {
   "cell_type": "code",
   "execution_count": 1,
   "metadata": {},
   "outputs": [],
   "source": [
    "import numpy as np\n",
    "import matplotlib as mpl\n",
    "mpl.rcParams['figure.figsize'] = (10, 7)\n",
    "import matplotlib.pyplot as plt\n",
    "from scipy import integrate\n",
    "import numpy.random as rd"
   ]
  },
  {
   "cell_type": "code",
   "execution_count": 16,
   "metadata": {},
   "outputs": [],
   "source": [
    "import seaborn as sns\n",
    "sns.set(context=\"notebook\", style=\"whitegrid\", palette=\"hls\", font=\"sans-serif\", font_scale=1.1)"
   ]
  },
  {
   "cell_type": "markdown",
   "metadata": {},
   "source": [
    "### Importez les modules :"
   ]
  },
  {
   "cell_type": "code",
   "execution_count": null,
   "metadata": {},
   "outputs": [],
   "source": [
    "import numpy as np"
   ]
  },
  {
   "cell_type": "code",
   "execution_count": null,
   "metadata": {},
   "outputs": [],
   "source": [
    "import matplotlib.pyplot as plt"
   ]
  },
  {
   "cell_type": "code",
   "execution_count": null,
   "metadata": {},
   "outputs": [],
   "source": [
    "from scipy import integrate"
   ]
  },
  {
   "cell_type": "code",
   "execution_count": null,
   "metadata": {},
   "outputs": [],
   "source": [
    "import numpy.random as rd"
   ]
  },
  {
   "cell_type": "markdown",
   "metadata": {},
   "source": [
    "----\n",
    "## Planche 160"
   ]
  },
  {
   "cell_type": "markdown",
   "metadata": {},
   "source": [
    "- $I_n := \\int_0^1 \\frac{1}{(1+t)^n \\sqrt{1-t}} \\mathrm{d}t$ et $I_n := \\int_0^1 \\frac{1/2}{(1+t)^n \\sqrt{1-t}} \\mathrm{d}t$ sont définies pour tout $n$ car leur intégrande est continue et bien définie sur $]0,1[$ et intégrable en $1$ parce qu'on sait (par intégrale de Riemann) que $\\frac{1}{\\sqrt{u}}$ est intégrable en $0^+$ (et changement de variable $u = 1-t$).\n",
    "- On les calcule très simplement :"
   ]
  },
  {
   "cell_type": "code",
   "execution_count": 2,
   "metadata": {},
   "outputs": [],
   "source": [
    "def I(n):\n",
    "    def f(t):\n",
    "        return 1 / ((1+t)**n * np.sqrt(1-t))\n",
    "    i, err = integrate.quad(f, 0, 1)\n",
    "    return i"
   ]
  },
  {
   "cell_type": "code",
   "execution_count": 3,
   "metadata": {},
   "outputs": [],
   "source": [
    "def J(n):\n",
    "    def f(t):\n",
    "        return 1 / ((1+t)**n * np.sqrt(1-t))\n",
    "    i, err = integrate.quad(f, 0, 0.5)\n",
    "    return i"
   ]
  },
  {
   "cell_type": "code",
   "execution_count": 4,
   "metadata": {},
   "outputs": [
    {
     "data": {
      "text/plain": [
       "<Figure size 432x288 with 0 Axes>"
      ]
     },
     "execution_count": 4,
     "metadata": {},
     "output_type": "execute_result"
    },
    {
     "data": {
      "text/plain": [
       "[<matplotlib.lines.Line2D at 0x7fc29ae167f0>]"
      ]
     },
     "execution_count": 4,
     "metadata": {},
     "output_type": "execute_result"
    },
    {
     "data": {
      "text/plain": [
       "Text(0.5, 1.0, 'Valeurs de $I_n$')"
      ]
     },
     "execution_count": 4,
     "metadata": {},
     "output_type": "execute_result"
    },
    {
     "data": {
      "image/png": "[encoded data removed]",
      "text/plain": [
       "<Figure size 432x288 with 1 Axes>"
      ]
     },
     "metadata": {
      "needs_background": "light"
     },
     "output_type": "display_data"
    }
   ],
   "source": [
    "valeurs_n = np.arange(1, 50)\n",
    "valeurs_In = np.array([I(n) for n in valeurs_n])\n",
    "\n",
    "plt.figure()\n",
    "plt.plot(valeurs_n, valeurs_In, 'ro')\n",
    "plt.title(\"Valeurs de $I_n$\")\n",
    "plt.show()"
   ]
  },
  {
   "cell_type": "markdown",
   "metadata": {},
   "source": [
    "- On conjecture que $I_n$ est décroissante. C'est évident puisque si on note $f_n(t)$ son intégrande, on observe que $f_{n+1}(t) \\leq f_n(t)$ pour tout $t$, et donc par monotonie de l'intégrale, $I_{n+1} \\leq I_n$.\n",
    "- On conjecture que $I_n \\to 0$. Cela se montre très facilement avec le théorème de convergence dominée."
   ]
  },
  {
   "cell_type": "code",
   "execution_count": 5,
   "metadata": {},
   "outputs": [
    {
     "data": {
      "text/plain": [
       "<Figure size 432x288 with 0 Axes>"
      ]
     },
     "execution_count": 5,
     "metadata": {},
     "output_type": "execute_result"
    },
    {
     "data": {
      "text/plain": [
       "[<matplotlib.lines.Line2D at 0x7fc29adbbd30>]"
      ]
     },
     "execution_count": 5,
     "metadata": {},
     "output_type": "execute_result"
    },
    {
     "data": {
      "text/plain": [
       "Text(0.5, 1.0, 'Valeurs de $\\\\ln(I_n)$ en fonction de $\\\\ln(n)$')"
      ]
     },
     "execution_count": 5,
     "metadata": {},
     "output_type": "execute_result"
    },
    {
     "data": {
      "image/png": "[encoded data removed]",
      "text/plain": [
       "<Figure size 432x288 with 1 Axes>"
      ]
     },
     "metadata": {
      "needs_background": "light"
     },
     "output_type": "display_data"
    }
   ],
   "source": [
    "plt.figure()\n",
    "plt.plot(np.log(valeurs_n), np.log(valeurs_In), 'go')\n",
    "plt.title(r\"Valeurs de $\\ln(I_n)$ en fonction de $\\ln(n)$\")\n",
    "plt.show()"
   ]
  },
  {
   "cell_type": "markdown",
   "metadata": {},
   "source": [
    "- Ce qu'on observe permet de conjecturer que $\\alpha=1$ est l'unique entier tel que $n^{\\alpha} I_n$ converge vers une limite non nulle."
   ]
  },
  {
   "cell_type": "code",
   "execution_count": 16,
   "metadata": {},
   "outputs": [
    {
     "data": {
      "text/plain": [
       "<Figure size 432x288 with 0 Axes>"
      ]
     },
     "execution_count": 16,
     "metadata": {},
     "output_type": "execute_result"
    },
    {
     "data": {
      "text/plain": [
       "[<matplotlib.lines.Line2D at 0x7fc29a86a358>]"
      ]
     },
     "execution_count": 16,
     "metadata": {},
     "output_type": "execute_result"
    },
    {
     "data": {
      "text/plain": [
       "[<matplotlib.lines.Line2D at 0x7fc29a8f7320>]"
      ]
     },
     "execution_count": 16,
     "metadata": {},
     "output_type": "execute_result"
    },
    {
     "data": {
      "text/plain": [
       "<matplotlib.legend.Legend at 0x7fc29ac1f400>"
      ]
     },
     "execution_count": 16,
     "metadata": {},
     "output_type": "execute_result"
    },
    {
     "data": {
      "text/plain": [
       "Text(0.5, 1.0, 'Valeurs de $n^{\\\\alpha} I_n$ et $n^{\\\\alpha} J_n$')"
      ]
     },
     "execution_count": 16,
     "metadata": {},
     "output_type": "execute_result"
    },
    {
     "data": {
      "image/png": "[encoded data removed]",
      "text/plain": [
       "<Figure size 432x288 with 1 Axes>"
      ]
     },
     "metadata": {
      "needs_background": "light"
     },
     "output_type": "display_data"
    }
   ],
   "source": [
    "valeurs_n = np.arange(1, 500)\n",
    "valeurs_In = np.array([I(n) for n in valeurs_n])\n",
    "valeurs_Jn = np.array([J(n) for n in valeurs_n])\n",
    "alpha = 0.9\n",
    "\n",
    "plt.figure()\n",
    "plt.plot(valeurs_n, valeurs_n**alpha * valeurs_In, 'r+', label=r'$n^{\\alpha} I_n$')\n",
    "plt.plot(valeurs_n, valeurs_n**alpha * valeurs_Jn, 'b+', label=r'$n^{\\alpha} J_n$')\n",
    "plt.legend()\n",
    "plt.title(r\"Valeurs de $n^{\\alpha} I_n$ et $n^{\\alpha} J_n$\")\n",
    "plt.show()"
   ]
  },
  {
   "cell_type": "markdown",
   "metadata": {},
   "source": [
    "- On en déduit qu'il en est de même pour $J_n$, on a $n^{\\alpha} J_n \\to l$ la même limite que $n^{\\alpha} I_n$."
   ]
  },
  {
   "cell_type": "markdown",
   "metadata": {},
   "source": [
    "- Pour finir, on montre mathématiquement que $n^{\\alpha} (I_n - J_n)$ tend vers $0$."
   ]
  },
  {
   "cell_type": "code",
   "execution_count": 22,
   "metadata": {
    "scrolled": false
   },
   "outputs": [
    {
     "data": {
      "text/plain": [
       "<Figure size 720x504 with 0 Axes>"
      ]
     },
     "execution_count": 22,
     "metadata": {},
     "output_type": "execute_result"
    },
    {
     "data": {
      "text/plain": [
       "[<matplotlib.lines.Line2D at 0x7f1d46487358>]"
      ]
     },
     "execution_count": 22,
     "metadata": {},
     "output_type": "execute_result"
    },
    {
     "data": {
      "text/plain": [
       "<matplotlib.legend.Legend at 0x7f1d4656df98>"
      ]
     },
     "execution_count": 22,
     "metadata": {},
     "output_type": "execute_result"
    },
    {
     "data": {
      "text/plain": [
       "Text(0.5, 1.0, 'Valeurs de $n^{\\\\alpha} (I_n - J_n)$')"
      ]
     },
     "execution_count": 22,
     "metadata": {},
     "output_type": "execute_result"
    },
    {
     "data": {
      "image/png": "[encoded data removed]",
      "text/plain": [
       "<Figure size 720x504 with 1 Axes>"
      ]
     },
     "metadata": {},
     "output_type": "display_data"
    }
   ],
   "source": [
    "plt.figure()\n",
    "plt.plot(valeurs_n, valeurs_n**alpha * (valeurs_In - valeurs_Jn), 'g+', label=r'$n^{\\alpha} (I_n - J_n)$')\n",
    "plt.legend()\n",
    "plt.title(r\"Valeurs de $n^{\\alpha} (I_n - J_n)$\")\n",
    "plt.show()"
   ]
  },
  {
   "cell_type": "markdown",
   "metadata": {},
   "source": [
    "- Puis rapidement, on montre que $\\forall x \\geq 0, \\ln(1 + x) \\geq \\frac{x}{1+x}$. Ca peut se prouver de plein de façons différentes, mais par exemple on écrit $f(x) = (x+1) \\log(x+1) - x$ qui est de classe $\\mathcal{C}^1$, et on la dérive. $f'(x) = \\log(x+1) + 1 - 1 > 0$ donc $f$ est croissante, et $f(0) = 0$ donc $f(x) \\geq f(0) = 0$ pour tout $x \\geq 0$."
   ]
  },
  {
   "cell_type": "code",
   "execution_count": 26,
   "metadata": {},
   "outputs": [
    {
     "data": {
      "text/plain": [
       "[<matplotlib.lines.Line2D at 0x7f1d462721d0>]"
      ]
     },
     "execution_count": 26,
     "metadata": {},
     "output_type": "execute_result"
    },
    {
     "data": {
      "text/plain": [
       "[<matplotlib.lines.Line2D at 0x7f1d462fcfd0>]"
      ]
     },
     "execution_count": 26,
     "metadata": {},
     "output_type": "execute_result"
    },
    {
     "data": {
      "text/plain": [
       "<matplotlib.legend.Legend at 0x7f1d46272710>"
      ]
     },
     "execution_count": 26,
     "metadata": {},
     "output_type": "execute_result"
    },
    {
     "data": {
      "text/plain": [
       "Text(0.5, 1.0, 'Comparaison entre deux fonctions')"
      ]
     },
     "execution_count": 26,
     "metadata": {},
     "output_type": "execute_result"
    },
    {
     "data": {
      "image/png": "[encoded data removed]",
      "text/plain": [
       "<Figure size 720x504 with 1 Axes>"
      ]
     },
     "metadata": {},
     "output_type": "display_data"
    }
   ],
   "source": [
    "X = np.linspace(0, 100, 1000)\n",
    "plt.plot(X, np.log(1 + X), 'ro-', label=r'$\\log(1+x)$', markevery=50)\n",
    "plt.plot(X, X / (1 + X), 'b+-', label=r'$\\frac{x}{1+x}$', markevery=50)\n",
    "plt.legend()\n",
    "plt.title(\"Comparaison entre deux fonctions\")\n",
    "plt.show()"
   ]
  },
  {
   "cell_type": "markdown",
   "metadata": {},
   "source": [
    "---\n",
    "## Planche 162"
   ]
  },
  {
   "cell_type": "markdown",
   "metadata": {},
   "source": [
    "On commence par définir la fonction, en utilisant `numpy.cos` et pas `math.cos` (les fonctions de `numpy` peuvent travailler sur des tableaux, c'est plus pratique)."
   ]
  },
  {
   "cell_type": "code",
   "execution_count": 27,
   "metadata": {},
   "outputs": [],
   "source": [
    "def f(x):\n",
    "    return x * (1 - x) * (1 + np.cos(5 * np.pi * x))\n",
    "\n",
    "Xs = np.linspace(0, 1, 2000)\n",
    "Ys = f(Xs)"
   ]
  },
  {
   "cell_type": "markdown",
   "metadata": {},
   "source": [
    "Pas besoin de lire le maximum sur un graphique :"
   ]
  },
  {
   "cell_type": "code",
   "execution_count": 29,
   "metadata": {},
   "outputs": [
    {
     "name": "stdout",
     "output_type": "stream",
     "text": [
      "Sur [0, 1], avec 2000 points, le maximum de f(x) est M = 0.4812601808328304\n"
     ]
    }
   ],
   "source": [
    "M = max_de_f = max(Ys)\n",
    "print(\"Sur [0, 1], avec 2000 points, le maximum de f(x) est M =\", M)"
   ]
  },
  {
   "cell_type": "code",
   "execution_count": 32,
   "metadata": {},
   "outputs": [
    {
     "name": "stdout",
     "output_type": "stream",
     "text": [
      "Sur ces 2000 points, le maximum est atteint en x = 0.4062031015507754\n"
     ]
    }
   ],
   "source": [
    "i_maximisant_f = np.argmax(Ys)\n",
    "x_maximisant_f = Xs[i_maximisant_f]\n",
    "print(\"Sur ces 2000 points, le maximum est atteint en x =\", x_maximisant_f)"
   ]
  },
  {
   "cell_type": "markdown",
   "metadata": {},
   "source": [
    "On affiche la fonction, comme demandé, avec un titre :"
   ]
  },
  {
   "cell_type": "code",
   "execution_count": 39,
   "metadata": {},
   "outputs": [
    {
     "data": {
      "text/plain": [
       "<Figure size 720x504 with 0 Axes>"
      ]
     },
     "execution_count": 39,
     "metadata": {},
     "output_type": "execute_result"
    },
    {
     "data": {
      "text/plain": [
       "[<matplotlib.lines.Line2D at 0x7f1d45b94f60>]"
      ]
     },
     "execution_count": 39,
     "metadata": {},
     "output_type": "execute_result"
    },
    {
     "data": {
      "text/plain": [
       "<matplotlib.collections.LineCollection at 0x7f1d46061fd0>"
      ]
     },
     "execution_count": 39,
     "metadata": {},
     "output_type": "execute_result"
    },
    {
     "data": {
      "text/plain": [
       "<matplotlib.collections.LineCollection at 0x7f1d45b744e0>"
      ]
     },
     "execution_count": 39,
     "metadata": {},
     "output_type": "execute_result"
    },
    {
     "data": {
      "text/plain": [
       "Text(0.5, 1.0, 'Fonction $f(x)$ sur $[0,1]$')"
      ]
     },
     "execution_count": 39,
     "metadata": {},
     "output_type": "execute_result"
    },
    {
     "data": {
      "image/png": "[encoded data removed]",
      "text/plain": [
       "<Figure size 720x504 with 1 Axes>"
      ]
     },
     "metadata": {},
     "output_type": "display_data"
    }
   ],
   "source": [
    "plt.figure()\n",
    "plt.plot(Xs, Ys)\n",
    "plt.vlines(x_maximisant_f, min(Ys), max(Ys), color=\"b\", linestyles=\"dotted\")\n",
    "plt.hlines(max(Ys), min(Xs), max(Xs), color=\"b\", linestyles=\"dotted\")\n",
    "plt.title(\"Fonction $f(x)$ sur $[0,1]$\")\n",
    "plt.show()"
   ]
  },
  {
   "cell_type": "markdown",
   "metadata": {},
   "source": [
    "Pour calculer l'intégrale, on utilise `scipy.integrate.quad` :"
   ]
  },
  {
   "cell_type": "code",
   "execution_count": 40,
   "metadata": {},
   "outputs": [],
   "source": [
    "def In(x, n):\n",
    "    def fn(x):\n",
    "        return f(x) ** n\n",
    "    return integrate.quad(fn, 0, 1)[0]\n",
    "\n",
    "def Sn(x):\n",
    "    return np.sum([In(Xs, n) * x**n for n in range(0, n+1)], axis=0)"
   ]
  },
  {
   "cell_type": "markdown",
   "metadata": {},
   "source": [
    "On vérifie avant de se lancer dans l'affichage :"
   ]
  },
  {
   "cell_type": "code",
   "execution_count": 41,
   "metadata": {},
   "outputs": [
    {
     "name": "stdout",
     "output_type": "stream",
     "text": [
      "In(x, 0 ) = 1.0\n",
      "In(x, 1 ) = 0.16666666666666663\n",
      "In(x, 2 ) = 0.049987680821294386\n",
      "In(x, 3 ) = 0.017874498250810132\n",
      "In(x, 4 ) = 0.0069477925896280456\n",
      "In(x, 5 ) = 0.0028398023087289567\n",
      "In(x, 6 ) = 0.0012011683591199485\n",
      "In(x, 7 ) = 0.00052074827894252\n",
      "In(x, 8 ) = 0.00022991112607879838\n",
      "In(x, 9 ) = 0.00010290185158968158\n"
     ]
    }
   ],
   "source": [
    "for n in range(10):\n",
    "    print(\"In(x,\", n, \") =\", In(Xs, n))"
   ]
  },
  {
   "cell_type": "code",
   "execution_count": 45,
   "metadata": {},
   "outputs": [
    {
     "data": {
      "text/plain": [
       "<Figure size 720x504 with 0 Axes>"
      ]
     },
     "execution_count": 45,
     "metadata": {},
     "output_type": "execute_result"
    },
    {
     "data": {
      "text/plain": [
       "[<matplotlib.lines.Line2D at 0x7f1d458e57b8>]"
      ]
     },
     "execution_count": 45,
     "metadata": {},
     "output_type": "execute_result"
    },
    {
     "data": {
      "text/plain": [
       "[<matplotlib.lines.Line2D at 0x7f1d458e5b70>]"
      ]
     },
     "execution_count": 45,
     "metadata": {},
     "output_type": "execute_result"
    },
    {
     "data": {
      "text/plain": [
       "[<matplotlib.lines.Line2D at 0x7f1d458e5eb8>]"
      ]
     },
     "execution_count": 45,
     "metadata": {},
     "output_type": "execute_result"
    },
    {
     "data": {
      "text/plain": [
       "[<matplotlib.lines.Line2D at 0x7f1d458ee278>]"
      ]
     },
     "execution_count": 45,
     "metadata": {},
     "output_type": "execute_result"
    },
    {
     "data": {
      "text/plain": [
       "[<matplotlib.lines.Line2D at 0x7f1d458ee5f8>]"
      ]
     },
     "execution_count": 45,
     "metadata": {},
     "output_type": "execute_result"
    },
    {
     "data": {
      "text/plain": [
       "<matplotlib.legend.Legend at 0x7f1d45944860>"
      ]
     },
     "execution_count": 45,
     "metadata": {},
     "output_type": "execute_result"
    },
    {
     "data": {
      "image/png": "[encoded data removed]",
      "text/plain": [
       "<Figure size 720x504 with 1 Axes>"
      ]
     },
     "metadata": {},
     "output_type": "display_data"
    }
   ],
   "source": [
    "a = 1/M + 0.1\n",
    "X2s = np.linspace(-a, a, 2000)\n",
    "\n",
    "plt.figure()\n",
    "for n in [10, 20, 30, 40, 50]:\n",
    "    plt.plot(X2s, Sn(X2s), \"-+\", label=\"n =\" + str(n), markevery=20)\n",
    "plt.legend()\n",
    "plt.show()"
   ]
  },
  {
   "cell_type": "markdown",
   "metadata": {},
   "source": [
    "$S_n(x)$ semble diverger pour $x\\to2^-$ quand $n\\to\\infty$.\n",
    "Le rayon de convergence de la série $\\sum In x^n$ **semble** être $2$."
   ]
  },
  {
   "cell_type": "code",
   "execution_count": 46,
   "metadata": {},
   "outputs": [],
   "source": [
    "def un(n):\n",
    "    return In(Xs, n + 1) / In(Xs, n)"
   ]
  },
  {
   "cell_type": "code",
   "execution_count": 47,
   "metadata": {},
   "outputs": [
    {
     "name": "stdout",
     "output_type": "stream",
     "text": [
      "un = 0.16666666666666663 pour n = 0\n",
      "un = 0.2999260849277664 pour n = 1\n",
      "un = 0.35757806637822104 pour n = 2\n",
      "un = 0.38869860804697826 pour n = 3\n",
      "un = 0.4087344681198935 pour n = 4\n",
      "un = 0.4229760485185215 pour n = 5\n",
      "un = 0.43353479550864377 pour n = 6\n",
      "un = 0.44150146121592054 pour n = 7\n",
      "un = 0.4475723004132197 pour n = 8\n",
      "un = 0.4522404636909894 pour n = 9\n"
     ]
    }
   ],
   "source": [
    "for n in range(10):\n",
    "    print(\"un =\", un(n), \"pour n =\", n)"
   ]
  },
  {
   "cell_type": "markdown",
   "metadata": {},
   "source": [
    "Ici, `un` ne peut pas être utilisé comme une fonction \"numpy\" qui travaille sur un tableau, on stocke donc les valeurs \"plus manuellement\" :"
   ]
  },
  {
   "cell_type": "code",
   "execution_count": 50,
   "metadata": {},
   "outputs": [],
   "source": [
    "def affiche_termes_un(N):\n",
    "    valeurs_un = [0] * N\n",
    "    for n in range(N):\n",
    "        valeurs_un[n] = un(n)\n",
    "\n",
    "    plt.figure()\n",
    "    plt.plot(valeurs_un, 'o-')\n",
    "    plt.title(\"Suite $u_n$\")\n",
    "    plt.grid(True)\n",
    "    plt.show()"
   ]
  },
  {
   "cell_type": "code",
   "execution_count": 51,
   "metadata": {},
   "outputs": [
    {
     "data": {
      "image/png": "[encoded data removed]",
      "text/plain": [
       "<Figure size 720x504 with 1 Axes>"
      ]
     },
     "metadata": {},
     "output_type": "display_data"
    }
   ],
   "source": [
    "affiche_termes_un(30)"
   ]
  },
  {
   "cell_type": "markdown",
   "metadata": {},
   "source": [
    "La suite $u_n$ semble être croissante (on peut le prouver), toujours plus petite que $1$ (se prouve facilement aussi, $I_{n+1} < I_n$), et semble converger.\n",
    "Peut-être vers $1/2$, il faut aller regarder plus loin ?"
   ]
  },
  {
   "cell_type": "code",
   "execution_count": 52,
   "metadata": {},
   "outputs": [
    {
     "data": {
      "image/png": "[encoded data removed]",
      "text/plain": [
       "<Figure size 720x504 with 1 Axes>"
      ]
     },
     "metadata": {},
     "output_type": "display_data"
    }
   ],
   "source": [
    "affiche_termes_un(100)"
   ]
  },
  {
   "cell_type": "markdown",
   "metadata": {},
   "source": [
    "Pour conclure, on peut prouver que la suite est monotone et bornée, donc elle converge.\n",
    "Il est plus dur de calculer sa limite, et cela sort de l'exercice."
   ]
  },
  {
   "cell_type": "markdown",
   "metadata": {},
   "source": [
    "---\n",
    "## Planche 166"
   ]
  },
  {
   "cell_type": "code",
   "execution_count": 53,
   "metadata": {},
   "outputs": [],
   "source": [
    "case_max = 12\n",
    "univers = list(range(case_max))"
   ]
  },
  {
   "cell_type": "code",
   "execution_count": 54,
   "metadata": {},
   "outputs": [],
   "source": [
    "def prochaine_case(case):\n",
    "    return (case + rd.randint(1, 6+1)) % case_max"
   ]
  },
  {
   "cell_type": "code",
   "execution_count": 55,
   "metadata": {},
   "outputs": [],
   "source": [
    "def Yn(duree, depart=0):\n",
    "    case = depart\n",
    "    for coup in range(duree):\n",
    "        case = prochaine_case(case)\n",
    "    return case"
   ]
  },
  {
   "cell_type": "markdown",
   "metadata": {},
   "source": [
    "Avant de s'en servir pour simuler plein de trajectoirs, on peut vérifier :\n",
    "\n",
    "- en un coup, on avance pas plus de 6 cases :"
   ]
  },
  {
   "cell_type": "code",
   "execution_count": 56,
   "metadata": {},
   "outputs": [
    {
     "data": {
      "text/plain": [
       "[4, 2, 5, 2, 4, 6, 3, 6, 6, 1]"
      ]
     },
     "execution_count": 56,
     "metadata": {},
     "output_type": "execute_result"
    }
   ],
   "source": [
    "[Yn(1) for _ in range(10)]"
   ]
  },
  {
   "cell_type": "markdown",
   "metadata": {},
   "source": [
    "- En 100 coups, on commence à ne plus voir de tendance :"
   ]
  },
  {
   "cell_type": "code",
   "execution_count": 62,
   "metadata": {
    "scrolled": true
   },
   "outputs": [
    {
     "data": {
      "text/plain": [
       "[9, 7, 9, 2, 4, 5, 3, 2, 5, 5]"
      ]
     },
     "execution_count": 62,
     "metadata": {},
     "output_type": "execute_result"
    }
   ],
   "source": [
    "[Yn(100) for _ in range(10)]"
   ]
  },
  {
   "cell_type": "markdown",
   "metadata": {},
   "source": [
    "Pour l'histogramme, on triche un peu en utilisant `numpy.bincount`. Mais on peut le faire à la main très simplement !"
   ]
  },
  {
   "cell_type": "code",
   "execution_count": 64,
   "metadata": {},
   "outputs": [
    {
     "name": "stdout",
     "output_type": "stream",
     "text": [
      "[4, 9, 3, 10, 0, 7, 1, 0, 8, 10]\n"
     ]
    },
    {
     "data": {
      "text/plain": [
       "array([2, 1, 0, 1, 1, 0, 0, 1, 1, 1, 2, 0])"
      ]
     },
     "execution_count": 64,
     "metadata": {},
     "output_type": "execute_result"
    }
   ],
   "source": [
    "observations = [Yn(100) for _ in range(10)]\n",
    "print(observations)\n",
    "np.bincount(observations, minlength=case_max)"
   ]
  },
  {
   "cell_type": "code",
   "execution_count": 65,
   "metadata": {},
   "outputs": [],
   "source": [
    "def histogramme(duree, repetitions=5000):\n",
    "    cases = [Yn(duree) for _ in range(repetitions)]\n",
    "    frequences = np.bincount(cases, minlength=case_max)\n",
    "    # aussi a la main si besoin\n",
    "    frequences = [0] * case_max\n",
    "    for case in cases:\n",
    "        frequences[case] += 1\n",
    "    return frequences / np.sum(frequences)"
   ]
  },
  {
   "cell_type": "code",
   "execution_count": 66,
   "metadata": {},
   "outputs": [
    {
     "data": {
      "text/plain": [
       "array([0.0902, 0.085 , 0.0832, 0.0838, 0.083 , 0.0822, 0.082 , 0.0894,\n",
       "       0.0808, 0.0728, 0.0792, 0.0884])"
      ]
     },
     "execution_count": 66,
     "metadata": {},
     "output_type": "execute_result"
    }
   ],
   "source": [
    "histogramme(50)"
   ]
  },
  {
   "cell_type": "markdown",
   "metadata": {
    "slideshow": {
     "slide_type": "subslide"
    }
   },
   "source": [
    "On va afficher des histogrammes :"
   ]
  },
  {
   "cell_type": "code",
   "execution_count": 67,
   "metadata": {},
   "outputs": [],
   "source": [
    "def voir_histogramme(valeurs_n):\n",
    "    for n in valeurs_n:\n",
    "        plt.figure()\n",
    "        plt.bar(np.arange(case_max), histogramme(n))\n",
    "        plt.title(\"Histogramme de cases visitées en \" + str(n) + \" coups\")\n",
    "        plt.show()"
   ]
  },
  {
   "cell_type": "code",
   "execution_count": 68,
   "metadata": {
    "scrolled": false
   },
   "outputs": [
    {
     "data": {
      "image/png": "[encoded data removed]",
      "text/plain": [
       "<Figure size 720x504 with 1 Axes>"
      ]
     },
     "metadata": {},
     "output_type": "display_data"
    },
    {
     "data": {
      "image/png": "[encoded data removed]",
      "text/plain": [
       "<Figure size 720x504 with 1 Axes>"
      ]
     },
     "metadata": {},
     "output_type": "display_data"
    },
    {
     "data": {
      "image/png": "[encoded data removed]",
      "text/plain": [
       "<Figure size 720x504 with 1 Axes>"
      ]
     },
     "metadata": {},
     "output_type": "display_data"
    },
    {
     "data": {
      "image/png": "[encoded data removed]",
      "text/plain": [
       "<Figure size 720x504 with 1 Axes>"
      ]
     },
     "metadata": {},
     "output_type": "display_data"
    },
    {
     "data": {
      "image/png": "[encoded data removed]",
      "text/plain": [
       "<Figure size 720x504 with 1 Axes>"
      ]
     },
     "metadata": {},
     "output_type": "display_data"
    },
    {
     "data": {
      "image/png": "[encoded data removed]",
      "text/plain": [
       "<Figure size 720x504 with 1 Axes>"
      ]
     },
     "metadata": {},
     "output_type": "display_data"
    }
   ],
   "source": [
    "voir_histogramme([1, 2, 3, 50, 100, 200])"
   ]
  },
  {
   "cell_type": "markdown",
   "metadata": {},
   "source": [
    "On s'approche d'une distribution uniforme !"
   ]
  },
  {
   "cell_type": "markdown",
   "metadata": {},
   "source": [
    "On a tout simplement l'expression suivante :\n",
    "$$\\forall n \\geq 0, \\mathbb{P}(Y_{n+1} = k) = \\frac{1}{6} \\sum_{\\delta = 1}^{6} \\mathbb{P}(Y_n = k - \\delta \\mod 12).$$\n",
    "Avec $k - 1 \\mod 12 = 11$ si $k = 0$ par exemple. "
   ]
  },
  {
   "cell_type": "markdown",
   "metadata": {},
   "source": [
    "On a donc la matrice suivante pour exprimer $U_n = (\\mathbb{P}(Y_n = k))_{0\\leq k \\leq 11}$ en fonction de $U_{n-1}$ :\n",
    "\n",
    "$$ P = \\frac{1}{6} \\begin{bmatrix}\n",
    "0 & 0 & 0 & 0 & 0 & 0 & 1 & 1 & 1 & 1 & 1 & 1 \\\\\n",
    "1 & 0 & 0 & 0 & 0 & 0 & 0 & 1 & 1 & 1 & 1 & 1\\\\\n",
    "1 & 1 & 0 & 0 & 0 & 0 & 0 & 0 & 1 & 1 & 1 & 1\\\\\n",
    "1 & 1 & 1 & 0 & 0 & 0 & 0 & 0 & 0 & 1 & 1 & 1\\\\\n",
    "1 & 1 & 1 & 1 & 0 & 0 & 0 & 0 & 0 & 0 & 1 & 1\\\\\n",
    "1 & 1 & 1 & 1 & 1 & 0 & 0 & 0 & 0 & 0 & 0 & 1\\\\\n",
    "1 & 1 & 1 & 1 & 1 & 1 & 0 & 0 & 0 & 0 & 0 & 0 \\\\\n",
    "0 & 1 & 1 & 1 & 1 & 1 & 1 & 0 & 0 & 0 & 0 & 0 \\\\\n",
    "0 & 0 & 1 & 1 & 1 & 1 & 1 & 1 & 0 & 0 & 0 & 0 \\\\\n",
    "0 & 0 & 0 & 1 & 1 & 1 & 1 & 1 & 1 & 0 & 0 & 0 \\\\\n",
    "0 & 0 & 0 & 0 & 1 & 1 & 1 & 1 & 1 & 1 & 0 & 0 \\\\\n",
    "0 & 0 & 0 & 0 & 0 & 1 & 1 & 1 & 1 & 1 & 1 & 0 \\\\\n",
    "\\end{bmatrix}$$"
   ]
  },
  {
   "cell_type": "markdown",
   "metadata": {},
   "source": [
    "On va la définir rapidement en Python, et calculer ses valeurs propres notamment."
   ]
  },
  {
   "cell_type": "code",
   "execution_count": 18,
   "metadata": {},
   "outputs": [],
   "source": [
    "case_max = 12"
   ]
  },
  {
   "cell_type": "code",
   "execution_count": 19,
   "metadata": {},
   "outputs": [],
   "source": [
    "P = np.zeros((case_max, case_max))"
   ]
  },
  {
   "cell_type": "code",
   "execution_count": 26,
   "metadata": {},
   "outputs": [],
   "source": [
    "for k in range(case_max):\n",
    "    for i in range(k - 6, k):\n",
    "        P[k, i] = 1/6"
   ]
  },
  {
   "cell_type": "code",
   "execution_count": 27,
   "metadata": {},
   "outputs": [
    {
     "data": {
      "text/plain": [
       "array([[0.        , 0.        , 0.        , 0.        , 0.        ,\n",
       "        0.        , 0.16666667, 0.16666667, 0.16666667, 0.16666667,\n",
       "        0.16666667, 0.16666667],\n",
       "       [0.16666667, 0.        , 0.        , 0.        , 0.        ,\n",
       "        0.        , 0.        , 0.16666667, 0.16666667, 0.16666667,\n",
       "        0.16666667, 0.16666667],\n",
       "       [0.16666667, 0.16666667, 0.        , 0.        , 0.        ,\n",
       "        0.        , 0.        , 0.        , 0.16666667, 0.16666667,\n",
       "        0.16666667, 0.16666667],\n",
       "       [0.16666667, 0.16666667, 0.16666667, 0.        , 0.        ,\n",
       "        0.        , 0.        , 0.        , 0.        , 0.16666667,\n",
       "        0.16666667, 0.16666667],\n",
       "       [0.16666667, 0.16666667, 0.16666667, 0.16666667, 0.        ,\n",
       "        0.        , 0.        , 0.        , 0.        , 0.        ,\n",
       "        0.16666667, 0.16666667],\n",
       "       [0.16666667, 0.16666667, 0.16666667, 0.16666667, 0.16666667,\n",
       "        0.        , 0.        , 0.        , 0.        , 0.        ,\n",
       "        0.        , 0.16666667],\n",
       "       [0.16666667, 0.16666667, 0.16666667, 0.16666667, 0.16666667,\n",
       "        0.16666667, 0.        , 0.        , 0.        , 0.        ,\n",
       "        0.        , 0.        ],\n",
       "       [0.        , 0.16666667, 0.16666667, 0.16666667, 0.16666667,\n",
       "        0.16666667, 0.16666667, 0.        , 0.        , 0.        ,\n",
       "        0.        , 0.        ],\n",
       "       [0.        , 0.        , 0.16666667, 0.16666667, 0.16666667,\n",
       "        0.16666667, 0.16666667, 0.16666667, 0.        , 0.        ,\n",
       "        0.        , 0.        ],\n",
       "       [0.        , 0.        , 0.        , 0.16666667, 0.16666667,\n",
       "        0.16666667, 0.16666667, 0.16666667, 0.16666667, 0.        ,\n",
       "        0.        , 0.        ],\n",
       "       [0.        , 0.        , 0.        , 0.        , 0.16666667,\n",
       "        0.16666667, 0.16666667, 0.16666667, 0.16666667, 0.16666667,\n",
       "        0.        , 0.        ],\n",
       "       [0.        , 0.        , 0.        , 0.        , 0.        ,\n",
       "        0.16666667, 0.16666667, 0.16666667, 0.16666667, 0.16666667,\n",
       "        0.16666667, 0.        ]])"
      ]
     },
     "execution_count": 27,
     "metadata": {},
     "output_type": "execute_result"
    }
   ],
   "source": [
    "P"
   ]
  },
  {
   "cell_type": "code",
   "execution_count": 28,
   "metadata": {},
   "outputs": [],
   "source": [
    "import numpy.linalg as LA"
   ]
  },
  {
   "cell_type": "code",
   "execution_count": 29,
   "metadata": {},
   "outputs": [],
   "source": [
    "spectre, vecteur_propres = LA.eig(P)"
   ]
  },
  {
   "cell_type": "markdown",
   "metadata": {},
   "source": [
    "On a besoin d'éliminer les erreurs d'arrondis, mais on voit que $1$ est valeur propre, associée au vecteur $[1,\\dots,1,\\dots,1]$ avec un $1$ seulement à la 8ème composante."
   ]
  },
  {
   "cell_type": "code",
   "execution_count": 34,
   "metadata": {},
   "outputs": [
    {
     "data": {
      "text/plain": [
       "array([ 1.        +0.j        , -0.16666667+0.62200847j,\n",
       "       -0.16666667-0.62200847j, -0.16666667+0.16666667j,\n",
       "       -0.16666667-0.16666667j, -0.16666667+0.0446582j ,\n",
       "       -0.16666667-0.0446582j ,  0.        +0.j        ,\n",
       "        0.        +0.j        , -0.        +0.j        ,\n",
       "        0.        +0.j        ,  0.        -0.j        ])"
      ]
     },
     "execution_count": 34,
     "metadata": {},
     "output_type": "execute_result"
    }
   ],
   "source": [
    "np.round(spectre,10)"
   ]
  },
  {
   "cell_type": "code",
   "execution_count": 31,
   "metadata": {},
   "outputs": [
    {
     "data": {
      "text/plain": [
       "array([ 0.+0.j,  0.+0.j,  0.-0.j, -0.+0.j, -0.-0.j, -0.+0.j, -0.-0.j,\n",
       "        0.+0.j,  0.+0.j,  0.+0.j, -0.+0.j, -0.-0.j])"
      ]
     },
     "execution_count": 31,
     "metadata": {},
     "output_type": "execute_result"
    }
   ],
   "source": [
    "np.round(vecteur_propres[0])"
   ]
  },
  {
   "cell_type": "markdown",
   "metadata": {},
   "source": [
    "$P$ n'est pas diagonalisable, **à prouver** au tableau si l'examinateur le demande."
   ]
  },
  {
   "cell_type": "markdown",
   "metadata": {},
   "source": [
    "----\n",
    "## Planche 168"
   ]
  },
  {
   "cell_type": "markdown",
   "metadata": {},
   "source": [
    "- Soit $f(x) = \\frac{1}{2 - \\exp(x)}$, et $a(n) = \\frac{f^{(n)}(0)}{n!}$.\n"
   ]
  },
  {
   "cell_type": "code",
   "execution_count": 76,
   "metadata": {},
   "outputs": [],
   "source": [
    "def f(x):\n",
    "    return 1 / (2 - np.exp(x))"
   ]
  },
  {
   "cell_type": "markdown",
   "metadata": {},
   "source": [
    "- Soit $g(x) = 2 - \\exp(x)$, telle que $g(x) f(x) = 1$. En dérivant $n > 0$ fois cette identité et en utilisant la formule de Leibniz, on trouve :\n",
    "$$ (g(x)f(x))^{(n)} = 0 = \\sum_{k=0}^n {n \\choose k} g^{(k)}(x) f^{(n-k)}(x).$$\n",
    "Donc en $x=0$, on utilise que $g^{(k)}(x) = - \\exp(x)$, qui donne que $g^{(k)}(0) = 1$ si $k=0$ ou $-1$ sinon, pour trouver que $\\sum_{k=1}^n {n \\choose k} f^{(k)}(0) = f^{(n)}(0)$. En écrivant ${n \\choose k} = \\frac{k! (n-k)!}{n!}$ et avec la formule définissant $a(n)$, cela donne directement la somme recherchée : $$ a(n) = \\sum_{k=1}^n \\frac{a(n-k)}{k!}.$$"
   ]
  },
  {
   "cell_type": "markdown",
   "metadata": {},
   "source": [
    "- Pour calculer $a(n)$ avec Python, on utilise cette formule comme une formule récursive, et on triche un peu en utilisant `math.factorial` pour calculer $k!$.Il nous faut aussi $a(0) = f(0) = 1$ :"
   ]
  },
  {
   "cell_type": "code",
   "execution_count": 77,
   "metadata": {},
   "outputs": [],
   "source": [
    "from math import factorial\n",
    "\n",
    "def a_0an(nMax):\n",
    "    valeurs_a = np.zeros(nMax+1)\n",
    "    valeurs_a[0] = 1.0\n",
    "    for n in range(1, nMax+1):\n",
    "        valeurs_a[n] = sum(valeurs_a[n-k] / factorial(k) for k in range(1, n+1))\n",
    "    return valeurs_a"
   ]
  },
  {
   "cell_type": "code",
   "execution_count": 78,
   "metadata": {},
   "outputs": [
    {
     "name": "stdout",
     "output_type": "stream",
     "text": [
      "Pour n = 0 on a a(n) = 1.0\n",
      "Pour n = 1 on a a(n) = 1.0\n",
      "Pour n = 2 on a a(n) = 1.5\n",
      "Pour n = 3 on a a(n) = 2.1666666666666665\n",
      "Pour n = 4 on a a(n) = 3.1249999999999996\n",
      "Pour n = 5 on a a(n) = 4.508333333333334\n",
      "Pour n = 6 on a a(n) = 6.504166666666667\n",
      "Pour n = 7 on a a(n) = 9.383531746031748\n",
      "Pour n = 8 on a a(n) = 13.537574404761907\n",
      "Pour n = 9 on a a(n) = 19.530591380070547\n",
      "Pour n = 10 on a a(n) = 28.176687334656087\n"
     ]
    }
   ],
   "source": [
    "nMax = 10\n",
    "valeurs_n = np.arange(0, nMax + 1)\n",
    "valeurs_a = a_0an(nMax)\n",
    "\n",
    "for n in valeurs_n:\n",
    "    print(\"Pour n =\", n, \"on a a(n) =\", valeurs_a[n])"
   ]
  },
  {
   "cell_type": "code",
   "execution_count": 83,
   "metadata": {},
   "outputs": [
    {
     "data": {
      "text/plain": [
       "<Figure size 720x504 with 0 Axes>"
      ]
     },
     "execution_count": 83,
     "metadata": {},
     "output_type": "execute_result"
    },
    {
     "data": {
      "text/plain": [
       "[<matplotlib.lines.Line2D at 0x7f1d45585588>]"
      ]
     },
     "execution_count": 83,
     "metadata": {},
     "output_type": "execute_result"
    },
    {
     "data": {
      "text/plain": [
       "[<matplotlib.lines.Line2D at 0x7f1d460c6a90>]"
      ]
     },
     "execution_count": 83,
     "metadata": {},
     "output_type": "execute_result"
    },
    {
     "data": {
      "text/plain": [
       "[<matplotlib.lines.Line2D at 0x7f1d4556e5f8>]"
      ]
     },
     "execution_count": 83,
     "metadata": {},
     "output_type": "execute_result"
    },
    {
     "data": {
      "text/plain": [
       "Text(0.5, 1.0, '$a(n)$ et deux autres suites')"
      ]
     },
     "execution_count": 83,
     "metadata": {},
     "output_type": "execute_result"
    },
    {
     "data": {
      "text/plain": [
       "<matplotlib.legend.Legend at 0x7f1d4556eda0>"
      ]
     },
     "execution_count": 83,
     "metadata": {},
     "output_type": "execute_result"
    },
    {
     "data": {
      "image/png": "[encoded data removed]",
      "text/plain": [
       "<Figure size 720x504 with 1 Axes>"
      ]
     },
     "metadata": {},
     "output_type": "display_data"
    }
   ],
   "source": [
    "plt.figure()\n",
    "plt.plot(valeurs_n, valeurs_a, 'ro-', label=r'$a(n)$', markersize=12)\n",
    "plt.plot(valeurs_n, 1 / np.log(2)**valeurs_n, 'g+-', label=r'$1/\\log(2)^n$')\n",
    "plt.plot(valeurs_n, 1 / (2 * np.log(2)**valeurs_n), 'bd-', label=r'$1/(2\\log(2)^n)$')\n",
    "plt.title(\"$a(n)$ et deux autres suites\")\n",
    "plt.legend()\n",
    "plt.show()"
   ]
  },
  {
   "cell_type": "markdown",
   "metadata": {},
   "source": [
    "- On observe que $a(n)$ est comprise entre $\\frac{1}{2(\\log(2))^n}$ et $\\frac{1}{\\log(2)^n}$, donc le rayon de convergence de $S(x) = \\sum a(n) x^n$ est $\\log(2)$.\n",
    "- On va calculer les sommes partielles $S_n(x)$ de la série $S(x)$ :"
   ]
  },
  {
   "cell_type": "code",
   "execution_count": 84,
   "metadata": {},
   "outputs": [],
   "source": [
    "def Sn(x, n):\n",
    "    valeurs_a = a_0an(n)\n",
    "    return sum(valeurs_a[k] * x**k for k in range(0, n + 1))"
   ]
  },
  {
   "cell_type": "markdown",
   "metadata": {},
   "source": [
    "On peut vérifie que notre fonction marche :"
   ]
  },
  {
   "cell_type": "code",
   "execution_count": 85,
   "metadata": {},
   "outputs": [
    {
     "name": "stdout",
     "output_type": "stream",
     "text": [
      "Pour n = 0 S_n(x) = 1.0\n",
      "Pour n = 1 S_n(x) = 1.5\n",
      "Pour n = 2 S_n(x) = 1.875\n",
      "Pour n = 3 S_n(x) = 2.1458333333333335\n",
      "Pour n = 4 S_n(x) = 2.3411458333333335\n",
      "Pour n = 5 S_n(x) = 2.4820312500000004\n",
      "Pour n = 6 S_n(x) = 2.583658854166667\n"
     ]
    }
   ],
   "source": [
    "x = 0.5\n",
    "for n in range(0, 6 + 1):\n",
    "    print(\"Pour n =\", n, \"S_n(x) =\", Sn(x, n))"
   ]
  },
  {
   "cell_type": "code",
   "execution_count": 86,
   "metadata": {},
   "outputs": [],
   "source": [
    "valeurs_x = np.linspace(0, 0.5, 1000)\n",
    "valeurs_f = f(valeurs_x)"
   ]
  },
  {
   "cell_type": "markdown",
   "metadata": {},
   "source": [
    "<span style=\"color:red;\">Je pense que l'énoncé comporte une typo sur l'intervale ! Vu le rayon de convergence, on ne voit rien si on affiche sur $[0,10]$ !</span>"
   ]
  },
  {
   "cell_type": "code",
   "execution_count": 89,
   "metadata": {},
   "outputs": [
    {
     "data": {
      "text/plain": [
       "<Figure size 720x504 with 0 Axes>"
      ]
     },
     "execution_count": 89,
     "metadata": {},
     "output_type": "execute_result"
    },
    {
     "data": {
      "text/plain": [
       "[<matplotlib.lines.Line2D at 0x7f1d455ca748>]"
      ]
     },
     "execution_count": 89,
     "metadata": {},
     "output_type": "execute_result"
    },
    {
     "data": {
      "text/plain": [
       "[<matplotlib.lines.Line2D at 0x7f1d4536def0>]"
      ]
     },
     "execution_count": 89,
     "metadata": {},
     "output_type": "execute_result"
    },
    {
     "data": {
      "text/plain": [
       "[<matplotlib.lines.Line2D at 0x7f1d455cae48>]"
      ]
     },
     "execution_count": 89,
     "metadata": {},
     "output_type": "execute_result"
    },
    {
     "data": {
      "text/plain": [
       "[<matplotlib.lines.Line2D at 0x7f1d455caeb8>]"
      ]
     },
     "execution_count": 89,
     "metadata": {},
     "output_type": "execute_result"
    },
    {
     "data": {
      "text/plain": [
       "[<matplotlib.lines.Line2D at 0x7f1d455b8550>]"
      ]
     },
     "execution_count": 89,
     "metadata": {},
     "output_type": "execute_result"
    },
    {
     "data": {
      "text/plain": [
       "[<matplotlib.lines.Line2D at 0x7f1d455b8828>]"
      ]
     },
     "execution_count": 89,
     "metadata": {},
     "output_type": "execute_result"
    },
    {
     "data": {
      "text/plain": [
       "[<matplotlib.lines.Line2D at 0x7f1d453bf898>]"
      ]
     },
     "execution_count": 89,
     "metadata": {},
     "output_type": "execute_result"
    },
    {
     "data": {
      "text/plain": [
       "[<matplotlib.lines.Line2D at 0x7f1d4536d860>]"
      ]
     },
     "execution_count": 89,
     "metadata": {},
     "output_type": "execute_result"
    },
    {
     "data": {
      "text/plain": [
       "Text(0.5, 1.0, '$f(x)$ et $S_n(x)$ pour $n = 0$ à $n = 6$')"
      ]
     },
     "execution_count": 89,
     "metadata": {},
     "output_type": "execute_result"
    },
    {
     "data": {
      "text/plain": [
       "<matplotlib.legend.Legend at 0x7f1d455b8fd0>"
      ]
     },
     "execution_count": 89,
     "metadata": {},
     "output_type": "execute_result"
    },
    {
     "data": {
      "image/png": "[encoded data removed]",
      "text/plain": [
       "<Figure size 720x504 with 1 Axes>"
      ]
     },
     "metadata": {},
     "output_type": "display_data"
    }
   ],
   "source": [
    "plt.figure()\n",
    "for n in range(0, 6 + 1):\n",
    "    valeurs_Sn = []\n",
    "    for x in valeurs_x:\n",
    "        valeurs_Sn.append(Sn(x, n))\n",
    "    plt.plot(valeurs_x, valeurs_Sn, 'o:', label='$S_' + str(n) + '(x)$', markevery=50)\n",
    "plt.plot(valeurs_x, valeurs_f, '+-', label='$f(x)$', markevery=50)\n",
    "plt.title(\"$f(x)$ et $S_n(x)$ pour $n = 0$ à $n = 6$\")\n",
    "plt.legend()\n",
    "plt.show()"
   ]
  },
  {
   "cell_type": "markdown",
   "metadata": {},
   "source": [
    "## Planche 170"
   ]
  },
  {
   "cell_type": "code",
   "execution_count": 90,
   "metadata": {},
   "outputs": [],
   "source": [
    "def u(n):\n",
    "    return np.arctan(n+1) - np.arctan(n)"
   ]
  },
  {
   "cell_type": "code",
   "execution_count": 92,
   "metadata": {},
   "outputs": [
    {
     "data": {
      "text/plain": [
       "<Figure size 720x504 with 0 Axes>"
      ]
     },
     "execution_count": 92,
     "metadata": {},
     "output_type": "execute_result"
    },
    {
     "data": {
      "text/plain": [
       "[<matplotlib.lines.Line2D at 0x7f1d457a2a90>]"
      ]
     },
     "execution_count": 92,
     "metadata": {},
     "output_type": "execute_result"
    },
    {
     "data": {
      "text/plain": [
       "Text(0.5, 0, 'Entier $n$')"
      ]
     },
     "execution_count": 92,
     "metadata": {},
     "output_type": "execute_result"
    },
    {
     "data": {
      "text/plain": [
       "Text(0, 0.5, 'Valeur $u_n$')"
      ]
     },
     "execution_count": 92,
     "metadata": {},
     "output_type": "execute_result"
    },
    {
     "data": {
      "text/plain": [
       "Text(0.5, 1.0, 'Premières valeurs de $u_n$')"
      ]
     },
     "execution_count": 92,
     "metadata": {},
     "output_type": "execute_result"
    },
    {
     "data": {
      "image/png": "[encoded data removed]",
      "text/plain": [
       "<Figure size 720x504 with 1 Axes>"
      ]
     },
     "metadata": {},
     "output_type": "display_data"
    }
   ],
   "source": [
    "valeurs_n = np.arange(50)\n",
    "valeurs_u = u(valeurs_n)\n",
    "\n",
    "plt.figure()\n",
    "plt.plot(valeurs_n, valeurs_u, \"o-\")\n",
    "plt.xlabel(\"Entier $n$\")\n",
    "plt.ylabel(\"Valeur $u_n$\")\n",
    "plt.title(\"Premières valeurs de $u_n$\")"
   ]
  },
  {
   "cell_type": "markdown",
   "metadata": {},
   "source": [
    "On peut vérifier le prognostic quant à la somme de la série $\\sum u_n$ :"
   ]
  },
  {
   "cell_type": "code",
   "execution_count": 93,
   "metadata": {},
   "outputs": [
    {
     "data": {
      "text/plain": [
       "1.5707963267948966"
      ]
     },
     "execution_count": 93,
     "metadata": {},
     "output_type": "execute_result"
    }
   ],
   "source": [
    "pi/2"
   ]
  },
  {
   "cell_type": "code",
   "execution_count": 94,
   "metadata": {},
   "outputs": [
    {
     "data": {
      "text/plain": [
       "1.550798992821746"
      ]
     },
     "execution_count": 94,
     "metadata": {},
     "output_type": "execute_result"
    }
   ],
   "source": [
    "sum(valeurs_u)"
   ]
  },
  {
   "cell_type": "code",
   "execution_count": 95,
   "metadata": {},
   "outputs": [
    {
     "data": {
      "text/plain": [
       "0.01273069820194558"
      ]
     },
     "execution_count": 95,
     "metadata": {},
     "output_type": "execute_result"
    }
   ],
   "source": [
    "somme_serie = pi/2\n",
    "somme_partielle = sum(valeurs_u)\n",
    "erreur_relative = abs(somme_partielle - somme_serie) / somme_serie\n",
    "erreur_relative"
   ]
  },
  {
   "cell_type": "markdown",
   "metadata": {},
   "source": [
    "Avec seulement $50$ termes, on a moins de $1.5\\%$ d'erreur relative, c'est déjà pas mal !"
   ]
  },
  {
   "cell_type": "markdown",
   "metadata": {},
   "source": [
    "$(u_n)_n$ semble être décroisante, et tendre vers $0$. On peut prouver ça mathématiquement."
   ]
  },
  {
   "cell_type": "markdown",
   "metadata": {},
   "source": [
    "On sait aussi que $\\forall x\\neq0, \\arctan(x) + \\arctan(1/x) = \\frac{\\pi}{2}$, et que $\\arctan(x) \\sim x$, donc on obtient que $u_n \\sim \\frac{1}{n} - \\frac{1}{n+1} = \\frac{1}{n(n+1)}$.\n",
    "On peut le vérifier :"
   ]
  },
  {
   "cell_type": "code",
   "execution_count": 97,
   "metadata": {},
   "outputs": [
    {
     "data": {
      "text/plain": [
       "<Figure size 720x504 with 0 Axes>"
      ]
     },
     "execution_count": 97,
     "metadata": {},
     "output_type": "execute_result"
    },
    {
     "data": {
      "text/plain": [
       "[<matplotlib.lines.Line2D at 0x7f1d453292b0>]"
      ]
     },
     "execution_count": 97,
     "metadata": {},
     "output_type": "execute_result"
    },
    {
     "data": {
      "text/plain": [
       "Text(0.5, 0, 'Entier $n$')"
      ]
     },
     "execution_count": 97,
     "metadata": {},
     "output_type": "execute_result"
    },
    {
     "data": {
      "text/plain": [
       "Text(0.5, 1.0, 'Valeurs de $u_n / \\\\frac{1}{n(n+1)}$')"
      ]
     },
     "execution_count": 97,
     "metadata": {},
     "output_type": "execute_result"
    },
    {
     "data": {
      "image/png": "[encoded data removed]",
      "text/plain": [
       "<Figure size 720x504 with 1 Axes>"
      ]
     },
     "metadata": {},
     "output_type": "display_data"
    }
   ],
   "source": [
    "valeurs_n = np.arange(10, 1000)\n",
    "valeurs_u = u(valeurs_n)\n",
    "valeurs_equivalents = 1 / (valeurs_n * (valeurs_n + 1))\n",
    "\n",
    "plt.figure()\n",
    "plt.plot(valeurs_n, valeurs_u / valeurs_equivalents, \"-\")\n",
    "plt.xlabel(\"Entier $n$\")\n",
    "plt.title(r\"Valeurs de $u_n / \\frac{1}{n(n+1)}$\")"
   ]
  },
  {
   "cell_type": "markdown",
   "metadata": {},
   "source": [
    "- Pour $e = (e_n)_{n\\in\\mathbb{N}}$ une suite de nombres égaux à $0$ ou $1$ (*i.e.*, $\\forall n, e_n \\in \\{0,1\\}$, $S_n(e) = \\sum{i=0}^n e_i u_i$ est bornée entre $0$ et $\\sum_{i=0}^n u_i$. Et $u_n \\sim \\frac{1}{n(n+1)}$ qui est le terme général d'une série convergente (par critère de Cauchy, par exemple, avec $\\alpha=2$). Donc la série $\\sum u_n$ converge et donc par encadrement, $S_n(e)$ converge pour $n\\to\\infty$, *i.e.*, $S(e)$ converge. Ces justifications donnent aussi que $$0 \\leq S(e) \\leq \\sum_{n\\geq0} u_n = \\lim_{n\\to\\infty} \\arctan(n) - \\arctan(0) = \\frac{\\pi}{2}.$$"
   ]
  },
  {
   "cell_type": "markdown",
   "metadata": {},
   "source": [
    "- Pour $e = (0, 1, 0, 1, \\ldots)$, $S(e)$ peut être calculée avec Python. Pour trouver une valeur approchée à $\\delta = 10^{-5}$ près, il faut borner le **reste** de la série, $R_n(e) = \\sum_{i \\geq n + 1} e_i u_i$. Ici, $R_{2n+1}(e) \\leq u_{2n+2}$ or $u_i \\leq \\frac{1}{i(i+1)}$, donc $R_{2n+1}(e) \\leq \\frac{1}{(2n+1)(2n+2)}$. $\\frac{1}{(2n+1)(2n+2)} \\leq \\delta$ dès que $2n+1 \\geq \\sqrt{\\delta}$, *i.e.*, $n \\geq \\frac{\\sqrt{\\delta}+1}{2}$. Calculons ça :"
   ]
  },
  {
   "cell_type": "code",
   "execution_count": 98,
   "metadata": {},
   "outputs": [],
   "source": [
    "from math import ceil, sqrt, pi"
   ]
  },
  {
   "cell_type": "code",
   "execution_count": 99,
   "metadata": {},
   "outputs": [],
   "source": [
    "def Se(e, delta=1e-5, borne_sur_n_0=10000):\n",
    "    borne_sur_n_1 = int(ceil(1 + sqrt(delta)/2.0))\n",
    "    borne_sur_n = max(borne_sur_n_0, borne_sur_n_1)\n",
    "    somme_partielle = 0\n",
    "    for n in range(0, borne_sur_n + 1):\n",
    "        somme_partielle += e(n) * u(n)\n",
    "    return somme_partielle"
   ]
  },
  {
   "cell_type": "code",
   "execution_count": 100,
   "metadata": {},
   "outputs": [],
   "source": [
    "def e010101(n):\n",
    "    return 1 if n % 2 == 0 else 0"
   ]
  },
  {
   "cell_type": "code",
   "execution_count": 101,
   "metadata": {},
   "outputs": [
    {
     "name": "stdout",
     "output_type": "stream",
     "text": [
      "Pour delta = 1e-05 on a Se010101(delta) ~= 1.06408\n"
     ]
    }
   ],
   "source": [
    "delta = 1e-5\n",
    "Se010101 = Se(e010101, delta)\n",
    "print(\"Pour delta =\", delta, \"on a Se010101(delta) ~=\", round(Se010101, 5))"
   ]
  },
  {
   "cell_type": "markdown",
   "metadata": {},
   "source": [
    "- Pour inverser la fonction, et trouver la suite $e$ telle que $S(e) = x$ pour un $x$ donné, il faut réfléchir un peu plus."
   ]
  },
  {
   "cell_type": "code",
   "execution_count": 102,
   "metadata": {},
   "outputs": [],
   "source": [
    "def inverse_Se(x, n):\n",
    "    assert 0 < x < pi/2.0, \"Erreur : x doit être entre 0 et pi/2 strictement.\"\n",
    "    print(\"Je vous laisse chercher.\")\n",
    "    raise NotImplementedError"
   ]
  },
  {
   "cell_type": "markdown",
   "metadata": {},
   "source": [
    "Ca suffit pour la partie Python."
   ]
  },
  {
   "cell_type": "markdown",
   "metadata": {},
   "source": [
    "----\n",
    "## Planche 172"
   ]
  },
  {
   "cell_type": "code",
   "execution_count": 103,
   "metadata": {},
   "outputs": [],
   "source": [
    "from random import random\n",
    "\n",
    "def pile(proba):\n",
    "    \"\"\" True si pile, False si face (false, face, facile à retenir).\"\"\"\n",
    "    return random() < proba"
   ]
  },
  {
   "cell_type": "markdown",
   "metadata": {},
   "source": [
    "- D'abord, on écrit une fonction pour **simuler** l'événement aléatoire :"
   ]
  },
  {
   "cell_type": "code",
   "execution_count": 104,
   "metadata": {},
   "outputs": [],
   "source": [
    "def En(n, p):\n",
    "    lance = pile(p)\n",
    "    for i in range(n - 1):\n",
    "        nouveau_lance = pile(p)\n",
    "        if lance and nouveau_lance:\n",
    "            return False\n",
    "        nouveau_lance = lance\n",
    "    return True"
   ]
  },
  {
   "cell_type": "code",
   "execution_count": 105,
   "metadata": {},
   "outputs": [],
   "source": [
    "import numpy as np"
   ]
  },
  {
   "cell_type": "code",
   "execution_count": 106,
   "metadata": {},
   "outputs": [
    {
     "data": {
      "text/plain": [
       "array([30, 70])"
      ]
     },
     "execution_count": 106,
     "metadata": {},
     "output_type": "execute_result"
    }
   ],
   "source": [
    "lances = [ En(2, 0.5) for _ in range(100) ]\n",
    "np.bincount(lances)"
   ]
  },
  {
   "cell_type": "code",
   "execution_count": 107,
   "metadata": {},
   "outputs": [],
   "source": [
    "def pn(n, p, nbSimulations=100000):\n",
    "    return np.mean([ En(n, p) for _ in range(nbSimulations) ])"
   ]
  },
  {
   "cell_type": "markdown",
   "metadata": {},
   "source": [
    "- Par exemple, pour seulement $2$ lancés, on a $1 - p_n = p^2$ car $\\overline{E_n}$ est l'événement d'obtenir $2$ piles qui est de probabilité $p^2$."
   ]
  },
  {
   "cell_type": "code",
   "execution_count": 108,
   "metadata": {},
   "outputs": [
    {
     "data": {
      "text/plain": [
       "0.75054"
      ]
     },
     "execution_count": 108,
     "metadata": {},
     "output_type": "execute_result"
    }
   ],
   "source": [
    "pn(2, 0.5)"
   ]
  },
  {
   "cell_type": "markdown",
   "metadata": {},
   "source": [
    "- Avec $4$ lancés, on a $p_n$ bien plus petit."
   ]
  },
  {
   "cell_type": "code",
   "execution_count": 109,
   "metadata": {},
   "outputs": [
    {
     "data": {
      "text/plain": [
       "0.56445"
      ]
     },
     "execution_count": 109,
     "metadata": {},
     "output_type": "execute_result"
    }
   ],
   "source": [
    "pn(4, 0.5)"
   ]
  },
  {
   "cell_type": "markdown",
   "metadata": {},
   "source": [
    "- On vérifie que $p_n(n, p)$ est décroissante en $p$, à $n$ fixé :"
   ]
  },
  {
   "cell_type": "code",
   "execution_count": 110,
   "metadata": {},
   "outputs": [
    {
     "data": {
      "text/plain": [
       "0.97283"
      ]
     },
     "execution_count": 110,
     "metadata": {},
     "output_type": "execute_result"
    }
   ],
   "source": [
    "pn(4, 0.1)"
   ]
  },
  {
   "cell_type": "code",
   "execution_count": 111,
   "metadata": {},
   "outputs": [
    {
     "data": {
      "text/plain": [
       "0.10047"
      ]
     },
     "execution_count": 111,
     "metadata": {},
     "output_type": "execute_result"
    }
   ],
   "source": [
    "pn(4, 0.9)"
   ]
  },
  {
   "cell_type": "markdown",
   "metadata": {},
   "source": [
    "- On vérifie que $p_n(n, p)$ est décroissante en $n$, à $p$ fixé :"
   ]
  },
  {
   "cell_type": "code",
   "execution_count": 112,
   "metadata": {},
   "outputs": [
    {
     "data": {
      "text/plain": [
       "0.86535"
      ]
     },
     "execution_count": 112,
     "metadata": {},
     "output_type": "execute_result"
    }
   ],
   "source": [
    "pn(6, 0.2)"
   ]
  },
  {
   "cell_type": "code",
   "execution_count": 113,
   "metadata": {},
   "outputs": [
    {
     "data": {
      "text/plain": [
       "0.80335"
      ]
     },
     "execution_count": 113,
     "metadata": {},
     "output_type": "execute_result"
    }
   ],
   "source": [
    "pn(20, 0.2)"
   ]
  },
  {
   "cell_type": "code",
   "execution_count": 114,
   "metadata": {},
   "outputs": [
    {
     "data": {
      "text/plain": [
       "0.80053"
      ]
     },
     "execution_count": 114,
     "metadata": {},
     "output_type": "execute_result"
    }
   ],
   "source": [
    "pn(100, 0.2)"
   ]
  },
  {
   "cell_type": "markdown",
   "metadata": {},
   "source": [
    "- Notons que la suite semble converger ? Ou alors elle décroit de moins en moins rapidement."
   ]
  },
  {
   "cell_type": "markdown",
   "metadata": {},
   "source": [
    "- Par récurrence et en considérant les possibles valeurs des deux derniers lancés numérotés $n+2$ et $n+1$, on peut montrer que\n",
    "  $$\\forall n, p_{n+2} = (1-p) p_{n+1} + p(1-p) p_n$$"
   ]
  },
  {
   "cell_type": "markdown",
   "metadata": {},
   "source": [
    "- Si $p_n$ converge, on trouve sa limite $l$ comme point fixe de l'équation précédente. $l = (1-p) l + p(1-p) l$ ssi $1 = 1-p + p(1-p)$ ou $l=0$, donc si $p\\neq0$, $l=0$. Ainsi l'événement \"on obtient deux piles d'affilé sur un nombre infini de lancers\" est bien presque sûr."
   ]
  },
  {
   "cell_type": "markdown",
   "metadata": {},
   "source": [
    "- Je vous laisse terminer pour calculer $T$ et les dernières questions."
   ]
  },
  {
   "cell_type": "markdown",
   "metadata": {},
   "source": [
    "----\n",
    "## Planche 177\n",
    "\n",
    "- Le domaine de définition de $f(x) = \\sum_{n \\geq 1} \\frac{x^n}{n^2}$ est $[-1, 1]$ car $\\sum \\frac{x^n}{n^k}$ converge si $\\sum x^n$ converge (par $k$ dérivations successives), qui converge ssi $|x| < 1$. Et en $-1$ et $1$, on utilise $\\sum \\frac{1}{n^2} = \\frac{\\pi^2}{6}$.\n",
    "\n",
    "- Pour calculer $f(x)$ à $10^{-5}$ près, il faut calculer sa somme partielle $S_n(x) := \\sum_{i=1}^n \\frac{x^i}{i^2}$ en bornant son reste $S_n(x) := \\sum_{i \\geq n+1} \\frac{x^i}{i^2}$ par (au moins) $10^{-5}$. Une inégalité montre rapidement que $R_n(x) \\leq |x|^{n+1}\\sum_{i\\geq n+1} \\frac{1}{i^2} $, et donc $R_n(x) \\leq \\delta$ dès que $|x|^{n+1} \\leq \\frac{\\pi^2}{6} \\delta$, puisque $\\sum_{i\\geq n+1} \\frac{1}{i^2} \\leq \\sum_{i=0}^{+\\infty} \\frac{1}{i^2} = \\frac{\\pi^2}{6}$. En inversant pour trouver $n$, cela donne que le reste est contrôlé par $\\delta$ dès que $n \\leq \\log_{|x|}\\left( \\frac{6}{\\pi^2} \\delta \\right) - 1$ (si $x\\neq 0$, et par $n \\geq 0$ sinon)."
   ]
  },
  {
   "cell_type": "code",
   "execution_count": 115,
   "metadata": {},
   "outputs": [],
   "source": [
    "from math import floor, log, pi"
   ]
  },
  {
   "cell_type": "code",
   "execution_count": 116,
   "metadata": {},
   "outputs": [],
   "source": [
    "delta = 1e-5\n",
    "\n",
    "def f(x):\n",
    "    if x == 0: return 0\n",
    "    borne_sur_n = int(floor(log((6/pi**2 * delta), abs(x)) - 1))\n",
    "    somme_partielle = 0\n",
    "    for n in range(1, borne_sur_n + 1):\n",
    "        somme_partielle += x**n / n**2\n",
    "    return somme_partielle"
   ]
  },
  {
   "cell_type": "code",
   "execution_count": 117,
   "metadata": {},
   "outputs": [
    {
     "name": "stdout",
     "output_type": "stream",
     "text": [
      "Pour x = -0.75 \tf(x) = -0.64276\n",
      "Pour x = -0.5 \tf(x) = -0.44841\n",
      "Pour x = 0.25 \tf(x) = 0.26765\n",
      "Pour x = 0 \tf(x) = 0\n",
      "Pour x = 0.25 \tf(x) = 0.26765\n",
      "Pour x = 0.5 \tf(x) = 0.58224\n",
      "Pour x = 0.75 \tf(x) = 0.97847\n"
     ]
    }
   ],
   "source": [
    "for x in [-0.75, -0.5, 0.25, 0, 0.25, 0.5, 0.75]:\n",
    "    print(\"Pour x =\", x, \"\\tf(x) =\", round(f(x), 5))"
   ]
  },
  {
   "cell_type": "markdown",
   "metadata": {},
   "source": [
    "- L'intégrale $g(t) = \\int_0^x \\frac{\\ln(1 - t)}{t} \\mathrm{d}t$ est bien défine sur $D = [-1, 1]$ puisque son intégrande existe, est continue et bien intégrable sur tout interval de la forme $]a, 0[$ ou $]0, b[$ pour $-1 < a < 0$ ou $0 < b < 1$. Le seul point qui peut déranger l'intégrabilité est en $0$, mais $\\ln(1-t) \\sim t$ quand $t\\to0$ donc l'intégrande est $\\sim 1$ en $0^-$ et $0^+$ et donc est bien intégrable. De plus, comme \"intégrale de la borne supérieure\" d'une fonction continue, $g$ est dérivable sur l'intérieur de son domaine, *i.e.*, sur $]-1, 1[$.\n",
    "\n",
    "- Pour la calculer numériquement, on utilise **évidemment** le module `scipy.integrate` et sa fonction `integrale, erreur = quad(f, a, b)`, qui donne une approximation de la valeur d'une intégrale en dimension 1 et une *borne* sur son erreur :"
   ]
  },
  {
   "cell_type": "code",
   "execution_count": 118,
   "metadata": {},
   "outputs": [],
   "source": [
    "from scipy import integrate"
   ]
  },
  {
   "cell_type": "code",
   "execution_count": 119,
   "metadata": {},
   "outputs": [],
   "source": [
    "def g(x):\n",
    "    def h(t):\n",
    "        return log(1 - t) / t\n",
    "    integrale, erreur = integrate.quad(h, 0, x)\n",
    "    return integrale"
   ]
  },
  {
   "cell_type": "markdown",
   "metadata": {},
   "source": [
    "- On visualise les deux fonctions $f$ et $g$ sur le domaine $D$ :"
   ]
  },
  {
   "cell_type": "code",
   "execution_count": 120,
   "metadata": {},
   "outputs": [],
   "source": [
    "import numpy as np\n",
    "import matplotlib.pyplot as plt"
   ]
  },
  {
   "cell_type": "code",
   "execution_count": 122,
   "metadata": {},
   "outputs": [
    {
     "data": {
      "text/plain": [
       "<Figure size 720x504 with 0 Axes>"
      ]
     },
     "execution_count": 122,
     "metadata": {},
     "output_type": "execute_result"
    },
    {
     "data": {
      "text/plain": [
       "[<matplotlib.lines.Line2D at 0x7f1d442255f8>]"
      ]
     },
     "execution_count": 122,
     "metadata": {},
     "output_type": "execute_result"
    },
    {
     "data": {
      "text/plain": [
       "[<matplotlib.lines.Line2D at 0x7f1d442c9e80>]"
      ]
     },
     "execution_count": 122,
     "metadata": {},
     "output_type": "execute_result"
    },
    {
     "data": {
      "text/plain": [
       "<matplotlib.legend.Legend at 0x7f1d44225780>"
      ]
     },
     "execution_count": 122,
     "metadata": {},
     "output_type": "execute_result"
    },
    {
     "data": {
      "text/plain": [
       "Text(0.5, 1.0, 'Représentation de $f(x)$ et $g(x)$')"
      ]
     },
     "execution_count": 122,
     "metadata": {},
     "output_type": "execute_result"
    },
    {
     "data": {
      "image/png": "[encoded data removed]",
      "text/plain": [
       "<Figure size 720x504 with 1 Axes>"
      ]
     },
     "metadata": {},
     "output_type": "display_data"
    }
   ],
   "source": [
    "domaine = np.linspace(-0.99, 0.99, 1000)\n",
    "\n",
    "valeurs_f = [f(x) for x in domaine]\n",
    "valeurs_g = [g(x) for x in domaine]\n",
    "\n",
    "plt.figure()\n",
    "plt.plot(domaine, valeurs_f, \"+-\", label=\"$f(x)$\", markevery=50)\n",
    "plt.plot(domaine, valeurs_g, \"+-\", label=\"$g(x)$\", markevery=50)\n",
    "plt.legend()\n",
    "plt.grid()\n",
    "plt.title(\"Représentation de $f(x)$ et $g(x)$\")\n",
    "plt.show()"
   ]
  },
  {
   "cell_type": "markdown",
   "metadata": {},
   "source": [
    "- On conjecture que $g(x) = - f(x)$.\n",
    "\n",
    "La suite des questions est à faire au brouillon et sans Python :\n",
    "\n",
    "- On trouve que $f'(x) = \\sum_{n\\geq 1} \\frac{n x^{n-1}}{n^2} = \\frac{1}{x} \\sum_{n\\geq 1} \\frac{x^n}{n}$ si $x\\neq0$. Or on sait que $\\log(1 + x) = \\sum_{n\\geq 1} \\frac{x^n}{n}$ et donc cela montre bien que $g(x) = \\int_0^x - f'(t) \\mathrm{d}t = f(0) - f(x) = f(x)$ comme observé.\n",
    "\n",
    "- On trouve que $g(1) = - f(1) = - \\frac{\\pi^2}{6}$.\n",
    "\n",
    "- Par ailleurs, un changement de variable $u=1-x$ donne $g(1-x) = \\int_x^1 \\frac{\\ln(u)}{1-u} \\mathrm{d} u$, et une intégration par partie avec $a(u) = \\ln(u)$ et $b'(u) = \\frac{1}{1-u}$ donne $g(1-x) = [\\ln(u)\\ln(1-u)]_x^1 + \\int_x^1 \\frac{\\ln(1-u)}{u} \\mathrm{d}u$ et donc on reconnaît que $$g(1-x) = \\ln(x)\\ln(1-x) + g(1) - g(x).$$\n",
    "\n",
    "- Je vous laisse la fin comme exercice !"
   ]
  },
  {
   "cell_type": "markdown",
   "metadata": {},
   "source": [
    "----\n",
    "# À voir aussi\n",
    "\n",
    "## [Les oraux](http://perso.crans.org/besson/infoMP/oraux/solutions/)   *(exercices de maths avec Python)*\n",
    "\n",
    "Se préparer aux oraux de [\"maths avec Python\" (maths 2)](http://www.concours-centrale-supelec.fr/CentraleSupelec/MultiY/C2015/#oMat2) du concours Centrale Supélec peut être utile.\n",
    "\n",
    "Après les écrits et la fin de l'année, pour ceux qui seront admissibles à Centrale-Supélec, ils vous restera <b>les oraux</b> (le concours Centrale-Supélec a un <a title=\"Quelques exemples d'exercices sur le site du concours Centrale-Supélec\" href=\"http://www.concours-centrale-supelec.fr/CentraleSupelec/MultiY/C2015/#oMat2\">oral d'informatique</a>, et un peu d'algorithmique et de Python peuvent en théorie être demandés à chaque oral de maths et de SI).\n",
    "\n",
    "Je vous invite à lire [cette page avec attention](http://www.concours-centrale-supelec.fr/CentraleSupelec/MultiY/C2015/#oMat2), et à jeter un œil aux documents mis à disposition :\n",
    "\n",
    "## Fiches de révisions *pour les oraux*\n",
    "\n",
    "1. [Calcul matriciel](http://www.concours-centrale-supelec.fr/CentraleSupelec/MultiY/C2015/Python-matrices.pdf), avec [numpy](https://docs.scipy.org/doc/numpy/) et [numpy.linalg](http://docs.scipy.org/doc/numpy/reference/routines.linalg.html),\n",
    "2. [Réalisation de tracés](http://www.concours-centrale-supelec.fr/CentraleSupelec/MultiY/C2015/Python-plot.pdf), avec [matplotlib](http://matplotlib.org/users/beginner.html),\n",
    "3. [Analyse numérique](http://www.concours-centrale-supelec.fr/CentraleSupelec/MultiY/C2015/Python-AN.pdf), avec [numpy](https://docs.scipy.org/doc/numpy/) et [scipy](http://docs.scipy.org/doc/scipy/reference/tutorial/index.html). Voir par exemple [scipy.integrate](http://docs.scipy.org/doc/scipy/reference/tutorial/integrate.html) avec les fonctions [scipy.integrate.quad](http://docs.scipy.org/doc/scipy/reference/generated/scipy.integrate.quad.html) (intégrale numérique) et [scipy.integrate.odeint](http://docs.scipy.org/doc/scipy/reference/generated/scipy.integrate.odeint.html) (résolution numérique d'une équation différentielle),\n",
    "4. [Polynômes](http://www.concours-centrale-supelec.fr/CentraleSupelec/MultiY/C2015/Python-polynomes.pdf) : avec [numpy.polynomials](https://docs.scipy.org/doc/numpy/reference/routines.polynomials.package.html), [ce tutoriel peut aider](https://docs.scipy.org/doc/numpy/reference/routines.polynomials.classes.html),\n",
    "5. [Probabilités](http://www.concours-centrale-supelec.fr/CentraleSupelec/MultiY/C2015/Python-random.pdf), avec [numpy](https://docs.scipy.org/doc/numpy/) et [random](https://docs.python.org/3/library/random.html).\n",
    "\n",
    "Pour réviser : voir [ce tutoriel Matplotlib (en anglais)](http://www.labri.fr/perso/nrougier/teaching/matplotlib/), [ce tutoriel Numpy (en anglais)](http://www.labri.fr/perso/nrougier/teaching/numpy/numpy.html).\n",
    "Ainsi que tous les [TP](http://perso.crans.org/besson/infoMP/TPs/solutions/), [TD](http://perso.crans.org/besson/infoMP/TDs/solutions/) et [DS](http://perso.crans.org/besson/infoMP/DSs/solutions/) en Python que j'ai donné et corrigé au Lycée Lakanal (Sceaux, 92) en 2015-2016 !"
   ]
  },
  {
   "cell_type": "markdown",
   "metadata": {},
   "source": [
    "----\n",
    "## D'autres notebooks ?\n",
    "\n",
    "> Ce document est distribué [sous licence libre (MIT)](https://lbesson.mit-license.org/), comme [les autres notebooks](https://GitHub.com/Naereen/notebooks/) que j'ai écrit depuis 2015."
   ]
  }
 ],
 "metadata": {
  "kernelspec": {
   "display_name": "Python 3",
   "language": "python",
   "name": "python3"
  },
  "language_info": {
   "codemirror_mode": {
    "name": "ipython",
    "version": 3
   },
   "file_extension": ".py",
   "mimetype": "text/x-python",
   "name": "python",
   "nbconvert_exporter": "python",
   "pygments_lexer": "ipython3",
   "version": "3.6.7"
  },
  "notify_time": "5",
  "toc": {
   "colors": {
    "hover_highlight": "#DAA520",
    "running_highlight": "#FF0000",
    "selected_highlight": "#FFD700"
   },
   "moveMenuLeft": true,
   "nav_menu": {
    "height": "511px",
    "width": "251px"
   },
   "navigate_menu": true,
   "number_sections": true,
   "sideBar": false,
   "threshold": 4,
   "toc_cell": true,
   "toc_position": {
    "height": "295.217px",
    "left": "928px",
    "right": "12.25px",
    "top": "72.95px",
    "width": "179.75px"
   },
   "toc_section_display": "block",
   "toc_window_display": true
  },
  "varInspector": {
   "cols": {
    "lenName": 16,
    "lenType": 16,
    "lenVar": 40
   },
   "kernels_config": {
    "python": {
     "delete_cmd_postfix": "",
     "delete_cmd_prefix": "del ",
     "library": "var_list.py",
     "varRefreshCmd": "print(var_dic_list())"
    },
    "r": {
     "delete_cmd_postfix": ") ",
     "delete_cmd_prefix": "rm(",
     "library": "var_list.r",
     "varRefreshCmd": "cat(var_dic_list()) "
    }
   },
   "types_to_exclude": [
    "module",
    "function",
    "builtin_function_or_method",
    "instance",
    "_Feature"
   ],
   "window_display": false
  }
 },
 "nbformat": 4,
 "nbformat_minor": 2
}
