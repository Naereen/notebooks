{
 "cells": [
  {
   "cell_type": "markdown",
   "metadata": {
    "toc": "true"
   },
   "source": [
    "<h1>Table of Contents<span class=\"tocSkip\"></span></h1>\n",
    "<div class=\"toc\"><ul class=\"toc-item\"><li><span><a href=\"#Extending-lolviz-with-a-unified-display-function-that-chooses-the-best-one-based-on-the-datatype\" data-toc-modified-id=\"Extending-lolviz-with-a-unified-display-function-that-chooses-the-best-one-based-on-the-datatype-1\"><span class=\"toc-item-num\">1&nbsp;&nbsp;</span>Extending <a href=\"https://github.com/parrt/lolviz\" target=\"_blank\">lolviz</a> with a unified display function that chooses the best one based on the datatype</a></span><ul class=\"toc-item\"><li><span><a href=\"#Adding-this-unified-display-function\" data-toc-modified-id=\"Adding-this-unified-display-function-1.1\"><span class=\"toc-item-num\">1.1&nbsp;&nbsp;</span>Adding this unified display function</a></span></li><li><span><a href=\"#Testing-naively\" data-toc-modified-id=\"Testing-naively-1.2\"><span class=\"toc-item-num\">1.2&nbsp;&nbsp;</span>Testing naively</a></span></li><li><span><a href=\"#Testing-from-within-a-Jupyter-notebook\" data-toc-modified-id=\"Testing-from-within-a-Jupyter-notebook-1.3\"><span class=\"toc-item-num\">1.3&nbsp;&nbsp;</span>Testing from within a Jupyter notebook</a></span><ul class=\"toc-item\"><li><span><a href=\"#List\" data-toc-modified-id=\"List-1.3.1\"><span class=\"toc-item-num\">1.3.1&nbsp;&nbsp;</span>List</a></span></li><li><span><a href=\"#List-of-lists\" data-toc-modified-id=\"List-of-lists-1.3.2\"><span class=\"toc-item-num\">1.3.2&nbsp;&nbsp;</span>List of lists</a></span></li><li><span><a href=\"#List-of-lists-of-lists???\" data-toc-modified-id=\"List-of-lists-of-lists???-1.3.3\"><span class=\"toc-item-num\">1.3.3&nbsp;&nbsp;</span>List of lists of lists???</a></span></li><li><span><a href=\"#Tree\" data-toc-modified-id=\"Tree-1.3.4\"><span class=\"toc-item-num\">1.3.4&nbsp;&nbsp;</span>Tree</a></span></li><li><span><a href=\"#Objects\" data-toc-modified-id=\"Objects-1.3.5\"><span class=\"toc-item-num\">1.3.5&nbsp;&nbsp;</span>Objects</a></span></li><li><span><a href=\"#Calls\" data-toc-modified-id=\"Calls-1.3.6\"><span class=\"toc-item-num\">1.3.6&nbsp;&nbsp;</span>Calls</a></span><ul class=\"toc-item\"><li><span><a href=\"#Trying-rcviz\" data-toc-modified-id=\"Trying-rcviz-1.3.6.1\"><span class=\"toc-item-num\">1.3.6.1&nbsp;&nbsp;</span>Trying <code>rcviz</code></a></span></li><li><span><a href=\"#More-experiments-on-a-&quot;triple&quot;-recursive-function\" data-toc-modified-id=\"More-experiments-on-a-&quot;triple&quot;-recursive-function-1.3.6.2\"><span class=\"toc-item-num\">1.3.6.2&nbsp;&nbsp;</span>More experiments on a \"triple\" recursive function</a></span></li></ul></li><li><span><a href=\"#String\" data-toc-modified-id=\"String-1.3.7\"><span class=\"toc-item-num\">1.3.7&nbsp;&nbsp;</span>String</a></span></li><li><span><a href=\"#Interactive-test-of-all-the-modes\" data-toc-modified-id=\"Interactive-test-of-all-the-modes-1.3.8\"><span class=\"toc-item-num\">1.3.8&nbsp;&nbsp;</span>Interactive test of all the modes</a></span></li></ul></li><li><span><a href=\"#Conclusion\" data-toc-modified-id=\"Conclusion-1.4\"><span class=\"toc-item-num\">1.4&nbsp;&nbsp;</span>Conclusion</a></span></li></ul></li></ul></div>"
   ]
  },
  {
   "cell_type": "markdown",
   "metadata": {},
   "source": [
    "# Extending [lolviz](https://github.com/parrt/lolviz) with a unified display function that chooses the best one based on the datatype\n",
    "\n",
    "> See [this issue](https://github.com/parrt/lolviz/issues/27): « Could we add a \"super\" display function that chooses the best one based on the datatype? »"
   ]
  },
  {
   "cell_type": "code",
   "execution_count": 1,
   "metadata": {
    "ExecuteTime": {
     "end_time": "2021-02-22T21:00:49.497356Z",
     "start_time": "2021-02-22T21:00:49.307423Z"
    }
   },
   "outputs": [
    {
     "name": "stdout",
     "output_type": "stream",
     "text": [
      "CPython 3.6.9\n",
      "IPython 7.16.1\n",
      "\n",
      "lolviz 1.4.4\n",
      "\n",
      "compiler   : GCC 8.4.0\n",
      "system     : Linux\n",
      "release    : 5.4.0-65-generic\n",
      "machine    : x86_64\n",
      "processor  : x86_64\n",
      "CPU cores  : 8\n",
      "interpreter: 64bit\n"
     ]
    }
   ],
   "source": [
    "%load_ext watermark\n",
    "%watermark -v -m -p lolviz"
   ]
  },
  {
   "cell_type": "code",
   "execution_count": 164,
   "metadata": {
    "ExecuteTime": {
     "end_time": "2021-02-22T21:33:43.068635Z",
     "start_time": "2021-02-22T21:33:43.064744Z"
    }
   },
   "outputs": [],
   "source": [
    "import lolviz"
   ]
  },
  {
   "cell_type": "markdown",
   "metadata": {},
   "source": [
    "## Adding this unified display function"
   ]
  },
  {
   "cell_type": "code",
   "execution_count": 316,
   "metadata": {
    "ExecuteTime": {
     "end_time": "2021-02-22T22:44:57.087340Z",
     "start_time": "2021-02-22T22:44:57.074846Z"
    }
   },
   "outputs": [],
   "source": [
    "modes = [ \"str\", \"matrix\", \"call\", \"calls\", \"obj\", \"tree\", \"lol\", \"list\", \"tree\" ]\n",
    "\n",
    "def unified_lolviz(obj=None, mode:modes=None, **kwargs):\n",
    "    \"\"\" Unified function to display `obj` with lolviz, in Jupyter notebook only.\"\"\"\n",
    "    try:\n",
    "        if mode == \"str\" or isinstance(obj, str):\n",
    "            return lolviz.strviz(obj, **kwargs)\n",
    "        elif \"<class 'numpy.ndarray'>\" == str(type(obj)):\n",
    "            # can't use isinstance(obj, np.ndarray) without import numpy!\n",
    "            return lolviz.matrixviz(obj, **kwargs)\n",
    "        elif mode == \"matrix\":\n",
    "            # Experimental transparent use of np.array()\n",
    "            try:\n",
    "                from numpy import array as _\n",
    "                return lolviz.matrixviz(_(obj), **kwargs)\n",
    "                del _\n",
    "            except:\n",
    "                return lolviz.matrixviz(obj, **kwargs)\n",
    "        elif mode == \"call\":\n",
    "            from sys import _getframe\n",
    "            return lolviz.callviz(frame=_getframe(1), **kwargs)\n",
    "            del _getframe\n",
    "        elif mode == \"calls\":\n",
    "            return lolviz.callsviz( **kwargs)\n",
    "        elif mode == \"lol\" or isinstance(obj, (tuple, list)) and obj and isinstance(obj[0], (tuple, list)):\n",
    "            # obj is a list, is non empty, and obj[0] is a list!\n",
    "            return lolviz.lolviz(obj, **kwargs)\n",
    "        elif mode == \"list\" or isinstance(obj, (tuple, list)):\n",
    "            return lolviz.listviz(obj, **kwargs)\n",
    "        elif mode == \"tree\" or isinstance(obj, dict):\n",
    "            return lolviz.treeviz(obj, **kwargs)  # default\n",
    "        else:\n",
    "            return lolviz.objviz(obj, **kwargs)  # default\n",
    "    except TypeError:\n",
    "        # unable to use lolviz, let's just return the object,\n",
    "        # it will be nicely displayed by IPython\n",
    "        return obj\n",
    "\n",
    "viz = unified_lolviz"
   ]
  },
  {
   "cell_type": "markdown",
   "metadata": {},
   "source": [
    "## Testing naively"
   ]
  },
  {
   "cell_type": "code",
   "execution_count": 95,
   "metadata": {
    "ExecuteTime": {
     "end_time": "2021-02-22T21:19:54.236216Z",
     "start_time": "2021-02-22T21:19:54.199863Z"
    }
   },
   "outputs": [
    {
     "data": {
      "image/svg+xml": [
       "<?xml version=\"1.0\" encoding=\"UTF-8\" standalone=\"no\"?>\n",
       "<!DOCTYPE svg PUBLIC \"-//W3C//DTD SVG 1.1//EN\"\n",
       " \"http://www.w3.org/Graphics/SVG/1.1/DTD/svg11.dtd\">\n",
       "<!-- Generated by graphviz version 2.40.1 (20161225.0304)\n",
       " -->\n",
       "<!-- Title: G Pages: 1 -->\n",
       "<svg width=\"167pt\" height=\"40pt\"\n",
       " viewBox=\"0.00 0.00 167.00 40.00\" xmlns=\"http://www.w3.org/2000/svg\" xmlns:xlink=\"http://www.w3.org/1999/xlink\">\n",
       "<g id=\"graph0\" class=\"graph\" transform=\"scale(1 1) rotate(0) translate(4 36)\">\n",
       "<title>G</title>\n",
       "<polygon fill=\"#ffffff\" stroke=\"transparent\" points=\"-4,4 -4,-36 163,-36 163,4 -4,4\"/>\n",
       "<!-- node139754583851912 -->\n",
       "<g id=\"node1\" class=\"node\">\n",
       "<title>node139754583851912</title>\n",
       "<polygon fill=\"none\" stroke=\"#000000\" stroke-width=\".5\" points=\"159,-32 0,-32 0,0 159,0 159,-32\"/>\n",
       "<polygon fill=\"#fefecd\" stroke=\"transparent\" points=\"1.5,-19 1.5,-31 20.5,-31 20.5,-19 1.5,-19\"/>\n",
       "<polyline fill=\"none\" stroke=\"#000000\" points=\"1.5,-19 20.5,-19 20.5,-31 \"/>\n",
       "<text text-anchor=\"start\" x=\"8\" y=\"-22.8\" font-family=\"Helvetica,sans-Serif\" font-size=\"9.00\" fill=\"#444443\">0</text>\n",
       "<polygon fill=\"#fefecd\" stroke=\"transparent\" points=\"20.5,-19 20.5,-31 55.5,-31 55.5,-19 20.5,-19\"/>\n",
       "<polyline fill=\"none\" stroke=\"#000000\" points=\"20.5,-19 55.5,-19 55.5,-31 \"/>\n",
       "<text text-anchor=\"start\" x=\"35\" y=\"-22.8\" font-family=\"Helvetica,sans-Serif\" font-size=\"9.00\" fill=\"#444443\">1</text>\n",
       "<polygon fill=\"#fefecd\" stroke=\"transparent\" points=\"55.5,-19 55.5,-31 87.5,-31 87.5,-19 55.5,-19\"/>\n",
       "<polyline fill=\"none\" stroke=\"#000000\" points=\"55.5,-19 87.5,-19 87.5,-31 \"/>\n",
       "<text text-anchor=\"start\" x=\"68.5\" y=\"-22.8\" font-family=\"Helvetica,sans-Serif\" font-size=\"9.00\" fill=\"#444443\">2</text>\n",
       "<polygon fill=\"#fefecd\" stroke=\"transparent\" points=\"87.5,-19 87.5,-31 158.5,-31 158.5,-19 87.5,-19\"/>\n",
       "<polyline fill=\"none\" stroke=\"#000000\" points=\"87.5,-19 158.5,-19 \"/>\n",
       "<text text-anchor=\"start\" x=\"120\" y=\"-22.8\" font-family=\"Helvetica,sans-Serif\" font-size=\"9.00\" fill=\"#444443\">3</text>\n",
       "<polygon fill=\"#fefecd\" stroke=\"transparent\" points=\"1.5,-1 1.5,-19 20.5,-19 20.5,-1 1.5,-1\"/>\n",
       "<polyline fill=\"none\" stroke=\"#000000\" points=\"20.5,-1 20.5,-19 \"/>\n",
       "<text text-anchor=\"start\" x=\"4.5\" y=\"-7.2\" font-family=\"Helvetica,sans-Serif\" font-size=\"11.00\" fill=\"#444443\">&#39;hi&#39;</text>\n",
       "<polygon fill=\"#fefecd\" stroke=\"transparent\" points=\"20.5,-1 20.5,-19 55.5,-19 55.5,-1 20.5,-1\"/>\n",
       "<polyline fill=\"none\" stroke=\"#000000\" points=\"55.5,-1 55.5,-19 \"/>\n",
       "<text text-anchor=\"start\" x=\"23.5\" y=\"-7.2\" font-family=\"Helvetica,sans-Serif\" font-size=\"11.00\" fill=\"#444443\">&#39;mom&#39;</text>\n",
       "<polygon fill=\"#fefecd\" stroke=\"transparent\" points=\"55.5,-1 55.5,-19 87.5,-19 87.5,-1 55.5,-1\"/>\n",
       "<polyline fill=\"none\" stroke=\"#000000\" points=\"87.5,-1 87.5,-19 \"/>\n",
       "<text text-anchor=\"start\" x=\"58.5\" y=\"-7.2\" font-family=\"Helvetica,sans-Serif\" font-size=\"11.00\" fill=\"#444443\">{3, 4}</text>\n",
       "<polygon fill=\"#fefecd\" stroke=\"transparent\" points=\"87.5,-1 87.5,-19 158.5,-19 158.5,-1 87.5,-1\"/>\n",
       "<text text-anchor=\"start\" x=\"89.5\" y=\"-7.2\" font-family=\"Helvetica,sans-Serif\" font-size=\"11.00\" fill=\"#444443\">{&#39;parrt&#39;: &#39;user&#39;}</text>\n",
       "</g>\n",
       "</g>\n",
       "</svg>\n"
      ],
      "text/plain": [
       "<graphviz.files.Source at 0x7f1b26211438>"
      ]
     },
     "execution_count": 95,
     "metadata": {},
     "output_type": "execute_result"
    }
   ],
   "source": [
    "data = ['hi', 'mom', {3, 4}, {\"parrt\": \"user\"}]\n",
    "viz(data)"
   ]
  },
  {
   "cell_type": "markdown",
   "metadata": {},
   "source": [
    "## Testing from within a Jupyter notebook\n",
    "\n",
    "I test here all [the features of lolviz](https://github.com/parrt/lolviz#functionality) :"
   ]
  },
  {
   "cell_type": "markdown",
   "metadata": {},
   "source": [
    "### List"
   ]
  },
  {
   "cell_type": "code",
   "execution_count": 96,
   "metadata": {
    "ExecuteTime": {
     "end_time": "2021-02-22T21:19:55.266004Z",
     "start_time": "2021-02-22T21:19:55.257420Z"
    }
   },
   "outputs": [],
   "source": [
    "squares = [ i**2 for i in range(10) ]"
   ]
  },
  {
   "cell_type": "code",
   "execution_count": 97,
   "metadata": {
    "ExecuteTime": {
     "end_time": "2021-02-22T21:19:55.623201Z",
     "start_time": "2021-02-22T21:19:55.614046Z"
    }
   },
   "outputs": [
    {
     "data": {
      "text/plain": [
       "[0, 1, 4, 9, 16, 25, 36, 49, 64, 81]"
      ]
     },
     "execution_count": 97,
     "metadata": {},
     "output_type": "execute_result"
    }
   ],
   "source": [
    "squares"
   ]
  },
  {
   "cell_type": "code",
   "execution_count": 98,
   "metadata": {
    "ExecuteTime": {
     "end_time": "2021-02-22T21:19:56.050026Z",
     "start_time": "2021-02-22T21:19:55.997691Z"
    }
   },
   "outputs": [
    {
     "data": {
      "image/svg+xml": [
       "<?xml version=\"1.0\" encoding=\"UTF-8\" standalone=\"no\"?>\n",
       "<!DOCTYPE svg PUBLIC \"-//W3C//DTD SVG 1.1//EN\"\n",
       " \"http://www.w3.org/Graphics/SVG/1.1/DTD/svg11.dtd\">\n",
       "<!-- Generated by graphviz version 2.40.1 (20161225.0304)\n",
       " -->\n",
       "<!-- Title: G Pages: 1 -->\n",
       "<svg width=\"174pt\" height=\"40pt\"\n",
       " viewBox=\"0.00 0.00 174.00 40.00\" xmlns=\"http://www.w3.org/2000/svg\" xmlns:xlink=\"http://www.w3.org/1999/xlink\">\n",
       "<g id=\"graph0\" class=\"graph\" transform=\"scale(1 1) rotate(0) translate(4 36)\">\n",
       "<title>G</title>\n",
       "<polygon fill=\"#ffffff\" stroke=\"transparent\" points=\"-4,4 -4,-36 170,-36 170,4 -4,4\"/>\n",
       "<!-- node139754583807368 -->\n",
       "<g id=\"node1\" class=\"node\">\n",
       "<title>node139754583807368</title>\n",
       "<polygon fill=\"none\" stroke=\"#000000\" stroke-width=\".5\" points=\"166,-32 0,-32 0,0 166,0 166,-32\"/>\n",
       "<polygon fill=\"#fefecd\" stroke=\"transparent\" points=\"1,-19 1,-31 14,-31 14,-19 1,-19\"/>\n",
       "<polyline fill=\"none\" stroke=\"#000000\" points=\"1,-19 14,-19 14,-31 \"/>\n",
       "<text text-anchor=\"start\" x=\"4.5\" y=\"-22.8\" font-family=\"Helvetica,sans-Serif\" font-size=\"9.00\" fill=\"#444443\">0</text>\n",
       "<polygon fill=\"#fefecd\" stroke=\"transparent\" points=\"14,-19 14,-31 27,-31 27,-19 14,-19\"/>\n",
       "<polyline fill=\"none\" stroke=\"#000000\" points=\"14,-19 27,-19 27,-31 \"/>\n",
       "<text text-anchor=\"start\" x=\"17.5\" y=\"-22.8\" font-family=\"Helvetica,sans-Serif\" font-size=\"9.00\" fill=\"#444443\">1</text>\n",
       "<polygon fill=\"#fefecd\" stroke=\"transparent\" points=\"27,-19 27,-31 40,-31 40,-19 27,-19\"/>\n",
       "<polyline fill=\"none\" stroke=\"#000000\" points=\"27,-19 40,-19 40,-31 \"/>\n",
       "<text text-anchor=\"start\" x=\"30.5\" y=\"-22.8\" font-family=\"Helvetica,sans-Serif\" font-size=\"9.00\" fill=\"#444443\">2</text>\n",
       "<polygon fill=\"#fefecd\" stroke=\"transparent\" points=\"40,-19 40,-31 53,-31 53,-19 40,-19\"/>\n",
       "<polyline fill=\"none\" stroke=\"#000000\" points=\"40,-19 53,-19 53,-31 \"/>\n",
       "<text text-anchor=\"start\" x=\"43.5\" y=\"-22.8\" font-family=\"Helvetica,sans-Serif\" font-size=\"9.00\" fill=\"#444443\">3</text>\n",
       "<polygon fill=\"#fefecd\" stroke=\"transparent\" points=\"53,-19 53,-31 72,-31 72,-19 53,-19\"/>\n",
       "<polyline fill=\"none\" stroke=\"#000000\" points=\"53,-19 72,-19 72,-31 \"/>\n",
       "<text text-anchor=\"start\" x=\"59.5\" y=\"-22.8\" font-family=\"Helvetica,sans-Serif\" font-size=\"9.00\" fill=\"#444443\">4</text>\n",
       "<polygon fill=\"#fefecd\" stroke=\"transparent\" points=\"72,-19 72,-31 91,-31 91,-19 72,-19\"/>\n",
       "<polyline fill=\"none\" stroke=\"#000000\" points=\"72,-19 91,-19 91,-31 \"/>\n",
       "<text text-anchor=\"start\" x=\"78.5\" y=\"-22.8\" font-family=\"Helvetica,sans-Serif\" font-size=\"9.00\" fill=\"#444443\">5</text>\n",
       "<polygon fill=\"#fefecd\" stroke=\"transparent\" points=\"91,-19 91,-31 110,-31 110,-19 91,-19\"/>\n",
       "<polyline fill=\"none\" stroke=\"#000000\" points=\"91,-19 110,-19 110,-31 \"/>\n",
       "<text text-anchor=\"start\" x=\"97.5\" y=\"-22.8\" font-family=\"Helvetica,sans-Serif\" font-size=\"9.00\" fill=\"#444443\">6</text>\n",
       "<polygon fill=\"#fefecd\" stroke=\"transparent\" points=\"110,-19 110,-31 129,-31 129,-19 110,-19\"/>\n",
       "<polyline fill=\"none\" stroke=\"#000000\" points=\"110,-19 129,-19 129,-31 \"/>\n",
       "<text text-anchor=\"start\" x=\"116.5\" y=\"-22.8\" font-family=\"Helvetica,sans-Serif\" font-size=\"9.00\" fill=\"#444443\">7</text>\n",
       "<polygon fill=\"#fefecd\" stroke=\"transparent\" points=\"129,-19 129,-31 148,-31 148,-19 129,-19\"/>\n",
       "<polyline fill=\"none\" stroke=\"#000000\" points=\"129,-19 148,-19 148,-31 \"/>\n",
       "<text text-anchor=\"start\" x=\"135.5\" y=\"-22.8\" font-family=\"Helvetica,sans-Serif\" font-size=\"9.00\" fill=\"#444443\">8</text>\n",
       "<polygon fill=\"#fefecd\" stroke=\"transparent\" points=\"148,-19 148,-31 165,-31 165,-19 148,-19\"/>\n",
       "<polyline fill=\"none\" stroke=\"#000000\" points=\"148,-19 165,-19 \"/>\n",
       "<text text-anchor=\"start\" x=\"153.5\" y=\"-22.8\" font-family=\"Helvetica,sans-Serif\" font-size=\"9.00\" fill=\"#444443\">9</text>\n",
       "<polygon fill=\"#fefecd\" stroke=\"transparent\" points=\"1,-1 1,-19 14,-19 14,-1 1,-1\"/>\n",
       "<polyline fill=\"none\" stroke=\"#000000\" points=\"14,-1 14,-19 \"/>\n",
       "<text text-anchor=\"start\" x=\"4\" y=\"-7.2\" font-family=\"Helvetica,sans-Serif\" font-size=\"11.00\" fill=\"#444443\">0</text>\n",
       "<polygon fill=\"#fefecd\" stroke=\"transparent\" points=\"14,-1 14,-19 27,-19 27,-1 14,-1\"/>\n",
       "<polyline fill=\"none\" stroke=\"#000000\" points=\"27,-1 27,-19 \"/>\n",
       "<text text-anchor=\"start\" x=\"17\" y=\"-7.2\" font-family=\"Helvetica,sans-Serif\" font-size=\"11.00\" fill=\"#444443\">1</text>\n",
       "<polygon fill=\"#fefecd\" stroke=\"transparent\" points=\"27,-1 27,-19 40,-19 40,-1 27,-1\"/>\n",
       "<polyline fill=\"none\" stroke=\"#000000\" points=\"40,-1 40,-19 \"/>\n",
       "<text text-anchor=\"start\" x=\"30\" y=\"-7.2\" font-family=\"Helvetica,sans-Serif\" font-size=\"11.00\" fill=\"#444443\">4</text>\n",
       "<polygon fill=\"#fefecd\" stroke=\"transparent\" points=\"40,-1 40,-19 53,-19 53,-1 40,-1\"/>\n",
       "<polyline fill=\"none\" stroke=\"#000000\" points=\"53,-1 53,-19 \"/>\n",
       "<text text-anchor=\"start\" x=\"43\" y=\"-7.2\" font-family=\"Helvetica,sans-Serif\" font-size=\"11.00\" fill=\"#444443\">9</text>\n",
       "<polygon fill=\"#fefecd\" stroke=\"transparent\" points=\"53,-1 53,-19 72,-19 72,-1 53,-1\"/>\n",
       "<polyline fill=\"none\" stroke=\"#000000\" points=\"72,-1 72,-19 \"/>\n",
       "<text text-anchor=\"start\" x=\"56\" y=\"-7.2\" font-family=\"Helvetica,sans-Serif\" font-size=\"11.00\" fill=\"#444443\">16</text>\n",
       "<polygon fill=\"#fefecd\" stroke=\"transparent\" points=\"72,-1 72,-19 91,-19 91,-1 72,-1\"/>\n",
       "<polyline fill=\"none\" stroke=\"#000000\" points=\"91,-1 91,-19 \"/>\n",
       "<text text-anchor=\"start\" x=\"75\" y=\"-7.2\" font-family=\"Helvetica,sans-Serif\" font-size=\"11.00\" fill=\"#444443\">25</text>\n",
       "<polygon fill=\"#fefecd\" stroke=\"transparent\" points=\"91,-1 91,-19 110,-19 110,-1 91,-1\"/>\n",
       "<polyline fill=\"none\" stroke=\"#000000\" points=\"110,-1 110,-19 \"/>\n",
       "<text text-anchor=\"start\" x=\"94\" y=\"-7.2\" font-family=\"Helvetica,sans-Serif\" font-size=\"11.00\" fill=\"#444443\">36</text>\n",
       "<polygon fill=\"#fefecd\" stroke=\"transparent\" points=\"110,-1 110,-19 129,-19 129,-1 110,-1\"/>\n",
       "<polyline fill=\"none\" stroke=\"#000000\" points=\"129,-1 129,-19 \"/>\n",
       "<text text-anchor=\"start\" x=\"113\" y=\"-7.2\" font-family=\"Helvetica,sans-Serif\" font-size=\"11.00\" fill=\"#444443\">49</text>\n",
       "<polygon fill=\"#fefecd\" stroke=\"transparent\" points=\"129,-1 129,-19 148,-19 148,-1 129,-1\"/>\n",
       "<polyline fill=\"none\" stroke=\"#000000\" points=\"148,-1 148,-19 \"/>\n",
       "<text text-anchor=\"start\" x=\"132\" y=\"-7.2\" font-family=\"Helvetica,sans-Serif\" font-size=\"11.00\" fill=\"#444443\">64</text>\n",
       "<polygon fill=\"#fefecd\" stroke=\"transparent\" points=\"148,-1 148,-19 165,-19 165,-1 148,-1\"/>\n",
       "<text text-anchor=\"start\" x=\"150\" y=\"-7.2\" font-family=\"Helvetica,sans-Serif\" font-size=\"11.00\" fill=\"#444443\">81</text>\n",
       "</g>\n",
       "</g>\n",
       "</svg>\n"
      ],
      "text/plain": [
       "<graphviz.files.Source at 0x7f1b26211550>"
      ]
     },
     "execution_count": 98,
     "metadata": {},
     "output_type": "execute_result"
    }
   ],
   "source": [
    "viz(squares)"
   ]
  },
  {
   "cell_type": "markdown",
   "metadata": {},
   "source": [
    "Under the hood of this unified function `viz`, it was calling `lolvzi.listviz`:"
   ]
  },
  {
   "cell_type": "code",
   "execution_count": 99,
   "metadata": {
    "ExecuteTime": {
     "end_time": "2021-02-22T21:19:56.583483Z",
     "start_time": "2021-02-22T21:19:56.531316Z"
    }
   },
   "outputs": [
    {
     "data": {
      "image/svg+xml": [
       "<?xml version=\"1.0\" encoding=\"UTF-8\" standalone=\"no\"?>\n",
       "<!DOCTYPE svg PUBLIC \"-//W3C//DTD SVG 1.1//EN\"\n",
       " \"http://www.w3.org/Graphics/SVG/1.1/DTD/svg11.dtd\">\n",
       "<!-- Generated by graphviz version 2.40.1 (20161225.0304)\n",
       " -->\n",
       "<!-- Title: G Pages: 1 -->\n",
       "<svg width=\"174pt\" height=\"40pt\"\n",
       " viewBox=\"0.00 0.00 174.00 40.00\" xmlns=\"http://www.w3.org/2000/svg\" xmlns:xlink=\"http://www.w3.org/1999/xlink\">\n",
       "<g id=\"graph0\" class=\"graph\" transform=\"scale(1 1) rotate(0) translate(4 36)\">\n",
       "<title>G</title>\n",
       "<polygon fill=\"#ffffff\" stroke=\"transparent\" points=\"-4,4 -4,-36 170,-36 170,4 -4,4\"/>\n",
       "<!-- node139754583807368 -->\n",
       "<g id=\"node1\" class=\"node\">\n",
       "<title>node139754583807368</title>\n",
       "<polygon fill=\"none\" stroke=\"#000000\" stroke-width=\".5\" points=\"166,-32 0,-32 0,0 166,0 166,-32\"/>\n",
       "<polygon fill=\"#fefecd\" stroke=\"transparent\" points=\"1,-19 1,-31 14,-31 14,-19 1,-19\"/>\n",
       "<polyline fill=\"none\" stroke=\"#000000\" points=\"1,-19 14,-19 14,-31 \"/>\n",
       "<text text-anchor=\"start\" x=\"4.5\" y=\"-22.8\" font-family=\"Helvetica,sans-Serif\" font-size=\"9.00\" fill=\"#444443\">0</text>\n",
       "<polygon fill=\"#fefecd\" stroke=\"transparent\" points=\"14,-19 14,-31 27,-31 27,-19 14,-19\"/>\n",
       "<polyline fill=\"none\" stroke=\"#000000\" points=\"14,-19 27,-19 27,-31 \"/>\n",
       "<text text-anchor=\"start\" x=\"17.5\" y=\"-22.8\" font-family=\"Helvetica,sans-Serif\" font-size=\"9.00\" fill=\"#444443\">1</text>\n",
       "<polygon fill=\"#fefecd\" stroke=\"transparent\" points=\"27,-19 27,-31 40,-31 40,-19 27,-19\"/>\n",
       "<polyline fill=\"none\" stroke=\"#000000\" points=\"27,-19 40,-19 40,-31 \"/>\n",
       "<text text-anchor=\"start\" x=\"30.5\" y=\"-22.8\" font-family=\"Helvetica,sans-Serif\" font-size=\"9.00\" fill=\"#444443\">2</text>\n",
       "<polygon fill=\"#fefecd\" stroke=\"transparent\" points=\"40,-19 40,-31 53,-31 53,-19 40,-19\"/>\n",
       "<polyline fill=\"none\" stroke=\"#000000\" points=\"40,-19 53,-19 53,-31 \"/>\n",
       "<text text-anchor=\"start\" x=\"43.5\" y=\"-22.8\" font-family=\"Helvetica,sans-Serif\" font-size=\"9.00\" fill=\"#444443\">3</text>\n",
       "<polygon fill=\"#fefecd\" stroke=\"transparent\" points=\"53,-19 53,-31 72,-31 72,-19 53,-19\"/>\n",
       "<polyline fill=\"none\" stroke=\"#000000\" points=\"53,-19 72,-19 72,-31 \"/>\n",
       "<text text-anchor=\"start\" x=\"59.5\" y=\"-22.8\" font-family=\"Helvetica,sans-Serif\" font-size=\"9.00\" fill=\"#444443\">4</text>\n",
       "<polygon fill=\"#fefecd\" stroke=\"transparent\" points=\"72,-19 72,-31 91,-31 91,-19 72,-19\"/>\n",
       "<polyline fill=\"none\" stroke=\"#000000\" points=\"72,-19 91,-19 91,-31 \"/>\n",
       "<text text-anchor=\"start\" x=\"78.5\" y=\"-22.8\" font-family=\"Helvetica,sans-Serif\" font-size=\"9.00\" fill=\"#444443\">5</text>\n",
       "<polygon fill=\"#fefecd\" stroke=\"transparent\" points=\"91,-19 91,-31 110,-31 110,-19 91,-19\"/>\n",
       "<polyline fill=\"none\" stroke=\"#000000\" points=\"91,-19 110,-19 110,-31 \"/>\n",
       "<text text-anchor=\"start\" x=\"97.5\" y=\"-22.8\" font-family=\"Helvetica,sans-Serif\" font-size=\"9.00\" fill=\"#444443\">6</text>\n",
       "<polygon fill=\"#fefecd\" stroke=\"transparent\" points=\"110,-19 110,-31 129,-31 129,-19 110,-19\"/>\n",
       "<polyline fill=\"none\" stroke=\"#000000\" points=\"110,-19 129,-19 129,-31 \"/>\n",
       "<text text-anchor=\"start\" x=\"116.5\" y=\"-22.8\" font-family=\"Helvetica,sans-Serif\" font-size=\"9.00\" fill=\"#444443\">7</text>\n",
       "<polygon fill=\"#fefecd\" stroke=\"transparent\" points=\"129,-19 129,-31 148,-31 148,-19 129,-19\"/>\n",
       "<polyline fill=\"none\" stroke=\"#000000\" points=\"129,-19 148,-19 148,-31 \"/>\n",
       "<text text-anchor=\"start\" x=\"135.5\" y=\"-22.8\" font-family=\"Helvetica,sans-Serif\" font-size=\"9.00\" fill=\"#444443\">8</text>\n",
       "<polygon fill=\"#fefecd\" stroke=\"transparent\" points=\"148,-19 148,-31 165,-31 165,-19 148,-19\"/>\n",
       "<polyline fill=\"none\" stroke=\"#000000\" points=\"148,-19 165,-19 \"/>\n",
       "<text text-anchor=\"start\" x=\"153.5\" y=\"-22.8\" font-family=\"Helvetica,sans-Serif\" font-size=\"9.00\" fill=\"#444443\">9</text>\n",
       "<polygon fill=\"#fefecd\" stroke=\"transparent\" points=\"1,-1 1,-19 14,-19 14,-1 1,-1\"/>\n",
       "<polyline fill=\"none\" stroke=\"#000000\" points=\"14,-1 14,-19 \"/>\n",
       "<text text-anchor=\"start\" x=\"4\" y=\"-7.2\" font-family=\"Helvetica,sans-Serif\" font-size=\"11.00\" fill=\"#444443\">0</text>\n",
       "<polygon fill=\"#fefecd\" stroke=\"transparent\" points=\"14,-1 14,-19 27,-19 27,-1 14,-1\"/>\n",
       "<polyline fill=\"none\" stroke=\"#000000\" points=\"27,-1 27,-19 \"/>\n",
       "<text text-anchor=\"start\" x=\"17\" y=\"-7.2\" font-family=\"Helvetica,sans-Serif\" font-size=\"11.00\" fill=\"#444443\">1</text>\n",
       "<polygon fill=\"#fefecd\" stroke=\"transparent\" points=\"27,-1 27,-19 40,-19 40,-1 27,-1\"/>\n",
       "<polyline fill=\"none\" stroke=\"#000000\" points=\"40,-1 40,-19 \"/>\n",
       "<text text-anchor=\"start\" x=\"30\" y=\"-7.2\" font-family=\"Helvetica,sans-Serif\" font-size=\"11.00\" fill=\"#444443\">4</text>\n",
       "<polygon fill=\"#fefecd\" stroke=\"transparent\" points=\"40,-1 40,-19 53,-19 53,-1 40,-1\"/>\n",
       "<polyline fill=\"none\" stroke=\"#000000\" points=\"53,-1 53,-19 \"/>\n",
       "<text text-anchor=\"start\" x=\"43\" y=\"-7.2\" font-family=\"Helvetica,sans-Serif\" font-size=\"11.00\" fill=\"#444443\">9</text>\n",
       "<polygon fill=\"#fefecd\" stroke=\"transparent\" points=\"53,-1 53,-19 72,-19 72,-1 53,-1\"/>\n",
       "<polyline fill=\"none\" stroke=\"#000000\" points=\"72,-1 72,-19 \"/>\n",
       "<text text-anchor=\"start\" x=\"56\" y=\"-7.2\" font-family=\"Helvetica,sans-Serif\" font-size=\"11.00\" fill=\"#444443\">16</text>\n",
       "<polygon fill=\"#fefecd\" stroke=\"transparent\" points=\"72,-1 72,-19 91,-19 91,-1 72,-1\"/>\n",
       "<polyline fill=\"none\" stroke=\"#000000\" points=\"91,-1 91,-19 \"/>\n",
       "<text text-anchor=\"start\" x=\"75\" y=\"-7.2\" font-family=\"Helvetica,sans-Serif\" font-size=\"11.00\" fill=\"#444443\">25</text>\n",
       "<polygon fill=\"#fefecd\" stroke=\"transparent\" points=\"91,-1 91,-19 110,-19 110,-1 91,-1\"/>\n",
       "<polyline fill=\"none\" stroke=\"#000000\" points=\"110,-1 110,-19 \"/>\n",
       "<text text-anchor=\"start\" x=\"94\" y=\"-7.2\" font-family=\"Helvetica,sans-Serif\" font-size=\"11.00\" fill=\"#444443\">36</text>\n",
       "<polygon fill=\"#fefecd\" stroke=\"transparent\" points=\"110,-1 110,-19 129,-19 129,-1 110,-1\"/>\n",
       "<polyline fill=\"none\" stroke=\"#000000\" points=\"129,-1 129,-19 \"/>\n",
       "<text text-anchor=\"start\" x=\"113\" y=\"-7.2\" font-family=\"Helvetica,sans-Serif\" font-size=\"11.00\" fill=\"#444443\">49</text>\n",
       "<polygon fill=\"#fefecd\" stroke=\"transparent\" points=\"129,-1 129,-19 148,-19 148,-1 129,-1\"/>\n",
       "<polyline fill=\"none\" stroke=\"#000000\" points=\"148,-1 148,-19 \"/>\n",
       "<text text-anchor=\"start\" x=\"132\" y=\"-7.2\" font-family=\"Helvetica,sans-Serif\" font-size=\"11.00\" fill=\"#444443\">64</text>\n",
       "<polygon fill=\"#fefecd\" stroke=\"transparent\" points=\"148,-1 148,-19 165,-19 165,-1 148,-1\"/>\n",
       "<text text-anchor=\"start\" x=\"150\" y=\"-7.2\" font-family=\"Helvetica,sans-Serif\" font-size=\"11.00\" fill=\"#444443\">81</text>\n",
       "</g>\n",
       "</g>\n",
       "</svg>\n"
      ],
      "text/plain": [
       "<graphviz.files.Source at 0x7f1b262110b8>"
      ]
     },
     "execution_count": 99,
     "metadata": {},
     "output_type": "execute_result"
    }
   ],
   "source": [
    "lolviz.listviz(squares)"
   ]
  },
  {
   "cell_type": "markdown",
   "metadata": {},
   "source": [
    "### List of lists"
   ]
  },
  {
   "cell_type": "code",
   "execution_count": 100,
   "metadata": {
    "ExecuteTime": {
     "end_time": "2021-02-22T21:19:56.863026Z",
     "start_time": "2021-02-22T21:19:56.858620Z"
    }
   },
   "outputs": [],
   "source": [
    "n, m = 3, 4\n",
    "example_matrix = [[0 if i != j else 1 for i in range(n)] for j in range(m)]"
   ]
  },
  {
   "cell_type": "code",
   "execution_count": 101,
   "metadata": {
    "ExecuteTime": {
     "end_time": "2021-02-22T21:19:57.028640Z",
     "start_time": "2021-02-22T21:19:57.023185Z"
    }
   },
   "outputs": [
    {
     "data": {
      "text/plain": [
       "[[1, 0, 0], [0, 1, 0], [0, 0, 1], [0, 0, 0]]"
      ]
     },
     "execution_count": 101,
     "metadata": {},
     "output_type": "execute_result"
    }
   ],
   "source": [
    "example_matrix"
   ]
  },
  {
   "cell_type": "code",
   "execution_count": 102,
   "metadata": {
    "ExecuteTime": {
     "end_time": "2021-02-22T21:19:57.286784Z",
     "start_time": "2021-02-22T21:19:57.231629Z"
    }
   },
   "outputs": [
    {
     "data": {
      "image/svg+xml": [
       "<?xml version=\"1.0\" encoding=\"UTF-8\" standalone=\"no\"?>\n",
       "<!DOCTYPE svg PUBLIC \"-//W3C//DTD SVG 1.1//EN\"\n",
       " \"http://www.w3.org/Graphics/SVG/1.1/DTD/svg11.dtd\">\n",
       "<!-- Generated by graphviz version 2.40.1 (20161225.0304)\n",
       " -->\n",
       "<!-- Title: G Pages: 1 -->\n",
       "<svg width=\"90pt\" height=\"148pt\"\n",
       " viewBox=\"0.00 0.00 90.00 148.00\" xmlns=\"http://www.w3.org/2000/svg\" xmlns:xlink=\"http://www.w3.org/1999/xlink\">\n",
       "<g id=\"graph0\" class=\"graph\" transform=\"scale(1 1) rotate(0) translate(4 144)\">\n",
       "<title>G</title>\n",
       "<polygon fill=\"#ffffff\" stroke=\"transparent\" points=\"-4,4 -4,-144 86,-144 86,4 -4,4\"/>\n",
       "<!-- node139754583524616 -->\n",
       "<g id=\"node1\" class=\"node\">\n",
       "<title>node139754583524616</title>\n",
       "<polygon fill=\"#cfe2d4\" stroke=\"#444443\" stroke-width=\".5\" points=\"14,-103 0,-103 0,-37 14,-37 14,-103\"/>\n",
       "<polygon fill=\"#cfe2d4\" stroke=\"transparent\" points=\"1,-86 1,-102 13,-102 13,-86 1,-86\"/>\n",
       "<polyline fill=\"none\" stroke=\"#444443\" points=\"1,-86 13,-86 \"/>\n",
       "<text text-anchor=\"start\" x=\"4\" y=\"-91.8\" font-family=\"Helvetica,sans-Serif\" font-size=\"9.00\" fill=\"#444443\">0</text>\n",
       "<polygon fill=\"#cfe2d4\" stroke=\"transparent\" points=\"1,-70 1,-86 13,-86 13,-70 1,-70\"/>\n",
       "<polyline fill=\"none\" stroke=\"#444443\" points=\"1,-70 13,-70 \"/>\n",
       "<text text-anchor=\"start\" x=\"4\" y=\"-75.8\" font-family=\"Helvetica,sans-Serif\" font-size=\"9.00\" fill=\"#444443\">1</text>\n",
       "<polygon fill=\"#cfe2d4\" stroke=\"transparent\" points=\"1,-54 1,-70 13,-70 13,-54 1,-54\"/>\n",
       "<polyline fill=\"none\" stroke=\"#444443\" points=\"1,-54 13,-54 \"/>\n",
       "<text text-anchor=\"start\" x=\"4\" y=\"-59.8\" font-family=\"Helvetica,sans-Serif\" font-size=\"9.00\" fill=\"#444443\">2</text>\n",
       "<polygon fill=\"#cfe2d4\" stroke=\"transparent\" points=\"1,-38 1,-54 13,-54 13,-38 1,-38\"/>\n",
       "<text text-anchor=\"start\" x=\"4\" y=\"-43.8\" font-family=\"Helvetica,sans-Serif\" font-size=\"9.00\" fill=\"#444443\">3</text>\n",
       "</g>\n",
       "<!-- node139754583553160 -->\n",
       "<g id=\"node2\" class=\"node\">\n",
       "<title>node139754583553160</title>\n",
       "<polygon fill=\"none\" stroke=\"#000000\" stroke-width=\".5\" points=\"82,-140 43,-140 43,-108 82,-108 82,-140\"/>\n",
       "<polygon fill=\"#fefecd\" stroke=\"transparent\" points=\"44.5,-127 44.5,-139 57.5,-139 57.5,-127 44.5,-127\"/>\n",
       "<polyline fill=\"none\" stroke=\"#000000\" points=\"44.5,-127 57.5,-127 57.5,-139 \"/>\n",
       "<text text-anchor=\"start\" x=\"48\" y=\"-130.8\" font-family=\"Helvetica,sans-Serif\" font-size=\"9.00\" fill=\"#444443\">0</text>\n",
       "<polygon fill=\"#fefecd\" stroke=\"transparent\" points=\"57.5,-127 57.5,-139 70.5,-139 70.5,-127 57.5,-127\"/>\n",
       "<polyline fill=\"none\" stroke=\"#000000\" points=\"57.5,-127 70.5,-127 70.5,-139 \"/>\n",
       "<text text-anchor=\"start\" x=\"61\" y=\"-130.8\" font-family=\"Helvetica,sans-Serif\" font-size=\"9.00\" fill=\"#444443\">1</text>\n",
       "<polygon fill=\"#fefecd\" stroke=\"transparent\" points=\"70.5,-127 70.5,-139 81.5,-139 81.5,-127 70.5,-127\"/>\n",
       "<polyline fill=\"none\" stroke=\"#000000\" points=\"70.5,-127 81.5,-127 \"/>\n",
       "<text text-anchor=\"start\" x=\"73\" y=\"-130.8\" font-family=\"Helvetica,sans-Serif\" font-size=\"9.00\" fill=\"#444443\">2</text>\n",
       "<polygon fill=\"#fefecd\" stroke=\"transparent\" points=\"44.5,-109 44.5,-127 57.5,-127 57.5,-109 44.5,-109\"/>\n",
       "<polyline fill=\"none\" stroke=\"#000000\" points=\"57.5,-109 57.5,-127 \"/>\n",
       "<text text-anchor=\"start\" x=\"47.5\" y=\"-115.2\" font-family=\"Helvetica,sans-Serif\" font-size=\"11.00\" fill=\"#444443\">1</text>\n",
       "<polygon fill=\"#fefecd\" stroke=\"transparent\" points=\"57.5,-109 57.5,-127 70.5,-127 70.5,-109 57.5,-109\"/>\n",
       "<polyline fill=\"none\" stroke=\"#000000\" points=\"70.5,-109 70.5,-127 \"/>\n",
       "<text text-anchor=\"start\" x=\"60.5\" y=\"-115.2\" font-family=\"Helvetica,sans-Serif\" font-size=\"11.00\" fill=\"#444443\">0</text>\n",
       "<polygon fill=\"#fefecd\" stroke=\"transparent\" points=\"70.5,-109 70.5,-127 81.5,-127 81.5,-109 70.5,-109\"/>\n",
       "<text text-anchor=\"start\" x=\"72.5\" y=\"-115.2\" font-family=\"Helvetica,sans-Serif\" font-size=\"11.00\" fill=\"#444443\">0</text>\n",
       "</g>\n",
       "<!-- node139754583524616&#45;&gt;node139754583553160 -->\n",
       "<g id=\"edge1\" class=\"edge\">\n",
       "<title>node139754583524616:0&#45;&gt;node139754583553160:w</title>\n",
       "<path fill=\"none\" stroke=\"#444443\" stroke-width=\".5\" d=\"M13,-94C30.2357,-94 25.2732,-119.0653 38.6936,-123.3734\"/>\n",
       "<polygon fill=\"#444443\" stroke=\"#444443\" stroke-width=\".5\" points=\"38.8401,-124.8094 43,-124 39.2433,-122.0386 38.8401,-124.8094\"/>\n",
       "</g>\n",
       "<!-- node139754580861448 -->\n",
       "<g id=\"node3\" class=\"node\">\n",
       "<title>node139754580861448</title>\n",
       "<polygon fill=\"none\" stroke=\"#000000\" stroke-width=\".5\" points=\"82,-104 43,-104 43,-72 82,-72 82,-104\"/>\n",
       "<polygon fill=\"#fefecd\" stroke=\"transparent\" points=\"44.5,-91 44.5,-103 57.5,-103 57.5,-91 44.5,-91\"/>\n",
       "<polyline fill=\"none\" stroke=\"#000000\" points=\"44.5,-91 57.5,-91 57.5,-103 \"/>\n",
       "<text text-anchor=\"start\" x=\"48\" y=\"-94.8\" font-family=\"Helvetica,sans-Serif\" font-size=\"9.00\" fill=\"#444443\">0</text>\n",
       "<polygon fill=\"#fefecd\" stroke=\"transparent\" points=\"57.5,-91 57.5,-103 70.5,-103 70.5,-91 57.5,-91\"/>\n",
       "<polyline fill=\"none\" stroke=\"#000000\" points=\"57.5,-91 70.5,-91 70.5,-103 \"/>\n",
       "<text text-anchor=\"start\" x=\"61\" y=\"-94.8\" font-family=\"Helvetica,sans-Serif\" font-size=\"9.00\" fill=\"#444443\">1</text>\n",
       "<polygon fill=\"#fefecd\" stroke=\"transparent\" points=\"70.5,-91 70.5,-103 81.5,-103 81.5,-91 70.5,-91\"/>\n",
       "<polyline fill=\"none\" stroke=\"#000000\" points=\"70.5,-91 81.5,-91 \"/>\n",
       "<text text-anchor=\"start\" x=\"73\" y=\"-94.8\" font-family=\"Helvetica,sans-Serif\" font-size=\"9.00\" fill=\"#444443\">2</text>\n",
       "<polygon fill=\"#fefecd\" stroke=\"transparent\" points=\"44.5,-73 44.5,-91 57.5,-91 57.5,-73 44.5,-73\"/>\n",
       "<polyline fill=\"none\" stroke=\"#000000\" points=\"57.5,-73 57.5,-91 \"/>\n",
       "<text text-anchor=\"start\" x=\"47.5\" y=\"-79.2\" font-family=\"Helvetica,sans-Serif\" font-size=\"11.00\" fill=\"#444443\">0</text>\n",
       "<polygon fill=\"#fefecd\" stroke=\"transparent\" points=\"57.5,-73 57.5,-91 70.5,-91 70.5,-73 57.5,-73\"/>\n",
       "<polyline fill=\"none\" stroke=\"#000000\" points=\"70.5,-73 70.5,-91 \"/>\n",
       "<text text-anchor=\"start\" x=\"60.5\" y=\"-79.2\" font-family=\"Helvetica,sans-Serif\" font-size=\"11.00\" fill=\"#444443\">1</text>\n",
       "<polygon fill=\"#fefecd\" stroke=\"transparent\" points=\"70.5,-73 70.5,-91 81.5,-91 81.5,-73 70.5,-73\"/>\n",
       "<text text-anchor=\"start\" x=\"72.5\" y=\"-79.2\" font-family=\"Helvetica,sans-Serif\" font-size=\"11.00\" fill=\"#444443\">0</text>\n",
       "</g>\n",
       "<!-- node139754583524616&#45;&gt;node139754580861448 -->\n",
       "<g id=\"edge2\" class=\"edge\">\n",
       "<title>node139754583524616:1&#45;&gt;node139754580861448:w</title>\n",
       "<path fill=\"none\" stroke=\"#444443\" stroke-width=\".5\" d=\"M13,-78C25.5173,-78 28.3863,-85.9321 38.7931,-87.6673\"/>\n",
       "<polygon fill=\"#444443\" stroke=\"#444443\" stroke-width=\".5\" points=\"38.902,-89.0802 43,-88 39.1229,-86.2889 38.902,-89.0802\"/>\n",
       "</g>\n",
       "<!-- node139754584005064 -->\n",
       "<g id=\"node4\" class=\"node\">\n",
       "<title>node139754584005064</title>\n",
       "<polygon fill=\"none\" stroke=\"#000000\" stroke-width=\".5\" points=\"82,-68 43,-68 43,-36 82,-36 82,-68\"/>\n",
       "<polygon fill=\"#fefecd\" stroke=\"transparent\" points=\"44.5,-55 44.5,-67 57.5,-67 57.5,-55 44.5,-55\"/>\n",
       "<polyline fill=\"none\" stroke=\"#000000\" points=\"44.5,-55 57.5,-55 57.5,-67 \"/>\n",
       "<text text-anchor=\"start\" x=\"48\" y=\"-58.8\" font-family=\"Helvetica,sans-Serif\" font-size=\"9.00\" fill=\"#444443\">0</text>\n",
       "<polygon fill=\"#fefecd\" stroke=\"transparent\" points=\"57.5,-55 57.5,-67 70.5,-67 70.5,-55 57.5,-55\"/>\n",
       "<polyline fill=\"none\" stroke=\"#000000\" points=\"57.5,-55 70.5,-55 70.5,-67 \"/>\n",
       "<text text-anchor=\"start\" x=\"61\" y=\"-58.8\" font-family=\"Helvetica,sans-Serif\" font-size=\"9.00\" fill=\"#444443\">1</text>\n",
       "<polygon fill=\"#fefecd\" stroke=\"transparent\" points=\"70.5,-55 70.5,-67 81.5,-67 81.5,-55 70.5,-55\"/>\n",
       "<polyline fill=\"none\" stroke=\"#000000\" points=\"70.5,-55 81.5,-55 \"/>\n",
       "<text text-anchor=\"start\" x=\"73\" y=\"-58.8\" font-family=\"Helvetica,sans-Serif\" font-size=\"9.00\" fill=\"#444443\">2</text>\n",
       "<polygon fill=\"#fefecd\" stroke=\"transparent\" points=\"44.5,-37 44.5,-55 57.5,-55 57.5,-37 44.5,-37\"/>\n",
       "<polyline fill=\"none\" stroke=\"#000000\" points=\"57.5,-37 57.5,-55 \"/>\n",
       "<text text-anchor=\"start\" x=\"47.5\" y=\"-43.2\" font-family=\"Helvetica,sans-Serif\" font-size=\"11.00\" fill=\"#444443\">0</text>\n",
       "<polygon fill=\"#fefecd\" stroke=\"transparent\" points=\"57.5,-37 57.5,-55 70.5,-55 70.5,-37 57.5,-37\"/>\n",
       "<polyline fill=\"none\" stroke=\"#000000\" points=\"70.5,-37 70.5,-55 \"/>\n",
       "<text text-anchor=\"start\" x=\"60.5\" y=\"-43.2\" font-family=\"Helvetica,sans-Serif\" font-size=\"11.00\" fill=\"#444443\">0</text>\n",
       "<polygon fill=\"#fefecd\" stroke=\"transparent\" points=\"70.5,-37 70.5,-55 81.5,-55 81.5,-37 70.5,-37\"/>\n",
       "<text text-anchor=\"start\" x=\"72.5\" y=\"-43.2\" font-family=\"Helvetica,sans-Serif\" font-size=\"11.00\" fill=\"#444443\">1</text>\n",
       "</g>\n",
       "<!-- node139754583524616&#45;&gt;node139754584005064 -->\n",
       "<g id=\"edge3\" class=\"edge\">\n",
       "<title>node139754583524616:2&#45;&gt;node139754584005064:w</title>\n",
       "<path fill=\"none\" stroke=\"#444443\" stroke-width=\".5\" d=\"M13,-62C25.5173,-62 28.3863,-54.0679 38.7931,-52.3327\"/>\n",
       "<polygon fill=\"#444443\" stroke=\"#444443\" stroke-width=\".5\" points=\"39.1229,-53.7111 43,-52 38.902,-50.9198 39.1229,-53.7111\"/>\n",
       "</g>\n",
       "<!-- node139754584017544 -->\n",
       "<g id=\"node5\" class=\"node\">\n",
       "<title>node139754584017544</title>\n",
       "<polygon fill=\"none\" stroke=\"#000000\" stroke-width=\".5\" points=\"82,-32 43,-32 43,0 82,0 82,-32\"/>\n",
       "<polygon fill=\"#fefecd\" stroke=\"transparent\" points=\"44.5,-19 44.5,-31 57.5,-31 57.5,-19 44.5,-19\"/>\n",
       "<polyline fill=\"none\" stroke=\"#000000\" points=\"44.5,-19 57.5,-19 57.5,-31 \"/>\n",
       "<text text-anchor=\"start\" x=\"48\" y=\"-22.8\" font-family=\"Helvetica,sans-Serif\" font-size=\"9.00\" fill=\"#444443\">0</text>\n",
       "<polygon fill=\"#fefecd\" stroke=\"transparent\" points=\"57.5,-19 57.5,-31 70.5,-31 70.5,-19 57.5,-19\"/>\n",
       "<polyline fill=\"none\" stroke=\"#000000\" points=\"57.5,-19 70.5,-19 70.5,-31 \"/>\n",
       "<text text-anchor=\"start\" x=\"61\" y=\"-22.8\" font-family=\"Helvetica,sans-Serif\" font-size=\"9.00\" fill=\"#444443\">1</text>\n",
       "<polygon fill=\"#fefecd\" stroke=\"transparent\" points=\"70.5,-19 70.5,-31 81.5,-31 81.5,-19 70.5,-19\"/>\n",
       "<polyline fill=\"none\" stroke=\"#000000\" points=\"70.5,-19 81.5,-19 \"/>\n",
       "<text text-anchor=\"start\" x=\"73\" y=\"-22.8\" font-family=\"Helvetica,sans-Serif\" font-size=\"9.00\" fill=\"#444443\">2</text>\n",
       "<polygon fill=\"#fefecd\" stroke=\"transparent\" points=\"44.5,-1 44.5,-19 57.5,-19 57.5,-1 44.5,-1\"/>\n",
       "<polyline fill=\"none\" stroke=\"#000000\" points=\"57.5,-1 57.5,-19 \"/>\n",
       "<text text-anchor=\"start\" x=\"47.5\" y=\"-7.2\" font-family=\"Helvetica,sans-Serif\" font-size=\"11.00\" fill=\"#444443\">0</text>\n",
       "<polygon fill=\"#fefecd\" stroke=\"transparent\" points=\"57.5,-1 57.5,-19 70.5,-19 70.5,-1 57.5,-1\"/>\n",
       "<polyline fill=\"none\" stroke=\"#000000\" points=\"70.5,-1 70.5,-19 \"/>\n",
       "<text text-anchor=\"start\" x=\"60.5\" y=\"-7.2\" font-family=\"Helvetica,sans-Serif\" font-size=\"11.00\" fill=\"#444443\">0</text>\n",
       "<polygon fill=\"#fefecd\" stroke=\"transparent\" points=\"70.5,-1 70.5,-19 81.5,-19 81.5,-1 70.5,-1\"/>\n",
       "<text text-anchor=\"start\" x=\"72.5\" y=\"-7.2\" font-family=\"Helvetica,sans-Serif\" font-size=\"11.00\" fill=\"#444443\">0</text>\n",
       "</g>\n",
       "<!-- node139754583524616&#45;&gt;node139754584017544 -->\n",
       "<g id=\"edge4\" class=\"edge\">\n",
       "<title>node139754583524616:3&#45;&gt;node139754584017544:w</title>\n",
       "<path fill=\"none\" stroke=\"#444443\" stroke-width=\".5\" d=\"M13,-46C30.2357,-46 25.2732,-20.9347 38.6936,-16.6266\"/>\n",
       "<polygon fill=\"#444443\" stroke=\"#444443\" stroke-width=\".5\" points=\"39.2433,-17.9614 43,-16 38.8401,-15.1906 39.2433,-17.9614\"/>\n",
       "</g>\n",
       "</g>\n",
       "</svg>\n"
      ],
      "text/plain": [
       "<graphviz.files.Source at 0x7f1b26211e48>"
      ]
     },
     "execution_count": 102,
     "metadata": {},
     "output_type": "execute_result"
    }
   ],
   "source": [
    "viz(example_matrix)"
   ]
  },
  {
   "cell_type": "markdown",
   "metadata": {},
   "source": [
    "If we want, we can force the `lolviz.matrixviz` mode:"
   ]
  },
  {
   "cell_type": "code",
   "execution_count": 103,
   "metadata": {
    "ExecuteTime": {
     "end_time": "2021-02-22T21:19:57.734136Z",
     "start_time": "2021-02-22T21:19:57.682448Z"
    }
   },
   "outputs": [
    {
     "data": {
      "image/svg+xml": [
       "<?xml version=\"1.0\" encoding=\"UTF-8\" standalone=\"no\"?>\n",
       "<!DOCTYPE svg PUBLIC \"-//W3C//DTD SVG 1.1//EN\"\n",
       " \"http://www.w3.org/Graphics/SVG/1.1/DTD/svg11.dtd\">\n",
       "<!-- Generated by graphviz version 2.40.1 (20161225.0304)\n",
       " -->\n",
       "<!-- Title: G Pages: 1 -->\n",
       "<svg width=\"46pt\" height=\"78pt\"\n",
       " viewBox=\"0.00 0.00 46.00 78.00\" xmlns=\"http://www.w3.org/2000/svg\" xmlns:xlink=\"http://www.w3.org/1999/xlink\">\n",
       "<g id=\"graph0\" class=\"graph\" transform=\"scale(1 1) rotate(0) translate(4 74)\">\n",
       "<title>G</title>\n",
       "<polygon fill=\"#ffffff\" stroke=\"transparent\" points=\"-4,4 -4,-74 42,-74 42,4 -4,4\"/>\n",
       "<!-- node139754583226288 -->\n",
       "<g id=\"node1\" class=\"node\">\n",
       "<title>node139754583226288</title>\n",
       "<polygon fill=\"none\" stroke=\"#000000\" stroke-width=\".5\" points=\"38,-70 0,-70 0,0 38,0 38,-70\"/>\n",
       "<polygon fill=\"#fefecd\" stroke=\"transparent\" points=\"1,-52 1,-69 13,-69 13,-52 1,-52\"/>\n",
       "<text text-anchor=\"start\" x=\"4\" y=\"-58\" font-family=\"Helvetica,sans-Serif\" font-size=\"10.00\" fill=\"#444443\">1</text>\n",
       "<polygon fill=\"#fefecd\" stroke=\"transparent\" points=\"13,-52 13,-69 25,-69 25,-52 13,-52\"/>\n",
       "<text text-anchor=\"start\" x=\"16\" y=\"-58\" font-family=\"Helvetica,sans-Serif\" font-size=\"10.00\" fill=\"#444443\">0</text>\n",
       "<polygon fill=\"#fefecd\" stroke=\"transparent\" points=\"25,-52 25,-69 37,-69 37,-52 25,-52\"/>\n",
       "<text text-anchor=\"start\" x=\"28\" y=\"-58\" font-family=\"Helvetica,sans-Serif\" font-size=\"10.00\" fill=\"#444443\">0</text>\n",
       "<polygon fill=\"#fefecd\" stroke=\"transparent\" points=\"1,-35 1,-52 13,-52 13,-35 1,-35\"/>\n",
       "<text text-anchor=\"start\" x=\"4\" y=\"-41\" font-family=\"Helvetica,sans-Serif\" font-size=\"10.00\" fill=\"#444443\">0</text>\n",
       "<polygon fill=\"#fefecd\" stroke=\"transparent\" points=\"13,-35 13,-52 25,-52 25,-35 13,-35\"/>\n",
       "<text text-anchor=\"start\" x=\"16\" y=\"-41\" font-family=\"Helvetica,sans-Serif\" font-size=\"10.00\" fill=\"#444443\">1</text>\n",
       "<polygon fill=\"#fefecd\" stroke=\"transparent\" points=\"25,-35 25,-52 37,-52 37,-35 25,-35\"/>\n",
       "<text text-anchor=\"start\" x=\"28\" y=\"-41\" font-family=\"Helvetica,sans-Serif\" font-size=\"10.00\" fill=\"#444443\">0</text>\n",
       "<polygon fill=\"#fefecd\" stroke=\"transparent\" points=\"1,-18 1,-35 13,-35 13,-18 1,-18\"/>\n",
       "<text text-anchor=\"start\" x=\"4\" y=\"-24\" font-family=\"Helvetica,sans-Serif\" font-size=\"10.00\" fill=\"#444443\">0</text>\n",
       "<polygon fill=\"#fefecd\" stroke=\"transparent\" points=\"13,-18 13,-35 25,-35 25,-18 13,-18\"/>\n",
       "<text text-anchor=\"start\" x=\"16\" y=\"-24\" font-family=\"Helvetica,sans-Serif\" font-size=\"10.00\" fill=\"#444443\">0</text>\n",
       "<polygon fill=\"#fefecd\" stroke=\"transparent\" points=\"25,-18 25,-35 37,-35 37,-18 25,-18\"/>\n",
       "<text text-anchor=\"start\" x=\"28\" y=\"-24\" font-family=\"Helvetica,sans-Serif\" font-size=\"10.00\" fill=\"#444443\">1</text>\n",
       "<polygon fill=\"#fefecd\" stroke=\"transparent\" points=\"1,-1 1,-18 13,-18 13,-1 1,-1\"/>\n",
       "<text text-anchor=\"start\" x=\"4\" y=\"-7\" font-family=\"Helvetica,sans-Serif\" font-size=\"10.00\" fill=\"#444443\">0</text>\n",
       "<polygon fill=\"#fefecd\" stroke=\"transparent\" points=\"13,-1 13,-18 25,-18 25,-1 13,-1\"/>\n",
       "<text text-anchor=\"start\" x=\"16\" y=\"-7\" font-family=\"Helvetica,sans-Serif\" font-size=\"10.00\" fill=\"#444443\">0</text>\n",
       "<polygon fill=\"#fefecd\" stroke=\"transparent\" points=\"25,-1 25,-18 37,-18 37,-1 25,-1\"/>\n",
       "<text text-anchor=\"start\" x=\"28\" y=\"-7\" font-family=\"Helvetica,sans-Serif\" font-size=\"10.00\" fill=\"#444443\">0</text>\n",
       "</g>\n",
       "</g>\n",
       "</svg>\n"
      ],
      "text/plain": [
       "<graphviz.files.Source at 0x7f1b264e7048>"
      ]
     },
     "execution_count": 103,
     "metadata": {},
     "output_type": "execute_result"
    }
   ],
   "source": [
    "viz(example_matrix, mode='matrix')"
   ]
  },
  {
   "cell_type": "markdown",
   "metadata": {},
   "source": [
    "And this works without having to manually import numpy or convert the list-of-list to a numpy array!"
   ]
  },
  {
   "cell_type": "code",
   "execution_count": 104,
   "metadata": {
    "ExecuteTime": {
     "end_time": "2021-02-22T21:19:58.538958Z",
     "start_time": "2021-02-22T21:19:58.529778Z"
    }
   },
   "outputs": [
    {
     "name": "stdout",
     "output_type": "stream",
     "text": [
      "Object `np` not found.\n"
     ]
    }
   ],
   "source": [
    "np?"
   ]
  },
  {
   "cell_type": "markdown",
   "metadata": {},
   "source": [
    "### List of lists of lists???"
   ]
  },
  {
   "cell_type": "code",
   "execution_count": 105,
   "metadata": {
    "ExecuteTime": {
     "end_time": "2021-02-22T21:19:59.362434Z",
     "start_time": "2021-02-22T21:19:59.352624Z"
    }
   },
   "outputs": [],
   "source": [
    "n, m, o = 2, 3, 4\n",
    "example_3D_matrix = [[[\n",
    "    1 if i < j < k else 0\n",
    "    for i in range(n)]\n",
    "    for j in range(m)]\n",
    "    for k in range(o)]"
   ]
  },
  {
   "cell_type": "code",
   "execution_count": 106,
   "metadata": {
    "ExecuteTime": {
     "end_time": "2021-02-22T21:19:59.656264Z",
     "start_time": "2021-02-22T21:19:59.648794Z"
    }
   },
   "outputs": [
    {
     "data": {
      "text/plain": [
       "[[[0, 0], [0, 0], [0, 0]],\n",
       " [[0, 0], [0, 0], [0, 0]],\n",
       " [[0, 0], [1, 0], [0, 0]],\n",
       " [[0, 0], [1, 0], [1, 1]]]"
      ]
     },
     "execution_count": 106,
     "metadata": {},
     "output_type": "execute_result"
    }
   ],
   "source": [
    "example_3D_matrix"
   ]
  },
  {
   "cell_type": "code",
   "execution_count": 107,
   "metadata": {
    "ExecuteTime": {
     "end_time": "2021-02-22T21:20:00.073184Z",
     "start_time": "2021-02-22T21:20:00.013993Z"
    }
   },
   "outputs": [
    {
     "data": {
      "image/svg+xml": [
       "<?xml version=\"1.0\" encoding=\"UTF-8\" standalone=\"no\"?>\n",
       "<!DOCTYPE svg PUBLIC \"-//W3C//DTD SVG 1.1//EN\"\n",
       " \"http://www.w3.org/Graphics/SVG/1.1/DTD/svg11.dtd\">\n",
       "<!-- Generated by graphviz version 2.40.1 (20161225.0304)\n",
       " -->\n",
       "<!-- Title: G Pages: 1 -->\n",
       "<svg width=\"144pt\" height=\"148pt\"\n",
       " viewBox=\"0.00 0.00 144.00 148.00\" xmlns=\"http://www.w3.org/2000/svg\" xmlns:xlink=\"http://www.w3.org/1999/xlink\">\n",
       "<g id=\"graph0\" class=\"graph\" transform=\"scale(1 1) rotate(0) translate(4 144)\">\n",
       "<title>G</title>\n",
       "<polygon fill=\"#ffffff\" stroke=\"transparent\" points=\"-4,4 -4,-144 140,-144 140,4 -4,4\"/>\n",
       "<!-- node139754583973640 -->\n",
       "<g id=\"node1\" class=\"node\">\n",
       "<title>node139754583973640</title>\n",
       "<polygon fill=\"#cfe2d4\" stroke=\"#444443\" stroke-width=\".5\" points=\"14,-103 0,-103 0,-37 14,-37 14,-103\"/>\n",
       "<polygon fill=\"#cfe2d4\" stroke=\"transparent\" points=\"1,-86 1,-102 13,-102 13,-86 1,-86\"/>\n",
       "<polyline fill=\"none\" stroke=\"#444443\" points=\"1,-86 13,-86 \"/>\n",
       "<text text-anchor=\"start\" x=\"4\" y=\"-91.8\" font-family=\"Helvetica,sans-Serif\" font-size=\"9.00\" fill=\"#444443\">0</text>\n",
       "<polygon fill=\"#cfe2d4\" stroke=\"transparent\" points=\"1,-70 1,-86 13,-86 13,-70 1,-70\"/>\n",
       "<polyline fill=\"none\" stroke=\"#444443\" points=\"1,-70 13,-70 \"/>\n",
       "<text text-anchor=\"start\" x=\"4\" y=\"-75.8\" font-family=\"Helvetica,sans-Serif\" font-size=\"9.00\" fill=\"#444443\">1</text>\n",
       "<polygon fill=\"#cfe2d4\" stroke=\"transparent\" points=\"1,-54 1,-70 13,-70 13,-54 1,-54\"/>\n",
       "<polyline fill=\"none\" stroke=\"#444443\" points=\"1,-54 13,-54 \"/>\n",
       "<text text-anchor=\"start\" x=\"4\" y=\"-59.8\" font-family=\"Helvetica,sans-Serif\" font-size=\"9.00\" fill=\"#444443\">2</text>\n",
       "<polygon fill=\"#cfe2d4\" stroke=\"transparent\" points=\"1,-38 1,-54 13,-54 13,-38 1,-38\"/>\n",
       "<text text-anchor=\"start\" x=\"4\" y=\"-43.8\" font-family=\"Helvetica,sans-Serif\" font-size=\"9.00\" fill=\"#444443\">3</text>\n",
       "</g>\n",
       "<!-- node139754584018632 -->\n",
       "<g id=\"node2\" class=\"node\">\n",
       "<title>node139754584018632</title>\n",
       "<polygon fill=\"none\" stroke=\"#000000\" stroke-width=\".5\" points=\"136,-140 43,-140 43,-108 136,-108 136,-140\"/>\n",
       "<polygon fill=\"#fefecd\" stroke=\"transparent\" points=\"44.5,-127 44.5,-139 75.5,-139 75.5,-127 44.5,-127\"/>\n",
       "<polyline fill=\"none\" stroke=\"#000000\" points=\"44.5,-127 75.5,-127 75.5,-139 \"/>\n",
       "<text text-anchor=\"start\" x=\"57\" y=\"-130.8\" font-family=\"Helvetica,sans-Serif\" font-size=\"9.00\" fill=\"#444443\">0</text>\n",
       "<polygon fill=\"#fefecd\" stroke=\"transparent\" points=\"75.5,-127 75.5,-139 106.5,-139 106.5,-127 75.5,-127\"/>\n",
       "<polyline fill=\"none\" stroke=\"#000000\" points=\"75.5,-127 106.5,-127 106.5,-139 \"/>\n",
       "<text text-anchor=\"start\" x=\"88\" y=\"-130.8\" font-family=\"Helvetica,sans-Serif\" font-size=\"9.00\" fill=\"#444443\">1</text>\n",
       "<polygon fill=\"#fefecd\" stroke=\"transparent\" points=\"106.5,-127 106.5,-139 135.5,-139 135.5,-127 106.5,-127\"/>\n",
       "<polyline fill=\"none\" stroke=\"#000000\" points=\"106.5,-127 135.5,-127 \"/>\n",
       "<text text-anchor=\"start\" x=\"118\" y=\"-130.8\" font-family=\"Helvetica,sans-Serif\" font-size=\"9.00\" fill=\"#444443\">2</text>\n",
       "<polygon fill=\"#fefecd\" stroke=\"transparent\" points=\"44.5,-109 44.5,-127 75.5,-127 75.5,-109 44.5,-109\"/>\n",
       "<polyline fill=\"none\" stroke=\"#000000\" points=\"75.5,-109 75.5,-127 \"/>\n",
       "<text text-anchor=\"start\" x=\"47.5\" y=\"-115.2\" font-family=\"Helvetica,sans-Serif\" font-size=\"11.00\" fill=\"#444443\">[0, 0]</text>\n",
       "<polygon fill=\"#fefecd\" stroke=\"transparent\" points=\"75.5,-109 75.5,-127 106.5,-127 106.5,-109 75.5,-109\"/>\n",
       "<polyline fill=\"none\" stroke=\"#000000\" points=\"106.5,-109 106.5,-127 \"/>\n",
       "<text text-anchor=\"start\" x=\"78.5\" y=\"-115.2\" font-family=\"Helvetica,sans-Serif\" font-size=\"11.00\" fill=\"#444443\">[0, 0]</text>\n",
       "<polygon fill=\"#fefecd\" stroke=\"transparent\" points=\"106.5,-109 106.5,-127 135.5,-127 135.5,-109 106.5,-109\"/>\n",
       "<text text-anchor=\"start\" x=\"108.5\" y=\"-115.2\" font-family=\"Helvetica,sans-Serif\" font-size=\"11.00\" fill=\"#444443\">[0, 0]</text>\n",
       "</g>\n",
       "<!-- node139754583973640&#45;&gt;node139754584018632 -->\n",
       "<g id=\"edge1\" class=\"edge\">\n",
       "<title>node139754583973640:0&#45;&gt;node139754584018632:w</title>\n",
       "<path fill=\"none\" stroke=\"#444443\" stroke-width=\".5\" d=\"M13,-94C30.5285,-94 25.5003,-119.4956 39.5043,-123.4793\"/>\n",
       "<polygon fill=\"#444443\" stroke=\"#444443\" stroke-width=\".5\" points=\"39.3526,-124.8713 43.5,-124 39.7145,-122.0948 39.3526,-124.8713\"/>\n",
       "</g>\n",
       "<!-- node139754583903240 -->\n",
       "<g id=\"node3\" class=\"node\">\n",
       "<title>node139754583903240</title>\n",
       "<polygon fill=\"none\" stroke=\"#000000\" stroke-width=\".5\" points=\"136,-104 43,-104 43,-72 136,-72 136,-104\"/>\n",
       "<polygon fill=\"#fefecd\" stroke=\"transparent\" points=\"44.5,-91 44.5,-103 75.5,-103 75.5,-91 44.5,-91\"/>\n",
       "<polyline fill=\"none\" stroke=\"#000000\" points=\"44.5,-91 75.5,-91 75.5,-103 \"/>\n",
       "<text text-anchor=\"start\" x=\"57\" y=\"-94.8\" font-family=\"Helvetica,sans-Serif\" font-size=\"9.00\" fill=\"#444443\">0</text>\n",
       "<polygon fill=\"#fefecd\" stroke=\"transparent\" points=\"75.5,-91 75.5,-103 106.5,-103 106.5,-91 75.5,-91\"/>\n",
       "<polyline fill=\"none\" stroke=\"#000000\" points=\"75.5,-91 106.5,-91 106.5,-103 \"/>\n",
       "<text text-anchor=\"start\" x=\"88\" y=\"-94.8\" font-family=\"Helvetica,sans-Serif\" font-size=\"9.00\" fill=\"#444443\">1</text>\n",
       "<polygon fill=\"#fefecd\" stroke=\"transparent\" points=\"106.5,-91 106.5,-103 135.5,-103 135.5,-91 106.5,-91\"/>\n",
       "<polyline fill=\"none\" stroke=\"#000000\" points=\"106.5,-91 135.5,-91 \"/>\n",
       "<text text-anchor=\"start\" x=\"118\" y=\"-94.8\" font-family=\"Helvetica,sans-Serif\" font-size=\"9.00\" fill=\"#444443\">2</text>\n",
       "<polygon fill=\"#fefecd\" stroke=\"transparent\" points=\"44.5,-73 44.5,-91 75.5,-91 75.5,-73 44.5,-73\"/>\n",
       "<polyline fill=\"none\" stroke=\"#000000\" points=\"75.5,-73 75.5,-91 \"/>\n",
       "<text text-anchor=\"start\" x=\"47.5\" y=\"-79.2\" font-family=\"Helvetica,sans-Serif\" font-size=\"11.00\" fill=\"#444443\">[0, 0]</text>\n",
       "<polygon fill=\"#fefecd\" stroke=\"transparent\" points=\"75.5,-73 75.5,-91 106.5,-91 106.5,-73 75.5,-73\"/>\n",
       "<polyline fill=\"none\" stroke=\"#000000\" points=\"106.5,-73 106.5,-91 \"/>\n",
       "<text text-anchor=\"start\" x=\"78.5\" y=\"-79.2\" font-family=\"Helvetica,sans-Serif\" font-size=\"11.00\" fill=\"#444443\">[0, 0]</text>\n",
       "<polygon fill=\"#fefecd\" stroke=\"transparent\" points=\"106.5,-73 106.5,-91 135.5,-91 135.5,-73 106.5,-73\"/>\n",
       "<text text-anchor=\"start\" x=\"108.5\" y=\"-79.2\" font-family=\"Helvetica,sans-Serif\" font-size=\"11.00\" fill=\"#444443\">[0, 0]</text>\n",
       "</g>\n",
       "<!-- node139754583973640&#45;&gt;node139754583903240 -->\n",
       "<g id=\"edge2\" class=\"edge\">\n",
       "<title>node139754583973640:1&#45;&gt;node139754583903240:w</title>\n",
       "<path fill=\"none\" stroke=\"#444443\" stroke-width=\".5\" d=\"M13,-78C25.8167,-78 28.7077,-86.0719 39.5082,-87.7115\"/>\n",
       "<polygon fill=\"#444443\" stroke=\"#444443\" stroke-width=\".5\" points=\"39.4095,-89.1079 43.5,-88 39.6114,-86.3152 39.4095,-89.1079\"/>\n",
       "</g>\n",
       "<!-- node139754583995272 -->\n",
       "<g id=\"node4\" class=\"node\">\n",
       "<title>node139754583995272</title>\n",
       "<polygon fill=\"none\" stroke=\"#000000\" stroke-width=\".5\" points=\"136,-68 43,-68 43,-36 136,-36 136,-68\"/>\n",
       "<polygon fill=\"#fefecd\" stroke=\"transparent\" points=\"44.5,-55 44.5,-67 75.5,-67 75.5,-55 44.5,-55\"/>\n",
       "<polyline fill=\"none\" stroke=\"#000000\" points=\"44.5,-55 75.5,-55 75.5,-67 \"/>\n",
       "<text text-anchor=\"start\" x=\"57\" y=\"-58.8\" font-family=\"Helvetica,sans-Serif\" font-size=\"9.00\" fill=\"#444443\">0</text>\n",
       "<polygon fill=\"#fefecd\" stroke=\"transparent\" points=\"75.5,-55 75.5,-67 106.5,-67 106.5,-55 75.5,-55\"/>\n",
       "<polyline fill=\"none\" stroke=\"#000000\" points=\"75.5,-55 106.5,-55 106.5,-67 \"/>\n",
       "<text text-anchor=\"start\" x=\"88\" y=\"-58.8\" font-family=\"Helvetica,sans-Serif\" font-size=\"9.00\" fill=\"#444443\">1</text>\n",
       "<polygon fill=\"#fefecd\" stroke=\"transparent\" points=\"106.5,-55 106.5,-67 135.5,-67 135.5,-55 106.5,-55\"/>\n",
       "<polyline fill=\"none\" stroke=\"#000000\" points=\"106.5,-55 135.5,-55 \"/>\n",
       "<text text-anchor=\"start\" x=\"118\" y=\"-58.8\" font-family=\"Helvetica,sans-Serif\" font-size=\"9.00\" fill=\"#444443\">2</text>\n",
       "<polygon fill=\"#fefecd\" stroke=\"transparent\" points=\"44.5,-37 44.5,-55 75.5,-55 75.5,-37 44.5,-37\"/>\n",
       "<polyline fill=\"none\" stroke=\"#000000\" points=\"75.5,-37 75.5,-55 \"/>\n",
       "<text text-anchor=\"start\" x=\"47.5\" y=\"-43.2\" font-family=\"Helvetica,sans-Serif\" font-size=\"11.00\" fill=\"#444443\">[0, 0]</text>\n",
       "<polygon fill=\"#fefecd\" stroke=\"transparent\" points=\"75.5,-37 75.5,-55 106.5,-55 106.5,-37 75.5,-37\"/>\n",
       "<polyline fill=\"none\" stroke=\"#000000\" points=\"106.5,-37 106.5,-55 \"/>\n",
       "<text text-anchor=\"start\" x=\"78.5\" y=\"-43.2\" font-family=\"Helvetica,sans-Serif\" font-size=\"11.00\" fill=\"#444443\">[1, 0]</text>\n",
       "<polygon fill=\"#fefecd\" stroke=\"transparent\" points=\"106.5,-37 106.5,-55 135.5,-55 135.5,-37 106.5,-37\"/>\n",
       "<text text-anchor=\"start\" x=\"108.5\" y=\"-43.2\" font-family=\"Helvetica,sans-Serif\" font-size=\"11.00\" fill=\"#444443\">[0, 0]</text>\n",
       "</g>\n",
       "<!-- node139754583973640&#45;&gt;node139754583995272 -->\n",
       "<g id=\"edge3\" class=\"edge\">\n",
       "<title>node139754583973640:2&#45;&gt;node139754583995272:w</title>\n",
       "<path fill=\"none\" stroke=\"#444443\" stroke-width=\".5\" d=\"M13,-62C25.8167,-62 28.7077,-53.9281 39.5082,-52.2885\"/>\n",
       "<polygon fill=\"#444443\" stroke=\"#444443\" stroke-width=\".5\" points=\"39.6114,-53.6848 43.5,-52 39.4095,-50.8921 39.6114,-53.6848\"/>\n",
       "</g>\n",
       "<!-- node139754583538440 -->\n",
       "<g id=\"node5\" class=\"node\">\n",
       "<title>node139754583538440</title>\n",
       "<polygon fill=\"none\" stroke=\"#000000\" stroke-width=\".5\" points=\"136,-32 43,-32 43,0 136,0 136,-32\"/>\n",
       "<polygon fill=\"#fefecd\" stroke=\"transparent\" points=\"44.5,-19 44.5,-31 75.5,-31 75.5,-19 44.5,-19\"/>\n",
       "<polyline fill=\"none\" stroke=\"#000000\" points=\"44.5,-19 75.5,-19 75.5,-31 \"/>\n",
       "<text text-anchor=\"start\" x=\"57\" y=\"-22.8\" font-family=\"Helvetica,sans-Serif\" font-size=\"9.00\" fill=\"#444443\">0</text>\n",
       "<polygon fill=\"#fefecd\" stroke=\"transparent\" points=\"75.5,-19 75.5,-31 106.5,-31 106.5,-19 75.5,-19\"/>\n",
       "<polyline fill=\"none\" stroke=\"#000000\" points=\"75.5,-19 106.5,-19 106.5,-31 \"/>\n",
       "<text text-anchor=\"start\" x=\"88\" y=\"-22.8\" font-family=\"Helvetica,sans-Serif\" font-size=\"9.00\" fill=\"#444443\">1</text>\n",
       "<polygon fill=\"#fefecd\" stroke=\"transparent\" points=\"106.5,-19 106.5,-31 135.5,-31 135.5,-19 106.5,-19\"/>\n",
       "<polyline fill=\"none\" stroke=\"#000000\" points=\"106.5,-19 135.5,-19 \"/>\n",
       "<text text-anchor=\"start\" x=\"118\" y=\"-22.8\" font-family=\"Helvetica,sans-Serif\" font-size=\"9.00\" fill=\"#444443\">2</text>\n",
       "<polygon fill=\"#fefecd\" stroke=\"transparent\" points=\"44.5,-1 44.5,-19 75.5,-19 75.5,-1 44.5,-1\"/>\n",
       "<polyline fill=\"none\" stroke=\"#000000\" points=\"75.5,-1 75.5,-19 \"/>\n",
       "<text text-anchor=\"start\" x=\"47.5\" y=\"-7.2\" font-family=\"Helvetica,sans-Serif\" font-size=\"11.00\" fill=\"#444443\">[0, 0]</text>\n",
       "<polygon fill=\"#fefecd\" stroke=\"transparent\" points=\"75.5,-1 75.5,-19 106.5,-19 106.5,-1 75.5,-1\"/>\n",
       "<polyline fill=\"none\" stroke=\"#000000\" points=\"106.5,-1 106.5,-19 \"/>\n",
       "<text text-anchor=\"start\" x=\"78.5\" y=\"-7.2\" font-family=\"Helvetica,sans-Serif\" font-size=\"11.00\" fill=\"#444443\">[1, 0]</text>\n",
       "<polygon fill=\"#fefecd\" stroke=\"transparent\" points=\"106.5,-1 106.5,-19 135.5,-19 135.5,-1 106.5,-1\"/>\n",
       "<text text-anchor=\"start\" x=\"108.5\" y=\"-7.2\" font-family=\"Helvetica,sans-Serif\" font-size=\"11.00\" fill=\"#444443\">[1, 1]</text>\n",
       "</g>\n",
       "<!-- node139754583973640&#45;&gt;node139754583538440 -->\n",
       "<g id=\"edge4\" class=\"edge\">\n",
       "<title>node139754583973640:3&#45;&gt;node139754583538440:w</title>\n",
       "<path fill=\"none\" stroke=\"#444443\" stroke-width=\".5\" d=\"M13,-46C30.5285,-46 25.5003,-20.5044 39.5043,-16.5207\"/>\n",
       "<polygon fill=\"#444443\" stroke=\"#444443\" stroke-width=\".5\" points=\"39.7145,-17.9052 43.5,-16 39.3526,-15.1287 39.7145,-17.9052\"/>\n",
       "</g>\n",
       "</g>\n",
       "</svg>\n"
      ],
      "text/plain": [
       "<graphviz.files.Source at 0x7f1b264e7198>"
      ]
     },
     "execution_count": 107,
     "metadata": {},
     "output_type": "execute_result"
    }
   ],
   "source": [
    "viz(example_3D_matrix)"
   ]
  },
  {
   "cell_type": "markdown",
   "metadata": {},
   "source": [
    "It works, even if it is not as pretty."
   ]
  },
  {
   "cell_type": "markdown",
   "metadata": {},
   "source": [
    "### Tree\n",
    "Only for binary trees, apparently. Let's try with a dictionary that looks like a binary tree:"
   ]
  },
  {
   "cell_type": "code",
   "execution_count": 108,
   "metadata": {
    "ExecuteTime": {
     "end_time": "2021-02-22T21:20:05.501818Z",
     "start_time": "2021-02-22T21:20:05.494074Z"
    }
   },
   "outputs": [],
   "source": [
    "anakin = {\n",
    "    \"name\": \"Anakin Skywalker\",\n",
    "    \"son\": {\n",
    "        \"name\": \"Luke Skywalker\",\n",
    "    },\n",
    "    \"daughter\": {\n",
    "        \"name\": \"Leia Skywalker\",\n",
    "    },\n",
    "}"
   ]
  },
  {
   "cell_type": "code",
   "execution_count": 109,
   "metadata": {
    "ExecuteTime": {
     "end_time": "2021-02-22T21:20:05.794288Z",
     "start_time": "2021-02-22T21:20:05.788786Z"
    }
   },
   "outputs": [
    {
     "name": "stdout",
     "output_type": "stream",
     "text": [
      "{'daughter': {'name': 'Leia Skywalker'},\n",
      " 'name': 'Anakin Skywalker',\n",
      " 'son': {'name': 'Luke Skywalker'}}\n"
     ]
    }
   ],
   "source": [
    "from pprint import pprint\n",
    "pprint(anakin)"
   ]
  },
  {
   "cell_type": "markdown",
   "metadata": {},
   "source": [
    "Then by remembering the correction function, we can do:"
   ]
  },
  {
   "cell_type": "code",
   "execution_count": 110,
   "metadata": {
    "ExecuteTime": {
     "end_time": "2021-02-22T21:20:15.198056Z",
     "start_time": "2021-02-22T21:20:15.136153Z"
    }
   },
   "outputs": [
    {
     "data": {
      "image/svg+xml": [
       "<?xml version=\"1.0\" encoding=\"UTF-8\" standalone=\"no\"?>\n",
       "<!DOCTYPE svg PUBLIC \"-//W3C//DTD SVG 1.1//EN\"\n",
       " \"http://www.w3.org/Graphics/SVG/1.1/DTD/svg11.dtd\">\n",
       "<!-- Generated by graphviz version 2.40.1 (20161225.0304)\n",
       " -->\n",
       "<!-- Title: G Pages: 1 -->\n",
       "<svg width=\"283pt\" height=\"98pt\"\n",
       " viewBox=\"0.00 0.00 282.50 98.00\" xmlns=\"http://www.w3.org/2000/svg\" xmlns:xlink=\"http://www.w3.org/1999/xlink\">\n",
       "<g id=\"graph0\" class=\"graph\" transform=\"scale(1 1) rotate(0) translate(4 94)\">\n",
       "<title>G</title>\n",
       "<polygon fill=\"#ffffff\" stroke=\"transparent\" points=\"-4,4 -4,-94 278.5,-94 278.5,4 -4,4\"/>\n",
       "<!-- node139754865714016 -->\n",
       "<g id=\"node1\" class=\"node\">\n",
       "<title>node139754865714016</title>\n",
       "<polygon fill=\"#fefecd\" stroke=\"#444443\" stroke-width=\".5\" points=\"187,-90 26,-90 26,-40 187,-40 187,-90\"/>\n",
       "<polygon fill=\"#fefecd\" stroke=\"transparent\" points=\"28.5,-74 28.5,-88 79.5,-88 79.5,-74 28.5,-74\"/>\n",
       "<text text-anchor=\"start\" x=\"44.5\" y=\"-78.2\" font-family=\"Helvetica,sans-Serif\" font-size=\"11.00\" fill=\"#444443\">&#39;name&#39; </text>\n",
       "<text text-anchor=\"start\" x=\"79.5\" y=\"-76.8\" font-family=\"Helvetica,sans-Serif\" font-size=\"9.00\" fill=\"#444443\">→</text>\n",
       "<polygon fill=\"#fefecd\" stroke=\"transparent\" points=\"89.5,-74 89.5,-88 185.5,-88 185.5,-74 89.5,-74\"/>\n",
       "<text text-anchor=\"start\" x=\"90.5\" y=\"-78.2\" font-family=\"Helvetica,sans-Serif\" font-size=\"11.00\" fill=\"#444443\"> &#39;Anakin Skywalker&#39;</text>\n",
       "<polygon fill=\"#fefecd\" stroke=\"transparent\" points=\"28.5,-72 28.5,-74 185.5,-74 185.5,-72 28.5,-72\"/>\n",
       "<polygon fill=\"#fefecd\" stroke=\"transparent\" points=\"28.5,-58 28.5,-72 79.5,-72 79.5,-58 28.5,-58\"/>\n",
       "<text text-anchor=\"start\" x=\"54.5\" y=\"-62.2\" font-family=\"Helvetica,sans-Serif\" font-size=\"11.00\" fill=\"#444443\">&#39;son&#39; </text>\n",
       "<text text-anchor=\"start\" x=\"79.5\" y=\"-60.8\" font-family=\"Helvetica,sans-Serif\" font-size=\"9.00\" fill=\"#444443\">→</text>\n",
       "<polygon fill=\"#fefecd\" stroke=\"transparent\" points=\"89.5,-58 89.5,-72 185.5,-72 185.5,-58 89.5,-58\"/>\n",
       "<text text-anchor=\"start\" x=\"90.5\" y=\"-62.2\" font-family=\"Helvetica,sans-Serif\" font-size=\"11.00\" fill=\"#444443\"> &#160;&#160;&#160;</text>\n",
       "<polygon fill=\"#fefecd\" stroke=\"transparent\" points=\"28.5,-56 28.5,-58 185.5,-58 185.5,-56 28.5,-56\"/>\n",
       "<polygon fill=\"#fefecd\" stroke=\"transparent\" points=\"28.5,-42 28.5,-56 79.5,-56 79.5,-42 28.5,-42\"/>\n",
       "<text text-anchor=\"start\" x=\"28.5\" y=\"-46.2\" font-family=\"Helvetica,sans-Serif\" font-size=\"11.00\" fill=\"#444443\">&#39;daughter&#39; </text>\n",
       "<text text-anchor=\"start\" x=\"79.5\" y=\"-44.8\" font-family=\"Helvetica,sans-Serif\" font-size=\"9.00\" fill=\"#444443\">→</text>\n",
       "<polygon fill=\"#fefecd\" stroke=\"transparent\" points=\"89.5,-42 89.5,-56 185.5,-56 185.5,-42 89.5,-42\"/>\n",
       "<text text-anchor=\"start\" x=\"90.5\" y=\"-46.2\" font-family=\"Helvetica,sans-Serif\" font-size=\"11.00\" fill=\"#444443\"> &#160;&#160;&#160;</text>\n",
       "</g>\n",
       "<!-- node139754864857448 -->\n",
       "<g id=\"node2\" class=\"node\">\n",
       "<title>node139754864857448</title>\n",
       "<polygon fill=\"#fefecd\" stroke=\"#444443\" stroke-width=\".5\" points=\"135,-18 0,-18 0,0 135,0 135,-18\"/>\n",
       "<polygon fill=\"#fefecd\" stroke=\"transparent\" points=\"2.5,-2 2.5,-16 37.5,-16 37.5,-2 2.5,-2\"/>\n",
       "<text text-anchor=\"start\" x=\"2.5\" y=\"-6.2\" font-family=\"Helvetica,sans-Serif\" font-size=\"11.00\" fill=\"#444443\">&#39;name&#39; </text>\n",
       "<text text-anchor=\"start\" x=\"37.5\" y=\"-4.8\" font-family=\"Helvetica,sans-Serif\" font-size=\"9.00\" fill=\"#444443\">→</text>\n",
       "<polygon fill=\"#fefecd\" stroke=\"transparent\" points=\"47.5,-2 47.5,-16 133.5,-16 133.5,-2 47.5,-2\"/>\n",
       "<text text-anchor=\"start\" x=\"48.5\" y=\"-6.2\" font-family=\"Helvetica,sans-Serif\" font-size=\"11.00\" fill=\"#444443\"> &#39;Luke Skywalker&#39;</text>\n",
       "</g>\n",
       "<!-- node139754865714016&#45;&gt;node139754864857448 -->\n",
       "<g id=\"edge1\" class=\"edge\">\n",
       "<title>node139754865714016:c&#45;&gt;node139754864857448</title>\n",
       "<path fill=\"none\" stroke=\"#444443\" stroke-width=\".5\" d=\"M134.8942,-62.9154C126.468,-56.1744 99.5111,-34.6089 82.3519,-20.8815\"/>\n",
       "<ellipse fill=\"#444443\" stroke=\"#444443\" stroke-width=\".5\" cx=\"136.2506\" cy=\"-64.0005\" rx=\"1.6\" ry=\"1.6\"/>\n",
       "<polygon fill=\"#444443\" stroke=\"#444443\" stroke-width=\".5\" points=\"83.0572,-19.6529 79.0591,-18.2473 81.308,-21.8393 83.0572,-19.6529\"/>\n",
       "</g>\n",
       "<!-- node139754863124272 -->\n",
       "<g id=\"node3\" class=\"node\">\n",
       "<title>node139754863124272</title>\n",
       "<polygon fill=\"#fefecd\" stroke=\"#444443\" stroke-width=\".5\" points=\"274.5,-18 142.5,-18 142.5,0 274.5,0 274.5,-18\"/>\n",
       "<polygon fill=\"#fefecd\" stroke=\"transparent\" points=\"144.5,-2 144.5,-16 179.5,-16 179.5,-2 144.5,-2\"/>\n",
       "<text text-anchor=\"start\" x=\"144.5\" y=\"-6.2\" font-family=\"Helvetica,sans-Serif\" font-size=\"11.00\" fill=\"#444443\">&#39;name&#39; </text>\n",
       "<text text-anchor=\"start\" x=\"179.5\" y=\"-4.8\" font-family=\"Helvetica,sans-Serif\" font-size=\"9.00\" fill=\"#444443\">→</text>\n",
       "<polygon fill=\"#fefecd\" stroke=\"transparent\" points=\"189.5,-2 189.5,-16 272.5,-16 272.5,-2 189.5,-2\"/>\n",
       "<text text-anchor=\"start\" x=\"190.5\" y=\"-6.2\" font-family=\"Helvetica,sans-Serif\" font-size=\"11.00\" fill=\"#444443\"> &#39;Leia Skywalker&#39;</text>\n",
       "</g>\n",
       "<!-- node139754865714016&#45;&gt;node139754863124272 -->\n",
       "<g id=\"edge2\" class=\"edge\">\n",
       "<title>node139754865714016:c&#45;&gt;node139754863124272</title>\n",
       "<path fill=\"none\" stroke=\"#444443\" stroke-width=\".5\" d=\"M140.7703,-47.1576C149.1382,-42.4432 171.8512,-29.6472 188.6803,-20.166\"/>\n",
       "<ellipse fill=\"#444443\" stroke=\"#444443\" stroke-width=\".5\" cx=\"138.894\" cy=\"-48.2146\" rx=\"1.6\" ry=\"1.6\"/>\n",
       "<polygon fill=\"#444443\" stroke=\"#444443\" stroke-width=\".5\" points=\"189.5912,-21.2598 192.389,-18.0766 188.2168,-18.8203 189.5912,-21.2598\"/>\n",
       "</g>\n",
       "</g>\n",
       "</svg>\n"
      ],
      "text/plain": [
       "<graphviz.files.Source at 0x7f1b264e7a58>"
      ]
     },
     "execution_count": 110,
     "metadata": {},
     "output_type": "execute_result"
    }
   ],
   "source": [
    "lolviz.treeviz(anakin)"
   ]
  },
  {
   "cell_type": "markdown",
   "metadata": {},
   "source": [
    "But it's simpler to use the automatic function!"
   ]
  },
  {
   "cell_type": "code",
   "execution_count": 111,
   "metadata": {
    "ExecuteTime": {
     "end_time": "2021-02-22T21:20:16.464414Z",
     "start_time": "2021-02-22T21:20:16.406024Z"
    }
   },
   "outputs": [
    {
     "data": {
      "image/svg+xml": [
       "<?xml version=\"1.0\" encoding=\"UTF-8\" standalone=\"no\"?>\n",
       "<!DOCTYPE svg PUBLIC \"-//W3C//DTD SVG 1.1//EN\"\n",
       " \"http://www.w3.org/Graphics/SVG/1.1/DTD/svg11.dtd\">\n",
       "<!-- Generated by graphviz version 2.40.1 (20161225.0304)\n",
       " -->\n",
       "<!-- Title: G Pages: 1 -->\n",
       "<svg width=\"283pt\" height=\"98pt\"\n",
       " viewBox=\"0.00 0.00 282.50 98.00\" xmlns=\"http://www.w3.org/2000/svg\" xmlns:xlink=\"http://www.w3.org/1999/xlink\">\n",
       "<g id=\"graph0\" class=\"graph\" transform=\"scale(1 1) rotate(0) translate(4 94)\">\n",
       "<title>G</title>\n",
       "<polygon fill=\"#ffffff\" stroke=\"transparent\" points=\"-4,4 -4,-94 278.5,-94 278.5,4 -4,4\"/>\n",
       "<!-- node139754865714016 -->\n",
       "<g id=\"node1\" class=\"node\">\n",
       "<title>node139754865714016</title>\n",
       "<polygon fill=\"#fefecd\" stroke=\"#444443\" stroke-width=\".5\" points=\"187,-90 26,-90 26,-40 187,-40 187,-90\"/>\n",
       "<polygon fill=\"#fefecd\" stroke=\"transparent\" points=\"28.5,-74 28.5,-88 79.5,-88 79.5,-74 28.5,-74\"/>\n",
       "<text text-anchor=\"start\" x=\"44.5\" y=\"-78.2\" font-family=\"Helvetica,sans-Serif\" font-size=\"11.00\" fill=\"#444443\">&#39;name&#39; </text>\n",
       "<text text-anchor=\"start\" x=\"79.5\" y=\"-76.8\" font-family=\"Helvetica,sans-Serif\" font-size=\"9.00\" fill=\"#444443\">→</text>\n",
       "<polygon fill=\"#fefecd\" stroke=\"transparent\" points=\"89.5,-74 89.5,-88 185.5,-88 185.5,-74 89.5,-74\"/>\n",
       "<text text-anchor=\"start\" x=\"90.5\" y=\"-78.2\" font-family=\"Helvetica,sans-Serif\" font-size=\"11.00\" fill=\"#444443\"> &#39;Anakin Skywalker&#39;</text>\n",
       "<polygon fill=\"#fefecd\" stroke=\"transparent\" points=\"28.5,-72 28.5,-74 185.5,-74 185.5,-72 28.5,-72\"/>\n",
       "<polygon fill=\"#fefecd\" stroke=\"transparent\" points=\"28.5,-58 28.5,-72 79.5,-72 79.5,-58 28.5,-58\"/>\n",
       "<text text-anchor=\"start\" x=\"54.5\" y=\"-62.2\" font-family=\"Helvetica,sans-Serif\" font-size=\"11.00\" fill=\"#444443\">&#39;son&#39; </text>\n",
       "<text text-anchor=\"start\" x=\"79.5\" y=\"-60.8\" font-family=\"Helvetica,sans-Serif\" font-size=\"9.00\" fill=\"#444443\">→</text>\n",
       "<polygon fill=\"#fefecd\" stroke=\"transparent\" points=\"89.5,-58 89.5,-72 185.5,-72 185.5,-58 89.5,-58\"/>\n",
       "<text text-anchor=\"start\" x=\"90.5\" y=\"-62.2\" font-family=\"Helvetica,sans-Serif\" font-size=\"11.00\" fill=\"#444443\"> &#160;&#160;&#160;</text>\n",
       "<polygon fill=\"#fefecd\" stroke=\"transparent\" points=\"28.5,-56 28.5,-58 185.5,-58 185.5,-56 28.5,-56\"/>\n",
       "<polygon fill=\"#fefecd\" stroke=\"transparent\" points=\"28.5,-42 28.5,-56 79.5,-56 79.5,-42 28.5,-42\"/>\n",
       "<text text-anchor=\"start\" x=\"28.5\" y=\"-46.2\" font-family=\"Helvetica,sans-Serif\" font-size=\"11.00\" fill=\"#444443\">&#39;daughter&#39; </text>\n",
       "<text text-anchor=\"start\" x=\"79.5\" y=\"-44.8\" font-family=\"Helvetica,sans-Serif\" font-size=\"9.00\" fill=\"#444443\">→</text>\n",
       "<polygon fill=\"#fefecd\" stroke=\"transparent\" points=\"89.5,-42 89.5,-56 185.5,-56 185.5,-42 89.5,-42\"/>\n",
       "<text text-anchor=\"start\" x=\"90.5\" y=\"-46.2\" font-family=\"Helvetica,sans-Serif\" font-size=\"11.00\" fill=\"#444443\"> &#160;&#160;&#160;</text>\n",
       "</g>\n",
       "<!-- node139754864857448 -->\n",
       "<g id=\"node2\" class=\"node\">\n",
       "<title>node139754864857448</title>\n",
       "<polygon fill=\"#fefecd\" stroke=\"#444443\" stroke-width=\".5\" points=\"135,-18 0,-18 0,0 135,0 135,-18\"/>\n",
       "<polygon fill=\"#fefecd\" stroke=\"transparent\" points=\"2.5,-2 2.5,-16 37.5,-16 37.5,-2 2.5,-2\"/>\n",
       "<text text-anchor=\"start\" x=\"2.5\" y=\"-6.2\" font-family=\"Helvetica,sans-Serif\" font-size=\"11.00\" fill=\"#444443\">&#39;name&#39; </text>\n",
       "<text text-anchor=\"start\" x=\"37.5\" y=\"-4.8\" font-family=\"Helvetica,sans-Serif\" font-size=\"9.00\" fill=\"#444443\">→</text>\n",
       "<polygon fill=\"#fefecd\" stroke=\"transparent\" points=\"47.5,-2 47.5,-16 133.5,-16 133.5,-2 47.5,-2\"/>\n",
       "<text text-anchor=\"start\" x=\"48.5\" y=\"-6.2\" font-family=\"Helvetica,sans-Serif\" font-size=\"11.00\" fill=\"#444443\"> &#39;Luke Skywalker&#39;</text>\n",
       "</g>\n",
       "<!-- node139754865714016&#45;&gt;node139754864857448 -->\n",
       "<g id=\"edge1\" class=\"edge\">\n",
       "<title>node139754865714016:c&#45;&gt;node139754864857448</title>\n",
       "<path fill=\"none\" stroke=\"#444443\" stroke-width=\".5\" d=\"M134.8942,-62.9154C126.468,-56.1744 99.5111,-34.6089 82.3519,-20.8815\"/>\n",
       "<ellipse fill=\"#444443\" stroke=\"#444443\" stroke-width=\".5\" cx=\"136.2506\" cy=\"-64.0005\" rx=\"1.6\" ry=\"1.6\"/>\n",
       "<polygon fill=\"#444443\" stroke=\"#444443\" stroke-width=\".5\" points=\"83.0572,-19.6529 79.0591,-18.2473 81.308,-21.8393 83.0572,-19.6529\"/>\n",
       "</g>\n",
       "<!-- node139754863124272 -->\n",
       "<g id=\"node3\" class=\"node\">\n",
       "<title>node139754863124272</title>\n",
       "<polygon fill=\"#fefecd\" stroke=\"#444443\" stroke-width=\".5\" points=\"274.5,-18 142.5,-18 142.5,0 274.5,0 274.5,-18\"/>\n",
       "<polygon fill=\"#fefecd\" stroke=\"transparent\" points=\"144.5,-2 144.5,-16 179.5,-16 179.5,-2 144.5,-2\"/>\n",
       "<text text-anchor=\"start\" x=\"144.5\" y=\"-6.2\" font-family=\"Helvetica,sans-Serif\" font-size=\"11.00\" fill=\"#444443\">&#39;name&#39; </text>\n",
       "<text text-anchor=\"start\" x=\"179.5\" y=\"-4.8\" font-family=\"Helvetica,sans-Serif\" font-size=\"9.00\" fill=\"#444443\">→</text>\n",
       "<polygon fill=\"#fefecd\" stroke=\"transparent\" points=\"189.5,-2 189.5,-16 272.5,-16 272.5,-2 189.5,-2\"/>\n",
       "<text text-anchor=\"start\" x=\"190.5\" y=\"-6.2\" font-family=\"Helvetica,sans-Serif\" font-size=\"11.00\" fill=\"#444443\"> &#39;Leia Skywalker&#39;</text>\n",
       "</g>\n",
       "<!-- node139754865714016&#45;&gt;node139754863124272 -->\n",
       "<g id=\"edge2\" class=\"edge\">\n",
       "<title>node139754865714016:c&#45;&gt;node139754863124272</title>\n",
       "<path fill=\"none\" stroke=\"#444443\" stroke-width=\".5\" d=\"M140.7703,-47.1576C149.1382,-42.4432 171.8512,-29.6472 188.6803,-20.166\"/>\n",
       "<ellipse fill=\"#444443\" stroke=\"#444443\" stroke-width=\".5\" cx=\"138.894\" cy=\"-48.2146\" rx=\"1.6\" ry=\"1.6\"/>\n",
       "<polygon fill=\"#444443\" stroke=\"#444443\" stroke-width=\".5\" points=\"189.5912,-21.2598 192.389,-18.0766 188.2168,-18.8203 189.5912,-21.2598\"/>\n",
       "</g>\n",
       "</g>\n",
       "</svg>\n"
      ],
      "text/plain": [
       "<graphviz.files.Source at 0x7f1b264e7f98>"
      ]
     },
     "execution_count": 111,
     "metadata": {},
     "output_type": "execute_result"
    }
   ],
   "source": [
    "viz(anakin)"
   ]
  },
  {
   "cell_type": "markdown",
   "metadata": {},
   "source": [
    "It works out of the box for dictionaries!\n",
    "\n",
    "Let's check another example:"
   ]
  },
  {
   "cell_type": "code",
   "execution_count": 116,
   "metadata": {
    "ExecuteTime": {
     "end_time": "2021-02-22T21:22:09.715116Z",
     "start_time": "2021-02-22T21:22:09.709228Z"
    }
   },
   "outputs": [],
   "source": [
    "anakin_rec = {\n",
    "    \"name\": \"Anakin Skywalker\",\n",
    "}"
   ]
  },
  {
   "cell_type": "code",
   "execution_count": 117,
   "metadata": {
    "ExecuteTime": {
     "end_time": "2021-02-22T21:22:11.096862Z",
     "start_time": "2021-02-22T21:22:11.094367Z"
    }
   },
   "outputs": [],
   "source": [
    "luke_rec = {\n",
    "    \"name\": \"Luke Skywalker\",\n",
    "    \"father\": anakin_rec,\n",
    "}\n",
    "leia_rec = {\n",
    "    \"name\": \"Leia Skywalker\",\n",
    "    \"father\": anakin_rec,\n",
    "},"
   ]
  },
  {
   "cell_type": "code",
   "execution_count": 118,
   "metadata": {
    "ExecuteTime": {
     "end_time": "2021-02-22T21:22:12.124089Z",
     "start_time": "2021-02-22T21:22:12.117992Z"
    }
   },
   "outputs": [],
   "source": [
    "anakin_rec.update({\n",
    "    \"son\": luke_rec,\n",
    "    \"daughter\": leia_rec,\n",
    "})"
   ]
  },
  {
   "cell_type": "code",
   "execution_count": 121,
   "metadata": {
    "ExecuteTime": {
     "end_time": "2021-02-22T21:22:20.809362Z",
     "start_time": "2021-02-22T21:22:20.803453Z"
    }
   },
   "outputs": [
    {
     "name": "stdout",
     "output_type": "stream",
     "text": [
      "{'daughter': ({'father': <Recursion on dict with id=139754864347464>,\n",
      "               'name': 'Leia Skywalker'},),\n",
      " 'name': 'Anakin Skywalker',\n",
      " 'son': {'father': <Recursion on dict with id=139754864347464>,\n",
      "         'name': 'Luke Skywalker'}}\n"
     ]
    }
   ],
   "source": [
    "from pprint import pprint\n",
    "pprint(anakin_rec)"
   ]
  },
  {
   "cell_type": "markdown",
   "metadata": {},
   "source": [
    "But it's simpler to use the automatic function!"
   ]
  },
  {
   "cell_type": "code",
   "execution_count": 124,
   "metadata": {
    "ExecuteTime": {
     "end_time": "2021-02-22T21:22:37.021528Z",
     "start_time": "2021-02-22T21:22:36.971979Z"
    }
   },
   "outputs": [
    {
     "data": {
      "image/svg+xml": [
       "<?xml version=\"1.0\" encoding=\"UTF-8\" standalone=\"no\"?>\n",
       "<!DOCTYPE svg PUBLIC \"-//W3C//DTD SVG 1.1//EN\"\n",
       " \"http://www.w3.org/Graphics/SVG/1.1/DTD/svg11.dtd\">\n",
       "<!-- Generated by graphviz version 2.40.1 (20161225.0304)\n",
       " -->\n",
       "<!-- Title: G Pages: 1 -->\n",
       "<svg width=\"181pt\" height=\"170pt\"\n",
       " viewBox=\"0.00 0.00 181.00 170.00\" xmlns=\"http://www.w3.org/2000/svg\" xmlns:xlink=\"http://www.w3.org/1999/xlink\">\n",
       "<g id=\"graph0\" class=\"graph\" transform=\"scale(1 1) rotate(0) translate(4 166)\">\n",
       "<title>G</title>\n",
       "<polygon fill=\"#ffffff\" stroke=\"transparent\" points=\"-4,4 -4,-166 177,-166 177,4 -4,4\"/>\n",
       "<!-- node139754864347464 -->\n",
       "<g id=\"node1\" class=\"node\">\n",
       "<title>node139754864347464</title>\n",
       "<polygon fill=\"#fefecd\" stroke=\"#444443\" stroke-width=\".5\" points=\"161,-162 0,-162 0,-112 161,-112 161,-162\"/>\n",
       "<polygon fill=\"#fefecd\" stroke=\"transparent\" points=\"2.5,-146 2.5,-160 53.5,-160 53.5,-146 2.5,-146\"/>\n",
       "<text text-anchor=\"start\" x=\"18.5\" y=\"-150.2\" font-family=\"Helvetica,sans-Serif\" font-size=\"11.00\" fill=\"#444443\">&#39;name&#39; </text>\n",
       "<text text-anchor=\"start\" x=\"53.5\" y=\"-148.8\" font-family=\"Helvetica,sans-Serif\" font-size=\"9.00\" fill=\"#444443\">→</text>\n",
       "<polygon fill=\"#fefecd\" stroke=\"transparent\" points=\"63.5,-146 63.5,-160 159.5,-160 159.5,-146 63.5,-146\"/>\n",
       "<text text-anchor=\"start\" x=\"64.5\" y=\"-150.2\" font-family=\"Helvetica,sans-Serif\" font-size=\"11.00\" fill=\"#444443\"> &#39;Anakin Skywalker&#39;</text>\n",
       "<polygon fill=\"#fefecd\" stroke=\"transparent\" points=\"2.5,-144 2.5,-146 159.5,-146 159.5,-144 2.5,-144\"/>\n",
       "<polygon fill=\"#fefecd\" stroke=\"transparent\" points=\"2.5,-130 2.5,-144 53.5,-144 53.5,-130 2.5,-130\"/>\n",
       "<text text-anchor=\"start\" x=\"28.5\" y=\"-134.2\" font-family=\"Helvetica,sans-Serif\" font-size=\"11.00\" fill=\"#444443\">&#39;son&#39; </text>\n",
       "<text text-anchor=\"start\" x=\"53.5\" y=\"-132.8\" font-family=\"Helvetica,sans-Serif\" font-size=\"9.00\" fill=\"#444443\">→</text>\n",
       "<polygon fill=\"#fefecd\" stroke=\"transparent\" points=\"63.5,-130 63.5,-144 159.5,-144 159.5,-130 63.5,-130\"/>\n",
       "<text text-anchor=\"start\" x=\"64.5\" y=\"-134.2\" font-family=\"Helvetica,sans-Serif\" font-size=\"11.00\" fill=\"#444443\"> &#160;&#160;&#160;</text>\n",
       "<polygon fill=\"#fefecd\" stroke=\"transparent\" points=\"2.5,-128 2.5,-130 159.5,-130 159.5,-128 2.5,-128\"/>\n",
       "<polygon fill=\"#fefecd\" stroke=\"transparent\" points=\"2.5,-114 2.5,-128 53.5,-128 53.5,-114 2.5,-114\"/>\n",
       "<text text-anchor=\"start\" x=\"2.5\" y=\"-118.2\" font-family=\"Helvetica,sans-Serif\" font-size=\"11.00\" fill=\"#444443\">&#39;daughter&#39; </text>\n",
       "<text text-anchor=\"start\" x=\"53.5\" y=\"-116.8\" font-family=\"Helvetica,sans-Serif\" font-size=\"9.00\" fill=\"#444443\">→</text>\n",
       "<polygon fill=\"#fefecd\" stroke=\"transparent\" points=\"63.5,-114 63.5,-128 159.5,-128 159.5,-114 63.5,-114\"/>\n",
       "<text text-anchor=\"start\" x=\"64.5\" y=\"-118.2\" font-family=\"Helvetica,sans-Serif\" font-size=\"11.00\" fill=\"#444443\"> &#160;&#160;&#160;</text>\n",
       "</g>\n",
       "<!-- node139754864052696 -->\n",
       "<g id=\"node2\" class=\"node\">\n",
       "<title>node139754864052696</title>\n",
       "<polygon fill=\"#fefecd\" stroke=\"#444443\" stroke-width=\".5\" points=\"152.5,-90 16.5,-90 16.5,-56 152.5,-56 152.5,-90\"/>\n",
       "<polygon fill=\"#fefecd\" stroke=\"transparent\" points=\"18.5,-74 18.5,-88 54.5,-88 54.5,-74 18.5,-74\"/>\n",
       "<text text-anchor=\"start\" x=\"19.5\" y=\"-78.2\" font-family=\"Helvetica,sans-Serif\" font-size=\"11.00\" fill=\"#444443\">&#39;name&#39; </text>\n",
       "<text text-anchor=\"start\" x=\"54.5\" y=\"-76.8\" font-family=\"Helvetica,sans-Serif\" font-size=\"9.00\" fill=\"#444443\">→</text>\n",
       "<polygon fill=\"#fefecd\" stroke=\"transparent\" points=\"64.5,-74 64.5,-88 150.5,-88 150.5,-74 64.5,-74\"/>\n",
       "<text text-anchor=\"start\" x=\"65.5\" y=\"-78.2\" font-family=\"Helvetica,sans-Serif\" font-size=\"11.00\" fill=\"#444443\"> &#39;Luke Skywalker&#39;</text>\n",
       "<polygon fill=\"#fefecd\" stroke=\"transparent\" points=\"18.5,-72 18.5,-74 150.5,-74 150.5,-72 18.5,-72\"/>\n",
       "<polygon fill=\"#fefecd\" stroke=\"transparent\" points=\"18.5,-58 18.5,-72 54.5,-72 54.5,-58 18.5,-58\"/>\n",
       "<text text-anchor=\"start\" x=\"18.5\" y=\"-62.2\" font-family=\"Helvetica,sans-Serif\" font-size=\"11.00\" fill=\"#444443\">&#39;father&#39; </text>\n",
       "<text text-anchor=\"start\" x=\"54.5\" y=\"-60.8\" font-family=\"Helvetica,sans-Serif\" font-size=\"9.00\" fill=\"#444443\">→</text>\n",
       "<polygon fill=\"#fefecd\" stroke=\"transparent\" points=\"64.5,-58 64.5,-72 150.5,-72 150.5,-58 64.5,-58\"/>\n",
       "<text text-anchor=\"start\" x=\"65.5\" y=\"-62.2\" font-family=\"Helvetica,sans-Serif\" font-size=\"11.00\" fill=\"#444443\"> &#160;&#160;&#160;</text>\n",
       "</g>\n",
       "<!-- node139754864347464&#45;&gt;node139754864052696 -->\n",
       "<g id=\"edge1\" class=\"edge\">\n",
       "<title>node139754864347464:c&#45;&gt;node139754864052696</title>\n",
       "<path fill=\"none\" stroke=\"#444443\" stroke-width=\".5\" d=\"M110.1737,-133.8562C107.1587,-126.7096 99.5751,-108.7335 93.4266,-94.1594\"/>\n",
       "<ellipse fill=\"#444443\" stroke=\"#444443\" stroke-width=\".5\" cx=\"110.8781\" cy=\"-135.5258\" rx=\"1.6\" ry=\"1.6\"/>\n",
       "<polygon fill=\"#444443\" stroke=\"#444443\" stroke-width=\".5\" points=\"94.5803,-93.2921 91.7355,-90.1508 92.0005,-94.3805 94.5803,-93.2921\"/>\n",
       "</g>\n",
       "<!-- node139754859924336 -->\n",
       "<g id=\"node3\" class=\"node\">\n",
       "<title>node139754859924336</title>\n",
       "<polygon fill=\"none\" stroke=\"#000000\" stroke-width=\".5\" points=\"173,-88 160,-88 160,-58 173,-58 173,-88\"/>\n",
       "<polygon fill=\"#fefecd\" stroke=\"transparent\" points=\"161.5,-75 161.5,-87 172.5,-87 172.5,-75 161.5,-75\"/>\n",
       "<polyline fill=\"none\" stroke=\"#000000\" points=\"161.5,-75 172.5,-75 \"/>\n",
       "<text text-anchor=\"start\" x=\"164\" y=\"-78.8\" font-family=\"Helvetica,sans-Serif\" font-size=\"9.00\" fill=\"#444443\">0</text>\n",
       "<polygon fill=\"#fefecd\" stroke=\"transparent\" points=\"161.5,-59 161.5,-75 172.5,-75 172.5,-59 161.5,-59\"/>\n",
       "<text text-anchor=\"start\" x=\"163.5\" y=\"-64.2\" font-family=\"Helvetica,sans-Serif\" font-size=\"11.00\" fill=\"#444443\"> &#160;</text>\n",
       "</g>\n",
       "<!-- node139754864347464&#45;&gt;node139754859924336 -->\n",
       "<g id=\"edge2\" class=\"edge\">\n",
       "<title>node139754864347464:c&#45;&gt;node139754859924336</title>\n",
       "<path fill=\"none\" stroke=\"#444443\" stroke-width=\".5\" d=\"M114.6835,-119.4358C122.5674,-115.4399 143.3131,-104.1652 156.5,-90 156.8033,-89.6742 157.1016,-89.3376 157.3946,-88.9923\"/>\n",
       "<ellipse fill=\"#444443\" stroke=\"#444443\" stroke-width=\".5\" cx=\"112.936\" cy=\"-120.2944\" rx=\"1.6\" ry=\"1.6\"/>\n",
       "<polygon fill=\"#444443\" stroke=\"#444443\" stroke-width=\".5\" points=\"158.5888,-89.734 159.8814,-85.698 156.354,-88.047 158.5888,-89.734\"/>\n",
       "</g>\n",
       "<!-- node139754864052696&#45;&gt;node139754864347464 -->\n",
       "<g id=\"edge3\" class=\"edge\">\n",
       "<title>node139754864052696:c&#45;&gt;node139754864347464</title>\n",
       "<path fill=\"none\" stroke=\"#444443\" stroke-width=\".5\" d=\"M106.3686,-68.017C103.7955,-74.8786 97.2743,-92.2686 91.4236,-107.8705\"/>\n",
       "<ellipse fill=\"#444443\" stroke=\"#444443\" stroke-width=\".5\" cx=\"106.9382\" cy=\"-66.4981\" rx=\"1.6\" ry=\"1.6\"/>\n",
       "<polygon fill=\"#444443\" stroke=\"#444443\" stroke-width=\".5\" points=\"90.037,-107.581 89.9433,-111.8179 92.6587,-108.5642 90.037,-107.581\"/>\n",
       "</g>\n",
       "<!-- node139754862935784 -->\n",
       "<g id=\"node4\" class=\"node\">\n",
       "<title>node139754862935784</title>\n",
       "<polygon fill=\"#fefecd\" stroke=\"#444443\" stroke-width=\".5\" points=\"141,-34 8,-34 8,0 141,0 141,-34\"/>\n",
       "<polygon fill=\"#fefecd\" stroke=\"transparent\" points=\"10.5,-18 10.5,-32 46.5,-32 46.5,-18 10.5,-18\"/>\n",
       "<text text-anchor=\"start\" x=\"11.5\" y=\"-22.2\" font-family=\"Helvetica,sans-Serif\" font-size=\"11.00\" fill=\"#444443\">&#39;name&#39; </text>\n",
       "<text text-anchor=\"start\" x=\"46.5\" y=\"-20.8\" font-family=\"Helvetica,sans-Serif\" font-size=\"9.00\" fill=\"#444443\">→</text>\n",
       "<polygon fill=\"#fefecd\" stroke=\"transparent\" points=\"56.5,-18 56.5,-32 139.5,-32 139.5,-18 56.5,-18\"/>\n",
       "<text text-anchor=\"start\" x=\"57.5\" y=\"-22.2\" font-family=\"Helvetica,sans-Serif\" font-size=\"11.00\" fill=\"#444443\"> &#39;Leia Skywalker&#39;</text>\n",
       "<polygon fill=\"#fefecd\" stroke=\"transparent\" points=\"10.5,-16 10.5,-18 139.5,-18 139.5,-16 10.5,-16\"/>\n",
       "<polygon fill=\"#fefecd\" stroke=\"transparent\" points=\"10.5,-2 10.5,-16 46.5,-16 46.5,-2 10.5,-2\"/>\n",
       "<text text-anchor=\"start\" x=\"10.5\" y=\"-6.2\" font-family=\"Helvetica,sans-Serif\" font-size=\"11.00\" fill=\"#444443\">&#39;father&#39; </text>\n",
       "<text text-anchor=\"start\" x=\"46.5\" y=\"-4.8\" font-family=\"Helvetica,sans-Serif\" font-size=\"9.00\" fill=\"#444443\">→</text>\n",
       "<polygon fill=\"#fefecd\" stroke=\"transparent\" points=\"56.5,-2 56.5,-16 139.5,-16 139.5,-2 56.5,-2\"/>\n",
       "<text text-anchor=\"start\" x=\"57.5\" y=\"-6.2\" font-family=\"Helvetica,sans-Serif\" font-size=\"11.00\" fill=\"#444443\"> &#160;&#160;&#160;</text>\n",
       "</g>\n",
       "<!-- node139754859924336&#45;&gt;node139754862935784 -->\n",
       "<g id=\"edge4\" class=\"edge\">\n",
       "<title>node139754859924336:c&#45;&gt;node139754862935784</title>\n",
       "<path fill=\"none\" stroke=\"#444443\" stroke-width=\".5\" d=\"M165.1892,-64.2009C163.1029,-61.8014 159.8538,-58.3674 156.5,-56 145.6456,-48.3379 133.0504,-41.4938 121.0371,-35.7595\"/>\n",
       "<ellipse fill=\"#444443\" stroke=\"#444443\" stroke-width=\".5\" cx=\"166.4814\" cy=\"-65.7661\" rx=\"1.6\" ry=\"1.6\"/>\n",
       "<polygon fill=\"#444443\" stroke=\"#444443\" stroke-width=\".5\" points=\"121.5456,-34.4516 117.3301,-34.0158 120.3538,-36.9853 121.5456,-34.4516\"/>\n",
       "</g>\n",
       "<!-- node139754862935784&#45;&gt;node139754864347464 -->\n",
       "<g id=\"edge5\" class=\"edge\">\n",
       "<title>node139754862935784:c&#45;&gt;node139754864347464</title>\n",
       "<path fill=\"none\" stroke=\"#444443\" stroke-width=\".5\" d=\"M95.048,-9.6312C81.5749,-12.3021 32.3453,-24.0453 13.5,-56 5.8237,-69.0162 6.5282,-76.5933 13.5,-90 17.2744,-97.2583 22.7403,-103.6291 28.9459,-109.1446\"/>\n",
       "<ellipse fill=\"#444443\" stroke=\"#444443\" stroke-width=\".5\" cx=\"96.9261\" cy=\"-9.2878\" rx=\"1.6\" ry=\"1.6\"/>\n",
       "<polygon fill=\"#444443\" stroke=\"#444443\" stroke-width=\".5\" points=\"28.0937,-110.2578 32.0475,-111.7836 29.9082,-108.1252 28.0937,-110.2578\"/>\n",
       "</g>\n",
       "</g>\n",
       "</svg>\n"
      ],
      "text/plain": [
       "<graphviz.files.Source at 0x7f1b37241748>"
      ]
     },
     "execution_count": 124,
     "metadata": {},
     "output_type": "execute_result"
    }
   ],
   "source": [
    "viz(anakin_rec)"
   ]
  },
  {
   "cell_type": "markdown",
   "metadata": {},
   "source": [
    "It works too for recursive dictionaries!\n",
    "\n",
    "Let's check another example:"
   ]
  },
  {
   "cell_type": "code",
   "execution_count": 125,
   "metadata": {
    "ExecuteTime": {
     "end_time": "2021-02-22T21:22:50.339063Z",
     "start_time": "2021-02-22T21:22:50.329594Z"
    }
   },
   "outputs": [],
   "source": [
    "class Tree:\n",
    "    def __init__(self, value, left=None, right=None):\n",
    "        self.value = value\n",
    "        self.left = left\n",
    "        self.right = right\n",
    "        \n",
    "root = Tree('parrt',\n",
    "            Tree('mary',\n",
    "                 Tree('jim',\n",
    "                      Tree('srinivasan'),\n",
    "                      Tree('april'))),\n",
    "            Tree('xue',None,Tree('mike')))"
   ]
  },
  {
   "cell_type": "code",
   "execution_count": 126,
   "metadata": {
    "ExecuteTime": {
     "end_time": "2021-02-22T21:22:52.036406Z",
     "start_time": "2021-02-22T21:22:51.971620Z"
    }
   },
   "outputs": [
    {
     "data": {
      "image/svg+xml": [
       "<?xml version=\"1.0\" encoding=\"UTF-8\" standalone=\"no\"?>\n",
       "<!DOCTYPE svg PUBLIC \"-//W3C//DTD SVG 1.1//EN\"\n",
       " \"http://www.w3.org/Graphics/SVG/1.1/DTD/svg11.dtd\">\n",
       "<!-- Generated by graphviz version 2.40.1 (20161225.0304)\n",
       " -->\n",
       "<!-- Title: G Pages: 1 -->\n",
       "<svg width=\"236pt\" height=\"298pt\"\n",
       " viewBox=\"0.00 0.00 235.50 298.00\" xmlns=\"http://www.w3.org/2000/svg\" xmlns:xlink=\"http://www.w3.org/1999/xlink\">\n",
       "<g id=\"graph0\" class=\"graph\" transform=\"scale(1 1) rotate(0) translate(4 294)\">\n",
       "<title>G</title>\n",
       "<polygon fill=\"#ffffff\" stroke=\"transparent\" points=\"-4,4 -4,-294 231.5,-294 231.5,4 -4,4\"/>\n",
       "<!-- node139754584139312 -->\n",
       "<g id=\"node1\" class=\"node\">\n",
       "<title>node139754584139312</title>\n",
       "<polygon fill=\"#fefecd\" stroke=\"#444443\" stroke-width=\".5\" points=\"175.5,-290 107.5,-290 107.5,-234 175.5,-234 175.5,-290\"/>\n",
       "<polygon fill=\"#fefecd\" stroke=\"transparent\" points=\"109.5,-274 109.5,-288 173.5,-288 173.5,-274 109.5,-274\"/>\n",
       "<polyline fill=\"none\" stroke=\"#444443\" points=\"109.5,-274 173.5,-274 \"/>\n",
       "<text text-anchor=\"start\" x=\"130.5\" y=\"-278.2\" font-family=\"Times,serif\" font-style=\"italic\" font-size=\"11.00\" fill=\"#444443\">Tree</text>\n",
       "<polygon fill=\"#fefecd\" stroke=\"transparent\" points=\"109.5,-272 109.5,-274 173.5,-274 173.5,-272 109.5,-272\"/>\n",
       "<polygon fill=\"#fefecd\" stroke=\"transparent\" points=\"109.5,-258 109.5,-272 140.5,-272 140.5,-258 109.5,-258\"/>\n",
       "<polyline fill=\"none\" stroke=\"#444443\" points=\"140.5,-258 140.5,-272 \"/>\n",
       "<text text-anchor=\"start\" x=\"110.5\" y=\"-262.2\" font-family=\"Helvetica,sans-Serif\" font-size=\"11.00\" fill=\"#444443\">value </text>\n",
       "<polygon fill=\"#fefecd\" stroke=\"transparent\" points=\"140.5,-258 140.5,-272 173.5,-272 173.5,-258 140.5,-258\"/>\n",
       "<text text-anchor=\"start\" x=\"141.5\" y=\"-262.2\" font-family=\"Helvetica,sans-Serif\" font-size=\"11.00\" fill=\"#444443\"> &#39;parrt&#39;</text>\n",
       "<polyline fill=\"none\" stroke=\"#444443\" points=\"109.5,-255 173.5,-255 \"/>\n",
       "<polygon fill=\"#fefecd\" stroke=\"transparent\" points=\"109.5,-253 109.5,-255 173.5,-255 173.5,-253 109.5,-253\"/>\n",
       "<polygon fill=\"#fefecd\" stroke=\"transparent\" points=\"109.5,-244 109.5,-253 140.5,-253 140.5,-244 109.5,-244\"/>\n",
       "<polyline fill=\"none\" stroke=\"#444443\" points=\"140.5,-244 140.5,-253 \"/>\n",
       "<text text-anchor=\"start\" x=\"110.5\" y=\"-247.2\" font-family=\"Helvetica,sans-Serif\" font-size=\"6.00\" fill=\"#444443\">left</text>\n",
       "<polygon fill=\"#fefecd\" stroke=\"transparent\" points=\"140.5,-244 140.5,-253 140.5,-253 140.5,-244 140.5,-244\"/>\n",
       "<polygon fill=\"#fefecd\" stroke=\"transparent\" points=\"140.5,-244 140.5,-253 173.5,-253 173.5,-244 140.5,-244\"/>\n",
       "<text text-anchor=\"start\" x=\"160.5\" y=\"-247.2\" font-family=\"Helvetica,sans-Serif\" font-size=\"6.00\" fill=\"#444443\">right</text>\n",
       "<polygon fill=\"#fefecd\" stroke=\"transparent\" points=\"109.5,-241 109.5,-244 140.5,-244 140.5,-241 109.5,-241\"/>\n",
       "<polyline fill=\"none\" stroke=\"#444443\" points=\"140.5,-241 140.5,-244 \"/>\n",
       "<text text-anchor=\"start\" x=\"124.8611\" y=\"-242.1\" font-family=\"Helvetica,sans-Serif\" font-size=\"1.00\" fill=\"#444443\"> </text>\n",
       "<polygon fill=\"#fefecd\" stroke=\"transparent\" points=\"140.5,-241 140.5,-244 140.5,-244 140.5,-241 140.5,-241\"/>\n",
       "<polygon fill=\"#fefecd\" stroke=\"transparent\" points=\"140.5,-241 140.5,-244 173.5,-244 173.5,-241 140.5,-241\"/>\n",
       "<text text-anchor=\"start\" x=\"156.8611\" y=\"-242.2\" font-family=\"Helvetica,sans-Serif\" font-size=\"1.00\" fill=\"#444443\"> </text>\n",
       "<polygon fill=\"#fefecd\" stroke=\"transparent\" points=\"109.5,-236 109.5,-241 140.5,-241 140.5,-236 109.5,-236\"/>\n",
       "<polyline fill=\"none\" stroke=\"#444443\" points=\"140.5,-236 140.5,-241 \"/>\n",
       "<text text-anchor=\"start\" x=\"124.5\" y=\"-237.6\" font-family=\"Helvetica,sans-Serif\" font-size=\"3.00\" fill=\"#444443\"> </text>\n",
       "<polygon fill=\"#fefecd\" stroke=\"transparent\" points=\"140.5,-236 140.5,-241 140.5,-241 140.5,-236 140.5,-236\"/>\n",
       "<polygon fill=\"#fefecd\" stroke=\"transparent\" points=\"140.5,-236 140.5,-241 173.5,-241 173.5,-236 140.5,-236\"/>\n",
       "<text text-anchor=\"start\" x=\"156.5\" y=\"-237.6\" font-family=\"Helvetica,sans-Serif\" font-size=\"3.00\" fill=\"#444443\"> </text>\n",
       "</g>\n",
       "<!-- node139754584139200 -->\n",
       "<g id=\"node2\" class=\"node\">\n",
       "<title>node139754584139200</title>\n",
       "<polygon fill=\"#fefecd\" stroke=\"#444443\" stroke-width=\".5\" points=\"139,-212 70,-212 70,-156 139,-156 139,-212\"/>\n",
       "<polygon fill=\"#fefecd\" stroke=\"transparent\" points=\"72.5,-196 72.5,-210 137.5,-210 137.5,-196 72.5,-196\"/>\n",
       "<polyline fill=\"none\" stroke=\"#444443\" points=\"72.5,-196 137.5,-196 \"/>\n",
       "<text text-anchor=\"start\" x=\"94\" y=\"-200.2\" font-family=\"Times,serif\" font-style=\"italic\" font-size=\"11.00\" fill=\"#444443\">Tree</text>\n",
       "<polygon fill=\"#fefecd\" stroke=\"transparent\" points=\"72.5,-194 72.5,-196 137.5,-196 137.5,-194 72.5,-194\"/>\n",
       "<polygon fill=\"#fefecd\" stroke=\"transparent\" points=\"72.5,-180 72.5,-194 103.5,-194 103.5,-180 72.5,-180\"/>\n",
       "<polyline fill=\"none\" stroke=\"#444443\" points=\"103.5,-180 103.5,-194 \"/>\n",
       "<text text-anchor=\"start\" x=\"73.5\" y=\"-184.2\" font-family=\"Helvetica,sans-Serif\" font-size=\"11.00\" fill=\"#444443\">value </text>\n",
       "<polygon fill=\"#fefecd\" stroke=\"transparent\" points=\"103.5,-180 103.5,-194 137.5,-194 137.5,-180 103.5,-180\"/>\n",
       "<text text-anchor=\"start\" x=\"104.5\" y=\"-184.2\" font-family=\"Helvetica,sans-Serif\" font-size=\"11.00\" fill=\"#444443\"> &#39;mary&#39;</text>\n",
       "<polyline fill=\"none\" stroke=\"#444443\" points=\"72.5,-177 137.5,-177 \"/>\n",
       "<polygon fill=\"#fefecd\" stroke=\"transparent\" points=\"72.5,-175 72.5,-177 137.5,-177 137.5,-175 72.5,-175\"/>\n",
       "<polygon fill=\"#fefecd\" stroke=\"transparent\" points=\"72.5,-166 72.5,-175 103.5,-175 103.5,-166 72.5,-166\"/>\n",
       "<polyline fill=\"none\" stroke=\"#444443\" points=\"103.5,-166 103.5,-175 \"/>\n",
       "<text text-anchor=\"start\" x=\"73.5\" y=\"-169.2\" font-family=\"Helvetica,sans-Serif\" font-size=\"6.00\" fill=\"#444443\">left</text>\n",
       "<polygon fill=\"#fefecd\" stroke=\"transparent\" points=\"103.5,-166 103.5,-175 103.5,-175 103.5,-166 103.5,-166\"/>\n",
       "<polygon fill=\"#fefecd\" stroke=\"transparent\" points=\"103.5,-166 103.5,-175 137.5,-175 137.5,-166 103.5,-166\"/>\n",
       "<text text-anchor=\"start\" x=\"124.5\" y=\"-169.2\" font-family=\"Helvetica,sans-Serif\" font-size=\"6.00\" fill=\"#444443\">right</text>\n",
       "<polygon fill=\"#fefecd\" stroke=\"transparent\" points=\"72.5,-163 72.5,-166 103.5,-166 103.5,-163 72.5,-163\"/>\n",
       "<polyline fill=\"none\" stroke=\"#444443\" points=\"103.5,-163 103.5,-166 \"/>\n",
       "<text text-anchor=\"start\" x=\"87.8611\" y=\"-164.1\" font-family=\"Helvetica,sans-Serif\" font-size=\"1.00\" fill=\"#444443\"> </text>\n",
       "<polygon fill=\"#fefecd\" stroke=\"transparent\" points=\"103.5,-163 103.5,-166 103.5,-166 103.5,-163 103.5,-163\"/>\n",
       "<polygon fill=\"#fefecd\" stroke=\"transparent\" points=\"103.5,-163 103.5,-166 137.5,-166 137.5,-163 103.5,-163\"/>\n",
       "<text text-anchor=\"start\" x=\"120.3611\" y=\"-164.2\" font-family=\"Helvetica,sans-Serif\" font-size=\"1.00\" fill=\"#444443\"> </text>\n",
       "<polygon fill=\"#fefecd\" stroke=\"transparent\" points=\"72.5,-158 72.5,-163 103.5,-163 103.5,-158 72.5,-158\"/>\n",
       "<polyline fill=\"none\" stroke=\"#444443\" points=\"103.5,-158 103.5,-163 \"/>\n",
       "<text text-anchor=\"start\" x=\"87.5\" y=\"-159.6\" font-family=\"Helvetica,sans-Serif\" font-size=\"3.00\" fill=\"#444443\"> </text>\n",
       "<polygon fill=\"#fefecd\" stroke=\"transparent\" points=\"103.5,-158 103.5,-163 103.5,-163 103.5,-158 103.5,-158\"/>\n",
       "<polygon fill=\"#fefecd\" stroke=\"transparent\" points=\"103.5,-158 103.5,-163 137.5,-163 137.5,-158 103.5,-158\"/>\n",
       "<text text-anchor=\"start\" x=\"120\" y=\"-159.6\" font-family=\"Helvetica,sans-Serif\" font-size=\"3.00\" fill=\"#444443\"> </text>\n",
       "</g>\n",
       "<!-- node139754584139312&#45;&gt;node139754584139200 -->\n",
       "<g id=\"edge1\" class=\"edge\">\n",
       "<title>node139754584139312:c&#45;&gt;node139754584139200</title>\n",
       "<path fill=\"none\" stroke=\"#444443\" stroke-width=\".5\" d=\"M123.3926,-238.7887C121.8287,-234.2533 118.8076,-225.492 115.6322,-216.2833\"/>\n",
       "<ellipse fill=\"#444443\" stroke=\"#444443\" stroke-width=\".5\" cx=\"123.9784\" cy=\"-240.4874\" rx=\"1.6\" ry=\"1.6\"/>\n",
       "<polygon fill=\"#444443\" stroke=\"#444443\" stroke-width=\".5\" points=\"116.8932,-215.6455 114.2656,-212.3204 114.2461,-216.5583 116.8932,-215.6455\"/>\n",
       "</g>\n",
       "<!-- node139754584139256 -->\n",
       "<g id=\"node6\" class=\"node\">\n",
       "<title>node139754584139256</title>\n",
       "<polygon fill=\"#fefecd\" stroke=\"#444443\" stroke-width=\".5\" points=\"208.5,-212 146.5,-212 146.5,-156 208.5,-156 208.5,-212\"/>\n",
       "<polygon fill=\"#fefecd\" stroke=\"transparent\" points=\"148.5,-196 148.5,-210 206.5,-210 206.5,-196 148.5,-196\"/>\n",
       "<polyline fill=\"none\" stroke=\"#444443\" points=\"148.5,-196 206.5,-196 \"/>\n",
       "<text text-anchor=\"start\" x=\"166.5\" y=\"-200.2\" font-family=\"Times,serif\" font-style=\"italic\" font-size=\"11.00\" fill=\"#444443\">Tree</text>\n",
       "<polygon fill=\"#fefecd\" stroke=\"transparent\" points=\"148.5,-194 148.5,-196 206.5,-196 206.5,-194 148.5,-194\"/>\n",
       "<polygon fill=\"#fefecd\" stroke=\"transparent\" points=\"148.5,-180 148.5,-194 179.5,-194 179.5,-180 148.5,-180\"/>\n",
       "<polyline fill=\"none\" stroke=\"#444443\" points=\"179.5,-180 179.5,-194 \"/>\n",
       "<text text-anchor=\"start\" x=\"149.5\" y=\"-184.2\" font-family=\"Helvetica,sans-Serif\" font-size=\"11.00\" fill=\"#444443\">value </text>\n",
       "<polygon fill=\"#fefecd\" stroke=\"transparent\" points=\"179.5,-180 179.5,-194 206.5,-194 206.5,-180 179.5,-180\"/>\n",
       "<text text-anchor=\"start\" x=\"180.5\" y=\"-184.2\" font-family=\"Helvetica,sans-Serif\" font-size=\"11.00\" fill=\"#444443\"> &#39;xue&#39;</text>\n",
       "<polyline fill=\"none\" stroke=\"#444443\" points=\"148.5,-177 206.5,-177 \"/>\n",
       "<polygon fill=\"#fefecd\" stroke=\"transparent\" points=\"148.5,-175 148.5,-177 206.5,-177 206.5,-175 148.5,-175\"/>\n",
       "<polygon fill=\"#fefecd\" stroke=\"transparent\" points=\"148.5,-166 148.5,-175 179.5,-175 179.5,-166 148.5,-166\"/>\n",
       "<polyline fill=\"none\" stroke=\"#444443\" points=\"179.5,-166 179.5,-175 \"/>\n",
       "<text text-anchor=\"start\" x=\"149.5\" y=\"-169.2\" font-family=\"Helvetica,sans-Serif\" font-size=\"6.00\" fill=\"#444443\">left</text>\n",
       "<polygon fill=\"#fefecd\" stroke=\"transparent\" points=\"179.5,-166 179.5,-175 179.5,-175 179.5,-166 179.5,-166\"/>\n",
       "<polygon fill=\"#fefecd\" stroke=\"transparent\" points=\"179.5,-166 179.5,-175 206.5,-175 206.5,-166 179.5,-166\"/>\n",
       "<text text-anchor=\"start\" x=\"193.5\" y=\"-169.2\" font-family=\"Helvetica,sans-Serif\" font-size=\"6.00\" fill=\"#444443\">right</text>\n",
       "<polygon fill=\"#fefecd\" stroke=\"transparent\" points=\"148.5,-163 148.5,-166 179.5,-166 179.5,-163 148.5,-163\"/>\n",
       "<polyline fill=\"none\" stroke=\"#444443\" points=\"179.5,-163 179.5,-166 \"/>\n",
       "<text text-anchor=\"start\" x=\"163.8611\" y=\"-164.1\" font-family=\"Helvetica,sans-Serif\" font-size=\"1.00\" fill=\"#444443\"> </text>\n",
       "<polygon fill=\"#fefecd\" stroke=\"transparent\" points=\"179.5,-163 179.5,-166 179.5,-166 179.5,-163 179.5,-163\"/>\n",
       "<polygon fill=\"#fefecd\" stroke=\"transparent\" points=\"179.5,-163 179.5,-166 206.5,-166 206.5,-163 179.5,-163\"/>\n",
       "<text text-anchor=\"start\" x=\"192.8611\" y=\"-164.2\" font-family=\"Helvetica,sans-Serif\" font-size=\"1.00\" fill=\"#444443\"> </text>\n",
       "<polygon fill=\"#fefecd\" stroke=\"transparent\" points=\"148.5,-158 148.5,-163 179.5,-163 179.5,-158 148.5,-158\"/>\n",
       "<polyline fill=\"none\" stroke=\"#444443\" points=\"179.5,-158 179.5,-163 \"/>\n",
       "<text text-anchor=\"start\" x=\"163.5\" y=\"-159.6\" font-family=\"Helvetica,sans-Serif\" font-size=\"3.00\" fill=\"#444443\"> </text>\n",
       "<polygon fill=\"#fefecd\" stroke=\"transparent\" points=\"179.5,-158 179.5,-163 179.5,-163 179.5,-158 179.5,-158\"/>\n",
       "<polygon fill=\"#fefecd\" stroke=\"transparent\" points=\"179.5,-158 179.5,-163 206.5,-163 206.5,-158 179.5,-158\"/>\n",
       "<text text-anchor=\"start\" x=\"192.5\" y=\"-159.6\" font-family=\"Helvetica,sans-Serif\" font-size=\"3.00\" fill=\"#444443\"> </text>\n",
       "</g>\n",
       "<!-- node139754584139312&#45;&gt;node139754584139256 -->\n",
       "<g id=\"edge2\" class=\"edge\">\n",
       "<title>node139754584139312:c&#45;&gt;node139754584139256</title>\n",
       "<path fill=\"none\" stroke=\"#444443\" stroke-width=\".5\" d=\"M158.6074,-238.7887C160.1713,-234.2533 163.1924,-225.492 166.3678,-216.2833\"/>\n",
       "<ellipse fill=\"#444443\" stroke=\"#444443\" stroke-width=\".5\" cx=\"158.0216\" cy=\"-240.4874\" rx=\"1.6\" ry=\"1.6\"/>\n",
       "<polygon fill=\"#444443\" stroke=\"#444443\" stroke-width=\".5\" points=\"167.7539,-216.5583 167.7344,-212.3204 165.1068,-215.6455 167.7539,-216.5583\"/>\n",
       "</g>\n",
       "<!-- node139754584138864 -->\n",
       "<g id=\"node3\" class=\"node\">\n",
       "<title>node139754584138864</title>\n",
       "<polygon fill=\"#fefecd\" stroke=\"#444443\" stroke-width=\".5\" points=\"117,-134 58,-134 58,-78 117,-78 117,-134\"/>\n",
       "<polygon fill=\"#fefecd\" stroke=\"transparent\" points=\"60.5,-118 60.5,-132 115.5,-132 115.5,-118 60.5,-118\"/>\n",
       "<polyline fill=\"none\" stroke=\"#444443\" points=\"60.5,-118 115.5,-118 \"/>\n",
       "<text text-anchor=\"start\" x=\"77\" y=\"-122.2\" font-family=\"Times,serif\" font-style=\"italic\" font-size=\"11.00\" fill=\"#444443\">Tree</text>\n",
       "<polygon fill=\"#fefecd\" stroke=\"transparent\" points=\"60.5,-116 60.5,-118 115.5,-118 115.5,-116 60.5,-116\"/>\n",
       "<polygon fill=\"#fefecd\" stroke=\"transparent\" points=\"60.5,-102 60.5,-116 91.5,-116 91.5,-102 60.5,-102\"/>\n",
       "<polyline fill=\"none\" stroke=\"#444443\" points=\"91.5,-102 91.5,-116 \"/>\n",
       "<text text-anchor=\"start\" x=\"61.5\" y=\"-106.2\" font-family=\"Helvetica,sans-Serif\" font-size=\"11.00\" fill=\"#444443\">value </text>\n",
       "<polygon fill=\"#fefecd\" stroke=\"transparent\" points=\"91.5,-102 91.5,-116 115.5,-116 115.5,-102 91.5,-102\"/>\n",
       "<text text-anchor=\"start\" x=\"92.5\" y=\"-106.2\" font-family=\"Helvetica,sans-Serif\" font-size=\"11.00\" fill=\"#444443\"> &#39;jim&#39;</text>\n",
       "<polyline fill=\"none\" stroke=\"#444443\" points=\"60.5,-99 115.5,-99 \"/>\n",
       "<polygon fill=\"#fefecd\" stroke=\"transparent\" points=\"60.5,-97 60.5,-99 115.5,-99 115.5,-97 60.5,-97\"/>\n",
       "<polygon fill=\"#fefecd\" stroke=\"transparent\" points=\"60.5,-88 60.5,-97 91.5,-97 91.5,-88 60.5,-88\"/>\n",
       "<polyline fill=\"none\" stroke=\"#444443\" points=\"91.5,-88 91.5,-97 \"/>\n",
       "<text text-anchor=\"start\" x=\"61.5\" y=\"-91.2\" font-family=\"Helvetica,sans-Serif\" font-size=\"6.00\" fill=\"#444443\">left</text>\n",
       "<polygon fill=\"#fefecd\" stroke=\"transparent\" points=\"91.5,-88 91.5,-97 91.5,-97 91.5,-88 91.5,-88\"/>\n",
       "<polygon fill=\"#fefecd\" stroke=\"transparent\" points=\"91.5,-88 91.5,-97 115.5,-97 115.5,-88 91.5,-88\"/>\n",
       "<text text-anchor=\"start\" x=\"102.5\" y=\"-91.2\" font-family=\"Helvetica,sans-Serif\" font-size=\"6.00\" fill=\"#444443\">right</text>\n",
       "<polygon fill=\"#fefecd\" stroke=\"transparent\" points=\"60.5,-85 60.5,-88 91.5,-88 91.5,-85 60.5,-85\"/>\n",
       "<polyline fill=\"none\" stroke=\"#444443\" points=\"91.5,-85 91.5,-88 \"/>\n",
       "<text text-anchor=\"start\" x=\"75.8611\" y=\"-86.1\" font-family=\"Helvetica,sans-Serif\" font-size=\"1.00\" fill=\"#444443\"> </text>\n",
       "<polygon fill=\"#fefecd\" stroke=\"transparent\" points=\"91.5,-85 91.5,-88 91.5,-88 91.5,-85 91.5,-85\"/>\n",
       "<polygon fill=\"#fefecd\" stroke=\"transparent\" points=\"91.5,-85 91.5,-88 115.5,-88 115.5,-85 91.5,-85\"/>\n",
       "<text text-anchor=\"start\" x=\"103.3611\" y=\"-86.2\" font-family=\"Helvetica,sans-Serif\" font-size=\"1.00\" fill=\"#444443\"> </text>\n",
       "<polygon fill=\"#fefecd\" stroke=\"transparent\" points=\"60.5,-80 60.5,-85 91.5,-85 91.5,-80 60.5,-80\"/>\n",
       "<polyline fill=\"none\" stroke=\"#444443\" points=\"91.5,-80 91.5,-85 \"/>\n",
       "<text text-anchor=\"start\" x=\"75.5\" y=\"-81.6\" font-family=\"Helvetica,sans-Serif\" font-size=\"3.00\" fill=\"#444443\"> </text>\n",
       "<polygon fill=\"#fefecd\" stroke=\"transparent\" points=\"91.5,-80 91.5,-85 91.5,-85 91.5,-80 91.5,-80\"/>\n",
       "<polygon fill=\"#fefecd\" stroke=\"transparent\" points=\"91.5,-80 91.5,-85 115.5,-85 115.5,-80 91.5,-80\"/>\n",
       "<text text-anchor=\"start\" x=\"103\" y=\"-81.6\" font-family=\"Helvetica,sans-Serif\" font-size=\"3.00\" fill=\"#444443\"> </text>\n",
       "</g>\n",
       "<!-- node139754584139200&#45;&gt;node139754584138864 -->\n",
       "<g id=\"edge3\" class=\"edge\">\n",
       "<title>node139754584139200:c&#45;&gt;node139754584138864</title>\n",
       "<path fill=\"none\" stroke=\"#444443\" stroke-width=\".5\" d=\"M87.5,-160.7887C87.5,-156.3343 87.5,-147.8035 87.5,-138.7762\"/>\n",
       "<ellipse fill=\"#444443\" stroke=\"#444443\" stroke-width=\".5\" cx=\"87.5\" cy=\"-162.4\" rx=\"1.6\" ry=\"1.6\"/>\n",
       "<polygon fill=\"#444443\" stroke=\"#444443\" stroke-width=\".5\" points=\"88.9001,-138.3203 87.5,-134.3204 86.1001,-138.3204 88.9001,-138.3203\"/>\n",
       "</g>\n",
       "<!-- node139754584140040 -->\n",
       "<g id=\"node4\" class=\"node\">\n",
       "<title>node139754584140040</title>\n",
       "<polygon fill=\"#fefecd\" stroke=\"#444443\" stroke-width=\".5\" points=\"93,-56 0,-56 0,0 93,0 93,-56\"/>\n",
       "<polygon fill=\"#fefecd\" stroke=\"transparent\" points=\"2.5,-40 2.5,-54 91.5,-54 91.5,-40 2.5,-40\"/>\n",
       "<polyline fill=\"none\" stroke=\"#444443\" points=\"2.5,-40 91.5,-40 \"/>\n",
       "<text text-anchor=\"start\" x=\"36\" y=\"-44.2\" font-family=\"Times,serif\" font-style=\"italic\" font-size=\"11.00\" fill=\"#444443\">Tree</text>\n",
       "<polygon fill=\"#fefecd\" stroke=\"transparent\" points=\"2.5,-38 2.5,-40 91.5,-40 91.5,-38 2.5,-38\"/>\n",
       "<polygon fill=\"#fefecd\" stroke=\"transparent\" points=\"2.5,-24 2.5,-38 33.5,-38 33.5,-24 2.5,-24\"/>\n",
       "<polyline fill=\"none\" stroke=\"#444443\" points=\"33.5,-24 33.5,-38 \"/>\n",
       "<text text-anchor=\"start\" x=\"3.5\" y=\"-28.2\" font-family=\"Helvetica,sans-Serif\" font-size=\"11.00\" fill=\"#444443\">value </text>\n",
       "<polygon fill=\"#fefecd\" stroke=\"transparent\" points=\"33.5,-24 33.5,-38 91.5,-38 91.5,-24 33.5,-24\"/>\n",
       "<text text-anchor=\"start\" x=\"34.5\" y=\"-28.2\" font-family=\"Helvetica,sans-Serif\" font-size=\"11.00\" fill=\"#444443\"> &#39;srinivasan&#39;</text>\n",
       "<polyline fill=\"none\" stroke=\"#444443\" points=\"2.5,-21 91.5,-21 \"/>\n",
       "<polygon fill=\"#fefecd\" stroke=\"transparent\" points=\"2.5,-19 2.5,-21 91.5,-21 91.5,-19 2.5,-19\"/>\n",
       "<polygon fill=\"#fefecd\" stroke=\"transparent\" points=\"2.5,-10 2.5,-19 33.5,-19 33.5,-10 2.5,-10\"/>\n",
       "<polyline fill=\"none\" stroke=\"#444443\" points=\"33.5,-10 33.5,-19 \"/>\n",
       "<text text-anchor=\"start\" x=\"3.5\" y=\"-13.2\" font-family=\"Helvetica,sans-Serif\" font-size=\"6.00\" fill=\"#444443\">left</text>\n",
       "<polygon fill=\"#fefecd\" stroke=\"transparent\" points=\"33.5,-10 33.5,-19 33.5,-19 33.5,-10 33.5,-10\"/>\n",
       "<polygon fill=\"#fefecd\" stroke=\"transparent\" points=\"33.5,-10 33.5,-19 91.5,-19 91.5,-10 33.5,-10\"/>\n",
       "<text text-anchor=\"start\" x=\"78.5\" y=\"-13.2\" font-family=\"Helvetica,sans-Serif\" font-size=\"6.00\" fill=\"#444443\">right</text>\n",
       "<polygon fill=\"#fefecd\" stroke=\"transparent\" points=\"2.5,-7 2.5,-10 33.5,-10 33.5,-7 2.5,-7\"/>\n",
       "<polyline fill=\"none\" stroke=\"#444443\" points=\"33.5,-7 33.5,-10 \"/>\n",
       "<text text-anchor=\"start\" x=\"17.8611\" y=\"-8.1\" font-family=\"Helvetica,sans-Serif\" font-size=\"1.00\" fill=\"#444443\"> </text>\n",
       "<polygon fill=\"#fefecd\" stroke=\"transparent\" points=\"33.5,-7 33.5,-10 33.5,-10 33.5,-7 33.5,-7\"/>\n",
       "<polygon fill=\"#fefecd\" stroke=\"transparent\" points=\"33.5,-7 33.5,-10 91.5,-10 91.5,-7 33.5,-7\"/>\n",
       "<text text-anchor=\"start\" x=\"62.3611\" y=\"-8.2\" font-family=\"Helvetica,sans-Serif\" font-size=\"1.00\" fill=\"#444443\"> </text>\n",
       "<polygon fill=\"#fefecd\" stroke=\"transparent\" points=\"2.5,-2 2.5,-7 33.5,-7 33.5,-2 2.5,-2\"/>\n",
       "<polyline fill=\"none\" stroke=\"#444443\" points=\"33.5,-2 33.5,-7 \"/>\n",
       "<text text-anchor=\"start\" x=\"17.5\" y=\"-3.6\" font-family=\"Helvetica,sans-Serif\" font-size=\"3.00\" fill=\"#444443\"> </text>\n",
       "<polygon fill=\"#fefecd\" stroke=\"transparent\" points=\"33.5,-2 33.5,-7 33.5,-7 33.5,-2 33.5,-2\"/>\n",
       "<polygon fill=\"#fefecd\" stroke=\"transparent\" points=\"33.5,-2 33.5,-7 91.5,-7 91.5,-2 33.5,-2\"/>\n",
       "<text text-anchor=\"start\" x=\"62\" y=\"-3.6\" font-family=\"Helvetica,sans-Serif\" font-size=\"3.00\" fill=\"#444443\"> </text>\n",
       "</g>\n",
       "<!-- node139754584138864&#45;&gt;node139754584140040 -->\n",
       "<g id=\"edge4\" class=\"edge\">\n",
       "<title>node139754584138864:c&#45;&gt;node139754584140040</title>\n",
       "<path fill=\"none\" stroke=\"#444443\" stroke-width=\".5\" d=\"M74.0594,-83.1188C71.8312,-78.6623 67.3077,-69.6153 62.5585,-60.117\"/>\n",
       "<ellipse fill=\"#444443\" stroke=\"#444443\" stroke-width=\".5\" cx=\"74.7844\" cy=\"-84.5689\" rx=\"1.6\" ry=\"1.6\"/>\n",
       "<polygon fill=\"#444443\" stroke=\"#444443\" stroke-width=\".5\" points=\"63.7013,-59.272 60.6602,-56.3204 61.1969,-60.5242 63.7013,-59.272\"/>\n",
       "</g>\n",
       "<!-- node139754584139928 -->\n",
       "<g id=\"node5\" class=\"node\">\n",
       "<title>node139754584139928</title>\n",
       "<polygon fill=\"#fefecd\" stroke=\"#444443\" stroke-width=\".5\" points=\"165,-56 100,-56 100,0 165,0 165,-56\"/>\n",
       "<polygon fill=\"#fefecd\" stroke=\"transparent\" points=\"102.5,-40 102.5,-54 163.5,-54 163.5,-40 102.5,-40\"/>\n",
       "<polyline fill=\"none\" stroke=\"#444443\" points=\"102.5,-40 163.5,-40 \"/>\n",
       "<text text-anchor=\"start\" x=\"122\" y=\"-44.2\" font-family=\"Times,serif\" font-style=\"italic\" font-size=\"11.00\" fill=\"#444443\">Tree</text>\n",
       "<polygon fill=\"#fefecd\" stroke=\"transparent\" points=\"102.5,-38 102.5,-40 163.5,-40 163.5,-38 102.5,-38\"/>\n",
       "<polygon fill=\"#fefecd\" stroke=\"transparent\" points=\"102.5,-24 102.5,-38 133.5,-38 133.5,-24 102.5,-24\"/>\n",
       "<polyline fill=\"none\" stroke=\"#444443\" points=\"133.5,-24 133.5,-38 \"/>\n",
       "<text text-anchor=\"start\" x=\"103.5\" y=\"-28.2\" font-family=\"Helvetica,sans-Serif\" font-size=\"11.00\" fill=\"#444443\">value </text>\n",
       "<polygon fill=\"#fefecd\" stroke=\"transparent\" points=\"133.5,-24 133.5,-38 163.5,-38 163.5,-24 133.5,-24\"/>\n",
       "<text text-anchor=\"start\" x=\"134.5\" y=\"-28.2\" font-family=\"Helvetica,sans-Serif\" font-size=\"11.00\" fill=\"#444443\"> &#39;april&#39;</text>\n",
       "<polyline fill=\"none\" stroke=\"#444443\" points=\"102.5,-21 163.5,-21 \"/>\n",
       "<polygon fill=\"#fefecd\" stroke=\"transparent\" points=\"102.5,-19 102.5,-21 163.5,-21 163.5,-19 102.5,-19\"/>\n",
       "<polygon fill=\"#fefecd\" stroke=\"transparent\" points=\"102.5,-10 102.5,-19 133.5,-19 133.5,-10 102.5,-10\"/>\n",
       "<polyline fill=\"none\" stroke=\"#444443\" points=\"133.5,-10 133.5,-19 \"/>\n",
       "<text text-anchor=\"start\" x=\"103.5\" y=\"-13.2\" font-family=\"Helvetica,sans-Serif\" font-size=\"6.00\" fill=\"#444443\">left</text>\n",
       "<polygon fill=\"#fefecd\" stroke=\"transparent\" points=\"133.5,-10 133.5,-19 133.5,-19 133.5,-10 133.5,-10\"/>\n",
       "<polygon fill=\"#fefecd\" stroke=\"transparent\" points=\"133.5,-10 133.5,-19 163.5,-19 163.5,-10 133.5,-10\"/>\n",
       "<text text-anchor=\"start\" x=\"150.5\" y=\"-13.2\" font-family=\"Helvetica,sans-Serif\" font-size=\"6.00\" fill=\"#444443\">right</text>\n",
       "<polygon fill=\"#fefecd\" stroke=\"transparent\" points=\"102.5,-7 102.5,-10 133.5,-10 133.5,-7 102.5,-7\"/>\n",
       "<polyline fill=\"none\" stroke=\"#444443\" points=\"133.5,-7 133.5,-10 \"/>\n",
       "<text text-anchor=\"start\" x=\"117.8611\" y=\"-8.1\" font-family=\"Helvetica,sans-Serif\" font-size=\"1.00\" fill=\"#444443\"> </text>\n",
       "<polygon fill=\"#fefecd\" stroke=\"transparent\" points=\"133.5,-7 133.5,-10 133.5,-10 133.5,-7 133.5,-7\"/>\n",
       "<polygon fill=\"#fefecd\" stroke=\"transparent\" points=\"133.5,-7 133.5,-10 163.5,-10 163.5,-7 133.5,-7\"/>\n",
       "<text text-anchor=\"start\" x=\"148.3611\" y=\"-8.2\" font-family=\"Helvetica,sans-Serif\" font-size=\"1.00\" fill=\"#444443\"> </text>\n",
       "<polygon fill=\"#fefecd\" stroke=\"transparent\" points=\"102.5,-2 102.5,-7 133.5,-7 133.5,-2 102.5,-2\"/>\n",
       "<polyline fill=\"none\" stroke=\"#444443\" points=\"133.5,-2 133.5,-7 \"/>\n",
       "<text text-anchor=\"start\" x=\"117.5\" y=\"-3.6\" font-family=\"Helvetica,sans-Serif\" font-size=\"3.00\" fill=\"#444443\"> </text>\n",
       "<polygon fill=\"#fefecd\" stroke=\"transparent\" points=\"133.5,-2 133.5,-7 133.5,-7 133.5,-2 133.5,-2\"/>\n",
       "<polygon fill=\"#fefecd\" stroke=\"transparent\" points=\"133.5,-2 133.5,-7 163.5,-7 163.5,-2 133.5,-2\"/>\n",
       "<text text-anchor=\"start\" x=\"148\" y=\"-3.6\" font-family=\"Helvetica,sans-Serif\" font-size=\"3.00\" fill=\"#444443\"> </text>\n",
       "</g>\n",
       "<!-- node139754584138864&#45;&gt;node139754584139928 -->\n",
       "<g id=\"edge5\" class=\"edge\">\n",
       "<title>node139754584138864:c&#45;&gt;node139754584139928</title>\n",
       "<path fill=\"none\" stroke=\"#444443\" stroke-width=\".5\" d=\"M104.9406,-83.1188C107.1688,-78.6623 111.6923,-69.6153 116.4415,-60.117\"/>\n",
       "<ellipse fill=\"#444443\" stroke=\"#444443\" stroke-width=\".5\" cx=\"104.2156\" cy=\"-84.5689\" rx=\"1.6\" ry=\"1.6\"/>\n",
       "<polygon fill=\"#444443\" stroke=\"#444443\" stroke-width=\".5\" points=\"117.8031,-60.5242 118.3398,-56.3204 115.2987,-59.272 117.8031,-60.5242\"/>\n",
       "</g>\n",
       "<!-- node139754584139088 -->\n",
       "<g id=\"node7\" class=\"node\">\n",
       "<title>node139754584139088</title>\n",
       "<polygon fill=\"#fefecd\" stroke=\"#444443\" stroke-width=\".5\" points=\"227.5,-134 159.5,-134 159.5,-78 227.5,-78 227.5,-134\"/>\n",
       "<polygon fill=\"#fefecd\" stroke=\"transparent\" points=\"161.5,-118 161.5,-132 225.5,-132 225.5,-118 161.5,-118\"/>\n",
       "<polyline fill=\"none\" stroke=\"#444443\" points=\"161.5,-118 225.5,-118 \"/>\n",
       "<text text-anchor=\"start\" x=\"182.5\" y=\"-122.2\" font-family=\"Times,serif\" font-style=\"italic\" font-size=\"11.00\" fill=\"#444443\">Tree</text>\n",
       "<polygon fill=\"#fefecd\" stroke=\"transparent\" points=\"161.5,-116 161.5,-118 225.5,-118 225.5,-116 161.5,-116\"/>\n",
       "<polygon fill=\"#fefecd\" stroke=\"transparent\" points=\"161.5,-102 161.5,-116 192.5,-116 192.5,-102 161.5,-102\"/>\n",
       "<polyline fill=\"none\" stroke=\"#444443\" points=\"192.5,-102 192.5,-116 \"/>\n",
       "<text text-anchor=\"start\" x=\"162.5\" y=\"-106.2\" font-family=\"Helvetica,sans-Serif\" font-size=\"11.00\" fill=\"#444443\">value </text>\n",
       "<polygon fill=\"#fefecd\" stroke=\"transparent\" points=\"192.5,-102 192.5,-116 225.5,-116 225.5,-102 192.5,-102\"/>\n",
       "<text text-anchor=\"start\" x=\"193.5\" y=\"-106.2\" font-family=\"Helvetica,sans-Serif\" font-size=\"11.00\" fill=\"#444443\"> &#39;mike&#39;</text>\n",
       "<polyline fill=\"none\" stroke=\"#444443\" points=\"161.5,-99 225.5,-99 \"/>\n",
       "<polygon fill=\"#fefecd\" stroke=\"transparent\" points=\"161.5,-97 161.5,-99 225.5,-99 225.5,-97 161.5,-97\"/>\n",
       "<polygon fill=\"#fefecd\" stroke=\"transparent\" points=\"161.5,-88 161.5,-97 192.5,-97 192.5,-88 161.5,-88\"/>\n",
       "<polyline fill=\"none\" stroke=\"#444443\" points=\"192.5,-88 192.5,-97 \"/>\n",
       "<text text-anchor=\"start\" x=\"162.5\" y=\"-91.2\" font-family=\"Helvetica,sans-Serif\" font-size=\"6.00\" fill=\"#444443\">left</text>\n",
       "<polygon fill=\"#fefecd\" stroke=\"transparent\" points=\"192.5,-88 192.5,-97 192.5,-97 192.5,-88 192.5,-88\"/>\n",
       "<polygon fill=\"#fefecd\" stroke=\"transparent\" points=\"192.5,-88 192.5,-97 225.5,-97 225.5,-88 192.5,-88\"/>\n",
       "<text text-anchor=\"start\" x=\"212.5\" y=\"-91.2\" font-family=\"Helvetica,sans-Serif\" font-size=\"6.00\" fill=\"#444443\">right</text>\n",
       "<polygon fill=\"#fefecd\" stroke=\"transparent\" points=\"161.5,-85 161.5,-88 192.5,-88 192.5,-85 161.5,-85\"/>\n",
       "<polyline fill=\"none\" stroke=\"#444443\" points=\"192.5,-85 192.5,-88 \"/>\n",
       "<text text-anchor=\"start\" x=\"176.8611\" y=\"-86.1\" font-family=\"Helvetica,sans-Serif\" font-size=\"1.00\" fill=\"#444443\"> </text>\n",
       "<polygon fill=\"#fefecd\" stroke=\"transparent\" points=\"192.5,-85 192.5,-88 192.5,-88 192.5,-85 192.5,-85\"/>\n",
       "<polygon fill=\"#fefecd\" stroke=\"transparent\" points=\"192.5,-85 192.5,-88 225.5,-88 225.5,-85 192.5,-85\"/>\n",
       "<text text-anchor=\"start\" x=\"208.8611\" y=\"-86.2\" font-family=\"Helvetica,sans-Serif\" font-size=\"1.00\" fill=\"#444443\"> </text>\n",
       "<polygon fill=\"#fefecd\" stroke=\"transparent\" points=\"161.5,-80 161.5,-85 192.5,-85 192.5,-80 161.5,-80\"/>\n",
       "<polyline fill=\"none\" stroke=\"#444443\" points=\"192.5,-80 192.5,-85 \"/>\n",
       "<text text-anchor=\"start\" x=\"176.5\" y=\"-81.6\" font-family=\"Helvetica,sans-Serif\" font-size=\"3.00\" fill=\"#444443\"> </text>\n",
       "<polygon fill=\"#fefecd\" stroke=\"transparent\" points=\"192.5,-80 192.5,-85 192.5,-85 192.5,-80 192.5,-80\"/>\n",
       "<polygon fill=\"#fefecd\" stroke=\"transparent\" points=\"192.5,-80 192.5,-85 225.5,-85 225.5,-80 192.5,-80\"/>\n",
       "<text text-anchor=\"start\" x=\"208.5\" y=\"-81.6\" font-family=\"Helvetica,sans-Serif\" font-size=\"3.00\" fill=\"#444443\"> </text>\n",
       "</g>\n",
       "<!-- node139754584139256&#45;&gt;node139754584139088 -->\n",
       "<g id=\"edge6\" class=\"edge\">\n",
       "<title>node139754584139256:c&#45;&gt;node139754584139088</title>\n",
       "<path fill=\"none\" stroke=\"#444443\" stroke-width=\".5\" d=\"M193.5,-160.7887C193.5,-156.3343 193.5,-147.8035 193.5,-138.7762\"/>\n",
       "<ellipse fill=\"#444443\" stroke=\"#444443\" stroke-width=\".5\" cx=\"193.5\" cy=\"-162.4\" rx=\"1.6\" ry=\"1.6\"/>\n",
       "<polygon fill=\"#444443\" stroke=\"#444443\" stroke-width=\".5\" points=\"194.9001,-138.3203 193.5,-134.3204 192.1001,-138.3204 194.9001,-138.3203\"/>\n",
       "</g>\n",
       "</g>\n",
       "</svg>\n"
      ],
      "text/plain": [
       "<graphviz.files.Source at 0x7f1b39db9e80>"
      ]
     },
     "execution_count": 126,
     "metadata": {},
     "output_type": "execute_result"
    }
   ],
   "source": [
    "lolviz.treeviz(root)"
   ]
  },
  {
   "cell_type": "code",
   "execution_count": 127,
   "metadata": {
    "ExecuteTime": {
     "end_time": "2021-02-22T21:22:55.432029Z",
     "start_time": "2021-02-22T21:22:55.362276Z"
    }
   },
   "outputs": [
    {
     "data": {
      "image/svg+xml": [
       "<?xml version=\"1.0\" encoding=\"UTF-8\" standalone=\"no\"?>\n",
       "<!DOCTYPE svg PUBLIC \"-//W3C//DTD SVG 1.1//EN\"\n",
       " \"http://www.w3.org/Graphics/SVG/1.1/DTD/svg11.dtd\">\n",
       "<!-- Generated by graphviz version 2.40.1 (20161225.0304)\n",
       " -->\n",
       "<!-- Title: G Pages: 1 -->\n",
       "<svg width=\"236pt\" height=\"298pt\"\n",
       " viewBox=\"0.00 0.00 235.50 298.00\" xmlns=\"http://www.w3.org/2000/svg\" xmlns:xlink=\"http://www.w3.org/1999/xlink\">\n",
       "<g id=\"graph0\" class=\"graph\" transform=\"scale(1 1) rotate(0) translate(4 294)\">\n",
       "<title>G</title>\n",
       "<polygon fill=\"#ffffff\" stroke=\"transparent\" points=\"-4,4 -4,-294 231.5,-294 231.5,4 -4,4\"/>\n",
       "<!-- node139754584139312 -->\n",
       "<g id=\"node1\" class=\"node\">\n",
       "<title>node139754584139312</title>\n",
       "<polygon fill=\"#fefecd\" stroke=\"#444443\" stroke-width=\".5\" points=\"175.5,-290 107.5,-290 107.5,-234 175.5,-234 175.5,-290\"/>\n",
       "<polygon fill=\"#fefecd\" stroke=\"transparent\" points=\"109.5,-274 109.5,-288 173.5,-288 173.5,-274 109.5,-274\"/>\n",
       "<polyline fill=\"none\" stroke=\"#444443\" points=\"109.5,-274 173.5,-274 \"/>\n",
       "<text text-anchor=\"start\" x=\"130.5\" y=\"-278.2\" font-family=\"Times,serif\" font-style=\"italic\" font-size=\"11.00\" fill=\"#444443\">Tree</text>\n",
       "<polygon fill=\"#fefecd\" stroke=\"transparent\" points=\"109.5,-272 109.5,-274 173.5,-274 173.5,-272 109.5,-272\"/>\n",
       "<polygon fill=\"#fefecd\" stroke=\"transparent\" points=\"109.5,-258 109.5,-272 140.5,-272 140.5,-258 109.5,-258\"/>\n",
       "<polyline fill=\"none\" stroke=\"#444443\" points=\"140.5,-258 140.5,-272 \"/>\n",
       "<text text-anchor=\"start\" x=\"110.5\" y=\"-262.2\" font-family=\"Helvetica,sans-Serif\" font-size=\"11.00\" fill=\"#444443\">value </text>\n",
       "<polygon fill=\"#fefecd\" stroke=\"transparent\" points=\"140.5,-258 140.5,-272 173.5,-272 173.5,-258 140.5,-258\"/>\n",
       "<text text-anchor=\"start\" x=\"141.5\" y=\"-262.2\" font-family=\"Helvetica,sans-Serif\" font-size=\"11.00\" fill=\"#444443\"> &#39;parrt&#39;</text>\n",
       "<polyline fill=\"none\" stroke=\"#444443\" points=\"109.5,-255 173.5,-255 \"/>\n",
       "<polygon fill=\"#fefecd\" stroke=\"transparent\" points=\"109.5,-253 109.5,-255 173.5,-255 173.5,-253 109.5,-253\"/>\n",
       "<polygon fill=\"#fefecd\" stroke=\"transparent\" points=\"109.5,-244 109.5,-253 140.5,-253 140.5,-244 109.5,-244\"/>\n",
       "<polyline fill=\"none\" stroke=\"#444443\" points=\"140.5,-244 140.5,-253 \"/>\n",
       "<text text-anchor=\"start\" x=\"110.5\" y=\"-247.2\" font-family=\"Helvetica,sans-Serif\" font-size=\"6.00\" fill=\"#444443\">left</text>\n",
       "<polygon fill=\"#fefecd\" stroke=\"transparent\" points=\"140.5,-244 140.5,-253 140.5,-253 140.5,-244 140.5,-244\"/>\n",
       "<polygon fill=\"#fefecd\" stroke=\"transparent\" points=\"140.5,-244 140.5,-253 173.5,-253 173.5,-244 140.5,-244\"/>\n",
       "<text text-anchor=\"start\" x=\"160.5\" y=\"-247.2\" font-family=\"Helvetica,sans-Serif\" font-size=\"6.00\" fill=\"#444443\">right</text>\n",
       "<polygon fill=\"#fefecd\" stroke=\"transparent\" points=\"109.5,-241 109.5,-244 140.5,-244 140.5,-241 109.5,-241\"/>\n",
       "<polyline fill=\"none\" stroke=\"#444443\" points=\"140.5,-241 140.5,-244 \"/>\n",
       "<text text-anchor=\"start\" x=\"124.8611\" y=\"-242.1\" font-family=\"Helvetica,sans-Serif\" font-size=\"1.00\" fill=\"#444443\"> </text>\n",
       "<polygon fill=\"#fefecd\" stroke=\"transparent\" points=\"140.5,-241 140.5,-244 140.5,-244 140.5,-241 140.5,-241\"/>\n",
       "<polygon fill=\"#fefecd\" stroke=\"transparent\" points=\"140.5,-241 140.5,-244 173.5,-244 173.5,-241 140.5,-241\"/>\n",
       "<text text-anchor=\"start\" x=\"156.8611\" y=\"-242.2\" font-family=\"Helvetica,sans-Serif\" font-size=\"1.00\" fill=\"#444443\"> </text>\n",
       "<polygon fill=\"#fefecd\" stroke=\"transparent\" points=\"109.5,-236 109.5,-241 140.5,-241 140.5,-236 109.5,-236\"/>\n",
       "<polyline fill=\"none\" stroke=\"#444443\" points=\"140.5,-236 140.5,-241 \"/>\n",
       "<text text-anchor=\"start\" x=\"124.5\" y=\"-237.6\" font-family=\"Helvetica,sans-Serif\" font-size=\"3.00\" fill=\"#444443\"> </text>\n",
       "<polygon fill=\"#fefecd\" stroke=\"transparent\" points=\"140.5,-236 140.5,-241 140.5,-241 140.5,-236 140.5,-236\"/>\n",
       "<polygon fill=\"#fefecd\" stroke=\"transparent\" points=\"140.5,-236 140.5,-241 173.5,-241 173.5,-236 140.5,-236\"/>\n",
       "<text text-anchor=\"start\" x=\"156.5\" y=\"-237.6\" font-family=\"Helvetica,sans-Serif\" font-size=\"3.00\" fill=\"#444443\"> </text>\n",
       "</g>\n",
       "<!-- node139754584139200 -->\n",
       "<g id=\"node2\" class=\"node\">\n",
       "<title>node139754584139200</title>\n",
       "<polygon fill=\"#fefecd\" stroke=\"#444443\" stroke-width=\".5\" points=\"139,-212 70,-212 70,-156 139,-156 139,-212\"/>\n",
       "<polygon fill=\"#fefecd\" stroke=\"transparent\" points=\"72.5,-196 72.5,-210 137.5,-210 137.5,-196 72.5,-196\"/>\n",
       "<polyline fill=\"none\" stroke=\"#444443\" points=\"72.5,-196 137.5,-196 \"/>\n",
       "<text text-anchor=\"start\" x=\"94\" y=\"-200.2\" font-family=\"Times,serif\" font-style=\"italic\" font-size=\"11.00\" fill=\"#444443\">Tree</text>\n",
       "<polygon fill=\"#fefecd\" stroke=\"transparent\" points=\"72.5,-194 72.5,-196 137.5,-196 137.5,-194 72.5,-194\"/>\n",
       "<polygon fill=\"#fefecd\" stroke=\"transparent\" points=\"72.5,-180 72.5,-194 103.5,-194 103.5,-180 72.5,-180\"/>\n",
       "<polyline fill=\"none\" stroke=\"#444443\" points=\"103.5,-180 103.5,-194 \"/>\n",
       "<text text-anchor=\"start\" x=\"73.5\" y=\"-184.2\" font-family=\"Helvetica,sans-Serif\" font-size=\"11.00\" fill=\"#444443\">value </text>\n",
       "<polygon fill=\"#fefecd\" stroke=\"transparent\" points=\"103.5,-180 103.5,-194 137.5,-194 137.5,-180 103.5,-180\"/>\n",
       "<text text-anchor=\"start\" x=\"104.5\" y=\"-184.2\" font-family=\"Helvetica,sans-Serif\" font-size=\"11.00\" fill=\"#444443\"> &#39;mary&#39;</text>\n",
       "<polyline fill=\"none\" stroke=\"#444443\" points=\"72.5,-177 137.5,-177 \"/>\n",
       "<polygon fill=\"#fefecd\" stroke=\"transparent\" points=\"72.5,-175 72.5,-177 137.5,-177 137.5,-175 72.5,-175\"/>\n",
       "<polygon fill=\"#fefecd\" stroke=\"transparent\" points=\"72.5,-166 72.5,-175 103.5,-175 103.5,-166 72.5,-166\"/>\n",
       "<polyline fill=\"none\" stroke=\"#444443\" points=\"103.5,-166 103.5,-175 \"/>\n",
       "<text text-anchor=\"start\" x=\"73.5\" y=\"-169.2\" font-family=\"Helvetica,sans-Serif\" font-size=\"6.00\" fill=\"#444443\">left</text>\n",
       "<polygon fill=\"#fefecd\" stroke=\"transparent\" points=\"103.5,-166 103.5,-175 103.5,-175 103.5,-166 103.5,-166\"/>\n",
       "<polygon fill=\"#fefecd\" stroke=\"transparent\" points=\"103.5,-166 103.5,-175 137.5,-175 137.5,-166 103.5,-166\"/>\n",
       "<text text-anchor=\"start\" x=\"124.5\" y=\"-169.2\" font-family=\"Helvetica,sans-Serif\" font-size=\"6.00\" fill=\"#444443\">right</text>\n",
       "<polygon fill=\"#fefecd\" stroke=\"transparent\" points=\"72.5,-163 72.5,-166 103.5,-166 103.5,-163 72.5,-163\"/>\n",
       "<polyline fill=\"none\" stroke=\"#444443\" points=\"103.5,-163 103.5,-166 \"/>\n",
       "<text text-anchor=\"start\" x=\"87.8611\" y=\"-164.1\" font-family=\"Helvetica,sans-Serif\" font-size=\"1.00\" fill=\"#444443\"> </text>\n",
       "<polygon fill=\"#fefecd\" stroke=\"transparent\" points=\"103.5,-163 103.5,-166 103.5,-166 103.5,-163 103.5,-163\"/>\n",
       "<polygon fill=\"#fefecd\" stroke=\"transparent\" points=\"103.5,-163 103.5,-166 137.5,-166 137.5,-163 103.5,-163\"/>\n",
       "<text text-anchor=\"start\" x=\"120.3611\" y=\"-164.2\" font-family=\"Helvetica,sans-Serif\" font-size=\"1.00\" fill=\"#444443\"> </text>\n",
       "<polygon fill=\"#fefecd\" stroke=\"transparent\" points=\"72.5,-158 72.5,-163 103.5,-163 103.5,-158 72.5,-158\"/>\n",
       "<polyline fill=\"none\" stroke=\"#444443\" points=\"103.5,-158 103.5,-163 \"/>\n",
       "<text text-anchor=\"start\" x=\"87.5\" y=\"-159.6\" font-family=\"Helvetica,sans-Serif\" font-size=\"3.00\" fill=\"#444443\"> </text>\n",
       "<polygon fill=\"#fefecd\" stroke=\"transparent\" points=\"103.5,-158 103.5,-163 103.5,-163 103.5,-158 103.5,-158\"/>\n",
       "<polygon fill=\"#fefecd\" stroke=\"transparent\" points=\"103.5,-158 103.5,-163 137.5,-163 137.5,-158 103.5,-158\"/>\n",
       "<text text-anchor=\"start\" x=\"120\" y=\"-159.6\" font-family=\"Helvetica,sans-Serif\" font-size=\"3.00\" fill=\"#444443\"> </text>\n",
       "</g>\n",
       "<!-- node139754584139312&#45;&gt;node139754584139200 -->\n",
       "<g id=\"edge1\" class=\"edge\">\n",
       "<title>node139754584139312:c&#45;&gt;node139754584139200</title>\n",
       "<path fill=\"none\" stroke=\"#444443\" stroke-width=\".5\" d=\"M123.3926,-238.7887C121.8287,-234.2533 118.8076,-225.492 115.6322,-216.2833\"/>\n",
       "<ellipse fill=\"#444443\" stroke=\"#444443\" stroke-width=\".5\" cx=\"123.9784\" cy=\"-240.4874\" rx=\"1.6\" ry=\"1.6\"/>\n",
       "<polygon fill=\"#444443\" stroke=\"#444443\" stroke-width=\".5\" points=\"116.8932,-215.6455 114.2656,-212.3204 114.2461,-216.5583 116.8932,-215.6455\"/>\n",
       "</g>\n",
       "<!-- node139754584139256 -->\n",
       "<g id=\"node6\" class=\"node\">\n",
       "<title>node139754584139256</title>\n",
       "<polygon fill=\"#fefecd\" stroke=\"#444443\" stroke-width=\".5\" points=\"208.5,-212 146.5,-212 146.5,-156 208.5,-156 208.5,-212\"/>\n",
       "<polygon fill=\"#fefecd\" stroke=\"transparent\" points=\"148.5,-196 148.5,-210 206.5,-210 206.5,-196 148.5,-196\"/>\n",
       "<polyline fill=\"none\" stroke=\"#444443\" points=\"148.5,-196 206.5,-196 \"/>\n",
       "<text text-anchor=\"start\" x=\"166.5\" y=\"-200.2\" font-family=\"Times,serif\" font-style=\"italic\" font-size=\"11.00\" fill=\"#444443\">Tree</text>\n",
       "<polygon fill=\"#fefecd\" stroke=\"transparent\" points=\"148.5,-194 148.5,-196 206.5,-196 206.5,-194 148.5,-194\"/>\n",
       "<polygon fill=\"#fefecd\" stroke=\"transparent\" points=\"148.5,-180 148.5,-194 179.5,-194 179.5,-180 148.5,-180\"/>\n",
       "<polyline fill=\"none\" stroke=\"#444443\" points=\"179.5,-180 179.5,-194 \"/>\n",
       "<text text-anchor=\"start\" x=\"149.5\" y=\"-184.2\" font-family=\"Helvetica,sans-Serif\" font-size=\"11.00\" fill=\"#444443\">value </text>\n",
       "<polygon fill=\"#fefecd\" stroke=\"transparent\" points=\"179.5,-180 179.5,-194 206.5,-194 206.5,-180 179.5,-180\"/>\n",
       "<text text-anchor=\"start\" x=\"180.5\" y=\"-184.2\" font-family=\"Helvetica,sans-Serif\" font-size=\"11.00\" fill=\"#444443\"> &#39;xue&#39;</text>\n",
       "<polyline fill=\"none\" stroke=\"#444443\" points=\"148.5,-177 206.5,-177 \"/>\n",
       "<polygon fill=\"#fefecd\" stroke=\"transparent\" points=\"148.5,-175 148.5,-177 206.5,-177 206.5,-175 148.5,-175\"/>\n",
       "<polygon fill=\"#fefecd\" stroke=\"transparent\" points=\"148.5,-166 148.5,-175 179.5,-175 179.5,-166 148.5,-166\"/>\n",
       "<polyline fill=\"none\" stroke=\"#444443\" points=\"179.5,-166 179.5,-175 \"/>\n",
       "<text text-anchor=\"start\" x=\"149.5\" y=\"-169.2\" font-family=\"Helvetica,sans-Serif\" font-size=\"6.00\" fill=\"#444443\">left</text>\n",
       "<polygon fill=\"#fefecd\" stroke=\"transparent\" points=\"179.5,-166 179.5,-175 179.5,-175 179.5,-166 179.5,-166\"/>\n",
       "<polygon fill=\"#fefecd\" stroke=\"transparent\" points=\"179.5,-166 179.5,-175 206.5,-175 206.5,-166 179.5,-166\"/>\n",
       "<text text-anchor=\"start\" x=\"193.5\" y=\"-169.2\" font-family=\"Helvetica,sans-Serif\" font-size=\"6.00\" fill=\"#444443\">right</text>\n",
       "<polygon fill=\"#fefecd\" stroke=\"transparent\" points=\"148.5,-163 148.5,-166 179.5,-166 179.5,-163 148.5,-163\"/>\n",
       "<polyline fill=\"none\" stroke=\"#444443\" points=\"179.5,-163 179.5,-166 \"/>\n",
       "<text text-anchor=\"start\" x=\"163.8611\" y=\"-164.1\" font-family=\"Helvetica,sans-Serif\" font-size=\"1.00\" fill=\"#444443\"> </text>\n",
       "<polygon fill=\"#fefecd\" stroke=\"transparent\" points=\"179.5,-163 179.5,-166 179.5,-166 179.5,-163 179.5,-163\"/>\n",
       "<polygon fill=\"#fefecd\" stroke=\"transparent\" points=\"179.5,-163 179.5,-166 206.5,-166 206.5,-163 179.5,-163\"/>\n",
       "<text text-anchor=\"start\" x=\"192.8611\" y=\"-164.2\" font-family=\"Helvetica,sans-Serif\" font-size=\"1.00\" fill=\"#444443\"> </text>\n",
       "<polygon fill=\"#fefecd\" stroke=\"transparent\" points=\"148.5,-158 148.5,-163 179.5,-163 179.5,-158 148.5,-158\"/>\n",
       "<polyline fill=\"none\" stroke=\"#444443\" points=\"179.5,-158 179.5,-163 \"/>\n",
       "<text text-anchor=\"start\" x=\"163.5\" y=\"-159.6\" font-family=\"Helvetica,sans-Serif\" font-size=\"3.00\" fill=\"#444443\"> </text>\n",
       "<polygon fill=\"#fefecd\" stroke=\"transparent\" points=\"179.5,-158 179.5,-163 179.5,-163 179.5,-158 179.5,-158\"/>\n",
       "<polygon fill=\"#fefecd\" stroke=\"transparent\" points=\"179.5,-158 179.5,-163 206.5,-163 206.5,-158 179.5,-158\"/>\n",
       "<text text-anchor=\"start\" x=\"192.5\" y=\"-159.6\" font-family=\"Helvetica,sans-Serif\" font-size=\"3.00\" fill=\"#444443\"> </text>\n",
       "</g>\n",
       "<!-- node139754584139312&#45;&gt;node139754584139256 -->\n",
       "<g id=\"edge2\" class=\"edge\">\n",
       "<title>node139754584139312:c&#45;&gt;node139754584139256</title>\n",
       "<path fill=\"none\" stroke=\"#444443\" stroke-width=\".5\" d=\"M158.6074,-238.7887C160.1713,-234.2533 163.1924,-225.492 166.3678,-216.2833\"/>\n",
       "<ellipse fill=\"#444443\" stroke=\"#444443\" stroke-width=\".5\" cx=\"158.0216\" cy=\"-240.4874\" rx=\"1.6\" ry=\"1.6\"/>\n",
       "<polygon fill=\"#444443\" stroke=\"#444443\" stroke-width=\".5\" points=\"167.7539,-216.5583 167.7344,-212.3204 165.1068,-215.6455 167.7539,-216.5583\"/>\n",
       "</g>\n",
       "<!-- node139754584138864 -->\n",
       "<g id=\"node3\" class=\"node\">\n",
       "<title>node139754584138864</title>\n",
       "<polygon fill=\"#fefecd\" stroke=\"#444443\" stroke-width=\".5\" points=\"117,-134 58,-134 58,-78 117,-78 117,-134\"/>\n",
       "<polygon fill=\"#fefecd\" stroke=\"transparent\" points=\"60.5,-118 60.5,-132 115.5,-132 115.5,-118 60.5,-118\"/>\n",
       "<polyline fill=\"none\" stroke=\"#444443\" points=\"60.5,-118 115.5,-118 \"/>\n",
       "<text text-anchor=\"start\" x=\"77\" y=\"-122.2\" font-family=\"Times,serif\" font-style=\"italic\" font-size=\"11.00\" fill=\"#444443\">Tree</text>\n",
       "<polygon fill=\"#fefecd\" stroke=\"transparent\" points=\"60.5,-116 60.5,-118 115.5,-118 115.5,-116 60.5,-116\"/>\n",
       "<polygon fill=\"#fefecd\" stroke=\"transparent\" points=\"60.5,-102 60.5,-116 91.5,-116 91.5,-102 60.5,-102\"/>\n",
       "<polyline fill=\"none\" stroke=\"#444443\" points=\"91.5,-102 91.5,-116 \"/>\n",
       "<text text-anchor=\"start\" x=\"61.5\" y=\"-106.2\" font-family=\"Helvetica,sans-Serif\" font-size=\"11.00\" fill=\"#444443\">value </text>\n",
       "<polygon fill=\"#fefecd\" stroke=\"transparent\" points=\"91.5,-102 91.5,-116 115.5,-116 115.5,-102 91.5,-102\"/>\n",
       "<text text-anchor=\"start\" x=\"92.5\" y=\"-106.2\" font-family=\"Helvetica,sans-Serif\" font-size=\"11.00\" fill=\"#444443\"> &#39;jim&#39;</text>\n",
       "<polyline fill=\"none\" stroke=\"#444443\" points=\"60.5,-99 115.5,-99 \"/>\n",
       "<polygon fill=\"#fefecd\" stroke=\"transparent\" points=\"60.5,-97 60.5,-99 115.5,-99 115.5,-97 60.5,-97\"/>\n",
       "<polygon fill=\"#fefecd\" stroke=\"transparent\" points=\"60.5,-88 60.5,-97 91.5,-97 91.5,-88 60.5,-88\"/>\n",
       "<polyline fill=\"none\" stroke=\"#444443\" points=\"91.5,-88 91.5,-97 \"/>\n",
       "<text text-anchor=\"start\" x=\"61.5\" y=\"-91.2\" font-family=\"Helvetica,sans-Serif\" font-size=\"6.00\" fill=\"#444443\">left</text>\n",
       "<polygon fill=\"#fefecd\" stroke=\"transparent\" points=\"91.5,-88 91.5,-97 91.5,-97 91.5,-88 91.5,-88\"/>\n",
       "<polygon fill=\"#fefecd\" stroke=\"transparent\" points=\"91.5,-88 91.5,-97 115.5,-97 115.5,-88 91.5,-88\"/>\n",
       "<text text-anchor=\"start\" x=\"102.5\" y=\"-91.2\" font-family=\"Helvetica,sans-Serif\" font-size=\"6.00\" fill=\"#444443\">right</text>\n",
       "<polygon fill=\"#fefecd\" stroke=\"transparent\" points=\"60.5,-85 60.5,-88 91.5,-88 91.5,-85 60.5,-85\"/>\n",
       "<polyline fill=\"none\" stroke=\"#444443\" points=\"91.5,-85 91.5,-88 \"/>\n",
       "<text text-anchor=\"start\" x=\"75.8611\" y=\"-86.1\" font-family=\"Helvetica,sans-Serif\" font-size=\"1.00\" fill=\"#444443\"> </text>\n",
       "<polygon fill=\"#fefecd\" stroke=\"transparent\" points=\"91.5,-85 91.5,-88 91.5,-88 91.5,-85 91.5,-85\"/>\n",
       "<polygon fill=\"#fefecd\" stroke=\"transparent\" points=\"91.5,-85 91.5,-88 115.5,-88 115.5,-85 91.5,-85\"/>\n",
       "<text text-anchor=\"start\" x=\"103.3611\" y=\"-86.2\" font-family=\"Helvetica,sans-Serif\" font-size=\"1.00\" fill=\"#444443\"> </text>\n",
       "<polygon fill=\"#fefecd\" stroke=\"transparent\" points=\"60.5,-80 60.5,-85 91.5,-85 91.5,-80 60.5,-80\"/>\n",
       "<polyline fill=\"none\" stroke=\"#444443\" points=\"91.5,-80 91.5,-85 \"/>\n",
       "<text text-anchor=\"start\" x=\"75.5\" y=\"-81.6\" font-family=\"Helvetica,sans-Serif\" font-size=\"3.00\" fill=\"#444443\"> </text>\n",
       "<polygon fill=\"#fefecd\" stroke=\"transparent\" points=\"91.5,-80 91.5,-85 91.5,-85 91.5,-80 91.5,-80\"/>\n",
       "<polygon fill=\"#fefecd\" stroke=\"transparent\" points=\"91.5,-80 91.5,-85 115.5,-85 115.5,-80 91.5,-80\"/>\n",
       "<text text-anchor=\"start\" x=\"103\" y=\"-81.6\" font-family=\"Helvetica,sans-Serif\" font-size=\"3.00\" fill=\"#444443\"> </text>\n",
       "</g>\n",
       "<!-- node139754584139200&#45;&gt;node139754584138864 -->\n",
       "<g id=\"edge3\" class=\"edge\">\n",
       "<title>node139754584139200:c&#45;&gt;node139754584138864</title>\n",
       "<path fill=\"none\" stroke=\"#444443\" stroke-width=\".5\" d=\"M87.5,-160.7887C87.5,-156.3343 87.5,-147.8035 87.5,-138.7762\"/>\n",
       "<ellipse fill=\"#444443\" stroke=\"#444443\" stroke-width=\".5\" cx=\"87.5\" cy=\"-162.4\" rx=\"1.6\" ry=\"1.6\"/>\n",
       "<polygon fill=\"#444443\" stroke=\"#444443\" stroke-width=\".5\" points=\"88.9001,-138.3203 87.5,-134.3204 86.1001,-138.3204 88.9001,-138.3203\"/>\n",
       "</g>\n",
       "<!-- node139754584140040 -->\n",
       "<g id=\"node4\" class=\"node\">\n",
       "<title>node139754584140040</title>\n",
       "<polygon fill=\"#fefecd\" stroke=\"#444443\" stroke-width=\".5\" points=\"93,-56 0,-56 0,0 93,0 93,-56\"/>\n",
       "<polygon fill=\"#fefecd\" stroke=\"transparent\" points=\"2.5,-40 2.5,-54 91.5,-54 91.5,-40 2.5,-40\"/>\n",
       "<polyline fill=\"none\" stroke=\"#444443\" points=\"2.5,-40 91.5,-40 \"/>\n",
       "<text text-anchor=\"start\" x=\"36\" y=\"-44.2\" font-family=\"Times,serif\" font-style=\"italic\" font-size=\"11.00\" fill=\"#444443\">Tree</text>\n",
       "<polygon fill=\"#fefecd\" stroke=\"transparent\" points=\"2.5,-38 2.5,-40 91.5,-40 91.5,-38 2.5,-38\"/>\n",
       "<polygon fill=\"#fefecd\" stroke=\"transparent\" points=\"2.5,-24 2.5,-38 33.5,-38 33.5,-24 2.5,-24\"/>\n",
       "<polyline fill=\"none\" stroke=\"#444443\" points=\"33.5,-24 33.5,-38 \"/>\n",
       "<text text-anchor=\"start\" x=\"3.5\" y=\"-28.2\" font-family=\"Helvetica,sans-Serif\" font-size=\"11.00\" fill=\"#444443\">value </text>\n",
       "<polygon fill=\"#fefecd\" stroke=\"transparent\" points=\"33.5,-24 33.5,-38 91.5,-38 91.5,-24 33.5,-24\"/>\n",
       "<text text-anchor=\"start\" x=\"34.5\" y=\"-28.2\" font-family=\"Helvetica,sans-Serif\" font-size=\"11.00\" fill=\"#444443\"> &#39;srinivasan&#39;</text>\n",
       "<polyline fill=\"none\" stroke=\"#444443\" points=\"2.5,-21 91.5,-21 \"/>\n",
       "<polygon fill=\"#fefecd\" stroke=\"transparent\" points=\"2.5,-19 2.5,-21 91.5,-21 91.5,-19 2.5,-19\"/>\n",
       "<polygon fill=\"#fefecd\" stroke=\"transparent\" points=\"2.5,-10 2.5,-19 33.5,-19 33.5,-10 2.5,-10\"/>\n",
       "<polyline fill=\"none\" stroke=\"#444443\" points=\"33.5,-10 33.5,-19 \"/>\n",
       "<text text-anchor=\"start\" x=\"3.5\" y=\"-13.2\" font-family=\"Helvetica,sans-Serif\" font-size=\"6.00\" fill=\"#444443\">left</text>\n",
       "<polygon fill=\"#fefecd\" stroke=\"transparent\" points=\"33.5,-10 33.5,-19 33.5,-19 33.5,-10 33.5,-10\"/>\n",
       "<polygon fill=\"#fefecd\" stroke=\"transparent\" points=\"33.5,-10 33.5,-19 91.5,-19 91.5,-10 33.5,-10\"/>\n",
       "<text text-anchor=\"start\" x=\"78.5\" y=\"-13.2\" font-family=\"Helvetica,sans-Serif\" font-size=\"6.00\" fill=\"#444443\">right</text>\n",
       "<polygon fill=\"#fefecd\" stroke=\"transparent\" points=\"2.5,-7 2.5,-10 33.5,-10 33.5,-7 2.5,-7\"/>\n",
       "<polyline fill=\"none\" stroke=\"#444443\" points=\"33.5,-7 33.5,-10 \"/>\n",
       "<text text-anchor=\"start\" x=\"17.8611\" y=\"-8.1\" font-family=\"Helvetica,sans-Serif\" font-size=\"1.00\" fill=\"#444443\"> </text>\n",
       "<polygon fill=\"#fefecd\" stroke=\"transparent\" points=\"33.5,-7 33.5,-10 33.5,-10 33.5,-7 33.5,-7\"/>\n",
       "<polygon fill=\"#fefecd\" stroke=\"transparent\" points=\"33.5,-7 33.5,-10 91.5,-10 91.5,-7 33.5,-7\"/>\n",
       "<text text-anchor=\"start\" x=\"62.3611\" y=\"-8.2\" font-family=\"Helvetica,sans-Serif\" font-size=\"1.00\" fill=\"#444443\"> </text>\n",
       "<polygon fill=\"#fefecd\" stroke=\"transparent\" points=\"2.5,-2 2.5,-7 33.5,-7 33.5,-2 2.5,-2\"/>\n",
       "<polyline fill=\"none\" stroke=\"#444443\" points=\"33.5,-2 33.5,-7 \"/>\n",
       "<text text-anchor=\"start\" x=\"17.5\" y=\"-3.6\" font-family=\"Helvetica,sans-Serif\" font-size=\"3.00\" fill=\"#444443\"> </text>\n",
       "<polygon fill=\"#fefecd\" stroke=\"transparent\" points=\"33.5,-2 33.5,-7 33.5,-7 33.5,-2 33.5,-2\"/>\n",
       "<polygon fill=\"#fefecd\" stroke=\"transparent\" points=\"33.5,-2 33.5,-7 91.5,-7 91.5,-2 33.5,-2\"/>\n",
       "<text text-anchor=\"start\" x=\"62\" y=\"-3.6\" font-family=\"Helvetica,sans-Serif\" font-size=\"3.00\" fill=\"#444443\"> </text>\n",
       "</g>\n",
       "<!-- node139754584138864&#45;&gt;node139754584140040 -->\n",
       "<g id=\"edge4\" class=\"edge\">\n",
       "<title>node139754584138864:c&#45;&gt;node139754584140040</title>\n",
       "<path fill=\"none\" stroke=\"#444443\" stroke-width=\".5\" d=\"M74.0594,-83.1188C71.8312,-78.6623 67.3077,-69.6153 62.5585,-60.117\"/>\n",
       "<ellipse fill=\"#444443\" stroke=\"#444443\" stroke-width=\".5\" cx=\"74.7844\" cy=\"-84.5689\" rx=\"1.6\" ry=\"1.6\"/>\n",
       "<polygon fill=\"#444443\" stroke=\"#444443\" stroke-width=\".5\" points=\"63.7013,-59.272 60.6602,-56.3204 61.1969,-60.5242 63.7013,-59.272\"/>\n",
       "</g>\n",
       "<!-- node139754584139928 -->\n",
       "<g id=\"node5\" class=\"node\">\n",
       "<title>node139754584139928</title>\n",
       "<polygon fill=\"#fefecd\" stroke=\"#444443\" stroke-width=\".5\" points=\"165,-56 100,-56 100,0 165,0 165,-56\"/>\n",
       "<polygon fill=\"#fefecd\" stroke=\"transparent\" points=\"102.5,-40 102.5,-54 163.5,-54 163.5,-40 102.5,-40\"/>\n",
       "<polyline fill=\"none\" stroke=\"#444443\" points=\"102.5,-40 163.5,-40 \"/>\n",
       "<text text-anchor=\"start\" x=\"122\" y=\"-44.2\" font-family=\"Times,serif\" font-style=\"italic\" font-size=\"11.00\" fill=\"#444443\">Tree</text>\n",
       "<polygon fill=\"#fefecd\" stroke=\"transparent\" points=\"102.5,-38 102.5,-40 163.5,-40 163.5,-38 102.5,-38\"/>\n",
       "<polygon fill=\"#fefecd\" stroke=\"transparent\" points=\"102.5,-24 102.5,-38 133.5,-38 133.5,-24 102.5,-24\"/>\n",
       "<polyline fill=\"none\" stroke=\"#444443\" points=\"133.5,-24 133.5,-38 \"/>\n",
       "<text text-anchor=\"start\" x=\"103.5\" y=\"-28.2\" font-family=\"Helvetica,sans-Serif\" font-size=\"11.00\" fill=\"#444443\">value </text>\n",
       "<polygon fill=\"#fefecd\" stroke=\"transparent\" points=\"133.5,-24 133.5,-38 163.5,-38 163.5,-24 133.5,-24\"/>\n",
       "<text text-anchor=\"start\" x=\"134.5\" y=\"-28.2\" font-family=\"Helvetica,sans-Serif\" font-size=\"11.00\" fill=\"#444443\"> &#39;april&#39;</text>\n",
       "<polyline fill=\"none\" stroke=\"#444443\" points=\"102.5,-21 163.5,-21 \"/>\n",
       "<polygon fill=\"#fefecd\" stroke=\"transparent\" points=\"102.5,-19 102.5,-21 163.5,-21 163.5,-19 102.5,-19\"/>\n",
       "<polygon fill=\"#fefecd\" stroke=\"transparent\" points=\"102.5,-10 102.5,-19 133.5,-19 133.5,-10 102.5,-10\"/>\n",
       "<polyline fill=\"none\" stroke=\"#444443\" points=\"133.5,-10 133.5,-19 \"/>\n",
       "<text text-anchor=\"start\" x=\"103.5\" y=\"-13.2\" font-family=\"Helvetica,sans-Serif\" font-size=\"6.00\" fill=\"#444443\">left</text>\n",
       "<polygon fill=\"#fefecd\" stroke=\"transparent\" points=\"133.5,-10 133.5,-19 133.5,-19 133.5,-10 133.5,-10\"/>\n",
       "<polygon fill=\"#fefecd\" stroke=\"transparent\" points=\"133.5,-10 133.5,-19 163.5,-19 163.5,-10 133.5,-10\"/>\n",
       "<text text-anchor=\"start\" x=\"150.5\" y=\"-13.2\" font-family=\"Helvetica,sans-Serif\" font-size=\"6.00\" fill=\"#444443\">right</text>\n",
       "<polygon fill=\"#fefecd\" stroke=\"transparent\" points=\"102.5,-7 102.5,-10 133.5,-10 133.5,-7 102.5,-7\"/>\n",
       "<polyline fill=\"none\" stroke=\"#444443\" points=\"133.5,-7 133.5,-10 \"/>\n",
       "<text text-anchor=\"start\" x=\"117.8611\" y=\"-8.1\" font-family=\"Helvetica,sans-Serif\" font-size=\"1.00\" fill=\"#444443\"> </text>\n",
       "<polygon fill=\"#fefecd\" stroke=\"transparent\" points=\"133.5,-7 133.5,-10 133.5,-10 133.5,-7 133.5,-7\"/>\n",
       "<polygon fill=\"#fefecd\" stroke=\"transparent\" points=\"133.5,-7 133.5,-10 163.5,-10 163.5,-7 133.5,-7\"/>\n",
       "<text text-anchor=\"start\" x=\"148.3611\" y=\"-8.2\" font-family=\"Helvetica,sans-Serif\" font-size=\"1.00\" fill=\"#444443\"> </text>\n",
       "<polygon fill=\"#fefecd\" stroke=\"transparent\" points=\"102.5,-2 102.5,-7 133.5,-7 133.5,-2 102.5,-2\"/>\n",
       "<polyline fill=\"none\" stroke=\"#444443\" points=\"133.5,-2 133.5,-7 \"/>\n",
       "<text text-anchor=\"start\" x=\"117.5\" y=\"-3.6\" font-family=\"Helvetica,sans-Serif\" font-size=\"3.00\" fill=\"#444443\"> </text>\n",
       "<polygon fill=\"#fefecd\" stroke=\"transparent\" points=\"133.5,-2 133.5,-7 133.5,-7 133.5,-2 133.5,-2\"/>\n",
       "<polygon fill=\"#fefecd\" stroke=\"transparent\" points=\"133.5,-2 133.5,-7 163.5,-7 163.5,-2 133.5,-2\"/>\n",
       "<text text-anchor=\"start\" x=\"148\" y=\"-3.6\" font-family=\"Helvetica,sans-Serif\" font-size=\"3.00\" fill=\"#444443\"> </text>\n",
       "</g>\n",
       "<!-- node139754584138864&#45;&gt;node139754584139928 -->\n",
       "<g id=\"edge5\" class=\"edge\">\n",
       "<title>node139754584138864:c&#45;&gt;node139754584139928</title>\n",
       "<path fill=\"none\" stroke=\"#444443\" stroke-width=\".5\" d=\"M104.9406,-83.1188C107.1688,-78.6623 111.6923,-69.6153 116.4415,-60.117\"/>\n",
       "<ellipse fill=\"#444443\" stroke=\"#444443\" stroke-width=\".5\" cx=\"104.2156\" cy=\"-84.5689\" rx=\"1.6\" ry=\"1.6\"/>\n",
       "<polygon fill=\"#444443\" stroke=\"#444443\" stroke-width=\".5\" points=\"117.8031,-60.5242 118.3398,-56.3204 115.2987,-59.272 117.8031,-60.5242\"/>\n",
       "</g>\n",
       "<!-- node139754584139088 -->\n",
       "<g id=\"node7\" class=\"node\">\n",
       "<title>node139754584139088</title>\n",
       "<polygon fill=\"#fefecd\" stroke=\"#444443\" stroke-width=\".5\" points=\"227.5,-134 159.5,-134 159.5,-78 227.5,-78 227.5,-134\"/>\n",
       "<polygon fill=\"#fefecd\" stroke=\"transparent\" points=\"161.5,-118 161.5,-132 225.5,-132 225.5,-118 161.5,-118\"/>\n",
       "<polyline fill=\"none\" stroke=\"#444443\" points=\"161.5,-118 225.5,-118 \"/>\n",
       "<text text-anchor=\"start\" x=\"182.5\" y=\"-122.2\" font-family=\"Times,serif\" font-style=\"italic\" font-size=\"11.00\" fill=\"#444443\">Tree</text>\n",
       "<polygon fill=\"#fefecd\" stroke=\"transparent\" points=\"161.5,-116 161.5,-118 225.5,-118 225.5,-116 161.5,-116\"/>\n",
       "<polygon fill=\"#fefecd\" stroke=\"transparent\" points=\"161.5,-102 161.5,-116 192.5,-116 192.5,-102 161.5,-102\"/>\n",
       "<polyline fill=\"none\" stroke=\"#444443\" points=\"192.5,-102 192.5,-116 \"/>\n",
       "<text text-anchor=\"start\" x=\"162.5\" y=\"-106.2\" font-family=\"Helvetica,sans-Serif\" font-size=\"11.00\" fill=\"#444443\">value </text>\n",
       "<polygon fill=\"#fefecd\" stroke=\"transparent\" points=\"192.5,-102 192.5,-116 225.5,-116 225.5,-102 192.5,-102\"/>\n",
       "<text text-anchor=\"start\" x=\"193.5\" y=\"-106.2\" font-family=\"Helvetica,sans-Serif\" font-size=\"11.00\" fill=\"#444443\"> &#39;mike&#39;</text>\n",
       "<polyline fill=\"none\" stroke=\"#444443\" points=\"161.5,-99 225.5,-99 \"/>\n",
       "<polygon fill=\"#fefecd\" stroke=\"transparent\" points=\"161.5,-97 161.5,-99 225.5,-99 225.5,-97 161.5,-97\"/>\n",
       "<polygon fill=\"#fefecd\" stroke=\"transparent\" points=\"161.5,-88 161.5,-97 192.5,-97 192.5,-88 161.5,-88\"/>\n",
       "<polyline fill=\"none\" stroke=\"#444443\" points=\"192.5,-88 192.5,-97 \"/>\n",
       "<text text-anchor=\"start\" x=\"162.5\" y=\"-91.2\" font-family=\"Helvetica,sans-Serif\" font-size=\"6.00\" fill=\"#444443\">left</text>\n",
       "<polygon fill=\"#fefecd\" stroke=\"transparent\" points=\"192.5,-88 192.5,-97 192.5,-97 192.5,-88 192.5,-88\"/>\n",
       "<polygon fill=\"#fefecd\" stroke=\"transparent\" points=\"192.5,-88 192.5,-97 225.5,-97 225.5,-88 192.5,-88\"/>\n",
       "<text text-anchor=\"start\" x=\"212.5\" y=\"-91.2\" font-family=\"Helvetica,sans-Serif\" font-size=\"6.00\" fill=\"#444443\">right</text>\n",
       "<polygon fill=\"#fefecd\" stroke=\"transparent\" points=\"161.5,-85 161.5,-88 192.5,-88 192.5,-85 161.5,-85\"/>\n",
       "<polyline fill=\"none\" stroke=\"#444443\" points=\"192.5,-85 192.5,-88 \"/>\n",
       "<text text-anchor=\"start\" x=\"176.8611\" y=\"-86.1\" font-family=\"Helvetica,sans-Serif\" font-size=\"1.00\" fill=\"#444443\"> </text>\n",
       "<polygon fill=\"#fefecd\" stroke=\"transparent\" points=\"192.5,-85 192.5,-88 192.5,-88 192.5,-85 192.5,-85\"/>\n",
       "<polygon fill=\"#fefecd\" stroke=\"transparent\" points=\"192.5,-85 192.5,-88 225.5,-88 225.5,-85 192.5,-85\"/>\n",
       "<text text-anchor=\"start\" x=\"208.8611\" y=\"-86.2\" font-family=\"Helvetica,sans-Serif\" font-size=\"1.00\" fill=\"#444443\"> </text>\n",
       "<polygon fill=\"#fefecd\" stroke=\"transparent\" points=\"161.5,-80 161.5,-85 192.5,-85 192.5,-80 161.5,-80\"/>\n",
       "<polyline fill=\"none\" stroke=\"#444443\" points=\"192.5,-80 192.5,-85 \"/>\n",
       "<text text-anchor=\"start\" x=\"176.5\" y=\"-81.6\" font-family=\"Helvetica,sans-Serif\" font-size=\"3.00\" fill=\"#444443\"> </text>\n",
       "<polygon fill=\"#fefecd\" stroke=\"transparent\" points=\"192.5,-80 192.5,-85 192.5,-85 192.5,-80 192.5,-80\"/>\n",
       "<polygon fill=\"#fefecd\" stroke=\"transparent\" points=\"192.5,-80 192.5,-85 225.5,-85 225.5,-80 192.5,-80\"/>\n",
       "<text text-anchor=\"start\" x=\"208.5\" y=\"-81.6\" font-family=\"Helvetica,sans-Serif\" font-size=\"3.00\" fill=\"#444443\"> </text>\n",
       "</g>\n",
       "<!-- node139754584139256&#45;&gt;node139754584139088 -->\n",
       "<g id=\"edge6\" class=\"edge\">\n",
       "<title>node139754584139256:c&#45;&gt;node139754584139088</title>\n",
       "<path fill=\"none\" stroke=\"#444443\" stroke-width=\".5\" d=\"M193.5,-160.7887C193.5,-156.3343 193.5,-147.8035 193.5,-138.7762\"/>\n",
       "<ellipse fill=\"#444443\" stroke=\"#444443\" stroke-width=\".5\" cx=\"193.5\" cy=\"-162.4\" rx=\"1.6\" ry=\"1.6\"/>\n",
       "<polygon fill=\"#444443\" stroke=\"#444443\" stroke-width=\".5\" points=\"194.9001,-138.3203 193.5,-134.3204 192.1001,-138.3204 194.9001,-138.3203\"/>\n",
       "</g>\n",
       "</g>\n",
       "</svg>\n"
      ],
      "text/plain": [
       "<graphviz.files.Source at 0x7f1b2657e9e8>"
      ]
     },
     "execution_count": 127,
     "metadata": {},
     "output_type": "execute_result"
    }
   ],
   "source": [
    "viz(root, mode=\"tree\")"
   ]
  },
  {
   "cell_type": "markdown",
   "metadata": {},
   "source": [
    "### Objects"
   ]
  },
  {
   "cell_type": "code",
   "execution_count": 128,
   "metadata": {
    "ExecuteTime": {
     "end_time": "2021-02-22T21:23:02.175733Z",
     "start_time": "2021-02-22T21:23:02.127908Z"
    }
   },
   "outputs": [
    {
     "data": {
      "image/svg+xml": [
       "<?xml version=\"1.0\" encoding=\"UTF-8\" standalone=\"no\"?>\n",
       "<!DOCTYPE svg PUBLIC \"-//W3C//DTD SVG 1.1//EN\"\n",
       " \"http://www.w3.org/Graphics/SVG/1.1/DTD/svg11.dtd\">\n",
       "<!-- Generated by graphviz version 2.40.1 (20161225.0304)\n",
       " -->\n",
       "<!-- Title: G Pages: 1 -->\n",
       "<svg width=\"283pt\" height=\"98pt\"\n",
       " viewBox=\"0.00 0.00 282.50 98.00\" xmlns=\"http://www.w3.org/2000/svg\" xmlns:xlink=\"http://www.w3.org/1999/xlink\">\n",
       "<g id=\"graph0\" class=\"graph\" transform=\"scale(1 1) rotate(0) translate(4 94)\">\n",
       "<title>G</title>\n",
       "<polygon fill=\"#ffffff\" stroke=\"transparent\" points=\"-4,4 -4,-94 278.5,-94 278.5,4 -4,4\"/>\n",
       "<!-- node139754865714016 -->\n",
       "<g id=\"node1\" class=\"node\">\n",
       "<title>node139754865714016</title>\n",
       "<polygon fill=\"#fefecd\" stroke=\"#444443\" stroke-width=\".5\" points=\"187,-90 26,-90 26,-40 187,-40 187,-90\"/>\n",
       "<polygon fill=\"#fefecd\" stroke=\"transparent\" points=\"28.5,-74 28.5,-88 79.5,-88 79.5,-74 28.5,-74\"/>\n",
       "<text text-anchor=\"start\" x=\"44.5\" y=\"-78.2\" font-family=\"Helvetica,sans-Serif\" font-size=\"11.00\" fill=\"#444443\">&#39;name&#39; </text>\n",
       "<text text-anchor=\"start\" x=\"79.5\" y=\"-76.8\" font-family=\"Helvetica,sans-Serif\" font-size=\"9.00\" fill=\"#444443\">→</text>\n",
       "<polygon fill=\"#fefecd\" stroke=\"transparent\" points=\"89.5,-74 89.5,-88 185.5,-88 185.5,-74 89.5,-74\"/>\n",
       "<text text-anchor=\"start\" x=\"90.5\" y=\"-78.2\" font-family=\"Helvetica,sans-Serif\" font-size=\"11.00\" fill=\"#444443\"> &#39;Anakin Skywalker&#39;</text>\n",
       "<polygon fill=\"#fefecd\" stroke=\"transparent\" points=\"28.5,-72 28.5,-74 185.5,-74 185.5,-72 28.5,-72\"/>\n",
       "<polygon fill=\"#fefecd\" stroke=\"transparent\" points=\"28.5,-58 28.5,-72 79.5,-72 79.5,-58 28.5,-58\"/>\n",
       "<text text-anchor=\"start\" x=\"54.5\" y=\"-62.2\" font-family=\"Helvetica,sans-Serif\" font-size=\"11.00\" fill=\"#444443\">&#39;son&#39; </text>\n",
       "<text text-anchor=\"start\" x=\"79.5\" y=\"-60.8\" font-family=\"Helvetica,sans-Serif\" font-size=\"9.00\" fill=\"#444443\">→</text>\n",
       "<polygon fill=\"#fefecd\" stroke=\"transparent\" points=\"89.5,-58 89.5,-72 185.5,-72 185.5,-58 89.5,-58\"/>\n",
       "<text text-anchor=\"start\" x=\"90.5\" y=\"-62.2\" font-family=\"Helvetica,sans-Serif\" font-size=\"11.00\" fill=\"#444443\"> &#160;&#160;&#160;</text>\n",
       "<polygon fill=\"#fefecd\" stroke=\"transparent\" points=\"28.5,-56 28.5,-58 185.5,-58 185.5,-56 28.5,-56\"/>\n",
       "<polygon fill=\"#fefecd\" stroke=\"transparent\" points=\"28.5,-42 28.5,-56 79.5,-56 79.5,-42 28.5,-42\"/>\n",
       "<text text-anchor=\"start\" x=\"28.5\" y=\"-46.2\" font-family=\"Helvetica,sans-Serif\" font-size=\"11.00\" fill=\"#444443\">&#39;daughter&#39; </text>\n",
       "<text text-anchor=\"start\" x=\"79.5\" y=\"-44.8\" font-family=\"Helvetica,sans-Serif\" font-size=\"9.00\" fill=\"#444443\">→</text>\n",
       "<polygon fill=\"#fefecd\" stroke=\"transparent\" points=\"89.5,-42 89.5,-56 185.5,-56 185.5,-42 89.5,-42\"/>\n",
       "<text text-anchor=\"start\" x=\"90.5\" y=\"-46.2\" font-family=\"Helvetica,sans-Serif\" font-size=\"11.00\" fill=\"#444443\"> &#160;&#160;&#160;</text>\n",
       "</g>\n",
       "<!-- node139754864857448 -->\n",
       "<g id=\"node2\" class=\"node\">\n",
       "<title>node139754864857448</title>\n",
       "<polygon fill=\"#fefecd\" stroke=\"#444443\" stroke-width=\".5\" points=\"135,-18 0,-18 0,0 135,0 135,-18\"/>\n",
       "<polygon fill=\"#fefecd\" stroke=\"transparent\" points=\"2.5,-2 2.5,-16 37.5,-16 37.5,-2 2.5,-2\"/>\n",
       "<text text-anchor=\"start\" x=\"2.5\" y=\"-6.2\" font-family=\"Helvetica,sans-Serif\" font-size=\"11.00\" fill=\"#444443\">&#39;name&#39; </text>\n",
       "<text text-anchor=\"start\" x=\"37.5\" y=\"-4.8\" font-family=\"Helvetica,sans-Serif\" font-size=\"9.00\" fill=\"#444443\">→</text>\n",
       "<polygon fill=\"#fefecd\" stroke=\"transparent\" points=\"47.5,-2 47.5,-16 133.5,-16 133.5,-2 47.5,-2\"/>\n",
       "<text text-anchor=\"start\" x=\"48.5\" y=\"-6.2\" font-family=\"Helvetica,sans-Serif\" font-size=\"11.00\" fill=\"#444443\"> &#39;Luke Skywalker&#39;</text>\n",
       "</g>\n",
       "<!-- node139754865714016&#45;&gt;node139754864857448 -->\n",
       "<g id=\"edge1\" class=\"edge\">\n",
       "<title>node139754865714016:c&#45;&gt;node139754864857448</title>\n",
       "<path fill=\"none\" stroke=\"#444443\" stroke-width=\".5\" d=\"M134.8942,-62.9154C126.468,-56.1744 99.5111,-34.6089 82.3519,-20.8815\"/>\n",
       "<ellipse fill=\"#444443\" stroke=\"#444443\" stroke-width=\".5\" cx=\"136.2506\" cy=\"-64.0005\" rx=\"1.6\" ry=\"1.6\"/>\n",
       "<polygon fill=\"#444443\" stroke=\"#444443\" stroke-width=\".5\" points=\"83.0572,-19.6529 79.0591,-18.2473 81.308,-21.8393 83.0572,-19.6529\"/>\n",
       "</g>\n",
       "<!-- node139754863124272 -->\n",
       "<g id=\"node3\" class=\"node\">\n",
       "<title>node139754863124272</title>\n",
       "<polygon fill=\"#fefecd\" stroke=\"#444443\" stroke-width=\".5\" points=\"274.5,-18 142.5,-18 142.5,0 274.5,0 274.5,-18\"/>\n",
       "<polygon fill=\"#fefecd\" stroke=\"transparent\" points=\"144.5,-2 144.5,-16 179.5,-16 179.5,-2 144.5,-2\"/>\n",
       "<text text-anchor=\"start\" x=\"144.5\" y=\"-6.2\" font-family=\"Helvetica,sans-Serif\" font-size=\"11.00\" fill=\"#444443\">&#39;name&#39; </text>\n",
       "<text text-anchor=\"start\" x=\"179.5\" y=\"-4.8\" font-family=\"Helvetica,sans-Serif\" font-size=\"9.00\" fill=\"#444443\">→</text>\n",
       "<polygon fill=\"#fefecd\" stroke=\"transparent\" points=\"189.5,-2 189.5,-16 272.5,-16 272.5,-2 189.5,-2\"/>\n",
       "<text text-anchor=\"start\" x=\"190.5\" y=\"-6.2\" font-family=\"Helvetica,sans-Serif\" font-size=\"11.00\" fill=\"#444443\"> &#39;Leia Skywalker&#39;</text>\n",
       "</g>\n",
       "<!-- node139754865714016&#45;&gt;node139754863124272 -->\n",
       "<g id=\"edge2\" class=\"edge\">\n",
       "<title>node139754865714016:c&#45;&gt;node139754863124272</title>\n",
       "<path fill=\"none\" stroke=\"#444443\" stroke-width=\".5\" d=\"M140.7703,-47.1576C149.1382,-42.4432 171.8512,-29.6472 188.6803,-20.166\"/>\n",
       "<ellipse fill=\"#444443\" stroke=\"#444443\" stroke-width=\".5\" cx=\"138.894\" cy=\"-48.2146\" rx=\"1.6\" ry=\"1.6\"/>\n",
       "<polygon fill=\"#444443\" stroke=\"#444443\" stroke-width=\".5\" points=\"189.5912,-21.2598 192.389,-18.0766 188.2168,-18.8203 189.5912,-21.2598\"/>\n",
       "</g>\n",
       "</g>\n",
       "</svg>\n"
      ],
      "text/plain": [
       "<graphviz.files.Source at 0x7f1b2657e7b8>"
      ]
     },
     "execution_count": 128,
     "metadata": {},
     "output_type": "execute_result"
    }
   ],
   "source": [
    "viz(anakin)"
   ]
  },
  {
   "cell_type": "code",
   "execution_count": 129,
   "metadata": {
    "ExecuteTime": {
     "end_time": "2021-02-22T21:23:02.850836Z",
     "start_time": "2021-02-22T21:23:02.790322Z"
    }
   },
   "outputs": [
    {
     "data": {
      "image/svg+xml": [
       "<?xml version=\"1.0\" encoding=\"UTF-8\" standalone=\"no\"?>\n",
       "<!DOCTYPE svg PUBLIC \"-//W3C//DTD SVG 1.1//EN\"\n",
       " \"http://www.w3.org/Graphics/SVG/1.1/DTD/svg11.dtd\">\n",
       "<!-- Generated by graphviz version 2.40.1 (20161225.0304)\n",
       " -->\n",
       "<!-- Title: G Pages: 1 -->\n",
       "<svg width=\"179pt\" height=\"62pt\"\n",
       " viewBox=\"0.00 0.00 179.00 62.00\" xmlns=\"http://www.w3.org/2000/svg\" xmlns:xlink=\"http://www.w3.org/1999/xlink\">\n",
       "<g id=\"graph0\" class=\"graph\" transform=\"scale(1 1) rotate(0) translate(4 58)\">\n",
       "<title>G</title>\n",
       "<polygon fill=\"#ffffff\" stroke=\"transparent\" points=\"-4,4 -4,-58 175,-58 175,4 -4,4\"/>\n",
       "<!-- node139754578804232 -->\n",
       "<g id=\"node1\" class=\"node\">\n",
       "<title>node139754578804232</title>\n",
       "<polygon fill=\"#cfe2d4\" stroke=\"#444443\" stroke-width=\".5\" points=\"14,-54 0,-54 0,-4 14,-4 14,-54\"/>\n",
       "<polygon fill=\"#cfe2d4\" stroke=\"transparent\" points=\"1,-37 1,-53 13,-53 13,-37 1,-37\"/>\n",
       "<polyline fill=\"none\" stroke=\"#444443\" points=\"1,-37 13,-37 \"/>\n",
       "<text text-anchor=\"start\" x=\"4\" y=\"-42.8\" font-family=\"Helvetica,sans-Serif\" font-size=\"9.00\" fill=\"#444443\">0</text>\n",
       "<polygon fill=\"#cfe2d4\" stroke=\"transparent\" points=\"1,-21 1,-37 13,-37 13,-21 1,-21\"/>\n",
       "<polyline fill=\"none\" stroke=\"#444443\" points=\"1,-21 13,-21 \"/>\n",
       "<text text-anchor=\"start\" x=\"4\" y=\"-26.8\" font-family=\"Helvetica,sans-Serif\" font-size=\"9.00\" fill=\"#444443\">1</text>\n",
       "<polygon fill=\"#cfe2d4\" stroke=\"transparent\" points=\"1,-5 1,-21 13,-21 13,-5 1,-5\"/>\n",
       "<text text-anchor=\"start\" x=\"4\" y=\"-10.8\" font-family=\"Helvetica,sans-Serif\" font-size=\"9.00\" fill=\"#444443\">2</text>\n",
       "</g>\n",
       "<!-- node139754864857448 -->\n",
       "<g id=\"node2\" class=\"node\">\n",
       "<title>node139754864857448</title>\n",
       "<polygon fill=\"#fefecd\" stroke=\"#444443\" stroke-width=\".5\" points=\"171,-43 36,-43 36,-25 171,-25 171,-43\"/>\n",
       "<polygon fill=\"#fefecd\" stroke=\"transparent\" points=\"38.5,-27 38.5,-41 73.5,-41 73.5,-27 38.5,-27\"/>\n",
       "<text text-anchor=\"start\" x=\"38.5\" y=\"-31.2\" font-family=\"Helvetica,sans-Serif\" font-size=\"11.00\" fill=\"#444443\">&#39;name&#39; </text>\n",
       "<text text-anchor=\"start\" x=\"73.5\" y=\"-29.8\" font-family=\"Helvetica,sans-Serif\" font-size=\"9.00\" fill=\"#444443\">→</text>\n",
       "<polygon fill=\"#fefecd\" stroke=\"transparent\" points=\"83.5,-27 83.5,-41 169.5,-41 169.5,-27 83.5,-27\"/>\n",
       "<text text-anchor=\"start\" x=\"84.5\" y=\"-31.2\" font-family=\"Helvetica,sans-Serif\" font-size=\"11.00\" fill=\"#444443\"> &#39;Luke Skywalker&#39;</text>\n",
       "</g>\n",
       "<!-- node139754578804232&#45;&gt;node139754864857448 -->\n",
       "<g id=\"edge1\" class=\"edge\">\n",
       "<title>node139754578804232:1&#45;&gt;node139754864857448:w</title>\n",
       "<path fill=\"none\" stroke=\"#444443\" stroke-width=\".5\" d=\"M13,-29C21.8265,-29 24.685,-32.5596 31.6464,-33.6719\"/>\n",
       "<polygon fill=\"#444443\" stroke=\"#444443\" stroke-width=\".5\" points=\"31.9061,-35.0954 36,-34 32.1165,-32.3033 31.9061,-35.0954\"/>\n",
       "</g>\n",
       "<!-- node139754863124272 -->\n",
       "<g id=\"node3\" class=\"node\">\n",
       "<title>node139754863124272</title>\n",
       "<polygon fill=\"#fefecd\" stroke=\"#444443\" stroke-width=\".5\" points=\"169.5,-18 37.5,-18 37.5,0 169.5,0 169.5,-18\"/>\n",
       "<polygon fill=\"#fefecd\" stroke=\"transparent\" points=\"39.5,-2 39.5,-16 74.5,-16 74.5,-2 39.5,-2\"/>\n",
       "<text text-anchor=\"start\" x=\"39.5\" y=\"-6.2\" font-family=\"Helvetica,sans-Serif\" font-size=\"11.00\" fill=\"#444443\">&#39;name&#39; </text>\n",
       "<text text-anchor=\"start\" x=\"74.5\" y=\"-4.8\" font-family=\"Helvetica,sans-Serif\" font-size=\"9.00\" fill=\"#444443\">→</text>\n",
       "<polygon fill=\"#fefecd\" stroke=\"transparent\" points=\"84.5,-2 84.5,-16 167.5,-16 167.5,-2 84.5,-2\"/>\n",
       "<text text-anchor=\"start\" x=\"85.5\" y=\"-6.2\" font-family=\"Helvetica,sans-Serif\" font-size=\"11.00\" fill=\"#444443\"> &#39;Leia Skywalker&#39;</text>\n",
       "</g>\n",
       "<!-- node139754578804232&#45;&gt;node139754863124272 -->\n",
       "<g id=\"edge2\" class=\"edge\">\n",
       "<title>node139754578804232:2&#45;&gt;node139754863124272:w</title>\n",
       "<path fill=\"none\" stroke=\"#444443\" stroke-width=\".5\" d=\"M13,-13C22.4815,-13 25.6124,-10.0459 33.3078,-9.2151\"/>\n",
       "<polygon fill=\"#444443\" stroke=\"#444443\" stroke-width=\".5\" points=\"33.577,-10.6032 37.5,-9 33.4335,-7.8069 33.577,-10.6032\"/>\n",
       "</g>\n",
       "</g>\n",
       "</svg>\n"
      ],
      "text/plain": [
       "<graphviz.files.Source at 0x7f1b3710bc50>"
      ]
     },
     "execution_count": 129,
     "metadata": {},
     "output_type": "execute_result"
    }
   ],
   "source": [
    "viz(anakin.values())"
   ]
  },
  {
   "cell_type": "code",
   "execution_count": 130,
   "metadata": {
    "ExecuteTime": {
     "end_time": "2021-02-22T21:23:05.331753Z",
     "start_time": "2021-02-22T21:23:05.271109Z"
    }
   },
   "outputs": [
    {
     "data": {
      "image/svg+xml": [
       "<?xml version=\"1.0\" encoding=\"UTF-8\" standalone=\"no\"?>\n",
       "<!DOCTYPE svg PUBLIC \"-//W3C//DTD SVG 1.1//EN\"\n",
       " \"http://www.w3.org/Graphics/SVG/1.1/DTD/svg11.dtd\">\n",
       "<!-- Generated by graphviz version 2.40.1 (20161225.0304)\n",
       " -->\n",
       "<!-- Title: G Pages: 1 -->\n",
       "<svg width=\"336pt\" height=\"118pt\"\n",
       " viewBox=\"0.00 0.00 336.00 118.00\" xmlns=\"http://www.w3.org/2000/svg\" xmlns:xlink=\"http://www.w3.org/1999/xlink\">\n",
       "<g id=\"graph0\" class=\"graph\" transform=\"scale(1 1) rotate(0) translate(4 114)\">\n",
       "<title>G</title>\n",
       "<polygon fill=\"#ffffff\" stroke=\"transparent\" points=\"-4,4 -4,-114 332,-114 332,4 -4,4\"/>\n",
       "<!-- node139754578801480 -->\n",
       "<g id=\"node1\" class=\"node\">\n",
       "<title>node139754578801480</title>\n",
       "<polygon fill=\"#cfe2d4\" stroke=\"#444443\" stroke-width=\".5\" points=\"14,-80 0,-80 0,-30 14,-30 14,-80\"/>\n",
       "<polygon fill=\"#cfe2d4\" stroke=\"transparent\" points=\"1,-63 1,-79 13,-79 13,-63 1,-63\"/>\n",
       "<polyline fill=\"none\" stroke=\"#444443\" points=\"1,-63 13,-63 \"/>\n",
       "<text text-anchor=\"start\" x=\"4\" y=\"-68.8\" font-family=\"Helvetica,sans-Serif\" font-size=\"9.00\" fill=\"#444443\">0</text>\n",
       "<polygon fill=\"#cfe2d4\" stroke=\"transparent\" points=\"1,-47 1,-63 13,-63 13,-47 1,-47\"/>\n",
       "<polyline fill=\"none\" stroke=\"#444443\" points=\"1,-47 13,-47 \"/>\n",
       "<text text-anchor=\"start\" x=\"4\" y=\"-52.8\" font-family=\"Helvetica,sans-Serif\" font-size=\"9.00\" fill=\"#444443\">1</text>\n",
       "<polygon fill=\"#cfe2d4\" stroke=\"transparent\" points=\"1,-31 1,-47 13,-47 13,-31 1,-31\"/>\n",
       "<text text-anchor=\"start\" x=\"4\" y=\"-36.8\" font-family=\"Helvetica,sans-Serif\" font-size=\"9.00\" fill=\"#444443\">2</text>\n",
       "</g>\n",
       "<!-- node139754578215752 -->\n",
       "<g id=\"node2\" class=\"node\">\n",
       "<title>node139754578215752</title>\n",
       "<polygon fill=\"none\" stroke=\"#000000\" stroke-width=\".5\" points=\"171,-110 36,-110 36,-78 171,-78 171,-110\"/>\n",
       "<polygon fill=\"#fefecd\" stroke=\"transparent\" points=\"37.5,-97 37.5,-109 75.5,-109 75.5,-97 37.5,-97\"/>\n",
       "<polyline fill=\"none\" stroke=\"#000000\" points=\"37.5,-97 75.5,-97 75.5,-109 \"/>\n",
       "<text text-anchor=\"start\" x=\"53.5\" y=\"-100.8\" font-family=\"Helvetica,sans-Serif\" font-size=\"9.00\" fill=\"#444443\">0</text>\n",
       "<polygon fill=\"#fefecd\" stroke=\"transparent\" points=\"75.5,-97 75.5,-109 170.5,-109 170.5,-97 75.5,-97\"/>\n",
       "<polyline fill=\"none\" stroke=\"#000000\" points=\"75.5,-97 170.5,-97 \"/>\n",
       "<text text-anchor=\"start\" x=\"120\" y=\"-100.8\" font-family=\"Helvetica,sans-Serif\" font-size=\"9.00\" fill=\"#444443\">1</text>\n",
       "<polygon fill=\"#fefecd\" stroke=\"transparent\" points=\"37.5,-79 37.5,-97 75.5,-97 75.5,-79 37.5,-79\"/>\n",
       "<polyline fill=\"none\" stroke=\"#000000\" points=\"75.5,-79 75.5,-97 \"/>\n",
       "<text text-anchor=\"start\" x=\"40.5\" y=\"-85.2\" font-family=\"Helvetica,sans-Serif\" font-size=\"11.00\" fill=\"#444443\">&#39;name&#39;</text>\n",
       "<polygon fill=\"#fefecd\" stroke=\"transparent\" points=\"75.5,-79 75.5,-97 170.5,-97 170.5,-79 75.5,-79\"/>\n",
       "<text text-anchor=\"start\" x=\"77.5\" y=\"-85.2\" font-family=\"Helvetica,sans-Serif\" font-size=\"11.00\" fill=\"#444443\">&#39;Anakin Skywalker&#39;</text>\n",
       "</g>\n",
       "<!-- node139754578801480&#45;&gt;node139754578215752 -->\n",
       "<g id=\"edge1\" class=\"edge\">\n",
       "<title>node139754578801480:0&#45;&gt;node139754578215752:w</title>\n",
       "<path fill=\"none\" stroke=\"#444443\" stroke-width=\".5\" d=\"M13,-71C25.8752,-71 22.5933,-89.2439 31.9342,-93.2347\"/>\n",
       "<polygon fill=\"#444443\" stroke=\"#444443\" stroke-width=\".5\" points=\"31.81,-94.6359 36,-94 32.328,-91.8842 31.81,-94.6359\"/>\n",
       "</g>\n",
       "<!-- node139754579571144 -->\n",
       "<g id=\"node3\" class=\"node\">\n",
       "<title>node139754579571144</title>\n",
       "<polygon fill=\"none\" stroke=\"#000000\" stroke-width=\".5\" points=\"124,-71 83,-71 83,-39 124,-39 124,-71\"/>\n",
       "<polygon fill=\"#fefecd\" stroke=\"transparent\" points=\"84.5,-58 84.5,-70 112.5,-70 112.5,-58 84.5,-58\"/>\n",
       "<polyline fill=\"none\" stroke=\"#000000\" points=\"84.5,-58 112.5,-58 112.5,-70 \"/>\n",
       "<text text-anchor=\"start\" x=\"95.5\" y=\"-61.8\" font-family=\"Helvetica,sans-Serif\" font-size=\"9.00\" fill=\"#444443\">0</text>\n",
       "<polygon fill=\"#fefecd\" stroke=\"transparent\" points=\"112.5,-58 112.5,-70 123.5,-70 123.5,-58 112.5,-58\"/>\n",
       "<polyline fill=\"none\" stroke=\"#000000\" points=\"112.5,-58 123.5,-58 \"/>\n",
       "<text text-anchor=\"start\" x=\"115\" y=\"-61.8\" font-family=\"Helvetica,sans-Serif\" font-size=\"9.00\" fill=\"#444443\">1</text>\n",
       "<polygon fill=\"#fefecd\" stroke=\"transparent\" points=\"84.5,-40 84.5,-58 112.5,-58 112.5,-40 84.5,-40\"/>\n",
       "<polyline fill=\"none\" stroke=\"#000000\" points=\"112.5,-40 112.5,-58 \"/>\n",
       "<text text-anchor=\"start\" x=\"87.5\" y=\"-46.2\" font-family=\"Helvetica,sans-Serif\" font-size=\"11.00\" fill=\"#444443\">&#39;son&#39;</text>\n",
       "<polygon fill=\"#fefecd\" stroke=\"transparent\" points=\"112.5,-40 112.5,-58 123.5,-58 123.5,-40 112.5,-40\"/>\n",
       "<text text-anchor=\"start\" x=\"114.5\" y=\"-46.2\" font-family=\"Helvetica,sans-Serif\" font-size=\"11.00\" fill=\"#444443\"> &#160;</text>\n",
       "</g>\n",
       "<!-- node139754578801480&#45;&gt;node139754579571144 -->\n",
       "<g id=\"edge2\" class=\"edge\">\n",
       "<title>node139754578801480:1&#45;&gt;node139754579571144:w</title>\n",
       "<path fill=\"none\" stroke=\"#444443\" stroke-width=\".5\" d=\"M13,-55C42.441,-55 50.8362,-55 78.3042,-55\"/>\n",
       "<polygon fill=\"#444443\" stroke=\"#444443\" stroke-width=\".5\" points=\"78.5,-56.4001 82.5,-55 78.5,-53.6001 78.5,-56.4001\"/>\n",
       "</g>\n",
       "<!-- node139754578173512 -->\n",
       "<g id=\"node5\" class=\"node\">\n",
       "<title>node139754578173512</title>\n",
       "<polygon fill=\"none\" stroke=\"#000000\" stroke-width=\".5\" points=\"137,-32 70,-32 70,0 137,0 137,-32\"/>\n",
       "<polygon fill=\"#fefecd\" stroke=\"transparent\" points=\"71.5,-19 71.5,-31 125.5,-31 125.5,-19 71.5,-19\"/>\n",
       "<polyline fill=\"none\" stroke=\"#000000\" points=\"71.5,-19 125.5,-19 125.5,-31 \"/>\n",
       "<text text-anchor=\"start\" x=\"95.5\" y=\"-22.8\" font-family=\"Helvetica,sans-Serif\" font-size=\"9.00\" fill=\"#444443\">0</text>\n",
       "<polygon fill=\"#fefecd\" stroke=\"transparent\" points=\"125.5,-19 125.5,-31 136.5,-31 136.5,-19 125.5,-19\"/>\n",
       "<polyline fill=\"none\" stroke=\"#000000\" points=\"125.5,-19 136.5,-19 \"/>\n",
       "<text text-anchor=\"start\" x=\"128\" y=\"-22.8\" font-family=\"Helvetica,sans-Serif\" font-size=\"9.00\" fill=\"#444443\">1</text>\n",
       "<polygon fill=\"#fefecd\" stroke=\"transparent\" points=\"71.5,-1 71.5,-19 125.5,-19 125.5,-1 71.5,-1\"/>\n",
       "<polyline fill=\"none\" stroke=\"#000000\" points=\"125.5,-1 125.5,-19 \"/>\n",
       "<text text-anchor=\"start\" x=\"74.5\" y=\"-7.2\" font-family=\"Helvetica,sans-Serif\" font-size=\"11.00\" fill=\"#444443\">&#39;daughter&#39;</text>\n",
       "<polygon fill=\"#fefecd\" stroke=\"transparent\" points=\"125.5,-1 125.5,-19 136.5,-19 136.5,-1 125.5,-1\"/>\n",
       "<text text-anchor=\"start\" x=\"127.5\" y=\"-7.2\" font-family=\"Helvetica,sans-Serif\" font-size=\"11.00\" fill=\"#444443\"> &#160;</text>\n",
       "</g>\n",
       "<!-- node139754578801480&#45;&gt;node139754578173512 -->\n",
       "<g id=\"edge3\" class=\"edge\">\n",
       "<title>node139754578801480:2&#45;&gt;node139754578173512:w</title>\n",
       "<path fill=\"none\" stroke=\"#444443\" stroke-width=\".5\" d=\"M13,-39C38.6293,-39 42.0648,-18.4468 65.2666,-16.1988\"/>\n",
       "<polygon fill=\"#444443\" stroke=\"#444443\" stroke-width=\".5\" points=\"65.5701,-17.5862 69.5,-16 65.4387,-14.7893 65.5701,-17.5862\"/>\n",
       "</g>\n",
       "<!-- node139754864857448 -->\n",
       "<g id=\"node4\" class=\"node\">\n",
       "<title>node139754864857448</title>\n",
       "<polygon fill=\"#fefecd\" stroke=\"#444443\" stroke-width=\".5\" points=\"328,-58 193,-58 193,-40 328,-40 328,-58\"/>\n",
       "<polygon fill=\"#fefecd\" stroke=\"transparent\" points=\"195.5,-42 195.5,-56 230.5,-56 230.5,-42 195.5,-42\"/>\n",
       "<text text-anchor=\"start\" x=\"195.5\" y=\"-46.2\" font-family=\"Helvetica,sans-Serif\" font-size=\"11.00\" fill=\"#444443\">&#39;name&#39; </text>\n",
       "<text text-anchor=\"start\" x=\"230.5\" y=\"-44.8\" font-family=\"Helvetica,sans-Serif\" font-size=\"9.00\" fill=\"#444443\">→</text>\n",
       "<polygon fill=\"#fefecd\" stroke=\"transparent\" points=\"240.5,-42 240.5,-56 326.5,-56 326.5,-42 240.5,-42\"/>\n",
       "<text text-anchor=\"start\" x=\"241.5\" y=\"-46.2\" font-family=\"Helvetica,sans-Serif\" font-size=\"11.00\" fill=\"#444443\"> &#39;Luke Skywalker&#39;</text>\n",
       "</g>\n",
       "<!-- node139754579571144&#45;&gt;node139754864857448 -->\n",
       "<g id=\"edge4\" class=\"edge\">\n",
       "<title>node139754579571144:c&#45;&gt;node139754864857448</title>\n",
       "<path fill=\"none\" stroke=\"#444443\" stroke-width=\".5\" d=\"M121.931,-49C131.5562,-49 159.9836,-49 188.605,-49\"/>\n",
       "<ellipse fill=\"#444443\" stroke=\"#444443\" stroke-width=\".5\" cx=\"120.1\" cy=\"-49\" rx=\"1.6\" ry=\"1.6\"/>\n",
       "<polygon fill=\"#444443\" stroke=\"#444443\" stroke-width=\".5\" points=\"188.8271,-50.4001 192.827,-49 188.827,-47.6001 188.8271,-50.4001\"/>\n",
       "</g>\n",
       "<!-- node139754863124272 -->\n",
       "<g id=\"node6\" class=\"node\">\n",
       "<title>node139754863124272</title>\n",
       "<polygon fill=\"#fefecd\" stroke=\"#444443\" stroke-width=\".5\" points=\"326.5,-19 194.5,-19 194.5,-1 326.5,-1 326.5,-19\"/>\n",
       "<polygon fill=\"#fefecd\" stroke=\"transparent\" points=\"196.5,-3 196.5,-17 231.5,-17 231.5,-3 196.5,-3\"/>\n",
       "<text text-anchor=\"start\" x=\"196.5\" y=\"-7.2\" font-family=\"Helvetica,sans-Serif\" font-size=\"11.00\" fill=\"#444443\">&#39;name&#39; </text>\n",
       "<text text-anchor=\"start\" x=\"231.5\" y=\"-5.8\" font-family=\"Helvetica,sans-Serif\" font-size=\"9.00\" fill=\"#444443\">→</text>\n",
       "<polygon fill=\"#fefecd\" stroke=\"transparent\" points=\"241.5,-3 241.5,-17 324.5,-17 324.5,-3 241.5,-3\"/>\n",
       "<text text-anchor=\"start\" x=\"242.5\" y=\"-7.2\" font-family=\"Helvetica,sans-Serif\" font-size=\"11.00\" fill=\"#444443\"> &#39;Leia Skywalker&#39;</text>\n",
       "</g>\n",
       "<!-- node139754578173512&#45;&gt;node139754863124272 -->\n",
       "<g id=\"edge5\" class=\"edge\">\n",
       "<title>node139754578173512:c&#45;&gt;node139754863124272</title>\n",
       "<path fill=\"none\" stroke=\"#444443\" stroke-width=\".5\" d=\"M134.8471,-10C143.2401,-10 166.239,-10 190.3038,-10\"/>\n",
       "<ellipse fill=\"#444443\" stroke=\"#444443\" stroke-width=\".5\" cx=\"133.1\" cy=\"-10\" rx=\"1.6\" ry=\"1.6\"/>\n",
       "<polygon fill=\"#444443\" stroke=\"#444443\" stroke-width=\".5\" points=\"190.4884,-11.4001 194.4884,-10 190.4884,-8.6001 190.4884,-11.4001\"/>\n",
       "</g>\n",
       "</g>\n",
       "</svg>\n"
      ],
      "text/plain": [
       "<graphviz.files.Source at 0x7f1b2657ea58>"
      ]
     },
     "execution_count": 130,
     "metadata": {},
     "output_type": "execute_result"
    }
   ],
   "source": [
    "viz(anakin.items())"
   ]
  },
  {
   "cell_type": "markdown",
   "metadata": {},
   "source": [
    "For complex numbers for instance?"
   ]
  },
  {
   "cell_type": "code",
   "execution_count": 131,
   "metadata": {
    "ExecuteTime": {
     "end_time": "2021-02-22T21:23:07.388434Z",
     "start_time": "2021-02-22T21:23:07.380331Z"
    }
   },
   "outputs": [],
   "source": [
    "z = 1+4j"
   ]
  },
  {
   "cell_type": "code",
   "execution_count": 132,
   "metadata": {
    "ExecuteTime": {
     "end_time": "2021-02-22T21:23:07.723890Z",
     "start_time": "2021-02-22T21:23:07.716998Z"
    }
   },
   "outputs": [
    {
     "name": "stdout",
     "output_type": "stream",
     "text": [
      "(1+4j)\n"
     ]
    }
   ],
   "source": [
    "print(z)"
   ]
  },
  {
   "cell_type": "code",
   "execution_count": 133,
   "metadata": {
    "ExecuteTime": {
     "end_time": "2021-02-22T21:23:08.148923Z",
     "start_time": "2021-02-22T21:23:08.101786Z"
    }
   },
   "outputs": [
    {
     "data": {
      "image/svg+xml": [
       "<?xml version=\"1.0\" encoding=\"UTF-8\" standalone=\"no\"?>\n",
       "<!DOCTYPE svg PUBLIC \"-//W3C//DTD SVG 1.1//EN\"\n",
       " \"http://www.w3.org/Graphics/SVG/1.1/DTD/svg11.dtd\">\n",
       "<!-- Generated by graphviz version 2.40.1 (20161225.0304)\n",
       " -->\n",
       "<!-- Title: G Pages: 1 -->\n",
       "<svg width=\"80pt\" height=\"22pt\"\n",
       " viewBox=\"0.00 0.00 80.00 22.00\" xmlns=\"http://www.w3.org/2000/svg\" xmlns:xlink=\"http://www.w3.org/1999/xlink\">\n",
       "<g id=\"graph0\" class=\"graph\" transform=\"scale(1 1) rotate(0) translate(4 18)\">\n",
       "<title>G</title>\n",
       "<polygon fill=\"#ffffff\" stroke=\"transparent\" points=\"-4,4 -4,-18 76,-18 76,4 -4,4\"/>\n",
       "<!-- node139754581383056 -->\n",
       "<g id=\"node1\" class=\"node\">\n",
       "<title>node139754581383056</title>\n",
       "<text text-anchor=\"start\" x=\"2\" y=\"-4.8\" font-family=\"Times,serif\" font-style=\"italic\" font-size=\"9.00\" fill=\"#444443\">&lt;complex:(1+4j)&gt;</text>\n",
       "</g>\n",
       "</g>\n",
       "</svg>\n"
      ],
      "text/plain": [
       "<graphviz.files.Source at 0x7f1b3710b080>"
      ]
     },
     "execution_count": 133,
     "metadata": {},
     "output_type": "execute_result"
    }
   ],
   "source": [
    "viz(z)"
   ]
  },
  {
   "cell_type": "markdown",
   "metadata": {},
   "source": [
    "OK, this fails.\n",
    "We could improve `viz` for `complex`, but it's beyond the scope of this small experiment."
   ]
  },
  {
   "cell_type": "markdown",
   "metadata": {},
   "source": [
    "### Calls\n",
    "\n",
    "Let's explore a recursive function:"
   ]
  },
  {
   "cell_type": "code",
   "execution_count": 176,
   "metadata": {
    "ExecuteTime": {
     "end_time": "2021-02-22T21:44:53.950971Z",
     "start_time": "2021-02-22T21:44:53.943638Z"
    }
   },
   "outputs": [],
   "source": [
    "def factorial(n):\n",
    "    if n < 0: return 0\n",
    "    elif n == 0: return 1\n",
    "    else: return n * factorial(n - 1)"
   ]
  },
  {
   "cell_type": "code",
   "execution_count": 177,
   "metadata": {
    "ExecuteTime": {
     "end_time": "2021-02-22T21:44:54.562409Z",
     "start_time": "2021-02-22T21:44:54.558447Z"
    }
   },
   "outputs": [
    {
     "name": "stdout",
     "output_type": "stream",
     "text": [
      " 0! =          1\n",
      " 1! =          1\n",
      " 2! =          2\n",
      " 3! =          6\n",
      " 4! =         24\n",
      " 5! =        120\n",
      " 6! =        720\n",
      " 7! =       5040\n",
      " 8! =      40320\n",
      " 9! =     362880\n",
      "10! =    3628800\n",
      "11! =   39916800\n"
     ]
    }
   ],
   "source": [
    "for n in range(12):\n",
    "    print(f\"{n:>2}! = {factorial(n):>10}\")"
   ]
  },
  {
   "cell_type": "markdown",
   "metadata": {},
   "source": [
    "And now with some visualization:"
   ]
  },
  {
   "cell_type": "code",
   "execution_count": 178,
   "metadata": {
    "ExecuteTime": {
     "end_time": "2021-02-22T21:44:57.235964Z",
     "start_time": "2021-02-22T21:44:57.232955Z"
    }
   },
   "outputs": [],
   "source": [
    "from IPython.display import display"
   ]
  },
  {
   "cell_type": "markdown",
   "metadata": {},
   "source": [
    "This is what `lolviz.callviz` shows:"
   ]
  },
  {
   "cell_type": "code",
   "execution_count": 180,
   "metadata": {
    "ExecuteTime": {
     "end_time": "2021-02-22T21:45:03.300181Z",
     "start_time": "2021-02-22T21:45:02.979466Z"
    }
   },
   "outputs": [
    {
     "data": {
      "image/svg+xml": [
       "<?xml version=\"1.0\" encoding=\"UTF-8\" standalone=\"no\"?>\n",
       "<!DOCTYPE svg PUBLIC \"-//W3C//DTD SVG 1.1//EN\"\n",
       " \"http://www.w3.org/Graphics/SVG/1.1/DTD/svg11.dtd\">\n",
       "<!-- Generated by graphviz version 2.40.1 (20161225.0304)\n",
       " -->\n",
       "<!-- Title: G Pages: 1 -->\n",
       "<svg width=\"57pt\" height=\"42pt\"\n",
       " viewBox=\"0.00 0.00 57.00 42.00\" xmlns=\"http://www.w3.org/2000/svg\" xmlns:xlink=\"http://www.w3.org/1999/xlink\">\n",
       "<g id=\"graph0\" class=\"graph\" transform=\"scale(1 1) rotate(0) translate(4 38)\">\n",
       "<title>G</title>\n",
       "<polygon fill=\"#ffffff\" stroke=\"transparent\" points=\"-4,4 -4,-38 53,-38 53,4 -4,4\"/>\n",
       "<!-- node139754583156104 -->\n",
       "<g id=\"node1\" class=\"node\">\n",
       "<title>node139754583156104</title>\n",
       "<polygon fill=\"#d9e6f5\" stroke=\"#444443\" stroke-width=\".5\" points=\"49,-34 0,-34 0,0 49,0 49,-34\"/>\n",
       "<polygon fill=\"#d9e6f5\" stroke=\"transparent\" points=\"2.5,-18 2.5,-32 47.5,-32 47.5,-18 2.5,-18\"/>\n",
       "<polyline fill=\"none\" stroke=\"#444443\" points=\"2.5,-18 47.5,-18 \"/>\n",
       "<text text-anchor=\"start\" x=\"3.5\" y=\"-22.2\" font-family=\"Times,serif\" font-style=\"italic\" font-size=\"11.00\" fill=\"#444443\">factorial2</text>\n",
       "<polygon fill=\"#d9e6f5\" stroke=\"transparent\" points=\"2.5,-16 2.5,-18 47.5,-18 47.5,-16 2.5,-16\"/>\n",
       "<polygon fill=\"#d9e6f5\" stroke=\"transparent\" points=\"2.5,-2 2.5,-16 24.5,-16 24.5,-2 2.5,-2\"/>\n",
       "<polyline fill=\"none\" stroke=\"#444443\" points=\"24.5,-2 24.5,-16 \"/>\n",
       "<text text-anchor=\"start\" x=\"14.5\" y=\"-6.2\" font-family=\"Times,serif\" font-style=\"italic\" font-size=\"11.00\" fill=\"#444443\">n </text>\n",
       "<polygon fill=\"#d9e6f5\" stroke=\"transparent\" points=\"29.5,-2 29.5,-16 47.5,-16 47.5,-2 29.5,-2\"/>\n",
       "<text text-anchor=\"start\" x=\"30.5\" y=\"-6.2\" font-family=\"Helvetica,sans-Serif\" font-size=\"11.00\" fill=\"#444443\"> 4</text>\n",
       "</g>\n",
       "</g>\n",
       "</svg>\n"
      ],
      "text/plain": [
       "<graphviz.files.Source at 0x7f1b3710bb38>"
      ]
     },
     "metadata": {},
     "output_type": "display_data"
    },
    {
     "data": {
      "image/svg+xml": [
       "<?xml version=\"1.0\" encoding=\"UTF-8\" standalone=\"no\"?>\n",
       "<!DOCTYPE svg PUBLIC \"-//W3C//DTD SVG 1.1//EN\"\n",
       " \"http://www.w3.org/Graphics/SVG/1.1/DTD/svg11.dtd\">\n",
       "<!-- Generated by graphviz version 2.40.1 (20161225.0304)\n",
       " -->\n",
       "<!-- Title: G Pages: 1 -->\n",
       "<svg width=\"57pt\" height=\"42pt\"\n",
       " viewBox=\"0.00 0.00 57.00 42.00\" xmlns=\"http://www.w3.org/2000/svg\" xmlns:xlink=\"http://www.w3.org/1999/xlink\">\n",
       "<g id=\"graph0\" class=\"graph\" transform=\"scale(1 1) rotate(0) translate(4 38)\">\n",
       "<title>G</title>\n",
       "<polygon fill=\"#ffffff\" stroke=\"transparent\" points=\"-4,4 -4,-38 53,-38 53,4 -4,4\"/>\n",
       "<!-- node139755216231048 -->\n",
       "<g id=\"node1\" class=\"node\">\n",
       "<title>node139755216231048</title>\n",
       "<polygon fill=\"#d9e6f5\" stroke=\"#444443\" stroke-width=\".5\" points=\"49,-34 0,-34 0,0 49,0 49,-34\"/>\n",
       "<polygon fill=\"#d9e6f5\" stroke=\"transparent\" points=\"2.5,-18 2.5,-32 47.5,-32 47.5,-18 2.5,-18\"/>\n",
       "<polyline fill=\"none\" stroke=\"#444443\" points=\"2.5,-18 47.5,-18 \"/>\n",
       "<text text-anchor=\"start\" x=\"3.5\" y=\"-22.2\" font-family=\"Times,serif\" font-style=\"italic\" font-size=\"11.00\" fill=\"#444443\">factorial2</text>\n",
       "<polygon fill=\"#d9e6f5\" stroke=\"transparent\" points=\"2.5,-16 2.5,-18 47.5,-18 47.5,-16 2.5,-16\"/>\n",
       "<polygon fill=\"#d9e6f5\" stroke=\"transparent\" points=\"2.5,-2 2.5,-16 24.5,-16 24.5,-2 2.5,-2\"/>\n",
       "<polyline fill=\"none\" stroke=\"#444443\" points=\"24.5,-2 24.5,-16 \"/>\n",
       "<text text-anchor=\"start\" x=\"14.5\" y=\"-6.2\" font-family=\"Times,serif\" font-style=\"italic\" font-size=\"11.00\" fill=\"#444443\">n </text>\n",
       "<polygon fill=\"#d9e6f5\" stroke=\"transparent\" points=\"29.5,-2 29.5,-16 47.5,-16 47.5,-2 29.5,-2\"/>\n",
       "<text text-anchor=\"start\" x=\"30.5\" y=\"-6.2\" font-family=\"Helvetica,sans-Serif\" font-size=\"11.00\" fill=\"#444443\"> 3</text>\n",
       "</g>\n",
       "</g>\n",
       "</svg>\n"
      ],
      "text/plain": [
       "<graphviz.files.Source at 0x7f1b3710bb38>"
      ]
     },
     "metadata": {},
     "output_type": "display_data"
    },
    {
     "data": {
      "image/svg+xml": [
       "<?xml version=\"1.0\" encoding=\"UTF-8\" standalone=\"no\"?>\n",
       "<!DOCTYPE svg PUBLIC \"-//W3C//DTD SVG 1.1//EN\"\n",
       " \"http://www.w3.org/Graphics/SVG/1.1/DTD/svg11.dtd\">\n",
       "<!-- Generated by graphviz version 2.40.1 (20161225.0304)\n",
       " -->\n",
       "<!-- Title: G Pages: 1 -->\n",
       "<svg width=\"57pt\" height=\"42pt\"\n",
       " viewBox=\"0.00 0.00 57.00 42.00\" xmlns=\"http://www.w3.org/2000/svg\" xmlns:xlink=\"http://www.w3.org/1999/xlink\">\n",
       "<g id=\"graph0\" class=\"graph\" transform=\"scale(1 1) rotate(0) translate(4 38)\">\n",
       "<title>G</title>\n",
       "<polygon fill=\"#ffffff\" stroke=\"transparent\" points=\"-4,4 -4,-38 53,-38 53,4 -4,4\"/>\n",
       "<!-- node50772520 -->\n",
       "<g id=\"node1\" class=\"node\">\n",
       "<title>node50772520</title>\n",
       "<polygon fill=\"#d9e6f5\" stroke=\"#444443\" stroke-width=\".5\" points=\"49,-34 0,-34 0,0 49,0 49,-34\"/>\n",
       "<polygon fill=\"#d9e6f5\" stroke=\"transparent\" points=\"2.5,-18 2.5,-32 47.5,-32 47.5,-18 2.5,-18\"/>\n",
       "<polyline fill=\"none\" stroke=\"#444443\" points=\"2.5,-18 47.5,-18 \"/>\n",
       "<text text-anchor=\"start\" x=\"3.5\" y=\"-22.2\" font-family=\"Times,serif\" font-style=\"italic\" font-size=\"11.00\" fill=\"#444443\">factorial2</text>\n",
       "<polygon fill=\"#d9e6f5\" stroke=\"transparent\" points=\"2.5,-16 2.5,-18 47.5,-18 47.5,-16 2.5,-16\"/>\n",
       "<polygon fill=\"#d9e6f5\" stroke=\"transparent\" points=\"2.5,-2 2.5,-16 24.5,-16 24.5,-2 2.5,-2\"/>\n",
       "<polyline fill=\"none\" stroke=\"#444443\" points=\"24.5,-2 24.5,-16 \"/>\n",
       "<text text-anchor=\"start\" x=\"14.5\" y=\"-6.2\" font-family=\"Times,serif\" font-style=\"italic\" font-size=\"11.00\" fill=\"#444443\">n </text>\n",
       "<polygon fill=\"#d9e6f5\" stroke=\"transparent\" points=\"29.5,-2 29.5,-16 47.5,-16 47.5,-2 29.5,-2\"/>\n",
       "<text text-anchor=\"start\" x=\"30.5\" y=\"-6.2\" font-family=\"Helvetica,sans-Serif\" font-size=\"11.00\" fill=\"#444443\"> 2</text>\n",
       "</g>\n",
       "</g>\n",
       "</svg>\n"
      ],
      "text/plain": [
       "<graphviz.files.Source at 0x7f1b2601e780>"
      ]
     },
     "metadata": {},
     "output_type": "display_data"
    },
    {
     "data": {
      "image/svg+xml": [
       "<?xml version=\"1.0\" encoding=\"UTF-8\" standalone=\"no\"?>\n",
       "<!DOCTYPE svg PUBLIC \"-//W3C//DTD SVG 1.1//EN\"\n",
       " \"http://www.w3.org/Graphics/SVG/1.1/DTD/svg11.dtd\">\n",
       "<!-- Generated by graphviz version 2.40.1 (20161225.0304)\n",
       " -->\n",
       "<!-- Title: G Pages: 1 -->\n",
       "<svg width=\"57pt\" height=\"42pt\"\n",
       " viewBox=\"0.00 0.00 57.00 42.00\" xmlns=\"http://www.w3.org/2000/svg\" xmlns:xlink=\"http://www.w3.org/1999/xlink\">\n",
       "<g id=\"graph0\" class=\"graph\" transform=\"scale(1 1) rotate(0) translate(4 38)\">\n",
       "<title>G</title>\n",
       "<polygon fill=\"#ffffff\" stroke=\"transparent\" points=\"-4,4 -4,-38 53,-38 53,4 -4,4\"/>\n",
       "<!-- node51975112 -->\n",
       "<g id=\"node1\" class=\"node\">\n",
       "<title>node51975112</title>\n",
       "<polygon fill=\"#d9e6f5\" stroke=\"#444443\" stroke-width=\".5\" points=\"49,-34 0,-34 0,0 49,0 49,-34\"/>\n",
       "<polygon fill=\"#d9e6f5\" stroke=\"transparent\" points=\"2.5,-18 2.5,-32 47.5,-32 47.5,-18 2.5,-18\"/>\n",
       "<polyline fill=\"none\" stroke=\"#444443\" points=\"2.5,-18 47.5,-18 \"/>\n",
       "<text text-anchor=\"start\" x=\"3.5\" y=\"-22.2\" font-family=\"Times,serif\" font-style=\"italic\" font-size=\"11.00\" fill=\"#444443\">factorial2</text>\n",
       "<polygon fill=\"#d9e6f5\" stroke=\"transparent\" points=\"2.5,-16 2.5,-18 47.5,-18 47.5,-16 2.5,-16\"/>\n",
       "<polygon fill=\"#d9e6f5\" stroke=\"transparent\" points=\"2.5,-2 2.5,-16 24.5,-16 24.5,-2 2.5,-2\"/>\n",
       "<polyline fill=\"none\" stroke=\"#444443\" points=\"24.5,-2 24.5,-16 \"/>\n",
       "<text text-anchor=\"start\" x=\"14.5\" y=\"-6.2\" font-family=\"Times,serif\" font-style=\"italic\" font-size=\"11.00\" fill=\"#444443\">n </text>\n",
       "<polygon fill=\"#d9e6f5\" stroke=\"transparent\" points=\"29.5,-2 29.5,-16 47.5,-16 47.5,-2 29.5,-2\"/>\n",
       "<text text-anchor=\"start\" x=\"30.5\" y=\"-6.2\" font-family=\"Helvetica,sans-Serif\" font-size=\"11.00\" fill=\"#444443\"> 1</text>\n",
       "</g>\n",
       "</g>\n",
       "</svg>\n"
      ],
      "text/plain": [
       "<graphviz.files.Source at 0x7f1b3710b128>"
      ]
     },
     "metadata": {},
     "output_type": "display_data"
    },
    {
     "data": {
      "image/svg+xml": [
       "<?xml version=\"1.0\" encoding=\"UTF-8\" standalone=\"no\"?>\n",
       "<!DOCTYPE svg PUBLIC \"-//W3C//DTD SVG 1.1//EN\"\n",
       " \"http://www.w3.org/Graphics/SVG/1.1/DTD/svg11.dtd\">\n",
       "<!-- Generated by graphviz version 2.40.1 (20161225.0304)\n",
       " -->\n",
       "<!-- Title: G Pages: 1 -->\n",
       "<svg width=\"57pt\" height=\"42pt\"\n",
       " viewBox=\"0.00 0.00 57.00 42.00\" xmlns=\"http://www.w3.org/2000/svg\" xmlns:xlink=\"http://www.w3.org/1999/xlink\">\n",
       "<g id=\"graph0\" class=\"graph\" transform=\"scale(1 1) rotate(0) translate(4 38)\">\n",
       "<title>G</title>\n",
       "<polygon fill=\"#ffffff\" stroke=\"transparent\" points=\"-4,4 -4,-38 53,-38 53,4 -4,4\"/>\n",
       "<!-- node52305768 -->\n",
       "<g id=\"node1\" class=\"node\">\n",
       "<title>node52305768</title>\n",
       "<polygon fill=\"#d9e6f5\" stroke=\"#444443\" stroke-width=\".5\" points=\"49,-34 0,-34 0,0 49,0 49,-34\"/>\n",
       "<polygon fill=\"#d9e6f5\" stroke=\"transparent\" points=\"2.5,-18 2.5,-32 47.5,-32 47.5,-18 2.5,-18\"/>\n",
       "<polyline fill=\"none\" stroke=\"#444443\" points=\"2.5,-18 47.5,-18 \"/>\n",
       "<text text-anchor=\"start\" x=\"3.5\" y=\"-22.2\" font-family=\"Times,serif\" font-style=\"italic\" font-size=\"11.00\" fill=\"#444443\">factorial2</text>\n",
       "<polygon fill=\"#d9e6f5\" stroke=\"transparent\" points=\"2.5,-16 2.5,-18 47.5,-18 47.5,-16 2.5,-16\"/>\n",
       "<polygon fill=\"#d9e6f5\" stroke=\"transparent\" points=\"2.5,-2 2.5,-16 24.5,-16 24.5,-2 2.5,-2\"/>\n",
       "<polyline fill=\"none\" stroke=\"#444443\" points=\"24.5,-2 24.5,-16 \"/>\n",
       "<text text-anchor=\"start\" x=\"14.5\" y=\"-6.2\" font-family=\"Times,serif\" font-style=\"italic\" font-size=\"11.00\" fill=\"#444443\">n </text>\n",
       "<polygon fill=\"#d9e6f5\" stroke=\"transparent\" points=\"29.5,-2 29.5,-16 47.5,-16 47.5,-2 29.5,-2\"/>\n",
       "<text text-anchor=\"start\" x=\"30.5\" y=\"-6.2\" font-family=\"Helvetica,sans-Serif\" font-size=\"11.00\" fill=\"#444443\"> 0</text>\n",
       "</g>\n",
       "</g>\n",
       "</svg>\n"
      ],
      "text/plain": [
       "<graphviz.files.Source at 0x7f1b3710b128>"
      ]
     },
     "metadata": {},
     "output_type": "display_data"
    },
    {
     "name": "stdout",
     "output_type": "stream",
     "text": [
      " 4! =         24\n"
     ]
    }
   ],
   "source": [
    "def factorial2(n):\n",
    "    display(lolviz.callviz(varnames=[\"n\"]))\n",
    "    if n < 0: return 0\n",
    "    elif n == 0: return 1\n",
    "    else: return n * factorial2(n - 1)\n",
    "    \n",
    "n = 4\n",
    "print(f\"{n:>2}! = {factorial2(n):>10}\")"
   ]
  },
  {
   "cell_type": "markdown",
   "metadata": {},
   "source": [
    "We really see the \"call stack\" as the system keeps track of the nested calls. I like that! 👌\n",
    "\n",
    "But again, I'm lazy, I want to just use the `viz` function:"
   ]
  },
  {
   "cell_type": "code",
   "execution_count": 181,
   "metadata": {
    "ExecuteTime": {
     "end_time": "2021-02-22T21:45:14.434563Z",
     "start_time": "2021-02-22T21:45:14.427343Z"
    }
   },
   "outputs": [],
   "source": [
    "def factorial3(n):\n",
    "    display(viz(varnames=[\"n\"], mode=\"call\"))\n",
    "    if n < 0: return 0\n",
    "    elif n == 0: return 1\n",
    "    else: return n * factorial3(n - 1)"
   ]
  },
  {
   "cell_type": "code",
   "execution_count": 183,
   "metadata": {
    "ExecuteTime": {
     "end_time": "2021-02-22T21:45:19.367780Z",
     "start_time": "2021-02-22T21:45:19.094960Z"
    }
   },
   "outputs": [
    {
     "data": {
      "image/svg+xml": [
       "<?xml version=\"1.0\" encoding=\"UTF-8\" standalone=\"no\"?>\n",
       "<!DOCTYPE svg PUBLIC \"-//W3C//DTD SVG 1.1//EN\"\n",
       " \"http://www.w3.org/Graphics/SVG/1.1/DTD/svg11.dtd\">\n",
       "<!-- Generated by graphviz version 2.40.1 (20161225.0304)\n",
       " -->\n",
       "<!-- Title: G Pages: 1 -->\n",
       "<svg width=\"57pt\" height=\"42pt\"\n",
       " viewBox=\"0.00 0.00 57.00 42.00\" xmlns=\"http://www.w3.org/2000/svg\" xmlns:xlink=\"http://www.w3.org/1999/xlink\">\n",
       "<g id=\"graph0\" class=\"graph\" transform=\"scale(1 1) rotate(0) translate(4 38)\">\n",
       "<title>G</title>\n",
       "<polygon fill=\"#ffffff\" stroke=\"transparent\" points=\"-4,4 -4,-38 53,-38 53,4 -4,4\"/>\n",
       "<!-- node139754858422344 -->\n",
       "<g id=\"node1\" class=\"node\">\n",
       "<title>node139754858422344</title>\n",
       "<polygon fill=\"#d9e6f5\" stroke=\"#444443\" stroke-width=\".5\" points=\"49,-34 0,-34 0,0 49,0 49,-34\"/>\n",
       "<polygon fill=\"#d9e6f5\" stroke=\"transparent\" points=\"2.5,-18 2.5,-32 47.5,-32 47.5,-18 2.5,-18\"/>\n",
       "<polyline fill=\"none\" stroke=\"#444443\" points=\"2.5,-18 47.5,-18 \"/>\n",
       "<text text-anchor=\"start\" x=\"3.5\" y=\"-22.2\" font-family=\"Times,serif\" font-style=\"italic\" font-size=\"11.00\" fill=\"#444443\">factorial3</text>\n",
       "<polygon fill=\"#d9e6f5\" stroke=\"transparent\" points=\"2.5,-16 2.5,-18 47.5,-18 47.5,-16 2.5,-16\"/>\n",
       "<polygon fill=\"#d9e6f5\" stroke=\"transparent\" points=\"2.5,-2 2.5,-16 24.5,-16 24.5,-2 2.5,-2\"/>\n",
       "<polyline fill=\"none\" stroke=\"#444443\" points=\"24.5,-2 24.5,-16 \"/>\n",
       "<text text-anchor=\"start\" x=\"14.5\" y=\"-6.2\" font-family=\"Times,serif\" font-style=\"italic\" font-size=\"11.00\" fill=\"#444443\">n </text>\n",
       "<polygon fill=\"#d9e6f5\" stroke=\"transparent\" points=\"29.5,-2 29.5,-16 47.5,-16 47.5,-2 29.5,-2\"/>\n",
       "<text text-anchor=\"start\" x=\"30.5\" y=\"-6.2\" font-family=\"Helvetica,sans-Serif\" font-size=\"11.00\" fill=\"#444443\"> 4</text>\n",
       "</g>\n",
       "</g>\n",
       "</svg>\n"
      ],
      "text/plain": [
       "<graphviz.files.Source at 0x7f1b26000048>"
      ]
     },
     "metadata": {},
     "output_type": "display_data"
    },
    {
     "data": {
      "image/svg+xml": [
       "<?xml version=\"1.0\" encoding=\"UTF-8\" standalone=\"no\"?>\n",
       "<!DOCTYPE svg PUBLIC \"-//W3C//DTD SVG 1.1//EN\"\n",
       " \"http://www.w3.org/Graphics/SVG/1.1/DTD/svg11.dtd\">\n",
       "<!-- Generated by graphviz version 2.40.1 (20161225.0304)\n",
       " -->\n",
       "<!-- Title: G Pages: 1 -->\n",
       "<svg width=\"57pt\" height=\"42pt\"\n",
       " viewBox=\"0.00 0.00 57.00 42.00\" xmlns=\"http://www.w3.org/2000/svg\" xmlns:xlink=\"http://www.w3.org/1999/xlink\">\n",
       "<g id=\"graph0\" class=\"graph\" transform=\"scale(1 1) rotate(0) translate(4 38)\">\n",
       "<title>G</title>\n",
       "<polygon fill=\"#ffffff\" stroke=\"transparent\" points=\"-4,4 -4,-38 53,-38 53,4 -4,4\"/>\n",
       "<!-- node52010408 -->\n",
       "<g id=\"node1\" class=\"node\">\n",
       "<title>node52010408</title>\n",
       "<polygon fill=\"#d9e6f5\" stroke=\"#444443\" stroke-width=\".5\" points=\"49,-34 0,-34 0,0 49,0 49,-34\"/>\n",
       "<polygon fill=\"#d9e6f5\" stroke=\"transparent\" points=\"2.5,-18 2.5,-32 47.5,-32 47.5,-18 2.5,-18\"/>\n",
       "<polyline fill=\"none\" stroke=\"#444443\" points=\"2.5,-18 47.5,-18 \"/>\n",
       "<text text-anchor=\"start\" x=\"3.5\" y=\"-22.2\" font-family=\"Times,serif\" font-style=\"italic\" font-size=\"11.00\" fill=\"#444443\">factorial3</text>\n",
       "<polygon fill=\"#d9e6f5\" stroke=\"transparent\" points=\"2.5,-16 2.5,-18 47.5,-18 47.5,-16 2.5,-16\"/>\n",
       "<polygon fill=\"#d9e6f5\" stroke=\"transparent\" points=\"2.5,-2 2.5,-16 24.5,-16 24.5,-2 2.5,-2\"/>\n",
       "<polyline fill=\"none\" stroke=\"#444443\" points=\"24.5,-2 24.5,-16 \"/>\n",
       "<text text-anchor=\"start\" x=\"14.5\" y=\"-6.2\" font-family=\"Times,serif\" font-style=\"italic\" font-size=\"11.00\" fill=\"#444443\">n </text>\n",
       "<polygon fill=\"#d9e6f5\" stroke=\"transparent\" points=\"29.5,-2 29.5,-16 47.5,-16 47.5,-2 29.5,-2\"/>\n",
       "<text text-anchor=\"start\" x=\"30.5\" y=\"-6.2\" font-family=\"Helvetica,sans-Serif\" font-size=\"11.00\" fill=\"#444443\"> 3</text>\n",
       "</g>\n",
       "</g>\n",
       "</svg>\n"
      ],
      "text/plain": [
       "<graphviz.files.Source at 0x7f1b26000048>"
      ]
     },
     "metadata": {},
     "output_type": "display_data"
    },
    {
     "data": {
      "image/svg+xml": [
       "<?xml version=\"1.0\" encoding=\"UTF-8\" standalone=\"no\"?>\n",
       "<!DOCTYPE svg PUBLIC \"-//W3C//DTD SVG 1.1//EN\"\n",
       " \"http://www.w3.org/Graphics/SVG/1.1/DTD/svg11.dtd\">\n",
       "<!-- Generated by graphviz version 2.40.1 (20161225.0304)\n",
       " -->\n",
       "<!-- Title: G Pages: 1 -->\n",
       "<svg width=\"57pt\" height=\"42pt\"\n",
       " viewBox=\"0.00 0.00 57.00 42.00\" xmlns=\"http://www.w3.org/2000/svg\" xmlns:xlink=\"http://www.w3.org/1999/xlink\">\n",
       "<g id=\"graph0\" class=\"graph\" transform=\"scale(1 1) rotate(0) translate(4 38)\">\n",
       "<title>G</title>\n",
       "<polygon fill=\"#ffffff\" stroke=\"transparent\" points=\"-4,4 -4,-38 53,-38 53,4 -4,4\"/>\n",
       "<!-- node139755216156424 -->\n",
       "<g id=\"node1\" class=\"node\">\n",
       "<title>node139755216156424</title>\n",
       "<polygon fill=\"#d9e6f5\" stroke=\"#444443\" stroke-width=\".5\" points=\"49,-34 0,-34 0,0 49,0 49,-34\"/>\n",
       "<polygon fill=\"#d9e6f5\" stroke=\"transparent\" points=\"2.5,-18 2.5,-32 47.5,-32 47.5,-18 2.5,-18\"/>\n",
       "<polyline fill=\"none\" stroke=\"#444443\" points=\"2.5,-18 47.5,-18 \"/>\n",
       "<text text-anchor=\"start\" x=\"3.5\" y=\"-22.2\" font-family=\"Times,serif\" font-style=\"italic\" font-size=\"11.00\" fill=\"#444443\">factorial3</text>\n",
       "<polygon fill=\"#d9e6f5\" stroke=\"transparent\" points=\"2.5,-16 2.5,-18 47.5,-18 47.5,-16 2.5,-16\"/>\n",
       "<polygon fill=\"#d9e6f5\" stroke=\"transparent\" points=\"2.5,-2 2.5,-16 24.5,-16 24.5,-2 2.5,-2\"/>\n",
       "<polyline fill=\"none\" stroke=\"#444443\" points=\"24.5,-2 24.5,-16 \"/>\n",
       "<text text-anchor=\"start\" x=\"14.5\" y=\"-6.2\" font-family=\"Times,serif\" font-style=\"italic\" font-size=\"11.00\" fill=\"#444443\">n </text>\n",
       "<polygon fill=\"#d9e6f5\" stroke=\"transparent\" points=\"29.5,-2 29.5,-16 47.5,-16 47.5,-2 29.5,-2\"/>\n",
       "<text text-anchor=\"start\" x=\"30.5\" y=\"-6.2\" font-family=\"Helvetica,sans-Serif\" font-size=\"11.00\" fill=\"#444443\"> 2</text>\n",
       "</g>\n",
       "</g>\n",
       "</svg>\n"
      ],
      "text/plain": [
       "<graphviz.files.Source at 0x7f1b26000048>"
      ]
     },
     "metadata": {},
     "output_type": "display_data"
    },
    {
     "data": {
      "image/svg+xml": [
       "<?xml version=\"1.0\" encoding=\"UTF-8\" standalone=\"no\"?>\n",
       "<!DOCTYPE svg PUBLIC \"-//W3C//DTD SVG 1.1//EN\"\n",
       " \"http://www.w3.org/Graphics/SVG/1.1/DTD/svg11.dtd\">\n",
       "<!-- Generated by graphviz version 2.40.1 (20161225.0304)\n",
       " -->\n",
       "<!-- Title: G Pages: 1 -->\n",
       "<svg width=\"57pt\" height=\"42pt\"\n",
       " viewBox=\"0.00 0.00 57.00 42.00\" xmlns=\"http://www.w3.org/2000/svg\" xmlns:xlink=\"http://www.w3.org/1999/xlink\">\n",
       "<g id=\"graph0\" class=\"graph\" transform=\"scale(1 1) rotate(0) translate(4 38)\">\n",
       "<title>G</title>\n",
       "<polygon fill=\"#ffffff\" stroke=\"transparent\" points=\"-4,4 -4,-38 53,-38 53,4 -4,4\"/>\n",
       "<!-- node51838072 -->\n",
       "<g id=\"node1\" class=\"node\">\n",
       "<title>node51838072</title>\n",
       "<polygon fill=\"#d9e6f5\" stroke=\"#444443\" stroke-width=\".5\" points=\"49,-34 0,-34 0,0 49,0 49,-34\"/>\n",
       "<polygon fill=\"#d9e6f5\" stroke=\"transparent\" points=\"2.5,-18 2.5,-32 47.5,-32 47.5,-18 2.5,-18\"/>\n",
       "<polyline fill=\"none\" stroke=\"#444443\" points=\"2.5,-18 47.5,-18 \"/>\n",
       "<text text-anchor=\"start\" x=\"3.5\" y=\"-22.2\" font-family=\"Times,serif\" font-style=\"italic\" font-size=\"11.00\" fill=\"#444443\">factorial3</text>\n",
       "<polygon fill=\"#d9e6f5\" stroke=\"transparent\" points=\"2.5,-16 2.5,-18 47.5,-18 47.5,-16 2.5,-16\"/>\n",
       "<polygon fill=\"#d9e6f5\" stroke=\"transparent\" points=\"2.5,-2 2.5,-16 24.5,-16 24.5,-2 2.5,-2\"/>\n",
       "<polyline fill=\"none\" stroke=\"#444443\" points=\"24.5,-2 24.5,-16 \"/>\n",
       "<text text-anchor=\"start\" x=\"14.5\" y=\"-6.2\" font-family=\"Times,serif\" font-style=\"italic\" font-size=\"11.00\" fill=\"#444443\">n </text>\n",
       "<polygon fill=\"#d9e6f5\" stroke=\"transparent\" points=\"29.5,-2 29.5,-16 47.5,-16 47.5,-2 29.5,-2\"/>\n",
       "<text text-anchor=\"start\" x=\"30.5\" y=\"-6.2\" font-family=\"Helvetica,sans-Serif\" font-size=\"11.00\" fill=\"#444443\"> 1</text>\n",
       "</g>\n",
       "</g>\n",
       "</svg>\n"
      ],
      "text/plain": [
       "<graphviz.files.Source at 0x7f1b26000048>"
      ]
     },
     "metadata": {},
     "output_type": "display_data"
    },
    {
     "data": {
      "image/svg+xml": [
       "<?xml version=\"1.0\" encoding=\"UTF-8\" standalone=\"no\"?>\n",
       "<!DOCTYPE svg PUBLIC \"-//W3C//DTD SVG 1.1//EN\"\n",
       " \"http://www.w3.org/Graphics/SVG/1.1/DTD/svg11.dtd\">\n",
       "<!-- Generated by graphviz version 2.40.1 (20161225.0304)\n",
       " -->\n",
       "<!-- Title: G Pages: 1 -->\n",
       "<svg width=\"57pt\" height=\"42pt\"\n",
       " viewBox=\"0.00 0.00 57.00 42.00\" xmlns=\"http://www.w3.org/2000/svg\" xmlns:xlink=\"http://www.w3.org/1999/xlink\">\n",
       "<g id=\"graph0\" class=\"graph\" transform=\"scale(1 1) rotate(0) translate(4 38)\">\n",
       "<title>G</title>\n",
       "<polygon fill=\"#ffffff\" stroke=\"transparent\" points=\"-4,4 -4,-38 53,-38 53,4 -4,4\"/>\n",
       "<!-- node51345896 -->\n",
       "<g id=\"node1\" class=\"node\">\n",
       "<title>node51345896</title>\n",
       "<polygon fill=\"#d9e6f5\" stroke=\"#444443\" stroke-width=\".5\" points=\"49,-34 0,-34 0,0 49,0 49,-34\"/>\n",
       "<polygon fill=\"#d9e6f5\" stroke=\"transparent\" points=\"2.5,-18 2.5,-32 47.5,-32 47.5,-18 2.5,-18\"/>\n",
       "<polyline fill=\"none\" stroke=\"#444443\" points=\"2.5,-18 47.5,-18 \"/>\n",
       "<text text-anchor=\"start\" x=\"3.5\" y=\"-22.2\" font-family=\"Times,serif\" font-style=\"italic\" font-size=\"11.00\" fill=\"#444443\">factorial3</text>\n",
       "<polygon fill=\"#d9e6f5\" stroke=\"transparent\" points=\"2.5,-16 2.5,-18 47.5,-18 47.5,-16 2.5,-16\"/>\n",
       "<polygon fill=\"#d9e6f5\" stroke=\"transparent\" points=\"2.5,-2 2.5,-16 24.5,-16 24.5,-2 2.5,-2\"/>\n",
       "<polyline fill=\"none\" stroke=\"#444443\" points=\"24.5,-2 24.5,-16 \"/>\n",
       "<text text-anchor=\"start\" x=\"14.5\" y=\"-6.2\" font-family=\"Times,serif\" font-style=\"italic\" font-size=\"11.00\" fill=\"#444443\">n </text>\n",
       "<polygon fill=\"#d9e6f5\" stroke=\"transparent\" points=\"29.5,-2 29.5,-16 47.5,-16 47.5,-2 29.5,-2\"/>\n",
       "<text text-anchor=\"start\" x=\"30.5\" y=\"-6.2\" font-family=\"Helvetica,sans-Serif\" font-size=\"11.00\" fill=\"#444443\"> 0</text>\n",
       "</g>\n",
       "</g>\n",
       "</svg>\n"
      ],
      "text/plain": [
       "<graphviz.files.Source at 0x7f1b26000048>"
      ]
     },
     "metadata": {},
     "output_type": "display_data"
    },
    {
     "name": "stdout",
     "output_type": "stream",
     "text": [
      "4! = 24\n"
     ]
    }
   ],
   "source": [
    "n = 4\n",
    "print(f\"{n}! = {factorial3(n)}\")"
   ]
  },
  {
   "cell_type": "markdown",
   "metadata": {},
   "source": [
    "Okay, by using the optional `frame=` argument of `lolviz.callviz`, and some `sys._getframe` black magic, we can do this!\n",
    "\n",
    "> See <https://code.activestate.com/recipes/579105-how-a-python-function-can-find-the-name-of-its-cal/>"
   ]
  },
  {
   "cell_type": "markdown",
   "metadata": {},
   "source": [
    "Can we write a `@show_recursion` function decorator, to automatically do this visualization of recursive calls for us?"
   ]
  },
  {
   "cell_type": "code",
   "execution_count": 274,
   "metadata": {
    "ExecuteTime": {
     "end_time": "2021-02-22T22:06:23.681497Z",
     "start_time": "2021-02-22T22:06:23.676355Z"
    }
   },
   "outputs": [],
   "source": [
    "def show_recursion(varnames=None):\n",
    "    def showing_recursion_with_varnames(function):\n",
    "        nonlocal varnames\n",
    "        # https://stackoverflow.com/questions/582056/getting-list-of-parameter-names-inside-python-function#4051447\n",
    "        if varnames is None:\n",
    "            varnames = function.__code__.co_varnames\n",
    "        import lolviz\n",
    "        from IPython.display import display\n",
    "        from functools import wraps\n",
    "        @wraps(function)\n",
    "        def wrapped_function(*args, **kwargs):\n",
    "            nonlocal display, wraps, varnames, lolviz\n",
    "            ##print(f\"args = {args}, of type = {type(args)}\")\n",
    "            ##print(f\"kwargs = {kwargs}, of type = {type(kwargs)}\")\n",
    "            #print(f\"varnames = {varnames}\")\n",
    "            display(lolviz.callsviz(varnames=varnames))\n",
    "            return function(*args, **kwargs)\n",
    "        return wrapped_function\n",
    "    return showing_recursion_with_varnames"
   ]
  },
  {
   "cell_type": "code",
   "execution_count": 275,
   "metadata": {
    "ExecuteTime": {
     "end_time": "2021-02-22T22:06:33.593612Z",
     "start_time": "2021-02-22T22:06:33.044487Z"
    },
    "scrolled": false
   },
   "outputs": [
    {
     "data": {
      "image/svg+xml": [
       "<?xml version=\"1.0\" encoding=\"UTF-8\" standalone=\"no\"?>\n",
       "<!DOCTYPE svg PUBLIC \"-//W3C//DTD SVG 1.1//EN\"\n",
       " \"http://www.w3.org/Graphics/SVG/1.1/DTD/svg11.dtd\">\n",
       "<!-- Generated by graphviz version 2.40.1 (20161225.0304)\n",
       " -->\n",
       "<!-- Title: G Pages: 1 -->\n",
       "<svg width=\"93pt\" height=\"79pt\"\n",
       " viewBox=\"0.00 0.00 93.00 79.00\" xmlns=\"http://www.w3.org/2000/svg\" xmlns:xlink=\"http://www.w3.org/1999/xlink\">\n",
       "<g id=\"graph0\" class=\"graph\" transform=\"scale(1 1) rotate(0) translate(4 75)\">\n",
       "<title>G</title>\n",
       "<polygon fill=\"#ffffff\" stroke=\"transparent\" points=\"-4,4 -4,-75 89,-75 89,4 -4,4\"/>\n",
       "<!-- node52368264 -->\n",
       "<g id=\"node1\" class=\"node\">\n",
       "<title>node52368264</title>\n",
       "<polygon fill=\"#d9e6f5\" stroke=\"#444443\" stroke-width=\".5\" points=\"61.5,-71 23.5,-71 23.5,-37 61.5,-37 61.5,-71\"/>\n",
       "<polygon fill=\"#d9e6f5\" stroke=\"transparent\" points=\"25.5,-55 25.5,-69 59.5,-69 59.5,-55 25.5,-55\"/>\n",
       "<polyline fill=\"none\" stroke=\"#444443\" points=\"25.5,-55 59.5,-55 \"/>\n",
       "<text text-anchor=\"start\" x=\"26.5\" y=\"-59.2\" font-family=\"Times,serif\" font-style=\"italic\" font-size=\"11.00\" fill=\"#444443\">globals</text>\n",
       "<polygon fill=\"#d9e6f5\" stroke=\"transparent\" points=\"25.5,-53 25.5,-55 59.5,-55 59.5,-53 25.5,-53\"/>\n",
       "<polygon fill=\"#d9e6f5\" stroke=\"transparent\" points=\"25.5,-39 25.5,-53 42.5,-53 42.5,-39 25.5,-39\"/>\n",
       "<polyline fill=\"none\" stroke=\"#444443\" points=\"42.5,-39 42.5,-53 \"/>\n",
       "<text text-anchor=\"start\" x=\"31.5\" y=\"-43.2\" font-family=\"Helvetica,sans-Serif\" font-size=\"11.00\" fill=\"#444443\">n </text>\n",
       "<polygon fill=\"#d9e6f5\" stroke=\"transparent\" points=\"44.5,-39 44.5,-53 59.5,-53 59.5,-39 44.5,-39\"/>\n",
       "<text text-anchor=\"start\" x=\"45.5\" y=\"-43.2\" font-family=\"Helvetica,sans-Serif\" font-size=\"11.00\" fill=\"#444443\"> 4</text>\n",
       "</g>\n",
       "<!-- node52300856 -->\n",
       "<g id=\"node2\" class=\"node\">\n",
       "<title>node52300856</title>\n",
       "<polygon fill=\"#d9e6f5\" stroke=\"#444443\" stroke-width=\".5\" points=\"85,-30 0,-30 0,0 85,0 85,-30\"/>\n",
       "<polygon fill=\"#d9e6f5\" stroke=\"transparent\" points=\"2.5,-14 2.5,-28 83.5,-28 83.5,-14 2.5,-14\"/>\n",
       "<polyline fill=\"none\" stroke=\"#444443\" points=\"2.5,-14 83.5,-14 \"/>\n",
       "<text text-anchor=\"start\" x=\"3.5\" y=\"-18.2\" font-family=\"Times,serif\" font-style=\"italic\" font-size=\"11.00\" fill=\"#444443\">wrapped_function</text>\n",
       "<polygon fill=\"#d9e6f5\" stroke=\"transparent\" points=\"2.5,-12 2.5,-14 83.5,-14 83.5,-12 2.5,-12\"/>\n",
       "<text text-anchor=\"start\" x=\"19.5\" y=\"-4.8\" font-family=\"Helvetica,sans-Serif\" font-size=\"9.00\" fill=\"#444443\"> ... </text>\n",
       "</g>\n",
       "<!-- node52368264&#45;&gt;node52300856 -->\n",
       "</g>\n",
       "</svg>\n"
      ],
      "text/plain": [
       "<graphviz.files.Source at 0x7f1b260002e8>"
      ]
     },
     "metadata": {},
     "output_type": "display_data"
    },
    {
     "data": {
      "image/svg+xml": [
       "<?xml version=\"1.0\" encoding=\"UTF-8\" standalone=\"no\"?>\n",
       "<!DOCTYPE svg PUBLIC \"-//W3C//DTD SVG 1.1//EN\"\n",
       " \"http://www.w3.org/Graphics/SVG/1.1/DTD/svg11.dtd\">\n",
       "<!-- Generated by graphviz version 2.40.1 (20161225.0304)\n",
       " -->\n",
       "<!-- Title: G Pages: 1 -->\n",
       "<svg width=\"93pt\" height=\"189pt\"\n",
       " viewBox=\"0.00 0.00 93.00 189.00\" xmlns=\"http://www.w3.org/2000/svg\" xmlns:xlink=\"http://www.w3.org/1999/xlink\">\n",
       "<g id=\"graph0\" class=\"graph\" transform=\"scale(1 1) rotate(0) translate(4 185)\">\n",
       "<title>G</title>\n",
       "<polygon fill=\"#ffffff\" stroke=\"transparent\" points=\"-4,4 -4,-185 89,-185 89,4 -4,4\"/>\n",
       "<!-- node52368264 -->\n",
       "<g id=\"node1\" class=\"node\">\n",
       "<title>node52368264</title>\n",
       "<polygon fill=\"#d9e6f5\" stroke=\"#444443\" stroke-width=\".5\" points=\"61.5,-181 23.5,-181 23.5,-147 61.5,-147 61.5,-181\"/>\n",
       "<polygon fill=\"#d9e6f5\" stroke=\"transparent\" points=\"25.5,-165 25.5,-179 59.5,-179 59.5,-165 25.5,-165\"/>\n",
       "<polyline fill=\"none\" stroke=\"#444443\" points=\"25.5,-165 59.5,-165 \"/>\n",
       "<text text-anchor=\"start\" x=\"26.5\" y=\"-169.2\" font-family=\"Times,serif\" font-style=\"italic\" font-size=\"11.00\" fill=\"#444443\">globals</text>\n",
       "<polygon fill=\"#d9e6f5\" stroke=\"transparent\" points=\"25.5,-163 25.5,-165 59.5,-165 59.5,-163 25.5,-163\"/>\n",
       "<polygon fill=\"#d9e6f5\" stroke=\"transparent\" points=\"25.5,-149 25.5,-163 42.5,-163 42.5,-149 25.5,-149\"/>\n",
       "<polyline fill=\"none\" stroke=\"#444443\" points=\"42.5,-149 42.5,-163 \"/>\n",
       "<text text-anchor=\"start\" x=\"31.5\" y=\"-153.2\" font-family=\"Helvetica,sans-Serif\" font-size=\"11.00\" fill=\"#444443\">n </text>\n",
       "<polygon fill=\"#d9e6f5\" stroke=\"transparent\" points=\"44.5,-149 44.5,-163 59.5,-163 59.5,-149 44.5,-149\"/>\n",
       "<text text-anchor=\"start\" x=\"45.5\" y=\"-153.2\" font-family=\"Helvetica,sans-Serif\" font-size=\"11.00\" fill=\"#444443\"> 4</text>\n",
       "</g>\n",
       "<!-- node52300856 -->\n",
       "<g id=\"node2\" class=\"node\">\n",
       "<title>node52300856</title>\n",
       "<polygon fill=\"#d9e6f5\" stroke=\"#444443\" stroke-width=\".5\" points=\"85,-140 0,-140 0,-110 85,-110 85,-140\"/>\n",
       "<polygon fill=\"#d9e6f5\" stroke=\"transparent\" points=\"2.5,-124 2.5,-138 83.5,-138 83.5,-124 2.5,-124\"/>\n",
       "<polyline fill=\"none\" stroke=\"#444443\" points=\"2.5,-124 83.5,-124 \"/>\n",
       "<text text-anchor=\"start\" x=\"3.5\" y=\"-128.2\" font-family=\"Times,serif\" font-style=\"italic\" font-size=\"11.00\" fill=\"#444443\">wrapped_function</text>\n",
       "<polygon fill=\"#d9e6f5\" stroke=\"transparent\" points=\"2.5,-122 2.5,-124 83.5,-124 83.5,-122 2.5,-122\"/>\n",
       "<text text-anchor=\"start\" x=\"19.5\" y=\"-114.8\" font-family=\"Helvetica,sans-Serif\" font-size=\"9.00\" fill=\"#444443\"> ... </text>\n",
       "</g>\n",
       "<!-- node52368264&#45;&gt;node52300856 -->\n",
       "<!-- node52572888 -->\n",
       "<g id=\"node3\" class=\"node\">\n",
       "<title>node52572888</title>\n",
       "<polygon fill=\"#d9e6f5\" stroke=\"#444443\" stroke-width=\".5\" points=\"67,-103 18,-103 18,-37 67,-37 67,-103\"/>\n",
       "<polygon fill=\"#d9e6f5\" stroke=\"transparent\" points=\"20.5,-87 20.5,-101 65.5,-101 65.5,-87 20.5,-87\"/>\n",
       "<polyline fill=\"none\" stroke=\"#444443\" points=\"20.5,-87 65.5,-87 \"/>\n",
       "<text text-anchor=\"start\" x=\"21.5\" y=\"-91.2\" font-family=\"Times,serif\" font-style=\"italic\" font-size=\"11.00\" fill=\"#444443\">factorial4</text>\n",
       "<polygon fill=\"#d9e6f5\" stroke=\"transparent\" points=\"20.5,-85 20.5,-87 65.5,-87 65.5,-85 20.5,-85\"/>\n",
       "<polygon fill=\"#d9e6f5\" stroke=\"transparent\" points=\"20.5,-71 20.5,-85 43.5,-85 43.5,-71 20.5,-71\"/>\n",
       "<polyline fill=\"none\" stroke=\"#444443\" points=\"43.5,-71 43.5,-85 \"/>\n",
       "<text text-anchor=\"start\" x=\"33.5\" y=\"-75.2\" font-family=\"Times,serif\" font-style=\"italic\" font-size=\"11.00\" fill=\"#444443\">n </text>\n",
       "<polygon fill=\"#d9e6f5\" stroke=\"transparent\" points=\"48.5,-71 48.5,-85 65.5,-85 65.5,-71 48.5,-71\"/>\n",
       "<text text-anchor=\"start\" x=\"49.5\" y=\"-75.2\" font-family=\"Helvetica,sans-Serif\" font-size=\"11.00\" fill=\"#444443\"> 4</text>\n",
       "<polygon fill=\"#d9e6f5\" stroke=\"transparent\" points=\"20.5,-69 20.5,-71 65.5,-71 65.5,-69 20.5,-69\"/>\n",
       "<polygon fill=\"#d9e6f5\" stroke=\"transparent\" points=\"20.5,-55 20.5,-69 43.5,-69 43.5,-55 20.5,-55\"/>\n",
       "<polyline fill=\"none\" stroke=\"#444443\" points=\"43.5,-55 43.5,-69 \"/>\n",
       "<text text-anchor=\"start\" x=\"30.5\" y=\"-59.2\" font-family=\"Times,serif\" font-style=\"italic\" font-size=\"11.00\" fill=\"#444443\">f0 </text>\n",
       "<polygon fill=\"#d9e6f5\" stroke=\"transparent\" points=\"48.5,-55 48.5,-69 65.5,-69 65.5,-55 48.5,-55\"/>\n",
       "<text text-anchor=\"start\" x=\"49.5\" y=\"-59.2\" font-family=\"Helvetica,sans-Serif\" font-size=\"11.00\" fill=\"#444443\"> 0</text>\n",
       "<polygon fill=\"#d9e6f5\" stroke=\"transparent\" points=\"20.5,-53 20.5,-55 65.5,-55 65.5,-53 20.5,-53\"/>\n",
       "<polygon fill=\"#d9e6f5\" stroke=\"transparent\" points=\"20.5,-39 20.5,-53 43.5,-53 43.5,-39 20.5,-39\"/>\n",
       "<polyline fill=\"none\" stroke=\"#444443\" points=\"43.5,-39 43.5,-53 \"/>\n",
       "<text text-anchor=\"start\" x=\"30.5\" y=\"-43.2\" font-family=\"Times,serif\" font-style=\"italic\" font-size=\"11.00\" fill=\"#444443\">f1 </text>\n",
       "<polygon fill=\"#d9e6f5\" stroke=\"transparent\" points=\"48.5,-39 48.5,-53 65.5,-53 65.5,-39 48.5,-39\"/>\n",
       "<text text-anchor=\"start\" x=\"49.5\" y=\"-43.2\" font-family=\"Helvetica,sans-Serif\" font-size=\"11.00\" fill=\"#444443\"> 1</text>\n",
       "</g>\n",
       "<!-- node52300856&#45;&gt;node52572888 -->\n",
       "<!-- node52289640 -->\n",
       "<g id=\"node4\" class=\"node\">\n",
       "<title>node52289640</title>\n",
       "<polygon fill=\"#d9e6f5\" stroke=\"#444443\" stroke-width=\".5\" points=\"85,-30 0,-30 0,0 85,0 85,-30\"/>\n",
       "<polygon fill=\"#d9e6f5\" stroke=\"transparent\" points=\"2.5,-14 2.5,-28 83.5,-28 83.5,-14 2.5,-14\"/>\n",
       "<polyline fill=\"none\" stroke=\"#444443\" points=\"2.5,-14 83.5,-14 \"/>\n",
       "<text text-anchor=\"start\" x=\"3.5\" y=\"-18.2\" font-family=\"Times,serif\" font-style=\"italic\" font-size=\"11.00\" fill=\"#444443\">wrapped_function</text>\n",
       "<polygon fill=\"#d9e6f5\" stroke=\"transparent\" points=\"2.5,-12 2.5,-14 83.5,-14 83.5,-12 2.5,-12\"/>\n",
       "<text text-anchor=\"start\" x=\"19.5\" y=\"-4.8\" font-family=\"Helvetica,sans-Serif\" font-size=\"9.00\" fill=\"#444443\"> ... </text>\n",
       "</g>\n",
       "<!-- node52572888&#45;&gt;node52289640 -->\n",
       "</g>\n",
       "</svg>\n"
      ],
      "text/plain": [
       "<graphviz.files.Source at 0x7f1b26000898>"
      ]
     },
     "metadata": {},
     "output_type": "display_data"
    },
    {
     "data": {
      "image/svg+xml": [
       "<?xml version=\"1.0\" encoding=\"UTF-8\" standalone=\"no\"?>\n",
       "<!DOCTYPE svg PUBLIC \"-//W3C//DTD SVG 1.1//EN\"\n",
       " \"http://www.w3.org/Graphics/SVG/1.1/DTD/svg11.dtd\">\n",
       "<!-- Generated by graphviz version 2.40.1 (20161225.0304)\n",
       " -->\n",
       "<!-- Title: G Pages: 1 -->\n",
       "<svg width=\"93pt\" height=\"299pt\"\n",
       " viewBox=\"0.00 0.00 93.00 299.00\" xmlns=\"http://www.w3.org/2000/svg\" xmlns:xlink=\"http://www.w3.org/1999/xlink\">\n",
       "<g id=\"graph0\" class=\"graph\" transform=\"scale(1 1) rotate(0) translate(4 295)\">\n",
       "<title>G</title>\n",
       "<polygon fill=\"#ffffff\" stroke=\"transparent\" points=\"-4,4 -4,-295 89,-295 89,4 -4,4\"/>\n",
       "<!-- node52368264 -->\n",
       "<g id=\"node1\" class=\"node\">\n",
       "<title>node52368264</title>\n",
       "<polygon fill=\"#d9e6f5\" stroke=\"#444443\" stroke-width=\".5\" points=\"61.5,-291 23.5,-291 23.5,-257 61.5,-257 61.5,-291\"/>\n",
       "<polygon fill=\"#d9e6f5\" stroke=\"transparent\" points=\"25.5,-275 25.5,-289 59.5,-289 59.5,-275 25.5,-275\"/>\n",
       "<polyline fill=\"none\" stroke=\"#444443\" points=\"25.5,-275 59.5,-275 \"/>\n",
       "<text text-anchor=\"start\" x=\"26.5\" y=\"-279.2\" font-family=\"Times,serif\" font-style=\"italic\" font-size=\"11.00\" fill=\"#444443\">globals</text>\n",
       "<polygon fill=\"#d9e6f5\" stroke=\"transparent\" points=\"25.5,-273 25.5,-275 59.5,-275 59.5,-273 25.5,-273\"/>\n",
       "<polygon fill=\"#d9e6f5\" stroke=\"transparent\" points=\"25.5,-259 25.5,-273 42.5,-273 42.5,-259 25.5,-259\"/>\n",
       "<polyline fill=\"none\" stroke=\"#444443\" points=\"42.5,-259 42.5,-273 \"/>\n",
       "<text text-anchor=\"start\" x=\"31.5\" y=\"-263.2\" font-family=\"Helvetica,sans-Serif\" font-size=\"11.00\" fill=\"#444443\">n </text>\n",
       "<polygon fill=\"#d9e6f5\" stroke=\"transparent\" points=\"44.5,-259 44.5,-273 59.5,-273 59.5,-259 44.5,-259\"/>\n",
       "<text text-anchor=\"start\" x=\"45.5\" y=\"-263.2\" font-family=\"Helvetica,sans-Serif\" font-size=\"11.00\" fill=\"#444443\"> 4</text>\n",
       "</g>\n",
       "<!-- node52300856 -->\n",
       "<g id=\"node2\" class=\"node\">\n",
       "<title>node52300856</title>\n",
       "<polygon fill=\"#d9e6f5\" stroke=\"#444443\" stroke-width=\".5\" points=\"85,-250 0,-250 0,-220 85,-220 85,-250\"/>\n",
       "<polygon fill=\"#d9e6f5\" stroke=\"transparent\" points=\"2.5,-234 2.5,-248 83.5,-248 83.5,-234 2.5,-234\"/>\n",
       "<polyline fill=\"none\" stroke=\"#444443\" points=\"2.5,-234 83.5,-234 \"/>\n",
       "<text text-anchor=\"start\" x=\"3.5\" y=\"-238.2\" font-family=\"Times,serif\" font-style=\"italic\" font-size=\"11.00\" fill=\"#444443\">wrapped_function</text>\n",
       "<polygon fill=\"#d9e6f5\" stroke=\"transparent\" points=\"2.5,-232 2.5,-234 83.5,-234 83.5,-232 2.5,-232\"/>\n",
       "<text text-anchor=\"start\" x=\"19.5\" y=\"-224.8\" font-family=\"Helvetica,sans-Serif\" font-size=\"9.00\" fill=\"#444443\"> ... </text>\n",
       "</g>\n",
       "<!-- node52368264&#45;&gt;node52300856 -->\n",
       "<!-- node52572888 -->\n",
       "<g id=\"node3\" class=\"node\">\n",
       "<title>node52572888</title>\n",
       "<polygon fill=\"#d9e6f5\" stroke=\"#444443\" stroke-width=\".5\" points=\"67,-213 18,-213 18,-147 67,-147 67,-213\"/>\n",
       "<polygon fill=\"#d9e6f5\" stroke=\"transparent\" points=\"20.5,-197 20.5,-211 65.5,-211 65.5,-197 20.5,-197\"/>\n",
       "<polyline fill=\"none\" stroke=\"#444443\" points=\"20.5,-197 65.5,-197 \"/>\n",
       "<text text-anchor=\"start\" x=\"21.5\" y=\"-201.2\" font-family=\"Times,serif\" font-style=\"italic\" font-size=\"11.00\" fill=\"#444443\">factorial4</text>\n",
       "<polygon fill=\"#d9e6f5\" stroke=\"transparent\" points=\"20.5,-195 20.5,-197 65.5,-197 65.5,-195 20.5,-195\"/>\n",
       "<polygon fill=\"#d9e6f5\" stroke=\"transparent\" points=\"20.5,-181 20.5,-195 43.5,-195 43.5,-181 20.5,-181\"/>\n",
       "<polyline fill=\"none\" stroke=\"#444443\" points=\"43.5,-181 43.5,-195 \"/>\n",
       "<text text-anchor=\"start\" x=\"33.5\" y=\"-185.2\" font-family=\"Times,serif\" font-style=\"italic\" font-size=\"11.00\" fill=\"#444443\">n </text>\n",
       "<polygon fill=\"#d9e6f5\" stroke=\"transparent\" points=\"48.5,-181 48.5,-195 65.5,-195 65.5,-181 48.5,-181\"/>\n",
       "<text text-anchor=\"start\" x=\"49.5\" y=\"-185.2\" font-family=\"Helvetica,sans-Serif\" font-size=\"11.00\" fill=\"#444443\"> 4</text>\n",
       "<polygon fill=\"#d9e6f5\" stroke=\"transparent\" points=\"20.5,-179 20.5,-181 65.5,-181 65.5,-179 20.5,-179\"/>\n",
       "<polygon fill=\"#d9e6f5\" stroke=\"transparent\" points=\"20.5,-165 20.5,-179 43.5,-179 43.5,-165 20.5,-165\"/>\n",
       "<polyline fill=\"none\" stroke=\"#444443\" points=\"43.5,-165 43.5,-179 \"/>\n",
       "<text text-anchor=\"start\" x=\"30.5\" y=\"-169.2\" font-family=\"Times,serif\" font-style=\"italic\" font-size=\"11.00\" fill=\"#444443\">f0 </text>\n",
       "<polygon fill=\"#d9e6f5\" stroke=\"transparent\" points=\"48.5,-165 48.5,-179 65.5,-179 65.5,-165 48.5,-165\"/>\n",
       "<text text-anchor=\"start\" x=\"49.5\" y=\"-169.2\" font-family=\"Helvetica,sans-Serif\" font-size=\"11.00\" fill=\"#444443\"> 0</text>\n",
       "<polygon fill=\"#d9e6f5\" stroke=\"transparent\" points=\"20.5,-163 20.5,-165 65.5,-165 65.5,-163 20.5,-163\"/>\n",
       "<polygon fill=\"#d9e6f5\" stroke=\"transparent\" points=\"20.5,-149 20.5,-163 43.5,-163 43.5,-149 20.5,-149\"/>\n",
       "<polyline fill=\"none\" stroke=\"#444443\" points=\"43.5,-149 43.5,-163 \"/>\n",
       "<text text-anchor=\"start\" x=\"30.5\" y=\"-153.2\" font-family=\"Times,serif\" font-style=\"italic\" font-size=\"11.00\" fill=\"#444443\">f1 </text>\n",
       "<polygon fill=\"#d9e6f5\" stroke=\"transparent\" points=\"48.5,-149 48.5,-163 65.5,-163 65.5,-149 48.5,-149\"/>\n",
       "<text text-anchor=\"start\" x=\"49.5\" y=\"-153.2\" font-family=\"Helvetica,sans-Serif\" font-size=\"11.00\" fill=\"#444443\"> 1</text>\n",
       "</g>\n",
       "<!-- node52300856&#45;&gt;node52572888 -->\n",
       "<!-- node52289640 -->\n",
       "<g id=\"node4\" class=\"node\">\n",
       "<title>node52289640</title>\n",
       "<polygon fill=\"#d9e6f5\" stroke=\"#444443\" stroke-width=\".5\" points=\"85,-140 0,-140 0,-110 85,-110 85,-140\"/>\n",
       "<polygon fill=\"#d9e6f5\" stroke=\"transparent\" points=\"2.5,-124 2.5,-138 83.5,-138 83.5,-124 2.5,-124\"/>\n",
       "<polyline fill=\"none\" stroke=\"#444443\" points=\"2.5,-124 83.5,-124 \"/>\n",
       "<text text-anchor=\"start\" x=\"3.5\" y=\"-128.2\" font-family=\"Times,serif\" font-style=\"italic\" font-size=\"11.00\" fill=\"#444443\">wrapped_function</text>\n",
       "<polygon fill=\"#d9e6f5\" stroke=\"transparent\" points=\"2.5,-122 2.5,-124 83.5,-124 83.5,-122 2.5,-122\"/>\n",
       "<text text-anchor=\"start\" x=\"19.5\" y=\"-114.8\" font-family=\"Helvetica,sans-Serif\" font-size=\"9.00\" fill=\"#444443\"> ... </text>\n",
       "</g>\n",
       "<!-- node52572888&#45;&gt;node52289640 -->\n",
       "<!-- node52302344 -->\n",
       "<g id=\"node5\" class=\"node\">\n",
       "<title>node52302344</title>\n",
       "<polygon fill=\"#d9e6f5\" stroke=\"#444443\" stroke-width=\".5\" points=\"67,-103 18,-103 18,-37 67,-37 67,-103\"/>\n",
       "<polygon fill=\"#d9e6f5\" stroke=\"transparent\" points=\"20.5,-87 20.5,-101 65.5,-101 65.5,-87 20.5,-87\"/>\n",
       "<polyline fill=\"none\" stroke=\"#444443\" points=\"20.5,-87 65.5,-87 \"/>\n",
       "<text text-anchor=\"start\" x=\"21.5\" y=\"-91.2\" font-family=\"Times,serif\" font-style=\"italic\" font-size=\"11.00\" fill=\"#444443\">factorial4</text>\n",
       "<polygon fill=\"#d9e6f5\" stroke=\"transparent\" points=\"20.5,-85 20.5,-87 65.5,-87 65.5,-85 20.5,-85\"/>\n",
       "<polygon fill=\"#d9e6f5\" stroke=\"transparent\" points=\"20.5,-71 20.5,-85 43.5,-85 43.5,-71 20.5,-71\"/>\n",
       "<polyline fill=\"none\" stroke=\"#444443\" points=\"43.5,-71 43.5,-85 \"/>\n",
       "<text text-anchor=\"start\" x=\"33.5\" y=\"-75.2\" font-family=\"Times,serif\" font-style=\"italic\" font-size=\"11.00\" fill=\"#444443\">n </text>\n",
       "<polygon fill=\"#d9e6f5\" stroke=\"transparent\" points=\"48.5,-71 48.5,-85 65.5,-85 65.5,-71 48.5,-71\"/>\n",
       "<text text-anchor=\"start\" x=\"49.5\" y=\"-75.2\" font-family=\"Helvetica,sans-Serif\" font-size=\"11.00\" fill=\"#444443\"> 3</text>\n",
       "<polygon fill=\"#d9e6f5\" stroke=\"transparent\" points=\"20.5,-69 20.5,-71 65.5,-71 65.5,-69 20.5,-69\"/>\n",
       "<polygon fill=\"#d9e6f5\" stroke=\"transparent\" points=\"20.5,-55 20.5,-69 43.5,-69 43.5,-55 20.5,-55\"/>\n",
       "<polyline fill=\"none\" stroke=\"#444443\" points=\"43.5,-55 43.5,-69 \"/>\n",
       "<text text-anchor=\"start\" x=\"30.5\" y=\"-59.2\" font-family=\"Times,serif\" font-style=\"italic\" font-size=\"11.00\" fill=\"#444443\">f0 </text>\n",
       "<polygon fill=\"#d9e6f5\" stroke=\"transparent\" points=\"48.5,-55 48.5,-69 65.5,-69 65.5,-55 48.5,-55\"/>\n",
       "<text text-anchor=\"start\" x=\"49.5\" y=\"-59.2\" font-family=\"Helvetica,sans-Serif\" font-size=\"11.00\" fill=\"#444443\"> 0</text>\n",
       "<polygon fill=\"#d9e6f5\" stroke=\"transparent\" points=\"20.5,-53 20.5,-55 65.5,-55 65.5,-53 20.5,-53\"/>\n",
       "<polygon fill=\"#d9e6f5\" stroke=\"transparent\" points=\"20.5,-39 20.5,-53 43.5,-53 43.5,-39 20.5,-39\"/>\n",
       "<polyline fill=\"none\" stroke=\"#444443\" points=\"43.5,-39 43.5,-53 \"/>\n",
       "<text text-anchor=\"start\" x=\"30.5\" y=\"-43.2\" font-family=\"Times,serif\" font-style=\"italic\" font-size=\"11.00\" fill=\"#444443\">f1 </text>\n",
       "<polygon fill=\"#d9e6f5\" stroke=\"transparent\" points=\"48.5,-39 48.5,-53 65.5,-53 65.5,-39 48.5,-39\"/>\n",
       "<text text-anchor=\"start\" x=\"49.5\" y=\"-43.2\" font-family=\"Helvetica,sans-Serif\" font-size=\"11.00\" fill=\"#444443\"> 1</text>\n",
       "</g>\n",
       "<!-- node52289640&#45;&gt;node52302344 -->\n",
       "<!-- node51698888 -->\n",
       "<g id=\"node6\" class=\"node\">\n",
       "<title>node51698888</title>\n",
       "<polygon fill=\"#d9e6f5\" stroke=\"#444443\" stroke-width=\".5\" points=\"85,-30 0,-30 0,0 85,0 85,-30\"/>\n",
       "<polygon fill=\"#d9e6f5\" stroke=\"transparent\" points=\"2.5,-14 2.5,-28 83.5,-28 83.5,-14 2.5,-14\"/>\n",
       "<polyline fill=\"none\" stroke=\"#444443\" points=\"2.5,-14 83.5,-14 \"/>\n",
       "<text text-anchor=\"start\" x=\"3.5\" y=\"-18.2\" font-family=\"Times,serif\" font-style=\"italic\" font-size=\"11.00\" fill=\"#444443\">wrapped_function</text>\n",
       "<polygon fill=\"#d9e6f5\" stroke=\"transparent\" points=\"2.5,-12 2.5,-14 83.5,-14 83.5,-12 2.5,-12\"/>\n",
       "<text text-anchor=\"start\" x=\"19.5\" y=\"-4.8\" font-family=\"Helvetica,sans-Serif\" font-size=\"9.00\" fill=\"#444443\"> ... </text>\n",
       "</g>\n",
       "<!-- node52302344&#45;&gt;node51698888 -->\n",
       "</g>\n",
       "</svg>\n"
      ],
      "text/plain": [
       "<graphviz.files.Source at 0x7f1b26000dd8>"
      ]
     },
     "metadata": {},
     "output_type": "display_data"
    },
    {
     "data": {
      "image/svg+xml": [
       "<?xml version=\"1.0\" encoding=\"UTF-8\" standalone=\"no\"?>\n",
       "<!DOCTYPE svg PUBLIC \"-//W3C//DTD SVG 1.1//EN\"\n",
       " \"http://www.w3.org/Graphics/SVG/1.1/DTD/svg11.dtd\">\n",
       "<!-- Generated by graphviz version 2.40.1 (20161225.0304)\n",
       " -->\n",
       "<!-- Title: G Pages: 1 -->\n",
       "<svg width=\"93pt\" height=\"409pt\"\n",
       " viewBox=\"0.00 0.00 93.00 409.00\" xmlns=\"http://www.w3.org/2000/svg\" xmlns:xlink=\"http://www.w3.org/1999/xlink\">\n",
       "<g id=\"graph0\" class=\"graph\" transform=\"scale(1 1) rotate(0) translate(4 405)\">\n",
       "<title>G</title>\n",
       "<polygon fill=\"#ffffff\" stroke=\"transparent\" points=\"-4,4 -4,-405 89,-405 89,4 -4,4\"/>\n",
       "<!-- node52368264 -->\n",
       "<g id=\"node1\" class=\"node\">\n",
       "<title>node52368264</title>\n",
       "<polygon fill=\"#d9e6f5\" stroke=\"#444443\" stroke-width=\".5\" points=\"61.5,-401 23.5,-401 23.5,-367 61.5,-367 61.5,-401\"/>\n",
       "<polygon fill=\"#d9e6f5\" stroke=\"transparent\" points=\"25.5,-385 25.5,-399 59.5,-399 59.5,-385 25.5,-385\"/>\n",
       "<polyline fill=\"none\" stroke=\"#444443\" points=\"25.5,-385 59.5,-385 \"/>\n",
       "<text text-anchor=\"start\" x=\"26.5\" y=\"-389.2\" font-family=\"Times,serif\" font-style=\"italic\" font-size=\"11.00\" fill=\"#444443\">globals</text>\n",
       "<polygon fill=\"#d9e6f5\" stroke=\"transparent\" points=\"25.5,-383 25.5,-385 59.5,-385 59.5,-383 25.5,-383\"/>\n",
       "<polygon fill=\"#d9e6f5\" stroke=\"transparent\" points=\"25.5,-369 25.5,-383 42.5,-383 42.5,-369 25.5,-369\"/>\n",
       "<polyline fill=\"none\" stroke=\"#444443\" points=\"42.5,-369 42.5,-383 \"/>\n",
       "<text text-anchor=\"start\" x=\"31.5\" y=\"-373.2\" font-family=\"Helvetica,sans-Serif\" font-size=\"11.00\" fill=\"#444443\">n </text>\n",
       "<polygon fill=\"#d9e6f5\" stroke=\"transparent\" points=\"44.5,-369 44.5,-383 59.5,-383 59.5,-369 44.5,-369\"/>\n",
       "<text text-anchor=\"start\" x=\"45.5\" y=\"-373.2\" font-family=\"Helvetica,sans-Serif\" font-size=\"11.00\" fill=\"#444443\"> 4</text>\n",
       "</g>\n",
       "<!-- node52300856 -->\n",
       "<g id=\"node2\" class=\"node\">\n",
       "<title>node52300856</title>\n",
       "<polygon fill=\"#d9e6f5\" stroke=\"#444443\" stroke-width=\".5\" points=\"85,-360 0,-360 0,-330 85,-330 85,-360\"/>\n",
       "<polygon fill=\"#d9e6f5\" stroke=\"transparent\" points=\"2.5,-344 2.5,-358 83.5,-358 83.5,-344 2.5,-344\"/>\n",
       "<polyline fill=\"none\" stroke=\"#444443\" points=\"2.5,-344 83.5,-344 \"/>\n",
       "<text text-anchor=\"start\" x=\"3.5\" y=\"-348.2\" font-family=\"Times,serif\" font-style=\"italic\" font-size=\"11.00\" fill=\"#444443\">wrapped_function</text>\n",
       "<polygon fill=\"#d9e6f5\" stroke=\"transparent\" points=\"2.5,-342 2.5,-344 83.5,-344 83.5,-342 2.5,-342\"/>\n",
       "<text text-anchor=\"start\" x=\"19.5\" y=\"-334.8\" font-family=\"Helvetica,sans-Serif\" font-size=\"9.00\" fill=\"#444443\"> ... </text>\n",
       "</g>\n",
       "<!-- node52368264&#45;&gt;node52300856 -->\n",
       "<!-- node52572888 -->\n",
       "<g id=\"node3\" class=\"node\">\n",
       "<title>node52572888</title>\n",
       "<polygon fill=\"#d9e6f5\" stroke=\"#444443\" stroke-width=\".5\" points=\"67,-323 18,-323 18,-257 67,-257 67,-323\"/>\n",
       "<polygon fill=\"#d9e6f5\" stroke=\"transparent\" points=\"20.5,-307 20.5,-321 65.5,-321 65.5,-307 20.5,-307\"/>\n",
       "<polyline fill=\"none\" stroke=\"#444443\" points=\"20.5,-307 65.5,-307 \"/>\n",
       "<text text-anchor=\"start\" x=\"21.5\" y=\"-311.2\" font-family=\"Times,serif\" font-style=\"italic\" font-size=\"11.00\" fill=\"#444443\">factorial4</text>\n",
       "<polygon fill=\"#d9e6f5\" stroke=\"transparent\" points=\"20.5,-305 20.5,-307 65.5,-307 65.5,-305 20.5,-305\"/>\n",
       "<polygon fill=\"#d9e6f5\" stroke=\"transparent\" points=\"20.5,-291 20.5,-305 43.5,-305 43.5,-291 20.5,-291\"/>\n",
       "<polyline fill=\"none\" stroke=\"#444443\" points=\"43.5,-291 43.5,-305 \"/>\n",
       "<text text-anchor=\"start\" x=\"33.5\" y=\"-295.2\" font-family=\"Times,serif\" font-style=\"italic\" font-size=\"11.00\" fill=\"#444443\">n </text>\n",
       "<polygon fill=\"#d9e6f5\" stroke=\"transparent\" points=\"48.5,-291 48.5,-305 65.5,-305 65.5,-291 48.5,-291\"/>\n",
       "<text text-anchor=\"start\" x=\"49.5\" y=\"-295.2\" font-family=\"Helvetica,sans-Serif\" font-size=\"11.00\" fill=\"#444443\"> 4</text>\n",
       "<polygon fill=\"#d9e6f5\" stroke=\"transparent\" points=\"20.5,-289 20.5,-291 65.5,-291 65.5,-289 20.5,-289\"/>\n",
       "<polygon fill=\"#d9e6f5\" stroke=\"transparent\" points=\"20.5,-275 20.5,-289 43.5,-289 43.5,-275 20.5,-275\"/>\n",
       "<polyline fill=\"none\" stroke=\"#444443\" points=\"43.5,-275 43.5,-289 \"/>\n",
       "<text text-anchor=\"start\" x=\"30.5\" y=\"-279.2\" font-family=\"Times,serif\" font-style=\"italic\" font-size=\"11.00\" fill=\"#444443\">f0 </text>\n",
       "<polygon fill=\"#d9e6f5\" stroke=\"transparent\" points=\"48.5,-275 48.5,-289 65.5,-289 65.5,-275 48.5,-275\"/>\n",
       "<text text-anchor=\"start\" x=\"49.5\" y=\"-279.2\" font-family=\"Helvetica,sans-Serif\" font-size=\"11.00\" fill=\"#444443\"> 0</text>\n",
       "<polygon fill=\"#d9e6f5\" stroke=\"transparent\" points=\"20.5,-273 20.5,-275 65.5,-275 65.5,-273 20.5,-273\"/>\n",
       "<polygon fill=\"#d9e6f5\" stroke=\"transparent\" points=\"20.5,-259 20.5,-273 43.5,-273 43.5,-259 20.5,-259\"/>\n",
       "<polyline fill=\"none\" stroke=\"#444443\" points=\"43.5,-259 43.5,-273 \"/>\n",
       "<text text-anchor=\"start\" x=\"30.5\" y=\"-263.2\" font-family=\"Times,serif\" font-style=\"italic\" font-size=\"11.00\" fill=\"#444443\">f1 </text>\n",
       "<polygon fill=\"#d9e6f5\" stroke=\"transparent\" points=\"48.5,-259 48.5,-273 65.5,-273 65.5,-259 48.5,-259\"/>\n",
       "<text text-anchor=\"start\" x=\"49.5\" y=\"-263.2\" font-family=\"Helvetica,sans-Serif\" font-size=\"11.00\" fill=\"#444443\"> 1</text>\n",
       "</g>\n",
       "<!-- node52300856&#45;&gt;node52572888 -->\n",
       "<!-- node52289640 -->\n",
       "<g id=\"node4\" class=\"node\">\n",
       "<title>node52289640</title>\n",
       "<polygon fill=\"#d9e6f5\" stroke=\"#444443\" stroke-width=\".5\" points=\"85,-250 0,-250 0,-220 85,-220 85,-250\"/>\n",
       "<polygon fill=\"#d9e6f5\" stroke=\"transparent\" points=\"2.5,-234 2.5,-248 83.5,-248 83.5,-234 2.5,-234\"/>\n",
       "<polyline fill=\"none\" stroke=\"#444443\" points=\"2.5,-234 83.5,-234 \"/>\n",
       "<text text-anchor=\"start\" x=\"3.5\" y=\"-238.2\" font-family=\"Times,serif\" font-style=\"italic\" font-size=\"11.00\" fill=\"#444443\">wrapped_function</text>\n",
       "<polygon fill=\"#d9e6f5\" stroke=\"transparent\" points=\"2.5,-232 2.5,-234 83.5,-234 83.5,-232 2.5,-232\"/>\n",
       "<text text-anchor=\"start\" x=\"19.5\" y=\"-224.8\" font-family=\"Helvetica,sans-Serif\" font-size=\"9.00\" fill=\"#444443\"> ... </text>\n",
       "</g>\n",
       "<!-- node52572888&#45;&gt;node52289640 -->\n",
       "<!-- node52302344 -->\n",
       "<g id=\"node5\" class=\"node\">\n",
       "<title>node52302344</title>\n",
       "<polygon fill=\"#d9e6f5\" stroke=\"#444443\" stroke-width=\".5\" points=\"67,-213 18,-213 18,-147 67,-147 67,-213\"/>\n",
       "<polygon fill=\"#d9e6f5\" stroke=\"transparent\" points=\"20.5,-197 20.5,-211 65.5,-211 65.5,-197 20.5,-197\"/>\n",
       "<polyline fill=\"none\" stroke=\"#444443\" points=\"20.5,-197 65.5,-197 \"/>\n",
       "<text text-anchor=\"start\" x=\"21.5\" y=\"-201.2\" font-family=\"Times,serif\" font-style=\"italic\" font-size=\"11.00\" fill=\"#444443\">factorial4</text>\n",
       "<polygon fill=\"#d9e6f5\" stroke=\"transparent\" points=\"20.5,-195 20.5,-197 65.5,-197 65.5,-195 20.5,-195\"/>\n",
       "<polygon fill=\"#d9e6f5\" stroke=\"transparent\" points=\"20.5,-181 20.5,-195 43.5,-195 43.5,-181 20.5,-181\"/>\n",
       "<polyline fill=\"none\" stroke=\"#444443\" points=\"43.5,-181 43.5,-195 \"/>\n",
       "<text text-anchor=\"start\" x=\"33.5\" y=\"-185.2\" font-family=\"Times,serif\" font-style=\"italic\" font-size=\"11.00\" fill=\"#444443\">n </text>\n",
       "<polygon fill=\"#d9e6f5\" stroke=\"transparent\" points=\"48.5,-181 48.5,-195 65.5,-195 65.5,-181 48.5,-181\"/>\n",
       "<text text-anchor=\"start\" x=\"49.5\" y=\"-185.2\" font-family=\"Helvetica,sans-Serif\" font-size=\"11.00\" fill=\"#444443\"> 3</text>\n",
       "<polygon fill=\"#d9e6f5\" stroke=\"transparent\" points=\"20.5,-179 20.5,-181 65.5,-181 65.5,-179 20.5,-179\"/>\n",
       "<polygon fill=\"#d9e6f5\" stroke=\"transparent\" points=\"20.5,-165 20.5,-179 43.5,-179 43.5,-165 20.5,-165\"/>\n",
       "<polyline fill=\"none\" stroke=\"#444443\" points=\"43.5,-165 43.5,-179 \"/>\n",
       "<text text-anchor=\"start\" x=\"30.5\" y=\"-169.2\" font-family=\"Times,serif\" font-style=\"italic\" font-size=\"11.00\" fill=\"#444443\">f0 </text>\n",
       "<polygon fill=\"#d9e6f5\" stroke=\"transparent\" points=\"48.5,-165 48.5,-179 65.5,-179 65.5,-165 48.5,-165\"/>\n",
       "<text text-anchor=\"start\" x=\"49.5\" y=\"-169.2\" font-family=\"Helvetica,sans-Serif\" font-size=\"11.00\" fill=\"#444443\"> 0</text>\n",
       "<polygon fill=\"#d9e6f5\" stroke=\"transparent\" points=\"20.5,-163 20.5,-165 65.5,-165 65.5,-163 20.5,-163\"/>\n",
       "<polygon fill=\"#d9e6f5\" stroke=\"transparent\" points=\"20.5,-149 20.5,-163 43.5,-163 43.5,-149 20.5,-149\"/>\n",
       "<polyline fill=\"none\" stroke=\"#444443\" points=\"43.5,-149 43.5,-163 \"/>\n",
       "<text text-anchor=\"start\" x=\"30.5\" y=\"-153.2\" font-family=\"Times,serif\" font-style=\"italic\" font-size=\"11.00\" fill=\"#444443\">f1 </text>\n",
       "<polygon fill=\"#d9e6f5\" stroke=\"transparent\" points=\"48.5,-149 48.5,-163 65.5,-163 65.5,-149 48.5,-149\"/>\n",
       "<text text-anchor=\"start\" x=\"49.5\" y=\"-153.2\" font-family=\"Helvetica,sans-Serif\" font-size=\"11.00\" fill=\"#444443\"> 1</text>\n",
       "</g>\n",
       "<!-- node52289640&#45;&gt;node52302344 -->\n",
       "<!-- node51698888 -->\n",
       "<g id=\"node6\" class=\"node\">\n",
       "<title>node51698888</title>\n",
       "<polygon fill=\"#d9e6f5\" stroke=\"#444443\" stroke-width=\".5\" points=\"85,-140 0,-140 0,-110 85,-110 85,-140\"/>\n",
       "<polygon fill=\"#d9e6f5\" stroke=\"transparent\" points=\"2.5,-124 2.5,-138 83.5,-138 83.5,-124 2.5,-124\"/>\n",
       "<polyline fill=\"none\" stroke=\"#444443\" points=\"2.5,-124 83.5,-124 \"/>\n",
       "<text text-anchor=\"start\" x=\"3.5\" y=\"-128.2\" font-family=\"Times,serif\" font-style=\"italic\" font-size=\"11.00\" fill=\"#444443\">wrapped_function</text>\n",
       "<polygon fill=\"#d9e6f5\" stroke=\"transparent\" points=\"2.5,-122 2.5,-124 83.5,-124 83.5,-122 2.5,-122\"/>\n",
       "<text text-anchor=\"start\" x=\"19.5\" y=\"-114.8\" font-family=\"Helvetica,sans-Serif\" font-size=\"9.00\" fill=\"#444443\"> ... </text>\n",
       "</g>\n",
       "<!-- node52302344&#45;&gt;node51698888 -->\n",
       "<!-- node52518392 -->\n",
       "<g id=\"node7\" class=\"node\">\n",
       "<title>node52518392</title>\n",
       "<polygon fill=\"#d9e6f5\" stroke=\"#444443\" stroke-width=\".5\" points=\"67,-103 18,-103 18,-37 67,-37 67,-103\"/>\n",
       "<polygon fill=\"#d9e6f5\" stroke=\"transparent\" points=\"20.5,-87 20.5,-101 65.5,-101 65.5,-87 20.5,-87\"/>\n",
       "<polyline fill=\"none\" stroke=\"#444443\" points=\"20.5,-87 65.5,-87 \"/>\n",
       "<text text-anchor=\"start\" x=\"21.5\" y=\"-91.2\" font-family=\"Times,serif\" font-style=\"italic\" font-size=\"11.00\" fill=\"#444443\">factorial4</text>\n",
       "<polygon fill=\"#d9e6f5\" stroke=\"transparent\" points=\"20.5,-85 20.5,-87 65.5,-87 65.5,-85 20.5,-85\"/>\n",
       "<polygon fill=\"#d9e6f5\" stroke=\"transparent\" points=\"20.5,-71 20.5,-85 43.5,-85 43.5,-71 20.5,-71\"/>\n",
       "<polyline fill=\"none\" stroke=\"#444443\" points=\"43.5,-71 43.5,-85 \"/>\n",
       "<text text-anchor=\"start\" x=\"33.5\" y=\"-75.2\" font-family=\"Times,serif\" font-style=\"italic\" font-size=\"11.00\" fill=\"#444443\">n </text>\n",
       "<polygon fill=\"#d9e6f5\" stroke=\"transparent\" points=\"48.5,-71 48.5,-85 65.5,-85 65.5,-71 48.5,-71\"/>\n",
       "<text text-anchor=\"start\" x=\"49.5\" y=\"-75.2\" font-family=\"Helvetica,sans-Serif\" font-size=\"11.00\" fill=\"#444443\"> 2</text>\n",
       "<polygon fill=\"#d9e6f5\" stroke=\"transparent\" points=\"20.5,-69 20.5,-71 65.5,-71 65.5,-69 20.5,-69\"/>\n",
       "<polygon fill=\"#d9e6f5\" stroke=\"transparent\" points=\"20.5,-55 20.5,-69 43.5,-69 43.5,-55 20.5,-55\"/>\n",
       "<polyline fill=\"none\" stroke=\"#444443\" points=\"43.5,-55 43.5,-69 \"/>\n",
       "<text text-anchor=\"start\" x=\"30.5\" y=\"-59.2\" font-family=\"Times,serif\" font-style=\"italic\" font-size=\"11.00\" fill=\"#444443\">f0 </text>\n",
       "<polygon fill=\"#d9e6f5\" stroke=\"transparent\" points=\"48.5,-55 48.5,-69 65.5,-69 65.5,-55 48.5,-55\"/>\n",
       "<text text-anchor=\"start\" x=\"49.5\" y=\"-59.2\" font-family=\"Helvetica,sans-Serif\" font-size=\"11.00\" fill=\"#444443\"> 0</text>\n",
       "<polygon fill=\"#d9e6f5\" stroke=\"transparent\" points=\"20.5,-53 20.5,-55 65.5,-55 65.5,-53 20.5,-53\"/>\n",
       "<polygon fill=\"#d9e6f5\" stroke=\"transparent\" points=\"20.5,-39 20.5,-53 43.5,-53 43.5,-39 20.5,-39\"/>\n",
       "<polyline fill=\"none\" stroke=\"#444443\" points=\"43.5,-39 43.5,-53 \"/>\n",
       "<text text-anchor=\"start\" x=\"30.5\" y=\"-43.2\" font-family=\"Times,serif\" font-style=\"italic\" font-size=\"11.00\" fill=\"#444443\">f1 </text>\n",
       "<polygon fill=\"#d9e6f5\" stroke=\"transparent\" points=\"48.5,-39 48.5,-53 65.5,-53 65.5,-39 48.5,-39\"/>\n",
       "<text text-anchor=\"start\" x=\"49.5\" y=\"-43.2\" font-family=\"Helvetica,sans-Serif\" font-size=\"11.00\" fill=\"#444443\"> 1</text>\n",
       "</g>\n",
       "<!-- node51698888&#45;&gt;node52518392 -->\n",
       "<!-- node52508424 -->\n",
       "<g id=\"node8\" class=\"node\">\n",
       "<title>node52508424</title>\n",
       "<polygon fill=\"#d9e6f5\" stroke=\"#444443\" stroke-width=\".5\" points=\"85,-30 0,-30 0,0 85,0 85,-30\"/>\n",
       "<polygon fill=\"#d9e6f5\" stroke=\"transparent\" points=\"2.5,-14 2.5,-28 83.5,-28 83.5,-14 2.5,-14\"/>\n",
       "<polyline fill=\"none\" stroke=\"#444443\" points=\"2.5,-14 83.5,-14 \"/>\n",
       "<text text-anchor=\"start\" x=\"3.5\" y=\"-18.2\" font-family=\"Times,serif\" font-style=\"italic\" font-size=\"11.00\" fill=\"#444443\">wrapped_function</text>\n",
       "<polygon fill=\"#d9e6f5\" stroke=\"transparent\" points=\"2.5,-12 2.5,-14 83.5,-14 83.5,-12 2.5,-12\"/>\n",
       "<text text-anchor=\"start\" x=\"19.5\" y=\"-4.8\" font-family=\"Helvetica,sans-Serif\" font-size=\"9.00\" fill=\"#444443\"> ... </text>\n",
       "</g>\n",
       "<!-- node52518392&#45;&gt;node52508424 -->\n",
       "</g>\n",
       "</svg>\n"
      ],
      "text/plain": [
       "<graphviz.files.Source at 0x7f1b26000f98>"
      ]
     },
     "metadata": {},
     "output_type": "display_data"
    },
    {
     "data": {
      "image/svg+xml": [
       "<?xml version=\"1.0\" encoding=\"UTF-8\" standalone=\"no\"?>\n",
       "<!DOCTYPE svg PUBLIC \"-//W3C//DTD SVG 1.1//EN\"\n",
       " \"http://www.w3.org/Graphics/SVG/1.1/DTD/svg11.dtd\">\n",
       "<!-- Generated by graphviz version 2.40.1 (20161225.0304)\n",
       " -->\n",
       "<!-- Title: G Pages: 1 -->\n",
       "<svg width=\"93pt\" height=\"519pt\"\n",
       " viewBox=\"0.00 0.00 93.00 519.00\" xmlns=\"http://www.w3.org/2000/svg\" xmlns:xlink=\"http://www.w3.org/1999/xlink\">\n",
       "<g id=\"graph0\" class=\"graph\" transform=\"scale(1 1) rotate(0) translate(4 515)\">\n",
       "<title>G</title>\n",
       "<polygon fill=\"#ffffff\" stroke=\"transparent\" points=\"-4,4 -4,-515 89,-515 89,4 -4,4\"/>\n",
       "<!-- node52368264 -->\n",
       "<g id=\"node1\" class=\"node\">\n",
       "<title>node52368264</title>\n",
       "<polygon fill=\"#d9e6f5\" stroke=\"#444443\" stroke-width=\".5\" points=\"61.5,-511 23.5,-511 23.5,-477 61.5,-477 61.5,-511\"/>\n",
       "<polygon fill=\"#d9e6f5\" stroke=\"transparent\" points=\"25.5,-495 25.5,-509 59.5,-509 59.5,-495 25.5,-495\"/>\n",
       "<polyline fill=\"none\" stroke=\"#444443\" points=\"25.5,-495 59.5,-495 \"/>\n",
       "<text text-anchor=\"start\" x=\"26.5\" y=\"-499.2\" font-family=\"Times,serif\" font-style=\"italic\" font-size=\"11.00\" fill=\"#444443\">globals</text>\n",
       "<polygon fill=\"#d9e6f5\" stroke=\"transparent\" points=\"25.5,-493 25.5,-495 59.5,-495 59.5,-493 25.5,-493\"/>\n",
       "<polygon fill=\"#d9e6f5\" stroke=\"transparent\" points=\"25.5,-479 25.5,-493 42.5,-493 42.5,-479 25.5,-479\"/>\n",
       "<polyline fill=\"none\" stroke=\"#444443\" points=\"42.5,-479 42.5,-493 \"/>\n",
       "<text text-anchor=\"start\" x=\"31.5\" y=\"-483.2\" font-family=\"Helvetica,sans-Serif\" font-size=\"11.00\" fill=\"#444443\">n </text>\n",
       "<polygon fill=\"#d9e6f5\" stroke=\"transparent\" points=\"44.5,-479 44.5,-493 59.5,-493 59.5,-479 44.5,-479\"/>\n",
       "<text text-anchor=\"start\" x=\"45.5\" y=\"-483.2\" font-family=\"Helvetica,sans-Serif\" font-size=\"11.00\" fill=\"#444443\"> 4</text>\n",
       "</g>\n",
       "<!-- node52300856 -->\n",
       "<g id=\"node2\" class=\"node\">\n",
       "<title>node52300856</title>\n",
       "<polygon fill=\"#d9e6f5\" stroke=\"#444443\" stroke-width=\".5\" points=\"85,-470 0,-470 0,-440 85,-440 85,-470\"/>\n",
       "<polygon fill=\"#d9e6f5\" stroke=\"transparent\" points=\"2.5,-454 2.5,-468 83.5,-468 83.5,-454 2.5,-454\"/>\n",
       "<polyline fill=\"none\" stroke=\"#444443\" points=\"2.5,-454 83.5,-454 \"/>\n",
       "<text text-anchor=\"start\" x=\"3.5\" y=\"-458.2\" font-family=\"Times,serif\" font-style=\"italic\" font-size=\"11.00\" fill=\"#444443\">wrapped_function</text>\n",
       "<polygon fill=\"#d9e6f5\" stroke=\"transparent\" points=\"2.5,-452 2.5,-454 83.5,-454 83.5,-452 2.5,-452\"/>\n",
       "<text text-anchor=\"start\" x=\"19.5\" y=\"-444.8\" font-family=\"Helvetica,sans-Serif\" font-size=\"9.00\" fill=\"#444443\"> ... </text>\n",
       "</g>\n",
       "<!-- node52368264&#45;&gt;node52300856 -->\n",
       "<!-- node52572888 -->\n",
       "<g id=\"node3\" class=\"node\">\n",
       "<title>node52572888</title>\n",
       "<polygon fill=\"#d9e6f5\" stroke=\"#444443\" stroke-width=\".5\" points=\"67,-433 18,-433 18,-367 67,-367 67,-433\"/>\n",
       "<polygon fill=\"#d9e6f5\" stroke=\"transparent\" points=\"20.5,-417 20.5,-431 65.5,-431 65.5,-417 20.5,-417\"/>\n",
       "<polyline fill=\"none\" stroke=\"#444443\" points=\"20.5,-417 65.5,-417 \"/>\n",
       "<text text-anchor=\"start\" x=\"21.5\" y=\"-421.2\" font-family=\"Times,serif\" font-style=\"italic\" font-size=\"11.00\" fill=\"#444443\">factorial4</text>\n",
       "<polygon fill=\"#d9e6f5\" stroke=\"transparent\" points=\"20.5,-415 20.5,-417 65.5,-417 65.5,-415 20.5,-415\"/>\n",
       "<polygon fill=\"#d9e6f5\" stroke=\"transparent\" points=\"20.5,-401 20.5,-415 43.5,-415 43.5,-401 20.5,-401\"/>\n",
       "<polyline fill=\"none\" stroke=\"#444443\" points=\"43.5,-401 43.5,-415 \"/>\n",
       "<text text-anchor=\"start\" x=\"33.5\" y=\"-405.2\" font-family=\"Times,serif\" font-style=\"italic\" font-size=\"11.00\" fill=\"#444443\">n </text>\n",
       "<polygon fill=\"#d9e6f5\" stroke=\"transparent\" points=\"48.5,-401 48.5,-415 65.5,-415 65.5,-401 48.5,-401\"/>\n",
       "<text text-anchor=\"start\" x=\"49.5\" y=\"-405.2\" font-family=\"Helvetica,sans-Serif\" font-size=\"11.00\" fill=\"#444443\"> 4</text>\n",
       "<polygon fill=\"#d9e6f5\" stroke=\"transparent\" points=\"20.5,-399 20.5,-401 65.5,-401 65.5,-399 20.5,-399\"/>\n",
       "<polygon fill=\"#d9e6f5\" stroke=\"transparent\" points=\"20.5,-385 20.5,-399 43.5,-399 43.5,-385 20.5,-385\"/>\n",
       "<polyline fill=\"none\" stroke=\"#444443\" points=\"43.5,-385 43.5,-399 \"/>\n",
       "<text text-anchor=\"start\" x=\"30.5\" y=\"-389.2\" font-family=\"Times,serif\" font-style=\"italic\" font-size=\"11.00\" fill=\"#444443\">f0 </text>\n",
       "<polygon fill=\"#d9e6f5\" stroke=\"transparent\" points=\"48.5,-385 48.5,-399 65.5,-399 65.5,-385 48.5,-385\"/>\n",
       "<text text-anchor=\"start\" x=\"49.5\" y=\"-389.2\" font-family=\"Helvetica,sans-Serif\" font-size=\"11.00\" fill=\"#444443\"> 0</text>\n",
       "<polygon fill=\"#d9e6f5\" stroke=\"transparent\" points=\"20.5,-383 20.5,-385 65.5,-385 65.5,-383 20.5,-383\"/>\n",
       "<polygon fill=\"#d9e6f5\" stroke=\"transparent\" points=\"20.5,-369 20.5,-383 43.5,-383 43.5,-369 20.5,-369\"/>\n",
       "<polyline fill=\"none\" stroke=\"#444443\" points=\"43.5,-369 43.5,-383 \"/>\n",
       "<text text-anchor=\"start\" x=\"30.5\" y=\"-373.2\" font-family=\"Times,serif\" font-style=\"italic\" font-size=\"11.00\" fill=\"#444443\">f1 </text>\n",
       "<polygon fill=\"#d9e6f5\" stroke=\"transparent\" points=\"48.5,-369 48.5,-383 65.5,-383 65.5,-369 48.5,-369\"/>\n",
       "<text text-anchor=\"start\" x=\"49.5\" y=\"-373.2\" font-family=\"Helvetica,sans-Serif\" font-size=\"11.00\" fill=\"#444443\"> 1</text>\n",
       "</g>\n",
       "<!-- node52300856&#45;&gt;node52572888 -->\n",
       "<!-- node52289640 -->\n",
       "<g id=\"node4\" class=\"node\">\n",
       "<title>node52289640</title>\n",
       "<polygon fill=\"#d9e6f5\" stroke=\"#444443\" stroke-width=\".5\" points=\"85,-360 0,-360 0,-330 85,-330 85,-360\"/>\n",
       "<polygon fill=\"#d9e6f5\" stroke=\"transparent\" points=\"2.5,-344 2.5,-358 83.5,-358 83.5,-344 2.5,-344\"/>\n",
       "<polyline fill=\"none\" stroke=\"#444443\" points=\"2.5,-344 83.5,-344 \"/>\n",
       "<text text-anchor=\"start\" x=\"3.5\" y=\"-348.2\" font-family=\"Times,serif\" font-style=\"italic\" font-size=\"11.00\" fill=\"#444443\">wrapped_function</text>\n",
       "<polygon fill=\"#d9e6f5\" stroke=\"transparent\" points=\"2.5,-342 2.5,-344 83.5,-344 83.5,-342 2.5,-342\"/>\n",
       "<text text-anchor=\"start\" x=\"19.5\" y=\"-334.8\" font-family=\"Helvetica,sans-Serif\" font-size=\"9.00\" fill=\"#444443\"> ... </text>\n",
       "</g>\n",
       "<!-- node52572888&#45;&gt;node52289640 -->\n",
       "<!-- node52302344 -->\n",
       "<g id=\"node5\" class=\"node\">\n",
       "<title>node52302344</title>\n",
       "<polygon fill=\"#d9e6f5\" stroke=\"#444443\" stroke-width=\".5\" points=\"67,-323 18,-323 18,-257 67,-257 67,-323\"/>\n",
       "<polygon fill=\"#d9e6f5\" stroke=\"transparent\" points=\"20.5,-307 20.5,-321 65.5,-321 65.5,-307 20.5,-307\"/>\n",
       "<polyline fill=\"none\" stroke=\"#444443\" points=\"20.5,-307 65.5,-307 \"/>\n",
       "<text text-anchor=\"start\" x=\"21.5\" y=\"-311.2\" font-family=\"Times,serif\" font-style=\"italic\" font-size=\"11.00\" fill=\"#444443\">factorial4</text>\n",
       "<polygon fill=\"#d9e6f5\" stroke=\"transparent\" points=\"20.5,-305 20.5,-307 65.5,-307 65.5,-305 20.5,-305\"/>\n",
       "<polygon fill=\"#d9e6f5\" stroke=\"transparent\" points=\"20.5,-291 20.5,-305 43.5,-305 43.5,-291 20.5,-291\"/>\n",
       "<polyline fill=\"none\" stroke=\"#444443\" points=\"43.5,-291 43.5,-305 \"/>\n",
       "<text text-anchor=\"start\" x=\"33.5\" y=\"-295.2\" font-family=\"Times,serif\" font-style=\"italic\" font-size=\"11.00\" fill=\"#444443\">n </text>\n",
       "<polygon fill=\"#d9e6f5\" stroke=\"transparent\" points=\"48.5,-291 48.5,-305 65.5,-305 65.5,-291 48.5,-291\"/>\n",
       "<text text-anchor=\"start\" x=\"49.5\" y=\"-295.2\" font-family=\"Helvetica,sans-Serif\" font-size=\"11.00\" fill=\"#444443\"> 3</text>\n",
       "<polygon fill=\"#d9e6f5\" stroke=\"transparent\" points=\"20.5,-289 20.5,-291 65.5,-291 65.5,-289 20.5,-289\"/>\n",
       "<polygon fill=\"#d9e6f5\" stroke=\"transparent\" points=\"20.5,-275 20.5,-289 43.5,-289 43.5,-275 20.5,-275\"/>\n",
       "<polyline fill=\"none\" stroke=\"#444443\" points=\"43.5,-275 43.5,-289 \"/>\n",
       "<text text-anchor=\"start\" x=\"30.5\" y=\"-279.2\" font-family=\"Times,serif\" font-style=\"italic\" font-size=\"11.00\" fill=\"#444443\">f0 </text>\n",
       "<polygon fill=\"#d9e6f5\" stroke=\"transparent\" points=\"48.5,-275 48.5,-289 65.5,-289 65.5,-275 48.5,-275\"/>\n",
       "<text text-anchor=\"start\" x=\"49.5\" y=\"-279.2\" font-family=\"Helvetica,sans-Serif\" font-size=\"11.00\" fill=\"#444443\"> 0</text>\n",
       "<polygon fill=\"#d9e6f5\" stroke=\"transparent\" points=\"20.5,-273 20.5,-275 65.5,-275 65.5,-273 20.5,-273\"/>\n",
       "<polygon fill=\"#d9e6f5\" stroke=\"transparent\" points=\"20.5,-259 20.5,-273 43.5,-273 43.5,-259 20.5,-259\"/>\n",
       "<polyline fill=\"none\" stroke=\"#444443\" points=\"43.5,-259 43.5,-273 \"/>\n",
       "<text text-anchor=\"start\" x=\"30.5\" y=\"-263.2\" font-family=\"Times,serif\" font-style=\"italic\" font-size=\"11.00\" fill=\"#444443\">f1 </text>\n",
       "<polygon fill=\"#d9e6f5\" stroke=\"transparent\" points=\"48.5,-259 48.5,-273 65.5,-273 65.5,-259 48.5,-259\"/>\n",
       "<text text-anchor=\"start\" x=\"49.5\" y=\"-263.2\" font-family=\"Helvetica,sans-Serif\" font-size=\"11.00\" fill=\"#444443\"> 1</text>\n",
       "</g>\n",
       "<!-- node52289640&#45;&gt;node52302344 -->\n",
       "<!-- node51698888 -->\n",
       "<g id=\"node6\" class=\"node\">\n",
       "<title>node51698888</title>\n",
       "<polygon fill=\"#d9e6f5\" stroke=\"#444443\" stroke-width=\".5\" points=\"85,-250 0,-250 0,-220 85,-220 85,-250\"/>\n",
       "<polygon fill=\"#d9e6f5\" stroke=\"transparent\" points=\"2.5,-234 2.5,-248 83.5,-248 83.5,-234 2.5,-234\"/>\n",
       "<polyline fill=\"none\" stroke=\"#444443\" points=\"2.5,-234 83.5,-234 \"/>\n",
       "<text text-anchor=\"start\" x=\"3.5\" y=\"-238.2\" font-family=\"Times,serif\" font-style=\"italic\" font-size=\"11.00\" fill=\"#444443\">wrapped_function</text>\n",
       "<polygon fill=\"#d9e6f5\" stroke=\"transparent\" points=\"2.5,-232 2.5,-234 83.5,-234 83.5,-232 2.5,-232\"/>\n",
       "<text text-anchor=\"start\" x=\"19.5\" y=\"-224.8\" font-family=\"Helvetica,sans-Serif\" font-size=\"9.00\" fill=\"#444443\"> ... </text>\n",
       "</g>\n",
       "<!-- node52302344&#45;&gt;node51698888 -->\n",
       "<!-- node52518392 -->\n",
       "<g id=\"node7\" class=\"node\">\n",
       "<title>node52518392</title>\n",
       "<polygon fill=\"#d9e6f5\" stroke=\"#444443\" stroke-width=\".5\" points=\"67,-213 18,-213 18,-147 67,-147 67,-213\"/>\n",
       "<polygon fill=\"#d9e6f5\" stroke=\"transparent\" points=\"20.5,-197 20.5,-211 65.5,-211 65.5,-197 20.5,-197\"/>\n",
       "<polyline fill=\"none\" stroke=\"#444443\" points=\"20.5,-197 65.5,-197 \"/>\n",
       "<text text-anchor=\"start\" x=\"21.5\" y=\"-201.2\" font-family=\"Times,serif\" font-style=\"italic\" font-size=\"11.00\" fill=\"#444443\">factorial4</text>\n",
       "<polygon fill=\"#d9e6f5\" stroke=\"transparent\" points=\"20.5,-195 20.5,-197 65.5,-197 65.5,-195 20.5,-195\"/>\n",
       "<polygon fill=\"#d9e6f5\" stroke=\"transparent\" points=\"20.5,-181 20.5,-195 43.5,-195 43.5,-181 20.5,-181\"/>\n",
       "<polyline fill=\"none\" stroke=\"#444443\" points=\"43.5,-181 43.5,-195 \"/>\n",
       "<text text-anchor=\"start\" x=\"33.5\" y=\"-185.2\" font-family=\"Times,serif\" font-style=\"italic\" font-size=\"11.00\" fill=\"#444443\">n </text>\n",
       "<polygon fill=\"#d9e6f5\" stroke=\"transparent\" points=\"48.5,-181 48.5,-195 65.5,-195 65.5,-181 48.5,-181\"/>\n",
       "<text text-anchor=\"start\" x=\"49.5\" y=\"-185.2\" font-family=\"Helvetica,sans-Serif\" font-size=\"11.00\" fill=\"#444443\"> 2</text>\n",
       "<polygon fill=\"#d9e6f5\" stroke=\"transparent\" points=\"20.5,-179 20.5,-181 65.5,-181 65.5,-179 20.5,-179\"/>\n",
       "<polygon fill=\"#d9e6f5\" stroke=\"transparent\" points=\"20.5,-165 20.5,-179 43.5,-179 43.5,-165 20.5,-165\"/>\n",
       "<polyline fill=\"none\" stroke=\"#444443\" points=\"43.5,-165 43.5,-179 \"/>\n",
       "<text text-anchor=\"start\" x=\"30.5\" y=\"-169.2\" font-family=\"Times,serif\" font-style=\"italic\" font-size=\"11.00\" fill=\"#444443\">f0 </text>\n",
       "<polygon fill=\"#d9e6f5\" stroke=\"transparent\" points=\"48.5,-165 48.5,-179 65.5,-179 65.5,-165 48.5,-165\"/>\n",
       "<text text-anchor=\"start\" x=\"49.5\" y=\"-169.2\" font-family=\"Helvetica,sans-Serif\" font-size=\"11.00\" fill=\"#444443\"> 0</text>\n",
       "<polygon fill=\"#d9e6f5\" stroke=\"transparent\" points=\"20.5,-163 20.5,-165 65.5,-165 65.5,-163 20.5,-163\"/>\n",
       "<polygon fill=\"#d9e6f5\" stroke=\"transparent\" points=\"20.5,-149 20.5,-163 43.5,-163 43.5,-149 20.5,-149\"/>\n",
       "<polyline fill=\"none\" stroke=\"#444443\" points=\"43.5,-149 43.5,-163 \"/>\n",
       "<text text-anchor=\"start\" x=\"30.5\" y=\"-153.2\" font-family=\"Times,serif\" font-style=\"italic\" font-size=\"11.00\" fill=\"#444443\">f1 </text>\n",
       "<polygon fill=\"#d9e6f5\" stroke=\"transparent\" points=\"48.5,-149 48.5,-163 65.5,-163 65.5,-149 48.5,-149\"/>\n",
       "<text text-anchor=\"start\" x=\"49.5\" y=\"-153.2\" font-family=\"Helvetica,sans-Serif\" font-size=\"11.00\" fill=\"#444443\"> 1</text>\n",
       "</g>\n",
       "<!-- node51698888&#45;&gt;node52518392 -->\n",
       "<!-- node52508424 -->\n",
       "<g id=\"node8\" class=\"node\">\n",
       "<title>node52508424</title>\n",
       "<polygon fill=\"#d9e6f5\" stroke=\"#444443\" stroke-width=\".5\" points=\"85,-140 0,-140 0,-110 85,-110 85,-140\"/>\n",
       "<polygon fill=\"#d9e6f5\" stroke=\"transparent\" points=\"2.5,-124 2.5,-138 83.5,-138 83.5,-124 2.5,-124\"/>\n",
       "<polyline fill=\"none\" stroke=\"#444443\" points=\"2.5,-124 83.5,-124 \"/>\n",
       "<text text-anchor=\"start\" x=\"3.5\" y=\"-128.2\" font-family=\"Times,serif\" font-style=\"italic\" font-size=\"11.00\" fill=\"#444443\">wrapped_function</text>\n",
       "<polygon fill=\"#d9e6f5\" stroke=\"transparent\" points=\"2.5,-122 2.5,-124 83.5,-124 83.5,-122 2.5,-122\"/>\n",
       "<text text-anchor=\"start\" x=\"19.5\" y=\"-114.8\" font-family=\"Helvetica,sans-Serif\" font-size=\"9.00\" fill=\"#444443\"> ... </text>\n",
       "</g>\n",
       "<!-- node52518392&#45;&gt;node52508424 -->\n",
       "<!-- node51700728 -->\n",
       "<g id=\"node9\" class=\"node\">\n",
       "<title>node51700728</title>\n",
       "<polygon fill=\"#d9e6f5\" stroke=\"#444443\" stroke-width=\".5\" points=\"67,-103 18,-103 18,-37 67,-37 67,-103\"/>\n",
       "<polygon fill=\"#d9e6f5\" stroke=\"transparent\" points=\"20.5,-87 20.5,-101 65.5,-101 65.5,-87 20.5,-87\"/>\n",
       "<polyline fill=\"none\" stroke=\"#444443\" points=\"20.5,-87 65.5,-87 \"/>\n",
       "<text text-anchor=\"start\" x=\"21.5\" y=\"-91.2\" font-family=\"Times,serif\" font-style=\"italic\" font-size=\"11.00\" fill=\"#444443\">factorial4</text>\n",
       "<polygon fill=\"#d9e6f5\" stroke=\"transparent\" points=\"20.5,-85 20.5,-87 65.5,-87 65.5,-85 20.5,-85\"/>\n",
       "<polygon fill=\"#d9e6f5\" stroke=\"transparent\" points=\"20.5,-71 20.5,-85 43.5,-85 43.5,-71 20.5,-71\"/>\n",
       "<polyline fill=\"none\" stroke=\"#444443\" points=\"43.5,-71 43.5,-85 \"/>\n",
       "<text text-anchor=\"start\" x=\"33.5\" y=\"-75.2\" font-family=\"Times,serif\" font-style=\"italic\" font-size=\"11.00\" fill=\"#444443\">n </text>\n",
       "<polygon fill=\"#d9e6f5\" stroke=\"transparent\" points=\"48.5,-71 48.5,-85 65.5,-85 65.5,-71 48.5,-71\"/>\n",
       "<text text-anchor=\"start\" x=\"49.5\" y=\"-75.2\" font-family=\"Helvetica,sans-Serif\" font-size=\"11.00\" fill=\"#444443\"> 1</text>\n",
       "<polygon fill=\"#d9e6f5\" stroke=\"transparent\" points=\"20.5,-69 20.5,-71 65.5,-71 65.5,-69 20.5,-69\"/>\n",
       "<polygon fill=\"#d9e6f5\" stroke=\"transparent\" points=\"20.5,-55 20.5,-69 43.5,-69 43.5,-55 20.5,-55\"/>\n",
       "<polyline fill=\"none\" stroke=\"#444443\" points=\"43.5,-55 43.5,-69 \"/>\n",
       "<text text-anchor=\"start\" x=\"30.5\" y=\"-59.2\" font-family=\"Times,serif\" font-style=\"italic\" font-size=\"11.00\" fill=\"#444443\">f0 </text>\n",
       "<polygon fill=\"#d9e6f5\" stroke=\"transparent\" points=\"48.5,-55 48.5,-69 65.5,-69 65.5,-55 48.5,-55\"/>\n",
       "<text text-anchor=\"start\" x=\"49.5\" y=\"-59.2\" font-family=\"Helvetica,sans-Serif\" font-size=\"11.00\" fill=\"#444443\"> 0</text>\n",
       "<polygon fill=\"#d9e6f5\" stroke=\"transparent\" points=\"20.5,-53 20.5,-55 65.5,-55 65.5,-53 20.5,-53\"/>\n",
       "<polygon fill=\"#d9e6f5\" stroke=\"transparent\" points=\"20.5,-39 20.5,-53 43.5,-53 43.5,-39 20.5,-39\"/>\n",
       "<polyline fill=\"none\" stroke=\"#444443\" points=\"43.5,-39 43.5,-53 \"/>\n",
       "<text text-anchor=\"start\" x=\"30.5\" y=\"-43.2\" font-family=\"Times,serif\" font-style=\"italic\" font-size=\"11.00\" fill=\"#444443\">f1 </text>\n",
       "<polygon fill=\"#d9e6f5\" stroke=\"transparent\" points=\"48.5,-39 48.5,-53 65.5,-53 65.5,-39 48.5,-39\"/>\n",
       "<text text-anchor=\"start\" x=\"49.5\" y=\"-43.2\" font-family=\"Helvetica,sans-Serif\" font-size=\"11.00\" fill=\"#444443\"> 1</text>\n",
       "</g>\n",
       "<!-- node52508424&#45;&gt;node51700728 -->\n",
       "<!-- node52233672 -->\n",
       "<g id=\"node10\" class=\"node\">\n",
       "<title>node52233672</title>\n",
       "<polygon fill=\"#d9e6f5\" stroke=\"#444443\" stroke-width=\".5\" points=\"85,-30 0,-30 0,0 85,0 85,-30\"/>\n",
       "<polygon fill=\"#d9e6f5\" stroke=\"transparent\" points=\"2.5,-14 2.5,-28 83.5,-28 83.5,-14 2.5,-14\"/>\n",
       "<polyline fill=\"none\" stroke=\"#444443\" points=\"2.5,-14 83.5,-14 \"/>\n",
       "<text text-anchor=\"start\" x=\"3.5\" y=\"-18.2\" font-family=\"Times,serif\" font-style=\"italic\" font-size=\"11.00\" fill=\"#444443\">wrapped_function</text>\n",
       "<polygon fill=\"#d9e6f5\" stroke=\"transparent\" points=\"2.5,-12 2.5,-14 83.5,-14 83.5,-12 2.5,-12\"/>\n",
       "<text text-anchor=\"start\" x=\"19.5\" y=\"-4.8\" font-family=\"Helvetica,sans-Serif\" font-size=\"9.00\" fill=\"#444443\"> ... </text>\n",
       "</g>\n",
       "<!-- node51700728&#45;&gt;node52233672 -->\n",
       "</g>\n",
       "</svg>\n"
      ],
      "text/plain": [
       "<graphviz.files.Source at 0x7f1b260002e8>"
      ]
     },
     "metadata": {},
     "output_type": "display_data"
    },
    {
     "name": "stdout",
     "output_type": "stream",
     "text": [
      "4! = 24\n"
     ]
    }
   ],
   "source": [
    "@show_recursion()\n",
    "def factorial4(n, f0=0, f1=1):\n",
    "    # this is automatically done: display(viz(varnames=[\"n\"], mode=\"call\"))\n",
    "    if n < 0: return f0\n",
    "    elif n == 0: return f1\n",
    "    else: return n * factorial4(n - 1, f0=f0, f1=f1)\n",
    "    \n",
    "n = 4\n",
    "print(f\"{n}! = {factorial4(n)}\")"
   ]
  },
  {
   "cell_type": "markdown",
   "metadata": {},
   "source": [
    "Well it works, but it's not clean.\n",
    "\n",
    "I would very much prefer something like [rcviz](https://github.com/DamnedFacts/rcviz), or a more powerful tool like [pyan](https://github.com/davidfraser/pyan) or [pycallgraph](http://pycallgraph.slowchop.com/en/master/).\n",
    "\n",
    "From the standard library, I just discovered the [trace](https://docs.python.org/3.6/library/trace.html) module, but it seems to be oriented for the command line usage, not in a notebook."
   ]
  },
  {
   "cell_type": "markdown",
   "metadata": {},
   "source": [
    "#### Trying `rcviz`"
   ]
  },
  {
   "cell_type": "code",
   "execution_count": 278,
   "metadata": {
    "ExecuteTime": {
     "end_time": "2021-02-22T22:32:04.364752Z",
     "start_time": "2021-02-22T22:32:01.368586Z"
    }
   },
   "outputs": [
    {
     "name": "stdout",
     "output_type": "stream",
     "text": [
      "Defaulting to user installation because normal site-packages is not writeable\n",
      "Collecting git+https://github.com/DamnedFacts/rcviz\n",
      "  Cloning https://github.com/DamnedFacts/rcviz to /tmp/pip-req-build-5jsw_yji\n",
      "Requirement already satisfied: graphviz in /usr/local/lib/python3.6/dist-packages (from rcviz==0.2) (0.16)\n",
      "\u001b[33mWARNING: You are using pip version 20.3.3; however, version 21.0.1 is available.\n",
      "You should consider upgrading via the '/usr/bin/python3 -m pip install --upgrade pip' command.\u001b[0m\n"
     ]
    }
   ],
   "source": [
    "!pip install git+https://github.com/DamnedFacts/rcviz"
   ]
  },
  {
   "cell_type": "code",
   "execution_count": 289,
   "metadata": {
    "ExecuteTime": {
     "end_time": "2021-02-22T22:36:38.280618Z",
     "start_time": "2021-02-22T22:36:38.277390Z"
    }
   },
   "outputs": [],
   "source": [
    "import rcviz"
   ]
  },
  {
   "cell_type": "code",
   "execution_count": 290,
   "metadata": {
    "ExecuteTime": {
     "end_time": "2021-02-22T22:36:46.037121Z",
     "start_time": "2021-02-22T22:36:45.920038Z"
    }
   },
   "outputs": [
    {
     "name": "stdout",
     "output_type": "stream",
     "text": [
      "4! = 24\n",
      "callviz: Rendering in inline in Jupyter Notebook\n"
     ]
    },
    {
     "data": {
      "image/svg+xml": [
       "<?xml version=\"1.0\" encoding=\"UTF-8\" standalone=\"no\"?>\n",
       "<!DOCTYPE svg PUBLIC \"-//W3C//DTD SVG 1.1//EN\"\n",
       " \"http://www.w3.org/Graphics/SVG/1.1/DTD/svg11.dtd\">\n",
       "<!-- Generated by graphviz version 2.40.1 (20161225.0304)\n",
       " -->\n",
       "<!-- Title: %3 Pages: 1 -->\n",
       "<svg width=\"96pt\" height=\"436pt\"\n",
       " viewBox=\"0.00 0.00 96.00 436.00\" xmlns=\"http://www.w3.org/2000/svg\" xmlns:xlink=\"http://www.w3.org/1999/xlink\">\n",
       "<g id=\"graph0\" class=\"graph\" transform=\"scale(1 1) rotate(0) translate(4 432)\">\n",
       "<title>%3</title>\n",
       "<polygon fill=\"#ffffff\" stroke=\"transparent\" points=\"-4,4 -4,-432 92,-432 92,4 -4,4\"/>\n",
       "<text text-anchor=\"middle\" x=\"44\" y=\"-7.8\" font-family=\"Helvetica,sans-Serif\" font-size=\"14.00\" fill=\"#000000\">nodes=5</text>\n",
       "<!-- 52454264 -->\n",
       "<g id=\"node1\" class=\"node\">\n",
       "<title>52454264</title>\n",
       "<path fill=\"none\" stroke=\"#000000\" d=\"M12,-383.5C12,-383.5 76,-383.5 76,-383.5 82,-383.5 88,-389.5 88,-395.5 88,-395.5 88,-415.5 88,-415.5 88,-421.5 82,-427.5 76,-427.5 76,-427.5 12,-427.5 12,-427.5 6,-427.5 0,-421.5 0,-415.5 0,-415.5 0,-395.5 0,-395.5 0,-389.5 6,-383.5 12,-383.5\"/>\n",
       "<text text-anchor=\"middle\" x=\"44\" y=\"-413.1\" font-family=\"Helvetica,sans-Serif\" font-size=\"13.00\" fill=\"#000000\">factorial5(4)</text>\n",
       "<polyline fill=\"none\" stroke=\"#000000\" points=\"0,-405.5 88,-405.5 \"/>\n",
       "<text text-anchor=\"middle\" x=\"44\" y=\"-391.1\" font-family=\"Helvetica,sans-Serif\" font-size=\"13.00\" fill=\"#000000\">ret: 24</text>\n",
       "</g>\n",
       "<!-- 51188824 -->\n",
       "<g id=\"node2\" class=\"node\">\n",
       "<title>51188824</title>\n",
       "<path fill=\"none\" stroke=\"#000000\" d=\"M12,-293.5C12,-293.5 76,-293.5 76,-293.5 82,-293.5 88,-299.5 88,-305.5 88,-305.5 88,-325.5 88,-325.5 88,-331.5 82,-337.5 76,-337.5 76,-337.5 12,-337.5 12,-337.5 6,-337.5 0,-331.5 0,-325.5 0,-325.5 0,-305.5 0,-305.5 0,-299.5 6,-293.5 12,-293.5\"/>\n",
       "<text text-anchor=\"middle\" x=\"44\" y=\"-323.1\" font-family=\"Helvetica,sans-Serif\" font-size=\"13.00\" fill=\"#000000\">factorial5(3)</text>\n",
       "<polyline fill=\"none\" stroke=\"#000000\" points=\"0,-315.5 88,-315.5 \"/>\n",
       "<text text-anchor=\"middle\" x=\"44\" y=\"-301.1\" font-family=\"Helvetica,sans-Serif\" font-size=\"13.00\" fill=\"#000000\">ret: 6</text>\n",
       "</g>\n",
       "<!-- 52454264&#45;&gt;51188824 -->\n",
       "<g id=\"edge1\" class=\"edge\">\n",
       "<title>52454264&#45;&gt;51188824</title>\n",
       "<path fill=\"none\" stroke=\"#282828\" d=\"M44,-383.2528C44,-372.6517 44,-359.7644 44,-348.087\"/>\n",
       "<polygon fill=\"#282828\" stroke=\"#282828\" points=\"47.5001,-347.8031 44,-337.8032 40.5001,-347.8032 47.5001,-347.8031\"/>\n",
       "<text text-anchor=\"middle\" x=\"56.5\" y=\"-358.6\" font-family=\"Helvetica,sans-Serif\" font-size=\"8.00\" fill=\"#999999\">1 (⇑4)</text>\n",
       "</g>\n",
       "<!-- 52429000 -->\n",
       "<g id=\"node3\" class=\"node\">\n",
       "<title>52429000</title>\n",
       "<path fill=\"none\" stroke=\"#000000\" d=\"M12,-203.5C12,-203.5 76,-203.5 76,-203.5 82,-203.5 88,-209.5 88,-215.5 88,-215.5 88,-235.5 88,-235.5 88,-241.5 82,-247.5 76,-247.5 76,-247.5 12,-247.5 12,-247.5 6,-247.5 0,-241.5 0,-235.5 0,-235.5 0,-215.5 0,-215.5 0,-209.5 6,-203.5 12,-203.5\"/>\n",
       "<text text-anchor=\"middle\" x=\"44\" y=\"-233.1\" font-family=\"Helvetica,sans-Serif\" font-size=\"13.00\" fill=\"#000000\">factorial5(2)</text>\n",
       "<polyline fill=\"none\" stroke=\"#000000\" points=\"0,-225.5 88,-225.5 \"/>\n",
       "<text text-anchor=\"middle\" x=\"44\" y=\"-211.1\" font-family=\"Helvetica,sans-Serif\" font-size=\"13.00\" fill=\"#000000\">ret: 2</text>\n",
       "</g>\n",
       "<!-- 51188824&#45;&gt;52429000 -->\n",
       "<g id=\"edge2\" class=\"edge\">\n",
       "<title>51188824&#45;&gt;52429000</title>\n",
       "<path fill=\"none\" stroke=\"#505050\" d=\"M44,-293.2528C44,-282.6517 44,-269.7644 44,-258.087\"/>\n",
       "<polygon fill=\"#505050\" stroke=\"#505050\" points=\"47.5001,-257.8031 44,-247.8032 40.5001,-257.8032 47.5001,-257.8031\"/>\n",
       "<text text-anchor=\"middle\" x=\"56.5\" y=\"-268.6\" font-family=\"Helvetica,sans-Serif\" font-size=\"8.00\" fill=\"#999999\">2 (⇑3)</text>\n",
       "</g>\n",
       "<!-- 52674728 -->\n",
       "<g id=\"node4\" class=\"node\">\n",
       "<title>52674728</title>\n",
       "<path fill=\"none\" stroke=\"#000000\" d=\"M12,-113.5C12,-113.5 76,-113.5 76,-113.5 82,-113.5 88,-119.5 88,-125.5 88,-125.5 88,-145.5 88,-145.5 88,-151.5 82,-157.5 76,-157.5 76,-157.5 12,-157.5 12,-157.5 6,-157.5 0,-151.5 0,-145.5 0,-145.5 0,-125.5 0,-125.5 0,-119.5 6,-113.5 12,-113.5\"/>\n",
       "<text text-anchor=\"middle\" x=\"44\" y=\"-143.1\" font-family=\"Helvetica,sans-Serif\" font-size=\"13.00\" fill=\"#000000\">factorial5(1)</text>\n",
       "<polyline fill=\"none\" stroke=\"#000000\" points=\"0,-135.5 88,-135.5 \"/>\n",
       "<text text-anchor=\"middle\" x=\"44\" y=\"-121.1\" font-family=\"Helvetica,sans-Serif\" font-size=\"13.00\" fill=\"#000000\">ret: 1</text>\n",
       "</g>\n",
       "<!-- 52429000&#45;&gt;52674728 -->\n",
       "<g id=\"edge3\" class=\"edge\">\n",
       "<title>52429000&#45;&gt;52674728</title>\n",
       "<path fill=\"none\" stroke=\"#787878\" d=\"M44,-203.2528C44,-192.6517 44,-179.7644 44,-168.087\"/>\n",
       "<polygon fill=\"#787878\" stroke=\"#787878\" points=\"47.5001,-167.8031 44,-157.8032 40.5001,-167.8032 47.5001,-167.8031\"/>\n",
       "<text text-anchor=\"middle\" x=\"56.5\" y=\"-178.6\" font-family=\"Helvetica,sans-Serif\" font-size=\"8.00\" fill=\"#999999\">3 (⇑2)</text>\n",
       "</g>\n",
       "<!-- 52203256 -->\n",
       "<g id=\"node5\" class=\"node\">\n",
       "<title>52203256</title>\n",
       "<path fill=\"none\" stroke=\"#000000\" d=\"M12,-23.5C12,-23.5 76,-23.5 76,-23.5 82,-23.5 88,-29.5 88,-35.5 88,-35.5 88,-55.5 88,-55.5 88,-61.5 82,-67.5 76,-67.5 76,-67.5 12,-67.5 12,-67.5 6,-67.5 0,-61.5 0,-55.5 0,-55.5 0,-35.5 0,-35.5 0,-29.5 6,-23.5 12,-23.5\"/>\n",
       "<text text-anchor=\"middle\" x=\"44\" y=\"-53.1\" font-family=\"Helvetica,sans-Serif\" font-size=\"13.00\" fill=\"#000000\">factorial5(0)</text>\n",
       "<polyline fill=\"none\" stroke=\"#000000\" points=\"0,-45.5 88,-45.5 \"/>\n",
       "<text text-anchor=\"middle\" x=\"44\" y=\"-31.1\" font-family=\"Helvetica,sans-Serif\" font-size=\"13.00\" fill=\"#000000\">ret: 1</text>\n",
       "</g>\n",
       "<!-- 52674728&#45;&gt;52203256 -->\n",
       "<g id=\"edge4\" class=\"edge\">\n",
       "<title>52674728&#45;&gt;52203256</title>\n",
       "<path fill=\"none\" stroke=\"#a0a0a0\" d=\"M44,-113.2528C44,-102.6517 44,-89.7644 44,-78.087\"/>\n",
       "<polygon fill=\"#a0a0a0\" stroke=\"#a0a0a0\" points=\"47.5001,-77.8031 44,-67.8032 40.5001,-77.8032 47.5001,-77.8031\"/>\n",
       "<text text-anchor=\"middle\" x=\"56.5\" y=\"-88.6\" font-family=\"Helvetica,sans-Serif\" font-size=\"8.00\" fill=\"#999999\">4 (⇑1)</text>\n",
       "</g>\n",
       "</g>\n",
       "</svg>\n"
      ],
      "text/plain": [
       "<graphviz.dot.Digraph at 0x7f1b256cb9e8>"
      ]
     },
     "execution_count": 290,
     "metadata": {},
     "output_type": "execute_result"
    }
   ],
   "source": [
    "cg = rcviz.CallGraph()\n",
    "\n",
    "@rcviz.viz(cg)\n",
    "def factorial5(n):\n",
    "    if n < 0: return 0\n",
    "    elif n == 0: return 1\n",
    "    else: return n * factorial5(n - 1)\n",
    "    \n",
    "n = 4\n",
    "print(f\"{n}! = {factorial5(n)}\")\n",
    "\n",
    "cg.render()"
   ]
  },
  {
   "cell_type": "code",
   "execution_count": 291,
   "metadata": {
    "ExecuteTime": {
     "end_time": "2021-02-22T22:36:59.103651Z",
     "start_time": "2021-02-22T22:36:58.991406Z"
    }
   },
   "outputs": [
    {
     "name": "stdout",
     "output_type": "stream",
     "text": [
      "4! = 3\n",
      "callviz: Rendering in inline in Jupyter Notebook\n"
     ]
    },
    {
     "data": {
      "image/svg+xml": [
       "<?xml version=\"1.0\" encoding=\"UTF-8\" standalone=\"no\"?>\n",
       "<!DOCTYPE svg PUBLIC \"-//W3C//DTD SVG 1.1//EN\"\n",
       " \"http://www.w3.org/Graphics/SVG/1.1/DTD/svg11.dtd\">\n",
       "<!-- Generated by graphviz version 2.40.1 (20161225.0304)\n",
       " -->\n",
       "<!-- Title: %3 Pages: 1 -->\n",
       "<svg width=\"318pt\" height=\"346pt\"\n",
       " viewBox=\"0.00 0.00 318.00 346.00\" xmlns=\"http://www.w3.org/2000/svg\" xmlns:xlink=\"http://www.w3.org/1999/xlink\">\n",
       "<g id=\"graph0\" class=\"graph\" transform=\"scale(1 1) rotate(0) translate(4 342)\">\n",
       "<title>%3</title>\n",
       "<polygon fill=\"#ffffff\" stroke=\"transparent\" points=\"-4,4 -4,-342 314,-342 314,4 -4,4\"/>\n",
       "<text text-anchor=\"middle\" x=\"155\" y=\"-7.8\" font-family=\"Helvetica,sans-Serif\" font-size=\"14.00\" fill=\"#000000\">nodes=9</text>\n",
       "<!-- 52456296 -->\n",
       "<g id=\"node1\" class=\"node\">\n",
       "<title>52456296</title>\n",
       "<path fill=\"none\" stroke=\"#000000\" d=\"M157,-293.5C157,-293.5 188,-293.5 188,-293.5 194,-293.5 200,-299.5 200,-305.5 200,-305.5 200,-325.5 200,-325.5 200,-331.5 194,-337.5 188,-337.5 188,-337.5 157,-337.5 157,-337.5 151,-337.5 145,-331.5 145,-325.5 145,-325.5 145,-305.5 145,-305.5 145,-299.5 151,-293.5 157,-293.5\"/>\n",
       "<text text-anchor=\"middle\" x=\"172.5\" y=\"-323.1\" font-family=\"Helvetica,sans-Serif\" font-size=\"13.00\" fill=\"#000000\">fibo(4)</text>\n",
       "<polyline fill=\"none\" stroke=\"#000000\" points=\"145,-315.5 200,-315.5 \"/>\n",
       "<text text-anchor=\"middle\" x=\"172.5\" y=\"-301.1\" font-family=\"Helvetica,sans-Serif\" font-size=\"13.00\" fill=\"#000000\">ret: 3</text>\n",
       "</g>\n",
       "<!-- 50666760 -->\n",
       "<g id=\"node2\" class=\"node\">\n",
       "<title>50666760</title>\n",
       "<path fill=\"none\" stroke=\"#000000\" d=\"M121,-203.5C121,-203.5 152,-203.5 152,-203.5 158,-203.5 164,-209.5 164,-215.5 164,-215.5 164,-235.5 164,-235.5 164,-241.5 158,-247.5 152,-247.5 152,-247.5 121,-247.5 121,-247.5 115,-247.5 109,-241.5 109,-235.5 109,-235.5 109,-215.5 109,-215.5 109,-209.5 115,-203.5 121,-203.5\"/>\n",
       "<text text-anchor=\"middle\" x=\"136.5\" y=\"-233.1\" font-family=\"Helvetica,sans-Serif\" font-size=\"13.00\" fill=\"#000000\">fibo(3)</text>\n",
       "<polyline fill=\"none\" stroke=\"#000000\" points=\"109,-225.5 164,-225.5 \"/>\n",
       "<text text-anchor=\"middle\" x=\"136.5\" y=\"-211.1\" font-family=\"Helvetica,sans-Serif\" font-size=\"13.00\" fill=\"#000000\">ret: 2</text>\n",
       "</g>\n",
       "<!-- 52456296&#45;&gt;50666760 -->\n",
       "<g id=\"edge1\" class=\"edge\">\n",
       "<title>52456296&#45;&gt;50666760</title>\n",
       "<path fill=\"none\" stroke=\"#161616\" d=\"M163.0232,-293.2693C160.5386,-287.3476 157.8876,-280.9439 155.5,-275 153.214,-269.3091 150.831,-263.2276 148.5563,-257.3443\"/>\n",
       "<polygon fill=\"#161616\" stroke=\"#161616\" points=\"151.7184,-255.8152 144.8666,-247.7341 145.1835,-258.3242 151.7184,-255.8152\"/>\n",
       "<text text-anchor=\"middle\" x=\"168\" y=\"-268.6\" font-family=\"Helvetica,sans-Serif\" font-size=\"8.00\" fill=\"#999999\">1 (⇑5)</text>\n",
       "</g>\n",
       "<!-- 49738120 -->\n",
       "<g id=\"node7\" class=\"node\">\n",
       "<title>49738120</title>\n",
       "<path fill=\"none\" stroke=\"#000000\" d=\"M194,-203.5C194,-203.5 225,-203.5 225,-203.5 231,-203.5 237,-209.5 237,-215.5 237,-215.5 237,-235.5 237,-235.5 237,-241.5 231,-247.5 225,-247.5 225,-247.5 194,-247.5 194,-247.5 188,-247.5 182,-241.5 182,-235.5 182,-235.5 182,-215.5 182,-215.5 182,-209.5 188,-203.5 194,-203.5\"/>\n",
       "<text text-anchor=\"middle\" x=\"209.5\" y=\"-233.1\" font-family=\"Helvetica,sans-Serif\" font-size=\"13.00\" fill=\"#000000\">fibo(2)</text>\n",
       "<polyline fill=\"none\" stroke=\"#000000\" points=\"182,-225.5 237,-225.5 \"/>\n",
       "<text text-anchor=\"middle\" x=\"209.5\" y=\"-211.1\" font-family=\"Helvetica,sans-Serif\" font-size=\"13.00\" fill=\"#000000\">ret: 1</text>\n",
       "</g>\n",
       "<!-- 52456296&#45;&gt;49738120 -->\n",
       "<g id=\"edge2\" class=\"edge\">\n",
       "<title>52456296&#45;&gt;49738120</title>\n",
       "<path fill=\"none\" stroke=\"#848484\" d=\"M181.6461,-293.2528C186.0932,-282.4354 191.519,-269.2375 196.3964,-257.3736\"/>\n",
       "<polygon fill=\"#848484\" stroke=\"#848484\" points=\"199.7656,-258.3829 200.3309,-247.8032 193.2914,-255.7213 199.7656,-258.3829\"/>\n",
       "<text text-anchor=\"middle\" x=\"204\" y=\"-268.6\" font-family=\"Helvetica,sans-Serif\" font-size=\"8.00\" fill=\"#999999\">6 (⇑8)</text>\n",
       "</g>\n",
       "<!-- 51084392 -->\n",
       "<g id=\"node3\" class=\"node\">\n",
       "<title>51084392</title>\n",
       "<path fill=\"none\" stroke=\"#000000\" d=\"M48,-113.5C48,-113.5 79,-113.5 79,-113.5 85,-113.5 91,-119.5 91,-125.5 91,-125.5 91,-145.5 91,-145.5 91,-151.5 85,-157.5 79,-157.5 79,-157.5 48,-157.5 48,-157.5 42,-157.5 36,-151.5 36,-145.5 36,-145.5 36,-125.5 36,-125.5 36,-119.5 42,-113.5 48,-113.5\"/>\n",
       "<text text-anchor=\"middle\" x=\"63.5\" y=\"-143.1\" font-family=\"Helvetica,sans-Serif\" font-size=\"13.00\" fill=\"#000000\">fibo(2)</text>\n",
       "<polyline fill=\"none\" stroke=\"#000000\" points=\"36,-135.5 91,-135.5 \"/>\n",
       "<text text-anchor=\"middle\" x=\"63.5\" y=\"-121.1\" font-family=\"Helvetica,sans-Serif\" font-size=\"13.00\" fill=\"#000000\">ret: 1</text>\n",
       "</g>\n",
       "<!-- 50666760&#45;&gt;51084392 -->\n",
       "<g id=\"edge3\" class=\"edge\">\n",
       "<title>50666760&#45;&gt;51084392</title>\n",
       "<path fill=\"none\" stroke=\"#2c2c2c\" d=\"M118.4551,-203.2528C109.2422,-191.8945 97.9006,-177.9117 87.918,-165.6044\"/>\n",
       "<polygon fill=\"#2c2c2c\" stroke=\"#2c2c2c\" points=\"90.6081,-163.3648 81.5904,-157.8032 85.1716,-167.7744 90.6081,-163.3648\"/>\n",
       "<text text-anchor=\"middle\" x=\"115\" y=\"-178.6\" font-family=\"Helvetica,sans-Serif\" font-size=\"8.00\" fill=\"#999999\">2 (⇑3)</text>\n",
       "</g>\n",
       "<!-- 52434920 -->\n",
       "<g id=\"node6\" class=\"node\">\n",
       "<title>52434920</title>\n",
       "<path fill=\"none\" stroke=\"#000000\" d=\"M121,-113.5C121,-113.5 152,-113.5 152,-113.5 158,-113.5 164,-119.5 164,-125.5 164,-125.5 164,-145.5 164,-145.5 164,-151.5 158,-157.5 152,-157.5 152,-157.5 121,-157.5 121,-157.5 115,-157.5 109,-151.5 109,-145.5 109,-145.5 109,-125.5 109,-125.5 109,-119.5 115,-113.5 121,-113.5\"/>\n",
       "<text text-anchor=\"middle\" x=\"136.5\" y=\"-143.1\" font-family=\"Helvetica,sans-Serif\" font-size=\"13.00\" fill=\"#000000\">fibo(1)</text>\n",
       "<polyline fill=\"none\" stroke=\"#000000\" points=\"109,-135.5 164,-135.5 \"/>\n",
       "<text text-anchor=\"middle\" x=\"136.5\" y=\"-121.1\" font-family=\"Helvetica,sans-Serif\" font-size=\"13.00\" fill=\"#000000\">ret: 1</text>\n",
       "</g>\n",
       "<!-- 50666760&#45;&gt;52434920 -->\n",
       "<g id=\"edge4\" class=\"edge\">\n",
       "<title>50666760&#45;&gt;52434920</title>\n",
       "<path fill=\"none\" stroke=\"#6e6e6e\" d=\"M136.5,-203.2528C136.5,-192.6517 136.5,-179.7644 136.5,-168.087\"/>\n",
       "<polygon fill=\"#6e6e6e\" stroke=\"#6e6e6e\" points=\"140.0001,-167.8031 136.5,-157.8032 133.0001,-167.8032 140.0001,-167.8031\"/>\n",
       "<text text-anchor=\"middle\" x=\"149\" y=\"-178.6\" font-family=\"Helvetica,sans-Serif\" font-size=\"8.00\" fill=\"#999999\">5 (⇑4)</text>\n",
       "</g>\n",
       "<!-- 50598744 -->\n",
       "<g id=\"node4\" class=\"node\">\n",
       "<title>50598744</title>\n",
       "<path fill=\"none\" stroke=\"#000000\" d=\"M12,-23.5C12,-23.5 43,-23.5 43,-23.5 49,-23.5 55,-29.5 55,-35.5 55,-35.5 55,-55.5 55,-55.5 55,-61.5 49,-67.5 43,-67.5 43,-67.5 12,-67.5 12,-67.5 6,-67.5 0,-61.5 0,-55.5 0,-55.5 0,-35.5 0,-35.5 0,-29.5 6,-23.5 12,-23.5\"/>\n",
       "<text text-anchor=\"middle\" x=\"27.5\" y=\"-53.1\" font-family=\"Helvetica,sans-Serif\" font-size=\"13.00\" fill=\"#000000\">fibo(1)</text>\n",
       "<polyline fill=\"none\" stroke=\"#000000\" points=\"0,-45.5 55,-45.5 \"/>\n",
       "<text text-anchor=\"middle\" x=\"27.5\" y=\"-31.1\" font-family=\"Helvetica,sans-Serif\" font-size=\"13.00\" fill=\"#000000\">ret: 1</text>\n",
       "</g>\n",
       "<!-- 51084392&#45;&gt;50598744 -->\n",
       "<g id=\"edge5\" class=\"edge\">\n",
       "<title>51084392&#45;&gt;50598744</title>\n",
       "<path fill=\"none\" stroke=\"#424242\" d=\"M54.6011,-113.2528C50.2741,-102.4354 44.995,-89.2375 40.2494,-77.3736\"/>\n",
       "<polygon fill=\"#424242\" stroke=\"#424242\" points=\"43.3849,-75.7881 36.4213,-67.8032 36.8856,-78.3878 43.3849,-75.7881\"/>\n",
       "<text text-anchor=\"middle\" x=\"60\" y=\"-88.6\" font-family=\"Helvetica,sans-Serif\" font-size=\"8.00\" fill=\"#999999\">3 (⇑1)</text>\n",
       "</g>\n",
       "<!-- 52216536 -->\n",
       "<g id=\"node5\" class=\"node\">\n",
       "<title>52216536</title>\n",
       "<path fill=\"none\" stroke=\"#000000\" d=\"M85,-23.5C85,-23.5 116,-23.5 116,-23.5 122,-23.5 128,-29.5 128,-35.5 128,-35.5 128,-55.5 128,-55.5 128,-61.5 122,-67.5 116,-67.5 116,-67.5 85,-67.5 85,-67.5 79,-67.5 73,-61.5 73,-55.5 73,-55.5 73,-35.5 73,-35.5 73,-29.5 79,-23.5 85,-23.5\"/>\n",
       "<text text-anchor=\"middle\" x=\"100.5\" y=\"-53.1\" font-family=\"Helvetica,sans-Serif\" font-size=\"13.00\" fill=\"#000000\">fibo(0)</text>\n",
       "<polyline fill=\"none\" stroke=\"#000000\" points=\"73,-45.5 128,-45.5 \"/>\n",
       "<text text-anchor=\"middle\" x=\"100.5\" y=\"-31.1\" font-family=\"Helvetica,sans-Serif\" font-size=\"13.00\" fill=\"#000000\">ret: 0</text>\n",
       "</g>\n",
       "<!-- 51084392&#45;&gt;52216536 -->\n",
       "<g id=\"edge6\" class=\"edge\">\n",
       "<title>51084392&#45;&gt;52216536</title>\n",
       "<path fill=\"none\" stroke=\"#585858\" d=\"M72.6461,-113.2528C77.0932,-102.4354 82.519,-89.2375 87.3964,-77.3736\"/>\n",
       "<polygon fill=\"#585858\" stroke=\"#585858\" points=\"90.7656,-78.3829 91.3309,-67.8032 84.2914,-75.7213 90.7656,-78.3829\"/>\n",
       "<text text-anchor=\"middle\" x=\"96\" y=\"-88.6\" font-family=\"Helvetica,sans-Serif\" font-size=\"8.00\" fill=\"#999999\">4 (⇑2)</text>\n",
       "</g>\n",
       "<!-- 51227256 -->\n",
       "<g id=\"node8\" class=\"node\">\n",
       "<title>51227256</title>\n",
       "<path fill=\"none\" stroke=\"#000000\" d=\"M194,-113.5C194,-113.5 225,-113.5 225,-113.5 231,-113.5 237,-119.5 237,-125.5 237,-125.5 237,-145.5 237,-145.5 237,-151.5 231,-157.5 225,-157.5 225,-157.5 194,-157.5 194,-157.5 188,-157.5 182,-151.5 182,-145.5 182,-145.5 182,-125.5 182,-125.5 182,-119.5 188,-113.5 194,-113.5\"/>\n",
       "<text text-anchor=\"middle\" x=\"209.5\" y=\"-143.1\" font-family=\"Helvetica,sans-Serif\" font-size=\"13.00\" fill=\"#000000\">fibo(1)</text>\n",
       "<polyline fill=\"none\" stroke=\"#000000\" points=\"182,-135.5 237,-135.5 \"/>\n",
       "<text text-anchor=\"middle\" x=\"209.5\" y=\"-121.1\" font-family=\"Helvetica,sans-Serif\" font-size=\"13.00\" fill=\"#000000\">ret: 1</text>\n",
       "</g>\n",
       "<!-- 49738120&#45;&gt;51227256 -->\n",
       "<g id=\"edge7\" class=\"edge\">\n",
       "<title>49738120&#45;&gt;51227256</title>\n",
       "<path fill=\"none\" stroke=\"#9a9a9a\" d=\"M209.5,-203.2528C209.5,-192.6517 209.5,-179.7644 209.5,-168.087\"/>\n",
       "<polygon fill=\"#9a9a9a\" stroke=\"#9a9a9a\" points=\"213.0001,-167.8031 209.5,-157.8032 206.0001,-167.8032 213.0001,-167.8031\"/>\n",
       "<text text-anchor=\"middle\" x=\"222\" y=\"-178.6\" font-family=\"Helvetica,sans-Serif\" font-size=\"8.00\" fill=\"#999999\">7 (⇑6)</text>\n",
       "</g>\n",
       "<!-- 52430152 -->\n",
       "<g id=\"node9\" class=\"node\">\n",
       "<title>52430152</title>\n",
       "<path fill=\"none\" stroke=\"#000000\" d=\"M267,-113.5C267,-113.5 298,-113.5 298,-113.5 304,-113.5 310,-119.5 310,-125.5 310,-125.5 310,-145.5 310,-145.5 310,-151.5 304,-157.5 298,-157.5 298,-157.5 267,-157.5 267,-157.5 261,-157.5 255,-151.5 255,-145.5 255,-145.5 255,-125.5 255,-125.5 255,-119.5 261,-113.5 267,-113.5\"/>\n",
       "<text text-anchor=\"middle\" x=\"282.5\" y=\"-143.1\" font-family=\"Helvetica,sans-Serif\" font-size=\"13.00\" fill=\"#000000\">fibo(0)</text>\n",
       "<polyline fill=\"none\" stroke=\"#000000\" points=\"255,-135.5 310,-135.5 \"/>\n",
       "<text text-anchor=\"middle\" x=\"282.5\" y=\"-121.1\" font-family=\"Helvetica,sans-Serif\" font-size=\"13.00\" fill=\"#000000\">ret: 0</text>\n",
       "</g>\n",
       "<!-- 49738120&#45;&gt;52430152 -->\n",
       "<g id=\"edge8\" class=\"edge\">\n",
       "<title>49738120&#45;&gt;52430152</title>\n",
       "<path fill=\"none\" stroke=\"#b0b0b0\" d=\"M227.5449,-203.2528C236.7578,-191.8945 248.0994,-177.9117 258.082,-165.6044\"/>\n",
       "<polygon fill=\"#b0b0b0\" stroke=\"#b0b0b0\" points=\"260.8284,-167.7744 264.4096,-157.8032 255.3919,-163.3648 260.8284,-167.7744\"/>\n",
       "<text text-anchor=\"middle\" x=\"260\" y=\"-178.6\" font-family=\"Helvetica,sans-Serif\" font-size=\"8.00\" fill=\"#999999\">8 (⇑7)</text>\n",
       "</g>\n",
       "</g>\n",
       "</svg>\n"
      ],
      "text/plain": [
       "<graphviz.dot.Digraph at 0x7f1b256dca20>"
      ]
     },
     "execution_count": 291,
     "metadata": {},
     "output_type": "execute_result"
    }
   ],
   "source": [
    "cg = rcviz.CallGraph()\n",
    "\n",
    "@rcviz.viz(cg)\n",
    "def fibo(n):\n",
    "    if n <= 0: return 0\n",
    "    elif n == 1: return 1\n",
    "    else: return fibo(n-1) + fibo(n-2)\n",
    "    \n",
    "n = 4\n",
    "print(f\"{n}! = {fibo(n)}\")\n",
    "\n",
    "cg.render()"
   ]
  },
  {
   "cell_type": "code",
   "execution_count": 292,
   "metadata": {
    "ExecuteTime": {
     "end_time": "2021-02-22T22:37:10.580366Z",
     "start_time": "2021-02-22T22:37:10.425776Z"
    }
   },
   "outputs": [
    {
     "name": "stdout",
     "output_type": "stream",
     "text": [
      "4! = 3\n",
      "callviz: Rendering in inline in Jupyter Notebook\n"
     ]
    },
    {
     "data": {
      "image/svg+xml": [
       "<?xml version=\"1.0\" encoding=\"UTF-8\" standalone=\"no\"?>\n",
       "<!DOCTYPE svg PUBLIC \"-//W3C//DTD SVG 1.1//EN\"\n",
       " \"http://www.w3.org/Graphics/SVG/1.1/DTD/svg11.dtd\">\n",
       "<!-- Generated by graphviz version 2.40.1 (20161225.0304)\n",
       " -->\n",
       "<!-- Title: %3 Pages: 1 -->\n",
       "<svg width=\"230pt\" height=\"346pt\"\n",
       " viewBox=\"0.00 0.00 230.00 346.00\" xmlns=\"http://www.w3.org/2000/svg\" xmlns:xlink=\"http://www.w3.org/1999/xlink\">\n",
       "<g id=\"graph0\" class=\"graph\" transform=\"scale(1 1) rotate(0) translate(4 342)\">\n",
       "<title>%3</title>\n",
       "<polygon fill=\"#ffffff\" stroke=\"transparent\" points=\"-4,4 -4,-342 226,-342 226,4 -4,4\"/>\n",
       "<text text-anchor=\"middle\" x=\"111\" y=\"-7.8\" font-family=\"Helvetica,sans-Serif\" font-size=\"14.00\" fill=\"#000000\">nodes=7</text>\n",
       "<!-- 51835400 -->\n",
       "<g id=\"node1\" class=\"node\">\n",
       "<title>51835400</title>\n",
       "<path fill=\"none\" stroke=\"#000000\" d=\"M148,-293.5C148,-293.5 186,-293.5 186,-293.5 192,-293.5 198,-299.5 198,-305.5 198,-305.5 198,-325.5 198,-325.5 198,-331.5 192,-337.5 186,-337.5 186,-337.5 148,-337.5 148,-337.5 142,-337.5 136,-331.5 136,-325.5 136,-325.5 136,-305.5 136,-305.5 136,-299.5 142,-293.5 148,-293.5\"/>\n",
       "<text text-anchor=\"middle\" x=\"167\" y=\"-323.1\" font-family=\"Helvetica,sans-Serif\" font-size=\"13.00\" fill=\"#000000\">fibo2(4)</text>\n",
       "<polyline fill=\"none\" stroke=\"#000000\" points=\"136,-315.5 198,-315.5 \"/>\n",
       "<text text-anchor=\"middle\" x=\"167\" y=\"-301.1\" font-family=\"Helvetica,sans-Serif\" font-size=\"13.00\" fill=\"#000000\">ret: 3</text>\n",
       "</g>\n",
       "<!-- 52085992 -->\n",
       "<g id=\"node2\" class=\"node\">\n",
       "<title>52085992</title>\n",
       "<path fill=\"none\" stroke=\"#000000\" d=\"M92,-203.5C92,-203.5 130,-203.5 130,-203.5 136,-203.5 142,-209.5 142,-215.5 142,-215.5 142,-235.5 142,-235.5 142,-241.5 136,-247.5 130,-247.5 130,-247.5 92,-247.5 92,-247.5 86,-247.5 80,-241.5 80,-235.5 80,-235.5 80,-215.5 80,-215.5 80,-209.5 86,-203.5 92,-203.5\"/>\n",
       "<text text-anchor=\"middle\" x=\"111\" y=\"-233.1\" font-family=\"Helvetica,sans-Serif\" font-size=\"13.00\" fill=\"#000000\">fibo2(3)</text>\n",
       "<polyline fill=\"none\" stroke=\"#000000\" points=\"80,-225.5 142,-225.5 \"/>\n",
       "<text text-anchor=\"middle\" x=\"111\" y=\"-211.1\" font-family=\"Helvetica,sans-Serif\" font-size=\"13.00\" fill=\"#000000\">ret: 2</text>\n",
       "</g>\n",
       "<!-- 51835400&#45;&gt;52085992 -->\n",
       "<g id=\"edge1\" class=\"edge\">\n",
       "<title>51835400&#45;&gt;52085992</title>\n",
       "<path fill=\"none\" stroke=\"#1c1c1c\" d=\"M153.1573,-293.2528C146.2245,-282.1108 137.7204,-268.4434 130.1704,-256.3095\"/>\n",
       "<polygon fill=\"#1c1c1c\" stroke=\"#1c1c1c\" points=\"133.1323,-254.4447 124.8775,-247.8032 127.1889,-258.1428 133.1323,-254.4447\"/>\n",
       "<text text-anchor=\"middle\" x=\"153.5\" y=\"-268.6\" font-family=\"Helvetica,sans-Serif\" font-size=\"8.00\" fill=\"#999999\">1 (⇑5)</text>\n",
       "</g>\n",
       "<!-- 52900488 -->\n",
       "<g id=\"node7\" class=\"node\">\n",
       "<title>52900488</title>\n",
       "<path fill=\"none\" stroke=\"#000000\" d=\"M172,-203.5C172,-203.5 210,-203.5 210,-203.5 216,-203.5 222,-209.5 222,-215.5 222,-215.5 222,-235.5 222,-235.5 222,-241.5 216,-247.5 210,-247.5 210,-247.5 172,-247.5 172,-247.5 166,-247.5 160,-241.5 160,-235.5 160,-235.5 160,-215.5 160,-215.5 160,-209.5 166,-203.5 172,-203.5\"/>\n",
       "<text text-anchor=\"middle\" x=\"191\" y=\"-233.1\" font-family=\"Helvetica,sans-Serif\" font-size=\"13.00\" fill=\"#000000\">fibo2(2)</text>\n",
       "<polyline fill=\"none\" stroke=\"#000000\" points=\"160,-225.5 222,-225.5 \"/>\n",
       "<text text-anchor=\"middle\" x=\"191\" y=\"-211.1\" font-family=\"Helvetica,sans-Serif\" font-size=\"13.00\" fill=\"#000000\">ret: 1</text>\n",
       "</g>\n",
       "<!-- 51835400&#45;&gt;52900488 -->\n",
       "<g id=\"edge2\" class=\"edge\">\n",
       "<title>51835400&#45;&gt;52900488</title>\n",
       "<path fill=\"none\" stroke=\"#a8a8a8\" d=\"M172.9326,-293.2528C175.7884,-282.5435 179.2664,-269.5012 182.4054,-257.7299\"/>\n",
       "<polygon fill=\"#a8a8a8\" stroke=\"#a8a8a8\" points=\"185.8576,-258.3674 185.0525,-247.8032 179.094,-256.5637 185.8576,-258.3674\"/>\n",
       "<text text-anchor=\"middle\" x=\"191.5\" y=\"-268.6\" font-family=\"Helvetica,sans-Serif\" font-size=\"8.00\" fill=\"#999999\">6 (⇑6)</text>\n",
       "</g>\n",
       "<!-- 52262952 -->\n",
       "<g id=\"node3\" class=\"node\">\n",
       "<title>52262952</title>\n",
       "<path fill=\"none\" stroke=\"#000000\" d=\"M52,-113.5C52,-113.5 90,-113.5 90,-113.5 96,-113.5 102,-119.5 102,-125.5 102,-125.5 102,-145.5 102,-145.5 102,-151.5 96,-157.5 90,-157.5 90,-157.5 52,-157.5 52,-157.5 46,-157.5 40,-151.5 40,-145.5 40,-145.5 40,-125.5 40,-125.5 40,-119.5 46,-113.5 52,-113.5\"/>\n",
       "<text text-anchor=\"middle\" x=\"71\" y=\"-143.1\" font-family=\"Helvetica,sans-Serif\" font-size=\"13.00\" fill=\"#000000\">fibo2(2)</text>\n",
       "<polyline fill=\"none\" stroke=\"#000000\" points=\"40,-135.5 102,-135.5 \"/>\n",
       "<text text-anchor=\"middle\" x=\"71\" y=\"-121.1\" font-family=\"Helvetica,sans-Serif\" font-size=\"13.00\" fill=\"#000000\">ret: 1</text>\n",
       "</g>\n",
       "<!-- 52085992&#45;&gt;52262952 -->\n",
       "<g id=\"edge3\" class=\"edge\">\n",
       "<title>52085992&#45;&gt;52262952</title>\n",
       "<path fill=\"none\" stroke=\"#383838\" d=\"M101.1124,-203.2528C96.2565,-192.3272 90.3214,-178.9733 85.008,-167.018\"/>\n",
       "<polygon fill=\"#383838\" stroke=\"#383838\" points=\"88.1723,-165.5198 80.9125,-157.8032 81.7756,-168.3628 88.1723,-165.5198\"/>\n",
       "<text text-anchor=\"middle\" x=\"105.5\" y=\"-178.6\" font-family=\"Helvetica,sans-Serif\" font-size=\"8.00\" fill=\"#999999\">2 (⇑3)</text>\n",
       "</g>\n",
       "<!-- 53127960 -->\n",
       "<g id=\"node6\" class=\"node\">\n",
       "<title>53127960</title>\n",
       "<path fill=\"none\" stroke=\"#000000\" d=\"M132,-113.5C132,-113.5 170,-113.5 170,-113.5 176,-113.5 182,-119.5 182,-125.5 182,-125.5 182,-145.5 182,-145.5 182,-151.5 176,-157.5 170,-157.5 170,-157.5 132,-157.5 132,-157.5 126,-157.5 120,-151.5 120,-145.5 120,-145.5 120,-125.5 120,-125.5 120,-119.5 126,-113.5 132,-113.5\"/>\n",
       "<text text-anchor=\"middle\" x=\"151\" y=\"-143.1\" font-family=\"Helvetica,sans-Serif\" font-size=\"13.00\" fill=\"#000000\">fibo2(1)</text>\n",
       "<polyline fill=\"none\" stroke=\"#000000\" points=\"120,-135.5 182,-135.5 \"/>\n",
       "<text text-anchor=\"middle\" x=\"151\" y=\"-121.1\" font-family=\"Helvetica,sans-Serif\" font-size=\"13.00\" fill=\"#000000\">ret: 1</text>\n",
       "</g>\n",
       "<!-- 52085992&#45;&gt;53127960 -->\n",
       "<g id=\"edge4\" class=\"edge\">\n",
       "<title>52085992&#45;&gt;53127960</title>\n",
       "<path fill=\"none\" stroke=\"#8c8c8c\" d=\"M120.8876,-203.2528C125.7435,-192.3272 131.6786,-178.9733 136.992,-167.018\"/>\n",
       "<polygon fill=\"#8c8c8c\" stroke=\"#8c8c8c\" points=\"140.2244,-168.3628 141.0875,-157.8032 133.8277,-165.5198 140.2244,-168.3628\"/>\n",
       "<text text-anchor=\"middle\" x=\"145.5\" y=\"-178.6\" font-family=\"Helvetica,sans-Serif\" font-size=\"8.00\" fill=\"#999999\">5 (⇑4)</text>\n",
       "</g>\n",
       "<!-- 52906936 -->\n",
       "<g id=\"node4\" class=\"node\">\n",
       "<title>52906936</title>\n",
       "<path fill=\"none\" stroke=\"#000000\" d=\"M12,-23.5C12,-23.5 50,-23.5 50,-23.5 56,-23.5 62,-29.5 62,-35.5 62,-35.5 62,-55.5 62,-55.5 62,-61.5 56,-67.5 50,-67.5 50,-67.5 12,-67.5 12,-67.5 6,-67.5 0,-61.5 0,-55.5 0,-55.5 0,-35.5 0,-35.5 0,-29.5 6,-23.5 12,-23.5\"/>\n",
       "<text text-anchor=\"middle\" x=\"31\" y=\"-53.1\" font-family=\"Helvetica,sans-Serif\" font-size=\"13.00\" fill=\"#000000\">fibo2(1)</text>\n",
       "<polyline fill=\"none\" stroke=\"#000000\" points=\"0,-45.5 62,-45.5 \"/>\n",
       "<text text-anchor=\"middle\" x=\"31\" y=\"-31.1\" font-family=\"Helvetica,sans-Serif\" font-size=\"13.00\" fill=\"#000000\">ret: 1</text>\n",
       "</g>\n",
       "<!-- 52262952&#45;&gt;52906936 -->\n",
       "<g id=\"edge5\" class=\"edge\">\n",
       "<title>52262952&#45;&gt;52906936</title>\n",
       "<path fill=\"none\" stroke=\"#545454\" d=\"M61.1124,-113.2528C56.2565,-102.3272 50.3214,-88.9733 45.008,-77.018\"/>\n",
       "<polygon fill=\"#545454\" stroke=\"#545454\" points=\"48.1723,-75.5198 40.9125,-67.8032 41.7756,-78.3628 48.1723,-75.5198\"/>\n",
       "<text text-anchor=\"middle\" x=\"65.5\" y=\"-88.6\" font-family=\"Helvetica,sans-Serif\" font-size=\"8.00\" fill=\"#999999\">3 (⇑1)</text>\n",
       "</g>\n",
       "<!-- 53134024 -->\n",
       "<g id=\"node5\" class=\"node\">\n",
       "<title>53134024</title>\n",
       "<path fill=\"none\" stroke=\"#000000\" d=\"M92,-23.5C92,-23.5 130,-23.5 130,-23.5 136,-23.5 142,-29.5 142,-35.5 142,-35.5 142,-55.5 142,-55.5 142,-61.5 136,-67.5 130,-67.5 130,-67.5 92,-67.5 92,-67.5 86,-67.5 80,-61.5 80,-55.5 80,-55.5 80,-35.5 80,-35.5 80,-29.5 86,-23.5 92,-23.5\"/>\n",
       "<text text-anchor=\"middle\" x=\"111\" y=\"-53.1\" font-family=\"Helvetica,sans-Serif\" font-size=\"13.00\" fill=\"#000000\">fibo2(0)</text>\n",
       "<polyline fill=\"none\" stroke=\"#000000\" points=\"80,-45.5 142,-45.5 \"/>\n",
       "<text text-anchor=\"middle\" x=\"111\" y=\"-31.1\" font-family=\"Helvetica,sans-Serif\" font-size=\"13.00\" fill=\"#000000\">ret: 0</text>\n",
       "</g>\n",
       "<!-- 52262952&#45;&gt;53134024 -->\n",
       "<g id=\"edge6\" class=\"edge\">\n",
       "<title>52262952&#45;&gt;53134024</title>\n",
       "<path fill=\"none\" stroke=\"#707070\" d=\"M80.8876,-113.2528C85.7435,-102.3272 91.6786,-88.9733 96.992,-77.018\"/>\n",
       "<polygon fill=\"#707070\" stroke=\"#707070\" points=\"100.2244,-78.3628 101.0875,-67.8032 93.8277,-75.5198 100.2244,-78.3628\"/>\n",
       "<text text-anchor=\"middle\" x=\"105.5\" y=\"-88.6\" font-family=\"Helvetica,sans-Serif\" font-size=\"8.00\" fill=\"#999999\">4 (⇑2)</text>\n",
       "</g>\n",
       "</g>\n",
       "</svg>\n"
      ],
      "text/plain": [
       "<graphviz.dot.Digraph at 0x7f1b256dde10>"
      ]
     },
     "execution_count": 292,
     "metadata": {},
     "output_type": "execute_result"
    }
   ],
   "source": [
    "from functools import lru_cache as memoize\n",
    "cg = rcviz.CallGraph()\n",
    "\n",
    "@rcviz.viz(cg)\n",
    "@memoize(maxsize=None)\n",
    "def fibo2(n):\n",
    "    if n <= 0: return 0\n",
    "    elif n == 1: return 1\n",
    "    else: return fibo2(n-1) + fibo2(n-2)\n",
    "    \n",
    "n = 4\n",
    "print(f\"{n}! = {fibo2(n)}\")\n",
    "\n",
    "cg.render()"
   ]
  },
  {
   "cell_type": "markdown",
   "metadata": {},
   "source": [
    "#### More experiments on a \"triple\" recursive function\n",
    "\n",
    "Just to complicate things more, let's write a \"fibonnaci\" like recursive function that calls three sub-terms:"
   ]
  },
  {
   "cell_type": "code",
   "execution_count": 338,
   "metadata": {
    "ExecuteTime": {
     "end_time": "2021-02-22T22:53:02.777902Z",
     "start_time": "2021-02-22T22:53:02.772273Z"
    }
   },
   "outputs": [],
   "source": [
    "cg = rcviz.CallGraph()\n",
    "\n",
    "@rcviz.viz(cg)\n",
    "def fibo_three(n):\n",
    "    if   n <= 0: return 0\n",
    "    elif n == 1: return 1\n",
    "    elif n == 2: return 1\n",
    "    else: return fibo_three(n-1) + fibo_three(n-2) + fibo_three(n-3)"
   ]
  },
  {
   "cell_type": "code",
   "execution_count": 339,
   "metadata": {
    "ExecuteTime": {
     "end_time": "2021-02-22T22:53:03.378629Z",
     "start_time": "2021-02-22T22:53:03.182031Z"
    }
   },
   "outputs": [
    {
     "name": "stdout",
     "output_type": "stream",
     "text": [
      "5! = 7\n",
      "callviz: Rendering in inline in Jupyter Notebook\n"
     ]
    },
    {
     "data": {
      "image/svg+xml": [
       "<?xml version=\"1.0\" encoding=\"UTF-8\" standalone=\"no\"?>\n",
       "<!DOCTYPE svg PUBLIC \"-//W3C//DTD SVG 1.1//EN\"\n",
       " \"http://www.w3.org/Graphics/SVG/1.1/DTD/svg11.dtd\">\n",
       "<!-- Generated by graphviz version 2.40.1 (20161225.0304)\n",
       " -->\n",
       "<!-- Title: %3 Pages: 1 -->\n",
       "<svg width=\"767pt\" height=\"346pt\"\n",
       " viewBox=\"0.00 0.00 767.00 346.00\" xmlns=\"http://www.w3.org/2000/svg\" xmlns:xlink=\"http://www.w3.org/1999/xlink\">\n",
       "<g id=\"graph0\" class=\"graph\" transform=\"scale(1 1) rotate(0) translate(4 342)\">\n",
       "<title>%3</title>\n",
       "<polygon fill=\"#ffffff\" stroke=\"transparent\" points=\"-4,4 -4,-342 763,-342 763,4 -4,4\"/>\n",
       "<text text-anchor=\"middle\" x=\"379.5\" y=\"-7.8\" font-family=\"Helvetica,sans-Serif\" font-size=\"14.00\" fill=\"#000000\">nodes=13</text>\n",
       "<!-- 54048328 -->\n",
       "<g id=\"node1\" class=\"node\">\n",
       "<title>54048328</title>\n",
       "<path fill=\"none\" stroke=\"#000000\" d=\"M511,-293.5C511,-293.5 580,-293.5 580,-293.5 586,-293.5 592,-299.5 592,-305.5 592,-305.5 592,-325.5 592,-325.5 592,-331.5 586,-337.5 580,-337.5 580,-337.5 511,-337.5 511,-337.5 505,-337.5 499,-331.5 499,-325.5 499,-325.5 499,-305.5 499,-305.5 499,-299.5 505,-293.5 511,-293.5\"/>\n",
       "<text text-anchor=\"middle\" x=\"545.5\" y=\"-323.1\" font-family=\"Helvetica,sans-Serif\" font-size=\"13.00\" fill=\"#000000\">fibo_three(5)</text>\n",
       "<polyline fill=\"none\" stroke=\"#000000\" points=\"499,-315.5 592,-315.5 \"/>\n",
       "<text text-anchor=\"middle\" x=\"545.5\" y=\"-301.1\" font-family=\"Helvetica,sans-Serif\" font-size=\"13.00\" fill=\"#000000\">ret: 7</text>\n",
       "</g>\n",
       "<!-- 54048888 -->\n",
       "<g id=\"node2\" class=\"node\">\n",
       "<title>54048888</title>\n",
       "<path fill=\"none\" stroke=\"#000000\" d=\"M290,-203.5C290,-203.5 359,-203.5 359,-203.5 365,-203.5 371,-209.5 371,-215.5 371,-215.5 371,-235.5 371,-235.5 371,-241.5 365,-247.5 359,-247.5 359,-247.5 290,-247.5 290,-247.5 284,-247.5 278,-241.5 278,-235.5 278,-235.5 278,-215.5 278,-215.5 278,-209.5 284,-203.5 290,-203.5\"/>\n",
       "<text text-anchor=\"middle\" x=\"324.5\" y=\"-233.1\" font-family=\"Helvetica,sans-Serif\" font-size=\"13.00\" fill=\"#000000\">fibo_three(4)</text>\n",
       "<polyline fill=\"none\" stroke=\"#000000\" points=\"278,-225.5 371,-225.5 \"/>\n",
       "<text text-anchor=\"middle\" x=\"324.5\" y=\"-211.1\" font-family=\"Helvetica,sans-Serif\" font-size=\"13.00\" fill=\"#000000\">ret: 4</text>\n",
       "</g>\n",
       "<!-- 54048328&#45;&gt;54048888 -->\n",
       "<g id=\"edge1\" class=\"edge\">\n",
       "<title>54048328&#45;&gt;54048888</title>\n",
       "<path fill=\"none\" stroke=\"#0f0f0f\" d=\"M498.9016,-296.5233C464.3753,-282.4628 417.1676,-263.2379 380.5739,-248.3355\"/>\n",
       "<polygon fill=\"#0f0f0f\" stroke=\"#0f0f0f\" points=\"381.6162,-244.9809 371.0346,-244.4508 378.976,-251.464 381.6162,-244.9809\"/>\n",
       "<text text-anchor=\"middle\" x=\"455\" y=\"-268.6\" font-family=\"Helvetica,sans-Serif\" font-size=\"8.00\" fill=\"#999999\">1 (⇑7)</text>\n",
       "</g>\n",
       "<!-- 54052808 -->\n",
       "<g id=\"node9\" class=\"node\">\n",
       "<title>54052808</title>\n",
       "<path fill=\"none\" stroke=\"#000000\" d=\"M511,-203.5C511,-203.5 580,-203.5 580,-203.5 586,-203.5 592,-209.5 592,-215.5 592,-215.5 592,-235.5 592,-235.5 592,-241.5 586,-247.5 580,-247.5 580,-247.5 511,-247.5 511,-247.5 505,-247.5 499,-241.5 499,-235.5 499,-235.5 499,-215.5 499,-215.5 499,-209.5 505,-203.5 511,-203.5\"/>\n",
       "<text text-anchor=\"middle\" x=\"545.5\" y=\"-233.1\" font-family=\"Helvetica,sans-Serif\" font-size=\"13.00\" fill=\"#000000\">fibo_three(3)</text>\n",
       "<polyline fill=\"none\" stroke=\"#000000\" points=\"499,-225.5 592,-225.5 \"/>\n",
       "<text text-anchor=\"middle\" x=\"545.5\" y=\"-211.1\" font-family=\"Helvetica,sans-Serif\" font-size=\"13.00\" fill=\"#000000\">ret: 2</text>\n",
       "</g>\n",
       "<!-- 54048328&#45;&gt;54052808 -->\n",
       "<g id=\"edge2\" class=\"edge\">\n",
       "<title>54048328&#45;&gt;54052808</title>\n",
       "<path fill=\"none\" stroke=\"#787878\" d=\"M545.5,-293.2528C545.5,-282.6517 545.5,-269.7644 545.5,-258.087\"/>\n",
       "<polygon fill=\"#787878\" stroke=\"#787878\" points=\"549.0001,-257.8031 545.5,-247.8032 542.0001,-257.8032 549.0001,-257.8031\"/>\n",
       "<text text-anchor=\"middle\" x=\"560\" y=\"-268.6\" font-family=\"Helvetica,sans-Serif\" font-size=\"8.00\" fill=\"#999999\">8 (⇑11)</text>\n",
       "</g>\n",
       "<!-- 54055048 -->\n",
       "<g id=\"node13\" class=\"node\">\n",
       "<title>54055048</title>\n",
       "<path fill=\"none\" stroke=\"#000000\" d=\"M622,-203.5C622,-203.5 691,-203.5 691,-203.5 697,-203.5 703,-209.5 703,-215.5 703,-215.5 703,-235.5 703,-235.5 703,-241.5 697,-247.5 691,-247.5 691,-247.5 622,-247.5 622,-247.5 616,-247.5 610,-241.5 610,-235.5 610,-235.5 610,-215.5 610,-215.5 610,-209.5 616,-203.5 622,-203.5\"/>\n",
       "<text text-anchor=\"middle\" x=\"656.5\" y=\"-233.1\" font-family=\"Helvetica,sans-Serif\" font-size=\"13.00\" fill=\"#000000\">fibo_three(2)</text>\n",
       "<polyline fill=\"none\" stroke=\"#000000\" points=\"610,-225.5 703,-225.5 \"/>\n",
       "<text text-anchor=\"middle\" x=\"656.5\" y=\"-211.1\" font-family=\"Helvetica,sans-Serif\" font-size=\"13.00\" fill=\"#000000\">ret: 1</text>\n",
       "</g>\n",
       "<!-- 54048328&#45;&gt;54055048 -->\n",
       "<g id=\"edge3\" class=\"edge\">\n",
       "<title>54048328&#45;&gt;54055048</title>\n",
       "<path fill=\"none\" stroke=\"#b4b4b4\" d=\"M572.6537,-293.4835C587.3013,-281.6071 605.5498,-266.811 621.2788,-254.0577\"/>\n",
       "<polygon fill=\"#b4b4b4\" stroke=\"#b4b4b4\" points=\"623.6787,-256.6178 629.242,-247.6011 619.2701,-251.1805 623.6787,-256.6178\"/>\n",
       "<text text-anchor=\"middle\" x=\"620.5\" y=\"-268.6\" font-family=\"Helvetica,sans-Serif\" font-size=\"8.00\" fill=\"#999999\">12 (⇑12)</text>\n",
       "</g>\n",
       "<!-- 54049448 -->\n",
       "<g id=\"node3\" class=\"node\">\n",
       "<title>54049448</title>\n",
       "<path fill=\"none\" stroke=\"#000000\" d=\"M123,-113.5C123,-113.5 192,-113.5 192,-113.5 198,-113.5 204,-119.5 204,-125.5 204,-125.5 204,-145.5 204,-145.5 204,-151.5 198,-157.5 192,-157.5 192,-157.5 123,-157.5 123,-157.5 117,-157.5 111,-151.5 111,-145.5 111,-145.5 111,-125.5 111,-125.5 111,-119.5 117,-113.5 123,-113.5\"/>\n",
       "<text text-anchor=\"middle\" x=\"157.5\" y=\"-143.1\" font-family=\"Helvetica,sans-Serif\" font-size=\"13.00\" fill=\"#000000\">fibo_three(3)</text>\n",
       "<polyline fill=\"none\" stroke=\"#000000\" points=\"111,-135.5 204,-135.5 \"/>\n",
       "<text text-anchor=\"middle\" x=\"157.5\" y=\"-121.1\" font-family=\"Helvetica,sans-Serif\" font-size=\"13.00\" fill=\"#000000\">ret: 2</text>\n",
       "</g>\n",
       "<!-- 54048888&#45;&gt;54049448 -->\n",
       "<g id=\"edge4\" class=\"edge\">\n",
       "<title>54048888&#45;&gt;54049448</title>\n",
       "<path fill=\"none\" stroke=\"#1e1e1e\" d=\"M283.6472,-203.4835C260.7,-191.1168 231.8787,-175.5843 207.5796,-162.489\"/>\n",
       "<polygon fill=\"#1e1e1e\" stroke=\"#1e1e1e\" points=\"208.9733,-159.2642 198.5098,-157.6011 205.6524,-165.4264 208.9733,-159.2642\"/>\n",
       "<text text-anchor=\"middle\" x=\"259\" y=\"-178.6\" font-family=\"Helvetica,sans-Serif\" font-size=\"8.00\" fill=\"#999999\">2 (⇑4)</text>\n",
       "</g>\n",
       "<!-- 54051688 -->\n",
       "<g id=\"node7\" class=\"node\">\n",
       "<title>54051688</title>\n",
       "<path fill=\"none\" stroke=\"#000000\" d=\"M234,-113.5C234,-113.5 303,-113.5 303,-113.5 309,-113.5 315,-119.5 315,-125.5 315,-125.5 315,-145.5 315,-145.5 315,-151.5 309,-157.5 303,-157.5 303,-157.5 234,-157.5 234,-157.5 228,-157.5 222,-151.5 222,-145.5 222,-145.5 222,-125.5 222,-125.5 222,-119.5 228,-113.5 234,-113.5\"/>\n",
       "<text text-anchor=\"middle\" x=\"268.5\" y=\"-143.1\" font-family=\"Helvetica,sans-Serif\" font-size=\"13.00\" fill=\"#000000\">fibo_three(2)</text>\n",
       "<polyline fill=\"none\" stroke=\"#000000\" points=\"222,-135.5 315,-135.5 \"/>\n",
       "<text text-anchor=\"middle\" x=\"268.5\" y=\"-121.1\" font-family=\"Helvetica,sans-Serif\" font-size=\"13.00\" fill=\"#000000\">ret: 1</text>\n",
       "</g>\n",
       "<!-- 54048888&#45;&gt;54051688 -->\n",
       "<g id=\"edge5\" class=\"edge\">\n",
       "<title>54048888&#45;&gt;54051688</title>\n",
       "<path fill=\"none\" stroke=\"#5a5a5a\" d=\"M310.6573,-203.2528C303.7245,-192.1108 295.2204,-178.4434 287.6704,-166.3095\"/>\n",
       "<polygon fill=\"#5a5a5a\" stroke=\"#5a5a5a\" points=\"290.6323,-164.4447 282.3775,-157.8032 284.6889,-168.1428 290.6323,-164.4447\"/>\n",
       "<text text-anchor=\"middle\" x=\"311\" y=\"-178.6\" font-family=\"Helvetica,sans-Serif\" font-size=\"8.00\" fill=\"#999999\">6 (⇑5)</text>\n",
       "</g>\n",
       "<!-- 54052248 -->\n",
       "<g id=\"node8\" class=\"node\">\n",
       "<title>54052248</title>\n",
       "<path fill=\"none\" stroke=\"#000000\" d=\"M345,-113.5C345,-113.5 414,-113.5 414,-113.5 420,-113.5 426,-119.5 426,-125.5 426,-125.5 426,-145.5 426,-145.5 426,-151.5 420,-157.5 414,-157.5 414,-157.5 345,-157.5 345,-157.5 339,-157.5 333,-151.5 333,-145.5 333,-145.5 333,-125.5 333,-125.5 333,-119.5 339,-113.5 345,-113.5\"/>\n",
       "<text text-anchor=\"middle\" x=\"379.5\" y=\"-143.1\" font-family=\"Helvetica,sans-Serif\" font-size=\"13.00\" fill=\"#000000\">fibo_three(1)</text>\n",
       "<polyline fill=\"none\" stroke=\"#000000\" points=\"333,-135.5 426,-135.5 \"/>\n",
       "<text text-anchor=\"middle\" x=\"379.5\" y=\"-121.1\" font-family=\"Helvetica,sans-Serif\" font-size=\"13.00\" fill=\"#000000\">ret: 1</text>\n",
       "</g>\n",
       "<!-- 54048888&#45;&gt;54052248 -->\n",
       "<g id=\"edge6\" class=\"edge\">\n",
       "<title>54048888&#45;&gt;54052248</title>\n",
       "<path fill=\"none\" stroke=\"#696969\" d=\"M338.0955,-203.2528C344.8384,-192.219 353.0948,-178.7086 360.4557,-166.6634\"/>\n",
       "<polygon fill=\"#696969\" stroke=\"#696969\" points=\"363.6422,-168.1611 365.8703,-157.8032 357.6692,-164.5109 363.6422,-168.1611\"/>\n",
       "<text text-anchor=\"middle\" x=\"367\" y=\"-178.6\" font-family=\"Helvetica,sans-Serif\" font-size=\"8.00\" fill=\"#999999\">7 (⇑6)</text>\n",
       "</g>\n",
       "<!-- 54050008 -->\n",
       "<g id=\"node4\" class=\"node\">\n",
       "<title>54050008</title>\n",
       "<path fill=\"none\" stroke=\"#000000\" d=\"M12,-23.5C12,-23.5 81,-23.5 81,-23.5 87,-23.5 93,-29.5 93,-35.5 93,-35.5 93,-55.5 93,-55.5 93,-61.5 87,-67.5 81,-67.5 81,-67.5 12,-67.5 12,-67.5 6,-67.5 0,-61.5 0,-55.5 0,-55.5 0,-35.5 0,-35.5 0,-29.5 6,-23.5 12,-23.5\"/>\n",
       "<text text-anchor=\"middle\" x=\"46.5\" y=\"-53.1\" font-family=\"Helvetica,sans-Serif\" font-size=\"13.00\" fill=\"#000000\">fibo_three(2)</text>\n",
       "<polyline fill=\"none\" stroke=\"#000000\" points=\"0,-45.5 93,-45.5 \"/>\n",
       "<text text-anchor=\"middle\" x=\"46.5\" y=\"-31.1\" font-family=\"Helvetica,sans-Serif\" font-size=\"13.00\" fill=\"#000000\">ret: 1</text>\n",
       "</g>\n",
       "<!-- 54049448&#45;&gt;54050008 -->\n",
       "<g id=\"edge7\" class=\"edge\">\n",
       "<title>54049448&#45;&gt;54050008</title>\n",
       "<path fill=\"none\" stroke=\"#2d2d2d\" d=\"M130.3463,-113.4835C115.6987,-101.6071 97.4502,-86.811 81.7212,-74.0577\"/>\n",
       "<polygon fill=\"#2d2d2d\" stroke=\"#2d2d2d\" points=\"83.7299,-71.1805 73.758,-67.6011 79.3213,-76.6178 83.7299,-71.1805\"/>\n",
       "<text text-anchor=\"middle\" x=\"118\" y=\"-88.6\" font-family=\"Helvetica,sans-Serif\" font-size=\"8.00\" fill=\"#999999\">3 (⇑1)</text>\n",
       "</g>\n",
       "<!-- 54050568 -->\n",
       "<g id=\"node5\" class=\"node\">\n",
       "<title>54050568</title>\n",
       "<path fill=\"none\" stroke=\"#000000\" d=\"M123,-23.5C123,-23.5 192,-23.5 192,-23.5 198,-23.5 204,-29.5 204,-35.5 204,-35.5 204,-55.5 204,-55.5 204,-61.5 198,-67.5 192,-67.5 192,-67.5 123,-67.5 123,-67.5 117,-67.5 111,-61.5 111,-55.5 111,-55.5 111,-35.5 111,-35.5 111,-29.5 117,-23.5 123,-23.5\"/>\n",
       "<text text-anchor=\"middle\" x=\"157.5\" y=\"-53.1\" font-family=\"Helvetica,sans-Serif\" font-size=\"13.00\" fill=\"#000000\">fibo_three(1)</text>\n",
       "<polyline fill=\"none\" stroke=\"#000000\" points=\"111,-45.5 204,-45.5 \"/>\n",
       "<text text-anchor=\"middle\" x=\"157.5\" y=\"-31.1\" font-family=\"Helvetica,sans-Serif\" font-size=\"13.00\" fill=\"#000000\">ret: 1</text>\n",
       "</g>\n",
       "<!-- 54049448&#45;&gt;54050568 -->\n",
       "<g id=\"edge8\" class=\"edge\">\n",
       "<title>54049448&#45;&gt;54050568</title>\n",
       "<path fill=\"none\" stroke=\"#3c3c3c\" d=\"M157.5,-113.2528C157.5,-102.6517 157.5,-89.7644 157.5,-78.087\"/>\n",
       "<polygon fill=\"#3c3c3c\" stroke=\"#3c3c3c\" points=\"161.0001,-77.8031 157.5,-67.8032 154.0001,-77.8032 161.0001,-77.8031\"/>\n",
       "<text text-anchor=\"middle\" x=\"170\" y=\"-88.6\" font-family=\"Helvetica,sans-Serif\" font-size=\"8.00\" fill=\"#999999\">4 (⇑2)</text>\n",
       "</g>\n",
       "<!-- 54051128 -->\n",
       "<g id=\"node6\" class=\"node\">\n",
       "<title>54051128</title>\n",
       "<path fill=\"none\" stroke=\"#000000\" d=\"M234,-23.5C234,-23.5 303,-23.5 303,-23.5 309,-23.5 315,-29.5 315,-35.5 315,-35.5 315,-55.5 315,-55.5 315,-61.5 309,-67.5 303,-67.5 303,-67.5 234,-67.5 234,-67.5 228,-67.5 222,-61.5 222,-55.5 222,-55.5 222,-35.5 222,-35.5 222,-29.5 228,-23.5 234,-23.5\"/>\n",
       "<text text-anchor=\"middle\" x=\"268.5\" y=\"-53.1\" font-family=\"Helvetica,sans-Serif\" font-size=\"13.00\" fill=\"#000000\">fibo_three(0)</text>\n",
       "<polyline fill=\"none\" stroke=\"#000000\" points=\"222,-45.5 315,-45.5 \"/>\n",
       "<text text-anchor=\"middle\" x=\"268.5\" y=\"-31.1\" font-family=\"Helvetica,sans-Serif\" font-size=\"13.00\" fill=\"#000000\">ret: 0</text>\n",
       "</g>\n",
       "<!-- 54049448&#45;&gt;54051128 -->\n",
       "<g id=\"edge9\" class=\"edge\">\n",
       "<title>54049448&#45;&gt;54051128</title>\n",
       "<path fill=\"none\" stroke=\"#4b4b4b\" d=\"M184.6537,-113.4835C199.3013,-101.6071 217.5498,-86.811 233.2788,-74.0577\"/>\n",
       "<polygon fill=\"#4b4b4b\" stroke=\"#4b4b4b\" points=\"235.6787,-76.6178 241.242,-67.6011 231.2701,-71.1805 235.6787,-76.6178\"/>\n",
       "<text text-anchor=\"middle\" x=\"229\" y=\"-88.6\" font-family=\"Helvetica,sans-Serif\" font-size=\"8.00\" fill=\"#999999\">5 (⇑3)</text>\n",
       "</g>\n",
       "<!-- 54053368 -->\n",
       "<g id=\"node10\" class=\"node\">\n",
       "<title>54053368</title>\n",
       "<path fill=\"none\" stroke=\"#000000\" d=\"M456,-113.5C456,-113.5 525,-113.5 525,-113.5 531,-113.5 537,-119.5 537,-125.5 537,-125.5 537,-145.5 537,-145.5 537,-151.5 531,-157.5 525,-157.5 525,-157.5 456,-157.5 456,-157.5 450,-157.5 444,-151.5 444,-145.5 444,-145.5 444,-125.5 444,-125.5 444,-119.5 450,-113.5 456,-113.5\"/>\n",
       "<text text-anchor=\"middle\" x=\"490.5\" y=\"-143.1\" font-family=\"Helvetica,sans-Serif\" font-size=\"13.00\" fill=\"#000000\">fibo_three(2)</text>\n",
       "<polyline fill=\"none\" stroke=\"#000000\" points=\"444,-135.5 537,-135.5 \"/>\n",
       "<text text-anchor=\"middle\" x=\"490.5\" y=\"-121.1\" font-family=\"Helvetica,sans-Serif\" font-size=\"13.00\" fill=\"#000000\">ret: 1</text>\n",
       "</g>\n",
       "<!-- 54052808&#45;&gt;54053368 -->\n",
       "<g id=\"edge10\" class=\"edge\">\n",
       "<title>54052808&#45;&gt;54053368</title>\n",
       "<path fill=\"none\" stroke=\"#878787\" d=\"M531.9045,-203.2528C525.1616,-192.219 516.9052,-178.7086 509.5443,-166.6634\"/>\n",
       "<polygon fill=\"#878787\" stroke=\"#878787\" points=\"512.3308,-164.5109 504.1297,-157.8032 506.3578,-168.1611 512.3308,-164.5109\"/>\n",
       "<text text-anchor=\"middle\" x=\"533\" y=\"-178.6\" font-family=\"Helvetica,sans-Serif\" font-size=\"8.00\" fill=\"#999999\">9 (⇑8)</text>\n",
       "</g>\n",
       "<!-- 54053928 -->\n",
       "<g id=\"node11\" class=\"node\">\n",
       "<title>54053928</title>\n",
       "<path fill=\"none\" stroke=\"#000000\" d=\"M567,-113.5C567,-113.5 636,-113.5 636,-113.5 642,-113.5 648,-119.5 648,-125.5 648,-125.5 648,-145.5 648,-145.5 648,-151.5 642,-157.5 636,-157.5 636,-157.5 567,-157.5 567,-157.5 561,-157.5 555,-151.5 555,-145.5 555,-145.5 555,-125.5 555,-125.5 555,-119.5 561,-113.5 567,-113.5\"/>\n",
       "<text text-anchor=\"middle\" x=\"601.5\" y=\"-143.1\" font-family=\"Helvetica,sans-Serif\" font-size=\"13.00\" fill=\"#000000\">fibo_three(1)</text>\n",
       "<polyline fill=\"none\" stroke=\"#000000\" points=\"555,-135.5 648,-135.5 \"/>\n",
       "<text text-anchor=\"middle\" x=\"601.5\" y=\"-121.1\" font-family=\"Helvetica,sans-Serif\" font-size=\"13.00\" fill=\"#000000\">ret: 1</text>\n",
       "</g>\n",
       "<!-- 54052808&#45;&gt;54053928 -->\n",
       "<g id=\"edge11\" class=\"edge\">\n",
       "<title>54052808&#45;&gt;54053928</title>\n",
       "<path fill=\"none\" stroke=\"#969696\" d=\"M559.3427,-203.2528C566.2755,-192.1108 574.7796,-178.4434 582.3296,-166.3095\"/>\n",
       "<polygon fill=\"#969696\" stroke=\"#969696\" points=\"585.3111,-168.1428 587.6225,-157.8032 579.3677,-164.4447 585.3111,-168.1428\"/>\n",
       "<text text-anchor=\"middle\" x=\"589\" y=\"-178.6\" font-family=\"Helvetica,sans-Serif\" font-size=\"8.00\" fill=\"#999999\">10 (⇑9)</text>\n",
       "</g>\n",
       "<!-- 54054488 -->\n",
       "<g id=\"node12\" class=\"node\">\n",
       "<title>54054488</title>\n",
       "<path fill=\"none\" stroke=\"#000000\" d=\"M678,-113.5C678,-113.5 747,-113.5 747,-113.5 753,-113.5 759,-119.5 759,-125.5 759,-125.5 759,-145.5 759,-145.5 759,-151.5 753,-157.5 747,-157.5 747,-157.5 678,-157.5 678,-157.5 672,-157.5 666,-151.5 666,-145.5 666,-145.5 666,-125.5 666,-125.5 666,-119.5 672,-113.5 678,-113.5\"/>\n",
       "<text text-anchor=\"middle\" x=\"712.5\" y=\"-143.1\" font-family=\"Helvetica,sans-Serif\" font-size=\"13.00\" fill=\"#000000\">fibo_three(0)</text>\n",
       "<polyline fill=\"none\" stroke=\"#000000\" points=\"666,-135.5 759,-135.5 \"/>\n",
       "<text text-anchor=\"middle\" x=\"712.5\" y=\"-121.1\" font-family=\"Helvetica,sans-Serif\" font-size=\"13.00\" fill=\"#000000\">ret: 0</text>\n",
       "</g>\n",
       "<!-- 54052808&#45;&gt;54054488 -->\n",
       "<g id=\"edge12\" class=\"edge\">\n",
       "<title>54052808&#45;&gt;54054488</title>\n",
       "<path fill=\"none\" stroke=\"#a5a5a5\" d=\"M586.3528,-203.4835C609.3,-191.1168 638.1213,-175.5843 662.4204,-162.489\"/>\n",
       "<polygon fill=\"#a5a5a5\" stroke=\"#a5a5a5\" points=\"664.3476,-165.4264 671.4902,-157.6011 661.0267,-159.2642 664.3476,-165.4264\"/>\n",
       "<text text-anchor=\"middle\" x=\"650.5\" y=\"-178.6\" font-family=\"Helvetica,sans-Serif\" font-size=\"8.00\" fill=\"#999999\">11 (⇑10)</text>\n",
       "</g>\n",
       "</g>\n",
       "</svg>\n"
      ],
      "text/plain": [
       "<graphviz.dot.Digraph at 0x7f1b25649a90>"
      ]
     },
     "execution_count": 339,
     "metadata": {},
     "output_type": "execute_result"
    }
   ],
   "source": [
    "n = 5\n",
    "print(f\"{n}! = {fibo_three(n)}\")\n",
    "\n",
    "cg.render()"
   ]
  },
  {
   "cell_type": "markdown",
   "metadata": {},
   "source": [
    "Using this non-memoized function leads to already 13 nodes for just $n=5$!"
   ]
  },
  {
   "cell_type": "code",
   "execution_count": 340,
   "metadata": {
    "ExecuteTime": {
     "end_time": "2021-02-22T22:53:21.885101Z",
     "start_time": "2021-02-22T22:53:21.878371Z"
    }
   },
   "outputs": [],
   "source": [
    "cg = rcviz.CallGraph()\n",
    "\n",
    "@rcviz.viz(cg)\n",
    "@memoize(maxsize=None)\n",
    "def fibo_three_memo(n):\n",
    "    if   n <= 0: return 0\n",
    "    elif n == 1: return 1\n",
    "    elif n == 2: return 1\n",
    "    else: return fibo_three_memo(n-1) + fibo_three_memo(n-2) + fibo_three_memo(n-3)"
   ]
  },
  {
   "cell_type": "code",
   "execution_count": 341,
   "metadata": {
    "ExecuteTime": {
     "end_time": "2021-02-22T22:53:22.524190Z",
     "start_time": "2021-02-22T22:53:22.371895Z"
    }
   },
   "outputs": [
    {
     "name": "stdout",
     "output_type": "stream",
     "text": [
      "5! = 7\n",
      "callviz: Rendering in inline in Jupyter Notebook\n"
     ]
    },
    {
     "data": {
      "image/svg+xml": [
       "<?xml version=\"1.0\" encoding=\"UTF-8\" standalone=\"no\"?>\n",
       "<!DOCTYPE svg PUBLIC \"-//W3C//DTD SVG 1.1//EN\"\n",
       " \"http://www.w3.org/Graphics/SVG/1.1/DTD/svg11.dtd\">\n",
       "<!-- Generated by graphviz version 2.40.1 (20161225.0304)\n",
       " -->\n",
       "<!-- Title: %3 Pages: 1 -->\n",
       "<svg width=\"765pt\" height=\"346pt\"\n",
       " viewBox=\"0.00 0.00 765.00 346.00\" xmlns=\"http://www.w3.org/2000/svg\" xmlns:xlink=\"http://www.w3.org/1999/xlink\">\n",
       "<g id=\"graph0\" class=\"graph\" transform=\"scale(1 1) rotate(0) translate(4 342)\">\n",
       "<title>%3</title>\n",
       "<polygon fill=\"#ffffff\" stroke=\"transparent\" points=\"-4,4 -4,-342 761,-342 761,4 -4,4\"/>\n",
       "<text text-anchor=\"middle\" x=\"378.5\" y=\"-7.8\" font-family=\"Helvetica,sans-Serif\" font-size=\"14.00\" fill=\"#000000\">nodes=10</text>\n",
       "<!-- 54081128 -->\n",
       "<g id=\"node1\" class=\"node\">\n",
       "<title>54081128</title>\n",
       "<path fill=\"none\" stroke=\"#000000\" d=\"M477,-293.5C477,-293.5 590,-293.5 590,-293.5 596,-293.5 602,-299.5 602,-305.5 602,-305.5 602,-325.5 602,-325.5 602,-331.5 596,-337.5 590,-337.5 590,-337.5 477,-337.5 477,-337.5 471,-337.5 465,-331.5 465,-325.5 465,-325.5 465,-305.5 465,-305.5 465,-299.5 471,-293.5 477,-293.5\"/>\n",
       "<text text-anchor=\"middle\" x=\"533.5\" y=\"-323.1\" font-family=\"Helvetica,sans-Serif\" font-size=\"13.00\" fill=\"#000000\">fibo_three_memo(5)</text>\n",
       "<polyline fill=\"none\" stroke=\"#000000\" points=\"465,-315.5 602,-315.5 \"/>\n",
       "<text text-anchor=\"middle\" x=\"533.5\" y=\"-301.1\" font-family=\"Helvetica,sans-Serif\" font-size=\"13.00\" fill=\"#000000\">ret: 7</text>\n",
       "</g>\n",
       "<!-- 53618600 -->\n",
       "<g id=\"node2\" class=\"node\">\n",
       "<title>53618600</title>\n",
       "<path fill=\"none\" stroke=\"#000000\" d=\"M322,-203.5C322,-203.5 435,-203.5 435,-203.5 441,-203.5 447,-209.5 447,-215.5 447,-215.5 447,-235.5 447,-235.5 447,-241.5 441,-247.5 435,-247.5 435,-247.5 322,-247.5 322,-247.5 316,-247.5 310,-241.5 310,-235.5 310,-235.5 310,-215.5 310,-215.5 310,-209.5 316,-203.5 322,-203.5\"/>\n",
       "<text text-anchor=\"middle\" x=\"378.5\" y=\"-233.1\" font-family=\"Helvetica,sans-Serif\" font-size=\"13.00\" fill=\"#000000\">fibo_three_memo(4)</text>\n",
       "<polyline fill=\"none\" stroke=\"#000000\" points=\"310,-225.5 447,-225.5 \"/>\n",
       "<text text-anchor=\"middle\" x=\"378.5\" y=\"-211.1\" font-family=\"Helvetica,sans-Serif\" font-size=\"13.00\" fill=\"#000000\">ret: 4</text>\n",
       "</g>\n",
       "<!-- 54081128&#45;&gt;53618600 -->\n",
       "<g id=\"edge1\" class=\"edge\">\n",
       "<title>54081128&#45;&gt;53618600</title>\n",
       "<path fill=\"none\" stroke=\"#141414\" d=\"M495.5827,-293.4835C474.3782,-281.1712 447.7697,-265.7211 425.2794,-252.6622\"/>\n",
       "<polygon fill=\"#141414\" stroke=\"#141414\" points=\"426.9684,-249.5957 416.563,-247.6011 423.4534,-255.6493 426.9684,-249.5957\"/>\n",
       "<text text-anchor=\"middle\" x=\"474\" y=\"-268.6\" font-family=\"Helvetica,sans-Serif\" font-size=\"8.00\" fill=\"#999999\">1 (⇑7)</text>\n",
       "</g>\n",
       "<!-- 54046648 -->\n",
       "<g id=\"node9\" class=\"node\">\n",
       "<title>54046648</title>\n",
       "<path fill=\"none\" stroke=\"#000000\" d=\"M477,-203.5C477,-203.5 590,-203.5 590,-203.5 596,-203.5 602,-209.5 602,-215.5 602,-215.5 602,-235.5 602,-235.5 602,-241.5 596,-247.5 590,-247.5 590,-247.5 477,-247.5 477,-247.5 471,-247.5 465,-241.5 465,-235.5 465,-235.5 465,-215.5 465,-215.5 465,-209.5 471,-203.5 477,-203.5\"/>\n",
       "<text text-anchor=\"middle\" x=\"533.5\" y=\"-233.1\" font-family=\"Helvetica,sans-Serif\" font-size=\"13.00\" fill=\"#000000\">fibo_three_memo(3)</text>\n",
       "<polyline fill=\"none\" stroke=\"#000000\" points=\"465,-225.5 602,-225.5 \"/>\n",
       "<text text-anchor=\"middle\" x=\"533.5\" y=\"-211.1\" font-family=\"Helvetica,sans-Serif\" font-size=\"13.00\" fill=\"#000000\">ret: 2</text>\n",
       "</g>\n",
       "<!-- 54081128&#45;&gt;54046648 -->\n",
       "<g id=\"edge2\" class=\"edge\">\n",
       "<title>54081128&#45;&gt;54046648</title>\n",
       "<path fill=\"none\" stroke=\"#a0a0a0\" d=\"M533.5,-293.2528C533.5,-282.6517 533.5,-269.7644 533.5,-258.087\"/>\n",
       "<polygon fill=\"#a0a0a0\" stroke=\"#a0a0a0\" points=\"537.0001,-257.8031 533.5,-247.8032 530.0001,-257.8032 537.0001,-257.8031\"/>\n",
       "<text text-anchor=\"middle\" x=\"546\" y=\"-268.6\" font-family=\"Helvetica,sans-Serif\" font-size=\"8.00\" fill=\"#999999\">8 (⇑8)</text>\n",
       "</g>\n",
       "<!-- 54045528 -->\n",
       "<g id=\"node10\" class=\"node\">\n",
       "<title>54045528</title>\n",
       "<path fill=\"none\" stroke=\"#000000\" d=\"M632,-203.5C632,-203.5 745,-203.5 745,-203.5 751,-203.5 757,-209.5 757,-215.5 757,-215.5 757,-235.5 757,-235.5 757,-241.5 751,-247.5 745,-247.5 745,-247.5 632,-247.5 632,-247.5 626,-247.5 620,-241.5 620,-235.5 620,-235.5 620,-215.5 620,-215.5 620,-209.5 626,-203.5 632,-203.5\"/>\n",
       "<text text-anchor=\"middle\" x=\"688.5\" y=\"-233.1\" font-family=\"Helvetica,sans-Serif\" font-size=\"13.00\" fill=\"#000000\">fibo_three_memo(2)</text>\n",
       "<polyline fill=\"none\" stroke=\"#000000\" points=\"620,-225.5 757,-225.5 \"/>\n",
       "<text text-anchor=\"middle\" x=\"688.5\" y=\"-211.1\" font-family=\"Helvetica,sans-Serif\" font-size=\"13.00\" fill=\"#000000\">ret: 1</text>\n",
       "</g>\n",
       "<!-- 54081128&#45;&gt;54045528 -->\n",
       "<g id=\"edge3\" class=\"edge\">\n",
       "<title>54081128&#45;&gt;54045528</title>\n",
       "<path fill=\"none\" stroke=\"#b4b4b4\" d=\"M571.4173,-293.4835C592.6218,-281.1712 619.2303,-265.7211 641.7206,-252.6622\"/>\n",
       "<polygon fill=\"#b4b4b4\" stroke=\"#b4b4b4\" points=\"643.5466,-255.6493 650.437,-247.6011 640.0316,-249.5957 643.5466,-255.6493\"/>\n",
       "<text text-anchor=\"middle\" x=\"628\" y=\"-268.6\" font-family=\"Helvetica,sans-Serif\" font-size=\"8.00\" fill=\"#999999\">9 (⇑9)</text>\n",
       "</g>\n",
       "<!-- 54044968 -->\n",
       "<g id=\"node3\" class=\"node\">\n",
       "<title>54044968</title>\n",
       "<path fill=\"none\" stroke=\"#000000\" d=\"M167,-113.5C167,-113.5 280,-113.5 280,-113.5 286,-113.5 292,-119.5 292,-125.5 292,-125.5 292,-145.5 292,-145.5 292,-151.5 286,-157.5 280,-157.5 280,-157.5 167,-157.5 167,-157.5 161,-157.5 155,-151.5 155,-145.5 155,-145.5 155,-125.5 155,-125.5 155,-119.5 161,-113.5 167,-113.5\"/>\n",
       "<text text-anchor=\"middle\" x=\"223.5\" y=\"-143.1\" font-family=\"Helvetica,sans-Serif\" font-size=\"13.00\" fill=\"#000000\">fibo_three_memo(3)</text>\n",
       "<polyline fill=\"none\" stroke=\"#000000\" points=\"155,-135.5 292,-135.5 \"/>\n",
       "<text text-anchor=\"middle\" x=\"223.5\" y=\"-121.1\" font-family=\"Helvetica,sans-Serif\" font-size=\"13.00\" fill=\"#000000\">ret: 2</text>\n",
       "</g>\n",
       "<!-- 53618600&#45;&gt;54044968 -->\n",
       "<g id=\"edge4\" class=\"edge\">\n",
       "<title>53618600&#45;&gt;54044968</title>\n",
       "<path fill=\"none\" stroke=\"#282828\" d=\"M340.5827,-203.4835C319.3782,-191.1712 292.7697,-175.7211 270.2794,-162.6622\"/>\n",
       "<polygon fill=\"#282828\" stroke=\"#282828\" points=\"271.9684,-159.5957 261.563,-157.6011 268.4534,-165.6493 271.9684,-159.5957\"/>\n",
       "<text text-anchor=\"middle\" x=\"319\" y=\"-178.6\" font-family=\"Helvetica,sans-Serif\" font-size=\"8.00\" fill=\"#999999\">2 (⇑4)</text>\n",
       "</g>\n",
       "<!-- 54080568 -->\n",
       "<g id=\"node7\" class=\"node\">\n",
       "<title>54080568</title>\n",
       "<path fill=\"none\" stroke=\"#000000\" d=\"M322,-113.5C322,-113.5 435,-113.5 435,-113.5 441,-113.5 447,-119.5 447,-125.5 447,-125.5 447,-145.5 447,-145.5 447,-151.5 441,-157.5 435,-157.5 435,-157.5 322,-157.5 322,-157.5 316,-157.5 310,-151.5 310,-145.5 310,-145.5 310,-125.5 310,-125.5 310,-119.5 316,-113.5 322,-113.5\"/>\n",
       "<text text-anchor=\"middle\" x=\"378.5\" y=\"-143.1\" font-family=\"Helvetica,sans-Serif\" font-size=\"13.00\" fill=\"#000000\">fibo_three_memo(2)</text>\n",
       "<polyline fill=\"none\" stroke=\"#000000\" points=\"310,-135.5 447,-135.5 \"/>\n",
       "<text text-anchor=\"middle\" x=\"378.5\" y=\"-121.1\" font-family=\"Helvetica,sans-Serif\" font-size=\"13.00\" fill=\"#000000\">ret: 1</text>\n",
       "</g>\n",
       "<!-- 53618600&#45;&gt;54080568 -->\n",
       "<g id=\"edge5\" class=\"edge\">\n",
       "<title>53618600&#45;&gt;54080568</title>\n",
       "<path fill=\"none\" stroke=\"#787878\" d=\"M378.5,-203.2528C378.5,-192.6517 378.5,-179.7644 378.5,-168.087\"/>\n",
       "<polygon fill=\"#787878\" stroke=\"#787878\" points=\"382.0001,-167.8031 378.5,-157.8032 375.0001,-167.8032 382.0001,-167.8031\"/>\n",
       "<text text-anchor=\"middle\" x=\"391\" y=\"-178.6\" font-family=\"Helvetica,sans-Serif\" font-size=\"8.00\" fill=\"#999999\">6 (⇑5)</text>\n",
       "</g>\n",
       "<!-- 54056248 -->\n",
       "<g id=\"node8\" class=\"node\">\n",
       "<title>54056248</title>\n",
       "<path fill=\"none\" stroke=\"#000000\" d=\"M477,-113.5C477,-113.5 590,-113.5 590,-113.5 596,-113.5 602,-119.5 602,-125.5 602,-125.5 602,-145.5 602,-145.5 602,-151.5 596,-157.5 590,-157.5 590,-157.5 477,-157.5 477,-157.5 471,-157.5 465,-151.5 465,-145.5 465,-145.5 465,-125.5 465,-125.5 465,-119.5 471,-113.5 477,-113.5\"/>\n",
       "<text text-anchor=\"middle\" x=\"533.5\" y=\"-143.1\" font-family=\"Helvetica,sans-Serif\" font-size=\"13.00\" fill=\"#000000\">fibo_three_memo(1)</text>\n",
       "<polyline fill=\"none\" stroke=\"#000000\" points=\"465,-135.5 602,-135.5 \"/>\n",
       "<text text-anchor=\"middle\" x=\"533.5\" y=\"-121.1\" font-family=\"Helvetica,sans-Serif\" font-size=\"13.00\" fill=\"#000000\">ret: 1</text>\n",
       "</g>\n",
       "<!-- 53618600&#45;&gt;54056248 -->\n",
       "<g id=\"edge6\" class=\"edge\">\n",
       "<title>53618600&#45;&gt;54056248</title>\n",
       "<path fill=\"none\" stroke=\"#8c8c8c\" d=\"M416.4173,-203.4835C437.6218,-191.1712 464.2303,-175.7211 486.7206,-162.6622\"/>\n",
       "<polygon fill=\"#8c8c8c\" stroke=\"#8c8c8c\" points=\"488.5466,-165.6493 495.437,-157.6011 485.0316,-159.5957 488.5466,-165.6493\"/>\n",
       "<text text-anchor=\"middle\" x=\"474\" y=\"-178.6\" font-family=\"Helvetica,sans-Serif\" font-size=\"8.00\" fill=\"#999999\">7 (⇑6)</text>\n",
       "</g>\n",
       "<!-- 54046088 -->\n",
       "<g id=\"node4\" class=\"node\">\n",
       "<title>54046088</title>\n",
       "<path fill=\"none\" stroke=\"#000000\" d=\"M12,-23.5C12,-23.5 125,-23.5 125,-23.5 131,-23.5 137,-29.5 137,-35.5 137,-35.5 137,-55.5 137,-55.5 137,-61.5 131,-67.5 125,-67.5 125,-67.5 12,-67.5 12,-67.5 6,-67.5 0,-61.5 0,-55.5 0,-55.5 0,-35.5 0,-35.5 0,-29.5 6,-23.5 12,-23.5\"/>\n",
       "<text text-anchor=\"middle\" x=\"68.5\" y=\"-53.1\" font-family=\"Helvetica,sans-Serif\" font-size=\"13.00\" fill=\"#000000\">fibo_three_memo(2)</text>\n",
       "<polyline fill=\"none\" stroke=\"#000000\" points=\"0,-45.5 137,-45.5 \"/>\n",
       "<text text-anchor=\"middle\" x=\"68.5\" y=\"-31.1\" font-family=\"Helvetica,sans-Serif\" font-size=\"13.00\" fill=\"#000000\">ret: 1</text>\n",
       "</g>\n",
       "<!-- 54044968&#45;&gt;54046088 -->\n",
       "<g id=\"edge7\" class=\"edge\">\n",
       "<title>54044968&#45;&gt;54046088</title>\n",
       "<path fill=\"none\" stroke=\"#3c3c3c\" d=\"M185.5827,-113.4835C164.3782,-101.1712 137.7697,-85.7211 115.2794,-72.6622\"/>\n",
       "<polygon fill=\"#3c3c3c\" stroke=\"#3c3c3c\" points=\"116.9684,-69.5957 106.563,-67.6011 113.4534,-75.6493 116.9684,-69.5957\"/>\n",
       "<text text-anchor=\"middle\" x=\"164\" y=\"-88.6\" font-family=\"Helvetica,sans-Serif\" font-size=\"8.00\" fill=\"#999999\">3 (⇑1)</text>\n",
       "</g>\n",
       "<!-- 54047208 -->\n",
       "<g id=\"node5\" class=\"node\">\n",
       "<title>54047208</title>\n",
       "<path fill=\"none\" stroke=\"#000000\" d=\"M167,-23.5C167,-23.5 280,-23.5 280,-23.5 286,-23.5 292,-29.5 292,-35.5 292,-35.5 292,-55.5 292,-55.5 292,-61.5 286,-67.5 280,-67.5 280,-67.5 167,-67.5 167,-67.5 161,-67.5 155,-61.5 155,-55.5 155,-55.5 155,-35.5 155,-35.5 155,-29.5 161,-23.5 167,-23.5\"/>\n",
       "<text text-anchor=\"middle\" x=\"223.5\" y=\"-53.1\" font-family=\"Helvetica,sans-Serif\" font-size=\"13.00\" fill=\"#000000\">fibo_three_memo(1)</text>\n",
       "<polyline fill=\"none\" stroke=\"#000000\" points=\"155,-45.5 292,-45.5 \"/>\n",
       "<text text-anchor=\"middle\" x=\"223.5\" y=\"-31.1\" font-family=\"Helvetica,sans-Serif\" font-size=\"13.00\" fill=\"#000000\">ret: 1</text>\n",
       "</g>\n",
       "<!-- 54044968&#45;&gt;54047208 -->\n",
       "<g id=\"edge8\" class=\"edge\">\n",
       "<title>54044968&#45;&gt;54047208</title>\n",
       "<path fill=\"none\" stroke=\"#505050\" d=\"M223.5,-113.2528C223.5,-102.6517 223.5,-89.7644 223.5,-78.087\"/>\n",
       "<polygon fill=\"#505050\" stroke=\"#505050\" points=\"227.0001,-77.8031 223.5,-67.8032 220.0001,-77.8032 227.0001,-77.8031\"/>\n",
       "<text text-anchor=\"middle\" x=\"236\" y=\"-88.6\" font-family=\"Helvetica,sans-Serif\" font-size=\"8.00\" fill=\"#999999\">4 (⇑2)</text>\n",
       "</g>\n",
       "<!-- 54047768 -->\n",
       "<g id=\"node6\" class=\"node\">\n",
       "<title>54047768</title>\n",
       "<path fill=\"none\" stroke=\"#000000\" d=\"M322,-23.5C322,-23.5 435,-23.5 435,-23.5 441,-23.5 447,-29.5 447,-35.5 447,-35.5 447,-55.5 447,-55.5 447,-61.5 441,-67.5 435,-67.5 435,-67.5 322,-67.5 322,-67.5 316,-67.5 310,-61.5 310,-55.5 310,-55.5 310,-35.5 310,-35.5 310,-29.5 316,-23.5 322,-23.5\"/>\n",
       "<text text-anchor=\"middle\" x=\"378.5\" y=\"-53.1\" font-family=\"Helvetica,sans-Serif\" font-size=\"13.00\" fill=\"#000000\">fibo_three_memo(0)</text>\n",
       "<polyline fill=\"none\" stroke=\"#000000\" points=\"310,-45.5 447,-45.5 \"/>\n",
       "<text text-anchor=\"middle\" x=\"378.5\" y=\"-31.1\" font-family=\"Helvetica,sans-Serif\" font-size=\"13.00\" fill=\"#000000\">ret: 0</text>\n",
       "</g>\n",
       "<!-- 54044968&#45;&gt;54047768 -->\n",
       "<g id=\"edge9\" class=\"edge\">\n",
       "<title>54044968&#45;&gt;54047768</title>\n",
       "<path fill=\"none\" stroke=\"#646464\" d=\"M261.4173,-113.4835C282.6218,-101.1712 309.2303,-85.7211 331.7206,-72.6622\"/>\n",
       "<polygon fill=\"#646464\" stroke=\"#646464\" points=\"333.5466,-75.6493 340.437,-67.6011 330.0316,-69.5957 333.5466,-75.6493\"/>\n",
       "<text text-anchor=\"middle\" x=\"319\" y=\"-88.6\" font-family=\"Helvetica,sans-Serif\" font-size=\"8.00\" fill=\"#999999\">5 (⇑3)</text>\n",
       "</g>\n",
       "</g>\n",
       "</svg>\n"
      ],
      "text/plain": [
       "<graphviz.dot.Digraph at 0x7f1b25602b38>"
      ]
     },
     "execution_count": 341,
     "metadata": {},
     "output_type": "execute_result"
    }
   ],
   "source": [
    "n = 5\n",
    "print(f\"{n}! = {fibo_three_memo(n)}\")\n",
    "\n",
    "cg.render()"
   ]
  },
  {
   "cell_type": "markdown",
   "metadata": {},
   "source": [
    "As before, we can see that the ternary tree is reduced: there is recursion only on the most lefty branch, thanks to memoization."
   ]
  },
  {
   "cell_type": "markdown",
   "metadata": {},
   "source": [
    "##### About `rcviz`\n",
    "It's an awesome module!\n",
    "Thanks to [@DamnedFacts/](https://github.com/DamnedFacts/) for having [his up-to-date fork](https://github.com/DamnedFacts/rcviz)."
   ]
  },
  {
   "cell_type": "markdown",
   "metadata": {},
   "source": [
    "### String"
   ]
  },
  {
   "cell_type": "code",
   "execution_count": 294,
   "metadata": {
    "ExecuteTime": {
     "end_time": "2021-02-22T22:39:03.163523Z",
     "start_time": "2021-02-22T22:39:03.160418Z"
    }
   },
   "outputs": [
    {
     "data": {
      "text/plain": [
       "'0123456789abcdefABCDEF'"
      ]
     },
     "execution_count": 294,
     "metadata": {},
     "output_type": "execute_result"
    }
   ],
   "source": [
    "import string\n",
    "string.hexdigits"
   ]
  },
  {
   "cell_type": "code",
   "execution_count": 295,
   "metadata": {
    "ExecuteTime": {
     "end_time": "2021-02-22T22:39:03.691286Z",
     "start_time": "2021-02-22T22:39:03.630532Z"
    }
   },
   "outputs": [
    {
     "data": {
      "image/svg+xml": [
       "<?xml version=\"1.0\" encoding=\"UTF-8\" standalone=\"no\"?>\n",
       "<!DOCTYPE svg PUBLIC \"-//W3C//DTD SVG 1.1//EN\"\n",
       " \"http://www.w3.org/Graphics/SVG/1.1/DTD/svg11.dtd\">\n",
       "<!-- Generated by graphviz version 2.40.1 (20161225.0304)\n",
       " -->\n",
       "<!-- Title: G Pages: 1 -->\n",
       "<svg width=\"268pt\" height=\"43pt\"\n",
       " viewBox=\"0.00 0.00 268.00 43.00\" xmlns=\"http://www.w3.org/2000/svg\" xmlns:xlink=\"http://www.w3.org/1999/xlink\">\n",
       "<g id=\"graph0\" class=\"graph\" transform=\"scale(1 1) rotate(0) translate(4 39)\">\n",
       "<title>G</title>\n",
       "<polygon fill=\"#ffffff\" stroke=\"transparent\" points=\"-4,4 -4,-39 264,-39 264,4 -4,4\"/>\n",
       "<!-- node139755555686920 -->\n",
       "<g id=\"node1\" class=\"node\">\n",
       "<title>node139755555686920</title>\n",
       "<polygon fill=\"#fefecd\" stroke=\"#444443\" stroke-width=\".5\" points=\"260,-35 0,-35 0,0 260,0 260,-35\"/>\n",
       "<polygon fill=\"#fbfeb0\" stroke=\"transparent\" points=\"12,-18.5 12,-30.5 20,-30.5 20,-18.5 12,-18.5\"/>\n",
       "<polyline fill=\"none\" stroke=\"#444443\" points=\"12,-18.5 20,-18.5 20,-30.5 \"/>\n",
       "<text text-anchor=\"start\" x=\"13\" y=\"-22.3\" font-family=\"Helvetica,sans-Serif\" font-size=\"9.00\" fill=\"#444443\">0</text>\n",
       "<polygon fill=\"#fbfeb0\" stroke=\"transparent\" points=\"20,-18.5 20,-30.5 28,-30.5 28,-18.5 20,-18.5\"/>\n",
       "<polyline fill=\"none\" stroke=\"#444443\" points=\"20,-18.5 28,-18.5 28,-30.5 \"/>\n",
       "<text text-anchor=\"start\" x=\"21\" y=\"-22.3\" font-family=\"Helvetica,sans-Serif\" font-size=\"9.00\" fill=\"#444443\">1</text>\n",
       "<polygon fill=\"#fbfeb0\" stroke=\"transparent\" points=\"28,-18.5 28,-30.5 36,-30.5 36,-18.5 28,-18.5\"/>\n",
       "<polyline fill=\"none\" stroke=\"#444443\" points=\"28,-18.5 36,-18.5 36,-30.5 \"/>\n",
       "<text text-anchor=\"start\" x=\"29\" y=\"-22.3\" font-family=\"Helvetica,sans-Serif\" font-size=\"9.00\" fill=\"#444443\">2</text>\n",
       "<polygon fill=\"#fbfeb0\" stroke=\"transparent\" points=\"36,-18.5 36,-30.5 44,-30.5 44,-18.5 36,-18.5\"/>\n",
       "<polyline fill=\"none\" stroke=\"#444443\" points=\"36,-18.5 44,-18.5 44,-30.5 \"/>\n",
       "<text text-anchor=\"start\" x=\"37\" y=\"-22.3\" font-family=\"Helvetica,sans-Serif\" font-size=\"9.00\" fill=\"#444443\">3</text>\n",
       "<polygon fill=\"#fbfeb0\" stroke=\"transparent\" points=\"44,-18.5 44,-30.5 52,-30.5 52,-18.5 44,-18.5\"/>\n",
       "<polyline fill=\"none\" stroke=\"#444443\" points=\"44,-18.5 52,-18.5 52,-30.5 \"/>\n",
       "<text text-anchor=\"start\" x=\"45\" y=\"-22.3\" font-family=\"Helvetica,sans-Serif\" font-size=\"9.00\" fill=\"#444443\">4</text>\n",
       "<polygon fill=\"#fbfeb0\" stroke=\"transparent\" points=\"52,-18.5 52,-30.5 60,-30.5 60,-18.5 52,-18.5\"/>\n",
       "<polyline fill=\"none\" stroke=\"#444443\" points=\"52,-18.5 60,-18.5 60,-30.5 \"/>\n",
       "<text text-anchor=\"start\" x=\"53\" y=\"-22.3\" font-family=\"Helvetica,sans-Serif\" font-size=\"9.00\" fill=\"#444443\">5</text>\n",
       "<polygon fill=\"#fbfeb0\" stroke=\"transparent\" points=\"60,-18.5 60,-30.5 68,-30.5 68,-18.5 60,-18.5\"/>\n",
       "<polyline fill=\"none\" stroke=\"#444443\" points=\"60,-18.5 68,-18.5 68,-30.5 \"/>\n",
       "<text text-anchor=\"start\" x=\"61\" y=\"-22.3\" font-family=\"Helvetica,sans-Serif\" font-size=\"9.00\" fill=\"#444443\">6</text>\n",
       "<polygon fill=\"#fbfeb0\" stroke=\"transparent\" points=\"68,-18.5 68,-30.5 76,-30.5 76,-18.5 68,-18.5\"/>\n",
       "<polyline fill=\"none\" stroke=\"#444443\" points=\"68,-18.5 76,-18.5 76,-30.5 \"/>\n",
       "<text text-anchor=\"start\" x=\"69\" y=\"-22.3\" font-family=\"Helvetica,sans-Serif\" font-size=\"9.00\" fill=\"#444443\">7</text>\n",
       "<polygon fill=\"#fbfeb0\" stroke=\"transparent\" points=\"76,-18.5 76,-30.5 84,-30.5 84,-18.5 76,-18.5\"/>\n",
       "<polyline fill=\"none\" stroke=\"#444443\" points=\"76,-18.5 84,-18.5 84,-30.5 \"/>\n",
       "<text text-anchor=\"start\" x=\"77\" y=\"-22.3\" font-family=\"Helvetica,sans-Serif\" font-size=\"9.00\" fill=\"#444443\">8</text>\n",
       "<polygon fill=\"#fbfeb0\" stroke=\"transparent\" points=\"84,-18.5 84,-30.5 92,-30.5 92,-18.5 84,-18.5\"/>\n",
       "<polyline fill=\"none\" stroke=\"#444443\" points=\"84,-18.5 92,-18.5 92,-30.5 \"/>\n",
       "<text text-anchor=\"start\" x=\"85\" y=\"-22.3\" font-family=\"Helvetica,sans-Serif\" font-size=\"9.00\" fill=\"#444443\">9</text>\n",
       "<polygon fill=\"#fbfeb0\" stroke=\"transparent\" points=\"92,-18.5 92,-30.5 105,-30.5 105,-18.5 92,-18.5\"/>\n",
       "<polyline fill=\"none\" stroke=\"#444443\" points=\"92,-18.5 105,-18.5 105,-30.5 \"/>\n",
       "<text text-anchor=\"start\" x=\"93\" y=\"-22.3\" font-family=\"Helvetica,sans-Serif\" font-size=\"9.00\" fill=\"#444443\">10</text>\n",
       "<polygon fill=\"#fbfeb0\" stroke=\"transparent\" points=\"105,-18.5 105,-30.5 118,-30.5 118,-18.5 105,-18.5\"/>\n",
       "<polyline fill=\"none\" stroke=\"#444443\" points=\"105,-18.5 118,-18.5 118,-30.5 \"/>\n",
       "<text text-anchor=\"start\" x=\"106\" y=\"-22.3\" font-family=\"Helvetica,sans-Serif\" font-size=\"9.00\" fill=\"#444443\">11</text>\n",
       "<polygon fill=\"#fbfeb0\" stroke=\"transparent\" points=\"118,-18.5 118,-30.5 131,-30.5 131,-18.5 118,-18.5\"/>\n",
       "<polyline fill=\"none\" stroke=\"#444443\" points=\"118,-18.5 131,-18.5 131,-30.5 \"/>\n",
       "<text text-anchor=\"start\" x=\"119\" y=\"-22.3\" font-family=\"Helvetica,sans-Serif\" font-size=\"9.00\" fill=\"#444443\">12</text>\n",
       "<polygon fill=\"#fbfeb0\" stroke=\"transparent\" points=\"131,-18.5 131,-30.5 144,-30.5 144,-18.5 131,-18.5\"/>\n",
       "<polyline fill=\"none\" stroke=\"#444443\" points=\"131,-18.5 144,-18.5 144,-30.5 \"/>\n",
       "<text text-anchor=\"start\" x=\"132\" y=\"-22.3\" font-family=\"Helvetica,sans-Serif\" font-size=\"9.00\" fill=\"#444443\">13</text>\n",
       "<polygon fill=\"#fbfeb0\" stroke=\"transparent\" points=\"144,-18.5 144,-30.5 157,-30.5 157,-18.5 144,-18.5\"/>\n",
       "<polyline fill=\"none\" stroke=\"#444443\" points=\"144,-18.5 157,-18.5 157,-30.5 \"/>\n",
       "<text text-anchor=\"start\" x=\"145\" y=\"-22.3\" font-family=\"Helvetica,sans-Serif\" font-size=\"9.00\" fill=\"#444443\">14</text>\n",
       "<polygon fill=\"#fbfeb0\" stroke=\"transparent\" points=\"157,-18.5 157,-30.5 170,-30.5 170,-18.5 157,-18.5\"/>\n",
       "<polyline fill=\"none\" stroke=\"#444443\" points=\"157,-18.5 170,-18.5 170,-30.5 \"/>\n",
       "<text text-anchor=\"start\" x=\"158\" y=\"-22.3\" font-family=\"Helvetica,sans-Serif\" font-size=\"9.00\" fill=\"#444443\">15</text>\n",
       "<polygon fill=\"#fbfeb0\" stroke=\"transparent\" points=\"170,-18.5 170,-30.5 183,-30.5 183,-18.5 170,-18.5\"/>\n",
       "<polyline fill=\"none\" stroke=\"#444443\" points=\"170,-18.5 183,-18.5 183,-30.5 \"/>\n",
       "<text text-anchor=\"start\" x=\"171\" y=\"-22.3\" font-family=\"Helvetica,sans-Serif\" font-size=\"9.00\" fill=\"#444443\">16</text>\n",
       "<polygon fill=\"#fbfeb0\" stroke=\"transparent\" points=\"183,-18.5 183,-30.5 196,-30.5 196,-18.5 183,-18.5\"/>\n",
       "<polyline fill=\"none\" stroke=\"#444443\" points=\"183,-18.5 196,-18.5 196,-30.5 \"/>\n",
       "<text text-anchor=\"start\" x=\"184\" y=\"-22.3\" font-family=\"Helvetica,sans-Serif\" font-size=\"9.00\" fill=\"#444443\">17</text>\n",
       "<polygon fill=\"#fbfeb0\" stroke=\"transparent\" points=\"196,-18.5 196,-30.5 209,-30.5 209,-18.5 196,-18.5\"/>\n",
       "<polyline fill=\"none\" stroke=\"#444443\" points=\"196,-18.5 209,-18.5 209,-30.5 \"/>\n",
       "<text text-anchor=\"start\" x=\"197\" y=\"-22.3\" font-family=\"Helvetica,sans-Serif\" font-size=\"9.00\" fill=\"#444443\">18</text>\n",
       "<polygon fill=\"#fbfeb0\" stroke=\"transparent\" points=\"209,-18.5 209,-30.5 222,-30.5 222,-18.5 209,-18.5\"/>\n",
       "<polyline fill=\"none\" stroke=\"#444443\" points=\"209,-18.5 222,-18.5 222,-30.5 \"/>\n",
       "<text text-anchor=\"start\" x=\"210\" y=\"-22.3\" font-family=\"Helvetica,sans-Serif\" font-size=\"9.00\" fill=\"#444443\">19</text>\n",
       "<polygon fill=\"#fbfeb0\" stroke=\"transparent\" points=\"222,-18.5 222,-30.5 235,-30.5 235,-18.5 222,-18.5\"/>\n",
       "<polyline fill=\"none\" stroke=\"#444443\" points=\"222,-18.5 235,-18.5 235,-30.5 \"/>\n",
       "<text text-anchor=\"start\" x=\"223\" y=\"-22.3\" font-family=\"Helvetica,sans-Serif\" font-size=\"9.00\" fill=\"#444443\">20</text>\n",
       "<polygon fill=\"#fbfeb0\" stroke=\"transparent\" points=\"235,-18.5 235,-30.5 248,-30.5 248,-18.5 235,-18.5\"/>\n",
       "<polyline fill=\"none\" stroke=\"#444443\" points=\"235,-18.5 248,-18.5 \"/>\n",
       "<text text-anchor=\"start\" x=\"236\" y=\"-22.3\" font-family=\"Helvetica,sans-Serif\" font-size=\"9.00\" fill=\"#444443\">21</text>\n",
       "<text text-anchor=\"start\" x=\"8\" y=\"-7.3\" font-family=\"Helvetica,sans-Serif\" font-size=\"14.00\" fill=\"#444443\">&#39;</text>\n",
       "<polygon fill=\"#fbfeb0\" stroke=\"transparent\" points=\"12,-3.5 12,-18.5 20,-18.5 20,-3.5 12,-3.5\"/>\n",
       "<text text-anchor=\"start\" x=\"12\" y=\"-8.2\" font-family=\"Monaco\" font-size=\"11.00\" fill=\"#444443\">0</text>\n",
       "<polygon fill=\"#fbfeb0\" stroke=\"transparent\" points=\"20,-3.5 20,-18.5 28,-18.5 28,-3.5 20,-3.5\"/>\n",
       "<text text-anchor=\"start\" x=\"20\" y=\"-8.2\" font-family=\"Monaco\" font-size=\"11.00\" fill=\"#444443\">1</text>\n",
       "<polygon fill=\"#fbfeb0\" stroke=\"transparent\" points=\"28,-3.5 28,-18.5 36,-18.5 36,-3.5 28,-3.5\"/>\n",
       "<text text-anchor=\"start\" x=\"28\" y=\"-8.2\" font-family=\"Monaco\" font-size=\"11.00\" fill=\"#444443\">2</text>\n",
       "<polygon fill=\"#fbfeb0\" stroke=\"transparent\" points=\"36,-3.5 36,-18.5 44,-18.5 44,-3.5 36,-3.5\"/>\n",
       "<text text-anchor=\"start\" x=\"36\" y=\"-8.2\" font-family=\"Monaco\" font-size=\"11.00\" fill=\"#444443\">3</text>\n",
       "<polygon fill=\"#fbfeb0\" stroke=\"transparent\" points=\"44,-3.5 44,-18.5 52,-18.5 52,-3.5 44,-3.5\"/>\n",
       "<text text-anchor=\"start\" x=\"44\" y=\"-8.2\" font-family=\"Monaco\" font-size=\"11.00\" fill=\"#444443\">4</text>\n",
       "<polygon fill=\"#fbfeb0\" stroke=\"transparent\" points=\"52,-3.5 52,-18.5 60,-18.5 60,-3.5 52,-3.5\"/>\n",
       "<text text-anchor=\"start\" x=\"52\" y=\"-8.2\" font-family=\"Monaco\" font-size=\"11.00\" fill=\"#444443\">5</text>\n",
       "<polygon fill=\"#fbfeb0\" stroke=\"transparent\" points=\"60,-3.5 60,-18.5 68,-18.5 68,-3.5 60,-3.5\"/>\n",
       "<text text-anchor=\"start\" x=\"60\" y=\"-8.2\" font-family=\"Monaco\" font-size=\"11.00\" fill=\"#444443\">6</text>\n",
       "<polygon fill=\"#fbfeb0\" stroke=\"transparent\" points=\"68,-3.5 68,-18.5 76,-18.5 76,-3.5 68,-3.5\"/>\n",
       "<text text-anchor=\"start\" x=\"68\" y=\"-8.2\" font-family=\"Monaco\" font-size=\"11.00\" fill=\"#444443\">7</text>\n",
       "<polygon fill=\"#fbfeb0\" stroke=\"transparent\" points=\"76,-3.5 76,-18.5 84,-18.5 84,-3.5 76,-3.5\"/>\n",
       "<text text-anchor=\"start\" x=\"76\" y=\"-8.2\" font-family=\"Monaco\" font-size=\"11.00\" fill=\"#444443\">8</text>\n",
       "<polygon fill=\"#fbfeb0\" stroke=\"transparent\" points=\"84,-3.5 84,-18.5 92,-18.5 92,-3.5 84,-3.5\"/>\n",
       "<text text-anchor=\"start\" x=\"84\" y=\"-8.2\" font-family=\"Monaco\" font-size=\"11.00\" fill=\"#444443\">9</text>\n",
       "<polygon fill=\"#fbfeb0\" stroke=\"transparent\" points=\"92,-3.5 92,-18.5 105,-18.5 105,-3.5 92,-3.5\"/>\n",
       "<text text-anchor=\"start\" x=\"95\" y=\"-8.2\" font-family=\"Monaco\" font-size=\"11.00\" fill=\"#444443\">a</text>\n",
       "<polygon fill=\"#fbfeb0\" stroke=\"transparent\" points=\"105,-3.5 105,-18.5 118,-18.5 118,-3.5 105,-3.5\"/>\n",
       "<text text-anchor=\"start\" x=\"107.5\" y=\"-8.2\" font-family=\"Monaco\" font-size=\"11.00\" fill=\"#444443\">b</text>\n",
       "<polygon fill=\"#fbfeb0\" stroke=\"transparent\" points=\"118,-3.5 118,-18.5 131,-18.5 131,-3.5 118,-3.5\"/>\n",
       "<text text-anchor=\"start\" x=\"121\" y=\"-8.2\" font-family=\"Monaco\" font-size=\"11.00\" fill=\"#444443\">c</text>\n",
       "<polygon fill=\"#fbfeb0\" stroke=\"transparent\" points=\"131,-3.5 131,-18.5 144,-18.5 144,-3.5 131,-3.5\"/>\n",
       "<text text-anchor=\"start\" x=\"133.5\" y=\"-8.2\" font-family=\"Monaco\" font-size=\"11.00\" fill=\"#444443\">d</text>\n",
       "<polygon fill=\"#fbfeb0\" stroke=\"transparent\" points=\"144,-3.5 144,-18.5 157,-18.5 157,-3.5 144,-3.5\"/>\n",
       "<text text-anchor=\"start\" x=\"147\" y=\"-8.2\" font-family=\"Monaco\" font-size=\"11.00\" fill=\"#444443\">e</text>\n",
       "<polygon fill=\"#fbfeb0\" stroke=\"transparent\" points=\"157,-3.5 157,-18.5 170,-18.5 170,-3.5 157,-3.5\"/>\n",
       "<text text-anchor=\"start\" x=\"161.5\" y=\"-8.2\" font-family=\"Monaco\" font-size=\"11.00\" fill=\"#444443\">f</text>\n",
       "<polygon fill=\"#fbfeb0\" stroke=\"transparent\" points=\"170,-3.5 170,-18.5 183,-18.5 183,-3.5 170,-3.5\"/>\n",
       "<text text-anchor=\"start\" x=\"172.5\" y=\"-8.2\" font-family=\"Monaco\" font-size=\"11.00\" fill=\"#444443\">A</text>\n",
       "<polygon fill=\"#fbfeb0\" stroke=\"transparent\" points=\"183,-3.5 183,-18.5 196,-18.5 196,-3.5 183,-3.5\"/>\n",
       "<text text-anchor=\"start\" x=\"185.5\" y=\"-8.2\" font-family=\"Monaco\" font-size=\"11.00\" fill=\"#444443\">B</text>\n",
       "<polygon fill=\"#fbfeb0\" stroke=\"transparent\" points=\"196,-3.5 196,-18.5 209,-18.5 209,-3.5 196,-3.5\"/>\n",
       "<text text-anchor=\"start\" x=\"198.5\" y=\"-8.2\" font-family=\"Monaco\" font-size=\"11.00\" fill=\"#444443\">C</text>\n",
       "<polygon fill=\"#fbfeb0\" stroke=\"transparent\" points=\"209,-3.5 209,-18.5 222,-18.5 222,-3.5 209,-3.5\"/>\n",
       "<text text-anchor=\"start\" x=\"210.5\" y=\"-8.2\" font-family=\"Monaco\" font-size=\"11.00\" fill=\"#444443\">D</text>\n",
       "<polygon fill=\"#fbfeb0\" stroke=\"transparent\" points=\"222,-3.5 222,-18.5 235,-18.5 235,-3.5 222,-3.5\"/>\n",
       "<text text-anchor=\"start\" x=\"225\" y=\"-8.2\" font-family=\"Monaco\" font-size=\"11.00\" fill=\"#444443\">E</text>\n",
       "<polygon fill=\"#fbfeb0\" stroke=\"transparent\" points=\"235,-3.5 235,-18.5 248,-18.5 248,-3.5 235,-3.5\"/>\n",
       "<text text-anchor=\"start\" x=\"238\" y=\"-8.2\" font-family=\"Monaco\" font-size=\"11.00\" fill=\"#444443\">F</text>\n",
       "<text text-anchor=\"start\" x=\"248\" y=\"-7.3\" font-family=\"Helvetica,sans-Serif\" font-size=\"14.00\" fill=\"#444443\">&#39;</text>\n",
       "</g>\n",
       "</g>\n",
       "</svg>\n"
      ],
      "text/plain": [
       "<graphviz.files.Source at 0x7f1b256cdd68>"
      ]
     },
     "execution_count": 295,
     "metadata": {},
     "output_type": "execute_result"
    }
   ],
   "source": [
    "viz(string.hexdigits)"
   ]
  },
  {
   "cell_type": "markdown",
   "metadata": {},
   "source": [
    "### Interactive test of all the modes\n",
    "\n",
    "Using [IPyWidgets](https://ipywidgets.readthedocs.io/en/stable/examples/Using%20Interact.html#Widget-abbreviations):"
   ]
  },
  {
   "cell_type": "code",
   "execution_count": 317,
   "metadata": {
    "ExecuteTime": {
     "end_time": "2021-02-22T22:45:00.140799Z",
     "start_time": "2021-02-22T22:45:00.138473Z"
    }
   },
   "outputs": [],
   "source": [
    "from pprint import pprint\n",
    "from ipywidgets import interact"
   ]
  },
  {
   "cell_type": "markdown",
   "metadata": {},
   "source": [
    "Trying on all the objects used above:"
   ]
  },
  {
   "cell_type": "code",
   "execution_count": 321,
   "metadata": {
    "ExecuteTime": {
     "end_time": "2021-02-22T22:48:23.256693Z",
     "start_time": "2021-02-22T22:48:23.248867Z"
    }
   },
   "outputs": [],
   "source": [
    "objs = [\n",
    "    string.ascii_lowercase,\n",
    "    lolviz,\n",
    "    data,\n",
    "    squares,\n",
    "    example_matrix,\n",
    "    example_3D_matrix,\n",
    "    anakin,\n",
    "    anakin_rec,\n",
    "    leia_rec,\n",
    "    luke_rec,\n",
    "    root,\n",
    "    z,\n",
    "]"
   ]
  },
  {
   "cell_type": "markdown",
   "metadata": {},
   "source": [
    "And the different modes, except for \"call\" and \"calls\" which only work inside functions:"
   ]
  },
  {
   "cell_type": "code",
   "execution_count": 326,
   "metadata": {
    "ExecuteTime": {
     "end_time": "2021-02-22T22:49:21.928607Z",
     "start_time": "2021-02-22T22:49:21.924722Z"
    }
   },
   "outputs": [],
   "source": [
    "partial_modes = ['str', 'matrix', 'obj', 'tree', 'lol', 'list']"
   ]
  },
  {
   "cell_type": "code",
   "execution_count": 329,
   "metadata": {
    "ExecuteTime": {
     "end_time": "2021-02-22T22:51:32.422620Z",
     "start_time": "2021-02-22T22:51:32.339270Z"
    }
   },
   "outputs": [
    {
     "data": {
      "application/vnd.jupyter.widget-view+json": {
       "model_id": "cd1bb696c23f48c29d47c63868b1c1ad",
       "version_major": 2,
       "version_minor": 0
      },
      "text/plain": [
       "interactive(children=(Dropdown(description='obj', options=('abcdefghijklmnopqrstuvwxyz', <module 'lolviz' from…"
      ]
     },
     "metadata": {},
     "output_type": "display_data"
    }
   ],
   "source": [
    "@interact(\n",
    "    obj = objs,\n",
    "    mode = partial_modes,\n",
    ")\n",
    "def showcase_unified_viz(obj, mode):\n",
    "    print(f\"\\nObject of type = {type(obj)}, for mode = {mode}\")\n",
    "    pprint(obj)\n",
    "    return viz(obj, mode=mode)\n",
    "    return lolviz.strviz(obj)\n"
   ]
  },
  {
   "cell_type": "markdown",
   "metadata": {},
   "source": [
    "## Conclusion\n",
    "Who it was interesting!\n",
    "\n",
    "That's it. See [this other example](https://github.com/parrt/lolviz/blob/master/examples.ipynb) for more."
   ]
  }
 ],
 "metadata": {
  "kernelspec": {
   "display_name": "Python 3",
   "language": "python",
   "name": "python3"
  },
  "language_info": {
   "codemirror_mode": {
    "name": "ipython",
    "version": 3
   },
   "file_extension": ".py",
   "mimetype": "text/x-python",
   "name": "python",
   "nbconvert_exporter": "python",
   "pygments_lexer": "ipython3",
   "version": "3.6.9"
  },
  "toc": {
   "base_numbering": 1,
   "nav_menu": {
    "height": "226px",
    "width": "252px"
   },
   "number_sections": true,
   "sideBar": true,
   "skip_h1_title": false,
   "title_cell": "Table of Contents",
   "title_sidebar": "Contents",
   "toc_cell": true,
   "toc_position": {
    "height": "calc(100% - 180px)",
    "left": "10px",
    "top": "150px",
    "width": "280.95px"
   },
   "toc_section_display": true,
   "toc_window_display": true
  },
  "varInspector": {
   "cols": {
    "lenName": 16,
    "lenType": 16,
    "lenVar": 40
   },
   "kernels_config": {
    "python": {
     "delete_cmd_postfix": "",
     "delete_cmd_prefix": "del ",
     "library": "var_list.py",
     "varRefreshCmd": "print(var_dic_list())"
    },
    "r": {
     "delete_cmd_postfix": ") ",
     "delete_cmd_prefix": "rm(",
     "library": "var_list.r",
     "varRefreshCmd": "cat(var_dic_list()) "
    }
   },
   "position": {
    "height": "553.85px",
    "left": "916.75px",
    "right": "20px",
    "top": "87px",
    "width": "392.5px"
   },
   "types_to_exclude": [
    "module",
    "function",
    "builtin_function_or_method",
    "instance",
    "_Feature"
   ],
   "window_display": false
  }
 },
 "nbformat": 4,
 "nbformat_minor": 2
}
