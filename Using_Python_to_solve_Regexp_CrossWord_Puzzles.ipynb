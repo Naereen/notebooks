{
 "cells": [
  {
   "cell_type": "markdown",
   "metadata": {
    "slideshow": {
     "slide_type": "slide"
    },
    "tags": []
   },
   "source": [
    "# Using Python to solve Regexp CrossWord Puzzles\n",
    "\n",
    "Have a look at the amazing <https://regexcrossword.com/> website.\n",
    "\n",
    "I played during about two hours, and could manually solve almost all problems, quite easily for most of them.\n",
    "But then I got stucked on [this one](https://regexcrossword.com/challenges/volapuk/puzzles/5).\n",
    "\n",
    "Soooooo. I want to use [Python3](https://docs.python.org/3/) [regular expressions](https://docs.python.org/3/library/re.html) and try to solve any such cross-word puzzles.\n",
    "\n",
    "**Warning:** This notebook will *not* explain the concept and syntax of regular expressions, go read on about it on Wikipedia or in a good book. The Python documentation gives a nice introduction [here](https://docs.python.org/3/howto/regex.html#regex-howto).\n",
    "\n",
    "- Author: [Lilian Besson](https://besson.link) ([@Naereen](https://GitHub.com/Naereen) ;\n",
    "- License: [MIT License](https://lbesson.mit-license.org/) ;\n",
    "- Date: 28-02-2021."
   ]
  },
  {
   "cell_type": "markdown",
   "metadata": {},
   "source": [
    "## Representation of a problem\n",
    "\n",
    "Here is a screenshot from the game webpage.\n",
    "\n",
    "![](Using_Python_to_solve_Regexp_CrossWord_Puzzles_1.png)\n",
    "\n",
    "As you can see, an instance of this game is determined by its rectangular size, let's denote it $(m, n)$, so here there are $m=5$ lines and $n=5$ columns.\n",
    "\n",
    "I'll also use this [easy problem](https://regexcrossword.com/challenges/beginner/puzzles/1):\n",
    "\n",
    "![](Using_Python_to_solve_Regexp_CrossWord_Puzzles_2.png)\n",
    "\n",
    "Let's define both, in a small dictionnary containing two to four lists of regexps."
   ]
  },
  {
   "cell_type": "markdown",
   "metadata": {},
   "source": [
    "### Easy problem of size $(2,2)$ with four constraints"
   ]
  },
  {
   "cell_type": "code",
   "execution_count": 1,
   "metadata": {
    "ExecuteTime": {
     "end_time": "2021-02-28T18:19:39.187639Z",
     "start_time": "2021-02-28T18:19:39.183585Z"
    }
   },
   "outputs": [],
   "source": [
    "problem1 = {\n",
    "    \"left_lines\": [\n",
    "        r\"HE|LL|O+\",   # HE|LL|O+   line 1\n",
    "        r\"[PLEASE]+\",  # [PLEASE]+  line 2\n",
    "    ],\n",
    "    \"right_lines\": None,\n",
    "    \"top_columns\": [\n",
    "        r\"[^SPEAK]+\",  # [^SPEAK]+  column 1\n",
    "        r\"EP|IP|EF\",   # EP|IP|EF   column 2\n",
    "    ],\n",
    "    \"bottom_columns\": None,\n",
    "}"
   ]
  },
  {
   "cell_type": "markdown",
   "metadata": {},
   "source": [
    "The keys `\"right_lines\"` and `\"bottom_columns\"` can be empty, as for easier problems there are no constraints on the right and bottom."
   ]
  },
  {
   "cell_type": "markdown",
   "metadata": {},
   "source": [
    "Each line and column (but not each square) contains a regular expression, on a common alphabet of letters and symbols.\n",
    "Let's write $\\Sigma$ this alphabet, which in the most general case is $\\Sigma=\\{$ `A`, `B`, ..., `Z`, `0`, ..., `9`, `:`, `?`, `.`, `$`, `-`$\\}$."
   ]
  },
  {
   "cell_type": "markdown",
   "metadata": {},
   "source": [
    "For the first beginner problem, the alphabet can be shorten:"
   ]
  },
  {
   "cell_type": "code",
   "execution_count": 2,
   "metadata": {
    "ExecuteTime": {
     "end_time": "2021-02-28T18:19:39.274406Z",
     "start_time": "2021-02-28T18:19:39.271029Z"
    }
   },
   "outputs": [
    {
     "name": "stdout",
     "output_type": "stream",
     "text": [
      "alphabet1 = \n",
      "['A', 'E', 'F', 'H', 'I', 'K', 'L', 'O', 'P', 'S']\n"
     ]
    }
   ],
   "source": [
    "alphabet1 = {\n",
    "    'H', 'E', 'L', 'O',\n",
    "    'P', 'L', 'E', 'A', 'S', 'E',\n",
    "    'S', 'P', 'E', 'A', 'K',\n",
    "    'E', 'P', 'I', 'P', 'I', 'F',\n",
    "}\n",
    "\n",
    "print(f\"alphabet1 = \\n{sorted(alphabet1)}\")"
   ]
  },
  {
   "cell_type": "markdown",
   "metadata": {},
   "source": [
    "### Easy problem of size $(5,5)$ with 20 constraints"
   ]
  },
  {
   "cell_type": "markdown",
   "metadata": {},
   "source": [
    "Defining the [second problem](https://regexcrossword.com/challenges/volapuk/puzzles/5) is just a question of more copy-pasting:"
   ]
  },
  {
   "cell_type": "code",
   "execution_count": 89,
   "metadata": {
    "ExecuteTime": {
     "end_time": "2021-02-28T18:39:30.630434Z",
     "start_time": "2021-02-28T18:39:30.620214Z"
    }
   },
   "outputs": [],
   "source": [
    "problem2 = {\n",
    "    \"left_lines\": [\n",
    "        r\"(N3|TRA|N7)+\",  # left line 1\n",
    "        r\"[1LOVE2?4]+.\",  # left line 2\n",
    "        r\"(A|D)M[5-8$L]+\",  # left line 3\n",
    "        r\"[^\\s0ILAD]+\",  # left line 4\n",
    "        r\"[B-E]+(.)\\1.\",  # left line 5\n",
    "    ],\n",
    "    \"right_lines\": [\n",
    "        r\"[^OLD\\s]+\",  # right line 1\n",
    "        r\"(\\d+)[LA\\s$?]+\",  # right line 2\n",
    "        r\"(\\-P|5\\$|AM|Z|L)+\",  # right line 3\n",
    "        r\"(\\-D|\\-WE)+[^L4-9N$?]+\",  # right line 4\n",
    "        r\"[FED$?]+\",  # right line 5\n",
    "    ],\n",
    "    \"top_columns\": [\n",
    "        r\"[2TAIL\\-D]+\",  # top column 1\n",
    "        r\"(WE|R4|RY|M)+\",  # top column 2\n",
    "        r\"[FEAL3-5S]+\",  # top column 3\n",
    "        r\"[^FA\\sT1-2]+F\",  # top column 4\n",
    "        r\"[LO\\s\\?5-8]+\",  # top column 5\n",
    "    ],\n",
    "    \"bottom_columns\": [\n",
    "        r\"[^ILYO]+\",  # top column 1\n",
    "        r\".+[MURDEW]+\",  # top column 2\n",
    "        r\"[1ALF5$E\\s]+\",  # top column 3\n",
    "        r\"[\\dFAN$?]+\",  # top column 4\n",
    "        r\".+\\s.+\\?\",  # top column 5\n",
    "    ],\n",
    "}"
   ]
  },
  {
   "cell_type": "markdown",
   "metadata": {},
   "source": [
    "And its alphabet:"
   ]
  },
  {
   "cell_type": "code",
   "execution_count": 4,
   "metadata": {
    "ExecuteTime": {
     "end_time": "2021-02-28T18:19:39.297145Z",
     "start_time": "2021-02-28T18:19:39.285201Z"
    }
   },
   "outputs": [],
   "source": [
    "import string"
   ]
  },
  {
   "cell_type": "code",
   "execution_count": 5,
   "metadata": {
    "ExecuteTime": {
     "end_time": "2021-02-28T18:19:39.308325Z",
     "start_time": "2021-02-28T18:19:39.302147Z"
    }
   },
   "outputs": [
    {
     "name": "stdout",
     "output_type": "stream",
     "text": [
      "alphabet2 = \n",
      "['$', '-', '.', '0', '1', '2', '3', '4', '5', '6', '7', '8', '9', ':', '?', 'A', 'B', 'C', 'D', 'E', 'F', 'G', 'H', 'I', 'J', 'K', 'L', 'M', 'N', 'O', 'P', 'Q', 'R', 'S', 'T', 'U', 'V', 'W', 'X', 'Y', 'Z']\n"
     ]
    }
   ],
   "source": [
    "alphabet2 = set(string.digits) \\\n",
    "    | set(string.ascii_uppercase) \\\n",
    "    | { ':', '?', '.', '$', '-' }\n",
    "\n",
    "print(f\"alphabet2 = \\n{sorted(alphabet2)}\")"
   ]
  },
  {
   "cell_type": "markdown",
   "metadata": {},
   "source": [
    "### A few useful functions\n",
    "\n",
    "Let's first extract the dimension of a problem:"
   ]
  },
  {
   "cell_type": "code",
   "execution_count": 6,
   "metadata": {
    "ExecuteTime": {
     "end_time": "2021-02-28T18:19:39.377830Z",
     "start_time": "2021-02-28T18:19:39.370305Z"
    }
   },
   "outputs": [],
   "source": [
    "def dimension_problem(problem):\n",
    "    m = len(problem['left_lines'])\n",
    "    if problem['right_lines'] is not None:\n",
    "        assert m == len(problem['right_lines'])\n",
    "    n = len(problem['top_columns'])\n",
    "    if problem['bottom_columns'] is not None:\n",
    "        assert n == len(problem['bottom_columns'])\n",
    "    return (m, n)"
   ]
  },
  {
   "cell_type": "code",
   "execution_count": 7,
   "metadata": {
    "ExecuteTime": {
     "end_time": "2021-02-28T18:19:39.330372Z",
     "start_time": "2021-02-28T18:19:39.320058Z"
    }
   },
   "outputs": [
    {
     "data": {
      "text/plain": [
       "{'left_lines': ['HE|LL|O+', '[PLEASE]+'],\n",
       " 'right_lines': None,\n",
       " 'top_columns': ['[^SPEAK]+', 'EP|IP|EF'],\n",
       " 'bottom_columns': None}"
      ]
     },
     "execution_count": 7,
     "metadata": {},
     "output_type": "execute_result"
    }
   ],
   "source": [
    "problem1"
   ]
  },
  {
   "cell_type": "code",
   "execution_count": 8,
   "metadata": {
    "ExecuteTime": {
     "end_time": "2021-02-28T18:19:39.340406Z",
     "start_time": "2021-02-28T18:19:39.331758Z"
    }
   },
   "outputs": [
    {
     "data": {
      "text/plain": [
       "(2, 2)"
      ]
     },
     "execution_count": 8,
     "metadata": {},
     "output_type": "execute_result"
    }
   ],
   "source": [
    "dimension_problem(problem1)"
   ]
  },
  {
   "cell_type": "markdown",
   "metadata": {},
   "source": [
    "Now let's write a representation of a grid, a solution (or partial solution) of a problem:"
   ]
  },
  {
   "cell_type": "code",
   "execution_count": 115,
   "metadata": {
    "ExecuteTime": {
     "end_time": "2021-02-28T19:19:41.825799Z",
     "start_time": "2021-02-28T19:19:41.822001Z"
    }
   },
   "outputs": [],
   "source": [
    "___ = \"_\"  # represents an empty answer, as _ is not in the alphabet\n",
    "grid1_partial = [\n",
    "    [ 'H', ___ ],\n",
    "    [ ___, 'P' ],\n",
    "]"
   ]
  },
  {
   "cell_type": "code",
   "execution_count": 114,
   "metadata": {
    "ExecuteTime": {
     "end_time": "2021-02-28T19:19:53.803786Z",
     "start_time": "2021-02-28T19:19:53.796189Z"
    }
   },
   "outputs": [],
   "source": [
    "grid1_solution = [\n",
    "    [ 'H', 'E' ],\n",
    "    [ 'L', 'P' ],\n",
    "]"
   ]
  },
  {
   "cell_type": "markdown",
   "metadata": {},
   "source": [
    "As well as a few complete grids which are NOT solutions"
   ]
  },
  {
   "cell_type": "code",
   "execution_count": 119,
   "metadata": {
    "ExecuteTime": {
     "end_time": "2021-02-28T19:21:04.681341Z",
     "start_time": "2021-02-28T19:21:04.675866Z"
    }
   },
   "outputs": [],
   "source": [
    "grid1_wrong1 = [\n",
    "    [ 'H', 'E' ],\n",
    "    [ 'L', 'F' ],\n",
    "]"
   ]
  },
  {
   "cell_type": "code",
   "execution_count": 122,
   "metadata": {
    "ExecuteTime": {
     "end_time": "2021-02-28T19:21:43.066334Z",
     "start_time": "2021-02-28T19:21:43.062851Z"
    }
   },
   "outputs": [],
   "source": [
    "grid1_wrong2 = [\n",
    "    [ 'H', 'E' ],\n",
    "    [ 'E', 'P' ],\n",
    "]"
   ]
  },
  {
   "cell_type": "code",
   "execution_count": 123,
   "metadata": {
    "ExecuteTime": {
     "end_time": "2021-02-28T19:21:43.255495Z",
     "start_time": "2021-02-28T19:21:43.252502Z"
    }
   },
   "outputs": [],
   "source": [
    "grid1_wrong3 = [\n",
    "    [ 'H', 'E' ],\n",
    "    [ 'O', 'F' ],\n",
    "]"
   ]
  },
  {
   "cell_type": "code",
   "execution_count": 124,
   "metadata": {
    "ExecuteTime": {
     "end_time": "2021-02-28T19:21:43.395881Z",
     "start_time": "2021-02-28T19:21:43.392526Z"
    }
   },
   "outputs": [],
   "source": [
    "grid1_wrong4 = [\n",
    "    [ 'O', 'E' ],\n",
    "    [ 'O', 'F' ],\n",
    "]"
   ]
  },
  {
   "cell_type": "markdown",
   "metadata": {},
   "source": [
    "We also write these short functions to extract the $i$-th line or $j$-th column:"
   ]
  },
  {
   "cell_type": "code",
   "execution_count": 125,
   "metadata": {
    "ExecuteTime": {
     "end_time": "2021-02-28T19:21:43.819408Z",
     "start_time": "2021-02-28T19:21:43.814590Z"
    }
   },
   "outputs": [],
   "source": [
    "def nth_line(grid, line):\n",
    "    return \"\".join(grid[line])\n",
    "\n",
    "def nth_column(grid, column):\n",
    "    return \"\".join(grid[line][column] for line in range(len(grid)))"
   ]
  },
  {
   "cell_type": "code",
   "execution_count": 52,
   "metadata": {
    "ExecuteTime": {
     "end_time": "2021-02-28T18:26:35.937831Z",
     "start_time": "2021-02-28T18:26:35.930115Z"
    }
   },
   "outputs": [
    {
     "data": {
      "text/plain": [
       "['HE', 'LP']"
      ]
     },
     "execution_count": 52,
     "metadata": {},
     "output_type": "execute_result"
    }
   ],
   "source": [
    "[ nth_line(grid1_solution, line) for line in range(len(grid1_solution)) ]"
   ]
  },
  {
   "cell_type": "code",
   "execution_count": 53,
   "metadata": {
    "ExecuteTime": {
     "end_time": "2021-02-28T18:26:36.190037Z",
     "start_time": "2021-02-28T18:26:36.185907Z"
    }
   },
   "outputs": [
    {
     "data": {
      "text/plain": [
       "['HL', 'EP']"
      ]
     },
     "execution_count": 53,
     "metadata": {},
     "output_type": "execute_result"
    }
   ],
   "source": [
    "[ nth_column(grid1_solution, column) for column in range(len(grid1_solution[0])) ]"
   ]
  },
  {
   "cell_type": "markdown",
   "metadata": {},
   "source": [
    "And a partial solution for the harder problem:"
   ]
  },
  {
   "cell_type": "code",
   "execution_count": 116,
   "metadata": {
    "ExecuteTime": {
     "end_time": "2021-02-28T19:19:53.803786Z",
     "start_time": "2021-02-28T19:19:53.796189Z"
    }
   },
   "outputs": [],
   "source": [
    "___ = \"_\"  # represents an empty answer, as _ is not in the alphabet\n",
    "grid2_partial = [\n",
    "    [ 'T', 'R', 'A', 'N', '7' ],\n",
    "    [ '2', '4', ___, ___, ' ' ],\n",
    "    [ 'A', ___, ___, ___, ___ ],\n",
    "    [ '-', ___, ___, ___, ___ ],\n",
    "    [ 'D', ___, ___, ___, '?' ],\n",
    "]"
   ]
  },
  {
   "cell_type": "markdown",
   "metadata": {},
   "source": [
    "Let's extract the dimension of a grid, just to check it:"
   ]
  },
  {
   "cell_type": "code",
   "execution_count": 12,
   "metadata": {
    "ExecuteTime": {
     "end_time": "2021-02-28T18:19:39.377830Z",
     "start_time": "2021-02-28T18:19:39.370305Z"
    }
   },
   "outputs": [],
   "source": [
    "def dimension_grid(grid):\n",
    "    m = len(grid)\n",
    "    n = len(grid[0])\n",
    "    assert all(n == len(grid[i]) for i in range(1, m))\n",
    "    return (m, n)"
   ]
  },
  {
   "cell_type": "code",
   "execution_count": 13,
   "metadata": {
    "ExecuteTime": {
     "end_time": "2021-02-28T18:19:39.389872Z",
     "start_time": "2021-02-28T18:19:39.379450Z"
    }
   },
   "outputs": [
    {
     "name": "stdout",
     "output_type": "stream",
     "text": [
      "Grid grid1_partial has dimension: (2, 2)\n",
      "Grid grid1_solution has dimension: (2, 2)\n"
     ]
    }
   ],
   "source": [
    "print(f\"Grid grid1_partial has dimension: {dimension_grid(grid1_partial)}\")\n",
    "print(f\"Grid grid1_solution has dimension: {dimension_grid(grid1_solution)}\")"
   ]
  },
  {
   "cell_type": "code",
   "execution_count": 14,
   "metadata": {
    "ExecuteTime": {
     "end_time": "2021-02-28T18:19:39.399465Z",
     "start_time": "2021-02-28T18:19:39.391566Z"
    }
   },
   "outputs": [
    {
     "name": "stdout",
     "output_type": "stream",
     "text": [
      "Grid grid2_partial has dimension: (5, 5)\n"
     ]
    }
   ],
   "source": [
    "print(f\"Grid grid2_partial has dimension: {dimension_grid(grid2_partial)}\")"
   ]
  },
  {
   "cell_type": "code",
   "execution_count": 23,
   "metadata": {
    "ExecuteTime": {
     "end_time": "2021-02-28T18:20:09.528609Z",
     "start_time": "2021-02-28T18:20:09.520815Z"
    }
   },
   "outputs": [],
   "source": [
    "def check_dimensions(problem, grid):\n",
    "    return dimension_problem(problem) == dimension_grid(grid)"
   ]
  },
  {
   "cell_type": "code",
   "execution_count": 25,
   "metadata": {
    "ExecuteTime": {
     "end_time": "2021-02-28T18:20:18.134852Z",
     "start_time": "2021-02-28T18:20:18.128854Z"
    }
   },
   "outputs": [],
   "source": [
    "assert check_dimensions(problem1, grid1_partial)\n",
    "assert check_dimensions(problem1, grid1_solution)"
   ]
  },
  {
   "cell_type": "code",
   "execution_count": 26,
   "metadata": {
    "ExecuteTime": {
     "end_time": "2021-02-28T18:20:20.719439Z",
     "start_time": "2021-02-28T18:20:20.713955Z"
    }
   },
   "outputs": [],
   "source": [
    "assert not check_dimensions(problem2, grid1_partial)"
   ]
  },
  {
   "cell_type": "code",
   "execution_count": 27,
   "metadata": {
    "ExecuteTime": {
     "end_time": "2021-02-28T18:20:23.949521Z",
     "start_time": "2021-02-28T18:20:23.941785Z"
    }
   },
   "outputs": [],
   "source": [
    "assert check_dimensions(problem2, grid2_partial)"
   ]
  },
  {
   "cell_type": "code",
   "execution_count": 28,
   "metadata": {
    "ExecuteTime": {
     "end_time": "2021-02-28T18:20:26.055102Z",
     "start_time": "2021-02-28T18:20:26.048713Z"
    }
   },
   "outputs": [],
   "source": [
    "assert not check_dimensions(problem1, grid2_partial)"
   ]
  },
  {
   "cell_type": "markdown",
   "metadata": {},
   "source": [
    "### Two more checks\n",
    "\n",
    "We also have to check if a word is in an alphabet:"
   ]
  },
  {
   "cell_type": "code",
   "execution_count": 67,
   "metadata": {
    "ExecuteTime": {
     "end_time": "2021-02-28T18:31:18.543672Z",
     "start_time": "2021-02-28T18:31:18.538288Z"
    }
   },
   "outputs": [],
   "source": [
    "def check_alphabet(alphabet, word, debug=True):\n",
    "    result = True\n",
    "    for i, letter in enumerate(word):\n",
    "        new_result = letter in alphabet\n",
    "        if debug and result and not new_result:\n",
    "            print(f\"The word {repr(word)} is not in alphabet {repr(alphabet)}, as its #{i}th letter {letter} is not present.\")\n",
    "        result = result and new_result\n",
    "    return result"
   ]
  },
  {
   "cell_type": "code",
   "execution_count": 30,
   "metadata": {
    "ExecuteTime": {
     "end_time": "2021-02-28T18:20:28.783282Z",
     "start_time": "2021-02-28T18:20:28.777531Z"
    }
   },
   "outputs": [],
   "source": [
    "assert check_alphabet(alphabet1, 'H' 'E')  # concatenate the strings"
   ]
  },
  {
   "cell_type": "code",
   "execution_count": 31,
   "metadata": {
    "ExecuteTime": {
     "end_time": "2021-02-28T18:20:29.442027Z",
     "start_time": "2021-02-28T18:20:29.437829Z"
    }
   },
   "outputs": [],
   "source": [
    "assert check_alphabet(alphabet1, 'H' 'E')\n",
    "assert check_alphabet(alphabet1, 'L' 'P')\n",
    "assert check_alphabet(alphabet1, 'H' 'L')\n",
    "assert check_alphabet(alphabet1, 'E' 'P')"
   ]
  },
  {
   "cell_type": "code",
   "execution_count": 32,
   "metadata": {
    "ExecuteTime": {
     "end_time": "2021-02-28T18:20:29.442027Z",
     "start_time": "2021-02-28T18:20:29.437829Z"
    }
   },
   "outputs": [],
   "source": [
    "assert check_alphabet(alphabet2, \"TRAN7\")"
   ]
  },
  {
   "cell_type": "markdown",
   "metadata": {},
   "source": [
    "And also check that a word matches a regexp:"
   ]
  },
  {
   "cell_type": "code",
   "execution_count": 33,
   "metadata": {
    "ExecuteTime": {
     "end_time": "2021-02-28T18:20:33.424561Z",
     "start_time": "2021-02-28T18:20:33.420816Z"
    }
   },
   "outputs": [],
   "source": [
    "import re"
   ]
  },
  {
   "cell_type": "code",
   "execution_count": 72,
   "metadata": {
    "ExecuteTime": {
     "end_time": "2021-02-28T18:34:36.175273Z",
     "start_time": "2021-02-28T18:34:36.165932Z"
    }
   },
   "outputs": [],
   "source": [
    "def match(regexp, word, debug=True):\n",
    "    result = re.match(regexp, word)\n",
    "    entire_match = False\n",
    "    if result is not None:\n",
    "        entire_match = result.group(0) == word\n",
    "    if debug:\n",
    "        if entire_match:\n",
    "            print(f\"The word {repr(word)} is matched by {repr(regexp)}\")\n",
    "        else:\n",
    "            print(f\"The word {repr(word)} is NOT matched by {repr(regexp)}\")\n",
    "    return entire_match"
   ]
  },
  {
   "cell_type": "code",
   "execution_count": 73,
   "metadata": {
    "ExecuteTime": {
     "end_time": "2021-02-28T18:34:37.690801Z",
     "start_time": "2021-02-28T18:34:37.681820Z"
    }
   },
   "outputs": [
    {
     "name": "stdout",
     "output_type": "stream",
     "text": [
      "The word 'TRAN7' is matched by '(N3|TRA|N7)+'\n"
     ]
    },
    {
     "data": {
      "text/plain": [
       "True"
      ]
     },
     "execution_count": 73,
     "metadata": {},
     "output_type": "execute_result"
    }
   ],
   "source": [
    "match(r\"(N3|TRA|N7)+\", \"TRAN7\")"
   ]
  },
  {
   "cell_type": "code",
   "execution_count": 74,
   "metadata": {
    "ExecuteTime": {
     "end_time": "2021-02-28T18:34:38.075357Z",
     "start_time": "2021-02-28T18:34:38.070544Z"
    }
   },
   "outputs": [
    {
     "name": "stdout",
     "output_type": "stream",
     "text": [
      "The word 'TRAN8' is NOT matched by '(N3|TRA|N7)+'\n"
     ]
    },
    {
     "data": {
      "text/plain": [
       "False"
      ]
     },
     "execution_count": 74,
     "metadata": {},
     "output_type": "execute_result"
    }
   ],
   "source": [
    "match(r\"(N3|TRA|N7)+\", \"TRAN8\")"
   ]
  },
  {
   "cell_type": "code",
   "execution_count": 75,
   "metadata": {
    "ExecuteTime": {
     "end_time": "2021-02-28T18:34:41.466499Z",
     "start_time": "2021-02-28T18:34:41.455455Z"
    }
   },
   "outputs": [
    {
     "name": "stdout",
     "output_type": "stream",
     "text": [
      "The word '' is NOT matched by '(N3|TRA|N7)+'\n"
     ]
    },
    {
     "data": {
      "text/plain": [
       "False"
      ]
     },
     "execution_count": 75,
     "metadata": {},
     "output_type": "execute_result"
    }
   ],
   "source": [
    "match(r\"(N3|TRA|N7)+\", \"\")"
   ]
  },
  {
   "cell_type": "code",
   "execution_count": 76,
   "metadata": {
    "ExecuteTime": {
     "end_time": "2021-02-28T18:34:50.985917Z",
     "start_time": "2021-02-28T18:34:50.978868Z"
    }
   },
   "outputs": [
    {
     "name": "stdout",
     "output_type": "stream",
     "text": [
      "The word 'TRA' is matched by '(N3|TRA|N7)+'\n"
     ]
    },
    {
     "data": {
      "text/plain": [
       "True"
      ]
     },
     "execution_count": 76,
     "metadata": {},
     "output_type": "execute_result"
    }
   ],
   "source": [
    "match(r\"(N3|TRA|N7)+\", \"TRA\")"
   ]
  },
  {
   "cell_type": "markdown",
   "metadata": {},
   "source": [
    "That should be enough to start the first \"easy\" task."
   ]
  },
  {
   "cell_type": "markdown",
   "metadata": {},
   "source": [
    "## First easy task: check that a line/column word validate its contraints\n",
    "\n",
    "Given a problem $P$ of dimension $(m, n)$, its alphabet $\\Sigma$, a position $i \\in [| 0, m-1 |]$ of a line or $j \\times [|0, n-1 |]$ of a column, and a word $w \\in \\Sigma^k$ (with $k=m$ for line or $k=n$ for column), I want to write a function that checks the validity of each (left/right) line, or (top/bottom) constraints.\n",
    "\n",
    "To ease debugging, and in the goal of using this Python program to improve my skills in solving such puzzles, I don't want this function to just reply `True` or `False`, but to also print for each constraints if it is satisfied or not.\n",
    "\n",
    "**Bonus:** for each regexp contraint, highlight the parts which corresponded to each letter of the word?"
   ]
  },
  {
   "cell_type": "markdown",
   "metadata": {},
   "source": [
    "### For lines"
   ]
  },
  {
   "cell_type": "markdown",
   "metadata": {},
   "source": [
    "We are ready to check the one or two constraints of a line.\n",
    "The same function will be written for columns, just below."
   ]
  },
  {
   "cell_type": "code",
   "execution_count": 94,
   "metadata": {
    "ExecuteTime": {
     "end_time": "2021-02-28T19:00:53.965385Z",
     "start_time": "2021-02-28T19:00:53.956518Z"
    }
   },
   "outputs": [],
   "source": [
    "def check_line(problem, alphabet, word, position, debug=True, early=False):\n",
    "    if not check_alphabet(alphabet, word, debug=debug):\n",
    "        return False\n",
    "    m, n = dimension_problem(problem)\n",
    "    if len(word) != n:\n",
    "        if debug:\n",
    "            print(f\"Word {repr(word)} does not have correct size n = {n} for lines\")\n",
    "        return False\n",
    "    assert 0 <= position < m\n",
    "    constraints = []\n",
    "    if \"left_lines\" in problem and problem[\"left_lines\"] is not None:\n",
    "        constraints += [ problem[\"left_lines\"][position] ]\n",
    "    if \"right_lines\" in problem and problem[\"right_lines\"] is not None:\n",
    "        constraints += [ problem[\"right_lines\"][position] ]\n",
    "    # okay we have one or two constraint for this line,\n",
    "    assert len(constraints) in {1, 2}\n",
    "    # let's check them!\n",
    "    result = True\n",
    "    for cnb, constraint in enumerate(constraints):\n",
    "        if debug:\n",
    "            print(f\"For line constraint #{cnb} {repr(constraint)}:\")\n",
    "        new_result = match(constraint, word, debug=debug)\n",
    "        if early and not new_result: return False\n",
    "        result = result and new_result\n",
    "    return result"
   ]
  },
  {
   "cell_type": "markdown",
   "metadata": {},
   "source": [
    "Let's try it!"
   ]
  },
  {
   "cell_type": "code",
   "execution_count": 82,
   "metadata": {
    "ExecuteTime": {
     "end_time": "2021-02-28T18:35:47.702243Z",
     "start_time": "2021-02-28T18:35:47.694738Z"
    }
   },
   "outputs": [
    {
     "data": {
      "text/plain": [
       "({'left_lines': ['HE|LL|O+', '[PLEASE]+'],\n",
       "  'right_lines': None,\n",
       "  'top_columns': ['[^SPEAK]+', 'EP|IP|EF'],\n",
       "  'bottom_columns': None},\n",
       " {'A', 'E', 'F', 'H', 'I', 'K', 'L', 'O', 'P', 'S'},\n",
       " [['H', 'E'], ['L', 'P']])"
      ]
     },
     "execution_count": 82,
     "metadata": {},
     "output_type": "execute_result"
    }
   ],
   "source": [
    "problem1, alphabet1, grid1_solution"
   ]
  },
  {
   "cell_type": "code",
   "execution_count": 84,
   "metadata": {
    "ExecuteTime": {
     "end_time": "2021-02-28T18:35:53.626896Z",
     "start_time": "2021-02-28T18:35:53.618196Z"
    }
   },
   "outputs": [
    {
     "name": "stdout",
     "output_type": "stream",
     "text": [
      "- For line number 0, checking word 'HE':\n",
      "For line constraint #0 'HE|LL|O+':\n",
      "The word 'HE' is matched by 'HE|LL|O+'\n",
      "- For line number 1, checking word 'LP':\n",
      "For line constraint #0 '[PLEASE]+':\n",
      "The word 'LP' is matched by '[PLEASE]+'\n"
     ]
    }
   ],
   "source": [
    "n, m = dimension_problem(problem1)\n",
    "\n",
    "for line in range(n):\n",
    "    word = nth_line(grid1_solution, line)\n",
    "    print(f\"- For line number {line}, checking word {repr(word)}:\")\n",
    "    result = check_line(problem1, alphabet1, word, line)"
   ]
  },
  {
   "cell_type": "code",
   "execution_count": 87,
   "metadata": {
    "ExecuteTime": {
     "end_time": "2021-02-28T18:37:23.916609Z",
     "start_time": "2021-02-28T18:37:23.900589Z"
    }
   },
   "outputs": [
    {
     "name": "stdout",
     "output_type": "stream",
     "text": [
      "# For word 'OK':\n",
      "For line constraint #0 'HE|LL|O+':\n",
      "The word 'OK' is NOT matched by 'HE|LL|O+'\n",
      "  => False\n",
      "For line constraint #0 '[PLEASE]+':\n",
      "The word 'OK' is NOT matched by '[PLEASE]+'\n",
      "  => False\n",
      "# For word 'HEY':\n",
      "The word 'HEY' is not in alphabet {'O', 'P', 'H', 'L', 'I', 'S', 'E', 'A', 'F', 'K'}, as its #2th letter Y is not present.\n",
      "  => False\n",
      "The word 'HEY' is not in alphabet {'O', 'P', 'H', 'L', 'I', 'S', 'E', 'A', 'F', 'K'}, as its #2th letter Y is not present.\n",
      "  => False\n",
      "# For word 'NOT':\n",
      "The word 'NOT' is not in alphabet {'O', 'P', 'H', 'L', 'I', 'S', 'E', 'A', 'F', 'K'}, as its #0th letter N is not present.\n",
      "  => False\n",
      "The word 'NOT' is not in alphabet {'O', 'P', 'H', 'L', 'I', 'S', 'E', 'A', 'F', 'K'}, as its #0th letter N is not present.\n",
      "  => False\n",
      "# For word 'HELL':\n",
      "Word 'HELL' does not have correct size n = 2 for lines\n",
      "  => False\n",
      "Word 'HELL' does not have correct size n = 2 for lines\n",
      "  => False\n",
      "# For word 'N':\n",
      "The word 'N' is not in alphabet {'O', 'P', 'H', 'L', 'I', 'S', 'E', 'A', 'F', 'K'}, as its #0th letter N is not present.\n",
      "  => False\n",
      "The word 'N' is not in alphabet {'O', 'P', 'H', 'L', 'I', 'S', 'E', 'A', 'F', 'K'}, as its #0th letter N is not present.\n",
      "  => False\n",
      "# For word '':\n",
      "Word '' does not have correct size n = 2 for lines\n",
      "  => False\n",
      "Word '' does not have correct size n = 2 for lines\n",
      "  => False\n",
      "# For word 'HU':\n",
      "The word 'HU' is not in alphabet {'O', 'P', 'H', 'L', 'I', 'S', 'E', 'A', 'F', 'K'}, as its #1th letter U is not present.\n",
      "  => False\n",
      "The word 'HU' is not in alphabet {'O', 'P', 'H', 'L', 'I', 'S', 'E', 'A', 'F', 'K'}, as its #1th letter U is not present.\n",
      "  => False\n",
      "# For word 'OO':\n",
      "For line constraint #0 'HE|LL|O+':\n",
      "The word 'OO' is matched by 'HE|LL|O+'\n",
      "  => True\n",
      "For line constraint #0 '[PLEASE]+':\n",
      "The word 'OO' is NOT matched by '[PLEASE]+'\n",
      "  => False\n",
      "# For word 'EA':\n",
      "For line constraint #0 'HE|LL|O+':\n",
      "The word 'EA' is NOT matched by 'HE|LL|O+'\n",
      "  => False\n",
      "For line constraint #0 '[PLEASE]+':\n",
      "The word 'EA' is matched by '[PLEASE]+'\n",
      "  => True\n"
     ]
    }
   ],
   "source": [
    "n, m = dimension_problem(problem1)\n",
    "fake_words = [\"OK\", \"HEY\", \"NOT\", \"HELL\", \"N\", \"\", \"HU\", \"OO\", \"EA\"]\n",
    "\n",
    "for word in fake_words:\n",
    "    print(f\"# For word {repr(word)}:\")\n",
    "    for line in range(n):\n",
    "        result = check_line(problem1, alphabet1, word, line)\n",
    "        print(f\"  => {result}\")"
   ]
  },
  {
   "cell_type": "markdown",
   "metadata": {},
   "source": [
    "That was long, but it works fine!"
   ]
  },
  {
   "cell_type": "code",
   "execution_count": 91,
   "metadata": {
    "ExecuteTime": {
     "end_time": "2021-02-28T18:40:01.294773Z",
     "start_time": "2021-02-28T18:40:01.289881Z"
    }
   },
   "outputs": [
    {
     "name": "stdout",
     "output_type": "stream",
     "text": [
      "- For line number 0, checking word 'TRAN7':\n",
      "For line constraint #0 '(N3|TRA|N7)+':\n",
      "The word 'TRAN7' is matched by '(N3|TRA|N7)+'\n",
      "For line constraint #1 '[^OLD\\\\s]+':\n",
      "The word 'TRAN7' is matched by '[^OLD\\\\s]+'\n",
      "  => True\n"
     ]
    }
   ],
   "source": [
    "n, m = dimension_problem(problem2)\n",
    "\n",
    "for line in [0]:\n",
    "    word = nth_line(grid2_partial, line)\n",
    "    print(f\"- For line number {line}, checking word {repr(word)}:\")\n",
    "    result = check_line(problem2, alphabet2, word, line)\n",
    "    print(f\"  => {result}\")"
   ]
  },
  {
   "cell_type": "code",
   "execution_count": 93,
   "metadata": {
    "ExecuteTime": {
     "end_time": "2021-02-28T18:42:57.619363Z",
     "start_time": "2021-02-28T18:42:57.608598Z"
    }
   },
   "outputs": [
    {
     "name": "stdout",
     "output_type": "stream",
     "text": [
      "- For line number 0, checking word 'TRAN8':\n",
      "For line constraint #0 '(N3|TRA|N7)+':\n",
      "The word 'TRAN8' is NOT matched by '(N3|TRA|N7)+'\n",
      "For line constraint #1 '[^OLD\\\\s]+':\n",
      "The word 'TRAN8' is matched by '[^OLD\\\\s]+'\n",
      "  => False\n",
      "- For line number 0, checking word 'N2TRA':\n",
      "For line constraint #0 '(N3|TRA|N7)+':\n",
      "The word 'N2TRA' is NOT matched by '(N3|TRA|N7)+'\n",
      "For line constraint #1 '[^OLD\\\\s]+':\n",
      "The word 'N2TRA' is matched by '[^OLD\\\\s]+'\n",
      "  => False\n",
      "- For line number 0, checking word 'N3N3N7':\n",
      "Word 'N3N3N7' does not have correct size n = 5 for lines\n",
      "  => False\n",
      "- For line number 0, checking word 'N3N3':\n",
      "Word 'N3N3' does not have correct size n = 5 for lines\n",
      "  => False\n",
      "- For line number 0, checking word 'TRA9':\n",
      "Word 'TRA9' does not have correct size n = 5 for lines\n",
      "  => False\n",
      "- For line number 0, checking word 'O L D':\n",
      "The word 'O L D' is not in alphabet {'4', 'N', 'W', 'A', ':', 'B', 'P', '5', 'H', '6', 'R', '$', '.', 'Y', 'O', '-', 'G', 'I', 'C', 'M', 'S', 'Z', '1', 'E', 'V', 'F', '?', '0', 'D', 'X', 'K', '9', 'L', 'Q', 'T', '7', '8', 'J', '3', 'U', '2'}, as its #1th letter   is not present.\n",
      "  => False\n",
      "- For line number 0, checking word 'TRA  ':\n",
      "The word 'TRA  ' is not in alphabet {'4', 'N', 'W', 'A', ':', 'B', 'P', '5', 'H', '6', 'R', '$', '.', 'Y', 'O', '-', 'G', 'I', 'C', 'M', 'S', 'Z', '1', 'E', 'V', 'F', '?', '0', 'D', 'X', 'K', '9', 'L', 'Q', 'T', '7', '8', 'J', '3', 'U', '2'}, as its #3th letter   is not present.\n",
      "  => False\n"
     ]
    }
   ],
   "source": [
    "n, m = dimension_problem(problem2)\n",
    "fake_words = [\n",
    "    \"TRAN8\", \"N2TRA\",  # violate first constraint\n",
    "    \"N3N3N7\", \"N3N3\", \"TRA9\",  # smaller or bigger dimension\n",
    "    \"O L D\", \"TRA  \",  # violate second contraint\n",
    "]\n",
    "\n",
    "for word in fake_words:\n",
    "    for line in [0]:\n",
    "        print(f\"- For line number {line}, checking word {repr(word)}:\")\n",
    "        result = check_line(problem2, alphabet2, word, line)\n",
    "        print(f\"  => {result}\")"
   ]
  },
  {
   "cell_type": "markdown",
   "metadata": {},
   "source": [
    "### For columns"
   ]
  },
  {
   "cell_type": "markdown",
   "metadata": {},
   "source": [
    "We are ready to check the one or two constraints of a line.\n",
    "The same function will be written for columns, just below."
   ]
  },
  {
   "cell_type": "code",
   "execution_count": 99,
   "metadata": {
    "ExecuteTime": {
     "end_time": "2021-02-28T19:09:55.251043Z",
     "start_time": "2021-02-28T19:09:55.239104Z"
    }
   },
   "outputs": [],
   "source": [
    "def check_column(problem, alphabet, word, position, debug=True, early=False):\n",
    "    if not check_alphabet(alphabet, word, debug=debug):\n",
    "        return False\n",
    "    m, n = dimension_problem(problem)\n",
    "    if len(word) != m:\n",
    "        if debug:\n",
    "            print(f\"Word {repr(word)} does not have correct size n = {n} for columns\")\n",
    "        return False\n",
    "    assert 0 <= position < n\n",
    "    constraints = []\n",
    "    if \"top_columns\" in problem and problem[\"top_columns\"] is not None:\n",
    "        constraints += [ problem[\"top_columns\"][position] ]\n",
    "    if \"bottom_columns\" in problem and problem[\"bottom_columns\"] is not None:\n",
    "        constraints += [ problem[\"bottom_columns\"][position] ]\n",
    "    # okay we have one or two constraint for this column,\n",
    "    assert len(constraints) in {1, 2}\n",
    "    # let's check them!\n",
    "    result = True\n",
    "    for cnb, constraint in enumerate(constraints):\n",
    "        if debug:\n",
    "            print(f\"For column constraint #{cnb} {repr(constraint)}:\")\n",
    "        new_result = match(constraint, word, debug=debug)\n",
    "        if early and not new_result: return False\n",
    "        result = result and new_result\n",
    "    return result"
   ]
  },
  {
   "cell_type": "markdown",
   "metadata": {},
   "source": [
    "Let's try it!"
   ]
  },
  {
   "cell_type": "code",
   "execution_count": 100,
   "metadata": {
    "ExecuteTime": {
     "end_time": "2021-02-28T19:09:55.883501Z",
     "start_time": "2021-02-28T19:09:55.874261Z"
    }
   },
   "outputs": [
    {
     "data": {
      "text/plain": [
       "({'left_lines': ['HE|LL|O+', '[PLEASE]+'],\n",
       "  'right_lines': None,\n",
       "  'top_columns': ['[^SPEAK]+', 'EP|IP|EF'],\n",
       "  'bottom_columns': None},\n",
       " {'A', 'E', 'F', 'H', 'I', 'K', 'L', 'O', 'P', 'S'},\n",
       " [['H', 'E'], ['L', 'P']])"
      ]
     },
     "execution_count": 100,
     "metadata": {},
     "output_type": "execute_result"
    }
   ],
   "source": [
    "problem1, alphabet1, grid1_solution"
   ]
  },
  {
   "cell_type": "code",
   "execution_count": 101,
   "metadata": {
    "ExecuteTime": {
     "end_time": "2021-02-28T19:09:56.890379Z",
     "start_time": "2021-02-28T19:09:56.882001Z"
    }
   },
   "outputs": [
    {
     "name": "stdout",
     "output_type": "stream",
     "text": [
      "- For column number 0, checking word 'HL':\n",
      "For column constraint #0 '[^SPEAK]+':\n",
      "The word 'HL' is matched by '[^SPEAK]+'\n",
      "- For column number 1, checking word 'EP':\n",
      "For column constraint #0 'EP|IP|EF':\n",
      "The word 'EP' is matched by 'EP|IP|EF'\n"
     ]
    }
   ],
   "source": [
    "n, m = dimension_problem(problem1)\n",
    "\n",
    "for column in range(m):\n",
    "    word = nth_column(grid1_solution, column)\n",
    "    print(f\"- For column number {column}, checking word {repr(word)}:\")\n",
    "    result = check_column(problem1, alphabet1, word, column)"
   ]
  },
  {
   "cell_type": "code",
   "execution_count": 102,
   "metadata": {
    "ExecuteTime": {
     "end_time": "2021-02-28T19:11:24.394397Z",
     "start_time": "2021-02-28T19:11:24.380236Z"
    }
   },
   "outputs": [
    {
     "name": "stdout",
     "output_type": "stream",
     "text": [
      "# For word 'OK':\n",
      "For column constraint #0 '[^SPEAK]+':\n",
      "The word 'OK' is NOT matched by '[^SPEAK]+'\n",
      "  => False\n",
      "For column constraint #0 'EP|IP|EF':\n",
      "The word 'OK' is NOT matched by 'EP|IP|EF'\n",
      "  => False\n",
      "# For word 'HEY':\n",
      "The word 'HEY' is not in alphabet {'O', 'P', 'H', 'L', 'I', 'S', 'E', 'A', 'F', 'K'}, as its #2th letter Y is not present.\n",
      "  => False\n",
      "The word 'HEY' is not in alphabet {'O', 'P', 'H', 'L', 'I', 'S', 'E', 'A', 'F', 'K'}, as its #2th letter Y is not present.\n",
      "  => False\n",
      "# For word 'NOT':\n",
      "The word 'NOT' is not in alphabet {'O', 'P', 'H', 'L', 'I', 'S', 'E', 'A', 'F', 'K'}, as its #0th letter N is not present.\n",
      "  => False\n",
      "The word 'NOT' is not in alphabet {'O', 'P', 'H', 'L', 'I', 'S', 'E', 'A', 'F', 'K'}, as its #0th letter N is not present.\n",
      "  => False\n",
      "# For word 'HELL':\n",
      "Word 'HELL' does not have correct size n = 2 for columns\n",
      "  => False\n",
      "Word 'HELL' does not have correct size n = 2 for columns\n",
      "  => False\n",
      "# For word 'N':\n",
      "The word 'N' is not in alphabet {'O', 'P', 'H', 'L', 'I', 'S', 'E', 'A', 'F', 'K'}, as its #0th letter N is not present.\n",
      "  => False\n",
      "The word 'N' is not in alphabet {'O', 'P', 'H', 'L', 'I', 'S', 'E', 'A', 'F', 'K'}, as its #0th letter N is not present.\n",
      "  => False\n",
      "# For word '':\n",
      "Word '' does not have correct size n = 2 for columns\n",
      "  => False\n",
      "Word '' does not have correct size n = 2 for columns\n",
      "  => False\n",
      "# For word 'HU':\n",
      "The word 'HU' is not in alphabet {'O', 'P', 'H', 'L', 'I', 'S', 'E', 'A', 'F', 'K'}, as its #1th letter U is not present.\n",
      "  => False\n",
      "The word 'HU' is not in alphabet {'O', 'P', 'H', 'L', 'I', 'S', 'E', 'A', 'F', 'K'}, as its #1th letter U is not present.\n",
      "  => False\n",
      "# For word 'OO':\n",
      "For column constraint #0 '[^SPEAK]+':\n",
      "The word 'OO' is matched by '[^SPEAK]+'\n",
      "  => True\n",
      "For column constraint #0 'EP|IP|EF':\n",
      "The word 'OO' is NOT matched by 'EP|IP|EF'\n",
      "  => False\n",
      "# For word 'EA':\n",
      "For column constraint #0 '[^SPEAK]+':\n",
      "The word 'EA' is NOT matched by '[^SPEAK]+'\n",
      "  => False\n",
      "For column constraint #0 'EP|IP|EF':\n",
      "The word 'EA' is NOT matched by 'EP|IP|EF'\n",
      "  => False\n"
     ]
    }
   ],
   "source": [
    "n, m = dimension_problem(problem1)\n",
    "fake_words = [\"OK\", \"HEY\", \"NOT\", \"HELL\", \"N\", \"\", \"HU\", \"OO\", \"EA\"]\n",
    "\n",
    "for word in fake_words:\n",
    "    print(f\"# For word {repr(word)}:\")\n",
    "    for column in range(m):\n",
    "        result = check_column(problem1, alphabet1, word, column)\n",
    "        print(f\"  => {result}\")"
   ]
  },
  {
   "cell_type": "markdown",
   "metadata": {},
   "source": [
    "That was long, but it works fine!"
   ]
  },
  {
   "cell_type": "code",
   "execution_count": 108,
   "metadata": {
    "ExecuteTime": {
     "end_time": "2021-02-28T19:14:52.293513Z",
     "start_time": "2021-02-28T19:14:52.286241Z"
    }
   },
   "outputs": [
    {
     "name": "stdout",
     "output_type": "stream",
     "text": [
      "- For column number 0, checking word 'T2A-D':\n",
      "For column constraint #0 '[2TAIL\\\\-D]+':\n",
      "The word 'T2A-D' is matched by '[2TAIL\\\\-D]+'\n",
      "For column constraint #1 '[^ILYO]+':\n",
      "The word 'T2A-D' is matched by '[^ILYO]+'\n",
      "  => True\n"
     ]
    }
   ],
   "source": [
    "n, m = dimension_problem(problem2)\n",
    "\n",
    "for column in [0]:\n",
    "    word = nth_column(grid2_partial, column)\n",
    "    print(f\"- For column number {column}, checking word {repr(word)}:\")\n",
    "    result = check_column(problem2, alphabet2, word, column)\n",
    "    print(f\"  => {result}\")"
   ]
  },
  {
   "cell_type": "code",
   "execution_count": 109,
   "metadata": {
    "ExecuteTime": {
     "end_time": "2021-02-28T19:15:03.126421Z",
     "start_time": "2021-02-28T19:15:03.112780Z"
    }
   },
   "outputs": [
    {
     "name": "stdout",
     "output_type": "stream",
     "text": [
      "- For line number 0, checking word 'TRAN8':\n",
      "For column constraint #0 '[2TAIL\\\\-D]+':\n",
      "The word 'TRAN8' is NOT matched by '[2TAIL\\\\-D]+'\n",
      "For column constraint #1 '[^ILYO]+':\n",
      "The word 'TRAN8' is matched by '[^ILYO]+'\n",
      "  => False\n",
      "- For line number 0, checking word 'N2TRA':\n",
      "For column constraint #0 '[2TAIL\\\\-D]+':\n",
      "The word 'N2TRA' is NOT matched by '[2TAIL\\\\-D]+'\n",
      "For column constraint #1 '[^ILYO]+':\n",
      "The word 'N2TRA' is matched by '[^ILYO]+'\n",
      "  => False\n",
      "- For line number 0, checking word 'N3N3N7':\n",
      "Word 'N3N3N7' does not have correct size n = 5 for columns\n",
      "  => False\n",
      "- For line number 0, checking word 'N3N3':\n",
      "Word 'N3N3' does not have correct size n = 5 for columns\n",
      "  => False\n",
      "- For line number 0, checking word 'TRA9':\n",
      "Word 'TRA9' does not have correct size n = 5 for columns\n",
      "  => False\n",
      "- For line number 0, checking word 'O L D':\n",
      "The word 'O L D' is not in alphabet {'4', 'N', 'W', 'A', ':', 'B', 'P', '5', 'H', '6', 'R', '$', '.', 'Y', 'O', '-', 'G', 'I', 'C', 'M', 'S', 'Z', '1', 'E', 'V', 'F', '?', '0', 'D', 'X', 'K', '9', 'L', 'Q', 'T', '7', '8', 'J', '3', 'U', '2'}, as its #1th letter   is not present.\n",
      "  => False\n",
      "- For line number 0, checking word 'TRA  ':\n",
      "The word 'TRA  ' is not in alphabet {'4', 'N', 'W', 'A', ':', 'B', 'P', '5', 'H', '6', 'R', '$', '.', 'Y', 'O', '-', 'G', 'I', 'C', 'M', 'S', 'Z', '1', 'E', 'V', 'F', '?', '0', 'D', 'X', 'K', '9', 'L', 'Q', 'T', '7', '8', 'J', '3', 'U', '2'}, as its #3th letter   is not present.\n",
      "  => False\n"
     ]
    }
   ],
   "source": [
    "n, m = dimension_problem(problem2)\n",
    "fake_words = [\n",
    "    \"TRAN8\", \"N2TRA\",  # violate first constraint\n",
    "    \"N3N3N7\", \"N3N3\", \"TRA9\",  # smaller or bigger dimension\n",
    "    \"O L D\", \"TRA  \",  # violate second contraint\n",
    "]\n",
    "\n",
    "for word in fake_words:\n",
    "    for line in [0]:\n",
    "        print(f\"- For line number {line}, checking word {repr(word)}:\")\n",
    "        result = check_column(problem2, alphabet2, word, line)\n",
    "        print(f\"  => {result}\")"
   ]
  },
  {
   "cell_type": "markdown",
   "metadata": {},
   "source": [
    "## Second easy task: check that a proposed grid is a valid solution\n",
    "\n",
    "I think it's easy, as we just have to use $m$ times the `check_line` and $n$ times the `check_column` functions."
   ]
  },
  {
   "cell_type": "code",
   "execution_count": 111,
   "metadata": {
    "ExecuteTime": {
     "end_time": "2021-02-28T19:18:38.707676Z",
     "start_time": "2021-02-28T19:18:38.699729Z"
    }
   },
   "outputs": [],
   "source": [
    "def check_grid(problem, alphabet, grid, debug=True, early=False):\n",
    "    m, n = dimension_problem(problem)\n",
    "    \n",
    "    ok_lines = [False] * m\n",
    "    for line in range(m):\n",
    "        word = nth_line(grid, line)\n",
    "        ok_lines[line] = check_line(problem, alphabet, word, line, debug=debug, early=early)\n",
    "    \n",
    "    ok_columns = [False] * n\n",
    "    for column in range(n):\n",
    "        word = nth_column(grid, column)\n",
    "        ok_columns[column] = check_column(problem, alphabet, word, column, debug=debug, early=early)\n",
    "    \n",
    "    return all(ok_lines) and all(ok_columns)"
   ]
  },
  {
   "cell_type": "markdown",
   "metadata": {},
   "source": [
    "Let's try it!"
   ]
  },
  {
   "cell_type": "markdown",
   "metadata": {},
   "source": [
    "### For the easy problem"
   ]
  },
  {
   "cell_type": "markdown",
   "metadata": {},
   "source": [
    "For a partial grid, of course it's going to be invalid just because `'_'` is *not* in the alphabet $\\Sigma$."
   ]
  },
  {
   "cell_type": "code",
   "execution_count": 117,
   "metadata": {
    "ExecuteTime": {
     "end_time": "2021-02-28T19:19:57.786973Z",
     "start_time": "2021-02-28T19:19:57.781963Z"
    }
   },
   "outputs": [
    {
     "name": "stdout",
     "output_type": "stream",
     "text": [
      "The word 'H_' is not in alphabet {'O', 'P', 'H', 'L', 'I', 'S', 'E', 'A', 'F', 'K'}, as its #1th letter _ is not present.\n",
      "The word '_P' is not in alphabet {'O', 'P', 'H', 'L', 'I', 'S', 'E', 'A', 'F', 'K'}, as its #0th letter _ is not present.\n",
      "The word 'H_' is not in alphabet {'O', 'P', 'H', 'L', 'I', 'S', 'E', 'A', 'F', 'K'}, as its #1th letter _ is not present.\n",
      "The word '_P' is not in alphabet {'O', 'P', 'H', 'L', 'I', 'S', 'E', 'A', 'F', 'K'}, as its #0th letter _ is not present.\n"
     ]
    },
    {
     "data": {
      "text/plain": [
       "False"
      ]
     },
     "execution_count": 117,
     "metadata": {},
     "output_type": "execute_result"
    }
   ],
   "source": [
    "check_grid(problem1, alphabet1, grid1_partial)"
   ]
  },
  {
   "cell_type": "markdown",
   "metadata": {},
   "source": [
    "For a complete grid, let's check that our solution is valid:"
   ]
  },
  {
   "cell_type": "code",
   "execution_count": 126,
   "metadata": {
    "ExecuteTime": {
     "end_time": "2021-02-28T19:22:47.678453Z",
     "start_time": "2021-02-28T19:22:47.668954Z"
    }
   },
   "outputs": [
    {
     "name": "stdout",
     "output_type": "stream",
     "text": [
      "For line constraint #0 'HE|LL|O+':\n",
      "The word 'HE' is matched by 'HE|LL|O+'\n",
      "For line constraint #0 '[PLEASE]+':\n",
      "The word 'LP' is matched by '[PLEASE]+'\n",
      "For column constraint #0 '[^SPEAK]+':\n",
      "The word 'HL' is matched by '[^SPEAK]+'\n",
      "For column constraint #0 'EP|IP|EF':\n",
      "The word 'EP' is matched by 'EP|IP|EF'\n"
     ]
    },
    {
     "data": {
      "text/plain": [
       "True"
      ]
     },
     "execution_count": 126,
     "metadata": {},
     "output_type": "execute_result"
    }
   ],
   "source": [
    "check_grid(problem1, alphabet1, grid1_solution)"
   ]
  },
  {
   "cell_type": "markdown",
   "metadata": {},
   "source": [
    "And let's also check that the few wrong solutions are indeed not valid:"
   ]
  },
  {
   "cell_type": "code",
   "execution_count": 127,
   "metadata": {
    "ExecuteTime": {
     "end_time": "2021-02-28T19:23:33.819552Z",
     "start_time": "2021-02-28T19:23:33.809691Z"
    }
   },
   "outputs": [
    {
     "name": "stdout",
     "output_type": "stream",
     "text": [
      "For line constraint #0 'HE|LL|O+':\n",
      "The word 'HE' is matched by 'HE|LL|O+'\n",
      "For line constraint #0 '[PLEASE]+':\n",
      "The word 'LF' is NOT matched by '[PLEASE]+'\n",
      "For column constraint #0 '[^SPEAK]+':\n",
      "The word 'HL' is matched by '[^SPEAK]+'\n",
      "For column constraint #0 'EP|IP|EF':\n",
      "The word 'EF' is matched by 'EP|IP|EF'\n"
     ]
    },
    {
     "data": {
      "text/plain": [
       "False"
      ]
     },
     "execution_count": 127,
     "metadata": {},
     "output_type": "execute_result"
    }
   ],
   "source": [
    "check_grid(problem1, alphabet1, grid1_wrong1)"
   ]
  },
  {
   "cell_type": "code",
   "execution_count": 128,
   "metadata": {
    "ExecuteTime": {
     "end_time": "2021-02-28T19:23:41.490756Z",
     "start_time": "2021-02-28T19:23:41.485219Z"
    }
   },
   "outputs": [
    {
     "name": "stdout",
     "output_type": "stream",
     "text": [
      "For line constraint #0 'HE|LL|O+':\n",
      "The word 'HE' is matched by 'HE|LL|O+'\n",
      "For line constraint #0 '[PLEASE]+':\n",
      "The word 'EP' is matched by '[PLEASE]+'\n",
      "For column constraint #0 '[^SPEAK]+':\n",
      "The word 'HE' is NOT matched by '[^SPEAK]+'\n",
      "For column constraint #0 'EP|IP|EF':\n",
      "The word 'EP' is matched by 'EP|IP|EF'\n"
     ]
    },
    {
     "data": {
      "text/plain": [
       "False"
      ]
     },
     "execution_count": 128,
     "metadata": {},
     "output_type": "execute_result"
    }
   ],
   "source": [
    "check_grid(problem1, alphabet1, grid1_wrong2)"
   ]
  },
  {
   "cell_type": "code",
   "execution_count": 129,
   "metadata": {
    "ExecuteTime": {
     "end_time": "2021-02-28T19:23:41.490756Z",
     "start_time": "2021-02-28T19:23:41.485219Z"
    }
   },
   "outputs": [
    {
     "name": "stdout",
     "output_type": "stream",
     "text": [
      "For line constraint #0 'HE|LL|O+':\n",
      "The word 'HE' is matched by 'HE|LL|O+'\n",
      "For line constraint #0 '[PLEASE]+':\n",
      "The word 'OF' is NOT matched by '[PLEASE]+'\n",
      "For column constraint #0 '[^SPEAK]+':\n",
      "The word 'HO' is matched by '[^SPEAK]+'\n",
      "For column constraint #0 'EP|IP|EF':\n",
      "The word 'EF' is matched by 'EP|IP|EF'\n"
     ]
    },
    {
     "data": {
      "text/plain": [
       "False"
      ]
     },
     "execution_count": 129,
     "metadata": {},
     "output_type": "execute_result"
    }
   ],
   "source": [
    "check_grid(problem1, alphabet1, grid1_wrong3)"
   ]
  },
  {
   "cell_type": "code",
   "execution_count": 130,
   "metadata": {
    "ExecuteTime": {
     "end_time": "2021-02-28T19:23:41.490756Z",
     "start_time": "2021-02-28T19:23:41.485219Z"
    }
   },
   "outputs": [
    {
     "name": "stdout",
     "output_type": "stream",
     "text": [
      "For line constraint #0 'HE|LL|O+':\n",
      "The word 'OE' is NOT matched by 'HE|LL|O+'\n",
      "For line constraint #0 '[PLEASE]+':\n",
      "The word 'OF' is NOT matched by '[PLEASE]+'\n",
      "For column constraint #0 '[^SPEAK]+':\n",
      "The word 'OO' is matched by '[^SPEAK]+'\n",
      "For column constraint #0 'EP|IP|EF':\n",
      "The word 'EF' is matched by 'EP|IP|EF'\n"
     ]
    },
    {
     "data": {
      "text/plain": [
       "False"
      ]
     },
     "execution_count": 130,
     "metadata": {},
     "output_type": "execute_result"
    }
   ],
   "source": [
    "check_grid(problem1, alphabet1, grid1_wrong4)"
   ]
  },
  {
   "cell_type": "markdown",
   "metadata": {},
   "source": [
    "We can see that for each wrong grid, at least one of the contraint is violated!\n",
    "\n",
    "That's pretty good!"
   ]
  },
  {
   "cell_type": "markdown",
   "metadata": {},
   "source": [
    "### For the hard problem\n",
    "\n",
    "Well I don't have a solution yet, so I cannot check it!"
   ]
  },
  {
   "cell_type": "markdown",
   "metadata": {},
   "source": [
    "## Third easy task: generate all words of a given size in the alphabet\n",
    "\n",
    "Using [`itertools.product`](https://docs.python.org/3/library/itertools.html#itertools.product) and the alphabet defined above, it's going to be easy.\n",
    "\n",
    "Note that I'll first try with a smaller alphabet, to check the result (for problem 1)."
   ]
  },
  {
   "cell_type": "code",
   "execution_count": 40,
   "metadata": {
    "ExecuteTime": {
     "end_time": "2021-02-28T18:21:59.928876Z",
     "start_time": "2021-02-28T18:21:59.924293Z"
    }
   },
   "outputs": [],
   "source": [
    "import itertools"
   ]
  },
  {
   "cell_type": "code",
   "execution_count": 41,
   "metadata": {
    "ExecuteTime": {
     "end_time": "2021-02-28T18:22:00.279933Z",
     "start_time": "2021-02-28T18:22:00.275858Z"
    }
   },
   "outputs": [],
   "source": [
    "def all_words_of_alphabet(alphabet, size):\n",
    "    yield from itertools.product(alphabet, repeat=size)"
   ]
  },
  {
   "cell_type": "markdown",
   "metadata": {},
   "source": [
    "Just a quick check:"
   ]
  },
  {
   "cell_type": "code",
   "execution_count": 42,
   "metadata": {
    "ExecuteTime": {
     "end_time": "2021-02-28T18:22:01.047901Z",
     "start_time": "2021-02-28T18:22:01.035266Z"
    }
   },
   "outputs": [
    {
     "data": {
      "text/plain": [
       "[('0', '0', '0'),\n",
       " ('0', '0', '1'),\n",
       " ('0', '1', '0'),\n",
       " ('0', '1', '1'),\n",
       " ('1', '0', '0'),\n",
       " ('1', '0', '1'),\n",
       " ('1', '1', '0'),\n",
       " ('1', '1', '1')]"
      ]
     },
     "execution_count": 42,
     "metadata": {},
     "output_type": "execute_result"
    }
   ],
   "source": [
    "list(all_words_of_alphabet(['0', '1'], 3))"
   ]
  },
  {
   "cell_type": "markdown",
   "metadata": {},
   "source": [
    "The time and memory complexity of this function should be $\\mathcal{O}(|\\Sigma|^k)$ for words of size $k\\in\\mathbb{N}^*$."
   ]
  },
  {
   "cell_type": "code",
   "execution_count": 43,
   "metadata": {
    "ExecuteTime": {
     "end_time": "2021-02-28T18:22:31.006289Z",
     "start_time": "2021-02-28T18:22:02.518618Z"
    }
   },
   "outputs": [
    {
     "name": "stdout",
     "output_type": "stream",
     "text": [
      "Generating 4 words of size = 2 takes about\n",
      "751 ns ± 18.2 ns per loop (mean ± std. dev. of 7 runs, 1000000 loops each)\n",
      "Generating 8 words of size = 3 takes about\n",
      "1.2 µs ± 339 ns per loop (mean ± std. dev. of 7 runs, 1000000 loops each)\n",
      "Generating 16 words of size = 4 takes about\n",
      "1.34 µs ± 72.4 ns per loop (mean ± std. dev. of 7 runs, 1000000 loops each)\n",
      "Generating 32 words of size = 5 takes about\n",
      "2.18 µs ± 55.6 ns per loop (mean ± std. dev. of 7 runs, 100000 loops each)\n"
     ]
    }
   ],
   "source": [
    "alphabet0 = ['0', '1']\n",
    "len_alphabet = len(alphabet0)\n",
    "for k in [2, 3, 4, 5]:\n",
    "    print(f\"Generating {len_alphabet**k} words of size = {k} takes about\")\n",
    "    %timeit list(all_words_of_alphabet(alphabet0, k))"
   ]
  },
  {
   "cell_type": "code",
   "execution_count": 44,
   "metadata": {
    "ExecuteTime": {
     "end_time": "2021-02-28T18:23:02.224453Z",
     "start_time": "2021-02-28T18:22:40.876216Z"
    }
   },
   "outputs": [
    {
     "name": "stdout",
     "output_type": "stream",
     "text": [
      "120 ms ± 9.02 ms per loop (mean ± std. dev. of 7 runs, 10 loops each)\n"
     ]
    }
   ],
   "source": [
    "%timeit list(all_words_of_alphabet(['0', '1', '2', '3'], 10))"
   ]
  },
  {
   "cell_type": "markdown",
   "metadata": {},
   "source": [
    "We can quickly check that even for the larger alphabet of size ~40, it's quite quick for small words of length $\\leq 5$:"
   ]
  },
  {
   "cell_type": "code",
   "execution_count": 45,
   "metadata": {
    "ExecuteTime": {
     "end_time": "2021-02-28T18:23:02.224453Z",
     "start_time": "2021-02-28T18:22:40.876216Z"
    }
   },
   "outputs": [
    {
     "name": "stdout",
     "output_type": "stream",
     "text": [
      "Generating 100 words of size = 2 takes about\n",
      "7.82 µs ± 2.3 µs per loop (mean ± std. dev. of 7 runs, 100000 loops each)\n",
      "Generating 1000 words of size = 3 takes about\n",
      "48.4 µs ± 5.48 µs per loop (mean ± std. dev. of 7 runs, 10000 loops each)\n",
      "Generating 10000 words of size = 4 takes about\n",
      "549 µs ± 10.3 µs per loop (mean ± std. dev. of 7 runs, 1000 loops each)\n",
      "Generating 100000 words of size = 5 takes about\n",
      "8.59 ms ± 1.07 ms per loop (mean ± std. dev. of 7 runs, 100 loops each)\n"
     ]
    }
   ],
   "source": [
    "len_alphabet = len(alphabet1)\n",
    "for k in [2, 3, 4, 5]:\n",
    "    print(f\"Generating {len_alphabet**k} words of size = {k} takes about\")\n",
    "    %timeit list(all_words_of_alphabet(alphabet1, k))"
   ]
  },
  {
   "cell_type": "code",
   "execution_count": 46,
   "metadata": {
    "ExecuteTime": {
     "end_time": "2021-02-28T18:24:48.544812Z",
     "start_time": "2021-02-28T18:23:02.293938Z"
    }
   },
   "outputs": [
    {
     "name": "stdout",
     "output_type": "stream",
     "text": [
      "Generating 1681 words of size = 2 takes about\n",
      "76.4 µs ± 3.46 µs per loop (mean ± std. dev. of 7 runs, 10000 loops each)\n",
      "Generating 68921 words of size = 3 takes about\n",
      "6.77 ms ± 1.55 ms per loop (mean ± std. dev. of 7 runs, 100 loops each)\n",
      "Generating 2825761 words of size = 4 takes about\n",
      "316 ms ± 75.6 ms per loop (mean ± std. dev. of 7 runs, 1 loop each)\n",
      "Generating 115856201 words of size = 5 takes about\n",
      "11.6 s ± 650 ms per loop (mean ± std. dev. of 7 runs, 1 loop each)\n"
     ]
    }
   ],
   "source": [
    "len_alphabet = len(alphabet2)\n",
    "for k in [2, 3, 4, 5]:\n",
    "    print(f\"Generating {len_alphabet**k} words of size = {k} takes about\")\n",
    "    %timeit list(all_words_of_alphabet(alphabet2, k))"
   ]
  },
  {
   "cell_type": "markdown",
   "metadata": {},
   "source": [
    "Who, it takes 12 seconds to just *generate* all the possible words for the largest problem (which is just of size $(5,5)$)...\n",
    "\n",
    "I'm afraid that my naive approach to solve the puzzle will be VERY slow..."
   ]
  },
  {
   "cell_type": "markdown",
   "metadata": {},
   "source": [
    "## Fourth easy task: generate all grids of a given size"
   ]
  },
  {
   "cell_type": "code",
   "execution_count": 161,
   "metadata": {
    "ExecuteTime": {
     "end_time": "2021-02-28T19:41:38.919788Z",
     "start_time": "2021-02-28T19:41:38.912317Z"
    }
   },
   "outputs": [],
   "source": [
    "def all_grids_of_alphabet(alphabet, lines, columns):\n",
    "    all_words = list(itertools.product(alphabet, repeat=columns))\n",
    "    all_words = [ \"\".join(words) for words in all_words ]\n",
    "    all_grids = itertools.product(all_words, repeat=lines)\n",
    "    for pre_tr_grid in all_grids:\n",
    "        tr_grid = [\n",
    "            [\n",
    "                pre_tr_grid[line][column]\n",
    "                for line in range(lines)\n",
    "            ]\n",
    "            for column in range(columns)\n",
    "        ]\n",
    "        yield tr_grid"
   ]
  },
  {
   "cell_type": "code",
   "execution_count": 162,
   "metadata": {
    "ExecuteTime": {
     "end_time": "2021-02-28T19:41:40.885959Z",
     "start_time": "2021-02-28T19:41:39.361635Z"
    }
   },
   "outputs": [
    {
     "name": "stdout",
     "output_type": "stream",
     "text": [
      "[['0']]\n",
      "[['1']]\n",
      "[['0', '0'], ['0', '0']]\n",
      "[['1', '1'], ['1', '1']]\n",
      "[['0'], ['0']]\n",
      "[['1'], ['1']]\n",
      "[['0', '0']]\n",
      "[['1', '1']]\n",
      "[['0', '0', '0'], ['0', '0', '0'], ['0', '0', '0']]\n",
      "[['1', '1', '1'], ['1', '1', '1'], ['1', '1', '1']]\n",
      "[['0', '0', '0'], ['0', '0', '0']]\n",
      "[['1', '1', '1'], ['1', '1', '1']]\n",
      "[['0', '0'], ['0', '0'], ['0', '0']]\n",
      "[['1', '1'], ['1', '1'], ['1', '1']]\n",
      "[['0']]\n",
      "[['1']]\n",
      "[['0', '0'], ['0', '0']]\n",
      "[['1', '1'], ['1', '1']]\n",
      "[['0'], ['0']]\n",
      "[['1'], ['1']]\n",
      "[['0', '0']]\n",
      "[['1', '1']]\n",
      "[['0', '0', '0'], ['0', '0', '0'], ['0', '0', '0']]\n",
      "[['1', '1', '1'], ['1', '1', '1'], ['1', '1', '1']]\n",
      "[['0', '0', '0'], ['0', '0', '0']]\n",
      "[['1', '1', '1'], ['1', '1', '1']]\n",
      "[['0', '0'], ['0', '0'], ['0', '0']]\n",
      "[['1', '1'], ['1', '1'], ['1', '1']]\n"
     ]
    }
   ],
   "source": [
    "for alphabet in ( ['0', '1'], ['T', 'A', 'C', 'G'] ):\n",
    "    for (n, m) in [ (1, 1), (2, 2), (1, 2), (2, 1), (3, 3), (3, 2), (2, 3) ]:\n",
    "        assert len(list(all_grids_of_alphabet(alphabet, n, m))) == len(alphabet)**(n*m)\n",
    "        print(list(all_grids_of_alphabet(alphabet0, n, m))[0])\n",
    "        print(list(all_grids_of_alphabet(alphabet0, n, m))[-1])"
   ]
  },
  {
   "cell_type": "code",
   "execution_count": 167,
   "metadata": {
    "ExecuteTime": {
     "end_time": "2021-02-28T19:45:25.491148Z",
     "start_time": "2021-02-28T19:45:25.479931Z"
    }
   },
   "outputs": [
    {
     "name": "stdout",
     "output_type": "stream",
     "text": [
      "For the alphabet ['0', '1'] of size = 2 :\n",
      "CPU times: user 28 µs, sys: 0 ns, total: 28 µs\n",
      "Wall time: 32.2 µs\n",
      "For (n, m) = (1, 1) the number of grids is 2\n",
      "CPU times: user 27 µs, sys: 6 µs, total: 33 µs\n",
      "Wall time: 34.8 µs\n",
      "For (n, m) = (2, 1) the number of grids is 4\n",
      "CPU times: user 0 ns, sys: 29 µs, total: 29 µs\n",
      "Wall time: 32.2 µs\n",
      "For (n, m) = (1, 2) the number of grids is 4\n",
      "CPU times: user 0 ns, sys: 54 µs, total: 54 µs\n",
      "Wall time: 56.7 µs\n",
      "For (n, m) = (2, 2) the number of grids is 16\n"
     ]
    }
   ],
   "source": [
    "print(f\"For the alphabet {alphabet0} of size = {len(alphabet0)} :\")\n",
    "for (n, m) in [ (1, 1), (2, 1), (1, 2), (2, 2) ]:\n",
    "    %time all_these_grids = list(all_grids_of_alphabet(alphabet0, n, m))\n",
    "    print(f\"For (n, m) = {(n, m)} the number of grids is {len(all_these_grids)}\")"
   ]
  },
  {
   "cell_type": "markdown",
   "metadata": {},
   "source": [
    "### How long does it take and how many grids for the easy problem?"
   ]
  },
  {
   "cell_type": "code",
   "execution_count": 168,
   "metadata": {
    "ExecuteTime": {
     "end_time": "2021-02-28T19:45:56.409834Z",
     "start_time": "2021-02-28T19:45:56.379655Z"
    }
   },
   "outputs": [
    {
     "name": "stdout",
     "output_type": "stream",
     "text": [
      "For the alphabet {'O', 'P', 'H', 'L', 'I', 'S', 'E', 'A', 'F', 'K'} of size = 10 :\n",
      "CPU times: user 43 µs, sys: 0 ns, total: 43 µs\n",
      "Wall time: 45.8 µs\n",
      "For (n, m) = (1, 1) the number of grids is 10\n",
      "CPU times: user 164 µs, sys: 0 ns, total: 164 µs\n",
      "Wall time: 168 µs\n",
      "For (n, m) = (2, 1) the number of grids is 100\n",
      "CPU times: user 312 µs, sys: 60 µs, total: 372 µs\n",
      "Wall time: 376 µs\n",
      "For (n, m) = (1, 2) the number of grids is 100\n",
      "CPU times: user 19.9 ms, sys: 129 µs, total: 20 ms\n",
      "Wall time: 19.7 ms\n",
      "For (n, m) = (2, 2) the number of grids is 10000\n"
     ]
    }
   ],
   "source": [
    "print(f\"For the alphabet {alphabet1} of size = {len(alphabet1)} :\")\n",
    "for (n, m) in [ (1, 1), (2, 1), (1, 2), (2, 2) ]:\n",
    "    %time all_these_grids = list(all_grids_of_alphabet(alphabet1, n, m))\n",
    "    print(f\"For (n, m) = {(n, m)} the number of grids is {len(all_these_grids)}\")"
   ]
  },
  {
   "cell_type": "markdown",
   "metadata": {},
   "source": [
    "That's still pretty small and fast!"
   ]
  },
  {
   "cell_type": "markdown",
   "metadata": {},
   "source": [
    "### How long does it take and how many grids for the hard problem?"
   ]
  },
  {
   "cell_type": "code",
   "execution_count": 169,
   "metadata": {
    "ExecuteTime": {
     "end_time": "2021-02-28T19:46:53.602755Z",
     "start_time": "2021-02-28T19:46:47.042224Z"
    }
   },
   "outputs": [
    {
     "name": "stdout",
     "output_type": "stream",
     "text": [
      "For the alphabet {'4', 'N', 'W', 'A', ':', 'B', 'P', '5', 'H', '6', 'R', '$', '.', 'Y', 'O', '-', 'G', 'I', 'C', 'M', 'S', 'Z', '1', 'E', 'V', 'F', '?', '0', 'D', 'X', 'K', '9', 'L', 'Q', 'T', '7', '8', 'J', '3', 'U', '2'} of size = 41 :\n",
      "CPU times: user 1.29 ms, sys: 0 ns, total: 1.29 ms\n",
      "Wall time: 1.29 ms\n",
      "For (n, m) = (1, 1) the number of grids is 41\n",
      "CPU times: user 2.39 ms, sys: 86 µs, total: 2.48 ms\n",
      "Wall time: 2.49 ms\n",
      "For (n, m) = (2, 1) the number of grids is 1681\n",
      "CPU times: user 4.33 ms, sys: 0 ns, total: 4.33 ms\n",
      "Wall time: 4.35 ms\n",
      "For (n, m) = (1, 2) the number of grids is 1681\n",
      "CPU times: user 6.4 s, sys: 151 ms, total: 6.55 s\n",
      "Wall time: 6.54 s\n",
      "For (n, m) = (2, 2) the number of grids is 2825761\n"
     ]
    }
   ],
   "source": [
    "print(f\"For the alphabet {alphabet2} of size = {len(alphabet2)} :\")\n",
    "for (n, m) in [ (1, 1), (2, 1), (1, 2), (2, 2) ]:\n",
    "    %time all_these_grids = list(all_grids_of_alphabet(alphabet2, n, m))\n",
    "    print(f\"For (n, m) = {(n, m)} the number of grids is {len(all_these_grids)}\")"
   ]
  },
  {
   "cell_type": "code",
   "execution_count": 175,
   "metadata": {
    "ExecuteTime": {
     "end_time": "2021-02-28T19:55:39.614107Z",
     "start_time": "2021-02-28T19:55:39.609498Z"
    }
   },
   "outputs": [
    {
     "data": {
      "text/plain": [
       "4750104241"
      ]
     },
     "execution_count": 175,
     "metadata": {},
     "output_type": "execute_result"
    }
   ],
   "source": [
    "41**(2*3)"
   ]
  },
  {
   "cell_type": "markdown",
   "metadata": {},
   "source": [
    "Just for $(n, m) = (2, 2)$ it takes about 7 seconds...\n",
    "So to scale for $(n, m) = (5, 5)$ would just take... WAY TOO MUCH TIME!"
   ]
  },
  {
   "cell_type": "code",
   "execution_count": 176,
   "metadata": {
    "ExecuteTime": {
     "end_time": "2021-02-28T19:55:59.237193Z",
     "start_time": "2021-02-28T19:55:59.234196Z"
    }
   },
   "outputs": [
    {
     "data": {
      "text/plain": [
       "20873554875923477449109855954682643681001"
      ]
     },
     "execution_count": 176,
     "metadata": {},
     "output_type": "execute_result"
    }
   ],
   "source": [
    "n, m = 5, 5\n",
    "41**(5*5)"
   ]
  },
  {
   "cell_type": "code",
   "execution_count": 182,
   "metadata": {
    "ExecuteTime": {
     "end_time": "2021-02-28T19:57:57.996067Z",
     "start_time": "2021-02-28T19:57:57.994053Z"
    }
   },
   "outputs": [],
   "source": [
    "import math"
   ]
  },
  {
   "cell_type": "code",
   "execution_count": 183,
   "metadata": {
    "ExecuteTime": {
     "end_time": "2021-02-28T19:58:18.792646Z",
     "start_time": "2021-02-28T19:58:18.788666Z"
    }
   },
   "outputs": [
    {
     "data": {
      "text/plain": [
       "40.31959641799339"
      ]
     },
     "execution_count": 183,
     "metadata": {},
     "output_type": "execute_result"
    }
   ],
   "source": [
    "math.log10(41**(5*5))"
   ]
  },
  {
   "cell_type": "markdown",
   "metadata": {},
   "source": [
    "For a grid of size $(5,5)$, the number of different possible grids is about $10^{40}$, that is CRAZY large, we have no hope of solving this problem with a brute force approach.\n",
    "\n",
    "How much time would that require, just to generate the grids?"
   ]
  },
  {
   "cell_type": "code",
   "execution_count": 189,
   "metadata": {
    "ExecuteTime": {
     "end_time": "2021-02-28T20:02:41.012964Z",
     "start_time": "2021-02-28T20:02:41.008355Z"
    }
   },
   "outputs": [
    {
     "data": {
      "text/plain": [
       "4.9e+22"
      ]
     },
     "execution_count": 189,
     "metadata": {},
     "output_type": "execute_result"
    }
   ],
   "source": [
    "s = 7\n",
    "estimate_of_running_time = 7*s * len(alphabet1)**(5*5) / len(alphabet1)**(2*2)\n",
    "estimate_of_running_time  # in seconds"
   ]
  },
  {
   "cell_type": "markdown",
   "metadata": {},
   "source": [
    "This rough estimate gives about $5 * 10^{22}$ seconds, about $10^{15}$ years, so about a million of billion years !"
   ]
  },
  {
   "cell_type": "code",
   "execution_count": 191,
   "metadata": {
    "ExecuteTime": {
     "end_time": "2021-02-28T20:03:06.048755Z",
     "start_time": "2021-02-28T20:03:06.044383Z"
    }
   },
   "outputs": [
    {
     "data": {
      "text/plain": [
       "15.191389473093146"
      ]
     },
     "execution_count": 191,
     "metadata": {},
     "output_type": "execute_result"
    }
   ],
   "source": [
    "math.log10( estimate_of_running_time / (60*60*24*365) )"
   ]
  },
  {
   "cell_type": "markdown",
   "metadata": {},
   "source": [
    "## First difficult task: for each possible grid, check if its valid "
   ]
  },
  {
   "cell_type": "code",
   "execution_count": 170,
   "metadata": {
    "ExecuteTime": {
     "end_time": "2021-02-28T19:50:09.626288Z",
     "start_time": "2021-02-28T19:50:09.621472Z"
    }
   },
   "outputs": [],
   "source": [
    "def naive_solve(problem, alphabet, debug=False, early=True):\n",
    "    n, m = dimension_problem(problem)\n",
    "    good_grids = []\n",
    "    for possible_grid in all_grids_of_alphabet(alphabet, n, m):\n",
    "        is_good_grid = check_grid(problem, alphabet, possible_grid, debug=debug, early=early)\n",
    "        if is_good_grid:\n",
    "            if early:\n",
    "                return [ possible_grid ]\n",
    "            good_grids.append(possible_grid)\n",
    "    return good_grids"
   ]
  },
  {
   "cell_type": "markdown",
   "metadata": {},
   "source": [
    "Let's try it!"
   ]
  },
  {
   "cell_type": "markdown",
   "metadata": {},
   "source": [
    "### Solving the easy problem"
   ]
  },
  {
   "cell_type": "markdown",
   "metadata": {},
   "source": [
    "Let's check that we can quickly find *one* solution:"
   ]
  },
  {
   "cell_type": "code",
   "execution_count": 172,
   "metadata": {
    "ExecuteTime": {
     "end_time": "2021-02-28T19:53:55.555561Z",
     "start_time": "2021-02-28T19:53:55.502139Z"
    }
   },
   "outputs": [
    {
     "name": "stdout",
     "output_type": "stream",
     "text": [
      "For problem 1\n",
      "{'left_lines': ['HE|LL|O+', '[PLEASE]+'], 'right_lines': None, 'top_columns': ['[^SPEAK]+', 'EP|IP|EF'], 'bottom_columns': None}\n",
      "On alphabet\n",
      "{'O', 'P', 'H', 'L', 'I', 'S', 'E', 'A', 'F', 'K'}\n",
      "==> We found one solution:\n",
      "[[['H', 'E'], ['L', 'P']]]\n",
      "CPU times: user 49 ms, sys: 109 µs, total: 49.1 ms\n",
      "Wall time: 48.1 ms\n"
     ]
    }
   ],
   "source": [
    "%%time\n",
    "good_grids1 = naive_solve(problem1, alphabet1, debug=False, early=True)\n",
    "\n",
    "print(f\"For problem 1\\n{problem1}\\nOn alphabet\\n{alphabet1}\\n==> We found one solution:\\n{good_grids1}\")"
   ]
  },
  {
   "cell_type": "markdown",
   "metadata": {},
   "source": [
    "Then can we find more solutions?"
   ]
  },
  {
   "cell_type": "code",
   "execution_count": 173,
   "metadata": {
    "ExecuteTime": {
     "end_time": "2021-02-28T19:54:39.605540Z",
     "start_time": "2021-02-28T19:54:39.440331Z"
    }
   },
   "outputs": [
    {
     "name": "stdout",
     "output_type": "stream",
     "text": [
      "For problem 1\n",
      "{'left_lines': ['HE|LL|O+', '[PLEASE]+'], 'right_lines': None, 'top_columns': ['[^SPEAK]+', 'EP|IP|EF'], 'bottom_columns': None}\n",
      "On alphabet\n",
      "{'O', 'P', 'H', 'L', 'I', 'S', 'E', 'A', 'F', 'K'}\n",
      "==> We found these solutions:\n",
      "[[['H', 'E'], ['L', 'P']]]\n",
      "CPU times: user 155 ms, sys: 6.88 ms, total: 162 ms\n",
      "Wall time: 161 ms\n"
     ]
    }
   ],
   "source": [
    "%%time\n",
    "good_grids1 = naive_solve(problem1, alphabet1, debug=False, early=False)\n",
    "\n",
    "print(f\"For problem 1\\n{problem1}\\nOn alphabet\\n{alphabet1}\\n==> We found these solutions:\\n{good_grids1}\")"
   ]
  },
  {
   "cell_type": "markdown",
   "metadata": {},
   "source": [
    "No there is indeed a unique solution here for the first \"easy\" problem!"
   ]
  },
  {
   "cell_type": "markdown",
   "metadata": {},
   "source": [
    "### Solving the hard problem\n",
    "\n",
    "Most probably, it will run forever if I use the naive approach of:\n",
    "\n",
    "- generate all grids of $m$ words of size $n$ in given alphabet $\\Sigma$ ;\n",
    "- for all grid:\n",
    "    + test it using naive algorithm\n",
    "    + if it's valid: adds it to the list of good grids\n",
    "\n",
    "There are $|\\Sigma|^{n \\times m}$ possible grids, so this approach is doubly exponential in $n$ for square grids.\n",
    "\n",
    "I must think of a better approach...\n",
    "Being just exponential in $\\max(m, n)$ would imply that it's practical for the harder problem of size $(5,5)$."
   ]
  },
  {
   "cell_type": "code",
   "execution_count": 192,
   "metadata": {
    "ExecuteTime": {
     "end_time": "2021-02-28T20:13:50.218005Z",
     "start_time": "2021-02-28T20:13:36.668666Z"
    }
   },
   "outputs": [
    {
     "ename": "KeyboardInterrupt",
     "evalue": "",
     "output_type": "error",
     "traceback": [
      "\u001b[0;31m-------------------------------------------------------------------\u001b[0m",
      "\u001b[0;31mKeyboardInterrupt\u001b[0m                 Traceback (most recent call last)",
      "\u001b[0;32m<timed exec>\u001b[0m in \u001b[0;36m<module>\u001b[0;34m\u001b[0m\n",
      "\u001b[0;32m<ipython-input-170-3cd60b633370>\u001b[0m in \u001b[0;36mnaive_solve\u001b[0;34m(problem, alphabet, debug, early)\u001b[0m\n\u001b[1;32m      2\u001b[0m     \u001b[0mn\u001b[0m\u001b[0;34m,\u001b[0m \u001b[0mm\u001b[0m \u001b[0;34m=\u001b[0m \u001b[0mdimension_problem\u001b[0m\u001b[0;34m(\u001b[0m\u001b[0mproblem\u001b[0m\u001b[0;34m)\u001b[0m\u001b[0;34m\u001b[0m\u001b[0;34m\u001b[0m\u001b[0m\n\u001b[1;32m      3\u001b[0m     \u001b[0mgood_grids\u001b[0m \u001b[0;34m=\u001b[0m \u001b[0;34m[\u001b[0m\u001b[0;34m]\u001b[0m\u001b[0;34m\u001b[0m\u001b[0;34m\u001b[0m\u001b[0m\n\u001b[0;32m----> 4\u001b[0;31m     \u001b[0;32mfor\u001b[0m \u001b[0mpossible_grid\u001b[0m \u001b[0;32min\u001b[0m \u001b[0mall_grids_of_alphabet\u001b[0m\u001b[0;34m(\u001b[0m\u001b[0malphabet\u001b[0m\u001b[0;34m,\u001b[0m \u001b[0mn\u001b[0m\u001b[0;34m,\u001b[0m \u001b[0mm\u001b[0m\u001b[0;34m)\u001b[0m\u001b[0;34m:\u001b[0m\u001b[0;34m\u001b[0m\u001b[0;34m\u001b[0m\u001b[0m\n\u001b[0m\u001b[1;32m      5\u001b[0m         \u001b[0mis_good_grid\u001b[0m \u001b[0;34m=\u001b[0m \u001b[0mcheck_grid\u001b[0m\u001b[0;34m(\u001b[0m\u001b[0mproblem\u001b[0m\u001b[0;34m,\u001b[0m \u001b[0malphabet\u001b[0m\u001b[0;34m,\u001b[0m \u001b[0mpossible_grid\u001b[0m\u001b[0;34m,\u001b[0m \u001b[0mdebug\u001b[0m\u001b[0;34m=\u001b[0m\u001b[0mdebug\u001b[0m\u001b[0;34m,\u001b[0m \u001b[0mearly\u001b[0m\u001b[0;34m=\u001b[0m\u001b[0mearly\u001b[0m\u001b[0;34m)\u001b[0m\u001b[0;34m\u001b[0m\u001b[0;34m\u001b[0m\u001b[0m\n\u001b[1;32m      6\u001b[0m         \u001b[0;32mif\u001b[0m \u001b[0mis_good_grid\u001b[0m\u001b[0;34m:\u001b[0m\u001b[0;34m\u001b[0m\u001b[0;34m\u001b[0m\u001b[0m\n",
      "\u001b[0;32m<ipython-input-161-8aea88f3c7d0>\u001b[0m in \u001b[0;36mall_grids_of_alphabet\u001b[0;34m(alphabet, lines, columns)\u001b[0m\n\u001b[1;32m      1\u001b[0m \u001b[0;32mdef\u001b[0m \u001b[0mall_grids_of_alphabet\u001b[0m\u001b[0;34m(\u001b[0m\u001b[0malphabet\u001b[0m\u001b[0;34m,\u001b[0m \u001b[0mlines\u001b[0m\u001b[0;34m,\u001b[0m \u001b[0mcolumns\u001b[0m\u001b[0;34m)\u001b[0m\u001b[0;34m:\u001b[0m\u001b[0;34m\u001b[0m\u001b[0;34m\u001b[0m\u001b[0m\n\u001b[0;32m----> 2\u001b[0;31m     \u001b[0mall_words\u001b[0m \u001b[0;34m=\u001b[0m \u001b[0mlist\u001b[0m\u001b[0;34m(\u001b[0m\u001b[0mitertools\u001b[0m\u001b[0;34m.\u001b[0m\u001b[0mproduct\u001b[0m\u001b[0;34m(\u001b[0m\u001b[0malphabet\u001b[0m\u001b[0;34m,\u001b[0m \u001b[0mrepeat\u001b[0m\u001b[0;34m=\u001b[0m\u001b[0mcolumns\u001b[0m\u001b[0;34m)\u001b[0m\u001b[0;34m)\u001b[0m\u001b[0;34m\u001b[0m\u001b[0;34m\u001b[0m\u001b[0m\n\u001b[0m\u001b[1;32m      3\u001b[0m     \u001b[0mall_words\u001b[0m \u001b[0;34m=\u001b[0m \u001b[0;34m[\u001b[0m \u001b[0;34m\"\"\u001b[0m\u001b[0;34m.\u001b[0m\u001b[0mjoin\u001b[0m\u001b[0;34m(\u001b[0m\u001b[0mwords\u001b[0m\u001b[0;34m)\u001b[0m \u001b[0;32mfor\u001b[0m \u001b[0mwords\u001b[0m \u001b[0;32min\u001b[0m \u001b[0mall_words\u001b[0m \u001b[0;34m]\u001b[0m\u001b[0;34m\u001b[0m\u001b[0;34m\u001b[0m\u001b[0m\n\u001b[1;32m      4\u001b[0m     \u001b[0mall_grids\u001b[0m \u001b[0;34m=\u001b[0m \u001b[0mitertools\u001b[0m\u001b[0;34m.\u001b[0m\u001b[0mproduct\u001b[0m\u001b[0;34m(\u001b[0m\u001b[0mall_words\u001b[0m\u001b[0;34m,\u001b[0m \u001b[0mrepeat\u001b[0m\u001b[0;34m=\u001b[0m\u001b[0mlines\u001b[0m\u001b[0;34m)\u001b[0m\u001b[0;34m\u001b[0m\u001b[0;34m\u001b[0m\u001b[0m\n\u001b[1;32m      5\u001b[0m     \u001b[0;32mfor\u001b[0m \u001b[0mpre_tr_grid\u001b[0m \u001b[0;32min\u001b[0m \u001b[0mall_grids\u001b[0m\u001b[0;34m:\u001b[0m\u001b[0;34m\u001b[0m\u001b[0;34m\u001b[0m\u001b[0m\n",
      "\u001b[0;31mKeyboardInterrupt\u001b[0m: "
     ]
    }
   ],
   "source": [
    "%%time\n",
    "good_grids2 = naive_solve(problem2, alphabet2, debug=False, early=True)\n",
    "\n",
    "print(f\"For problem 2\\n{problem2}\\nOn alphabet\\n{alphabet2}\\n==> We found one solution:\\n{good_grids2}\")"
   ]
  },
  {
   "cell_type": "markdown",
   "metadata": {},
   "source": [
    "My first idea was to try to tackle each constraint independently, and generate the set of words that satisfy this contraint. (by naively checking `check(constraint, word)` for each word in $\\Sigma^n$ or $\\Sigma^m$).\n",
    "\n",
    "- if there are two line constraints (left/right), get the intersection of the two sets of words;\n",
    "- then, *for each* line we have a set of possible words:\n",
    "    + we can build each column, and then check that the top/bottom constraint is valid or not\n",
    "    + if valid, continue to next column until the last\n",
    "    + if all columns are valid, then these lines/columns form a possible grid!\n",
    "    + (if we want only one solution, stop now, otherwise continue)"
   ]
  },
  {
   "cell_type": "markdown",
   "metadata": {},
   "source": [
    "## Second difficult task: a more efficient approach to solve any problem"
   ]
  },
  {
   "cell_type": "code",
   "execution_count": 193,
   "metadata": {
    "ExecuteTime": {
     "end_time": "2021-02-28T20:16:34.604855Z",
     "start_time": "2021-02-28T20:16:34.601972Z"
    }
   },
   "outputs": [],
   "source": [
    "n, m = dimension_problem(problem1)"
   ]
  },
  {
   "cell_type": "code",
   "execution_count": 194,
   "metadata": {
    "ExecuteTime": {
     "end_time": "2021-02-28T20:16:54.926426Z",
     "start_time": "2021-02-28T20:16:54.922657Z"
    }
   },
   "outputs": [
    {
     "data": {
      "text/plain": [
       "{'left_lines': ['HE|LL|O+', '[PLEASE]+'],\n",
       " 'right_lines': None,\n",
       " 'top_columns': ['[^SPEAK]+', 'EP|IP|EF'],\n",
       " 'bottom_columns': None}"
      ]
     },
     "execution_count": 194,
     "metadata": {},
     "output_type": "execute_result"
    }
   ],
   "source": [
    "problem1"
   ]
  },
  {
   "cell_type": "code",
   "execution_count": 195,
   "metadata": {
    "ExecuteTime": {
     "end_time": "2021-02-28T20:17:14.324935Z",
     "start_time": "2021-02-28T20:17:14.319083Z"
    }
   },
   "outputs": [
    {
     "data": {
      "text/plain": [
       "{'A', 'E', 'F', 'H', 'I', 'K', 'L', 'O', 'P', 'S'}"
      ]
     },
     "execution_count": 195,
     "metadata": {},
     "output_type": "execute_result"
    }
   ],
   "source": [
    "alphabet1"
   ]
  },
  {
   "cell_type": "code",
   "execution_count": 199,
   "metadata": {
    "ExecuteTime": {
     "end_time": "2021-02-28T20:18:47.850967Z",
     "start_time": "2021-02-28T20:18:47.847455Z"
    }
   },
   "outputs": [
    {
     "data": {
      "text/plain": [
       "100"
      ]
     },
     "execution_count": 199,
     "metadata": {},
     "output_type": "execute_result"
    }
   ],
   "source": [
    "len(list(all_words_of_alphabet(alphabet1, n)))"
   ]
  },
  {
   "cell_type": "code",
   "execution_count": 205,
   "metadata": {
    "ExecuteTime": {
     "end_time": "2021-02-28T20:21:06.600829Z",
     "start_time": "2021-02-28T20:21:06.596542Z"
    }
   },
   "outputs": [
    {
     "data": {
      "text/plain": [
       "['OO', 'OP', 'OH', 'OL', 'OI', 'OS', 'OE', 'OA', 'OF', 'OK']"
      ]
     },
     "execution_count": 205,
     "metadata": {},
     "output_type": "execute_result"
    }
   ],
   "source": [
    "[\"\".join(word) for word in list(all_words_of_alphabet(alphabet1, n))][:10]"
   ]
  },
  {
   "cell_type": "code",
   "execution_count": 207,
   "metadata": {
    "ExecuteTime": {
     "end_time": "2021-02-28T20:22:57.840709Z",
     "start_time": "2021-02-28T20:22:57.832335Z"
    }
   },
   "outputs": [
    {
     "data": {
      "text/plain": [
       "[['OO', 'HE', 'LL'],\n",
       " ['PP',\n",
       "  'PL',\n",
       "  'PS',\n",
       "  'PE',\n",
       "  'PA',\n",
       "  'LP',\n",
       "  'LL',\n",
       "  'LS',\n",
       "  'LE',\n",
       "  'LA',\n",
       "  'SP',\n",
       "  'SL',\n",
       "  'SS',\n",
       "  'SE',\n",
       "  'SA',\n",
       "  'EP',\n",
       "  'EL',\n",
       "  'ES',\n",
       "  'EE',\n",
       "  'EA',\n",
       "  'AP',\n",
       "  'AL',\n",
       "  'AS',\n",
       "  'AE',\n",
       "  'AA']]"
      ]
     },
     "execution_count": 207,
     "metadata": {},
     "output_type": "execute_result"
    }
   ],
   "source": [
    "[\n",
    "    [ \"\".join(word)\n",
    "         for word in all_words_of_alphabet(alphabet1, n)\n",
    "         if check_line(problem1, alphabet1, \"\".join(word), line, debug=False, early=True)\n",
    "    ]\n",
    "    for line in range(m)\n",
    "]"
   ]
  },
  {
   "cell_type": "code",
   "execution_count": 208,
   "metadata": {
    "ExecuteTime": {
     "end_time": "2021-02-28T20:23:22.246107Z",
     "start_time": "2021-02-28T20:23:22.237391Z"
    }
   },
   "outputs": [
    {
     "data": {
      "text/plain": [
       "[['OO',\n",
       "  'OH',\n",
       "  'OL',\n",
       "  'OI',\n",
       "  'OF',\n",
       "  'HO',\n",
       "  'HH',\n",
       "  'HL',\n",
       "  'HI',\n",
       "  'HF',\n",
       "  'LO',\n",
       "  'LH',\n",
       "  'LL',\n",
       "  'LI',\n",
       "  'LF',\n",
       "  'IO',\n",
       "  'IH',\n",
       "  'IL',\n",
       "  'II',\n",
       "  'IF',\n",
       "  'FO',\n",
       "  'FH',\n",
       "  'FL',\n",
       "  'FI',\n",
       "  'FF'],\n",
       " ['IP', 'EP', 'EF']]"
      ]
     },
     "execution_count": 208,
     "metadata": {},
     "output_type": "execute_result"
    }
   ],
   "source": [
    "[\n",
    "    [ \"\".join(word)\n",
    "         for word in all_words_of_alphabet(alphabet1, m)\n",
    "         if check_column(problem1, alphabet1, \"\".join(word), column, debug=False, early=True)\n",
    "    ]\n",
    "    for column in range(n)\n",
    "]"
   ]
  },
  {
   "cell_type": "markdown",
   "metadata": {},
   "source": [
    "So let's write this algorithm:"
   ]
  },
  {
   "cell_type": "code",
   "execution_count": 248,
   "metadata": {
    "ExecuteTime": {
     "end_time": "2021-02-28T20:54:35.450221Z",
     "start_time": "2021-02-28T20:54:35.438555Z"
    }
   },
   "outputs": [],
   "source": [
    "def smart_solve(problem, alphabet, debug=False, early=True):\n",
    "    n, m = dimension_problem(problem)\n",
    "    good_grids = []\n",
    "    \n",
    "    possible_words_for_lines = [\n",
    "        [ \"\".join(word)\n",
    "             for word in all_words_of_alphabet(alphabet, n)\n",
    "             if check_line(problem, alphabet, \"\".join(word), line, debug=False, early=True)\n",
    "             # TODO don't compute this \"\".join(word) twice?\n",
    "        ]\n",
    "        for line in range(m)\n",
    "    ]\n",
    "    number_of_combinations = 1\n",
    "    for line in range(m):\n",
    "        number_of_combinations *= len(possible_words_for_lines[line])\n",
    "        print(f\"- There are {len(possible_words_for_lines[line])} different words for line #{line}\")\n",
    "    print(f\"=> There are {number_of_combinations} combinations of words for lines #{0}..#{m-1}\")\n",
    "\n",
    "    for possible_words in itertools.product(*possible_words_for_lines):\n",
    "        if debug: print(f\"    Trying possible_words from line constraints = {possible_words}\")\n",
    "        column = 0\n",
    "        no_wrong_column = True\n",
    "        while no_wrong_column and column < n:\n",
    "            word_column = \"\".join(possible_words[line][column] for line in range(m))\n",
    "            if debug: print(f\"       For column #{column}, word = {word_column}, checking constraint...\")\n",
    "            if not check_column(problem, alphabet, word_column, column, debug=False, early=True):\n",
    "                # this word is NOT valid for this column, so let's go to the next word\n",
    "                if debug: print(f\"    This word {word_column} is NOT valid for this column {column}, so let's go to the next word\")\n",
    "                no_wrong_column = False\n",
    "                # break: this was failing... broke the outer for-loop and not the inner one\n",
    "            column += 1\n",
    "        if no_wrong_column:\n",
    "            print(f\"    These words seemed to satisfy the column constraints!\\n{possible_words}\")\n",
    "            \n",
    "            # so all columns are valid! this choice of words is good!\n",
    "            possible_grid = [\n",
    "                list(word) for word in possible_words\n",
    "            ]\n",
    "            print(f\"Giving this grid:\\n{possible_grid}\")\n",
    "            # let's check it, just in case (this takes a short time, compared to the rest)\n",
    "            is_good_grid = check_grid(problem, alphabet, possible_grid, debug=debug, early=early)\n",
    "            if is_good_grid:\n",
    "                if early:\n",
    "                    return [ possible_grid ]\n",
    "                good_grids.append(possible_grid)\n",
    "    \n",
    "    # after the outer for loop on possible_words\n",
    "    return good_grids"
   ]
  },
  {
   "cell_type": "markdown",
   "metadata": {},
   "source": [
    "And let's try it:"
   ]
  },
  {
   "cell_type": "markdown",
   "metadata": {},
   "source": [
    "### For the easy problem"
   ]
  },
  {
   "cell_type": "code",
   "execution_count": null,
   "metadata": {
    "ExecuteTime": {
     "start_time": "2021-02-28T20:54:38.932Z"
    }
   },
   "outputs": [],
   "source": [
    "grid1_solution"
   ]
  },
  {
   "cell_type": "code",
   "execution_count": null,
   "metadata": {
    "ExecuteTime": {
     "start_time": "2021-02-28T20:54:39.936Z"
    },
    "scrolled": false
   },
   "outputs": [],
   "source": [
    "%%time\n",
    "good_grids1 = smart_solve(problem1, alphabet1)\n",
    "\n",
    "good_grids1"
   ]
  },
  {
   "cell_type": "markdown",
   "metadata": {},
   "source": [
    "So it worked! Let's try for the harder problem!"
   ]
  },
  {
   "cell_type": "markdown",
   "metadata": {},
   "source": [
    "### For the harder problem"
   ]
  },
  {
   "cell_type": "code",
   "execution_count": null,
   "metadata": {
    "ExecuteTime": {
     "start_time": "2021-02-28T20:40:27.293Z"
    }
   },
   "outputs": [],
   "source": [
    "%%time\n",
    "assert False  # uncomment when ready\n",
    "good_grids2 = smart_solve(problem2, alphabet2)\n",
    "\n",
    "good_grids2"
   ]
  },
  {
   "cell_type": "markdown",
   "metadata": {},
   "source": [
    "## Improve the solution - TODO\n",
    "\n",
    "> If you're extra curious about this puzzle problem, and my experiments, you can continue from here and finish these ideas:\n",
    "\n",
    "- It could be great if it were be possible to give a partially filled grid, and start from there.\n",
    "\n",
    "- It could also be great to just be able to fill *one* cell in the grid, in case you're blocked and want some hint."
   ]
  },
  {
   "cell_type": "markdown",
   "metadata": {
    "slideshow": {
     "slide_type": "slide"
    },
    "tags": []
   },
   "source": [
    "## My feeling about these problems and my solutions\n",
    "\n",
    "I could have tried to be more efficient, but I didn't have much time to spend on this."
   ]
  },
  {
   "cell_type": "markdown",
   "metadata": {
    "slideshow": {
     "slide_type": "slide"
    },
    "tags": []
   },
   "source": [
    "## Conclusion\n",
    "\n",
    "That was nice!\n",
    "\n",
    "Have a look at [my other notebooks](https://GitHub.com/Naereen/notebooks/)."
   ]
  }
 ],
 "metadata": {
  "kernelspec": {
   "display_name": "Python 3",
   "language": "python",
   "name": "python3"
  },
  "language_info": {
   "codemirror_mode": {
    "name": "ipython",
    "version": 3
   },
   "file_extension": ".py",
   "mimetype": "text/x-python",
   "name": "python",
   "nbconvert_exporter": "python",
   "pygments_lexer": "ipython3",
   "version": "3.6.9"
  },
  "toc": {
   "base_numbering": 1,
   "nav_menu": {},
   "number_sections": true,
   "sideBar": true,
   "skip_h1_title": false,
   "title_cell": "Table of Contents",
   "title_sidebar": "Contents",
   "toc_cell": false,
   "toc_position": {
    "height": "calc(100% - 180px)",
    "left": "10px",
    "top": "150px",
    "width": "288px"
   },
   "toc_section_display": true,
   "toc_window_display": true
  },
  "toc-autonumbering": true,
  "toc-showcode": true,
  "toc-showmarkdowntxt": false,
  "toc-showtags": false,
  "varInspector": {
   "cols": {
    "lenName": 16,
    "lenType": 16,
    "lenVar": 40
   },
   "kernels_config": {
    "python": {
     "delete_cmd_postfix": "",
     "delete_cmd_prefix": "del ",
     "library": "var_list.py",
     "varRefreshCmd": "print(var_dic_list())"
    },
    "r": {
     "delete_cmd_postfix": ") ",
     "delete_cmd_prefix": "rm(",
     "library": "var_list.r",
     "varRefreshCmd": "cat(var_dic_list()) "
    }
   },
   "types_to_exclude": [
    "module",
    "function",
    "builtin_function_or_method",
    "instance",
    "_Feature"
   ],
   "window_display": false
  }
 },
 "nbformat": 4,
 "nbformat_minor": 4
}
