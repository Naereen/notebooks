{
 "cells": [
  {
   "cell_type": "markdown",
   "metadata": {},
   "source": [
    "# Combien de numéros de mobiles français sont des nombres premiers ?\n",
    "\n",
    "A question simple, réponse simple :"
   ]
  },
  {
   "cell_type": "markdown",
   "metadata": {},
   "source": [
    "## Dépendances"
   ]
  },
  {
   "cell_type": "code",
   "execution_count": 1,
   "metadata": {
    "ExecuteTime": {
     "end_time": "2021-04-06T08:43:18.264964Z",
     "start_time": "2021-04-06T08:43:17.873249Z"
    }
   },
   "outputs": [],
   "source": [
    "from sympy import isprime"
   ]
  },
  {
   "cell_type": "code",
   "execution_count": 11,
   "metadata": {
    "ExecuteTime": {
     "end_time": "2021-04-06T08:43:55.659023Z",
     "start_time": "2021-04-06T08:43:55.647147Z"
    }
   },
   "outputs": [
    {
     "name": "stdout",
     "output_type": "stream",
     "text": [
      "\n",
      "    Test if n is a prime number (True) or not (False). For n < 2^64 the\n",
      "    answer is definitive; larger n values have a small probability of actually\n",
      "    being pseudoprimes.\n",
      "\n",
      "   \n"
     ]
    }
   ],
   "source": [
    "print(isprime.__doc__[:180])"
   ]
  },
  {
   "cell_type": "markdown",
   "metadata": {},
   "source": [
    "## Réponse"
   ]
  },
  {
   "cell_type": "code",
   "execution_count": 22,
   "metadata": {
    "ExecuteTime": {
     "end_time": "2021-04-06T08:47:46.153997Z",
     "start_time": "2021-04-06T08:47:46.145266Z"
    }
   },
   "outputs": [],
   "source": [
    "first_number = 6_00_00_00_00\n",
    "last_number = 7_99_99_99_99\n",
    "\n",
    "# test rapide\n",
    "#last_number = first_number + 20\n",
    "\n",
    "all_numbers = range(first_number, last_number + 1)"
   ]
  },
  {
   "cell_type": "code",
   "execution_count": 23,
   "metadata": {
    "ExecuteTime": {
     "end_time": "2021-04-06T08:47:46.507703Z",
     "start_time": "2021-04-06T08:47:46.501670Z"
    }
   },
   "outputs": [],
   "source": [
    "def count_prime_numbers_in_range(some_range):\n",
    "    count = 0\n",
    "    for number in some_range:\n",
    "        if isprime(number):\n",
    "            count += 1\n",
    "    return count"
   ]
  },
  {
   "cell_type": "markdown",
   "metadata": {},
   "source": [
    "## Conclusion"
   ]
  },
  {
   "cell_type": "code",
   "execution_count": 24,
   "metadata": {
    "ExecuteTime": {
     "end_time": "2021-04-06T08:53:40.727283Z",
     "start_time": "2021-04-06T08:47:47.355802Z"
    }
   },
   "outputs": [
    {
     "name": "stdout",
     "output_type": "stream",
     "text": [
      "Pour des numéros de téléphones, nombres entre 600000000 et 799999999 (inclus), il y a 9821476 nombres premiers.\n"
     ]
    }
   ],
   "source": [
    "count = count_prime_numbers_in_range(all_numbers)\n",
    "\n",
    "print(f\"Pour des numéros de téléphones, nombres entre {first_number} et {last_number} (inclus), il y a {count} nombres premiers.\")"
   ]
  },
  {
   "cell_type": "markdown",
   "metadata": {},
   "source": [
    "Et donc, on peut calculer la part de nombres premiers parmi les numéros de téléphones mobiles français.\n",
    "De souvenir, c'était environ 5.1%, vérifions :"
   ]
  },
  {
   "cell_type": "code",
   "execution_count": 25,
   "metadata": {
    "ExecuteTime": {
     "end_time": "2021-04-06T08:53:40.740352Z",
     "start_time": "2021-04-06T08:53:40.737666Z"
    }
   },
   "outputs": [
    {
     "name": "stdout",
     "output_type": "stream",
     "text": [
      "Pour des numéros de téléphones, nombres entre 600000000 et 799999999 (inclus), il y a 4.910738% nombres premiers.\n"
     ]
    }
   ],
   "source": [
    "total_number = len(all_numbers)\n",
    "\n",
    "print(f\"Pour des numéros de téléphones, nombres entre {first_number} et {last_number} (inclus), il y a {count/total_number:%} nombres premiers.\")"
   ]
  },
  {
   "cell_type": "markdown",
   "metadata": {},
   "source": [
    "Et voilà, c'était simple !"
   ]
  }
 ],
 "metadata": {
  "kernelspec": {
   "display_name": "Python 3",
   "language": "python",
   "name": "python3"
  },
  "language_info": {
   "codemirror_mode": {
    "name": "ipython",
    "version": 3
   },
   "file_extension": ".py",
   "mimetype": "text/x-python",
   "name": "python",
   "nbconvert_exporter": "python",
   "pygments_lexer": "ipython3",
   "version": "3.6.9"
  },
  "toc": {
   "base_numbering": 1,
   "nav_menu": {},
   "number_sections": true,
   "sideBar": true,
   "skip_h1_title": false,
   "title_cell": "Table of Contents",
   "title_sidebar": "Contents",
   "toc_cell": false,
   "toc_position": {},
   "toc_section_display": true,
   "toc_window_display": false
  },
  "varInspector": {
   "cols": {
    "lenName": 16,
    "lenType": 16,
    "lenVar": 40
   },
   "kernels_config": {
    "python": {
     "delete_cmd_postfix": "",
     "delete_cmd_prefix": "del ",
     "library": "var_list.py",
     "varRefreshCmd": "print(var_dic_list())"
    },
    "r": {
     "delete_cmd_postfix": ") ",
     "delete_cmd_prefix": "rm(",
     "library": "var_list.r",
     "varRefreshCmd": "cat(var_dic_list()) "
    }
   },
   "types_to_exclude": [
    "module",
    "function",
    "builtin_function_or_method",
    "instance",
    "_Feature"
   ],
   "window_display": false
  }
 },
 "nbformat": 4,
 "nbformat_minor": 4
}
